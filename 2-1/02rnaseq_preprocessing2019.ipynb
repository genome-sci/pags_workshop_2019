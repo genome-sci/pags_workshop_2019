{
 "cells": [
  {
   "cell_type": "markdown",
   "metadata": {},
   "source": [
    "## 3. RNA-seqカウントデータの前処理\n",
    "ここからは実際のRNA-seqカウントデータを使います。"
   ]
  },
  {
   "cell_type": "markdown",
   "metadata": {},
   "source": [
    "#### RNA-seqとは\n",
    "RNA-seqとは, 細胞中のmRNAやmiRNAの配列をシーケンスして、発現量の定量や新規転写産物の同定を行う手法です。<br>\n",
    "シーケンスで得られたデータ（リード）は, 以下のようなステップで解析します。<br>\n",
    "1. リードのトリミング\n",
    "2. ゲノム配列へのマッピング\n",
    "3. マッピングされたリード数を数える\n",
    "4. サンプル毎の総リード数の違いや、遺伝子配列長の違いを補正（正規化） \n",
    "5. 遺伝子毎の発現量を同定、比較\n",
    "\n",
    "本講義では上記ステップのうち4以降を扱います。"
   ]
  },
  {
   "cell_type": "markdown",
   "metadata": {},
   "source": [
    "####  本講義で用いるRNA-seqデータについて\n",
    "本講義では, 異なる2条件で培養された酵母のRNA-seqデータを使用します。<br>\n",
    "\n",
    "Intawat Nookaew, Marta Papini, Natapol Pornputtapong, Gionata Scalcinati, Linn Fagerberg, Matthias Uhlén, Jens Nielsen, A comprehensive comparison of RNA-Seq-based transcriptome analysis from reads to differential gene expression and cross-comparison with microarrays: a case study in Saccharomyces cerevisiae, Nucleic Acids Research, Volume 40, Issue 20, 1 November 2012, Pages 10084–10097, https://doi.org/10.1093/nar/gks804 <br>\n",
    "\n",
    "このRNA-seqデータはDDBJのSRAデータベース（ https://www.ddbj.nig.ac.jp/dra/index.html ）に アクセッション番号 SRR453566 ~ SRR453571 としてアーカイブされています。SRR453566 ~ SRR453568 の3つはBatch培養（通常のグルコース濃度培地）のサンプルから得られたデータ, SRR453569 ~ SRR453571 の3つはChemostat培養（低グルコース濃度培地）のサンプルから得られたデータです。いずれもBiological triplicatesです。このほか, サンプルの詳細は上記の論文を参照してください。<br>\n",
    "\n",
    "アーカイブされたデータをダウンロードして遺伝子ごとのカウントデータにするまでの手順と, 使用したソフトウェアは以下の通りです。<br>\n",
    "\n",
    "1. リードとリファレンスの準備 fastq-dump ver. 2.8.2 ( https://github.com/ncbi/sra-tools )\n",
    "2. リードクオリティチェック FastQC ver. 0.11.8 ( http://www.bioinformatics.babraham.ac.uk/projects/fastqc/ )\n",
    "3. リードの前処理 (リードトリミング、アダプター配列の除去) Trimmomatic ver. 0.38 ( Bolger et al., 2014 )\n",
    "4. リードをリファレンスゲノムにマッピング HISAT2 ver. 2.1.0 ( Kim et al., 2015 )\n",
    "5. 遺伝子毎にリードカウント featureCounts ver. 1.6.2 ( Liao et al., 2014 )\n",
    "\n",
    "時間の関係で, これらの処理の詳しい内容については本講習会では扱いません。実行スクリプトなど, 詳しい内容は「先進ゲノム支援2018年度情報解析講習会（中級者向け）」 ( https://www.genome-sci.jp/lecture20181st )の配布資料をごらんください。"
   ]
  },
  {
   "cell_type": "markdown",
   "metadata": {},
   "source": [
    "__本講義で行うRNA-seqデータの処理__<br>\n",
    "\n",
    "本講義では, 以下のような処理を主にpandasを用いて行います。<br>\n",
    "- データの読み込み\n",
    "- 遺伝子のアノテーション( gene idに対応したproduct )\n",
    "- カウントデータの正規化（ RPM/FPM, FPKM, TPM)\n",
    "- 発現変動遺伝子の抽出\n",
    "- サンプル間のクラスタリング　"
   ]
  },
  {
   "cell_type": "markdown",
   "metadata": {},
   "source": [
    "### 3-1.データファイルの読み込み"
   ]
  },
  {
   "cell_type": "markdown",
   "metadata": {},
   "source": [
    "#### 準備\n",
    "pandas を pd としてインポートします。同様に numpy を np としてインポートします。"
   ]
  },
  {
   "cell_type": "code",
   "execution_count": 2,
   "metadata": {},
   "outputs": [],
   "source": [
    "# pandasのimport\n",
    "import pandas as pd\n",
    "import numpy as np"
   ]
  },
  {
   "cell_type": "markdown",
   "metadata": {},
   "source": [
    "SRR453566 ~ SRR453571 のカウントデータをまとめたファイル ( counts.txt ) のパスを指定します。<br>\n",
    "同様にgene id と description を紐づけたファイル ( gene_id_product.tsv ) のパスも指定します。"
   ]
  },
  {
   "cell_type": "code",
   "execution_count": 3,
   "metadata": {},
   "outputs": [],
   "source": [
    "count_file = 'input/counts.txt'\n",
    "gene_id_product_file = 'input/gene_id_product.tsv'"
   ]
  },
  {
   "cell_type": "markdown",
   "metadata": {},
   "source": [
    "#### カウントデータファイルについて<br>\n",
    "counts.txtを開くと以下のようになっています。<br>\n",
    "```\n",
    "# Program:featureCounts v1.6.2; Command:\"../tools/subread-1.6.2-Linux-x86_64/bin/featureCounts\" \"-p\" \"-T\" \"8\" \"-t\" \"exon\" \"-g\" \"gene_id\" \"-a\" \"../reference/s288c_e.gff\" \"-o\" \"../featurecount/counts.txt\" \"SRR453566.sorted.bam\" \"SRR453567.sorted.bam\" \"SRR453568.sorted.bam\" \"SRR453569.sorted.bam\" \"SRR453570.sorted.bam\" \"SRR453571.sorted.bam\" \n",
    "Geneid  Chr     Start   End     Strand  Length  SRR453566.sorted.bam    SRR453567.sorted.bam    SRR453568.sorted.bam    SRR453569.sorted.bam    SRR453570.sorted.bam    SRR453571.sorted.bam\n",
    "gene_0001       NC_001133.9     1807    2169    -       363     1       3       2       0       0       1\n",
    "gene_0002       NC_001133.9     2480    2707    +       228     0       0       0       0       0       0\n",
    "gene_0003       NC_001133.9     7235    9016    -       1782    0       0       0       0       0       0\n",
    "gene_0004... 以下省略\n",
    "```\n",
    "1行目はfeatureCountsの実行条件が記載されているだけなので無視します。<br>\n",
    "2行目は列タイトルを表すヘッダー行です。<br>\n",
    "3行目以降からがデータ行です。一番左の列が遺伝子idになっているのでこれをインデックスに用います。"
   ]
  },
  {
   "cell_type": "markdown",
   "metadata": {},
   "source": [
    "`pd.read_table()` メソッドの`skiprows`、`index_col`オプションを指定して読み込みます。<br>\n",
    "\n",
    "- skiprows...データフレームに読み込まない行（ファイルの先頭行を0として数える）を数字で指定します。リストで指定することもできます。\n",
    "- index_col...インデックスとして用いる列を数字で指定します。"
   ]
  },
  {
   "cell_type": "code",
   "execution_count": 4,
   "metadata": {},
   "outputs": [],
   "source": [
    "df = pd.read_table(count_file, index_col=0, skiprows=1) \n",
    "# pd.read_table(count_file, index_col=0, header=1)  でも同じ"
   ]
  },
  {
   "cell_type": "markdown",
   "metadata": {},
   "source": [
    "`pd.read_table(path/to/file)` のかわりに`pd.read_csv(path/to/file,sep='\\t') `を用いることもできます。<br>\n",
    "`sep='\\t'`は`delimiter='\\t'` も使えます。"
   ]
  },
  {
   "cell_type": "markdown",
   "metadata": {},
   "source": [
    "#### データの概観\n",
    "データを概観してみましょう。"
   ]
  },
  {
   "cell_type": "code",
   "execution_count": 5,
   "metadata": {},
   "outputs": [
    {
     "data": {
      "text/html": [
       "<div>\n",
       "<style scoped>\n",
       "    .dataframe tbody tr th:only-of-type {\n",
       "        vertical-align: middle;\n",
       "    }\n",
       "\n",
       "    .dataframe tbody tr th {\n",
       "        vertical-align: top;\n",
       "    }\n",
       "\n",
       "    .dataframe thead th {\n",
       "        text-align: right;\n",
       "    }\n",
       "</style>\n",
       "<table border=\"1\" class=\"dataframe\">\n",
       "  <thead>\n",
       "    <tr style=\"text-align: right;\">\n",
       "      <th></th>\n",
       "      <th>Chr</th>\n",
       "      <th>Start</th>\n",
       "      <th>End</th>\n",
       "      <th>Strand</th>\n",
       "      <th>Length</th>\n",
       "      <th>SRR453566.sorted.bam</th>\n",
       "      <th>SRR453567.sorted.bam</th>\n",
       "      <th>SRR453568.sorted.bam</th>\n",
       "      <th>SRR453569.sorted.bam</th>\n",
       "      <th>SRR453570.sorted.bam</th>\n",
       "      <th>SRR453571.sorted.bam</th>\n",
       "    </tr>\n",
       "    <tr>\n",
       "      <th>Geneid</th>\n",
       "      <th></th>\n",
       "      <th></th>\n",
       "      <th></th>\n",
       "      <th></th>\n",
       "      <th></th>\n",
       "      <th></th>\n",
       "      <th></th>\n",
       "      <th></th>\n",
       "      <th></th>\n",
       "      <th></th>\n",
       "      <th></th>\n",
       "    </tr>\n",
       "  </thead>\n",
       "  <tbody>\n",
       "    <tr>\n",
       "      <th>gene_0001</th>\n",
       "      <td>NC_001133.9</td>\n",
       "      <td>1807</td>\n",
       "      <td>2169</td>\n",
       "      <td>-</td>\n",
       "      <td>363</td>\n",
       "      <td>0</td>\n",
       "      <td>2</td>\n",
       "      <td>6</td>\n",
       "      <td>0</td>\n",
       "      <td>0</td>\n",
       "      <td>1</td>\n",
       "    </tr>\n",
       "    <tr>\n",
       "      <th>gene_0002</th>\n",
       "      <td>NC_001133.9</td>\n",
       "      <td>2480</td>\n",
       "      <td>2707</td>\n",
       "      <td>+</td>\n",
       "      <td>228</td>\n",
       "      <td>0</td>\n",
       "      <td>0</td>\n",
       "      <td>0</td>\n",
       "      <td>0</td>\n",
       "      <td>0</td>\n",
       "      <td>0</td>\n",
       "    </tr>\n",
       "    <tr>\n",
       "      <th>gene_0003</th>\n",
       "      <td>NC_001133.9</td>\n",
       "      <td>7235</td>\n",
       "      <td>9016</td>\n",
       "      <td>-</td>\n",
       "      <td>1782</td>\n",
       "      <td>0</td>\n",
       "      <td>0</td>\n",
       "      <td>0</td>\n",
       "      <td>0</td>\n",
       "      <td>0</td>\n",
       "      <td>0</td>\n",
       "    </tr>\n",
       "    <tr>\n",
       "      <th>gene_0004</th>\n",
       "      <td>NC_001133.9</td>\n",
       "      <td>11565</td>\n",
       "      <td>11951</td>\n",
       "      <td>-</td>\n",
       "      <td>387</td>\n",
       "      <td>0</td>\n",
       "      <td>0</td>\n",
       "      <td>0</td>\n",
       "      <td>0</td>\n",
       "      <td>0</td>\n",
       "      <td>0</td>\n",
       "    </tr>\n",
       "    <tr>\n",
       "      <th>gene_0005</th>\n",
       "      <td>NC_001133.9</td>\n",
       "      <td>12046</td>\n",
       "      <td>12426</td>\n",
       "      <td>+</td>\n",
       "      <td>381</td>\n",
       "      <td>2</td>\n",
       "      <td>8</td>\n",
       "      <td>10</td>\n",
       "      <td>6</td>\n",
       "      <td>7</td>\n",
       "      <td>18</td>\n",
       "    </tr>\n",
       "  </tbody>\n",
       "</table>\n",
       "</div>"
      ],
      "text/plain": [
       "                   Chr  Start    End Strand  Length  SRR453566.sorted.bam  \\\n",
       "Geneid                                                                      \n",
       "gene_0001  NC_001133.9   1807   2169      -     363                     0   \n",
       "gene_0002  NC_001133.9   2480   2707      +     228                     0   \n",
       "gene_0003  NC_001133.9   7235   9016      -    1782                     0   \n",
       "gene_0004  NC_001133.9  11565  11951      -     387                     0   \n",
       "gene_0005  NC_001133.9  12046  12426      +     381                     2   \n",
       "\n",
       "           SRR453567.sorted.bam  SRR453568.sorted.bam  SRR453569.sorted.bam  \\\n",
       "Geneid                                                                        \n",
       "gene_0001                     2                     6                     0   \n",
       "gene_0002                     0                     0                     0   \n",
       "gene_0003                     0                     0                     0   \n",
       "gene_0004                     0                     0                     0   \n",
       "gene_0005                     8                    10                     6   \n",
       "\n",
       "           SRR453570.sorted.bam  SRR453571.sorted.bam  \n",
       "Geneid                                                 \n",
       "gene_0001                     0                     1  \n",
       "gene_0002                     0                     0  \n",
       "gene_0003                     0                     0  \n",
       "gene_0004                     0                     0  \n",
       "gene_0005                     7                    18  "
      ]
     },
     "execution_count": 5,
     "metadata": {},
     "output_type": "execute_result"
    }
   ],
   "source": [
    "df.head()"
   ]
  },
  {
   "cell_type": "code",
   "execution_count": 6,
   "metadata": {},
   "outputs": [
    {
     "data": {
      "text/plain": [
       "Geneid\n",
       "gene_0001     1807\n",
       "gene_0002     2480\n",
       "gene_0003     7235\n",
       "gene_0004    11565\n",
       "gene_0005    12046\n",
       "Name: Start, dtype: object"
      ]
     },
     "execution_count": 6,
     "metadata": {},
     "output_type": "execute_result"
    }
   ],
   "source": [
    "df.Start.head()"
   ]
  },
  {
   "cell_type": "markdown",
   "metadata": {},
   "source": [
    "StartとEndはobject型なので, もしこれらを使って何らかの計算をしたいときは数値型に変換します(本講義では扱いません)。"
   ]
  },
  {
   "cell_type": "markdown",
   "metadata": {},
   "source": [
    "カウントデータファイルの行数と列数を確認"
   ]
  },
  {
   "cell_type": "code",
   "execution_count": 7,
   "metadata": {},
   "outputs": [
    {
     "data": {
      "text/plain": [
       "(6420, 11)"
      ]
     },
     "execution_count": 7,
     "metadata": {},
     "output_type": "execute_result"
    }
   ],
   "source": [
    "df.shape"
   ]
  },
  {
   "cell_type": "markdown",
   "metadata": {},
   "source": [
    "#### 列名を変更する"
   ]
  },
  {
   "cell_type": "code",
   "execution_count": 8,
   "metadata": {},
   "outputs": [],
   "source": [
    "# 列名を変更するための対応表\n",
    "names = {'SRR453566.sorted.bam': 'batch_1',\n",
    "         'SRR453567.sorted.bam': 'batch_2',\n",
    "         'SRR453568.sorted.bam': 'batch_3',\n",
    "         'SRR453569.sorted.bam': 'chemostat_1',\n",
    "         'SRR453570.sorted.bam': 'chemostat_2',\n",
    "         'SRR453571.sorted.bam': 'chemostat_3'}"
   ]
  },
  {
   "cell_type": "markdown",
   "metadata": {},
   "source": [
    "`rename_axis()` を `axis=1` を適用して使い、列名を変更します。"
   ]
  },
  {
   "cell_type": "code",
   "execution_count": 9,
   "metadata": {},
   "outputs": [],
   "source": [
    "df = df.rename(mapper=names, axis=1)"
   ]
  },
  {
   "cell_type": "markdown",
   "metadata": {},
   "source": [
    "`rename()` を使わなくても、既存の列を別名でコピーした後で元の列を削除、という方法でも可能です。\n",
    "```\n",
    "df['batch_1'] = df['SRR453566.sorted.bam']\n",
    "del df['SRR453566.sorted.bam']\n",
    "```"
   ]
  },
  {
   "cell_type": "code",
   "execution_count": 10,
   "metadata": {},
   "outputs": [
    {
     "data": {
      "text/html": [
       "<div>\n",
       "<style scoped>\n",
       "    .dataframe tbody tr th:only-of-type {\n",
       "        vertical-align: middle;\n",
       "    }\n",
       "\n",
       "    .dataframe tbody tr th {\n",
       "        vertical-align: top;\n",
       "    }\n",
       "\n",
       "    .dataframe thead th {\n",
       "        text-align: right;\n",
       "    }\n",
       "</style>\n",
       "<table border=\"1\" class=\"dataframe\">\n",
       "  <thead>\n",
       "    <tr style=\"text-align: right;\">\n",
       "      <th></th>\n",
       "      <th>Chr</th>\n",
       "      <th>Start</th>\n",
       "      <th>End</th>\n",
       "      <th>Strand</th>\n",
       "      <th>Length</th>\n",
       "      <th>batch_1</th>\n",
       "      <th>batch_2</th>\n",
       "      <th>batch_3</th>\n",
       "      <th>chemostat_1</th>\n",
       "      <th>chemostat_2</th>\n",
       "      <th>chemostat_3</th>\n",
       "    </tr>\n",
       "    <tr>\n",
       "      <th>Geneid</th>\n",
       "      <th></th>\n",
       "      <th></th>\n",
       "      <th></th>\n",
       "      <th></th>\n",
       "      <th></th>\n",
       "      <th></th>\n",
       "      <th></th>\n",
       "      <th></th>\n",
       "      <th></th>\n",
       "      <th></th>\n",
       "      <th></th>\n",
       "    </tr>\n",
       "  </thead>\n",
       "  <tbody>\n",
       "    <tr>\n",
       "      <th>gene_0001</th>\n",
       "      <td>NC_001133.9</td>\n",
       "      <td>1807</td>\n",
       "      <td>2169</td>\n",
       "      <td>-</td>\n",
       "      <td>363</td>\n",
       "      <td>0</td>\n",
       "      <td>2</td>\n",
       "      <td>6</td>\n",
       "      <td>0</td>\n",
       "      <td>0</td>\n",
       "      <td>1</td>\n",
       "    </tr>\n",
       "    <tr>\n",
       "      <th>gene_0002</th>\n",
       "      <td>NC_001133.9</td>\n",
       "      <td>2480</td>\n",
       "      <td>2707</td>\n",
       "      <td>+</td>\n",
       "      <td>228</td>\n",
       "      <td>0</td>\n",
       "      <td>0</td>\n",
       "      <td>0</td>\n",
       "      <td>0</td>\n",
       "      <td>0</td>\n",
       "      <td>0</td>\n",
       "    </tr>\n",
       "    <tr>\n",
       "      <th>gene_0003</th>\n",
       "      <td>NC_001133.9</td>\n",
       "      <td>7235</td>\n",
       "      <td>9016</td>\n",
       "      <td>-</td>\n",
       "      <td>1782</td>\n",
       "      <td>0</td>\n",
       "      <td>0</td>\n",
       "      <td>0</td>\n",
       "      <td>0</td>\n",
       "      <td>0</td>\n",
       "      <td>0</td>\n",
       "    </tr>\n",
       "    <tr>\n",
       "      <th>gene_0004</th>\n",
       "      <td>NC_001133.9</td>\n",
       "      <td>11565</td>\n",
       "      <td>11951</td>\n",
       "      <td>-</td>\n",
       "      <td>387</td>\n",
       "      <td>0</td>\n",
       "      <td>0</td>\n",
       "      <td>0</td>\n",
       "      <td>0</td>\n",
       "      <td>0</td>\n",
       "      <td>0</td>\n",
       "    </tr>\n",
       "    <tr>\n",
       "      <th>gene_0005</th>\n",
       "      <td>NC_001133.9</td>\n",
       "      <td>12046</td>\n",
       "      <td>12426</td>\n",
       "      <td>+</td>\n",
       "      <td>381</td>\n",
       "      <td>2</td>\n",
       "      <td>8</td>\n",
       "      <td>10</td>\n",
       "      <td>6</td>\n",
       "      <td>7</td>\n",
       "      <td>18</td>\n",
       "    </tr>\n",
       "  </tbody>\n",
       "</table>\n",
       "</div>"
      ],
      "text/plain": [
       "                   Chr  Start    End Strand  Length  batch_1  batch_2  \\\n",
       "Geneid                                                                  \n",
       "gene_0001  NC_001133.9   1807   2169      -     363        0        2   \n",
       "gene_0002  NC_001133.9   2480   2707      +     228        0        0   \n",
       "gene_0003  NC_001133.9   7235   9016      -    1782        0        0   \n",
       "gene_0004  NC_001133.9  11565  11951      -     387        0        0   \n",
       "gene_0005  NC_001133.9  12046  12426      +     381        2        8   \n",
       "\n",
       "           batch_3  chemostat_1  chemostat_2  chemostat_3  \n",
       "Geneid                                                     \n",
       "gene_0001        6            0            0            1  \n",
       "gene_0002        0            0            0            0  \n",
       "gene_0003        0            0            0            0  \n",
       "gene_0004        0            0            0            0  \n",
       "gene_0005       10            6            7           18  "
      ]
     },
     "execution_count": 10,
     "metadata": {},
     "output_type": "execute_result"
    }
   ],
   "source": [
    "df.head()"
   ]
  },
  {
   "cell_type": "markdown",
   "metadata": {},
   "source": [
    "#### ミトコンドリア上の遺伝子を除く"
   ]
  },
  {
   "cell_type": "markdown",
   "metadata": {},
   "source": [
    "counts.txt にはミトコンドリア上の遺伝子も含まれるのでこれを除きます。  \n",
    "Chr列 NC_001224.1 がミトコンドリアに該当します。"
   ]
  },
  {
   "cell_type": "code",
   "execution_count": 11,
   "metadata": {},
   "outputs": [],
   "source": [
    "df = df[df.Chr != 'NC_001224.1']"
   ]
  },
  {
   "cell_type": "code",
   "execution_count": 12,
   "metadata": {},
   "outputs": [
    {
     "data": {
      "text/plain": [
       "(6394, 11)"
      ]
     },
     "execution_count": 12,
     "metadata": {},
     "output_type": "execute_result"
    }
   ],
   "source": [
    "df.shape"
   ]
  },
  {
   "cell_type": "markdown",
   "metadata": {},
   "source": [
    "### 3-2. 遺伝子にアノテーションをつける\n",
    "#### gene_idとproductの一覧ファイルを読み込む\n",
    "gene_id_product.tsvを開くと以下のようになっています。<br>\n",
    "\n",
    "```\n",
    "gene_0001\tseripauperin PAU8\n",
    "gene_0002\thypothetical protein\n",
    "gene_0003\tputative permease SEO1\n",
    "gene_0004\thypothetical protein\n",
    "gene_0005\thypothetical protein\n",
    "gene_0006\tTda8p\n",
    "gene_0007...\n",
    "```\n",
    "ヘッダー行がないので、`names` オプションでカラム名を指定して読み込みます。\n"
   ]
  },
  {
   "cell_type": "code",
   "execution_count": 13,
   "metadata": {},
   "outputs": [],
   "source": [
    "gene_products = pd.read_table(gene_id_product_file, index_col=0, names=['gene_id', 'product'])"
   ]
  },
  {
   "cell_type": "markdown",
   "metadata": {},
   "source": [
    "gene_id 列がインデックスとなります。"
   ]
  },
  {
   "cell_type": "code",
   "execution_count": 14,
   "metadata": {},
   "outputs": [
    {
     "data": {
      "text/html": [
       "<div>\n",
       "<style scoped>\n",
       "    .dataframe tbody tr th:only-of-type {\n",
       "        vertical-align: middle;\n",
       "    }\n",
       "\n",
       "    .dataframe tbody tr th {\n",
       "        vertical-align: top;\n",
       "    }\n",
       "\n",
       "    .dataframe thead th {\n",
       "        text-align: right;\n",
       "    }\n",
       "</style>\n",
       "<table border=\"1\" class=\"dataframe\">\n",
       "  <thead>\n",
       "    <tr style=\"text-align: right;\">\n",
       "      <th></th>\n",
       "      <th>product</th>\n",
       "    </tr>\n",
       "    <tr>\n",
       "      <th>gene_id</th>\n",
       "      <th></th>\n",
       "    </tr>\n",
       "  </thead>\n",
       "  <tbody>\n",
       "    <tr>\n",
       "      <th>gene_0001</th>\n",
       "      <td>seripauperin PAU8</td>\n",
       "    </tr>\n",
       "    <tr>\n",
       "      <th>gene_0002</th>\n",
       "      <td>hypothetical protein</td>\n",
       "    </tr>\n",
       "    <tr>\n",
       "      <th>gene_0003</th>\n",
       "      <td>putative permease SEO1</td>\n",
       "    </tr>\n",
       "    <tr>\n",
       "      <th>gene_0004</th>\n",
       "      <td>hypothetical protein</td>\n",
       "    </tr>\n",
       "    <tr>\n",
       "      <th>gene_0005</th>\n",
       "      <td>hypothetical protein</td>\n",
       "    </tr>\n",
       "  </tbody>\n",
       "</table>\n",
       "</div>"
      ],
      "text/plain": [
       "                          product\n",
       "gene_id                          \n",
       "gene_0001       seripauperin PAU8\n",
       "gene_0002    hypothetical protein\n",
       "gene_0003  putative permease SEO1\n",
       "gene_0004    hypothetical protein\n",
       "gene_0005    hypothetical protein"
      ]
     },
     "execution_count": 14,
     "metadata": {},
     "output_type": "execute_result"
    }
   ],
   "source": [
    "gene_products.head()"
   ]
  },
  {
   "cell_type": "markdown",
   "metadata": {},
   "source": [
    "#### 2つのデータフレームを連結\n",
    "2つのデータフレーム `df` と `gene_products` を連結します。<br>\n",
    "`gene_products` には mRNA のデータしか含まれていないので、rRNA などのデータはこの時点で除かれます。<br>\n",
    "ミトコンドリア遺伝子は `gene_products` に含まれていないので、3-1.の「ミトコンドリア遺伝子を除く」操作は本当は不要です。"
   ]
  },
  {
   "cell_type": "code",
   "execution_count": 15,
   "metadata": {},
   "outputs": [],
   "source": [
    "df_with_product = gene_products.join(df)"
   ]
  },
  {
   "cell_type": "code",
   "execution_count": 16,
   "metadata": {},
   "outputs": [],
   "source": [
    "# mergeを使った場合\n",
    "# pd.merge(gene_products, df, left_index=True, right_index=True) "
   ]
  },
  {
   "cell_type": "code",
   "execution_count": 17,
   "metadata": {},
   "outputs": [],
   "source": [
    "# concatを使った場合\n",
    "# pd.concat([gene_products, df], axis=1, join=\"inner\")"
   ]
  },
  {
   "cell_type": "code",
   "execution_count": 18,
   "metadata": {
    "scrolled": true
   },
   "outputs": [
    {
     "data": {
      "text/html": [
       "<div>\n",
       "<style scoped>\n",
       "    .dataframe tbody tr th:only-of-type {\n",
       "        vertical-align: middle;\n",
       "    }\n",
       "\n",
       "    .dataframe tbody tr th {\n",
       "        vertical-align: top;\n",
       "    }\n",
       "\n",
       "    .dataframe thead th {\n",
       "        text-align: right;\n",
       "    }\n",
       "</style>\n",
       "<table border=\"1\" class=\"dataframe\">\n",
       "  <thead>\n",
       "    <tr style=\"text-align: right;\">\n",
       "      <th></th>\n",
       "      <th>product</th>\n",
       "      <th>Chr</th>\n",
       "      <th>Start</th>\n",
       "      <th>End</th>\n",
       "      <th>Strand</th>\n",
       "      <th>Length</th>\n",
       "      <th>batch_1</th>\n",
       "      <th>batch_2</th>\n",
       "      <th>batch_3</th>\n",
       "      <th>chemostat_1</th>\n",
       "      <th>chemostat_2</th>\n",
       "      <th>chemostat_3</th>\n",
       "    </tr>\n",
       "    <tr>\n",
       "      <th>gene_id</th>\n",
       "      <th></th>\n",
       "      <th></th>\n",
       "      <th></th>\n",
       "      <th></th>\n",
       "      <th></th>\n",
       "      <th></th>\n",
       "      <th></th>\n",
       "      <th></th>\n",
       "      <th></th>\n",
       "      <th></th>\n",
       "      <th></th>\n",
       "      <th></th>\n",
       "    </tr>\n",
       "  </thead>\n",
       "  <tbody>\n",
       "    <tr>\n",
       "      <th>gene_0001</th>\n",
       "      <td>seripauperin PAU8</td>\n",
       "      <td>NC_001133.9</td>\n",
       "      <td>1807</td>\n",
       "      <td>2169</td>\n",
       "      <td>-</td>\n",
       "      <td>363</td>\n",
       "      <td>0</td>\n",
       "      <td>2</td>\n",
       "      <td>6</td>\n",
       "      <td>0</td>\n",
       "      <td>0</td>\n",
       "      <td>1</td>\n",
       "    </tr>\n",
       "    <tr>\n",
       "      <th>gene_0002</th>\n",
       "      <td>hypothetical protein</td>\n",
       "      <td>NC_001133.9</td>\n",
       "      <td>2480</td>\n",
       "      <td>2707</td>\n",
       "      <td>+</td>\n",
       "      <td>228</td>\n",
       "      <td>0</td>\n",
       "      <td>0</td>\n",
       "      <td>0</td>\n",
       "      <td>0</td>\n",
       "      <td>0</td>\n",
       "      <td>0</td>\n",
       "    </tr>\n",
       "    <tr>\n",
       "      <th>gene_0003</th>\n",
       "      <td>putative permease SEO1</td>\n",
       "      <td>NC_001133.9</td>\n",
       "      <td>7235</td>\n",
       "      <td>9016</td>\n",
       "      <td>-</td>\n",
       "      <td>1782</td>\n",
       "      <td>0</td>\n",
       "      <td>0</td>\n",
       "      <td>0</td>\n",
       "      <td>0</td>\n",
       "      <td>0</td>\n",
       "      <td>0</td>\n",
       "    </tr>\n",
       "    <tr>\n",
       "      <th>gene_0004</th>\n",
       "      <td>hypothetical protein</td>\n",
       "      <td>NC_001133.9</td>\n",
       "      <td>11565</td>\n",
       "      <td>11951</td>\n",
       "      <td>-</td>\n",
       "      <td>387</td>\n",
       "      <td>0</td>\n",
       "      <td>0</td>\n",
       "      <td>0</td>\n",
       "      <td>0</td>\n",
       "      <td>0</td>\n",
       "      <td>0</td>\n",
       "    </tr>\n",
       "    <tr>\n",
       "      <th>gene_0005</th>\n",
       "      <td>hypothetical protein</td>\n",
       "      <td>NC_001133.9</td>\n",
       "      <td>12046</td>\n",
       "      <td>12426</td>\n",
       "      <td>+</td>\n",
       "      <td>381</td>\n",
       "      <td>2</td>\n",
       "      <td>8</td>\n",
       "      <td>10</td>\n",
       "      <td>6</td>\n",
       "      <td>7</td>\n",
       "      <td>18</td>\n",
       "    </tr>\n",
       "  </tbody>\n",
       "</table>\n",
       "</div>"
      ],
      "text/plain": [
       "                          product          Chr  Start    End Strand  Length  \\\n",
       "gene_id                                                                       \n",
       "gene_0001       seripauperin PAU8  NC_001133.9   1807   2169      -     363   \n",
       "gene_0002    hypothetical protein  NC_001133.9   2480   2707      +     228   \n",
       "gene_0003  putative permease SEO1  NC_001133.9   7235   9016      -    1782   \n",
       "gene_0004    hypothetical protein  NC_001133.9  11565  11951      -     387   \n",
       "gene_0005    hypothetical protein  NC_001133.9  12046  12426      +     381   \n",
       "\n",
       "           batch_1  batch_2  batch_3  chemostat_1  chemostat_2  chemostat_3  \n",
       "gene_id                                                                      \n",
       "gene_0001        0        2        6            0            0            1  \n",
       "gene_0002        0        0        0            0            0            0  \n",
       "gene_0003        0        0        0            0            0            0  \n",
       "gene_0004        0        0        0            0            0            0  \n",
       "gene_0005        2        8       10            6            7           18  "
      ]
     },
     "execution_count": 18,
     "metadata": {},
     "output_type": "execute_result"
    }
   ],
   "source": [
    "df_with_product.head()"
   ]
  },
  {
   "cell_type": "markdown",
   "metadata": {},
   "source": [
    "####  カウントデータ部分のみを切り出し"
   ]
  },
  {
   "cell_type": "code",
   "execution_count": 19,
   "metadata": {},
   "outputs": [],
   "source": [
    "df_count = df_with_product[['batch_1','batch_2','batch_3','chemostat_1','chemostat_2','chemostat_3']]"
   ]
  },
  {
   "cell_type": "markdown",
   "metadata": {},
   "source": [
    "スライスで指定するなら　`df_with_product.iloc[:, 6:12]` とします。"
   ]
  },
  {
   "cell_type": "markdown",
   "metadata": {},
   "source": [
    "#### ファイルの保存\n",
    "アノテーション付きカウントデータを`count_preprocessed.tsv`として保存します。<br>\n",
    "rawカウントのデータを`count_raw.tsv`として保存します。"
   ]
  },
  {
   "cell_type": "code",
   "execution_count": 18,
   "metadata": {},
   "outputs": [],
   "source": [
    "# アノテーション付きデータの保存\n",
    "df_with_product.to_csv('output/count_preprocessed.tsv', sep='\\t')"
   ]
  },
  {
   "cell_type": "code",
   "execution_count": 19,
   "metadata": {},
   "outputs": [],
   "source": [
    "# raw カウントのデータの保存\n",
    "df_count.to_csv('output/count_raw.tsv', sep='\\t')"
   ]
  },
  {
   "cell_type": "markdown",
   "metadata": {},
   "source": [
    "シェルコマンド head を使って確認してみます。<br>\n",
    "`%%bash`でJupyter notebookのセル内でbashコマンドを実行させることができます。"
   ]
  },
  {
   "cell_type": "code",
   "execution_count": 20,
   "metadata": {},
   "outputs": [
    {
     "name": "stdout",
     "output_type": "stream",
     "text": [
      "gene_id\tbatch_1\tbatch_2\tbatch_3\tchemostat_1\tchemostat_2\tchemostat_3\n",
      "gene_0001\t0\t2\t6\t0\t0\t1\n",
      "gene_0002\t0\t0\t0\t0\t0\t0\n",
      "gene_0003\t0\t0\t0\t0\t0\t0\n",
      "gene_0004\t0\t0\t0\t0\t0\t0\n",
      "gene_0005\t2\t8\t10\t6\t7\t18\n",
      "gene_0006\t0\t0\t0\t0\t0\t0\n",
      "gene_0007\t0\t0\t0\t0\t0\t0\n",
      "gene_0008\t0\t0\t0\t0\t0\t0\n",
      "gene_0009\t32\t37\t33\t43\t63\t84\n"
     ]
    }
   ],
   "source": [
    "%%bash\n",
    "head output/count_raw.tsv"
   ]
  },
  {
   "cell_type": "markdown",
   "metadata": {},
   "source": [
    "### 3-3. カウントデータの正規化\n",
    "#### 3-3-1. リード数で正規化 (RPM/FPM)\n",
    "\n",
    "100万リードあたりのカウント数に揃えます。<br>\n",
    "RPM = reads per million, FPM = fragments per million<br>\n",
    "ほぼ同じ意味で用いられているので, 本講義では「FPM」を使います。"
   ]
  },
  {
   "cell_type": "markdown",
   "metadata": {
    "collapsed": true
   },
   "source": [
    "いったん別のデータフレームとしてコピーしておきます。"
   ]
  },
  {
   "cell_type": "code",
   "execution_count": 20,
   "metadata": {},
   "outputs": [],
   "source": [
    "df_tmp = df_count.copy()"
   ]
  },
  {
   "cell_type": "code",
   "execution_count": 21,
   "metadata": {},
   "outputs": [
    {
     "data": {
      "text/plain": [
       "batch_1        4565008\n",
       "batch_2        6253117\n",
       "batch_3        4524000\n",
       "chemostat_1    3073975\n",
       "chemostat_2    3869518\n",
       "chemostat_3    4902464\n",
       "dtype: int64"
      ]
     },
     "execution_count": 21,
     "metadata": {},
     "output_type": "execute_result"
    }
   ],
   "source": [
    "# リードの合計数\n",
    "sum_count = df_tmp.sum()\n",
    "sum_count"
   ]
  },
  {
   "cell_type": "code",
   "execution_count": 22,
   "metadata": {},
   "outputs": [],
   "source": [
    "df_tmp = 10**6 * df_tmp / sum_count"
   ]
  },
  {
   "cell_type": "code",
   "execution_count": 23,
   "metadata": {},
   "outputs": [
    {
     "data": {
      "text/html": [
       "<div>\n",
       "<style scoped>\n",
       "    .dataframe tbody tr th:only-of-type {\n",
       "        vertical-align: middle;\n",
       "    }\n",
       "\n",
       "    .dataframe tbody tr th {\n",
       "        vertical-align: top;\n",
       "    }\n",
       "\n",
       "    .dataframe thead th {\n",
       "        text-align: right;\n",
       "    }\n",
       "</style>\n",
       "<table border=\"1\" class=\"dataframe\">\n",
       "  <thead>\n",
       "    <tr style=\"text-align: right;\">\n",
       "      <th></th>\n",
       "      <th>batch_1</th>\n",
       "      <th>batch_2</th>\n",
       "      <th>batch_3</th>\n",
       "      <th>chemostat_1</th>\n",
       "      <th>chemostat_2</th>\n",
       "      <th>chemostat_3</th>\n",
       "    </tr>\n",
       "    <tr>\n",
       "      <th>gene_id</th>\n",
       "      <th></th>\n",
       "      <th></th>\n",
       "      <th></th>\n",
       "      <th></th>\n",
       "      <th></th>\n",
       "      <th></th>\n",
       "    </tr>\n",
       "  </thead>\n",
       "  <tbody>\n",
       "    <tr>\n",
       "      <th>gene_0001</th>\n",
       "      <td>0.000000</td>\n",
       "      <td>0.319840</td>\n",
       "      <td>1.326260</td>\n",
       "      <td>0.00000</td>\n",
       "      <td>0.000000</td>\n",
       "      <td>0.203979</td>\n",
       "    </tr>\n",
       "    <tr>\n",
       "      <th>gene_0002</th>\n",
       "      <td>0.000000</td>\n",
       "      <td>0.000000</td>\n",
       "      <td>0.000000</td>\n",
       "      <td>0.00000</td>\n",
       "      <td>0.000000</td>\n",
       "      <td>0.000000</td>\n",
       "    </tr>\n",
       "    <tr>\n",
       "      <th>gene_0003</th>\n",
       "      <td>0.000000</td>\n",
       "      <td>0.000000</td>\n",
       "      <td>0.000000</td>\n",
       "      <td>0.00000</td>\n",
       "      <td>0.000000</td>\n",
       "      <td>0.000000</td>\n",
       "    </tr>\n",
       "    <tr>\n",
       "      <th>gene_0004</th>\n",
       "      <td>0.000000</td>\n",
       "      <td>0.000000</td>\n",
       "      <td>0.000000</td>\n",
       "      <td>0.00000</td>\n",
       "      <td>0.000000</td>\n",
       "      <td>0.000000</td>\n",
       "    </tr>\n",
       "    <tr>\n",
       "      <th>gene_0005</th>\n",
       "      <td>0.438115</td>\n",
       "      <td>1.279362</td>\n",
       "      <td>2.210433</td>\n",
       "      <td>1.95187</td>\n",
       "      <td>1.809011</td>\n",
       "      <td>3.671623</td>\n",
       "    </tr>\n",
       "  </tbody>\n",
       "</table>\n",
       "</div>"
      ],
      "text/plain": [
       "            batch_1   batch_2   batch_3  chemostat_1  chemostat_2  chemostat_3\n",
       "gene_id                                                                       \n",
       "gene_0001  0.000000  0.319840  1.326260      0.00000     0.000000     0.203979\n",
       "gene_0002  0.000000  0.000000  0.000000      0.00000     0.000000     0.000000\n",
       "gene_0003  0.000000  0.000000  0.000000      0.00000     0.000000     0.000000\n",
       "gene_0004  0.000000  0.000000  0.000000      0.00000     0.000000     0.000000\n",
       "gene_0005  0.438115  1.279362  2.210433      1.95187     1.809011     3.671623"
      ]
     },
     "execution_count": 23,
     "metadata": {},
     "output_type": "execute_result"
    }
   ],
   "source": [
    "df_tmp.head()"
   ]
  },
  {
   "cell_type": "markdown",
   "metadata": {},
   "source": [
    "リード数の合計が100万に揃っていることを確認します。"
   ]
  },
  {
   "cell_type": "code",
   "execution_count": 24,
   "metadata": {},
   "outputs": [
    {
     "data": {
      "text/plain": [
       "batch_1        1000000.0\n",
       "batch_2        1000000.0\n",
       "batch_3        1000000.0\n",
       "chemostat_1    1000000.0\n",
       "chemostat_2    1000000.0\n",
       "chemostat_3    1000000.0\n",
       "dtype: float64"
      ]
     },
     "execution_count": 24,
     "metadata": {},
     "output_type": "execute_result"
    }
   ],
   "source": [
    "df_tmp.sum()"
   ]
  },
  {
   "cell_type": "markdown",
   "metadata": {
    "collapsed": true
   },
   "source": [
    "`normalize_per_million_reads()` として関数化しておきます。"
   ]
  },
  {
   "cell_type": "code",
   "execution_count": 25,
   "metadata": {},
   "outputs": [],
   "source": [
    "def normalize_per_million_reads(df):\n",
    "    sum_count = df.sum()\n",
    "    return 10**6 * df / sum_count"
   ]
  },
  {
   "cell_type": "code",
   "execution_count": 26,
   "metadata": {},
   "outputs": [],
   "source": [
    "df_count_fpm = normalize_per_million_reads(df_count)"
   ]
  },
  {
   "cell_type": "code",
   "execution_count": 27,
   "metadata": {},
   "outputs": [
    {
     "data": {
      "text/plain": [
       "batch_1        1000000.0\n",
       "batch_2        1000000.0\n",
       "batch_3        1000000.0\n",
       "chemostat_1    1000000.0\n",
       "chemostat_2    1000000.0\n",
       "chemostat_3    1000000.0\n",
       "dtype: float64"
      ]
     },
     "execution_count": 27,
     "metadata": {},
     "output_type": "execute_result"
    }
   ],
   "source": [
    "df_count_fpm.sum()"
   ]
  },
  {
   "cell_type": "markdown",
   "metadata": {
    "collapsed": true
   },
   "source": [
    "FPM正規化を行った結果を `count_fpm.tsv` として保存します。"
   ]
  },
  {
   "cell_type": "code",
   "execution_count": 29,
   "metadata": {},
   "outputs": [],
   "source": [
    "df_count_fpm.to_csv('output/count_fpm.tsv', sep='\\t')"
   ]
  },
  {
   "cell_type": "markdown",
   "metadata": {},
   "source": [
    "#### 3-3-2. 遺伝子長による正規化 (RPKM/FPKM)\n",
    "上で求めたFPMをさらに遺伝子長で割ってFPKMを求めます。<br>\n",
    "FPKM = fragments per kilobase of exon per million reads mapped <br>\n",
    "single-endの場合、RPKM = reads per kilobase of exon per million reads mapped と呼ばれますが, FPKM/RPKMはほぼ同じ意味で用いられています。"
   ]
  },
  {
   "cell_type": "markdown",
   "metadata": {
    "collapsed": true
   },
   "source": [
    "テスト用にデータフレームをコピーしておきます。"
   ]
  },
  {
   "cell_type": "code",
   "execution_count": 28,
   "metadata": {},
   "outputs": [],
   "source": [
    "df_tmp = df_count_fpm.copy()"
   ]
  },
  {
   "cell_type": "markdown",
   "metadata": {},
   "source": [
    "各遺伝子の長さを抽出しておきます。"
   ]
  },
  {
   "cell_type": "code",
   "execution_count": 29,
   "metadata": {},
   "outputs": [],
   "source": [
    "gene_length = df_with_product['Length']"
   ]
  },
  {
   "cell_type": "markdown",
   "metadata": {},
   "source": [
    "下のように書くとうまくいきません。（縦方向にブロードキャストされてしまうため）"
   ]
  },
  {
   "cell_type": "code",
   "execution_count": 30,
   "metadata": {},
   "outputs": [],
   "source": [
    "# df_tmp / gene_length"
   ]
  },
  {
   "cell_type": "markdown",
   "metadata": {},
   "source": [
    "一列ずつ計算することは可能です。"
   ]
  },
  {
   "cell_type": "code",
   "execution_count": 31,
   "metadata": {},
   "outputs": [],
   "source": [
    "# df_tmp[\"batch_1\"] / gene_length * 10**3"
   ]
  },
  {
   "cell_type": "markdown",
   "metadata": {},
   "source": [
    "#### for ループを使う方法\n",
    "データフレームをforループで回すと、列名が取得できるのでそれを利用します。"
   ]
  },
  {
   "cell_type": "code",
   "execution_count": 32,
   "metadata": {},
   "outputs": [
    {
     "data": {
      "text/html": [
       "<div>\n",
       "<style scoped>\n",
       "    .dataframe tbody tr th:only-of-type {\n",
       "        vertical-align: middle;\n",
       "    }\n",
       "\n",
       "    .dataframe tbody tr th {\n",
       "        vertical-align: top;\n",
       "    }\n",
       "\n",
       "    .dataframe thead th {\n",
       "        text-align: right;\n",
       "    }\n",
       "</style>\n",
       "<table border=\"1\" class=\"dataframe\">\n",
       "  <thead>\n",
       "    <tr style=\"text-align: right;\">\n",
       "      <th></th>\n",
       "      <th>batch_1</th>\n",
       "      <th>batch_2</th>\n",
       "      <th>batch_3</th>\n",
       "      <th>chemostat_1</th>\n",
       "      <th>chemostat_2</th>\n",
       "      <th>chemostat_3</th>\n",
       "    </tr>\n",
       "    <tr>\n",
       "      <th>gene_id</th>\n",
       "      <th></th>\n",
       "      <th></th>\n",
       "      <th></th>\n",
       "      <th></th>\n",
       "      <th></th>\n",
       "      <th></th>\n",
       "    </tr>\n",
       "  </thead>\n",
       "  <tbody>\n",
       "    <tr>\n",
       "      <th>gene_0001</th>\n",
       "      <td>0.000000</td>\n",
       "      <td>0.881103</td>\n",
       "      <td>3.653609</td>\n",
       "      <td>0.000000</td>\n",
       "      <td>0.00000</td>\n",
       "      <td>0.561926</td>\n",
       "    </tr>\n",
       "    <tr>\n",
       "      <th>gene_0002</th>\n",
       "      <td>0.000000</td>\n",
       "      <td>0.000000</td>\n",
       "      <td>0.000000</td>\n",
       "      <td>0.000000</td>\n",
       "      <td>0.00000</td>\n",
       "      <td>0.000000</td>\n",
       "    </tr>\n",
       "    <tr>\n",
       "      <th>gene_0003</th>\n",
       "      <td>0.000000</td>\n",
       "      <td>0.000000</td>\n",
       "      <td>0.000000</td>\n",
       "      <td>0.000000</td>\n",
       "      <td>0.00000</td>\n",
       "      <td>0.000000</td>\n",
       "    </tr>\n",
       "    <tr>\n",
       "      <th>gene_0004</th>\n",
       "      <td>0.000000</td>\n",
       "      <td>0.000000</td>\n",
       "      <td>0.000000</td>\n",
       "      <td>0.000000</td>\n",
       "      <td>0.00000</td>\n",
       "      <td>0.000000</td>\n",
       "    </tr>\n",
       "    <tr>\n",
       "      <th>gene_0005</th>\n",
       "      <td>1.149909</td>\n",
       "      <td>3.357905</td>\n",
       "      <td>5.801662</td>\n",
       "      <td>5.123019</td>\n",
       "      <td>4.74806</td>\n",
       "      <td>9.636806</td>\n",
       "    </tr>\n",
       "  </tbody>\n",
       "</table>\n",
       "</div>"
      ],
      "text/plain": [
       "            batch_1   batch_2   batch_3  chemostat_1  chemostat_2  chemostat_3\n",
       "gene_id                                                                       \n",
       "gene_0001  0.000000  0.881103  3.653609     0.000000      0.00000     0.561926\n",
       "gene_0002  0.000000  0.000000  0.000000     0.000000      0.00000     0.000000\n",
       "gene_0003  0.000000  0.000000  0.000000     0.000000      0.00000     0.000000\n",
       "gene_0004  0.000000  0.000000  0.000000     0.000000      0.00000     0.000000\n",
       "gene_0005  1.149909  3.357905  5.801662     5.123019      4.74806     9.636806"
      ]
     },
     "execution_count": 32,
     "metadata": {},
     "output_type": "execute_result"
    }
   ],
   "source": [
    "df_tmp = df_count_fpm.copy()\n",
    "for col_name in df_tmp:\n",
    "    df_tmp[col_name] = df_tmp[col_name] / gene_length * 10**3\n",
    "df_tmp.head()"
   ]
  },
  {
   "cell_type": "markdown",
   "metadata": {},
   "source": [
    "`iteritems()` を利用する方法もあります。"
   ]
  },
  {
   "cell_type": "code",
   "execution_count": 33,
   "metadata": {},
   "outputs": [
    {
     "data": {
      "text/html": [
       "<div>\n",
       "<style scoped>\n",
       "    .dataframe tbody tr th:only-of-type {\n",
       "        vertical-align: middle;\n",
       "    }\n",
       "\n",
       "    .dataframe tbody tr th {\n",
       "        vertical-align: top;\n",
       "    }\n",
       "\n",
       "    .dataframe thead th {\n",
       "        text-align: right;\n",
       "    }\n",
       "</style>\n",
       "<table border=\"1\" class=\"dataframe\">\n",
       "  <thead>\n",
       "    <tr style=\"text-align: right;\">\n",
       "      <th></th>\n",
       "      <th>batch_1</th>\n",
       "      <th>batch_2</th>\n",
       "      <th>batch_3</th>\n",
       "      <th>chemostat_1</th>\n",
       "      <th>chemostat_2</th>\n",
       "      <th>chemostat_3</th>\n",
       "    </tr>\n",
       "    <tr>\n",
       "      <th>gene_id</th>\n",
       "      <th></th>\n",
       "      <th></th>\n",
       "      <th></th>\n",
       "      <th></th>\n",
       "      <th></th>\n",
       "      <th></th>\n",
       "    </tr>\n",
       "  </thead>\n",
       "  <tbody>\n",
       "    <tr>\n",
       "      <th>gene_0001</th>\n",
       "      <td>0.000000</td>\n",
       "      <td>0.881103</td>\n",
       "      <td>3.653609</td>\n",
       "      <td>0.000000</td>\n",
       "      <td>0.00000</td>\n",
       "      <td>0.561926</td>\n",
       "    </tr>\n",
       "    <tr>\n",
       "      <th>gene_0002</th>\n",
       "      <td>0.000000</td>\n",
       "      <td>0.000000</td>\n",
       "      <td>0.000000</td>\n",
       "      <td>0.000000</td>\n",
       "      <td>0.00000</td>\n",
       "      <td>0.000000</td>\n",
       "    </tr>\n",
       "    <tr>\n",
       "      <th>gene_0003</th>\n",
       "      <td>0.000000</td>\n",
       "      <td>0.000000</td>\n",
       "      <td>0.000000</td>\n",
       "      <td>0.000000</td>\n",
       "      <td>0.00000</td>\n",
       "      <td>0.000000</td>\n",
       "    </tr>\n",
       "    <tr>\n",
       "      <th>gene_0004</th>\n",
       "      <td>0.000000</td>\n",
       "      <td>0.000000</td>\n",
       "      <td>0.000000</td>\n",
       "      <td>0.000000</td>\n",
       "      <td>0.00000</td>\n",
       "      <td>0.000000</td>\n",
       "    </tr>\n",
       "    <tr>\n",
       "      <th>gene_0005</th>\n",
       "      <td>1.149909</td>\n",
       "      <td>3.357905</td>\n",
       "      <td>5.801662</td>\n",
       "      <td>5.123019</td>\n",
       "      <td>4.74806</td>\n",
       "      <td>9.636806</td>\n",
       "    </tr>\n",
       "  </tbody>\n",
       "</table>\n",
       "</div>"
      ],
      "text/plain": [
       "            batch_1   batch_2   batch_3  chemostat_1  chemostat_2  chemostat_3\n",
       "gene_id                                                                       \n",
       "gene_0001  0.000000  0.881103  3.653609     0.000000      0.00000     0.561926\n",
       "gene_0002  0.000000  0.000000  0.000000     0.000000      0.00000     0.000000\n",
       "gene_0003  0.000000  0.000000  0.000000     0.000000      0.00000     0.000000\n",
       "gene_0004  0.000000  0.000000  0.000000     0.000000      0.00000     0.000000\n",
       "gene_0005  1.149909  3.357905  5.801662     5.123019      4.74806     9.636806"
      ]
     },
     "execution_count": 33,
     "metadata": {},
     "output_type": "execute_result"
    }
   ],
   "source": [
    "df_tmp = df_count_fpm.copy()\n",
    "for col_name, col in df_tmp.iteritems():\n",
    "    df_tmp[col_name] = col / gene_length * 10**3\n",
    "df_tmp.head()"
   ]
  },
  {
   "cell_type": "markdown",
   "metadata": {},
   "source": [
    "#### データフレームを転置してから計算する方法"
   ]
  },
  {
   "cell_type": "code",
   "execution_count": 34,
   "metadata": {},
   "outputs": [
    {
     "data": {
      "text/html": [
       "<div>\n",
       "<style scoped>\n",
       "    .dataframe tbody tr th:only-of-type {\n",
       "        vertical-align: middle;\n",
       "    }\n",
       "\n",
       "    .dataframe tbody tr th {\n",
       "        vertical-align: top;\n",
       "    }\n",
       "\n",
       "    .dataframe thead th {\n",
       "        text-align: right;\n",
       "    }\n",
       "</style>\n",
       "<table border=\"1\" class=\"dataframe\">\n",
       "  <thead>\n",
       "    <tr style=\"text-align: right;\">\n",
       "      <th></th>\n",
       "      <th>batch_1</th>\n",
       "      <th>batch_2</th>\n",
       "      <th>batch_3</th>\n",
       "      <th>chemostat_1</th>\n",
       "      <th>chemostat_2</th>\n",
       "      <th>chemostat_3</th>\n",
       "    </tr>\n",
       "    <tr>\n",
       "      <th>gene_id</th>\n",
       "      <th></th>\n",
       "      <th></th>\n",
       "      <th></th>\n",
       "      <th></th>\n",
       "      <th></th>\n",
       "      <th></th>\n",
       "    </tr>\n",
       "  </thead>\n",
       "  <tbody>\n",
       "    <tr>\n",
       "      <th>gene_0001</th>\n",
       "      <td>0.000000</td>\n",
       "      <td>0.881103</td>\n",
       "      <td>3.653609</td>\n",
       "      <td>0.000000</td>\n",
       "      <td>0.00000</td>\n",
       "      <td>0.561926</td>\n",
       "    </tr>\n",
       "    <tr>\n",
       "      <th>gene_0002</th>\n",
       "      <td>0.000000</td>\n",
       "      <td>0.000000</td>\n",
       "      <td>0.000000</td>\n",
       "      <td>0.000000</td>\n",
       "      <td>0.00000</td>\n",
       "      <td>0.000000</td>\n",
       "    </tr>\n",
       "    <tr>\n",
       "      <th>gene_0003</th>\n",
       "      <td>0.000000</td>\n",
       "      <td>0.000000</td>\n",
       "      <td>0.000000</td>\n",
       "      <td>0.000000</td>\n",
       "      <td>0.00000</td>\n",
       "      <td>0.000000</td>\n",
       "    </tr>\n",
       "    <tr>\n",
       "      <th>gene_0004</th>\n",
       "      <td>0.000000</td>\n",
       "      <td>0.000000</td>\n",
       "      <td>0.000000</td>\n",
       "      <td>0.000000</td>\n",
       "      <td>0.00000</td>\n",
       "      <td>0.000000</td>\n",
       "    </tr>\n",
       "    <tr>\n",
       "      <th>gene_0005</th>\n",
       "      <td>1.149909</td>\n",
       "      <td>3.357905</td>\n",
       "      <td>5.801662</td>\n",
       "      <td>5.123019</td>\n",
       "      <td>4.74806</td>\n",
       "      <td>9.636806</td>\n",
       "    </tr>\n",
       "  </tbody>\n",
       "</table>\n",
       "</div>"
      ],
      "text/plain": [
       "            batch_1   batch_2   batch_3  chemostat_1  chemostat_2  chemostat_3\n",
       "gene_id                                                                       \n",
       "gene_0001  0.000000  0.881103  3.653609     0.000000      0.00000     0.561926\n",
       "gene_0002  0.000000  0.000000  0.000000     0.000000      0.00000     0.000000\n",
       "gene_0003  0.000000  0.000000  0.000000     0.000000      0.00000     0.000000\n",
       "gene_0004  0.000000  0.000000  0.000000     0.000000      0.00000     0.000000\n",
       "gene_0005  1.149909  3.357905  5.801662     5.123019      4.74806     9.636806"
      ]
     },
     "execution_count": 34,
     "metadata": {},
     "output_type": "execute_result"
    }
   ],
   "source": [
    "df_tmp = df_count_fpm.copy()\n",
    "df_tmp = df_tmp.T / gene_length * 10**3\n",
    "df_tmp = df_tmp.T\n",
    "df_tmp.head()"
   ]
  },
  {
   "cell_type": "markdown",
   "metadata": {},
   "source": [
    "#### applyを使い各列に関数を適用する方法\n",
    "`divide_by_length()`という関数を作り、`apply()` で適用します。"
   ]
  },
  {
   "cell_type": "code",
   "execution_count": 35,
   "metadata": {},
   "outputs": [],
   "source": [
    "def divide_by_length(S):\n",
    "    return S / gene_length * 10**3"
   ]
  },
  {
   "cell_type": "code",
   "execution_count": 36,
   "metadata": {},
   "outputs": [
    {
     "data": {
      "text/html": [
       "<div>\n",
       "<style scoped>\n",
       "    .dataframe tbody tr th:only-of-type {\n",
       "        vertical-align: middle;\n",
       "    }\n",
       "\n",
       "    .dataframe tbody tr th {\n",
       "        vertical-align: top;\n",
       "    }\n",
       "\n",
       "    .dataframe thead th {\n",
       "        text-align: right;\n",
       "    }\n",
       "</style>\n",
       "<table border=\"1\" class=\"dataframe\">\n",
       "  <thead>\n",
       "    <tr style=\"text-align: right;\">\n",
       "      <th></th>\n",
       "      <th>batch_1</th>\n",
       "      <th>batch_2</th>\n",
       "      <th>batch_3</th>\n",
       "      <th>chemostat_1</th>\n",
       "      <th>chemostat_2</th>\n",
       "      <th>chemostat_3</th>\n",
       "    </tr>\n",
       "    <tr>\n",
       "      <th>gene_id</th>\n",
       "      <th></th>\n",
       "      <th></th>\n",
       "      <th></th>\n",
       "      <th></th>\n",
       "      <th></th>\n",
       "      <th></th>\n",
       "    </tr>\n",
       "  </thead>\n",
       "  <tbody>\n",
       "    <tr>\n",
       "      <th>gene_0001</th>\n",
       "      <td>0.000000</td>\n",
       "      <td>0.881103</td>\n",
       "      <td>3.653609</td>\n",
       "      <td>0.000000</td>\n",
       "      <td>0.00000</td>\n",
       "      <td>0.561926</td>\n",
       "    </tr>\n",
       "    <tr>\n",
       "      <th>gene_0002</th>\n",
       "      <td>0.000000</td>\n",
       "      <td>0.000000</td>\n",
       "      <td>0.000000</td>\n",
       "      <td>0.000000</td>\n",
       "      <td>0.00000</td>\n",
       "      <td>0.000000</td>\n",
       "    </tr>\n",
       "    <tr>\n",
       "      <th>gene_0003</th>\n",
       "      <td>0.000000</td>\n",
       "      <td>0.000000</td>\n",
       "      <td>0.000000</td>\n",
       "      <td>0.000000</td>\n",
       "      <td>0.00000</td>\n",
       "      <td>0.000000</td>\n",
       "    </tr>\n",
       "    <tr>\n",
       "      <th>gene_0004</th>\n",
       "      <td>0.000000</td>\n",
       "      <td>0.000000</td>\n",
       "      <td>0.000000</td>\n",
       "      <td>0.000000</td>\n",
       "      <td>0.00000</td>\n",
       "      <td>0.000000</td>\n",
       "    </tr>\n",
       "    <tr>\n",
       "      <th>gene_0005</th>\n",
       "      <td>1.149909</td>\n",
       "      <td>3.357905</td>\n",
       "      <td>5.801662</td>\n",
       "      <td>5.123019</td>\n",
       "      <td>4.74806</td>\n",
       "      <td>9.636806</td>\n",
       "    </tr>\n",
       "  </tbody>\n",
       "</table>\n",
       "</div>"
      ],
      "text/plain": [
       "            batch_1   batch_2   batch_3  chemostat_1  chemostat_2  chemostat_3\n",
       "gene_id                                                                       \n",
       "gene_0001  0.000000  0.881103  3.653609     0.000000      0.00000     0.561926\n",
       "gene_0002  0.000000  0.000000  0.000000     0.000000      0.00000     0.000000\n",
       "gene_0003  0.000000  0.000000  0.000000     0.000000      0.00000     0.000000\n",
       "gene_0004  0.000000  0.000000  0.000000     0.000000      0.00000     0.000000\n",
       "gene_0005  1.149909  3.357905  5.801662     5.123019      4.74806     9.636806"
      ]
     },
     "execution_count": 36,
     "metadata": {},
     "output_type": "execute_result"
    }
   ],
   "source": [
    "df_tmp = df_count_fpm.copy()\n",
    "df_tmp.apply(divide_by_length).head()"
   ]
  },
  {
   "cell_type": "markdown",
   "metadata": {},
   "source": [
    "`pandas.DataFrame`メソッドの `divide()` を使用する方法もあります。"
   ]
  },
  {
   "cell_type": "code",
   "execution_count": 37,
   "metadata": {},
   "outputs": [
    {
     "data": {
      "text/html": [
       "<div>\n",
       "<style scoped>\n",
       "    .dataframe tbody tr th:only-of-type {\n",
       "        vertical-align: middle;\n",
       "    }\n",
       "\n",
       "    .dataframe tbody tr th {\n",
       "        vertical-align: top;\n",
       "    }\n",
       "\n",
       "    .dataframe thead th {\n",
       "        text-align: right;\n",
       "    }\n",
       "</style>\n",
       "<table border=\"1\" class=\"dataframe\">\n",
       "  <thead>\n",
       "    <tr style=\"text-align: right;\">\n",
       "      <th></th>\n",
       "      <th>batch_1</th>\n",
       "      <th>batch_2</th>\n",
       "      <th>batch_3</th>\n",
       "      <th>chemostat_1</th>\n",
       "      <th>chemostat_2</th>\n",
       "      <th>chemostat_3</th>\n",
       "    </tr>\n",
       "    <tr>\n",
       "      <th>gene_id</th>\n",
       "      <th></th>\n",
       "      <th></th>\n",
       "      <th></th>\n",
       "      <th></th>\n",
       "      <th></th>\n",
       "      <th></th>\n",
       "    </tr>\n",
       "  </thead>\n",
       "  <tbody>\n",
       "    <tr>\n",
       "      <th>gene_0001</th>\n",
       "      <td>0.000000</td>\n",
       "      <td>0.881103</td>\n",
       "      <td>3.653609</td>\n",
       "      <td>0.000000</td>\n",
       "      <td>0.00000</td>\n",
       "      <td>0.561926</td>\n",
       "    </tr>\n",
       "    <tr>\n",
       "      <th>gene_0002</th>\n",
       "      <td>0.000000</td>\n",
       "      <td>0.000000</td>\n",
       "      <td>0.000000</td>\n",
       "      <td>0.000000</td>\n",
       "      <td>0.00000</td>\n",
       "      <td>0.000000</td>\n",
       "    </tr>\n",
       "    <tr>\n",
       "      <th>gene_0003</th>\n",
       "      <td>0.000000</td>\n",
       "      <td>0.000000</td>\n",
       "      <td>0.000000</td>\n",
       "      <td>0.000000</td>\n",
       "      <td>0.00000</td>\n",
       "      <td>0.000000</td>\n",
       "    </tr>\n",
       "    <tr>\n",
       "      <th>gene_0004</th>\n",
       "      <td>0.000000</td>\n",
       "      <td>0.000000</td>\n",
       "      <td>0.000000</td>\n",
       "      <td>0.000000</td>\n",
       "      <td>0.00000</td>\n",
       "      <td>0.000000</td>\n",
       "    </tr>\n",
       "    <tr>\n",
       "      <th>gene_0005</th>\n",
       "      <td>1.149909</td>\n",
       "      <td>3.357905</td>\n",
       "      <td>5.801662</td>\n",
       "      <td>5.123019</td>\n",
       "      <td>4.74806</td>\n",
       "      <td>9.636806</td>\n",
       "    </tr>\n",
       "  </tbody>\n",
       "</table>\n",
       "</div>"
      ],
      "text/plain": [
       "            batch_1   batch_2   batch_3  chemostat_1  chemostat_2  chemostat_3\n",
       "gene_id                                                                       \n",
       "gene_0001  0.000000  0.881103  3.653609     0.000000      0.00000     0.561926\n",
       "gene_0002  0.000000  0.000000  0.000000     0.000000      0.00000     0.000000\n",
       "gene_0003  0.000000  0.000000  0.000000     0.000000      0.00000     0.000000\n",
       "gene_0004  0.000000  0.000000  0.000000     0.000000      0.00000     0.000000\n",
       "gene_0005  1.149909  3.357905  5.801662     5.123019      4.74806     9.636806"
      ]
     },
     "execution_count": 37,
     "metadata": {},
     "output_type": "execute_result"
    }
   ],
   "source": [
    "df_tmp = df_count_fpm.copy()\n",
    "df_tmp = df_tmp.divide(gene_length, axis='index') * 10**3\n",
    "df_tmp.head()"
   ]
  },
  {
   "cell_type": "markdown",
   "metadata": {
    "collapsed": true
   },
   "source": [
    "データフレームを転置させて計算する方法を `normalize_per_kilobase()` として関数化しておきます。"
   ]
  },
  {
   "cell_type": "code",
   "execution_count": 38,
   "metadata": {},
   "outputs": [],
   "source": [
    "def normalize_per_kilobase(df, gene_length):\n",
    "    df_tmp = df.copy()\n",
    "    df_tmp = (df.T * 10**3 / gene_length).T \n",
    "    return df_tmp"
   ]
  },
  {
   "cell_type": "code",
   "execution_count": 39,
   "metadata": {},
   "outputs": [],
   "source": [
    "df_count_fpkm = normalize_per_kilobase(df_count_fpm, gene_length)"
   ]
  },
  {
   "cell_type": "code",
   "execution_count": 40,
   "metadata": {},
   "outputs": [
    {
     "data": {
      "text/html": [
       "<div>\n",
       "<style scoped>\n",
       "    .dataframe tbody tr th:only-of-type {\n",
       "        vertical-align: middle;\n",
       "    }\n",
       "\n",
       "    .dataframe tbody tr th {\n",
       "        vertical-align: top;\n",
       "    }\n",
       "\n",
       "    .dataframe thead th {\n",
       "        text-align: right;\n",
       "    }\n",
       "</style>\n",
       "<table border=\"1\" class=\"dataframe\">\n",
       "  <thead>\n",
       "    <tr style=\"text-align: right;\">\n",
       "      <th></th>\n",
       "      <th>batch_1</th>\n",
       "      <th>batch_2</th>\n",
       "      <th>batch_3</th>\n",
       "      <th>chemostat_1</th>\n",
       "      <th>chemostat_2</th>\n",
       "      <th>chemostat_3</th>\n",
       "    </tr>\n",
       "    <tr>\n",
       "      <th>gene_id</th>\n",
       "      <th></th>\n",
       "      <th></th>\n",
       "      <th></th>\n",
       "      <th></th>\n",
       "      <th></th>\n",
       "      <th></th>\n",
       "    </tr>\n",
       "  </thead>\n",
       "  <tbody>\n",
       "    <tr>\n",
       "      <th>gene_0001</th>\n",
       "      <td>0.000000</td>\n",
       "      <td>0.881103</td>\n",
       "      <td>3.653609</td>\n",
       "      <td>0.000000</td>\n",
       "      <td>0.00000</td>\n",
       "      <td>0.561926</td>\n",
       "    </tr>\n",
       "    <tr>\n",
       "      <th>gene_0002</th>\n",
       "      <td>0.000000</td>\n",
       "      <td>0.000000</td>\n",
       "      <td>0.000000</td>\n",
       "      <td>0.000000</td>\n",
       "      <td>0.00000</td>\n",
       "      <td>0.000000</td>\n",
       "    </tr>\n",
       "    <tr>\n",
       "      <th>gene_0003</th>\n",
       "      <td>0.000000</td>\n",
       "      <td>0.000000</td>\n",
       "      <td>0.000000</td>\n",
       "      <td>0.000000</td>\n",
       "      <td>0.00000</td>\n",
       "      <td>0.000000</td>\n",
       "    </tr>\n",
       "    <tr>\n",
       "      <th>gene_0004</th>\n",
       "      <td>0.000000</td>\n",
       "      <td>0.000000</td>\n",
       "      <td>0.000000</td>\n",
       "      <td>0.000000</td>\n",
       "      <td>0.00000</td>\n",
       "      <td>0.000000</td>\n",
       "    </tr>\n",
       "    <tr>\n",
       "      <th>gene_0005</th>\n",
       "      <td>1.149909</td>\n",
       "      <td>3.357905</td>\n",
       "      <td>5.801662</td>\n",
       "      <td>5.123019</td>\n",
       "      <td>4.74806</td>\n",
       "      <td>9.636806</td>\n",
       "    </tr>\n",
       "  </tbody>\n",
       "</table>\n",
       "</div>"
      ],
      "text/plain": [
       "            batch_1   batch_2   batch_3  chemostat_1  chemostat_2  chemostat_3\n",
       "gene_id                                                                       \n",
       "gene_0001  0.000000  0.881103  3.653609     0.000000      0.00000     0.561926\n",
       "gene_0002  0.000000  0.000000  0.000000     0.000000      0.00000     0.000000\n",
       "gene_0003  0.000000  0.000000  0.000000     0.000000      0.00000     0.000000\n",
       "gene_0004  0.000000  0.000000  0.000000     0.000000      0.00000     0.000000\n",
       "gene_0005  1.149909  3.357905  5.801662     5.123019      4.74806     9.636806"
      ]
     },
     "execution_count": 40,
     "metadata": {},
     "output_type": "execute_result"
    }
   ],
   "source": [
    "df_count_fpkm.head()"
   ]
  },
  {
   "cell_type": "code",
   "execution_count": 41,
   "metadata": {},
   "outputs": [],
   "source": [
    "# 保存する\n",
    "df_count_fpkm.to_csv('output/count_fpkm.tsv', sep='\\t')"
   ]
  },
  {
   "cell_type": "markdown",
   "metadata": {},
   "source": [
    "#### 3-3-3. TPM 正規化\n",
    "TPM = transcripts per kilobase million <br> \n",
    "TPM の説明については以下のページが詳しいので参考にしてください。 https://bi.biopapyrus.jp/ <br> \n",
    "\n",
    "FPKM/RPKM のときとは逆に、長さ1,000bpあたりのリード数を求めてから、総リード数を100万に揃えます。"
   ]
  },
  {
   "cell_type": "code",
   "execution_count": 42,
   "metadata": {},
   "outputs": [],
   "source": [
    "df_tmp = df_count.copy()"
   ]
  },
  {
   "cell_type": "code",
   "execution_count": 43,
   "metadata": {},
   "outputs": [],
   "source": [
    "df_tmp = normalize_per_kilobase(df_tmp, gene_length) #長さ1,000bpあたりのリード数\n",
    "df_tmp = normalize_per_million_reads(df_tmp) #総リード数を100万に揃える"
   ]
  },
  {
   "cell_type": "code",
   "execution_count": 44,
   "metadata": {},
   "outputs": [
    {
     "data": {
      "text/html": [
       "<div>\n",
       "<style scoped>\n",
       "    .dataframe tbody tr th:only-of-type {\n",
       "        vertical-align: middle;\n",
       "    }\n",
       "\n",
       "    .dataframe tbody tr th {\n",
       "        vertical-align: top;\n",
       "    }\n",
       "\n",
       "    .dataframe thead th {\n",
       "        text-align: right;\n",
       "    }\n",
       "</style>\n",
       "<table border=\"1\" class=\"dataframe\">\n",
       "  <thead>\n",
       "    <tr style=\"text-align: right;\">\n",
       "      <th></th>\n",
       "      <th>batch_1</th>\n",
       "      <th>batch_2</th>\n",
       "      <th>batch_3</th>\n",
       "      <th>chemostat_1</th>\n",
       "      <th>chemostat_2</th>\n",
       "      <th>chemostat_3</th>\n",
       "    </tr>\n",
       "    <tr>\n",
       "      <th>gene_id</th>\n",
       "      <th></th>\n",
       "      <th></th>\n",
       "      <th></th>\n",
       "      <th></th>\n",
       "      <th></th>\n",
       "      <th></th>\n",
       "    </tr>\n",
       "  </thead>\n",
       "  <tbody>\n",
       "    <tr>\n",
       "      <th>gene_0001</th>\n",
       "      <td>0.00000</td>\n",
       "      <td>0.734587</td>\n",
       "      <td>3.129839</td>\n",
       "      <td>0.000000</td>\n",
       "      <td>0.000000</td>\n",
       "      <td>0.504810</td>\n",
       "    </tr>\n",
       "    <tr>\n",
       "      <th>gene_0002</th>\n",
       "      <td>0.00000</td>\n",
       "      <td>0.000000</td>\n",
       "      <td>0.000000</td>\n",
       "      <td>0.000000</td>\n",
       "      <td>0.000000</td>\n",
       "      <td>0.000000</td>\n",
       "    </tr>\n",
       "    <tr>\n",
       "      <th>gene_0003</th>\n",
       "      <td>0.00000</td>\n",
       "      <td>0.000000</td>\n",
       "      <td>0.000000</td>\n",
       "      <td>0.000000</td>\n",
       "      <td>0.000000</td>\n",
       "      <td>0.000000</td>\n",
       "    </tr>\n",
       "    <tr>\n",
       "      <th>gene_0004</th>\n",
       "      <td>0.00000</td>\n",
       "      <td>0.000000</td>\n",
       "      <td>0.000000</td>\n",
       "      <td>0.000000</td>\n",
       "      <td>0.000000</td>\n",
       "      <td>0.000000</td>\n",
       "    </tr>\n",
       "    <tr>\n",
       "      <th>gene_0005</th>\n",
       "      <td>0.94849</td>\n",
       "      <td>2.799529</td>\n",
       "      <td>4.969954</td>\n",
       "      <td>4.689762</td>\n",
       "      <td>4.372026</td>\n",
       "      <td>8.657291</td>\n",
       "    </tr>\n",
       "  </tbody>\n",
       "</table>\n",
       "</div>"
      ],
      "text/plain": [
       "           batch_1   batch_2   batch_3  chemostat_1  chemostat_2  chemostat_3\n",
       "gene_id                                                                      \n",
       "gene_0001  0.00000  0.734587  3.129839     0.000000     0.000000     0.504810\n",
       "gene_0002  0.00000  0.000000  0.000000     0.000000     0.000000     0.000000\n",
       "gene_0003  0.00000  0.000000  0.000000     0.000000     0.000000     0.000000\n",
       "gene_0004  0.00000  0.000000  0.000000     0.000000     0.000000     0.000000\n",
       "gene_0005  0.94849  2.799529  4.969954     4.689762     4.372026     8.657291"
      ]
     },
     "execution_count": 44,
     "metadata": {},
     "output_type": "execute_result"
    }
   ],
   "source": [
    "df_tmp.head()"
   ]
  },
  {
   "cell_type": "markdown",
   "metadata": {},
   "source": [
    "RPKM/FPKMと違い、合計が100万となっています。"
   ]
  },
  {
   "cell_type": "code",
   "execution_count": 45,
   "metadata": {},
   "outputs": [
    {
     "data": {
      "text/plain": [
       "batch_1        1000000.0\n",
       "batch_2        1000000.0\n",
       "batch_3        1000000.0\n",
       "chemostat_1    1000000.0\n",
       "chemostat_2    1000000.0\n",
       "chemostat_3    1000000.0\n",
       "dtype: float64"
      ]
     },
     "execution_count": 45,
     "metadata": {},
     "output_type": "execute_result"
    }
   ],
   "source": [
    "df_tmp.sum()"
   ]
  },
  {
   "cell_type": "markdown",
   "metadata": {
    "collapsed": true
   },
   "source": [
    "`normalize_tpm()` として関数化しておきます。"
   ]
  },
  {
   "cell_type": "code",
   "execution_count": 46,
   "metadata": {},
   "outputs": [],
   "source": [
    "def normalize_tpm(df, gene_length):\n",
    "    df_tmp = df.copy()\n",
    "    df_tmp = normalize_per_kilobase(df_tmp, gene_length)\n",
    "    df_tmp = normalize_per_million_reads(df_tmp)\n",
    "    return df_tmp"
   ]
  },
  {
   "cell_type": "code",
   "execution_count": 47,
   "metadata": {},
   "outputs": [],
   "source": [
    "df_count_tpm = normalize_tpm(df_count, gene_length)"
   ]
  },
  {
   "cell_type": "code",
   "execution_count": 48,
   "metadata": {},
   "outputs": [
    {
     "data": {
      "text/plain": [
       "batch_1        1000000.0\n",
       "batch_2        1000000.0\n",
       "batch_3        1000000.0\n",
       "chemostat_1    1000000.0\n",
       "chemostat_2    1000000.0\n",
       "chemostat_3    1000000.0\n",
       "dtype: float64"
      ]
     },
     "execution_count": 48,
     "metadata": {},
     "output_type": "execute_result"
    }
   ],
   "source": [
    "df_count_tpm.sum() #  確認"
   ]
  },
  {
   "cell_type": "code",
   "execution_count": 49,
   "metadata": {},
   "outputs": [],
   "source": [
    "# 保存\n",
    "df_count_tpm.to_csv('output/count_tpm.tsv', sep='\\t')"
   ]
  },
  {
   "cell_type": "markdown",
   "metadata": {},
   "source": [
    "* 参考）numpyを使った高速バージョンとの比較 <br>\n",
    "\n",
    "`%%timeit`はコードの時間計測を何回か試し, その中で最速の時間と平均値を返すマジックコマンドです。"
   ]
  },
  {
   "cell_type": "code",
   "execution_count": 50,
   "metadata": {},
   "outputs": [
    {
     "name": "stdout",
     "output_type": "stream",
     "text": [
      "2.24 ms ± 351 µs per loop (mean ± std. dev. of 7 runs, 100 loops each)\n"
     ]
    }
   ],
   "source": [
    "%%timeit\n",
    "# pandasで実装したもの\n",
    "normalize_tpm(df_count, gene_length)"
   ]
  },
  {
   "cell_type": "code",
   "execution_count": 51,
   "metadata": {},
   "outputs": [],
   "source": [
    "# valuesによりnumpy.ndarrayとして数値データを抽出\n",
    "counts = df_count.values\n",
    "length =gene_length.values"
   ]
  },
  {
   "cell_type": "code",
   "execution_count": 52,
   "metadata": {},
   "outputs": [
    {
     "name": "stdout",
     "output_type": "stream",
     "text": [
      "135 µs ± 202 ns per loop (mean ± std. dev. of 7 runs, 10000 loops each)\n"
     ]
    }
   ],
   "source": [
    "%%timeit\n",
    "# numpyで計算\n",
    "# 長さで正規化。行方向へbroadcastを行うため、reshapeしておく必要がある\n",
    "counts_tmp = counts / length.reshape(-1, 1) * 1000\n",
    "# カウント数の各列の合計を求めておく\n",
    "sum_count = counts_tmp.sum(axis=0)\n",
    "# 100万カウントに揃える\n",
    "tpm = counts_tmp / sum_count * 1000000"
   ]
  },
  {
   "cell_type": "markdown",
   "metadata": {},
   "source": [
    "### 3-4. 発現変動の大きかった遺伝子を抽出する"
   ]
  },
  {
   "cell_type": "markdown",
   "metadata": {},
   "source": [
    "FPKM正規化データを用います。<br>\n",
    "batch cultureの平均を求めます。"
   ]
  },
  {
   "cell_type": "code",
   "execution_count": 53,
   "metadata": {},
   "outputs": [],
   "source": [
    "df_count_fpkm['batch'] = (df_count_fpkm['batch_1'] + df_count_fpkm['batch_2'] + df_count_fpkm['batch_3']) / 3"
   ]
  },
  {
   "cell_type": "markdown",
   "metadata": {},
   "source": [
    "chemostatの平均を求めます。"
   ]
  },
  {
   "cell_type": "code",
   "execution_count": 54,
   "metadata": {},
   "outputs": [],
   "source": [
    "df_count_fpkm['chemostat'] = (df_count_fpkm['chemostat_1'] + df_count_fpkm['chemostat_2'] + df_count_fpkm['chemostat_3']) / 3"
   ]
  },
  {
   "cell_type": "markdown",
   "metadata": {
    "collapsed": true
   },
   "source": [
    "発現変動をlog2 fold として求めます。<br>\n",
    "0 での除算を防ぐため、分母に微小な値を加えています。<br>"
   ]
  },
  {
   "cell_type": "code",
   "execution_count": 55,
   "metadata": {},
   "outputs": [],
   "source": [
    "df_count_fpkm['log2fold'] = df_count_fpkm['chemostat'] / (df_count_fpkm['batch'] + 10**-6)\n",
    "df_count_fpkm['log2fold'] = df_count_fpkm['log2fold'].apply(np.log2)"
   ]
  },
  {
   "cell_type": "code",
   "execution_count": 56,
   "metadata": {},
   "outputs": [
    {
     "data": {
      "text/html": [
       "<div>\n",
       "<style scoped>\n",
       "    .dataframe tbody tr th:only-of-type {\n",
       "        vertical-align: middle;\n",
       "    }\n",
       "\n",
       "    .dataframe tbody tr th {\n",
       "        vertical-align: top;\n",
       "    }\n",
       "\n",
       "    .dataframe thead th {\n",
       "        text-align: right;\n",
       "    }\n",
       "</style>\n",
       "<table border=\"1\" class=\"dataframe\">\n",
       "  <thead>\n",
       "    <tr style=\"text-align: right;\">\n",
       "      <th></th>\n",
       "      <th>batch_1</th>\n",
       "      <th>batch_2</th>\n",
       "      <th>batch_3</th>\n",
       "      <th>chemostat_1</th>\n",
       "      <th>chemostat_2</th>\n",
       "      <th>chemostat_3</th>\n",
       "      <th>batch</th>\n",
       "      <th>chemostat</th>\n",
       "      <th>log2fold</th>\n",
       "    </tr>\n",
       "    <tr>\n",
       "      <th>gene_id</th>\n",
       "      <th></th>\n",
       "      <th></th>\n",
       "      <th></th>\n",
       "      <th></th>\n",
       "      <th></th>\n",
       "      <th></th>\n",
       "      <th></th>\n",
       "      <th></th>\n",
       "      <th></th>\n",
       "    </tr>\n",
       "  </thead>\n",
       "  <tbody>\n",
       "    <tr>\n",
       "      <th>gene_0001</th>\n",
       "      <td>0.000000</td>\n",
       "      <td>0.881103</td>\n",
       "      <td>3.653609</td>\n",
       "      <td>0.000000</td>\n",
       "      <td>0.00000</td>\n",
       "      <td>0.561926</td>\n",
       "      <td>1.511571</td>\n",
       "      <td>0.187309</td>\n",
       "      <td>-3.012560</td>\n",
       "    </tr>\n",
       "    <tr>\n",
       "      <th>gene_0002</th>\n",
       "      <td>0.000000</td>\n",
       "      <td>0.000000</td>\n",
       "      <td>0.000000</td>\n",
       "      <td>0.000000</td>\n",
       "      <td>0.00000</td>\n",
       "      <td>0.000000</td>\n",
       "      <td>0.000000</td>\n",
       "      <td>0.000000</td>\n",
       "      <td>-inf</td>\n",
       "    </tr>\n",
       "    <tr>\n",
       "      <th>gene_0003</th>\n",
       "      <td>0.000000</td>\n",
       "      <td>0.000000</td>\n",
       "      <td>0.000000</td>\n",
       "      <td>0.000000</td>\n",
       "      <td>0.00000</td>\n",
       "      <td>0.000000</td>\n",
       "      <td>0.000000</td>\n",
       "      <td>0.000000</td>\n",
       "      <td>-inf</td>\n",
       "    </tr>\n",
       "    <tr>\n",
       "      <th>gene_0004</th>\n",
       "      <td>0.000000</td>\n",
       "      <td>0.000000</td>\n",
       "      <td>0.000000</td>\n",
       "      <td>0.000000</td>\n",
       "      <td>0.00000</td>\n",
       "      <td>0.000000</td>\n",
       "      <td>0.000000</td>\n",
       "      <td>0.000000</td>\n",
       "      <td>-inf</td>\n",
       "    </tr>\n",
       "    <tr>\n",
       "      <th>gene_0005</th>\n",
       "      <td>1.149909</td>\n",
       "      <td>3.357905</td>\n",
       "      <td>5.801662</td>\n",
       "      <td>5.123019</td>\n",
       "      <td>4.74806</td>\n",
       "      <td>9.636806</td>\n",
       "      <td>3.436492</td>\n",
       "      <td>6.502628</td>\n",
       "      <td>0.920086</td>\n",
       "    </tr>\n",
       "  </tbody>\n",
       "</table>\n",
       "</div>"
      ],
      "text/plain": [
       "            batch_1   batch_2   batch_3  chemostat_1  chemostat_2  \\\n",
       "gene_id                                                             \n",
       "gene_0001  0.000000  0.881103  3.653609     0.000000      0.00000   \n",
       "gene_0002  0.000000  0.000000  0.000000     0.000000      0.00000   \n",
       "gene_0003  0.000000  0.000000  0.000000     0.000000      0.00000   \n",
       "gene_0004  0.000000  0.000000  0.000000     0.000000      0.00000   \n",
       "gene_0005  1.149909  3.357905  5.801662     5.123019      4.74806   \n",
       "\n",
       "           chemostat_3     batch  chemostat  log2fold  \n",
       "gene_id                                                \n",
       "gene_0001     0.561926  1.511571   0.187309 -3.012560  \n",
       "gene_0002     0.000000  0.000000   0.000000      -inf  \n",
       "gene_0003     0.000000  0.000000   0.000000      -inf  \n",
       "gene_0004     0.000000  0.000000   0.000000      -inf  \n",
       "gene_0005     9.636806  3.436492   6.502628  0.920086  "
      ]
     },
     "execution_count": 56,
     "metadata": {},
     "output_type": "execute_result"
    }
   ],
   "source": [
    "df_count_fpkm.head()"
   ]
  },
  {
   "cell_type": "markdown",
   "metadata": {},
   "source": [
    "必要部分のみ抜き出し、productと結合します。"
   ]
  },
  {
   "cell_type": "code",
   "execution_count": 57,
   "metadata": {},
   "outputs": [],
   "source": [
    "diff_ex = df_count_fpkm[['batch', 'chemostat', 'log2fold']]\n",
    "diff_ex = diff_ex.join(gene_products)"
   ]
  },
  {
   "cell_type": "code",
   "execution_count": 58,
   "metadata": {},
   "outputs": [
    {
     "data": {
      "text/html": [
       "<div>\n",
       "<style scoped>\n",
       "    .dataframe tbody tr th:only-of-type {\n",
       "        vertical-align: middle;\n",
       "    }\n",
       "\n",
       "    .dataframe tbody tr th {\n",
       "        vertical-align: top;\n",
       "    }\n",
       "\n",
       "    .dataframe thead th {\n",
       "        text-align: right;\n",
       "    }\n",
       "</style>\n",
       "<table border=\"1\" class=\"dataframe\">\n",
       "  <thead>\n",
       "    <tr style=\"text-align: right;\">\n",
       "      <th></th>\n",
       "      <th>batch</th>\n",
       "      <th>chemostat</th>\n",
       "      <th>log2fold</th>\n",
       "      <th>product</th>\n",
       "    </tr>\n",
       "    <tr>\n",
       "      <th>gene_id</th>\n",
       "      <th></th>\n",
       "      <th></th>\n",
       "      <th></th>\n",
       "      <th></th>\n",
       "    </tr>\n",
       "  </thead>\n",
       "  <tbody>\n",
       "    <tr>\n",
       "      <th>gene_0001</th>\n",
       "      <td>1.511571</td>\n",
       "      <td>0.187309</td>\n",
       "      <td>-3.012560</td>\n",
       "      <td>seripauperin PAU8</td>\n",
       "    </tr>\n",
       "    <tr>\n",
       "      <th>gene_0002</th>\n",
       "      <td>0.000000</td>\n",
       "      <td>0.000000</td>\n",
       "      <td>-inf</td>\n",
       "      <td>hypothetical protein</td>\n",
       "    </tr>\n",
       "    <tr>\n",
       "      <th>gene_0003</th>\n",
       "      <td>0.000000</td>\n",
       "      <td>0.000000</td>\n",
       "      <td>-inf</td>\n",
       "      <td>putative permease SEO1</td>\n",
       "    </tr>\n",
       "    <tr>\n",
       "      <th>gene_0004</th>\n",
       "      <td>0.000000</td>\n",
       "      <td>0.000000</td>\n",
       "      <td>-inf</td>\n",
       "      <td>hypothetical protein</td>\n",
       "    </tr>\n",
       "    <tr>\n",
       "      <th>gene_0005</th>\n",
       "      <td>3.436492</td>\n",
       "      <td>6.502628</td>\n",
       "      <td>0.920086</td>\n",
       "      <td>hypothetical protein</td>\n",
       "    </tr>\n",
       "  </tbody>\n",
       "</table>\n",
       "</div>"
      ],
      "text/plain": [
       "              batch  chemostat  log2fold                 product\n",
       "gene_id                                                         \n",
       "gene_0001  1.511571   0.187309 -3.012560       seripauperin PAU8\n",
       "gene_0002  0.000000   0.000000      -inf    hypothetical protein\n",
       "gene_0003  0.000000   0.000000      -inf  putative permease SEO1\n",
       "gene_0004  0.000000   0.000000      -inf    hypothetical protein\n",
       "gene_0005  3.436492   6.502628  0.920086    hypothetical protein"
      ]
     },
     "execution_count": 58,
     "metadata": {},
     "output_type": "execute_result"
    }
   ],
   "source": [
    "diff_ex.head()"
   ]
  },
  {
   "cell_type": "markdown",
   "metadata": {},
   "source": [
    "カウント数が0であるデータを除きます。"
   ]
  },
  {
   "cell_type": "code",
   "execution_count": 59,
   "metadata": {},
   "outputs": [],
   "source": [
    "diff_ex = diff_ex[diff_ex['batch'] > 0]\n",
    "diff_ex = diff_ex[diff_ex['chemostat'] > 0]"
   ]
  },
  {
   "cell_type": "code",
   "execution_count": 60,
   "metadata": {},
   "outputs": [
    {
     "data": {
      "text/plain": [
       "(5857, 4)"
      ]
     },
     "execution_count": 60,
     "metadata": {},
     "output_type": "execute_result"
    }
   ],
   "source": [
    "diff_ex.shape"
   ]
  },
  {
   "cell_type": "code",
   "execution_count": 61,
   "metadata": {},
   "outputs": [
    {
     "data": {
      "text/html": [
       "<div>\n",
       "<style scoped>\n",
       "    .dataframe tbody tr th:only-of-type {\n",
       "        vertical-align: middle;\n",
       "    }\n",
       "\n",
       "    .dataframe tbody tr th {\n",
       "        vertical-align: top;\n",
       "    }\n",
       "\n",
       "    .dataframe thead th {\n",
       "        text-align: right;\n",
       "    }\n",
       "</style>\n",
       "<table border=\"1\" class=\"dataframe\">\n",
       "  <thead>\n",
       "    <tr style=\"text-align: right;\">\n",
       "      <th></th>\n",
       "      <th>batch</th>\n",
       "      <th>chemostat</th>\n",
       "      <th>log2fold</th>\n",
       "      <th>product</th>\n",
       "    </tr>\n",
       "    <tr>\n",
       "      <th>gene_id</th>\n",
       "      <th></th>\n",
       "      <th></th>\n",
       "      <th></th>\n",
       "      <th></th>\n",
       "    </tr>\n",
       "  </thead>\n",
       "  <tbody>\n",
       "    <tr>\n",
       "      <th>gene_0001</th>\n",
       "      <td>1.511571</td>\n",
       "      <td>0.187309</td>\n",
       "      <td>-3.012560</td>\n",
       "      <td>seripauperin PAU8</td>\n",
       "    </tr>\n",
       "    <tr>\n",
       "      <th>gene_0005</th>\n",
       "      <td>3.436492</td>\n",
       "      <td>6.502628</td>\n",
       "      <td>0.920086</td>\n",
       "      <td>hypothetical protein</td>\n",
       "    </tr>\n",
       "    <tr>\n",
       "      <th>gene_0009</th>\n",
       "      <td>1.698272</td>\n",
       "      <td>3.981166</td>\n",
       "      <td>1.229123</td>\n",
       "      <td>flocculin FLO9</td>\n",
       "    </tr>\n",
       "    <tr>\n",
       "      <th>gene_0010</th>\n",
       "      <td>9.799555</td>\n",
       "      <td>170.928039</td>\n",
       "      <td>4.124529</td>\n",
       "      <td>glutamate dehydrogenase (NADP(+)) GDH3</td>\n",
       "    </tr>\n",
       "    <tr>\n",
       "      <th>gene_0011</th>\n",
       "      <td>17.047195</td>\n",
       "      <td>171.123484</td>\n",
       "      <td>3.327431</td>\n",
       "      <td>putative dehydrogenase BDH2</td>\n",
       "    </tr>\n",
       "  </tbody>\n",
       "</table>\n",
       "</div>"
      ],
      "text/plain": [
       "               batch   chemostat  log2fold  \\\n",
       "gene_id                                      \n",
       "gene_0001   1.511571    0.187309 -3.012560   \n",
       "gene_0005   3.436492    6.502628  0.920086   \n",
       "gene_0009   1.698272    3.981166  1.229123   \n",
       "gene_0010   9.799555  170.928039  4.124529   \n",
       "gene_0011  17.047195  171.123484  3.327431   \n",
       "\n",
       "                                          product  \n",
       "gene_id                                            \n",
       "gene_0001                       seripauperin PAU8  \n",
       "gene_0005                    hypothetical protein  \n",
       "gene_0009                          flocculin FLO9  \n",
       "gene_0010  glutamate dehydrogenase (NADP(+)) GDH3  \n",
       "gene_0011             putative dehydrogenase BDH2  "
      ]
     },
     "execution_count": 61,
     "metadata": {},
     "output_type": "execute_result"
    }
   ],
   "source": [
    "diff_ex.head()"
   ]
  },
  {
   "cell_type": "markdown",
   "metadata": {},
   "source": [
    "log2foldの降順に並びかえます。"
   ]
  },
  {
   "cell_type": "code",
   "execution_count": 62,
   "metadata": {},
   "outputs": [],
   "source": [
    "diff_ex = diff_ex.sort_values('log2fold', ascending=False)"
   ]
  },
  {
   "cell_type": "code",
   "execution_count": 63,
   "metadata": {},
   "outputs": [
    {
     "data": {
      "text/html": [
       "<div>\n",
       "<style scoped>\n",
       "    .dataframe tbody tr th:only-of-type {\n",
       "        vertical-align: middle;\n",
       "    }\n",
       "\n",
       "    .dataframe tbody tr th {\n",
       "        vertical-align: top;\n",
       "    }\n",
       "\n",
       "    .dataframe thead th {\n",
       "        text-align: right;\n",
       "    }\n",
       "</style>\n",
       "<table border=\"1\" class=\"dataframe\">\n",
       "  <thead>\n",
       "    <tr style=\"text-align: right;\">\n",
       "      <th></th>\n",
       "      <th>batch</th>\n",
       "      <th>chemostat</th>\n",
       "      <th>log2fold</th>\n",
       "      <th>product</th>\n",
       "    </tr>\n",
       "    <tr>\n",
       "      <th>gene_id</th>\n",
       "      <th></th>\n",
       "      <th></th>\n",
       "      <th></th>\n",
       "      <th></th>\n",
       "    </tr>\n",
       "  </thead>\n",
       "  <tbody>\n",
       "    <tr>\n",
       "      <th>gene_2989</th>\n",
       "      <td>0.511745</td>\n",
       "      <td>1610.887557</td>\n",
       "      <td>11.620140</td>\n",
       "      <td>Rgi2p</td>\n",
       "    </tr>\n",
       "    <tr>\n",
       "      <th>gene_4740</th>\n",
       "      <td>3.717076</td>\n",
       "      <td>5574.454736</td>\n",
       "      <td>10.550447</td>\n",
       "      <td>Sip18p</td>\n",
       "    </tr>\n",
       "    <tr>\n",
       "      <th>gene_4667</th>\n",
       "      <td>5.975449</td>\n",
       "      <td>5113.855146</td>\n",
       "      <td>9.741148</td>\n",
       "      <td>Spg4p</td>\n",
       "    </tr>\n",
       "    <tr>\n",
       "      <th>gene_5965</th>\n",
       "      <td>8.615621</td>\n",
       "      <td>5815.573818</td>\n",
       "      <td>9.398751</td>\n",
       "      <td>Gre1p</td>\n",
       "    </tr>\n",
       "    <tr>\n",
       "      <th>gene_4237</th>\n",
       "      <td>1.158934</td>\n",
       "      <td>776.350184</td>\n",
       "      <td>9.387764</td>\n",
       "      <td>hypothetical protein</td>\n",
       "    </tr>\n",
       "  </tbody>\n",
       "</table>\n",
       "</div>"
      ],
      "text/plain": [
       "              batch    chemostat   log2fold               product\n",
       "gene_id                                                          \n",
       "gene_2989  0.511745  1610.887557  11.620140                 Rgi2p\n",
       "gene_4740  3.717076  5574.454736  10.550447                Sip18p\n",
       "gene_4667  5.975449  5113.855146   9.741148                 Spg4p\n",
       "gene_5965  8.615621  5815.573818   9.398751                 Gre1p\n",
       "gene_4237  1.158934   776.350184   9.387764  hypothetical protein"
      ]
     },
     "execution_count": 63,
     "metadata": {},
     "output_type": "execute_result"
    }
   ],
   "source": [
    "diff_ex.head()"
   ]
  },
  {
   "cell_type": "code",
   "execution_count": 64,
   "metadata": {},
   "outputs": [
    {
     "data": {
      "text/html": [
       "<div>\n",
       "<style scoped>\n",
       "    .dataframe tbody tr th:only-of-type {\n",
       "        vertical-align: middle;\n",
       "    }\n",
       "\n",
       "    .dataframe tbody tr th {\n",
       "        vertical-align: top;\n",
       "    }\n",
       "\n",
       "    .dataframe thead th {\n",
       "        text-align: right;\n",
       "    }\n",
       "</style>\n",
       "<table border=\"1\" class=\"dataframe\">\n",
       "  <thead>\n",
       "    <tr style=\"text-align: right;\">\n",
       "      <th></th>\n",
       "      <th>batch</th>\n",
       "      <th>chemostat</th>\n",
       "      <th>log2fold</th>\n",
       "      <th>product</th>\n",
       "    </tr>\n",
       "    <tr>\n",
       "      <th>gene_id</th>\n",
       "      <th></th>\n",
       "      <th></th>\n",
       "      <th></th>\n",
       "      <th></th>\n",
       "    </tr>\n",
       "  </thead>\n",
       "  <tbody>\n",
       "    <tr>\n",
       "      <th>gene_0314</th>\n",
       "      <td>12.593317</td>\n",
       "      <td>1.214752</td>\n",
       "      <td>-3.373925</td>\n",
       "      <td>ADP/ATP carrier protein AAC3</td>\n",
       "    </tr>\n",
       "    <tr>\n",
       "      <th>gene_2429</th>\n",
       "      <td>2.481020</td>\n",
       "      <td>0.202360</td>\n",
       "      <td>-3.615936</td>\n",
       "      <td>hypothetical protein</td>\n",
       "    </tr>\n",
       "    <tr>\n",
       "      <th>gene_2725</th>\n",
       "      <td>938.239733</td>\n",
       "      <td>73.367263</td>\n",
       "      <td>-3.676748</td>\n",
       "      <td>hexose transporter HXT4</td>\n",
       "    </tr>\n",
       "    <tr>\n",
       "      <th>gene_5487</th>\n",
       "      <td>92.881590</td>\n",
       "      <td>6.848675</td>\n",
       "      <td>-3.761496</td>\n",
       "      <td>hypothetical protein</td>\n",
       "    </tr>\n",
       "    <tr>\n",
       "      <th>gene_1320</th>\n",
       "      <td>969.132836</td>\n",
       "      <td>50.512030</td>\n",
       "      <td>-4.261995</td>\n",
       "      <td>hexose transporter HXT3</td>\n",
       "    </tr>\n",
       "  </tbody>\n",
       "</table>\n",
       "</div>"
      ],
      "text/plain": [
       "                batch  chemostat  log2fold                       product\n",
       "gene_id                                                                 \n",
       "gene_0314   12.593317   1.214752 -3.373925  ADP/ATP carrier protein AAC3\n",
       "gene_2429    2.481020   0.202360 -3.615936          hypothetical protein\n",
       "gene_2725  938.239733  73.367263 -3.676748       hexose transporter HXT4\n",
       "gene_5487   92.881590   6.848675 -3.761496          hypothetical protein\n",
       "gene_1320  969.132836  50.512030 -4.261995       hexose transporter HXT3"
      ]
     },
     "execution_count": 64,
     "metadata": {},
     "output_type": "execute_result"
    }
   ],
   "source": [
    "diff_ex.tail()"
   ]
  },
  {
   "cell_type": "markdown",
   "metadata": {
    "collapsed": true
   },
   "source": [
    "### 3-5. FPKM正規化したデータのクラスタリング\n",
    "matplotlib と scipy の必要モジュールをインポートします。"
   ]
  },
  {
   "cell_type": "code",
   "execution_count": 65,
   "metadata": {},
   "outputs": [],
   "source": [
    "import matplotlib.pyplot as plt\n",
    "from scipy.cluster.hierarchy import linkage, dendrogram, fcluster"
   ]
  },
  {
   "cell_type": "code",
   "execution_count": 66,
   "metadata": {},
   "outputs": [
    {
     "data": {
      "image/png": "[encoded data removed]",
      "text/plain": [
       "<Figure size 3200x1800 with 1 Axes>"
      ]
     },
     "metadata": {},
     "output_type": "display_data"
    }
   ],
   "source": [
    "# 転置\n",
    "fpkm_t = df_count_fpkm.T\n",
    "\n",
    "# 平均とlog2foldの行を削除\n",
    "fpkm_t = fpkm_t.drop(['batch', 'chemostat', 'log2fold'])\n",
    "\n",
    "# クラスタリング\n",
    "linkage_result = linkage(fpkm_t, method='average', metric='correlation')\n",
    "\n",
    "# 結果の可視化\n",
    "plt.figure(num=None, figsize=(16, 9), dpi=200, facecolor='w', edgecolor='k')\n",
    "dendrogram(linkage_result,labels = list(fpkm_t.index) )\n",
    "plt.show()"
   ]
  },
  {
   "cell_type": "code",
   "execution_count": null,
   "metadata": {},
   "outputs": [],
   "source": []
  }
 ],
 "metadata": {
  "kernelspec": {
   "display_name": "Python 3",
   "language": "python",
   "name": "python3"
  },
  "language_info": {
   "codemirror_mode": {
    "name": "ipython",
    "version": 3
   },
   "file_extension": ".py",
   "mimetype": "text/x-python",
   "name": "python",
   "nbconvert_exporter": "python",
   "pygments_lexer": "ipython3",
   "version": "3.7.1"
  },
  "toc": {
   "colors": {
    "hover_highlight": "#DAA520",
    "running_highlight": "#FF0000",
    "selected_highlight": "#FFD700"
   },
   "moveMenuLeft": true,
   "nav_menu": {
    "height": "102px",
    "width": "252px"
   },
   "navigate_menu": true,
   "number_sections": true,
   "sideBar": true,
   "threshold": 4,
   "toc_cell": false,
   "toc_section_display": "block",
   "toc_window_display": false
  }
 },
 "nbformat": 4,
 "nbformat_minor": 2
}
