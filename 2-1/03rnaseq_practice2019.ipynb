{
 "cells": [
  {
   "cell_type": "markdown",
   "metadata": {},
   "source": [
    "# （練習）RNA-seqカウントデータの読み込み・前処理"
   ]
  },
  {
   "cell_type": "code",
   "execution_count": 7,
   "metadata": {
    "collapsed": true
   },
   "outputs": [],
   "source": [
    "# pandasのインポート\n",
    "import pandas as pd\n",
    "import numpy as np"
   ]
  },
  {
   "cell_type": "code",
   "execution_count": 2,
   "metadata": {
    "collapsed": true
   },
   "outputs": [],
   "source": [
    "count_file = \"input/counts.txt\"\n",
    "gene_id_product_file = \"input/gene_id_product.tsv\""
   ]
  },
  {
   "cell_type": "markdown",
   "metadata": {},
   "source": [
    "## 課題１ pd.read_tableまたはpd_read_csvを使って カウントデータを読み込む\n",
    "データフレーム名は`df`とすること。"
   ]
  },
  {
   "cell_type": "markdown",
   "metadata": {},
   "source": [
    "```\n",
    "# Program:featureCounts v1.6.2; Command:\"../tools/subread-1.6.2-Linux-x86_64/bin/featureCounts\" \"-p\" \"-T\" \"8\" \"-t\" \"exon\" \"-g\" \"gene_id\" \"-a\" \"../reference/s288c_e.gff\" \"-o\" \"../featurecount/counts.txt\" \"SRR453566.sorted.bam\" \"SRR453567.sorted.bam\" \"SRR453568.sorted.bam\" \"SRR453569.sorted.bam\" \"SRR453570.sorted.bam\" \"SRR453571.sorted.bam\" \n",
    "Geneid  Chr     Start   End     Strand  Length  SRR453566.sorted.bam    SRR453567.sorted.bam    SRR453568.sorted.bam    SRR453569.sorted.bam    SRR453570.sorted.bam    SRR453571.sorted.bam\n",
    "gene_0001       NC_001133.9     1807    2169    -       363     1       3       2       0       0       1\n",
    "gene_0002       NC_001133.9     2480    2707    +       228     0       0       0       0       0       0\n",
    "gene_0003       NC_001133.9     7235    9016    -       1782    0       0       0       0       0       0\n",
    "gene_0004... 以下省略\n",
    "```\n",
    "1行目はfeatureCountsの実行条件が記載されているだけなので無視する。<br>\n",
    "2行目は列タイトルを表すヘッダー行。<br>\n",
    "3行目以降からがデータ行, 一番左の列が遺伝子idになっているのでこれをインデックスに用いる。"
   ]
  },
  {
   "cell_type": "markdown",
   "metadata": {},
   "source": [
    "`pd.read_table()` メソッドの`skiprows`、`index_col`オプションを指定して読み込む。<br>\n",
    "`header`オプションを使う方法, `pd.read_csv()`メソッドを使ってもよい。"
   ]
  },
  {
   "cell_type": "code",
   "execution_count": null,
   "metadata": {},
   "outputs": [],
   "source": [
    "# (.....)に必要なオプションを指定して実行\n",
    "df = pd.read_table(.....)"
   ]
  },
  {
   "cell_type": "markdown",
   "metadata": {},
   "source": [
    "読み込めたら、データ件数などの確認を行う<br>\n",
    "`df.head()`  `df.sum()` `df.shape` など"
   ]
  },
  {
   "cell_type": "code",
   "execution_count": null,
   "metadata": {},
   "outputs": [],
   "source": [
    "# 列名とインデックスが正しく読み込まれているかを確認　head()を使う\n"
   ]
  },
  {
   "cell_type": "code",
   "execution_count": null,
   "metadata": {},
   "outputs": [],
   "source": [
    "# データ件数を確認　shapeを使う\n"
   ]
  },
  {
   "cell_type": "markdown",
   "metadata": {},
   "source": [
    "以後の解析のため、列名を変更しておきます。  \n",
    "下記２セルを実行"
   ]
  },
  {
   "cell_type": "code",
   "execution_count": 8,
   "metadata": {
    "collapsed": true
   },
   "outputs": [],
   "source": [
    "# 列名を変更するための対応表\n",
    "names = {'SRR453566.sorted.bam': 'batch_1',\n",
    "         'SRR453567.sorted.bam': 'batch_2',\n",
    "         'SRR453568.sorted.bam': 'batch_3',\n",
    "         'SRR453569.sorted.bam': 'chemostat_1',\n",
    "         'SRR453570.sorted.bam': 'chemostat_2',\n",
    "         'SRR453571.sorted.bam': 'chemostat_3'}"
   ]
  },
  {
   "cell_type": "code",
   "execution_count": 9,
   "metadata": {},
   "outputs": [],
   "source": [
    "# rename_axisをaxis=1を適用して使い、列名を変更する\n",
    "df = df.rename_axis(mapper=names, axis=1)"
   ]
  },
  {
   "cell_type": "code",
   "execution_count": null,
   "metadata": {},
   "outputs": [],
   "source": [
    "# 確認\n",
    "df.head()"
   ]
  },
  {
   "cell_type": "markdown",
   "metadata": {},
   "source": [
    "## 課題２ ミトコンドリア上の遺伝子のカウントデータを除く  \n",
    "df.Chrの値が NC_001224.1 に一致するものがミトコンドリアに該当するので、boolean indexingを使って除く。"
   ]
  },
  {
   "cell_type": "code",
   "execution_count": 11,
   "metadata": {},
   "outputs": [],
   "source": [
    "# df.Chrの値が NC_001224.1 に一致しないものを抽出してdfに代入する\n",
    "df = df[df.Chr 　　　　　　]"
   ]
  },
  {
   "cell_type": "code",
   "execution_count": null,
   "metadata": {},
   "outputs": [],
   "source": [
    "# 正しく処理ができればデータ件数は6394件になるはず\n",
    "df.shape"
   ]
  },
  {
   "cell_type": "markdown",
   "metadata": {},
   "source": [
    "## 課題３　pd.read_tableを使ってgene_id_productを読み込む\n",
    "1列目をインデックスとして用いること。ヘッダー行がないので、 `names=[\"gene_id\", \"product\"]`オプションを指定して読み込むこと。  \n",
    "データフレーム名は `gene_products` とすること。\n",
    "\n",
    "`gene_products = pd.read_table(.....)`\n"
   ]
  },
  {
   "cell_type": "code",
   "execution_count": null,
   "metadata": {},
   "outputs": [],
   "source": [
    "# (.....)に必要なオプションを指定して実行\n",
    "gene_products = pd.read_table(.....)"
   ]
  },
  {
   "cell_type": "code",
   "execution_count": null,
   "metadata": {},
   "outputs": [],
   "source": [
    "# 正しく読み込めているか確認\n",
    "gene_products.head()"
   ]
  },
  {
   "cell_type": "markdown",
   "metadata": {},
   "source": [
    "## 課題４　gene_productsにdfを連結する  \n",
    "インデックス列を使って接続するので `join()` を使うのが良い。 <br> \n",
    "データフレーム名はdf_with_productとすること。<br>\n",
    "\n",
    "`df_with_product = gene_products.join(...`\n"
   ]
  },
  {
   "cell_type": "code",
   "execution_count": null,
   "metadata": {},
   "outputs": [],
   "source": [
    "# (.....)に必要なオプションを指定して実行\n",
    "df_with_product = gene_products.join(.....)"
   ]
  },
  {
   "cell_type": "markdown",
   "metadata": {},
   "source": [
    "本来であれば rRNA　にマップされたリードは無視したいので除く必要がある。  \n",
    "gene_products には mRNA のデータしか含まれていないので、rRNA などのデータはこの時点で除かれる。  \n",
    "`pd.merge()`や`pd.concat()`を用いてもよい。"
   ]
  },
  {
   "cell_type": "code",
   "execution_count": null,
   "metadata": {},
   "outputs": [],
   "source": [
    "# 確認\n",
    "df_with_product.head()"
   ]
  },
  {
   "cell_type": "markdown",
   "metadata": {},
   "source": [
    "カウントデータ部分のみを切り出し"
   ]
  },
  {
   "cell_type": "code",
   "execution_count": 19,
   "metadata": {},
   "outputs": [],
   "source": [
    "df_count = df_with_product[[\"batch_1\",\"batch_2\",\"batch_3\",\"chemostat_1\",\"chemostat_2\",\"chemostat_3\"]]\n",
    "# スライスで指定するなら　df_with_product.iloc[:, 6:12]"
   ]
  },
  {
   "cell_type": "markdown",
   "metadata": {},
   "source": [
    "__ファイルの保存__<br>\n",
    "カレントフォルダにoutputフォルダを作成しておく。<br>\n",
    "`df_with_product`をoutputフォルダにcount_preprocessed.tsvとして保存する。<br>\n",
    "`df_count`をoutputフォルダにcount_raw.tsvとして保存する。<br>\n",
    "`df.to_csv(sep=\"\\t\")`を用いる。"
   ]
  },
  {
   "cell_type": "code",
   "execution_count": 20,
   "metadata": {
    "collapsed": true
   },
   "outputs": [],
   "source": [
    "# アノテーション付きカウントデータの保存\n",
    "# (.....)に必要なオプションを入れて実行\n",
    "df_with_product.to_csv(.....)"
   ]
  },
  {
   "cell_type": "code",
   "execution_count": 21,
   "metadata": {},
   "outputs": [],
   "source": [
    "# raw カウントのデータを保存\n",
    "# (.....)に必要なオプションを入れて実行\n",
    "df_count.to_csv(.....)"
   ]
  },
  {
   "cell_type": "code",
   "execution_count": null,
   "metadata": {},
   "outputs": [],
   "source": [
    "%%bash\n",
    "# シェルコマンド head を使って確認\n",
    "head output/count_raw.tsv"
   ]
  },
  {
   "cell_type": "markdown",
   "metadata": {},
   "source": [
    "## 課題５　リード数による正規化（FPM/RPM）\n",
    "RPM = reads per million <br>\n",
    "カウントを100万リードあたりのカウント数に揃え, 正規化する。<br>\n",
    "カウントデータをコピーした`df_tmp`を使う"
   ]
  },
  {
   "cell_type": "code",
   "execution_count": 24,
   "metadata": {
    "collapsed": true
   },
   "outputs": [],
   "source": [
    "#カウントデータを別のデータフレームとしてコピーしておく\n",
    "df_tmp = df_count.copy()"
   ]
  },
  {
   "cell_type": "code",
   "execution_count": null,
   "metadata": {},
   "outputs": [],
   "source": [
    "# 列ごとのリード数の合計\n",
    "sum_count =\n",
    "# カウント数を列ごとのリード数の合計で割り,100万をかける\n",
    "df_tmp =　"
   ]
  },
  {
   "cell_type": "code",
   "execution_count": 29,
   "metadata": {},
   "outputs": [
    {
     "data": {
      "text/plain": [
       "batch_1        1000000.0\n",
       "batch_2        1000000.0\n",
       "batch_3        1000000.0\n",
       "chemostat_1    1000000.0\n",
       "chemostat_2    1000000.0\n",
       "chemostat_3    1000000.0\n",
       "dtype: float64"
      ]
     },
     "execution_count": 29,
     "metadata": {},
     "output_type": "execute_result"
    }
   ],
   "source": [
    "# ただしく処理できていれば、下記のようになるはず。\n",
    "# リード数の合計が100万に揃っていることを確認。\n",
    "df_tmp.sum()"
   ]
  },
  {
   "cell_type": "markdown",
   "metadata": {
    "collapsed": true
   },
   "source": [
    "上記の処理を関数化しておく。"
   ]
  },
  {
   "cell_type": "code",
   "execution_count": null,
   "metadata": {
    "collapsed": true
   },
   "outputs": [],
   "source": [
    "def normalize_per_million_reads(df):\n",
    "    ....\n",
    "    ...."
   ]
  },
  {
   "cell_type": "code",
   "execution_count": 31,
   "metadata": {
    "collapsed": true
   },
   "outputs": [],
   "source": [
    "# 関数の適用\n",
    "df_count_fpm = normalize_per_million_reads(df_count)"
   ]
  },
  {
   "cell_type": "code",
   "execution_count": 32,
   "metadata": {},
   "outputs": [
    {
     "data": {
      "text/plain": [
       "batch_1        1000000.0\n",
       "batch_2        1000000.0\n",
       "batch_3        1000000.0\n",
       "chemostat_1    1000000.0\n",
       "chemostat_2    1000000.0\n",
       "chemostat_3    1000000.0\n",
       "dtype: float64"
      ]
     },
     "execution_count": 32,
     "metadata": {},
     "output_type": "execute_result"
    }
   ],
   "source": [
    "# 確認\n",
    "df_count_fpm.sum()"
   ]
  },
  {
   "cell_type": "code",
   "execution_count": 33,
   "metadata": {
    "collapsed": true
   },
   "outputs": [],
   "source": [
    "# FPM正規化を行った結果を保存\n",
    "df_count_fpm.to_csv(\"output/count_fpm.tsv\", sep=\"\\t\")"
   ]
  },
  {
   "cell_type": "markdown",
   "metadata": {},
   "source": [
    "## 課題６　遺伝子長による正規化 (RPKM/FPKM)\n",
    "FPKM = fragments per kilobase of exon per million reads mapped<br>\n",
    "上で求めたFPMをさらに遺伝子長で割って1000をかければ良い。<br>\n",
    "以下に示す1~4のいずれかの方法を用いること。"
   ]
  },
  {
   "cell_type": "code",
   "execution_count": 34,
   "metadata": {
    "collapsed": true
   },
   "outputs": [],
   "source": [
    "# テスト用にデータフレームをコピーしておく\n",
    "df_tmp = df_count_fpm.copy()"
   ]
  },
  {
   "cell_type": "code",
   "execution_count": 35,
   "metadata": {
    "collapsed": true
   },
   "outputs": [],
   "source": [
    "gene_length = df_with_product[\"Length\"]"
   ]
  },
  {
   "cell_type": "markdown",
   "metadata": {},
   "source": [
    "__1. for ループを使う方法__\n",
    "\n",
    "データフレームをforループで回すと、列名が取得できるのでそれを利用する。"
   ]
  },
  {
   "cell_type": "code",
   "execution_count": null,
   "metadata": {},
   "outputs": [],
   "source": [
    "for col_name in df_tmp:\n",
    "    ...."
   ]
  },
  {
   "cell_type": "code",
   "execution_count": null,
   "metadata": {},
   "outputs": [],
   "source": [
    "# 確認\n",
    "df_tmp.head()"
   ]
  },
  {
   "cell_type": "markdown",
   "metadata": {},
   "source": [
    "または`iteritems()`を用いて"
   ]
  },
  {
   "cell_type": "code",
   "execution_count": null,
   "metadata": {},
   "outputs": [],
   "source": [
    "df_tmp = df_count_fpm.copy()\n",
    "for col_name, col in df_tmp.iteritems():\n",
    "    ...."
   ]
  },
  {
   "cell_type": "code",
   "execution_count": null,
   "metadata": {},
   "outputs": [],
   "source": [
    "# 確認\n",
    "df_tmp.head()"
   ]
  },
  {
   "cell_type": "markdown",
   "metadata": {},
   "source": [
    "__2. データフレームを転置してから計算する方法__\n",
    "\n",
    "データフレームの転置は`df.T`を使う。"
   ]
  },
  {
   "cell_type": "code",
   "execution_count": null,
   "metadata": {},
   "outputs": [],
   "source": [
    "# テスト用にFPMをコピー\n",
    "df_tmp = \n",
    "# df_tmpを転置してFPMを遺伝子長で割り, 1000をかける\n",
    "df_tmp = \n",
    "# 戻す（もう一度転置する）\n",
    "df_tmp = df_tmp.T"
   ]
  },
  {
   "cell_type": "code",
   "execution_count": null,
   "metadata": {
    "collapsed": true
   },
   "outputs": [],
   "source": [
    "# 確認\n",
    "df_tmp.head()"
   ]
  },
  {
   "cell_type": "markdown",
   "metadata": {},
   "source": [
    "__3. applyを使い各列に関数を適用する方法__"
   ]
  },
  {
   "cell_type": "code",
   "execution_count": 41,
   "metadata": {
    "collapsed": true
   },
   "outputs": [],
   "source": [
    "# はじめに列を入力とし、各要素を遺伝子長でわる処理を行う関数を定義する\n",
    "def divide_by_length(S):\n",
    "    ..."
   ]
  },
  {
   "cell_type": "code",
   "execution_count": null,
   "metadata": {},
   "outputs": [],
   "source": [
    "# テスト用にFPMをコピー\n",
    "df_tmp = \n",
    "# 関数を適用する\n",
    "df_tmp.apply(divide_by_length).head()"
   ]
  },
  {
   "cell_type": "markdown",
   "metadata": {},
   "source": [
    "__4. データフレームメソッドのdivideを使用する方法__"
   ]
  },
  {
   "cell_type": "code",
   "execution_count": null,
   "metadata": {},
   "outputs": [],
   "source": [
    "# データフレームメソッドのdivideを使用する方法\n",
    "df_tmp = df_count_fpm.copy()\n",
    "df_tmp = "
   ]
  },
  {
   "cell_type": "code",
   "execution_count": 9,
   "metadata": {},
   "outputs": [],
   "source": [
    "# 確認\n",
    "df_tmp.head()"
   ]
  },
  {
   "cell_type": "markdown",
   "metadata": {
    "collapsed": true
   },
   "source": [
    "1~4のいずれかの方法を関数化して計算する"
   ]
  },
  {
   "cell_type": "code",
   "execution_count": 44,
   "metadata": {
    "collapsed": true
   },
   "outputs": [],
   "source": [
    "def normalize_per_kilobase(df, gene_length):\n",
    "    ..."
   ]
  },
  {
   "cell_type": "code",
   "execution_count": 45,
   "metadata": {
    "collapsed": true
   },
   "outputs": [],
   "source": [
    "df_count_fpkm = normalize_per_kilobase(df_count_fpm, gene_length)"
   ]
  },
  {
   "cell_type": "code",
   "execution_count": null,
   "metadata": {},
   "outputs": [],
   "source": [
    "# 確認\n",
    "df_count_fpkm.head()"
   ]
  },
  {
   "cell_type": "code",
   "execution_count": 60,
   "metadata": {},
   "outputs": [],
   "source": [
    "# 保存する\n",
    "df_count_fpkm.to_csv(\"output/count_fpkm.tsv\", sep=\"\\t\")"
   ]
  },
  {
   "cell_type": "markdown",
   "metadata": {},
   "source": [
    "## TPM 正規化\n",
    "TPM = transcripts per kilobase million  \n",
    "TPM の説明については以下のページが詳しい https://bi.biopapyrus.jp/  \n",
    "FPKM/RPKM のときとは逆に、長さ1,000bpあたりのリード数を求めてから、総リード数を100万に揃えれば良い。"
   ]
  },
  {
   "cell_type": "code",
   "execution_count": 61,
   "metadata": {},
   "outputs": [],
   "source": [
    "df_tmp = df_count.copy()"
   ]
  },
  {
   "cell_type": "code",
   "execution_count": 62,
   "metadata": {},
   "outputs": [],
   "source": [
    "df_tmp = normalize_per_kilobase(df_tmp, gene_length)\n",
    "df_tmp = normalize_per_million_reads(df_tmp)\n"
   ]
  },
  {
   "cell_type": "code",
   "execution_count": null,
   "metadata": {},
   "outputs": [],
   "source": [
    "df_tmp.head()"
   ]
  },
  {
   "cell_type": "code",
   "execution_count": 64,
   "metadata": {},
   "outputs": [
    {
     "data": {
      "text/plain": [
       "batch_1        1000000.0\n",
       "batch_2        1000000.0\n",
       "batch_3        1000000.0\n",
       "chemostat_1    1000000.0\n",
       "chemostat_2    1000000.0\n",
       "chemostat_3    1000000.0\n",
       "dtype: float64"
      ]
     },
     "execution_count": 64,
     "metadata": {},
     "output_type": "execute_result"
    }
   ],
   "source": [
    "# RPKM/FPKMと違い、合計が100万となっています。\n",
    "df_tmp.sum()"
   ]
  },
  {
   "cell_type": "code",
   "execution_count": 65,
   "metadata": {
    "collapsed": true
   },
   "outputs": [],
   "source": [
    "# 関数化します\n",
    "def normalize_tpm(df, gene_length):\n",
    "    df_tmp = df.copy()\n",
    "    df_tmp = normalize_per_kilobase(df_tmp, gene_length)\n",
    "    df_tmp = normalize_per_million_reads(df_tmp)\n",
    "    return df_tmp"
   ]
  },
  {
   "cell_type": "code",
   "execution_count": 66,
   "metadata": {},
   "outputs": [],
   "source": [
    "df_count_tpm = normalize_tpm(df_count, gene_length)"
   ]
  },
  {
   "cell_type": "code",
   "execution_count": 67,
   "metadata": {},
   "outputs": [
    {
     "data": {
      "text/plain": [
       "batch_1        1000000.0\n",
       "batch_2        1000000.0\n",
       "batch_3        1000000.0\n",
       "chemostat_1    1000000.0\n",
       "chemostat_2    1000000.0\n",
       "chemostat_3    1000000.0\n",
       "dtype: float64"
      ]
     },
     "execution_count": 67,
     "metadata": {},
     "output_type": "execute_result"
    }
   ],
   "source": [
    "df_count_tpm.sum() #  確認"
   ]
  },
  {
   "cell_type": "code",
   "execution_count": 68,
   "metadata": {
    "collapsed": true
   },
   "outputs": [],
   "source": [
    "# 保存\n",
    "df_count_tpm.to_csv(\"output/count_tpm.tsv\", sep=\"\\t\")"
   ]
  },
  {
   "cell_type": "markdown",
   "metadata": {},
   "source": [
    "## 課題7　発現変動遺伝子を抽出する\n",
    "以下のセルを実行し, 各条件の平均から発現変動をlog2 foldとして求める。"
   ]
  },
  {
   "cell_type": "code",
   "execution_count": 74,
   "metadata": {},
   "outputs": [],
   "source": [
    "# batch cultureの平均を求める\n",
    "df_count_fpkm[\"batch\"] = (df_count_fpkm[\"batch_1\"] + df_count_fpkm[\"batch_2\"] + df_count_fpkm[\"batch_3\"]) / 3\n",
    "\n",
    "# chemostatの平均を求める\n",
    "df_count_fpkm[\"chemostat\"] = (df_count_fpkm[\"chemostat_1\"] + df_count_fpkm[\"chemostat_2\"] + df_count_fpkm[\"chemostat_3\"]) / 3\n",
    "\n",
    "# 発現変動をlog2 fold として求める\n",
    "# 0 での除算を防ぐため、分母に微小な値を加えている\n",
    "df_count_fpkm[\"log2fold\"] = df_count_fpkm[\"chemostat\"] / (df_count_fpkm[\"batch\"] + 10**-6)\n",
    "df_count_fpkm[\"log2fold\"] = df_count_fpkm[\"log2fold\"].apply(np.log2)"
   ]
  },
  {
   "cell_type": "code",
   "execution_count": null,
   "metadata": {},
   "outputs": [],
   "source": [
    "# 確認\n",
    "df_count_fpkm.head()"
   ]
  },
  {
   "cell_type": "markdown",
   "metadata": {},
   "source": [
    "`df_count_fpkm` から\"batch\", \"chemostat\", \"log2fold\"の列を抜き出し`diff_ex`とする"
   ]
  },
  {
   "cell_type": "code",
   "execution_count": null,
   "metadata": {},
   "outputs": [],
   "source": [
    "# [.......]に抜き出す列のリストを入れて実行\n",
    "diff_ex = df_count_fpkm[.......]"
   ]
  },
  {
   "cell_type": "markdown",
   "metadata": {},
   "source": [
    "`diff_ex.join()` でproductと結合, productとgene_idの対応は`gene_products`を使う"
   ]
  },
  {
   "cell_type": "code",
   "execution_count": 78,
   "metadata": {},
   "outputs": [],
   "source": [
    "# join()でproductと結合\n",
    "diff_ex = "
   ]
  },
  {
   "cell_type": "code",
   "execution_count": null,
   "metadata": {},
   "outputs": [],
   "source": [
    "# 確認\n",
    "diff_ex.head()"
   ]
  },
  {
   "cell_type": "code",
   "execution_count": 11,
   "metadata": {},
   "outputs": [],
   "source": [
    "# カウント数が0であるデータを除いておく\n",
    "diff_ex = diff_ex[diff_ex[\"batch\"] > 0]\n",
    "diff_ex = diff_ex[diff_ex[\"chemostat\"] > 0]"
   ]
  },
  {
   "cell_type": "code",
   "execution_count": 10,
   "metadata": {},
   "outputs": [],
   "source": [
    "# 確認\n",
    "diff_ex.head()"
   ]
  },
  {
   "cell_type": "markdown",
   "metadata": {},
   "source": [
    "`log2fold`の列を降順に並び替える（`diff_ex.sort_values()`を使う)"
   ]
  },
  {
   "cell_type": "code",
   "execution_count": null,
   "metadata": {},
   "outputs": [],
   "source": [
    "# (.....)に必要なオプションを入れて実行\n",
    "diff_ex = diff_ex.sort_values(.....)"
   ]
  },
  {
   "cell_type": "code",
   "execution_count": null,
   "metadata": {},
   "outputs": [],
   "source": [
    "# chemostat > batch の上位5番目まで表示\n"
   ]
  },
  {
   "cell_type": "code",
   "execution_count": null,
   "metadata": {},
   "outputs": [],
   "source": [
    "# batch > chemostat の上位5番目まで表示\n"
   ]
  }
 ],
 "metadata": {
  "kernelspec": {
   "display_name": "Python 3",
   "language": "python",
   "name": "python3"
  },
  "language_info": {
   "codemirror_mode": {
    "name": "ipython",
    "version": 3
   },
   "file_extension": ".py",
   "mimetype": "text/x-python",
   "name": "python",
   "nbconvert_exporter": "python",
   "pygments_lexer": "ipython3",
   "version": "3.7.1"
  },
  "toc": {
   "colors": {
    "hover_highlight": "#DAA520",
    "running_highlight": "#FF0000",
    "selected_highlight": "#FFD700"
   },
   "moveMenuLeft": true,
   "nav_menu": {
    "height": "102px",
    "width": "252px"
   },
   "navigate_menu": true,
   "number_sections": true,
   "sideBar": true,
   "threshold": 4,
   "toc_cell": false,
   "toc_section_display": "block",
   "toc_window_display": false
  }
 },
 "nbformat": 4,
 "nbformat_minor": 2
}
