{
 "cells": [
  {
   "cell_type": "markdown",
   "metadata": {},
   "source": [
    "# pandasを用いたRNA-seqデータの解析"
   ]
  },
  {
   "cell_type": "markdown",
   "metadata": {},
   "source": [
    "## 1. 本講義の目的\n",
    "本講義では, はじめに基本的なpandasの操作方法を学びます。さらに, 実際のRNA-seqカウントデータについて, 以下のような処理をpandasを用いて行います。<br>\n",
    "- データの読み込み\n",
    "- 遺伝子のアノテーション(gene idに対応したdescription)\n",
    "- カウントデータの正規化（RPM/FPM, FPKM, TPM)\n",
    "- 発現変動遺伝子の抽出\n",
    "- サンプル間のクラスタリング　"
   ]
  },
  {
   "cell_type": "markdown",
   "metadata": {},
   "source": [
    "## 2. pandasの基本操作\n",
    "  \n",
    "pandas はデータ解析用のライブラリで, おもに二次元の表形式データ (データフレーム) を主な対象としています。\n",
    "pandas は, 行列・多次元配列を扱う数値計算ライブラリ numpy を内部的に利用して高速な計算が可能です。また, pandas は時系列データや文字データなどを含んだ様々な表形式ファイルの扱いに長けています。本講義では（時間の関係で）pandas の使い方すべてを網羅することができないので, 詳細は以下をご参照ください。<br><br>\n",
    "<b>参考</b>: pandas公式サイト\"[10 Minutes to pandas](https://pandas.pydata.org/pandas-docs/stable/10min.html)\" <br>\n",
    "<b>参考図書</b>: Pythonによるデータ分析入門~Numpy,pandasを使ったデータ処理~（Wes Mckinney著, 小林儀匡ら訳, オライリージャパン, ISBN978-4-87311-655-6）<br>"
   ]
  },
  {
   "cell_type": "markdown",
   "metadata": {},
   "source": [
    "### 2-1. 準備\n",
    "まず, pandas を`pd`としてインポートします。同様に numpy を`np`としてインポートします。"
   ]
  },
  {
   "cell_type": "code",
   "execution_count": 45,
   "metadata": {},
   "outputs": [],
   "source": [
    "# pandasのimport\n",
    "import pandas as pd\n",
    "import numpy as np"
   ]
  },
  {
   "cell_type": "markdown",
   "metadata": {},
   "source": [
    "### 2-2. シリーズ\n",
    "一次元のデータを扱うためのデータオブジェクトです。<br>\n",
    "実際の解析では, シリーズを新規に作成する機会は少ないと思われますが, 表形式データの行や列を抽出した場合には, シリーズとして結果が返されることがあります。"
   ]
  },
  {
   "cell_type": "markdown",
   "metadata": {},
   "source": [
    "#### 2-2-1. シリーズの作成と四則演算\n",
    "リストからシリーズを作成します。"
   ]
  },
  {
   "cell_type": "code",
   "execution_count": null,
   "metadata": {},
   "outputs": [],
   "source": [
    "L1 = [1, 3, 5, 6, 8]\n",
    "s1 = pd.Series(L1)"
   ]
  },
  {
   "cell_type": "markdown",
   "metadata": {},
   "source": [
    "上記の場合, データ形式（dtype）はint64です。"
   ]
  },
  {
   "cell_type": "code",
   "execution_count": 46,
   "metadata": {},
   "outputs": [
    {
     "data": {
      "text/plain": [
       "0    1\n",
       "1    3\n",
       "2    5\n",
       "3    6\n",
       "4    8\n",
       "dtype: int64"
      ]
     },
     "execution_count": 46,
     "metadata": {},
     "output_type": "execute_result"
    }
   ],
   "source": [
    "s1"
   ]
  },
  {
   "cell_type": "code",
   "execution_count": 47,
   "metadata": {},
   "outputs": [
    {
     "data": {
      "text/plain": [
       "0    1.0\n",
       "1    3.0\n",
       "2    5.0\n",
       "3    6.0\n",
       "4    8.0\n",
       "dtype: float64"
      ]
     },
     "execution_count": 47,
     "metadata": {},
     "output_type": "execute_result"
    }
   ],
   "source": [
    "L2 = [1, 3, 5, 6, 8.0] # 小数が含まれている\n",
    "s2 = pd.Series(L2)\n",
    "s2  # dtypeはfloat64"
   ]
  },
  {
   "cell_type": "code",
   "execution_count": 48,
   "metadata": {},
   "outputs": [
    {
     "data": {
      "text/plain": [
       "0        1\n",
       "1        3\n",
       "2        5\n",
       "3        6\n",
       "4        8\n",
       "5    hello\n",
       "dtype: object"
      ]
     },
     "execution_count": 48,
     "metadata": {},
     "output_type": "execute_result"
    }
   ],
   "source": [
    "L3 = [1,3,5,6,8.0, \"hello\"] # 文字列が含まれている\n",
    "s3 = pd.Series(L3)\n",
    "s3  # dtypeはobject"
   ]
  },
  {
   "cell_type": "markdown",
   "metadata": {},
   "source": [
    "シリーズはデータとインデックス（データのラベル）からできています。<br>\n",
    "デフォルトでは0から始まる数字ですが,任意のインデックスをつけることもできます。"
   ]
  },
  {
   "cell_type": "code",
   "execution_count": 49,
   "metadata": {},
   "outputs": [
    {
     "data": {
      "text/plain": [
       "geneA    100\n",
       "geneB    200\n",
       "geneC    300\n",
       "geneD    400\n",
       "geneE    500\n",
       "dtype: int64"
      ]
     },
     "execution_count": 49,
     "metadata": {},
     "output_type": "execute_result"
    }
   ],
   "source": [
    "s4 = pd.Series([100, 200, 300, 400 , 500], index=[\"geneA\", \"geneB\", \"geneC\", \"geneD\", \"geneE\"])\n",
    "s4"
   ]
  },
  {
   "cell_type": "markdown",
   "metadata": {},
   "source": [
    "#### 2-2-2. Seriesの計算\n",
    "四則計算は各要素全てが計算対象となります。"
   ]
  },
  {
   "cell_type": "code",
   "execution_count": 50,
   "metadata": {},
   "outputs": [],
   "source": [
    "s5 = pd.Series([10,30,50,60,80,100])"
   ]
  },
  {
   "cell_type": "code",
   "execution_count": 51,
   "metadata": {},
   "outputs": [
    {
     "name": "stdout",
     "output_type": "stream",
     "text": [
      "0     20\n",
      "1     40\n",
      "2     60\n",
      "3     70\n",
      "4     90\n",
      "5    110\n",
      "dtype: int64\n"
     ]
    }
   ],
   "source": [
    "print(s5 + 10)"
   ]
  },
  {
   "cell_type": "code",
   "execution_count": 52,
   "metadata": {},
   "outputs": [
    {
     "name": "stdout",
     "output_type": "stream",
     "text": [
      "0     1.0\n",
      "1     3.0\n",
      "2     5.0\n",
      "3     6.0\n",
      "4     8.0\n",
      "5    10.0\n",
      "dtype: float64\n"
     ]
    }
   ],
   "source": [
    "print(s5 / 10) "
   ]
  },
  {
   "cell_type": "markdown",
   "metadata": {},
   "source": [
    "python3では / の結果は `float` (小数点のついた値)で返ります。// を使うと `int` （整数値）で返ります。<br>\n",
    "i.e. `10/2=5.0  10//2=5  9//2=4` <br>\n",
    "\n",
    "シリーズ同士の掛け算では, 同じ位置にある要素同士が計算されます。"
   ]
  },
  {
   "cell_type": "code",
   "execution_count": 10,
   "metadata": {},
   "outputs": [
    {
     "data": {
      "text/plain": [
       "0     10.0\n",
       "1     90.0\n",
       "2    250.0\n",
       "3    360.0\n",
       "4    640.0\n",
       "5      NaN\n",
       "dtype: float64"
      ]
     },
     "execution_count": 10,
     "metadata": {},
     "output_type": "execute_result"
    }
   ],
   "source": [
    "s1 * s5"
   ]
  },
  {
   "cell_type": "markdown",
   "metadata": {},
   "source": [
    "#### 2-2-3. 位置を指定したデータの切り出し"
   ]
  },
  {
   "cell_type": "code",
   "execution_count": 55,
   "metadata": {},
   "outputs": [],
   "source": [
    "s6 = pd.Series(list(\"ABCDEFGH\"))"
   ]
  },
  {
   "cell_type": "markdown",
   "metadata": {},
   "source": [
    "位置を指定して単独の要素を取得することができます。"
   ]
  },
  {
   "cell_type": "code",
   "execution_count": 56,
   "metadata": {},
   "outputs": [
    {
     "name": "stdout",
     "output_type": "stream",
     "text": [
      "D\n"
     ]
    }
   ],
   "source": [
    "print(s6[3])"
   ]
  },
  {
   "cell_type": "markdown",
   "metadata": {},
   "source": [
    "リストと同じようにスライスを使ってデータを切り出すことができます。<br>\n",
    "もとのデータ型が `object` なので切り出しても `object` のままであることに注意しましょう。"
   ]
  },
  {
   "cell_type": "code",
   "execution_count": 57,
   "metadata": {},
   "outputs": [
    {
     "name": "stdout",
     "output_type": "stream",
     "text": [
      "2    C\n",
      "3    D\n",
      "4    E\n",
      "dtype: object\n"
     ]
    }
   ],
   "source": [
    "print(s6[2:5])  # 結果はシリーズとして返されます"
   ]
  },
  {
   "cell_type": "code",
   "execution_count": 58,
   "metadata": {},
   "outputs": [
    {
     "name": "stdout",
     "output_type": "stream",
     "text": [
      "0    A\n",
      "1    B\n",
      "2    C\n",
      "3    D\n",
      "4    E\n",
      "5    F\n",
      "6    G\n",
      "dtype: object\n"
     ]
    }
   ],
   "source": [
    "print(s6[:-1])"
   ]
  },
  {
   "cell_type": "markdown",
   "metadata": {},
   "source": [
    "複数の位置を指定することもできます。"
   ]
  },
  {
   "cell_type": "code",
   "execution_count": 59,
   "metadata": {},
   "outputs": [
    {
     "data": {
      "text/plain": [
       "0    A\n",
       "2    C\n",
       "4    E\n",
       "6    G\n",
       "dtype: object"
      ]
     },
     "execution_count": 59,
     "metadata": {},
     "output_type": "execute_result"
    }
   ],
   "source": [
    "targets = [0, 2, 4, 6]\n",
    "s6[targets]"
   ]
  },
  {
   "cell_type": "markdown",
   "metadata": {},
   "source": [
    "上記を一行で書くときは, 次のように`[ ]`が二重` [ [ ] ] `になります。`s1[0, 2, 4, 6, 8]` とするとエラーになります。<br>\n",
    "二重の`[ ]`は pandas では頻繁に登場します。"
   ]
  },
  {
   "cell_type": "code",
   "execution_count": 60,
   "metadata": {},
   "outputs": [
    {
     "data": {
      "text/plain": [
       "0    A\n",
       "2    C\n",
       "4    E\n",
       "6    G\n",
       "dtype: object"
      ]
     },
     "execution_count": 60,
     "metadata": {},
     "output_type": "execute_result"
    }
   ],
   "source": [
    "s6[[0, 2, 4, 6]]"
   ]
  },
  {
   "cell_type": "markdown",
   "metadata": {},
   "source": [
    "以下の違いに注意してください。"
   ]
  },
  {
   "cell_type": "code",
   "execution_count": 61,
   "metadata": {},
   "outputs": [
    {
     "name": "stdout",
     "output_type": "stream",
     "text": [
      "s6[0]:\n",
      "A\n",
      "<class 'str'>\n",
      "------------------\n",
      "s6[[0]]:\n",
      "0    A\n",
      "dtype: object\n",
      "<class 'pandas.core.series.Series'>\n"
     ]
    }
   ],
   "source": [
    "print(\"s6[0]:\")  # 単独の数値で指定\n",
    "print(s6[0])\n",
    "print(type(s6[0]))\n",
    "print(\"------------------\")\n",
    "print(\"s6[[0]]:\")  # リストで指定, Seriesで返る\n",
    "print(s6[[0]])\n",
    "print(type(s6[[0]]))     "
   ]
  },
  {
   "cell_type": "markdown",
   "metadata": {},
   "source": [
    "シリーズをリストにするには `list()` を使います。"
   ]
  },
  {
   "cell_type": "code",
   "execution_count": 62,
   "metadata": {},
   "outputs": [
    {
     "data": {
      "text/plain": [
       "['A', 'B', 'C', 'D', 'E', 'F', 'G', 'H']"
      ]
     },
     "execution_count": 62,
     "metadata": {},
     "output_type": "execute_result"
    }
   ],
   "source": [
    "list(s6)"
   ]
  },
  {
   "cell_type": "markdown",
   "metadata": {},
   "source": [
    "#### 2-2-4. インデックスを使ったデータの切り出し\n",
    "インデックスを指定してデータを取り出します。"
   ]
  },
  {
   "cell_type": "code",
   "execution_count": 63,
   "metadata": {},
   "outputs": [
    {
     "data": {
      "text/plain": [
       "geneA    100\n",
       "geneB    200\n",
       "geneC    300\n",
       "geneD    400\n",
       "geneE    500\n",
       "dtype: int64"
      ]
     },
     "execution_count": 63,
     "metadata": {},
     "output_type": "execute_result"
    }
   ],
   "source": [
    "s4"
   ]
  },
  {
   "cell_type": "code",
   "execution_count": 64,
   "metadata": {},
   "outputs": [
    {
     "data": {
      "text/plain": [
       "100"
      ]
     },
     "execution_count": 64,
     "metadata": {},
     "output_type": "execute_result"
    }
   ],
   "source": [
    "s4[\"geneA\"]"
   ]
  },
  {
   "cell_type": "markdown",
   "metadata": {},
   "source": [
    "辞書を使ってインデックスを指定したシリーズを作成することもできます。"
   ]
  },
  {
   "cell_type": "code",
   "execution_count": 66,
   "metadata": {},
   "outputs": [],
   "source": [
    "D = {'Chlamydomonas': 'reinhardtii', 'Volvox': 'carteri', 'Coccomyxa': 'subellipsoidea', 'Coffea': ' arabica'}\n",
    "s7 = pd.Series(D)"
   ]
  },
  {
   "cell_type": "markdown",
   "metadata": {},
   "source": [
    "インデックスが Chlamydomonas, Volvox である値を取り出します。"
   ]
  },
  {
   "cell_type": "code",
   "execution_count": 67,
   "metadata": {},
   "outputs": [
    {
     "data": {
      "text/plain": [
       "Chlamydomonas    reinhardtii\n",
       "Volvox               carteri\n",
       "dtype: object"
      ]
     },
     "execution_count": 67,
     "metadata": {},
     "output_type": "execute_result"
    }
   ],
   "source": [
    "s7[['Chlamydomonas', 'Volvox']]"
   ]
  },
  {
   "cell_type": "markdown",
   "metadata": {},
   "source": [
    "インデックスに用いる値はユニークでなくても（重複していても）インデックスとして使えます。"
   ]
  },
  {
   "cell_type": "code",
   "execution_count": 68,
   "metadata": {},
   "outputs": [
    {
     "name": "stdout",
     "output_type": "stream",
     "text": [
      "Chlamydomonas             reinhardtii\n",
      "Volvox                        carteri\n",
      "Coccomyxa        subellipsoidea_C_169\n",
      "Coffea                        arabica\n",
      "Coffea                      canephora\n",
      "dtype: object\n"
     ]
    }
   ],
   "source": [
    "data= [ 'reinhardtii', 'carteri',  'subellipsoidea_C_169', ' arabica', 'canephora']\n",
    "index = ['Chlamydomonas',  'Volvox', 'Coccomyxa', 'Coffea', 'Coffea']\n",
    "s8 = pd.Series(data=data, index=index)\n",
    "print(s8)"
   ]
  },
  {
   "cell_type": "markdown",
   "metadata": {},
   "source": [
    "ただし,以下のように異なったデータ形式で結果が返ってくることがあるため, インデックスに重複した値を使うのは避けたほうがよいかもしれません。"
   ]
  },
  {
   "cell_type": "code",
   "execution_count": 69,
   "metadata": {},
   "outputs": [
    {
     "data": {
      "text/plain": [
       "Coffea      arabica\n",
       "Coffea    canephora\n",
       "dtype: object"
      ]
     },
     "execution_count": 69,
     "metadata": {},
     "output_type": "execute_result"
    }
   ],
   "source": [
    "s8['Coffea']  # ２つの要素が返る (シリーズとして返る)"
   ]
  },
  {
   "cell_type": "code",
   "execution_count": 70,
   "metadata": {},
   "outputs": [
    {
     "data": {
      "text/plain": [
       "'reinhardtii'"
      ]
     },
     "execution_count": 70,
     "metadata": {},
     "output_type": "execute_result"
    }
   ],
   "source": [
    "s8['Chlamydomonas']  # 単独の要素が返る (str型)"
   ]
  },
  {
   "cell_type": "markdown",
   "metadata": {},
   "source": [
    "#### 2-2-5. インデックスおよびデータの参照\n",
    "`Series.index`, `Serires.values`でそれぞれインデックスとデータを取り出せます。<br>\n",
    "新しい値を指定することも可能です。"
   ]
  },
  {
   "cell_type": "code",
   "execution_count": 71,
   "metadata": {},
   "outputs": [
    {
     "data": {
      "text/plain": [
       "Index(['Chlamydomonas', 'Volvox', 'Coccomyxa', 'Coffea', 'Coffea'], dtype='object')"
      ]
     },
     "execution_count": 71,
     "metadata": {},
     "output_type": "execute_result"
    }
   ],
   "source": [
    "s8.index"
   ]
  },
  {
   "cell_type": "code",
   "execution_count": 72,
   "metadata": {},
   "outputs": [
    {
     "data": {
      "text/plain": [
       "array(['reinhardtii', 'carteri', 'subellipsoidea_C_169', ' arabica',\n",
       "       'canephora'], dtype=object)"
      ]
     },
     "execution_count": 72,
     "metadata": {},
     "output_type": "execute_result"
    }
   ],
   "source": [
    "s8.values"
   ]
  },
  {
   "cell_type": "markdown",
   "metadata": {},
   "source": [
    "データ形式を確認してみると, 内部的に numpy が使われていることがわかります。"
   ]
  },
  {
   "cell_type": "code",
   "execution_count": 73,
   "metadata": {},
   "outputs": [
    {
     "data": {
      "text/plain": [
       "numpy.ndarray"
      ]
     },
     "execution_count": 73,
     "metadata": {},
     "output_type": "execute_result"
    }
   ],
   "source": [
    "type(s8.values) "
   ]
  },
  {
   "cell_type": "markdown",
   "metadata": {},
   "source": [
    "### 2-3. データフレーム \n",
    "二次元の表を扱うためのデータオブジェクトです。<br>\n",
    "#### 2-3-1. データフレームの作成\n",
    "`pd.DataFrame( )`でデータフレームを作成します。引数のうち `data` には、二次元リストや辞書などを指定します。`index`（行ラベル）, `columns`（列ラベル）は指定しなかった場合, 0, 1, 2, .. が自動で割り振られます。"
   ]
  },
  {
   "cell_type": "code",
   "execution_count": 74,
   "metadata": {},
   "outputs": [
    {
     "data": {
      "text/html": [
       "<div>\n",
       "<style scoped>\n",
       "    .dataframe tbody tr th:only-of-type {\n",
       "        vertical-align: middle;\n",
       "    }\n",
       "\n",
       "    .dataframe tbody tr th {\n",
       "        vertical-align: top;\n",
       "    }\n",
       "\n",
       "    .dataframe thead th {\n",
       "        text-align: right;\n",
       "    }\n",
       "</style>\n",
       "<table border=\"1\" class=\"dataframe\">\n",
       "  <thead>\n",
       "    <tr style=\"text-align: right;\">\n",
       "      <th></th>\n",
       "      <th>sample1</th>\n",
       "      <th>sample2</th>\n",
       "      <th>sample3</th>\n",
       "    </tr>\n",
       "  </thead>\n",
       "  <tbody>\n",
       "    <tr>\n",
       "      <th>0</th>\n",
       "      <td>1</td>\n",
       "      <td>3</td>\n",
       "      <td>2</td>\n",
       "    </tr>\n",
       "    <tr>\n",
       "      <th>1</th>\n",
       "      <td>10</td>\n",
       "      <td>20</td>\n",
       "      <td>30</td>\n",
       "    </tr>\n",
       "    <tr>\n",
       "      <th>2</th>\n",
       "      <td>100</td>\n",
       "      <td>200</td>\n",
       "      <td>300</td>\n",
       "    </tr>\n",
       "    <tr>\n",
       "      <th>3</th>\n",
       "      <td>1000</td>\n",
       "      <td>2000</td>\n",
       "      <td>3000</td>\n",
       "    </tr>\n",
       "  </tbody>\n",
       "</table>\n",
       "</div>"
      ],
      "text/plain": [
       "   sample1  sample2  sample3\n",
       "0        1        3        2\n",
       "1       10       20       30\n",
       "2      100      200      300\n",
       "3     1000     2000     3000"
      ]
     },
     "execution_count": 74,
     "metadata": {},
     "output_type": "execute_result"
    }
   ],
   "source": [
    "data = [[1, 3, 2],\n",
    "        [10, 20, 30],\n",
    "        [100, 200, 300],\n",
    "        [1000, 2000, 3000]\n",
    "       ]\n",
    "columns = ['sample1', 'sample2', 'sample3']\n",
    "df1 = pd.DataFrame(data, columns=columns)\n",
    "df1"
   ]
  },
  {
   "cell_type": "markdown",
   "metadata": {},
   "source": [
    "上の表はデフォルトのインデックス（行ラベル, 0から始まる整数値）ですが, 後から任意のインデックスをつけることができます。"
   ]
  },
  {
   "cell_type": "code",
   "execution_count": 75,
   "metadata": {},
   "outputs": [
    {
     "data": {
      "text/html": [
       "<div>\n",
       "<style scoped>\n",
       "    .dataframe tbody tr th:only-of-type {\n",
       "        vertical-align: middle;\n",
       "    }\n",
       "\n",
       "    .dataframe tbody tr th {\n",
       "        vertical-align: top;\n",
       "    }\n",
       "\n",
       "    .dataframe thead th {\n",
       "        text-align: right;\n",
       "    }\n",
       "</style>\n",
       "<table border=\"1\" class=\"dataframe\">\n",
       "  <thead>\n",
       "    <tr style=\"text-align: right;\">\n",
       "      <th></th>\n",
       "      <th>sample1</th>\n",
       "      <th>sample2</th>\n",
       "      <th>sample3</th>\n",
       "    </tr>\n",
       "  </thead>\n",
       "  <tbody>\n",
       "    <tr>\n",
       "      <th>geneA</th>\n",
       "      <td>1</td>\n",
       "      <td>3</td>\n",
       "      <td>2</td>\n",
       "    </tr>\n",
       "    <tr>\n",
       "      <th>geneB</th>\n",
       "      <td>10</td>\n",
       "      <td>20</td>\n",
       "      <td>30</td>\n",
       "    </tr>\n",
       "    <tr>\n",
       "      <th>geneC</th>\n",
       "      <td>100</td>\n",
       "      <td>200</td>\n",
       "      <td>300</td>\n",
       "    </tr>\n",
       "    <tr>\n",
       "      <th>geneD</th>\n",
       "      <td>1000</td>\n",
       "      <td>2000</td>\n",
       "      <td>3000</td>\n",
       "    </tr>\n",
       "  </tbody>\n",
       "</table>\n",
       "</div>"
      ],
      "text/plain": [
       "       sample1  sample2  sample3\n",
       "geneA        1        3        2\n",
       "geneB       10       20       30\n",
       "geneC      100      200      300\n",
       "geneD     1000     2000     3000"
      ]
     },
     "execution_count": 75,
     "metadata": {},
     "output_type": "execute_result"
    }
   ],
   "source": [
    "df1.index = ['geneA','geneB','geneC','geneD']\n",
    "df1"
   ]
  },
  {
   "cell_type": "markdown",
   "metadata": {},
   "source": [
    "辞書データを与える場合は以下のようになります。列ごとにデータを指定します。"
   ]
  },
  {
   "cell_type": "code",
   "execution_count": 76,
   "metadata": {},
   "outputs": [
    {
     "data": {
      "text/html": [
       "<div>\n",
       "<style scoped>\n",
       "    .dataframe tbody tr th:only-of-type {\n",
       "        vertical-align: middle;\n",
       "    }\n",
       "\n",
       "    .dataframe tbody tr th {\n",
       "        vertical-align: top;\n",
       "    }\n",
       "\n",
       "    .dataframe thead th {\n",
       "        text-align: right;\n",
       "    }\n",
       "</style>\n",
       "<table border=\"1\" class=\"dataframe\">\n",
       "  <thead>\n",
       "    <tr style=\"text-align: right;\">\n",
       "      <th></th>\n",
       "      <th>generic_name</th>\n",
       "      <th>specific_name</th>\n",
       "      <th>assemble_version</th>\n",
       "      <th>genome_size</th>\n",
       "      <th>common_name</th>\n",
       "      <th>unicellular</th>\n",
       "    </tr>\n",
       "  </thead>\n",
       "  <tbody>\n",
       "    <tr>\n",
       "      <th>0</th>\n",
       "      <td>Chlamydomonas</td>\n",
       "      <td>reinhardtii</td>\n",
       "      <td>v5.5</td>\n",
       "      <td>111.1</td>\n",
       "      <td>green algae</td>\n",
       "      <td>True</td>\n",
       "    </tr>\n",
       "    <tr>\n",
       "      <th>1</th>\n",
       "      <td>Volvox</td>\n",
       "      <td>carteri</td>\n",
       "      <td>v2.1</td>\n",
       "      <td>131.2</td>\n",
       "      <td>green algae</td>\n",
       "      <td>False</td>\n",
       "    </tr>\n",
       "    <tr>\n",
       "      <th>2</th>\n",
       "      <td>Ostreococcus</td>\n",
       "      <td>lucimarinus</td>\n",
       "      <td>v2.0</td>\n",
       "      <td>13.2</td>\n",
       "      <td>green algae</td>\n",
       "      <td>True</td>\n",
       "    </tr>\n",
       "    <tr>\n",
       "      <th>3</th>\n",
       "      <td>Coccomyxa</td>\n",
       "      <td>subellipsoidea C-169</td>\n",
       "      <td>v2.0</td>\n",
       "      <td>49.0</td>\n",
       "      <td>green algae</td>\n",
       "      <td>True</td>\n",
       "    </tr>\n",
       "    <tr>\n",
       "      <th>4</th>\n",
       "      <td>Marchantia</td>\n",
       "      <td>polymorpha</td>\n",
       "      <td>v3.1</td>\n",
       "      <td>225.8</td>\n",
       "      <td>liverwort</td>\n",
       "      <td>False</td>\n",
       "    </tr>\n",
       "    <tr>\n",
       "      <th>5</th>\n",
       "      <td>Thalassiosira</td>\n",
       "      <td>pseudonana</td>\n",
       "      <td>V3.0</td>\n",
       "      <td>34.0</td>\n",
       "      <td>diatom</td>\n",
       "      <td>True</td>\n",
       "    </tr>\n",
       "  </tbody>\n",
       "</table>\n",
       "</div>"
      ],
      "text/plain": [
       "    generic_name         specific_name assemble_version  genome_size  \\\n",
       "0  Chlamydomonas           reinhardtii             v5.5        111.1   \n",
       "1         Volvox               carteri             v2.1        131.2   \n",
       "2   Ostreococcus           lucimarinus             v2.0         13.2   \n",
       "3      Coccomyxa  subellipsoidea C-169             v2.0         49.0   \n",
       "4     Marchantia            polymorpha             v3.1        225.8   \n",
       "5  Thalassiosira            pseudonana             V3.0         34.0   \n",
       "\n",
       "   common_name  unicellular  \n",
       "0  green algae         True  \n",
       "1  green algae        False  \n",
       "2  green algae         True  \n",
       "3  green algae         True  \n",
       "4    liverwort        False  \n",
       "5       diatom         True  "
      ]
     },
     "execution_count": 76,
     "metadata": {},
     "output_type": "execute_result"
    }
   ],
   "source": [
    "D = {'generic_name': ['Chlamydomonas', 'Volvox','Ostreococcus' ,'Coccomyxa', 'Marchantia','Thalassiosira'],\n",
    "     'specific_name': ['reinhardtii', 'carteri','lucimarinus', 'subellipsoidea C-169', 'polymorpha','pseudonana'],     \n",
    "     'assemble_version': ['v5.5','v2.1','v2.0','v2.0','v3.1','V3.0'],\n",
    "     'genome_size': [111.1,131.2,13.2,49,225.8,34],\n",
    "     'common_name':['green algae','green algae','green algae','green algae','liverwort','diatom'],\n",
    "     'unicellular': [True,False,True,True,False,True]\n",
    "     }\n",
    "\n",
    "df2 = pd.DataFrame(D)\n",
    "df2"
   ]
  },
  {
   "cell_type": "markdown",
   "metadata": {},
   "source": [
    "カラム名（列ラベル）や, インデックス（行ラベル）はそれぞれ、`columns`, `index` で参照できます。"
   ]
  },
  {
   "cell_type": "code",
   "execution_count": 77,
   "metadata": {},
   "outputs": [
    {
     "name": "stdout",
     "output_type": "stream",
     "text": [
      "column names:  Index(['generic_name', 'specific_name', 'assemble_version', 'genome_size',\n",
      "       'common_name', 'unicellular'],\n",
      "      dtype='object')\n",
      "index:  RangeIndex(start=0, stop=6, step=1)\n"
     ]
    }
   ],
   "source": [
    "print(\"column names: \", df2.columns)\n",
    "print(\"index: \", df2.index)"
   ]
  },
  {
   "cell_type": "markdown",
   "metadata": {},
   "source": [
    "RNA-seq などの解析においては, ファイルから読み込んでデータフレームを作成する場合がほとんどだと思います。<br>\n",
    "ファイルから読み込む時は `pd.read_table()` や `pd.read_csv()` を使います。これ以外にも `pd.read_clipboard`, `pd.read_excel` などもあります。<br>\n",
    "このあと, 2-6 でタブ区切りのファイルを読み込む方法を紹介します。"
   ]
  },
  {
   "cell_type": "markdown",
   "metadata": {},
   "source": [
    "####  2-3-2. データフレームを使った計算\n",
    "データフレームを使った計算をしてみましょう。<br>"
   ]
  },
  {
   "cell_type": "code",
   "execution_count": 78,
   "metadata": {},
   "outputs": [
    {
     "data": {
      "text/html": [
       "<div>\n",
       "<style scoped>\n",
       "    .dataframe tbody tr th:only-of-type {\n",
       "        vertical-align: middle;\n",
       "    }\n",
       "\n",
       "    .dataframe tbody tr th {\n",
       "        vertical-align: top;\n",
       "    }\n",
       "\n",
       "    .dataframe thead th {\n",
       "        text-align: right;\n",
       "    }\n",
       "</style>\n",
       "<table border=\"1\" class=\"dataframe\">\n",
       "  <thead>\n",
       "    <tr style=\"text-align: right;\">\n",
       "      <th></th>\n",
       "      <th>sample1</th>\n",
       "      <th>sample2</th>\n",
       "      <th>sample3</th>\n",
       "    </tr>\n",
       "  </thead>\n",
       "  <tbody>\n",
       "    <tr>\n",
       "      <th>geneA</th>\n",
       "      <td>1</td>\n",
       "      <td>3</td>\n",
       "      <td>2</td>\n",
       "    </tr>\n",
       "    <tr>\n",
       "      <th>geneB</th>\n",
       "      <td>10</td>\n",
       "      <td>20</td>\n",
       "      <td>30</td>\n",
       "    </tr>\n",
       "    <tr>\n",
       "      <th>geneC</th>\n",
       "      <td>100</td>\n",
       "      <td>200</td>\n",
       "      <td>300</td>\n",
       "    </tr>\n",
       "    <tr>\n",
       "      <th>geneD</th>\n",
       "      <td>1000</td>\n",
       "      <td>2000</td>\n",
       "      <td>3000</td>\n",
       "    </tr>\n",
       "  </tbody>\n",
       "</table>\n",
       "</div>"
      ],
      "text/plain": [
       "       sample1  sample2  sample3\n",
       "geneA        1        3        2\n",
       "geneB       10       20       30\n",
       "geneC      100      200      300\n",
       "geneD     1000     2000     3000"
      ]
     },
     "execution_count": 78,
     "metadata": {},
     "output_type": "execute_result"
    }
   ],
   "source": [
    "df1"
   ]
  },
  {
   "cell_type": "markdown",
   "metadata": {},
   "source": [
    "スカラー値との四則演算は各要素に対して行われます。"
   ]
  },
  {
   "cell_type": "code",
   "execution_count": 79,
   "metadata": {},
   "outputs": [
    {
     "data": {
      "text/html": [
       "<div>\n",
       "<style scoped>\n",
       "    .dataframe tbody tr th:only-of-type {\n",
       "        vertical-align: middle;\n",
       "    }\n",
       "\n",
       "    .dataframe tbody tr th {\n",
       "        vertical-align: top;\n",
       "    }\n",
       "\n",
       "    .dataframe thead th {\n",
       "        text-align: right;\n",
       "    }\n",
       "</style>\n",
       "<table border=\"1\" class=\"dataframe\">\n",
       "  <thead>\n",
       "    <tr style=\"text-align: right;\">\n",
       "      <th></th>\n",
       "      <th>sample1</th>\n",
       "      <th>sample2</th>\n",
       "      <th>sample3</th>\n",
       "    </tr>\n",
       "  </thead>\n",
       "  <tbody>\n",
       "    <tr>\n",
       "      <th>geneA</th>\n",
       "      <td>10</td>\n",
       "      <td>30</td>\n",
       "      <td>20</td>\n",
       "    </tr>\n",
       "    <tr>\n",
       "      <th>geneB</th>\n",
       "      <td>100</td>\n",
       "      <td>200</td>\n",
       "      <td>300</td>\n",
       "    </tr>\n",
       "    <tr>\n",
       "      <th>geneC</th>\n",
       "      <td>1000</td>\n",
       "      <td>2000</td>\n",
       "      <td>3000</td>\n",
       "    </tr>\n",
       "    <tr>\n",
       "      <th>geneD</th>\n",
       "      <td>10000</td>\n",
       "      <td>20000</td>\n",
       "      <td>30000</td>\n",
       "    </tr>\n",
       "  </tbody>\n",
       "</table>\n",
       "</div>"
      ],
      "text/plain": [
       "       sample1  sample2  sample3\n",
       "geneA       10       30       20\n",
       "geneB      100      200      300\n",
       "geneC     1000     2000     3000\n",
       "geneD    10000    20000    30000"
      ]
     },
     "execution_count": 79,
     "metadata": {},
     "output_type": "execute_result"
    }
   ],
   "source": [
    "df1 * 10"
   ]
  },
  {
   "cell_type": "markdown",
   "metadata": {},
   "source": [
    "上記の計算はもとのデータが変更されるのではなく, 新しいデータフレームとして結果が返されます。<br>\n",
    "そのため、データの値を更新したい場合は, `df = df * 10` のように結果を元のデータフレームに代入する必要があります。"
   ]
  },
  {
   "cell_type": "markdown",
   "metadata": {},
   "source": [
    "リストやシリーズとの計算もできます。"
   ]
  },
  {
   "cell_type": "code",
   "execution_count": 81,
   "metadata": {},
   "outputs": [
    {
     "data": {
      "text/html": [
       "<div>\n",
       "<style scoped>\n",
       "    .dataframe tbody tr th:only-of-type {\n",
       "        vertical-align: middle;\n",
       "    }\n",
       "\n",
       "    .dataframe tbody tr th {\n",
       "        vertical-align: top;\n",
       "    }\n",
       "\n",
       "    .dataframe thead th {\n",
       "        text-align: right;\n",
       "    }\n",
       "</style>\n",
       "<table border=\"1\" class=\"dataframe\">\n",
       "  <thead>\n",
       "    <tr style=\"text-align: right;\">\n",
       "      <th></th>\n",
       "      <th>sample1</th>\n",
       "      <th>sample2</th>\n",
       "      <th>sample3</th>\n",
       "    </tr>\n",
       "  </thead>\n",
       "  <tbody>\n",
       "    <tr>\n",
       "      <th>geneA</th>\n",
       "      <td>2</td>\n",
       "      <td>5</td>\n",
       "      <td>5</td>\n",
       "    </tr>\n",
       "    <tr>\n",
       "      <th>geneB</th>\n",
       "      <td>11</td>\n",
       "      <td>22</td>\n",
       "      <td>33</td>\n",
       "    </tr>\n",
       "    <tr>\n",
       "      <th>geneC</th>\n",
       "      <td>101</td>\n",
       "      <td>202</td>\n",
       "      <td>303</td>\n",
       "    </tr>\n",
       "    <tr>\n",
       "      <th>geneD</th>\n",
       "      <td>1001</td>\n",
       "      <td>2002</td>\n",
       "      <td>3003</td>\n",
       "    </tr>\n",
       "  </tbody>\n",
       "</table>\n",
       "</div>"
      ],
      "text/plain": [
       "       sample1  sample2  sample3\n",
       "geneA        2        5        5\n",
       "geneB       11       22       33\n",
       "geneC      101      202      303\n",
       "geneD     1001     2002     3003"
      ]
     },
     "execution_count": 81,
     "metadata": {},
     "output_type": "execute_result"
    }
   ],
   "source": [
    "L = [1, 2, 3]\n",
    "df1 + L"
   ]
  },
  {
   "cell_type": "markdown",
   "metadata": {},
   "source": [
    "各行ごとに計算が適用されます。（ブロードキャスト）<br>\n",
    "下の例ではデータの要素数が揃っていないのでエラーになります。"
   ]
  },
  {
   "cell_type": "markdown",
   "metadata": {},
   "source": [
    "```\n",
    "L = [1, 2, 3, 4]\n",
    "df1 + L\n",
    "```"
   ]
  },
  {
   "cell_type": "markdown",
   "metadata": {},
   "source": [
    "Q. 横方向にブロードキャストするにはどうするか？ <br>\n",
    "  \n",
    "A. `df.T` を使い行と列を転置させてから計算し, その後, ふたたび転置させてもとの形に戻します。"
   ]
  },
  {
   "cell_type": "code",
   "execution_count": 82,
   "metadata": {},
   "outputs": [
    {
     "data": {
      "text/html": [
       "<div>\n",
       "<style scoped>\n",
       "    .dataframe tbody tr th:only-of-type {\n",
       "        vertical-align: middle;\n",
       "    }\n",
       "\n",
       "    .dataframe tbody tr th {\n",
       "        vertical-align: top;\n",
       "    }\n",
       "\n",
       "    .dataframe thead th {\n",
       "        text-align: right;\n",
       "    }\n",
       "</style>\n",
       "<table border=\"1\" class=\"dataframe\">\n",
       "  <thead>\n",
       "    <tr style=\"text-align: right;\">\n",
       "      <th></th>\n",
       "      <th>sample1</th>\n",
       "      <th>sample2</th>\n",
       "      <th>sample3</th>\n",
       "    </tr>\n",
       "  </thead>\n",
       "  <tbody>\n",
       "    <tr>\n",
       "      <th>geneA</th>\n",
       "      <td>2</td>\n",
       "      <td>4</td>\n",
       "      <td>3</td>\n",
       "    </tr>\n",
       "    <tr>\n",
       "      <th>geneB</th>\n",
       "      <td>12</td>\n",
       "      <td>22</td>\n",
       "      <td>32</td>\n",
       "    </tr>\n",
       "    <tr>\n",
       "      <th>geneC</th>\n",
       "      <td>103</td>\n",
       "      <td>203</td>\n",
       "      <td>303</td>\n",
       "    </tr>\n",
       "    <tr>\n",
       "      <th>geneD</th>\n",
       "      <td>1004</td>\n",
       "      <td>2004</td>\n",
       "      <td>3004</td>\n",
       "    </tr>\n",
       "  </tbody>\n",
       "</table>\n",
       "</div>"
      ],
      "text/plain": [
       "       sample1  sample2  sample3\n",
       "geneA        2        4        3\n",
       "geneB       12       22       32\n",
       "geneC      103      203      303\n",
       "geneD     1004     2004     3004"
      ]
     },
     "execution_count": 82,
     "metadata": {},
     "output_type": "execute_result"
    }
   ],
   "source": [
    "L = [1, 2, 3, 4]\n",
    "(df1.T + L).T"
   ]
  },
  {
   "cell_type": "markdown",
   "metadata": {},
   "source": [
    "データフレーム同士の計算も可能です。<br> \n",
    "データフレームの形状が同じであれば要素ごとに計算できますが, あまり利用機会はないと思いますので省略します。 <br> \n",
    "また, 行列の内積のような計算も可能ですが, 本格的な行列の数値計算であれば numpy を使った方が便利です。"
   ]
  },
  {
   "cell_type": "markdown",
   "metadata": {},
   "source": [
    "__集計関数__<br>\n",
    "\n",
    "列ごとの合計は `sum()` を使います。デフォルトは列ごとの合計 `（axis=0）` です。行ごとの合計を求める時は `axis=1` とします。 "
   ]
  },
  {
   "cell_type": "code",
   "execution_count": 83,
   "metadata": {},
   "outputs": [
    {
     "data": {
      "text/plain": [
       "sample1    1111\n",
       "sample2    2223\n",
       "sample3    3332\n",
       "dtype: int64"
      ]
     },
     "execution_count": 83,
     "metadata": {},
     "output_type": "execute_result"
    }
   ],
   "source": [
    "df1.sum()  # 列ごとの合計 (axis=0)"
   ]
  },
  {
   "cell_type": "code",
   "execution_count": 84,
   "metadata": {},
   "outputs": [
    {
     "data": {
      "text/plain": [
       "geneA       6\n",
       "geneB      60\n",
       "geneC     600\n",
       "geneD    6000\n",
       "dtype: int64"
      ]
     },
     "execution_count": 84,
     "metadata": {},
     "output_type": "execute_result"
    }
   ],
   "source": [
    "df1.sum(axis=1) # 行ごとの合計"
   ]
  },
  {
   "cell_type": "code",
   "execution_count": 85,
   "metadata": {},
   "outputs": [
    {
     "data": {
      "text/plain": [
       "sample1    277.75\n",
       "sample2    555.75\n",
       "sample3    833.00\n",
       "dtype: float64"
      ]
     },
     "execution_count": 85,
     "metadata": {},
     "output_type": "execute_result"
    }
   ],
   "source": [
    "df1.mean() # 平均"
   ]
  },
  {
   "cell_type": "code",
   "execution_count": 86,
   "metadata": {},
   "outputs": [
    {
     "data": {
      "text/html": [
       "<div>\n",
       "<style scoped>\n",
       "    .dataframe tbody tr th:only-of-type {\n",
       "        vertical-align: middle;\n",
       "    }\n",
       "\n",
       "    .dataframe tbody tr th {\n",
       "        vertical-align: top;\n",
       "    }\n",
       "\n",
       "    .dataframe thead th {\n",
       "        text-align: right;\n",
       "    }\n",
       "</style>\n",
       "<table border=\"1\" class=\"dataframe\">\n",
       "  <thead>\n",
       "    <tr style=\"text-align: right;\">\n",
       "      <th></th>\n",
       "      <th>sample1</th>\n",
       "      <th>sample2</th>\n",
       "      <th>sample3</th>\n",
       "    </tr>\n",
       "  </thead>\n",
       "  <tbody>\n",
       "    <tr>\n",
       "      <th>geneA</th>\n",
       "      <td>1</td>\n",
       "      <td>3</td>\n",
       "      <td>2</td>\n",
       "    </tr>\n",
       "    <tr>\n",
       "      <th>geneB</th>\n",
       "      <td>11</td>\n",
       "      <td>23</td>\n",
       "      <td>32</td>\n",
       "    </tr>\n",
       "    <tr>\n",
       "      <th>geneC</th>\n",
       "      <td>111</td>\n",
       "      <td>223</td>\n",
       "      <td>332</td>\n",
       "    </tr>\n",
       "    <tr>\n",
       "      <th>geneD</th>\n",
       "      <td>1111</td>\n",
       "      <td>2223</td>\n",
       "      <td>3332</td>\n",
       "    </tr>\n",
       "  </tbody>\n",
       "</table>\n",
       "</div>"
      ],
      "text/plain": [
       "       sample1  sample2  sample3\n",
       "geneA        1        3        2\n",
       "geneB       11       23       32\n",
       "geneC      111      223      332\n",
       "geneD     1111     2223     3332"
      ]
     },
     "execution_count": 86,
     "metadata": {},
     "output_type": "execute_result"
    }
   ],
   "source": [
    "df1.cumsum(axis=0) # 累積 (上で紹介した他の集計関数と異なり, 結果はデータフレームとして返る)"
   ]
  },
  {
   "cell_type": "markdown",
   "metadata": {},
   "source": [
    "__インデックスでソート__ `sort_index()`"
   ]
  },
  {
   "cell_type": "markdown",
   "metadata": {},
   "source": [
    "`ascending = False` とすると降順でソートされます。(デフォルトは昇順)"
   ]
  },
  {
   "cell_type": "code",
   "execution_count": 87,
   "metadata": {},
   "outputs": [
    {
     "data": {
      "text/html": [
       "<div>\n",
       "<style scoped>\n",
       "    .dataframe tbody tr th:only-of-type {\n",
       "        vertical-align: middle;\n",
       "    }\n",
       "\n",
       "    .dataframe tbody tr th {\n",
       "        vertical-align: top;\n",
       "    }\n",
       "\n",
       "    .dataframe thead th {\n",
       "        text-align: right;\n",
       "    }\n",
       "</style>\n",
       "<table border=\"1\" class=\"dataframe\">\n",
       "  <thead>\n",
       "    <tr style=\"text-align: right;\">\n",
       "      <th></th>\n",
       "      <th>sample1</th>\n",
       "      <th>sample2</th>\n",
       "      <th>sample3</th>\n",
       "    </tr>\n",
       "  </thead>\n",
       "  <tbody>\n",
       "    <tr>\n",
       "      <th>geneD</th>\n",
       "      <td>1000</td>\n",
       "      <td>2000</td>\n",
       "      <td>3000</td>\n",
       "    </tr>\n",
       "    <tr>\n",
       "      <th>geneC</th>\n",
       "      <td>100</td>\n",
       "      <td>200</td>\n",
       "      <td>300</td>\n",
       "    </tr>\n",
       "    <tr>\n",
       "      <th>geneB</th>\n",
       "      <td>10</td>\n",
       "      <td>20</td>\n",
       "      <td>30</td>\n",
       "    </tr>\n",
       "    <tr>\n",
       "      <th>geneA</th>\n",
       "      <td>1</td>\n",
       "      <td>3</td>\n",
       "      <td>2</td>\n",
       "    </tr>\n",
       "  </tbody>\n",
       "</table>\n",
       "</div>"
      ],
      "text/plain": [
       "       sample1  sample2  sample3\n",
       "geneD     1000     2000     3000\n",
       "geneC      100      200      300\n",
       "geneB       10       20       30\n",
       "geneA        1        3        2"
      ]
     },
     "execution_count": 87,
     "metadata": {},
     "output_type": "execute_result"
    }
   ],
   "source": [
    "df1.sort_index(ascending=False).head()"
   ]
  },
  {
   "cell_type": "markdown",
   "metadata": {},
   "source": [
    "__要素の値でのソート__ `sort_values()`  "
   ]
  },
  {
   "cell_type": "code",
   "execution_count": 88,
   "metadata": {},
   "outputs": [
    {
     "data": {
      "text/html": [
       "<div>\n",
       "<style scoped>\n",
       "    .dataframe tbody tr th:only-of-type {\n",
       "        vertical-align: middle;\n",
       "    }\n",
       "\n",
       "    .dataframe tbody tr th {\n",
       "        vertical-align: top;\n",
       "    }\n",
       "\n",
       "    .dataframe thead th {\n",
       "        text-align: right;\n",
       "    }\n",
       "</style>\n",
       "<table border=\"1\" class=\"dataframe\">\n",
       "  <thead>\n",
       "    <tr style=\"text-align: right;\">\n",
       "      <th></th>\n",
       "      <th>generic_name</th>\n",
       "      <th>specific_name</th>\n",
       "      <th>assemble_version</th>\n",
       "      <th>genome_size</th>\n",
       "      <th>common_name</th>\n",
       "      <th>unicellular</th>\n",
       "    </tr>\n",
       "  </thead>\n",
       "  <tbody>\n",
       "    <tr>\n",
       "      <th>0</th>\n",
       "      <td>Chlamydomonas</td>\n",
       "      <td>reinhardtii</td>\n",
       "      <td>v5.5</td>\n",
       "      <td>111.1</td>\n",
       "      <td>green algae</td>\n",
       "      <td>True</td>\n",
       "    </tr>\n",
       "    <tr>\n",
       "      <th>1</th>\n",
       "      <td>Volvox</td>\n",
       "      <td>carteri</td>\n",
       "      <td>v2.1</td>\n",
       "      <td>131.2</td>\n",
       "      <td>green algae</td>\n",
       "      <td>False</td>\n",
       "    </tr>\n",
       "    <tr>\n",
       "      <th>2</th>\n",
       "      <td>Ostreococcus</td>\n",
       "      <td>lucimarinus</td>\n",
       "      <td>v2.0</td>\n",
       "      <td>13.2</td>\n",
       "      <td>green algae</td>\n",
       "      <td>True</td>\n",
       "    </tr>\n",
       "    <tr>\n",
       "      <th>3</th>\n",
       "      <td>Coccomyxa</td>\n",
       "      <td>subellipsoidea C-169</td>\n",
       "      <td>v2.0</td>\n",
       "      <td>49.0</td>\n",
       "      <td>green algae</td>\n",
       "      <td>True</td>\n",
       "    </tr>\n",
       "    <tr>\n",
       "      <th>4</th>\n",
       "      <td>Marchantia</td>\n",
       "      <td>polymorpha</td>\n",
       "      <td>v3.1</td>\n",
       "      <td>225.8</td>\n",
       "      <td>liverwort</td>\n",
       "      <td>False</td>\n",
       "    </tr>\n",
       "    <tr>\n",
       "      <th>5</th>\n",
       "      <td>Thalassiosira</td>\n",
       "      <td>pseudonana</td>\n",
       "      <td>V3.0</td>\n",
       "      <td>34.0</td>\n",
       "      <td>diatom</td>\n",
       "      <td>True</td>\n",
       "    </tr>\n",
       "  </tbody>\n",
       "</table>\n",
       "</div>"
      ],
      "text/plain": [
       "    generic_name         specific_name assemble_version  genome_size  \\\n",
       "0  Chlamydomonas           reinhardtii             v5.5        111.1   \n",
       "1         Volvox               carteri             v2.1        131.2   \n",
       "2   Ostreococcus           lucimarinus             v2.0         13.2   \n",
       "3      Coccomyxa  subellipsoidea C-169             v2.0         49.0   \n",
       "4     Marchantia            polymorpha             v3.1        225.8   \n",
       "5  Thalassiosira            pseudonana             V3.0         34.0   \n",
       "\n",
       "   common_name  unicellular  \n",
       "0  green algae         True  \n",
       "1  green algae        False  \n",
       "2  green algae         True  \n",
       "3  green algae         True  \n",
       "4    liverwort        False  \n",
       "5       diatom         True  "
      ]
     },
     "execution_count": 88,
     "metadata": {},
     "output_type": "execute_result"
    }
   ],
   "source": [
    "df2"
   ]
  },
  {
   "cell_type": "markdown",
   "metadata": {},
   "source": [
    "genome_size 列の値でソートします。"
   ]
  },
  {
   "cell_type": "code",
   "execution_count": 90,
   "metadata": {},
   "outputs": [
    {
     "data": {
      "text/html": [
       "<div>\n",
       "<style scoped>\n",
       "    .dataframe tbody tr th:only-of-type {\n",
       "        vertical-align: middle;\n",
       "    }\n",
       "\n",
       "    .dataframe tbody tr th {\n",
       "        vertical-align: top;\n",
       "    }\n",
       "\n",
       "    .dataframe thead th {\n",
       "        text-align: right;\n",
       "    }\n",
       "</style>\n",
       "<table border=\"1\" class=\"dataframe\">\n",
       "  <thead>\n",
       "    <tr style=\"text-align: right;\">\n",
       "      <th></th>\n",
       "      <th>generic_name</th>\n",
       "      <th>specific_name</th>\n",
       "      <th>assemble_version</th>\n",
       "      <th>genome_size</th>\n",
       "      <th>common_name</th>\n",
       "      <th>unicellular</th>\n",
       "    </tr>\n",
       "  </thead>\n",
       "  <tbody>\n",
       "    <tr>\n",
       "      <th>2</th>\n",
       "      <td>Ostreococcus</td>\n",
       "      <td>lucimarinus</td>\n",
       "      <td>v2.0</td>\n",
       "      <td>13.2</td>\n",
       "      <td>green algae</td>\n",
       "      <td>True</td>\n",
       "    </tr>\n",
       "    <tr>\n",
       "      <th>5</th>\n",
       "      <td>Thalassiosira</td>\n",
       "      <td>pseudonana</td>\n",
       "      <td>V3.0</td>\n",
       "      <td>34.0</td>\n",
       "      <td>diatom</td>\n",
       "      <td>True</td>\n",
       "    </tr>\n",
       "    <tr>\n",
       "      <th>3</th>\n",
       "      <td>Coccomyxa</td>\n",
       "      <td>subellipsoidea C-169</td>\n",
       "      <td>v2.0</td>\n",
       "      <td>49.0</td>\n",
       "      <td>green algae</td>\n",
       "      <td>True</td>\n",
       "    </tr>\n",
       "    <tr>\n",
       "      <th>0</th>\n",
       "      <td>Chlamydomonas</td>\n",
       "      <td>reinhardtii</td>\n",
       "      <td>v5.5</td>\n",
       "      <td>111.1</td>\n",
       "      <td>green algae</td>\n",
       "      <td>True</td>\n",
       "    </tr>\n",
       "    <tr>\n",
       "      <th>1</th>\n",
       "      <td>Volvox</td>\n",
       "      <td>carteri</td>\n",
       "      <td>v2.1</td>\n",
       "      <td>131.2</td>\n",
       "      <td>green algae</td>\n",
       "      <td>False</td>\n",
       "    </tr>\n",
       "    <tr>\n",
       "      <th>4</th>\n",
       "      <td>Marchantia</td>\n",
       "      <td>polymorpha</td>\n",
       "      <td>v3.1</td>\n",
       "      <td>225.8</td>\n",
       "      <td>liverwort</td>\n",
       "      <td>False</td>\n",
       "    </tr>\n",
       "  </tbody>\n",
       "</table>\n",
       "</div>"
      ],
      "text/plain": [
       "    generic_name         specific_name assemble_version  genome_size  \\\n",
       "2   Ostreococcus           lucimarinus             v2.0         13.2   \n",
       "5  Thalassiosira            pseudonana             V3.0         34.0   \n",
       "3      Coccomyxa  subellipsoidea C-169             v2.0         49.0   \n",
       "0  Chlamydomonas           reinhardtii             v5.5        111.1   \n",
       "1         Volvox               carteri             v2.1        131.2   \n",
       "4     Marchantia            polymorpha             v3.1        225.8   \n",
       "\n",
       "   common_name  unicellular  \n",
       "2  green algae         True  \n",
       "5       diatom         True  \n",
       "3  green algae         True  \n",
       "0  green algae         True  \n",
       "1  green algae        False  \n",
       "4    liverwort        False  "
      ]
     },
     "execution_count": 90,
     "metadata": {},
     "output_type": "execute_result"
    }
   ],
   "source": [
    "df2.sort_values(by='genome_size', na_position='first')"
   ]
  },
  {
   "cell_type": "markdown",
   "metadata": {},
   "source": [
    "`inplace=True` オプションをつけると, もとのデータフレームを書き換えます（破壊的変更）。\n",
    "generic_name 列でソートします。"
   ]
  },
  {
   "cell_type": "code",
   "execution_count": 91,
   "metadata": {},
   "outputs": [],
   "source": [
    "df2.sort_values(by='generic_name', axis=0, ascending=True, inplace=True, kind='quicksort', na_position='last')"
   ]
  },
  {
   "cell_type": "markdown",
   "metadata": {},
   "source": [
    "順番が変わっていることを確認しましょう。"
   ]
  },
  {
   "cell_type": "code",
   "execution_count": 92,
   "metadata": {},
   "outputs": [
    {
     "data": {
      "text/html": [
       "<div>\n",
       "<style scoped>\n",
       "    .dataframe tbody tr th:only-of-type {\n",
       "        vertical-align: middle;\n",
       "    }\n",
       "\n",
       "    .dataframe tbody tr th {\n",
       "        vertical-align: top;\n",
       "    }\n",
       "\n",
       "    .dataframe thead th {\n",
       "        text-align: right;\n",
       "    }\n",
       "</style>\n",
       "<table border=\"1\" class=\"dataframe\">\n",
       "  <thead>\n",
       "    <tr style=\"text-align: right;\">\n",
       "      <th></th>\n",
       "      <th>generic_name</th>\n",
       "      <th>specific_name</th>\n",
       "      <th>assemble_version</th>\n",
       "      <th>genome_size</th>\n",
       "      <th>common_name</th>\n",
       "      <th>unicellular</th>\n",
       "    </tr>\n",
       "  </thead>\n",
       "  <tbody>\n",
       "    <tr>\n",
       "      <th>0</th>\n",
       "      <td>Chlamydomonas</td>\n",
       "      <td>reinhardtii</td>\n",
       "      <td>v5.5</td>\n",
       "      <td>111.1</td>\n",
       "      <td>green algae</td>\n",
       "      <td>True</td>\n",
       "    </tr>\n",
       "    <tr>\n",
       "      <th>3</th>\n",
       "      <td>Coccomyxa</td>\n",
       "      <td>subellipsoidea C-169</td>\n",
       "      <td>v2.0</td>\n",
       "      <td>49.0</td>\n",
       "      <td>green algae</td>\n",
       "      <td>True</td>\n",
       "    </tr>\n",
       "    <tr>\n",
       "      <th>4</th>\n",
       "      <td>Marchantia</td>\n",
       "      <td>polymorpha</td>\n",
       "      <td>v3.1</td>\n",
       "      <td>225.8</td>\n",
       "      <td>liverwort</td>\n",
       "      <td>False</td>\n",
       "    </tr>\n",
       "    <tr>\n",
       "      <th>2</th>\n",
       "      <td>Ostreococcus</td>\n",
       "      <td>lucimarinus</td>\n",
       "      <td>v2.0</td>\n",
       "      <td>13.2</td>\n",
       "      <td>green algae</td>\n",
       "      <td>True</td>\n",
       "    </tr>\n",
       "    <tr>\n",
       "      <th>5</th>\n",
       "      <td>Thalassiosira</td>\n",
       "      <td>pseudonana</td>\n",
       "      <td>V3.0</td>\n",
       "      <td>34.0</td>\n",
       "      <td>diatom</td>\n",
       "      <td>True</td>\n",
       "    </tr>\n",
       "    <tr>\n",
       "      <th>1</th>\n",
       "      <td>Volvox</td>\n",
       "      <td>carteri</td>\n",
       "      <td>v2.1</td>\n",
       "      <td>131.2</td>\n",
       "      <td>green algae</td>\n",
       "      <td>False</td>\n",
       "    </tr>\n",
       "  </tbody>\n",
       "</table>\n",
       "</div>"
      ],
      "text/plain": [
       "    generic_name         specific_name assemble_version  genome_size  \\\n",
       "0  Chlamydomonas           reinhardtii             v5.5        111.1   \n",
       "3      Coccomyxa  subellipsoidea C-169             v2.0         49.0   \n",
       "4     Marchantia            polymorpha             v3.1        225.8   \n",
       "2   Ostreococcus           lucimarinus             v2.0         13.2   \n",
       "5  Thalassiosira            pseudonana             V3.0         34.0   \n",
       "1         Volvox               carteri             v2.1        131.2   \n",
       "\n",
       "   common_name  unicellular  \n",
       "0  green algae         True  \n",
       "3  green algae         True  \n",
       "4    liverwort        False  \n",
       "2  green algae         True  \n",
       "5       diatom         True  \n",
       "1  green algae        False  "
      ]
     },
     "execution_count": 92,
     "metadata": {},
     "output_type": "execute_result"
    }
   ],
   "source": [
    "df2"
   ]
  },
  {
   "cell_type": "markdown",
   "metadata": {},
   "source": [
    "インデックス順にソートして元に戻しておきます（`inplace=True` オプション)。<br>\n",
    "なお, df2のインデックスはデフォルト(0~5の整数) です。  "
   ]
  },
  {
   "cell_type": "code",
   "execution_count": 93,
   "metadata": {},
   "outputs": [],
   "source": [
    "df2.sort_index(ascending=True, inplace=True)"
   ]
  },
  {
   "cell_type": "markdown",
   "metadata": {},
   "source": [
    "__列の並び替え__ (あまり使用する機会はないかもしれませんが)"
   ]
  },
  {
   "cell_type": "code",
   "execution_count": 94,
   "metadata": {},
   "outputs": [
    {
     "data": {
      "text/html": [
       "<div>\n",
       "<style scoped>\n",
       "    .dataframe tbody tr th:only-of-type {\n",
       "        vertical-align: middle;\n",
       "    }\n",
       "\n",
       "    .dataframe tbody tr th {\n",
       "        vertical-align: top;\n",
       "    }\n",
       "\n",
       "    .dataframe thead th {\n",
       "        text-align: right;\n",
       "    }\n",
       "</style>\n",
       "<table border=\"1\" class=\"dataframe\">\n",
       "  <thead>\n",
       "    <tr style=\"text-align: right;\">\n",
       "      <th></th>\n",
       "      <th>sample1</th>\n",
       "      <th>sample2</th>\n",
       "      <th>sample3</th>\n",
       "    </tr>\n",
       "  </thead>\n",
       "  <tbody>\n",
       "    <tr>\n",
       "      <th>geneA</th>\n",
       "      <td>1</td>\n",
       "      <td>3</td>\n",
       "      <td>2</td>\n",
       "    </tr>\n",
       "    <tr>\n",
       "      <th>geneB</th>\n",
       "      <td>10</td>\n",
       "      <td>20</td>\n",
       "      <td>30</td>\n",
       "    </tr>\n",
       "  </tbody>\n",
       "</table>\n",
       "</div>"
      ],
      "text/plain": [
       "       sample1  sample2  sample3\n",
       "geneA        1        3        2\n",
       "geneB       10       20       30"
      ]
     },
     "execution_count": 94,
     "metadata": {},
     "output_type": "execute_result"
    }
   ],
   "source": [
    "df1.head(2)"
   ]
  },
  {
   "cell_type": "markdown",
   "metadata": {},
   "source": [
    "geneAの行の値は左から 1 → 3 → 2 と並んでいますが, これを左から昇順( 1 → 2 → 3 )に並べ替えます。"
   ]
  },
  {
   "cell_type": "code",
   "execution_count": 95,
   "metadata": {},
   "outputs": [
    {
     "data": {
      "text/html": [
       "<div>\n",
       "<style scoped>\n",
       "    .dataframe tbody tr th:only-of-type {\n",
       "        vertical-align: middle;\n",
       "    }\n",
       "\n",
       "    .dataframe tbody tr th {\n",
       "        vertical-align: top;\n",
       "    }\n",
       "\n",
       "    .dataframe thead th {\n",
       "        text-align: right;\n",
       "    }\n",
       "</style>\n",
       "<table border=\"1\" class=\"dataframe\">\n",
       "  <thead>\n",
       "    <tr style=\"text-align: right;\">\n",
       "      <th></th>\n",
       "      <th>sample1</th>\n",
       "      <th>sample3</th>\n",
       "      <th>sample2</th>\n",
       "    </tr>\n",
       "  </thead>\n",
       "  <tbody>\n",
       "    <tr>\n",
       "      <th>geneA</th>\n",
       "      <td>1</td>\n",
       "      <td>2</td>\n",
       "      <td>3</td>\n",
       "    </tr>\n",
       "    <tr>\n",
       "      <th>geneB</th>\n",
       "      <td>10</td>\n",
       "      <td>30</td>\n",
       "      <td>20</td>\n",
       "    </tr>\n",
       "  </tbody>\n",
       "</table>\n",
       "</div>"
      ],
      "text/plain": [
       "       sample1  sample3  sample2\n",
       "geneA        1        2        3\n",
       "geneB       10       30       20"
      ]
     },
     "execution_count": 95,
     "metadata": {},
     "output_type": "execute_result"
    }
   ],
   "source": [
    "df1.sort_values(by=\"geneA\", axis=1).head(2) # axis=1を指定"
   ]
  },
  {
   "cell_type": "markdown",
   "metadata": {},
   "source": [
    "`inplace=True` オプションをつけていないのでdf1自体は変更しません。"
   ]
  },
  {
   "cell_type": "markdown",
   "metadata": {},
   "source": [
    "### 2-4. データフレームから行・列・要素の抽出\n",
    "#### 2-4-1. 行・列の抽出"
   ]
  },
  {
   "cell_type": "code",
   "execution_count": 96,
   "metadata": {},
   "outputs": [
    {
     "data": {
      "text/html": [
       "<div>\n",
       "<style scoped>\n",
       "    .dataframe tbody tr th:only-of-type {\n",
       "        vertical-align: middle;\n",
       "    }\n",
       "\n",
       "    .dataframe tbody tr th {\n",
       "        vertical-align: top;\n",
       "    }\n",
       "\n",
       "    .dataframe thead th {\n",
       "        text-align: right;\n",
       "    }\n",
       "</style>\n",
       "<table border=\"1\" class=\"dataframe\">\n",
       "  <thead>\n",
       "    <tr style=\"text-align: right;\">\n",
       "      <th></th>\n",
       "      <th>sample1</th>\n",
       "      <th>sample2</th>\n",
       "      <th>sample3</th>\n",
       "    </tr>\n",
       "  </thead>\n",
       "  <tbody>\n",
       "    <tr>\n",
       "      <th>geneA</th>\n",
       "      <td>1</td>\n",
       "      <td>3</td>\n",
       "      <td>2</td>\n",
       "    </tr>\n",
       "    <tr>\n",
       "      <th>geneB</th>\n",
       "      <td>10</td>\n",
       "      <td>20</td>\n",
       "      <td>30</td>\n",
       "    </tr>\n",
       "    <tr>\n",
       "      <th>geneC</th>\n",
       "      <td>100</td>\n",
       "      <td>200</td>\n",
       "      <td>300</td>\n",
       "    </tr>\n",
       "    <tr>\n",
       "      <th>geneD</th>\n",
       "      <td>1000</td>\n",
       "      <td>2000</td>\n",
       "      <td>3000</td>\n",
       "    </tr>\n",
       "  </tbody>\n",
       "</table>\n",
       "</div>"
      ],
      "text/plain": [
       "       sample1  sample2  sample3\n",
       "geneA        1        3        2\n",
       "geneB       10       20       30\n",
       "geneC      100      200      300\n",
       "geneD     1000     2000     3000"
      ]
     },
     "execution_count": 96,
     "metadata": {},
     "output_type": "execute_result"
    }
   ],
   "source": [
    "df1"
   ]
  },
  {
   "cell_type": "markdown",
   "metadata": {},
   "source": [
    "__列の抽出__<br>\n",
    "\n",
    "抽出したい列名を`[ ]`で指定します。結果はシリーズとして返ります。"
   ]
  },
  {
   "cell_type": "code",
   "execution_count": 97,
   "metadata": {},
   "outputs": [
    {
     "data": {
      "text/plain": [
       "geneA       1\n",
       "geneB      10\n",
       "geneC     100\n",
       "geneD    1000\n",
       "Name: sample1, dtype: int64"
      ]
     },
     "execution_count": 97,
     "metadata": {},
     "output_type": "execute_result"
    }
   ],
   "source": [
    "df1['sample1'] "
   ]
  },
  {
   "cell_type": "markdown",
   "metadata": {},
   "source": [
    "以下のやりかたでも同様の操作が可能です。"
   ]
  },
  {
   "cell_type": "code",
   "execution_count": 98,
   "metadata": {},
   "outputs": [
    {
     "data": {
      "text/plain": [
       "geneA       1\n",
       "geneB      10\n",
       "geneC     100\n",
       "geneD    1000\n",
       "Name: sample1, dtype: int64"
      ]
     },
     "execution_count": 98,
     "metadata": {},
     "output_type": "execute_result"
    }
   ],
   "source": [
    "df1.sample1 "
   ]
  },
  {
   "cell_type": "markdown",
   "metadata": {},
   "source": [
    "複数の列を抽出する場合にはリストで指定します。`[ ]`が二重`[[ ]]`になることに注意してください。<br>\n",
    "結果はデータフレームとして返ります。"
   ]
  },
  {
   "cell_type": "code",
   "execution_count": 99,
   "metadata": {},
   "outputs": [
    {
     "data": {
      "text/html": [
       "<div>\n",
       "<style scoped>\n",
       "    .dataframe tbody tr th:only-of-type {\n",
       "        vertical-align: middle;\n",
       "    }\n",
       "\n",
       "    .dataframe tbody tr th {\n",
       "        vertical-align: top;\n",
       "    }\n",
       "\n",
       "    .dataframe thead th {\n",
       "        text-align: right;\n",
       "    }\n",
       "</style>\n",
       "<table border=\"1\" class=\"dataframe\">\n",
       "  <thead>\n",
       "    <tr style=\"text-align: right;\">\n",
       "      <th></th>\n",
       "      <th>sample1</th>\n",
       "      <th>sample3</th>\n",
       "    </tr>\n",
       "  </thead>\n",
       "  <tbody>\n",
       "    <tr>\n",
       "      <th>geneA</th>\n",
       "      <td>1</td>\n",
       "      <td>2</td>\n",
       "    </tr>\n",
       "    <tr>\n",
       "      <th>geneB</th>\n",
       "      <td>10</td>\n",
       "      <td>30</td>\n",
       "    </tr>\n",
       "    <tr>\n",
       "      <th>geneC</th>\n",
       "      <td>100</td>\n",
       "      <td>300</td>\n",
       "    </tr>\n",
       "    <tr>\n",
       "      <th>geneD</th>\n",
       "      <td>1000</td>\n",
       "      <td>3000</td>\n",
       "    </tr>\n",
       "  </tbody>\n",
       "</table>\n",
       "</div>"
      ],
      "text/plain": [
       "       sample1  sample3\n",
       "geneA        1        2\n",
       "geneB       10       30\n",
       "geneC      100      300\n",
       "geneD     1000     3000"
      ]
     },
     "execution_count": 99,
     "metadata": {},
     "output_type": "execute_result"
    }
   ],
   "source": [
    "df1[['sample1','sample3']]  "
   ]
  },
  {
   "cell_type": "markdown",
   "metadata": {},
   "source": [
    "sample1列のみをデータフレームとして抽出します。最初の例 ` df1['sample1']` との違いに注意しましょう。"
   ]
  },
  {
   "cell_type": "code",
   "execution_count": 100,
   "metadata": {},
   "outputs": [
    {
     "data": {
      "text/html": [
       "<div>\n",
       "<style scoped>\n",
       "    .dataframe tbody tr th:only-of-type {\n",
       "        vertical-align: middle;\n",
       "    }\n",
       "\n",
       "    .dataframe tbody tr th {\n",
       "        vertical-align: top;\n",
       "    }\n",
       "\n",
       "    .dataframe thead th {\n",
       "        text-align: right;\n",
       "    }\n",
       "</style>\n",
       "<table border=\"1\" class=\"dataframe\">\n",
       "  <thead>\n",
       "    <tr style=\"text-align: right;\">\n",
       "      <th></th>\n",
       "      <th>sample1</th>\n",
       "    </tr>\n",
       "  </thead>\n",
       "  <tbody>\n",
       "    <tr>\n",
       "      <th>geneA</th>\n",
       "      <td>1</td>\n",
       "    </tr>\n",
       "    <tr>\n",
       "      <th>geneB</th>\n",
       "      <td>10</td>\n",
       "    </tr>\n",
       "    <tr>\n",
       "      <th>geneC</th>\n",
       "      <td>100</td>\n",
       "    </tr>\n",
       "    <tr>\n",
       "      <th>geneD</th>\n",
       "      <td>1000</td>\n",
       "    </tr>\n",
       "  </tbody>\n",
       "</table>\n",
       "</div>"
      ],
      "text/plain": [
       "       sample1\n",
       "geneA        1\n",
       "geneB       10\n",
       "geneC      100\n",
       "geneD     1000"
      ]
     },
     "execution_count": 100,
     "metadata": {},
     "output_type": "execute_result"
    }
   ],
   "source": [
    "df1[['sample1']] "
   ]
  },
  {
   "cell_type": "markdown",
   "metadata": {},
   "source": [
    "__スライスを使った行の抽出__<br>\n",
    "\n",
    "行の抽出にスライスを使うことができますが, 後述の `loc` または `iloc` を覚えておけばよいでしょう。"
   ]
  },
  {
   "cell_type": "code",
   "execution_count": 101,
   "metadata": {},
   "outputs": [
    {
     "data": {
      "text/html": [
       "<div>\n",
       "<style scoped>\n",
       "    .dataframe tbody tr th:only-of-type {\n",
       "        vertical-align: middle;\n",
       "    }\n",
       "\n",
       "    .dataframe tbody tr th {\n",
       "        vertical-align: top;\n",
       "    }\n",
       "\n",
       "    .dataframe thead th {\n",
       "        text-align: right;\n",
       "    }\n",
       "</style>\n",
       "<table border=\"1\" class=\"dataframe\">\n",
       "  <thead>\n",
       "    <tr style=\"text-align: right;\">\n",
       "      <th></th>\n",
       "      <th>generic_name</th>\n",
       "      <th>specific_name</th>\n",
       "      <th>assemble_version</th>\n",
       "      <th>genome_size</th>\n",
       "      <th>common_name</th>\n",
       "      <th>unicellular</th>\n",
       "    </tr>\n",
       "  </thead>\n",
       "  <tbody>\n",
       "    <tr>\n",
       "      <th>0</th>\n",
       "      <td>Chlamydomonas</td>\n",
       "      <td>reinhardtii</td>\n",
       "      <td>v5.5</td>\n",
       "      <td>111.1</td>\n",
       "      <td>green algae</td>\n",
       "      <td>True</td>\n",
       "    </tr>\n",
       "    <tr>\n",
       "      <th>1</th>\n",
       "      <td>Volvox</td>\n",
       "      <td>carteri</td>\n",
       "      <td>v2.1</td>\n",
       "      <td>131.2</td>\n",
       "      <td>green algae</td>\n",
       "      <td>False</td>\n",
       "    </tr>\n",
       "    <tr>\n",
       "      <th>2</th>\n",
       "      <td>Ostreococcus</td>\n",
       "      <td>lucimarinus</td>\n",
       "      <td>v2.0</td>\n",
       "      <td>13.2</td>\n",
       "      <td>green algae</td>\n",
       "      <td>True</td>\n",
       "    </tr>\n",
       "  </tbody>\n",
       "</table>\n",
       "</div>"
      ],
      "text/plain": [
       "    generic_name specific_name assemble_version  genome_size  common_name  \\\n",
       "0  Chlamydomonas   reinhardtii             v5.5        111.1  green algae   \n",
       "1         Volvox       carteri             v2.1        131.2  green algae   \n",
       "2   Ostreococcus   lucimarinus             v2.0         13.2  green algae   \n",
       "\n",
       "   unicellular  \n",
       "0         True  \n",
       "1        False  \n",
       "2         True  "
      ]
     },
     "execution_count": 101,
     "metadata": {},
     "output_type": "execute_result"
    }
   ],
   "source": [
    "# 0から2行目までを抽出\n",
    "df2[0:3]"
   ]
  },
  {
   "cell_type": "markdown",
   "metadata": {},
   "source": [
    "「0」という名称の列が存在しないため、`df3[0]`とするとエラーになります。<br>\n",
    "スライスで0行目を抽出するときは以下のように指定します。"
   ]
  },
  {
   "cell_type": "code",
   "execution_count": 102,
   "metadata": {},
   "outputs": [
    {
     "data": {
      "text/html": [
       "<div>\n",
       "<style scoped>\n",
       "    .dataframe tbody tr th:only-of-type {\n",
       "        vertical-align: middle;\n",
       "    }\n",
       "\n",
       "    .dataframe tbody tr th {\n",
       "        vertical-align: top;\n",
       "    }\n",
       "\n",
       "    .dataframe thead th {\n",
       "        text-align: right;\n",
       "    }\n",
       "</style>\n",
       "<table border=\"1\" class=\"dataframe\">\n",
       "  <thead>\n",
       "    <tr style=\"text-align: right;\">\n",
       "      <th></th>\n",
       "      <th>generic_name</th>\n",
       "      <th>specific_name</th>\n",
       "      <th>assemble_version</th>\n",
       "      <th>genome_size</th>\n",
       "      <th>common_name</th>\n",
       "      <th>unicellular</th>\n",
       "    </tr>\n",
       "  </thead>\n",
       "  <tbody>\n",
       "    <tr>\n",
       "      <th>0</th>\n",
       "      <td>Chlamydomonas</td>\n",
       "      <td>reinhardtii</td>\n",
       "      <td>v5.5</td>\n",
       "      <td>111.1</td>\n",
       "      <td>green algae</td>\n",
       "      <td>True</td>\n",
       "    </tr>\n",
       "  </tbody>\n",
       "</table>\n",
       "</div>"
      ],
      "text/plain": [
       "    generic_name specific_name assemble_version  genome_size  common_name  \\\n",
       "0  Chlamydomonas   reinhardtii             v5.5        111.1  green algae   \n",
       "\n",
       "   unicellular  \n",
       "0         True  "
      ]
     },
     "execution_count": 102,
     "metadata": {},
     "output_type": "execute_result"
    }
   ],
   "source": [
    "df2[0:1]"
   ]
  },
  {
   "cell_type": "markdown",
   "metadata": {},
   "source": [
    "#### 2-4-2. 要素の抽出 ( at, iat )\n",
    "`at` でインデックスとカラム名（ 行ラベル, 列ラベル ）を指定して要素を抽出します。<br>\n",
    "[　行, 列　]の順に指定します。"
   ]
  },
  {
   "cell_type": "code",
   "execution_count": 103,
   "metadata": {},
   "outputs": [
    {
     "data": {
      "text/html": [
       "<div>\n",
       "<style scoped>\n",
       "    .dataframe tbody tr th:only-of-type {\n",
       "        vertical-align: middle;\n",
       "    }\n",
       "\n",
       "    .dataframe tbody tr th {\n",
       "        vertical-align: top;\n",
       "    }\n",
       "\n",
       "    .dataframe thead th {\n",
       "        text-align: right;\n",
       "    }\n",
       "</style>\n",
       "<table border=\"1\" class=\"dataframe\">\n",
       "  <thead>\n",
       "    <tr style=\"text-align: right;\">\n",
       "      <th></th>\n",
       "      <th>sample1</th>\n",
       "      <th>sample2</th>\n",
       "      <th>sample3</th>\n",
       "    </tr>\n",
       "  </thead>\n",
       "  <tbody>\n",
       "    <tr>\n",
       "      <th>geneA</th>\n",
       "      <td>1</td>\n",
       "      <td>3</td>\n",
       "      <td>2</td>\n",
       "    </tr>\n",
       "    <tr>\n",
       "      <th>geneB</th>\n",
       "      <td>10</td>\n",
       "      <td>20</td>\n",
       "      <td>30</td>\n",
       "    </tr>\n",
       "    <tr>\n",
       "      <th>geneC</th>\n",
       "      <td>100</td>\n",
       "      <td>200</td>\n",
       "      <td>300</td>\n",
       "    </tr>\n",
       "    <tr>\n",
       "      <th>geneD</th>\n",
       "      <td>1000</td>\n",
       "      <td>2000</td>\n",
       "      <td>3000</td>\n",
       "    </tr>\n",
       "  </tbody>\n",
       "</table>\n",
       "</div>"
      ],
      "text/plain": [
       "       sample1  sample2  sample3\n",
       "geneA        1        3        2\n",
       "geneB       10       20       30\n",
       "geneC      100      200      300\n",
       "geneD     1000     2000     3000"
      ]
     },
     "execution_count": 103,
     "metadata": {},
     "output_type": "execute_result"
    }
   ],
   "source": [
    "df1"
   ]
  },
  {
   "cell_type": "code",
   "execution_count": 104,
   "metadata": {},
   "outputs": [
    {
     "data": {
      "text/plain": [
       "20"
      ]
     },
     "execution_count": 104,
     "metadata": {},
     "output_type": "execute_result"
    }
   ],
   "source": [
    "df1.at['geneB', 'sample2']"
   ]
  },
  {
   "cell_type": "markdown",
   "metadata": {},
   "source": [
    "```iat```　で位置を指定して要素を抽出します ( `i` はintegerの意味 )。"
   ]
  },
  {
   "cell_type": "code",
   "execution_count": 48,
   "metadata": {},
   "outputs": [
    {
     "data": {
      "text/plain": [
       "20"
      ]
     },
     "execution_count": 48,
     "metadata": {},
     "output_type": "execute_result"
    }
   ],
   "source": [
    "df1.iat[1, 1]"
   ]
  },
  {
   "cell_type": "markdown",
   "metadata": {},
   "source": [
    "#### 2-4-3. 範囲（複数、単数の行および列）の切り出し（ loc, iloc ）\n",
    "`loc` でインデックスによる抽出ができます。単独の要素の抽出は以下のように書きます。<br>\n",
    "`df3.at[\"data_1\", \"A\"]` と同じ結果になりますが、`at` の方が速いです。"
   ]
  },
  {
   "cell_type": "code",
   "execution_count": 105,
   "metadata": {},
   "outputs": [
    {
     "data": {
      "text/plain": [
       "3"
      ]
     },
     "execution_count": 105,
     "metadata": {},
     "output_type": "execute_result"
    }
   ],
   "source": [
    "df1.loc['geneA', 'sample2'] "
   ]
  },
  {
   "cell_type": "markdown",
   "metadata": {},
   "source": [
    "複数の行・列からなる範囲の抽出は以下のようにします。結果はデータフレームとして返ります。"
   ]
  },
  {
   "cell_type": "code",
   "execution_count": 106,
   "metadata": {},
   "outputs": [
    {
     "data": {
      "text/html": [
       "<div>\n",
       "<style scoped>\n",
       "    .dataframe tbody tr th:only-of-type {\n",
       "        vertical-align: middle;\n",
       "    }\n",
       "\n",
       "    .dataframe tbody tr th {\n",
       "        vertical-align: top;\n",
       "    }\n",
       "\n",
       "    .dataframe thead th {\n",
       "        text-align: right;\n",
       "    }\n",
       "</style>\n",
       "<table border=\"1\" class=\"dataframe\">\n",
       "  <thead>\n",
       "    <tr style=\"text-align: right;\">\n",
       "      <th></th>\n",
       "      <th>sample2</th>\n",
       "      <th>sample3</th>\n",
       "    </tr>\n",
       "  </thead>\n",
       "  <tbody>\n",
       "    <tr>\n",
       "      <th>geneA</th>\n",
       "      <td>3</td>\n",
       "      <td>2</td>\n",
       "    </tr>\n",
       "    <tr>\n",
       "      <th>geneB</th>\n",
       "      <td>20</td>\n",
       "      <td>30</td>\n",
       "    </tr>\n",
       "    <tr>\n",
       "      <th>geneC</th>\n",
       "      <td>200</td>\n",
       "      <td>300</td>\n",
       "    </tr>\n",
       "  </tbody>\n",
       "</table>\n",
       "</div>"
      ],
      "text/plain": [
       "       sample2  sample3\n",
       "geneA        3        2\n",
       "geneB       20       30\n",
       "geneC      200      300"
      ]
     },
     "execution_count": 106,
     "metadata": {},
     "output_type": "execute_result"
    }
   ],
   "source": [
    "df1.loc['geneA':'geneC', 'sample2':'sample3']  "
   ]
  },
  {
   "cell_type": "markdown",
   "metadata": {},
   "source": [
    "上の例で, 通常の数値によるスライスとは異なり, geneC 行や sample3 列が含まれていることに注意してください。<br>\n",
    "慣れるまでは, 実際に抽出したデータが自分の欲しいものかどうかを確認しながら進めたほうがよいでしょう。"
   ]
  },
  {
   "cell_type": "markdown",
   "metadata": {},
   "source": [
    "':' を指定すると対象となる列 or 行の全体が抽出されます。以下の例では geneB ~ geneD までのすべての列を表示します。"
   ]
  },
  {
   "cell_type": "code",
   "execution_count": 107,
   "metadata": {},
   "outputs": [
    {
     "data": {
      "text/html": [
       "<div>\n",
       "<style scoped>\n",
       "    .dataframe tbody tr th:only-of-type {\n",
       "        vertical-align: middle;\n",
       "    }\n",
       "\n",
       "    .dataframe tbody tr th {\n",
       "        vertical-align: top;\n",
       "    }\n",
       "\n",
       "    .dataframe thead th {\n",
       "        text-align: right;\n",
       "    }\n",
       "</style>\n",
       "<table border=\"1\" class=\"dataframe\">\n",
       "  <thead>\n",
       "    <tr style=\"text-align: right;\">\n",
       "      <th></th>\n",
       "      <th>sample1</th>\n",
       "      <th>sample2</th>\n",
       "      <th>sample3</th>\n",
       "    </tr>\n",
       "  </thead>\n",
       "  <tbody>\n",
       "    <tr>\n",
       "      <th>geneB</th>\n",
       "      <td>10</td>\n",
       "      <td>20</td>\n",
       "      <td>30</td>\n",
       "    </tr>\n",
       "    <tr>\n",
       "      <th>geneC</th>\n",
       "      <td>100</td>\n",
       "      <td>200</td>\n",
       "      <td>300</td>\n",
       "    </tr>\n",
       "    <tr>\n",
       "      <th>geneD</th>\n",
       "      <td>1000</td>\n",
       "      <td>2000</td>\n",
       "      <td>3000</td>\n",
       "    </tr>\n",
       "  </tbody>\n",
       "</table>\n",
       "</div>"
      ],
      "text/plain": [
       "       sample1  sample2  sample3\n",
       "geneB       10       20       30\n",
       "geneC      100      200      300\n",
       "geneD     1000     2000     3000"
      ]
     },
     "execution_count": 107,
     "metadata": {},
     "output_type": "execute_result"
    }
   ],
   "source": [
    "df1.loc['geneB':'geneD', :] "
   ]
  },
  {
   "cell_type": "markdown",
   "metadata": {},
   "source": [
    "列の指定を省略することも可能です。行の全体を抽出するにはこの方法が便利です。"
   ]
  },
  {
   "cell_type": "code",
   "execution_count": 108,
   "metadata": {},
   "outputs": [
    {
     "data": {
      "text/html": [
       "<div>\n",
       "<style scoped>\n",
       "    .dataframe tbody tr th:only-of-type {\n",
       "        vertical-align: middle;\n",
       "    }\n",
       "\n",
       "    .dataframe tbody tr th {\n",
       "        vertical-align: top;\n",
       "    }\n",
       "\n",
       "    .dataframe thead th {\n",
       "        text-align: right;\n",
       "    }\n",
       "</style>\n",
       "<table border=\"1\" class=\"dataframe\">\n",
       "  <thead>\n",
       "    <tr style=\"text-align: right;\">\n",
       "      <th></th>\n",
       "      <th>sample1</th>\n",
       "      <th>sample2</th>\n",
       "      <th>sample3</th>\n",
       "    </tr>\n",
       "  </thead>\n",
       "  <tbody>\n",
       "    <tr>\n",
       "      <th>geneB</th>\n",
       "      <td>10</td>\n",
       "      <td>20</td>\n",
       "      <td>30</td>\n",
       "    </tr>\n",
       "    <tr>\n",
       "      <th>geneC</th>\n",
       "      <td>100</td>\n",
       "      <td>200</td>\n",
       "      <td>300</td>\n",
       "    </tr>\n",
       "    <tr>\n",
       "      <th>geneD</th>\n",
       "      <td>1000</td>\n",
       "      <td>2000</td>\n",
       "      <td>3000</td>\n",
       "    </tr>\n",
       "  </tbody>\n",
       "</table>\n",
       "</div>"
      ],
      "text/plain": [
       "       sample1  sample2  sample3\n",
       "geneB       10       20       30\n",
       "geneC      100      200      300\n",
       "geneD     1000     2000     3000"
      ]
     },
     "execution_count": 108,
     "metadata": {},
     "output_type": "execute_result"
    }
   ],
   "source": [
    "df1.loc['geneB':'geneD']"
   ]
  },
  {
   "cell_type": "markdown",
   "metadata": {},
   "source": [
    "以下は ':' ですべての行を指定する例です。"
   ]
  },
  {
   "cell_type": "code",
   "execution_count": 109,
   "metadata": {},
   "outputs": [
    {
     "data": {
      "text/html": [
       "<div>\n",
       "<style scoped>\n",
       "    .dataframe tbody tr th:only-of-type {\n",
       "        vertical-align: middle;\n",
       "    }\n",
       "\n",
       "    .dataframe tbody tr th {\n",
       "        vertical-align: top;\n",
       "    }\n",
       "\n",
       "    .dataframe thead th {\n",
       "        text-align: right;\n",
       "    }\n",
       "</style>\n",
       "<table border=\"1\" class=\"dataframe\">\n",
       "  <thead>\n",
       "    <tr style=\"text-align: right;\">\n",
       "      <th></th>\n",
       "      <th>sample1</th>\n",
       "      <th>sample2</th>\n",
       "      <th>sample3</th>\n",
       "    </tr>\n",
       "  </thead>\n",
       "  <tbody>\n",
       "    <tr>\n",
       "      <th>geneA</th>\n",
       "      <td>1</td>\n",
       "      <td>3</td>\n",
       "      <td>2</td>\n",
       "    </tr>\n",
       "    <tr>\n",
       "      <th>geneB</th>\n",
       "      <td>10</td>\n",
       "      <td>20</td>\n",
       "      <td>30</td>\n",
       "    </tr>\n",
       "    <tr>\n",
       "      <th>geneC</th>\n",
       "      <td>100</td>\n",
       "      <td>200</td>\n",
       "      <td>300</td>\n",
       "    </tr>\n",
       "    <tr>\n",
       "      <th>geneD</th>\n",
       "      <td>1000</td>\n",
       "      <td>2000</td>\n",
       "      <td>3000</td>\n",
       "    </tr>\n",
       "  </tbody>\n",
       "</table>\n",
       "</div>"
      ],
      "text/plain": [
       "       sample1  sample2  sample3\n",
       "geneA        1        3        2\n",
       "geneB       10       20       30\n",
       "geneC      100      200      300\n",
       "geneD     1000     2000     3000"
      ]
     },
     "execution_count": 109,
     "metadata": {},
     "output_type": "execute_result"
    }
   ],
   "source": [
    "df1.loc[:, 'sample1':'sample3']"
   ]
  },
  {
   "cell_type": "markdown",
   "metadata": {},
   "source": [
    "ただし, すべての行を指定する場合, `df.loc[:,['A', 'B', 'C']]`より`df[['A', 'B', 'C']]`の書き方をおすすめします。"
   ]
  },
  {
   "cell_type": "markdown",
   "metadata": {},
   "source": [
    "リストを使って行や列を指定することも可能です。この方法を使って任意の並び順にすることができます。"
   ]
  },
  {
   "cell_type": "code",
   "execution_count": 110,
   "metadata": {},
   "outputs": [
    {
     "data": {
      "text/html": [
       "<div>\n",
       "<style scoped>\n",
       "    .dataframe tbody tr th:only-of-type {\n",
       "        vertical-align: middle;\n",
       "    }\n",
       "\n",
       "    .dataframe tbody tr th {\n",
       "        vertical-align: top;\n",
       "    }\n",
       "\n",
       "    .dataframe thead th {\n",
       "        text-align: right;\n",
       "    }\n",
       "</style>\n",
       "<table border=\"1\" class=\"dataframe\">\n",
       "  <thead>\n",
       "    <tr style=\"text-align: right;\">\n",
       "      <th></th>\n",
       "      <th>sample2</th>\n",
       "      <th>sample1</th>\n",
       "    </tr>\n",
       "  </thead>\n",
       "  <tbody>\n",
       "    <tr>\n",
       "      <th>geneB</th>\n",
       "      <td>20</td>\n",
       "      <td>10</td>\n",
       "    </tr>\n",
       "    <tr>\n",
       "      <th>geneC</th>\n",
       "      <td>200</td>\n",
       "      <td>100</td>\n",
       "    </tr>\n",
       "    <tr>\n",
       "      <th>geneA</th>\n",
       "      <td>3</td>\n",
       "      <td>1</td>\n",
       "    </tr>\n",
       "  </tbody>\n",
       "</table>\n",
       "</div>"
      ],
      "text/plain": [
       "       sample2  sample1\n",
       "geneB       20       10\n",
       "geneC      200      100\n",
       "geneA        3        1"
      ]
     },
     "execution_count": 110,
     "metadata": {},
     "output_type": "execute_result"
    }
   ],
   "source": [
    "df1.loc[['geneB','geneC','geneA'], ['sample2','sample1']]  "
   ]
  },
  {
   "cell_type": "markdown",
   "metadata": {},
   "source": [
    "すべての列を取得する場合は以下のようにします。`df3.loc[['geneC','geneA], :]`でも同じ結果になります。"
   ]
  },
  {
   "cell_type": "code",
   "execution_count": 111,
   "metadata": {},
   "outputs": [
    {
     "data": {
      "text/html": [
       "<div>\n",
       "<style scoped>\n",
       "    .dataframe tbody tr th:only-of-type {\n",
       "        vertical-align: middle;\n",
       "    }\n",
       "\n",
       "    .dataframe tbody tr th {\n",
       "        vertical-align: top;\n",
       "    }\n",
       "\n",
       "    .dataframe thead th {\n",
       "        text-align: right;\n",
       "    }\n",
       "</style>\n",
       "<table border=\"1\" class=\"dataframe\">\n",
       "  <thead>\n",
       "    <tr style=\"text-align: right;\">\n",
       "      <th></th>\n",
       "      <th>sample1</th>\n",
       "      <th>sample2</th>\n",
       "      <th>sample3</th>\n",
       "    </tr>\n",
       "  </thead>\n",
       "  <tbody>\n",
       "    <tr>\n",
       "      <th>geneC</th>\n",
       "      <td>100</td>\n",
       "      <td>200</td>\n",
       "      <td>300</td>\n",
       "    </tr>\n",
       "    <tr>\n",
       "      <th>geneA</th>\n",
       "      <td>1</td>\n",
       "      <td>3</td>\n",
       "      <td>2</td>\n",
       "    </tr>\n",
       "  </tbody>\n",
       "</table>\n",
       "</div>"
      ],
      "text/plain": [
       "       sample1  sample2  sample3\n",
       "geneC      100      200      300\n",
       "geneA        1        3        2"
      ]
     },
     "execution_count": 111,
     "metadata": {},
     "output_type": "execute_result"
    }
   ],
   "source": [
    "df1.loc[['geneC','geneA']]  "
   ]
  },
  {
   "cell_type": "markdown",
   "metadata": {},
   "source": [
    "すべての行を取得する場合は以下のようにします。"
   ]
  },
  {
   "cell_type": "code",
   "execution_count": 112,
   "metadata": {},
   "outputs": [
    {
     "data": {
      "text/html": [
       "<div>\n",
       "<style scoped>\n",
       "    .dataframe tbody tr th:only-of-type {\n",
       "        vertical-align: middle;\n",
       "    }\n",
       "\n",
       "    .dataframe tbody tr th {\n",
       "        vertical-align: top;\n",
       "    }\n",
       "\n",
       "    .dataframe thead th {\n",
       "        text-align: right;\n",
       "    }\n",
       "</style>\n",
       "<table border=\"1\" class=\"dataframe\">\n",
       "  <thead>\n",
       "    <tr style=\"text-align: right;\">\n",
       "      <th></th>\n",
       "      <th>sample3</th>\n",
       "      <th>sample1</th>\n",
       "    </tr>\n",
       "  </thead>\n",
       "  <tbody>\n",
       "    <tr>\n",
       "      <th>geneA</th>\n",
       "      <td>2</td>\n",
       "      <td>1</td>\n",
       "    </tr>\n",
       "    <tr>\n",
       "      <th>geneB</th>\n",
       "      <td>30</td>\n",
       "      <td>10</td>\n",
       "    </tr>\n",
       "    <tr>\n",
       "      <th>geneC</th>\n",
       "      <td>300</td>\n",
       "      <td>100</td>\n",
       "    </tr>\n",
       "    <tr>\n",
       "      <th>geneD</th>\n",
       "      <td>3000</td>\n",
       "      <td>1000</td>\n",
       "    </tr>\n",
       "  </tbody>\n",
       "</table>\n",
       "</div>"
      ],
      "text/plain": [
       "       sample3  sample1\n",
       "geneA        2        1\n",
       "geneB       30       10\n",
       "geneC      300      100\n",
       "geneD     3000     1000"
      ]
     },
     "execution_count": 112,
     "metadata": {},
     "output_type": "execute_result"
    }
   ],
   "source": [
    "df1.loc[:, ['sample3','sample1']] "
   ]
  },
  {
   "cell_type": "markdown",
   "metadata": {},
   "source": [
    "繰り返しになりますが, 上の例より `df1[['sample3','sample1']]` の方が便利です。"
   ]
  },
  {
   "cell_type": "markdown",
   "metadata": {},
   "source": [
    "単独の行の抽出は以下のようにします。"
   ]
  },
  {
   "cell_type": "code",
   "execution_count": 113,
   "metadata": {},
   "outputs": [
    {
     "data": {
      "text/plain": [
       "sample1    1000\n",
       "sample2    2000\n",
       "sample3    3000\n",
       "Name: geneD, dtype: int64"
      ]
     },
     "execution_count": 113,
     "metadata": {},
     "output_type": "execute_result"
    }
   ],
   "source": [
    "df1.loc['geneD', :]"
   ]
  },
  {
   "cell_type": "markdown",
   "metadata": {},
   "source": [
    "列の指定 `:,` は省略できます。"
   ]
  },
  {
   "cell_type": "code",
   "execution_count": 114,
   "metadata": {},
   "outputs": [
    {
     "data": {
      "text/plain": [
       "sample1    1000\n",
       "sample2    2000\n",
       "sample3    3000\n",
       "Name: geneD, dtype: int64"
      ]
     },
     "execution_count": 114,
     "metadata": {},
     "output_type": "execute_result"
    }
   ],
   "source": [
    "df1.loc['geneD']"
   ]
  },
  {
   "cell_type": "markdown",
   "metadata": {},
   "source": [
    "単独の列の抽出は以下のようにします。"
   ]
  },
  {
   "cell_type": "code",
   "execution_count": 115,
   "metadata": {},
   "outputs": [
    {
     "data": {
      "text/plain": [
       "geneA       3\n",
       "geneB      20\n",
       "geneC     200\n",
       "geneD    2000\n",
       "Name: sample2, dtype: int64"
      ]
     },
     "execution_count": 115,
     "metadata": {},
     "output_type": "execute_result"
    }
   ],
   "source": [
    "df1.loc[:, 'sample2']"
   ]
  },
  {
   "cell_type": "markdown",
   "metadata": {},
   "source": [
    "行の指定 `:,` は省略できます。"
   ]
  },
  {
   "cell_type": "code",
   "execution_count": 116,
   "metadata": {},
   "outputs": [
    {
     "data": {
      "text/plain": [
       "geneA       3\n",
       "geneB      20\n",
       "geneC     200\n",
       "geneD    2000\n",
       "Name: sample2, dtype: int64"
      ]
     },
     "execution_count": 116,
     "metadata": {},
     "output_type": "execute_result"
    }
   ],
   "source": [
    "df1['sample2']"
   ]
  },
  {
   "cell_type": "markdown",
   "metadata": {},
   "source": [
    "`[[ ]]`で指定した時と`[ ]`で指定した時、返ってくるデータの形式が異なることに注意しましょう。"
   ]
  },
  {
   "cell_type": "code",
   "execution_count": 117,
   "metadata": {},
   "outputs": [
    {
     "data": {
      "text/html": [
       "<div>\n",
       "<style scoped>\n",
       "    .dataframe tbody tr th:only-of-type {\n",
       "        vertical-align: middle;\n",
       "    }\n",
       "\n",
       "    .dataframe tbody tr th {\n",
       "        vertical-align: top;\n",
       "    }\n",
       "\n",
       "    .dataframe thead th {\n",
       "        text-align: right;\n",
       "    }\n",
       "</style>\n",
       "<table border=\"1\" class=\"dataframe\">\n",
       "  <thead>\n",
       "    <tr style=\"text-align: right;\">\n",
       "      <th></th>\n",
       "      <th>sample1</th>\n",
       "      <th>sample2</th>\n",
       "      <th>sample3</th>\n",
       "    </tr>\n",
       "  </thead>\n",
       "  <tbody>\n",
       "    <tr>\n",
       "      <th>geneD</th>\n",
       "      <td>1000</td>\n",
       "      <td>2000</td>\n",
       "      <td>3000</td>\n",
       "    </tr>\n",
       "  </tbody>\n",
       "</table>\n",
       "</div>"
      ],
      "text/plain": [
       "       sample1  sample2  sample3\n",
       "geneD     1000     2000     3000"
      ]
     },
     "execution_count": 117,
     "metadata": {},
     "output_type": "execute_result"
    }
   ],
   "source": [
    "df1.loc[['geneD']]  # 結果はデータフレーム"
   ]
  },
  {
   "cell_type": "code",
   "execution_count": 118,
   "metadata": {},
   "outputs": [
    {
     "data": {
      "text/plain": [
       "sample1    1000\n",
       "sample2    2000\n",
       "sample3    3000\n",
       "Name: geneD, dtype: int64"
      ]
     },
     "execution_count": 118,
     "metadata": {},
     "output_type": "execute_result"
    }
   ],
   "source": [
    "df1.loc['geneD']  # 結果はシリーズ"
   ]
  },
  {
   "cell_type": "markdown",
   "metadata": {},
   "source": [
    "`iloc` で位置（整数値）による指定ができます。位置を数字で指定することを除いて `loc` と同じです。<br>"
   ]
  },
  {
   "cell_type": "markdown",
   "metadata": {},
   "source": [
    "[ 行, 列 ] と指定します。"
   ]
  },
  {
   "cell_type": "code",
   "execution_count": 119,
   "metadata": {},
   "outputs": [
    {
     "data": {
      "text/plain": [
       "30"
      ]
     },
     "execution_count": 119,
     "metadata": {},
     "output_type": "execute_result"
    }
   ],
   "source": [
    "df1.iloc[1,2]"
   ]
  },
  {
   "cell_type": "markdown",
   "metadata": {},
   "source": [
    "スライスで指定することもできます。"
   ]
  },
  {
   "cell_type": "code",
   "execution_count": 120,
   "metadata": {},
   "outputs": [
    {
     "data": {
      "text/html": [
       "<div>\n",
       "<style scoped>\n",
       "    .dataframe tbody tr th:only-of-type {\n",
       "        vertical-align: middle;\n",
       "    }\n",
       "\n",
       "    .dataframe tbody tr th {\n",
       "        vertical-align: top;\n",
       "    }\n",
       "\n",
       "    .dataframe thead th {\n",
       "        text-align: right;\n",
       "    }\n",
       "</style>\n",
       "<table border=\"1\" class=\"dataframe\">\n",
       "  <thead>\n",
       "    <tr style=\"text-align: right;\">\n",
       "      <th></th>\n",
       "      <th>sample1</th>\n",
       "      <th>sample2</th>\n",
       "    </tr>\n",
       "  </thead>\n",
       "  <tbody>\n",
       "    <tr>\n",
       "      <th>geneB</th>\n",
       "      <td>10</td>\n",
       "      <td>20</td>\n",
       "    </tr>\n",
       "  </tbody>\n",
       "</table>\n",
       "</div>"
      ],
      "text/plain": [
       "       sample1  sample2\n",
       "geneB       10       20"
      ]
     },
     "execution_count": 120,
     "metadata": {},
     "output_type": "execute_result"
    }
   ],
   "source": [
    "df1.iloc[1:2, 0:2]"
   ]
  },
  {
   "cell_type": "markdown",
   "metadata": {},
   "source": [
    "リストで指定することもできます。"
   ]
  },
  {
   "cell_type": "code",
   "execution_count": 121,
   "metadata": {},
   "outputs": [
    {
     "data": {
      "text/html": [
       "<div>\n",
       "<style scoped>\n",
       "    .dataframe tbody tr th:only-of-type {\n",
       "        vertical-align: middle;\n",
       "    }\n",
       "\n",
       "    .dataframe tbody tr th {\n",
       "        vertical-align: top;\n",
       "    }\n",
       "\n",
       "    .dataframe thead th {\n",
       "        text-align: right;\n",
       "    }\n",
       "</style>\n",
       "<table border=\"1\" class=\"dataframe\">\n",
       "  <thead>\n",
       "    <tr style=\"text-align: right;\">\n",
       "      <th></th>\n",
       "      <th>sample1</th>\n",
       "      <th>sample2</th>\n",
       "      <th>sample3</th>\n",
       "    </tr>\n",
       "  </thead>\n",
       "  <tbody>\n",
       "    <tr>\n",
       "      <th>geneB</th>\n",
       "      <td>10</td>\n",
       "      <td>20</td>\n",
       "      <td>30</td>\n",
       "    </tr>\n",
       "    <tr>\n",
       "      <th>geneC</th>\n",
       "      <td>100</td>\n",
       "      <td>200</td>\n",
       "      <td>300</td>\n",
       "    </tr>\n",
       "  </tbody>\n",
       "</table>\n",
       "</div>"
      ],
      "text/plain": [
       "       sample1  sample2  sample3\n",
       "geneB       10       20       30\n",
       "geneC      100      200      300"
      ]
     },
     "execution_count": 121,
     "metadata": {},
     "output_type": "execute_result"
    }
   ],
   "source": [
    "df1.iloc[[1,2], [0,1,2]]"
   ]
  },
  {
   "cell_type": "markdown",
   "metadata": {},
   "source": [
    "すべての列（行全体）を取得します。"
   ]
  },
  {
   "cell_type": "code",
   "execution_count": 122,
   "metadata": {},
   "outputs": [
    {
     "data": {
      "text/plain": [
       "sample1    10\n",
       "sample2    20\n",
       "sample3    30\n",
       "Name: geneB, dtype: int64"
      ]
     },
     "execution_count": 122,
     "metadata": {},
     "output_type": "execute_result"
    }
   ],
   "source": [
    "df1.iloc[1,:]"
   ]
  },
  {
   "cell_type": "markdown",
   "metadata": {},
   "source": [
    "列の指定を省略しても同じ結果が得られます。"
   ]
  },
  {
   "cell_type": "code",
   "execution_count": 123,
   "metadata": {},
   "outputs": [
    {
     "data": {
      "text/plain": [
       "sample1    10\n",
       "sample2    20\n",
       "sample3    30\n",
       "Name: geneB, dtype: int64"
      ]
     },
     "execution_count": 123,
     "metadata": {},
     "output_type": "execute_result"
    }
   ],
   "source": [
    "df1.iloc[1]"
   ]
  },
  {
   "cell_type": "markdown",
   "metadata": {},
   "source": [
    "上の例と同じ行を抽出していますが, リストで指定した場合はデータフレームとして返ります。"
   ]
  },
  {
   "cell_type": "code",
   "execution_count": 124,
   "metadata": {},
   "outputs": [
    {
     "data": {
      "text/html": [
       "<div>\n",
       "<style scoped>\n",
       "    .dataframe tbody tr th:only-of-type {\n",
       "        vertical-align: middle;\n",
       "    }\n",
       "\n",
       "    .dataframe tbody tr th {\n",
       "        vertical-align: top;\n",
       "    }\n",
       "\n",
       "    .dataframe thead th {\n",
       "        text-align: right;\n",
       "    }\n",
       "</style>\n",
       "<table border=\"1\" class=\"dataframe\">\n",
       "  <thead>\n",
       "    <tr style=\"text-align: right;\">\n",
       "      <th></th>\n",
       "      <th>sample1</th>\n",
       "      <th>sample2</th>\n",
       "      <th>sample3</th>\n",
       "    </tr>\n",
       "  </thead>\n",
       "  <tbody>\n",
       "    <tr>\n",
       "      <th>geneB</th>\n",
       "      <td>10</td>\n",
       "      <td>20</td>\n",
       "      <td>30</td>\n",
       "    </tr>\n",
       "  </tbody>\n",
       "</table>\n",
       "</div>"
      ],
      "text/plain": [
       "       sample1  sample2  sample3\n",
       "geneB       10       20       30"
      ]
     },
     "execution_count": 124,
     "metadata": {},
     "output_type": "execute_result"
    }
   ],
   "source": [
    "df1.iloc[[1]]"
   ]
  },
  {
   "cell_type": "markdown",
   "metadata": {},
   "source": [
    "すべての行（列全体）を取得します。"
   ]
  },
  {
   "cell_type": "code",
   "execution_count": 125,
   "metadata": {},
   "outputs": [
    {
     "data": {
      "text/plain": [
       "geneA       3\n",
       "geneB      20\n",
       "geneC     200\n",
       "geneD    2000\n",
       "Name: sample2, dtype: int64"
      ]
     },
     "execution_count": 125,
     "metadata": {},
     "output_type": "execute_result"
    }
   ],
   "source": [
    "df1.iloc[:,1]"
   ]
  },
  {
   "cell_type": "markdown",
   "metadata": {},
   "source": [
    "#### 2-4-4. まとめ\n",
    "* __列の抽出__  \n",
    "`df['A']` または `df.A`  \n",
    "複数列の場合にはリストで指定する（`[ ]` が二重 `[[ ]]` になることに注意）  \n",
    "`df[['A', 'B']]`\n",
    "\n",
    "\n",
    "* __行の抽出 ( loc or ilocを使う )__  \n",
    "`df.loc[row_index]` または `df.iloc[row_position]`  \n",
    "複数行の場合には、  \n",
    "`df.loc[[row_index1, row_index2]]`  または  \n",
    "`df.iloc[[row_position1, row_position2]]`  または  \n",
    "`df.iloc[row_position1:row_position2]`\n",
    "\n",
    "\n",
    "* __範囲の抽出 ( loc or ilocを使う )__  \n",
    "`df.loc[[row_index1, row_index2], [col_index1, col_index2]]`  または  \n",
    "`df.iloc[[row_position1, row_position2], [col_position1, col_position2]]`  または  \n",
    "`df.iloc[row_position1:row_position2, col_position1:col_position2]`\n",
    "\n",
    "\n",
    "* __値の抽出 ( at or iatを使う )__   \n",
    "`df.at[row_index, col_index]`  または  `df.iat[row_position, col_position]`  \n",
    "( loc or ilocよりも速い )\n"
   ]
  },
  {
   "cell_type": "markdown",
   "metadata": {},
   "source": [
    "#### 2-4-4. 条件を指定して抽出 ( boolean indexing )\n",
    "\n",
    "抽出対象をbool値（TrueまたはFalse）のリストで指定します。"
   ]
  },
  {
   "cell_type": "code",
   "execution_count": 126,
   "metadata": {},
   "outputs": [
    {
     "data": {
      "text/html": [
       "<div>\n",
       "<style scoped>\n",
       "    .dataframe tbody tr th:only-of-type {\n",
       "        vertical-align: middle;\n",
       "    }\n",
       "\n",
       "    .dataframe tbody tr th {\n",
       "        vertical-align: top;\n",
       "    }\n",
       "\n",
       "    .dataframe thead th {\n",
       "        text-align: right;\n",
       "    }\n",
       "</style>\n",
       "<table border=\"1\" class=\"dataframe\">\n",
       "  <thead>\n",
       "    <tr style=\"text-align: right;\">\n",
       "      <th></th>\n",
       "      <th>generic_name</th>\n",
       "      <th>specific_name</th>\n",
       "      <th>assemble_version</th>\n",
       "      <th>genome_size</th>\n",
       "      <th>common_name</th>\n",
       "      <th>unicellular</th>\n",
       "    </tr>\n",
       "  </thead>\n",
       "  <tbody>\n",
       "    <tr>\n",
       "      <th>0</th>\n",
       "      <td>Chlamydomonas</td>\n",
       "      <td>reinhardtii</td>\n",
       "      <td>v5.5</td>\n",
       "      <td>111.1</td>\n",
       "      <td>green algae</td>\n",
       "      <td>True</td>\n",
       "    </tr>\n",
       "    <tr>\n",
       "      <th>1</th>\n",
       "      <td>Volvox</td>\n",
       "      <td>carteri</td>\n",
       "      <td>v2.1</td>\n",
       "      <td>131.2</td>\n",
       "      <td>green algae</td>\n",
       "      <td>False</td>\n",
       "    </tr>\n",
       "    <tr>\n",
       "      <th>2</th>\n",
       "      <td>Ostreococcus</td>\n",
       "      <td>lucimarinus</td>\n",
       "      <td>v2.0</td>\n",
       "      <td>13.2</td>\n",
       "      <td>green algae</td>\n",
       "      <td>True</td>\n",
       "    </tr>\n",
       "    <tr>\n",
       "      <th>3</th>\n",
       "      <td>Coccomyxa</td>\n",
       "      <td>subellipsoidea C-169</td>\n",
       "      <td>v2.0</td>\n",
       "      <td>49.0</td>\n",
       "      <td>green algae</td>\n",
       "      <td>True</td>\n",
       "    </tr>\n",
       "    <tr>\n",
       "      <th>4</th>\n",
       "      <td>Marchantia</td>\n",
       "      <td>polymorpha</td>\n",
       "      <td>v3.1</td>\n",
       "      <td>225.8</td>\n",
       "      <td>liverwort</td>\n",
       "      <td>False</td>\n",
       "    </tr>\n",
       "    <tr>\n",
       "      <th>5</th>\n",
       "      <td>Thalassiosira</td>\n",
       "      <td>pseudonana</td>\n",
       "      <td>V3.0</td>\n",
       "      <td>34.0</td>\n",
       "      <td>diatom</td>\n",
       "      <td>True</td>\n",
       "    </tr>\n",
       "  </tbody>\n",
       "</table>\n",
       "</div>"
      ],
      "text/plain": [
       "    generic_name         specific_name assemble_version  genome_size  \\\n",
       "0  Chlamydomonas           reinhardtii             v5.5        111.1   \n",
       "1         Volvox               carteri             v2.1        131.2   \n",
       "2   Ostreococcus           lucimarinus             v2.0         13.2   \n",
       "3      Coccomyxa  subellipsoidea C-169             v2.0         49.0   \n",
       "4     Marchantia            polymorpha             v3.1        225.8   \n",
       "5  Thalassiosira            pseudonana             V3.0         34.0   \n",
       "\n",
       "   common_name  unicellular  \n",
       "0  green algae         True  \n",
       "1  green algae        False  \n",
       "2  green algae         True  \n",
       "3  green algae         True  \n",
       "4    liverwort        False  \n",
       "5       diatom         True  "
      ]
     },
     "execution_count": 126,
     "metadata": {},
     "output_type": "execute_result"
    }
   ],
   "source": [
    "df2"
   ]
  },
  {
   "cell_type": "code",
   "execution_count": 127,
   "metadata": {},
   "outputs": [
    {
     "data": {
      "text/html": [
       "<div>\n",
       "<style scoped>\n",
       "    .dataframe tbody tr th:only-of-type {\n",
       "        vertical-align: middle;\n",
       "    }\n",
       "\n",
       "    .dataframe tbody tr th {\n",
       "        vertical-align: top;\n",
       "    }\n",
       "\n",
       "    .dataframe thead th {\n",
       "        text-align: right;\n",
       "    }\n",
       "</style>\n",
       "<table border=\"1\" class=\"dataframe\">\n",
       "  <thead>\n",
       "    <tr style=\"text-align: right;\">\n",
       "      <th></th>\n",
       "      <th>generic_name</th>\n",
       "      <th>specific_name</th>\n",
       "      <th>assemble_version</th>\n",
       "      <th>genome_size</th>\n",
       "      <th>common_name</th>\n",
       "      <th>unicellular</th>\n",
       "    </tr>\n",
       "  </thead>\n",
       "  <tbody>\n",
       "    <tr>\n",
       "      <th>0</th>\n",
       "      <td>Chlamydomonas</td>\n",
       "      <td>reinhardtii</td>\n",
       "      <td>v5.5</td>\n",
       "      <td>111.1</td>\n",
       "      <td>green algae</td>\n",
       "      <td>True</td>\n",
       "    </tr>\n",
       "    <tr>\n",
       "      <th>1</th>\n",
       "      <td>Volvox</td>\n",
       "      <td>carteri</td>\n",
       "      <td>v2.1</td>\n",
       "      <td>131.2</td>\n",
       "      <td>green algae</td>\n",
       "      <td>False</td>\n",
       "    </tr>\n",
       "    <tr>\n",
       "      <th>4</th>\n",
       "      <td>Marchantia</td>\n",
       "      <td>polymorpha</td>\n",
       "      <td>v3.1</td>\n",
       "      <td>225.8</td>\n",
       "      <td>liverwort</td>\n",
       "      <td>False</td>\n",
       "    </tr>\n",
       "  </tbody>\n",
       "</table>\n",
       "</div>"
      ],
      "text/plain": [
       "    generic_name specific_name assemble_version  genome_size  common_name  \\\n",
       "0  Chlamydomonas   reinhardtii             v5.5        111.1  green algae   \n",
       "1         Volvox       carteri             v2.1        131.2  green algae   \n",
       "4     Marchantia    polymorpha             v3.1        225.8    liverwort   \n",
       "\n",
       "   unicellular  \n",
       "0         True  \n",
       "1        False  \n",
       "4        False  "
      ]
     },
     "execution_count": 127,
     "metadata": {},
     "output_type": "execute_result"
    }
   ],
   "source": [
    "targets = [True, True, False, False, True, False]\n",
    "df2[targets]"
   ]
  },
  {
   "cell_type": "markdown",
   "metadata": {},
   "source": [
    "df2から `unicellular=True` のデータのみを抽出します。"
   ]
  },
  {
   "cell_type": "code",
   "execution_count": 128,
   "metadata": {},
   "outputs": [
    {
     "data": {
      "text/html": [
       "<div>\n",
       "<style scoped>\n",
       "    .dataframe tbody tr th:only-of-type {\n",
       "        vertical-align: middle;\n",
       "    }\n",
       "\n",
       "    .dataframe tbody tr th {\n",
       "        vertical-align: top;\n",
       "    }\n",
       "\n",
       "    .dataframe thead th {\n",
       "        text-align: right;\n",
       "    }\n",
       "</style>\n",
       "<table border=\"1\" class=\"dataframe\">\n",
       "  <thead>\n",
       "    <tr style=\"text-align: right;\">\n",
       "      <th></th>\n",
       "      <th>generic_name</th>\n",
       "      <th>specific_name</th>\n",
       "      <th>assemble_version</th>\n",
       "      <th>genome_size</th>\n",
       "      <th>common_name</th>\n",
       "      <th>unicellular</th>\n",
       "    </tr>\n",
       "  </thead>\n",
       "  <tbody>\n",
       "    <tr>\n",
       "      <th>0</th>\n",
       "      <td>Chlamydomonas</td>\n",
       "      <td>reinhardtii</td>\n",
       "      <td>v5.5</td>\n",
       "      <td>111.1</td>\n",
       "      <td>green algae</td>\n",
       "      <td>True</td>\n",
       "    </tr>\n",
       "    <tr>\n",
       "      <th>2</th>\n",
       "      <td>Ostreococcus</td>\n",
       "      <td>lucimarinus</td>\n",
       "      <td>v2.0</td>\n",
       "      <td>13.2</td>\n",
       "      <td>green algae</td>\n",
       "      <td>True</td>\n",
       "    </tr>\n",
       "    <tr>\n",
       "      <th>3</th>\n",
       "      <td>Coccomyxa</td>\n",
       "      <td>subellipsoidea C-169</td>\n",
       "      <td>v2.0</td>\n",
       "      <td>49.0</td>\n",
       "      <td>green algae</td>\n",
       "      <td>True</td>\n",
       "    </tr>\n",
       "    <tr>\n",
       "      <th>5</th>\n",
       "      <td>Thalassiosira</td>\n",
       "      <td>pseudonana</td>\n",
       "      <td>V3.0</td>\n",
       "      <td>34.0</td>\n",
       "      <td>diatom</td>\n",
       "      <td>True</td>\n",
       "    </tr>\n",
       "  </tbody>\n",
       "</table>\n",
       "</div>"
      ],
      "text/plain": [
       "    generic_name         specific_name assemble_version  genome_size  \\\n",
       "0  Chlamydomonas           reinhardtii             v5.5        111.1   \n",
       "2   Ostreococcus           lucimarinus             v2.0         13.2   \n",
       "3      Coccomyxa  subellipsoidea C-169             v2.0         49.0   \n",
       "5  Thalassiosira            pseudonana             V3.0         34.0   \n",
       "\n",
       "   common_name  unicellular  \n",
       "0  green algae         True  \n",
       "2  green algae         True  \n",
       "3  green algae         True  \n",
       "5       diatom         True  "
      ]
     },
     "execution_count": 128,
     "metadata": {},
     "output_type": "execute_result"
    }
   ],
   "source": [
    "df2[df2.unicellular]"
   ]
  },
  {
   "cell_type": "markdown",
   "metadata": {},
   "source": [
    "~ をつけると not の意味になります。"
   ]
  },
  {
   "cell_type": "code",
   "execution_count": 129,
   "metadata": {},
   "outputs": [
    {
     "data": {
      "text/html": [
       "<div>\n",
       "<style scoped>\n",
       "    .dataframe tbody tr th:only-of-type {\n",
       "        vertical-align: middle;\n",
       "    }\n",
       "\n",
       "    .dataframe tbody tr th {\n",
       "        vertical-align: top;\n",
       "    }\n",
       "\n",
       "    .dataframe thead th {\n",
       "        text-align: right;\n",
       "    }\n",
       "</style>\n",
       "<table border=\"1\" class=\"dataframe\">\n",
       "  <thead>\n",
       "    <tr style=\"text-align: right;\">\n",
       "      <th></th>\n",
       "      <th>generic_name</th>\n",
       "      <th>specific_name</th>\n",
       "      <th>assemble_version</th>\n",
       "      <th>genome_size</th>\n",
       "      <th>common_name</th>\n",
       "      <th>unicellular</th>\n",
       "    </tr>\n",
       "  </thead>\n",
       "  <tbody>\n",
       "    <tr>\n",
       "      <th>1</th>\n",
       "      <td>Volvox</td>\n",
       "      <td>carteri</td>\n",
       "      <td>v2.1</td>\n",
       "      <td>131.2</td>\n",
       "      <td>green algae</td>\n",
       "      <td>False</td>\n",
       "    </tr>\n",
       "    <tr>\n",
       "      <th>4</th>\n",
       "      <td>Marchantia</td>\n",
       "      <td>polymorpha</td>\n",
       "      <td>v3.1</td>\n",
       "      <td>225.8</td>\n",
       "      <td>liverwort</td>\n",
       "      <td>False</td>\n",
       "    </tr>\n",
       "  </tbody>\n",
       "</table>\n",
       "</div>"
      ],
      "text/plain": [
       "  generic_name specific_name assemble_version  genome_size  common_name  \\\n",
       "1       Volvox       carteri             v2.1        131.2  green algae   \n",
       "4   Marchantia    polymorpha             v3.1        225.8    liverwort   \n",
       "\n",
       "   unicellular  \n",
       "1        False  \n",
       "4        False  "
      ]
     },
     "execution_count": 129,
     "metadata": {},
     "output_type": "execute_result"
    }
   ],
   "source": [
    "df2[~df2.unicellular]"
   ]
  },
  {
   "cell_type": "markdown",
   "metadata": {},
   "source": [
    "genome_size 列の値が100以上のものを抽出します。"
   ]
  },
  {
   "cell_type": "code",
   "execution_count": 130,
   "metadata": {},
   "outputs": [
    {
     "data": {
      "text/html": [
       "<div>\n",
       "<style scoped>\n",
       "    .dataframe tbody tr th:only-of-type {\n",
       "        vertical-align: middle;\n",
       "    }\n",
       "\n",
       "    .dataframe tbody tr th {\n",
       "        vertical-align: top;\n",
       "    }\n",
       "\n",
       "    .dataframe thead th {\n",
       "        text-align: right;\n",
       "    }\n",
       "</style>\n",
       "<table border=\"1\" class=\"dataframe\">\n",
       "  <thead>\n",
       "    <tr style=\"text-align: right;\">\n",
       "      <th></th>\n",
       "      <th>generic_name</th>\n",
       "      <th>specific_name</th>\n",
       "      <th>assemble_version</th>\n",
       "      <th>genome_size</th>\n",
       "      <th>common_name</th>\n",
       "      <th>unicellular</th>\n",
       "    </tr>\n",
       "  </thead>\n",
       "  <tbody>\n",
       "    <tr>\n",
       "      <th>0</th>\n",
       "      <td>Chlamydomonas</td>\n",
       "      <td>reinhardtii</td>\n",
       "      <td>v5.5</td>\n",
       "      <td>111.1</td>\n",
       "      <td>green algae</td>\n",
       "      <td>True</td>\n",
       "    </tr>\n",
       "    <tr>\n",
       "      <th>1</th>\n",
       "      <td>Volvox</td>\n",
       "      <td>carteri</td>\n",
       "      <td>v2.1</td>\n",
       "      <td>131.2</td>\n",
       "      <td>green algae</td>\n",
       "      <td>False</td>\n",
       "    </tr>\n",
       "    <tr>\n",
       "      <th>4</th>\n",
       "      <td>Marchantia</td>\n",
       "      <td>polymorpha</td>\n",
       "      <td>v3.1</td>\n",
       "      <td>225.8</td>\n",
       "      <td>liverwort</td>\n",
       "      <td>False</td>\n",
       "    </tr>\n",
       "  </tbody>\n",
       "</table>\n",
       "</div>"
      ],
      "text/plain": [
       "    generic_name specific_name assemble_version  genome_size  common_name  \\\n",
       "0  Chlamydomonas   reinhardtii             v5.5        111.1  green algae   \n",
       "1         Volvox       carteri             v2.1        131.2  green algae   \n",
       "4     Marchantia    polymorpha             v3.1        225.8    liverwort   \n",
       "\n",
       "   unicellular  \n",
       "0         True  \n",
       "1        False  \n",
       "4        False  "
      ]
     },
     "execution_count": 130,
     "metadata": {},
     "output_type": "execute_result"
    }
   ],
   "source": [
    "df2[df2.genome_size >= 100]"
   ]
  },
  {
   "cell_type": "markdown",
   "metadata": {},
   "source": [
    "common_name 列の値が green algae であるものを抽出します。"
   ]
  },
  {
   "cell_type": "code",
   "execution_count": 131,
   "metadata": {},
   "outputs": [
    {
     "data": {
      "text/html": [
       "<div>\n",
       "<style scoped>\n",
       "    .dataframe tbody tr th:only-of-type {\n",
       "        vertical-align: middle;\n",
       "    }\n",
       "\n",
       "    .dataframe tbody tr th {\n",
       "        vertical-align: top;\n",
       "    }\n",
       "\n",
       "    .dataframe thead th {\n",
       "        text-align: right;\n",
       "    }\n",
       "</style>\n",
       "<table border=\"1\" class=\"dataframe\">\n",
       "  <thead>\n",
       "    <tr style=\"text-align: right;\">\n",
       "      <th></th>\n",
       "      <th>generic_name</th>\n",
       "      <th>specific_name</th>\n",
       "      <th>assemble_version</th>\n",
       "      <th>genome_size</th>\n",
       "      <th>common_name</th>\n",
       "      <th>unicellular</th>\n",
       "    </tr>\n",
       "  </thead>\n",
       "  <tbody>\n",
       "    <tr>\n",
       "      <th>0</th>\n",
       "      <td>Chlamydomonas</td>\n",
       "      <td>reinhardtii</td>\n",
       "      <td>v5.5</td>\n",
       "      <td>111.1</td>\n",
       "      <td>green algae</td>\n",
       "      <td>True</td>\n",
       "    </tr>\n",
       "    <tr>\n",
       "      <th>1</th>\n",
       "      <td>Volvox</td>\n",
       "      <td>carteri</td>\n",
       "      <td>v2.1</td>\n",
       "      <td>131.2</td>\n",
       "      <td>green algae</td>\n",
       "      <td>False</td>\n",
       "    </tr>\n",
       "    <tr>\n",
       "      <th>2</th>\n",
       "      <td>Ostreococcus</td>\n",
       "      <td>lucimarinus</td>\n",
       "      <td>v2.0</td>\n",
       "      <td>13.2</td>\n",
       "      <td>green algae</td>\n",
       "      <td>True</td>\n",
       "    </tr>\n",
       "    <tr>\n",
       "      <th>3</th>\n",
       "      <td>Coccomyxa</td>\n",
       "      <td>subellipsoidea C-169</td>\n",
       "      <td>v2.0</td>\n",
       "      <td>49.0</td>\n",
       "      <td>green algae</td>\n",
       "      <td>True</td>\n",
       "    </tr>\n",
       "  </tbody>\n",
       "</table>\n",
       "</div>"
      ],
      "text/plain": [
       "    generic_name         specific_name assemble_version  genome_size  \\\n",
       "0  Chlamydomonas           reinhardtii             v5.5        111.1   \n",
       "1         Volvox               carteri             v2.1        131.2   \n",
       "2   Ostreococcus           lucimarinus             v2.0         13.2   \n",
       "3      Coccomyxa  subellipsoidea C-169             v2.0         49.0   \n",
       "\n",
       "   common_name  unicellular  \n",
       "0  green algae         True  \n",
       "1  green algae        False  \n",
       "2  green algae         True  \n",
       "3  green algae         True  "
      ]
     },
     "execution_count": 131,
     "metadata": {},
     "output_type": "execute_result"
    }
   ],
   "source": [
    "df2[df2['common_name'] == 'green algae']"
   ]
  },
  {
   "cell_type": "markdown",
   "metadata": {},
   "source": [
    "### 2-5. データフレームへ新規の行・列の追加, 行・列の編集\n",
    "#### 2-5-1. 列の操作\n",
    "__列の追加__<br>\n",
    "\n",
    "データフレーム名[ '列ラベル' ] = [ データのリスト ] で新しい列が追加できます。"
   ]
  },
  {
   "cell_type": "code",
   "execution_count": 132,
   "metadata": {},
   "outputs": [
    {
     "data": {
      "text/html": [
       "<div>\n",
       "<style scoped>\n",
       "    .dataframe tbody tr th:only-of-type {\n",
       "        vertical-align: middle;\n",
       "    }\n",
       "\n",
       "    .dataframe tbody tr th {\n",
       "        vertical-align: top;\n",
       "    }\n",
       "\n",
       "    .dataframe thead th {\n",
       "        text-align: right;\n",
       "    }\n",
       "</style>\n",
       "<table border=\"1\" class=\"dataframe\">\n",
       "  <thead>\n",
       "    <tr style=\"text-align: right;\">\n",
       "      <th></th>\n",
       "      <th>sample1</th>\n",
       "      <th>sample2</th>\n",
       "      <th>sample3</th>\n",
       "    </tr>\n",
       "  </thead>\n",
       "  <tbody>\n",
       "    <tr>\n",
       "      <th>geneA</th>\n",
       "      <td>1</td>\n",
       "      <td>3</td>\n",
       "      <td>2</td>\n",
       "    </tr>\n",
       "    <tr>\n",
       "      <th>geneB</th>\n",
       "      <td>10</td>\n",
       "      <td>20</td>\n",
       "      <td>30</td>\n",
       "    </tr>\n",
       "    <tr>\n",
       "      <th>geneC</th>\n",
       "      <td>100</td>\n",
       "      <td>200</td>\n",
       "      <td>300</td>\n",
       "    </tr>\n",
       "    <tr>\n",
       "      <th>geneD</th>\n",
       "      <td>1000</td>\n",
       "      <td>2000</td>\n",
       "      <td>3000</td>\n",
       "    </tr>\n",
       "  </tbody>\n",
       "</table>\n",
       "</div>"
      ],
      "text/plain": [
       "       sample1  sample2  sample3\n",
       "geneA        1        3        2\n",
       "geneB       10       20       30\n",
       "geneC      100      200      300\n",
       "geneD     1000     2000     3000"
      ]
     },
     "execution_count": 132,
     "metadata": {},
     "output_type": "execute_result"
    }
   ],
   "source": [
    "df1"
   ]
  },
  {
   "cell_type": "code",
   "execution_count": 133,
   "metadata": {},
   "outputs": [
    {
     "data": {
      "text/html": [
       "<div>\n",
       "<style scoped>\n",
       "    .dataframe tbody tr th:only-of-type {\n",
       "        vertical-align: middle;\n",
       "    }\n",
       "\n",
       "    .dataframe tbody tr th {\n",
       "        vertical-align: top;\n",
       "    }\n",
       "\n",
       "    .dataframe thead th {\n",
       "        text-align: right;\n",
       "    }\n",
       "</style>\n",
       "<table border=\"1\" class=\"dataframe\">\n",
       "  <thead>\n",
       "    <tr style=\"text-align: right;\">\n",
       "      <th></th>\n",
       "      <th>sample1</th>\n",
       "      <th>sample2</th>\n",
       "      <th>sample3</th>\n",
       "      <th>sample4</th>\n",
       "    </tr>\n",
       "  </thead>\n",
       "  <tbody>\n",
       "    <tr>\n",
       "      <th>geneA</th>\n",
       "      <td>1</td>\n",
       "      <td>3</td>\n",
       "      <td>2</td>\n",
       "      <td>4</td>\n",
       "    </tr>\n",
       "    <tr>\n",
       "      <th>geneB</th>\n",
       "      <td>10</td>\n",
       "      <td>20</td>\n",
       "      <td>30</td>\n",
       "      <td>40</td>\n",
       "    </tr>\n",
       "    <tr>\n",
       "      <th>geneC</th>\n",
       "      <td>100</td>\n",
       "      <td>200</td>\n",
       "      <td>300</td>\n",
       "      <td>400</td>\n",
       "    </tr>\n",
       "    <tr>\n",
       "      <th>geneD</th>\n",
       "      <td>1000</td>\n",
       "      <td>2000</td>\n",
       "      <td>3000</td>\n",
       "      <td>4000</td>\n",
       "    </tr>\n",
       "  </tbody>\n",
       "</table>\n",
       "</div>"
      ],
      "text/plain": [
       "       sample1  sample2  sample3  sample4\n",
       "geneA        1        3        2        4\n",
       "geneB       10       20       30       40\n",
       "geneC      100      200      300      400\n",
       "geneD     1000     2000     3000     4000"
      ]
     },
     "execution_count": 133,
     "metadata": {},
     "output_type": "execute_result"
    }
   ],
   "source": [
    "df1['sample4'] = [4, 40, 400, 4000]  # すでにsample4列が存在している場合には上書きされる\n",
    "# 確認\n",
    "df1"
   ]
  },
  {
   "cell_type": "markdown",
   "metadata": {},
   "source": [
    "__列の編集__<br>\n",
    "\n",
    "sample3列を10倍し, sample4列のデータをすべて入れ替えます。"
   ]
  },
  {
   "cell_type": "code",
   "execution_count": 134,
   "metadata": {},
   "outputs": [
    {
     "data": {
      "text/html": [
       "<div>\n",
       "<style scoped>\n",
       "    .dataframe tbody tr th:only-of-type {\n",
       "        vertical-align: middle;\n",
       "    }\n",
       "\n",
       "    .dataframe tbody tr th {\n",
       "        vertical-align: top;\n",
       "    }\n",
       "\n",
       "    .dataframe thead th {\n",
       "        text-align: right;\n",
       "    }\n",
       "</style>\n",
       "<table border=\"1\" class=\"dataframe\">\n",
       "  <thead>\n",
       "    <tr style=\"text-align: right;\">\n",
       "      <th></th>\n",
       "      <th>sample1</th>\n",
       "      <th>sample2</th>\n",
       "      <th>sample3</th>\n",
       "      <th>sample4</th>\n",
       "    </tr>\n",
       "  </thead>\n",
       "  <tbody>\n",
       "    <tr>\n",
       "      <th>geneA</th>\n",
       "      <td>1</td>\n",
       "      <td>3</td>\n",
       "      <td>20</td>\n",
       "      <td>4</td>\n",
       "    </tr>\n",
       "    <tr>\n",
       "      <th>geneB</th>\n",
       "      <td>10</td>\n",
       "      <td>20</td>\n",
       "      <td>300</td>\n",
       "      <td>44</td>\n",
       "    </tr>\n",
       "    <tr>\n",
       "      <th>geneC</th>\n",
       "      <td>100</td>\n",
       "      <td>200</td>\n",
       "      <td>3000</td>\n",
       "      <td>444</td>\n",
       "    </tr>\n",
       "    <tr>\n",
       "      <th>geneD</th>\n",
       "      <td>1000</td>\n",
       "      <td>2000</td>\n",
       "      <td>30000</td>\n",
       "      <td>4444</td>\n",
       "    </tr>\n",
       "  </tbody>\n",
       "</table>\n",
       "</div>"
      ],
      "text/plain": [
       "       sample1  sample2  sample3  sample4\n",
       "geneA        1        3       20        4\n",
       "geneB       10       20      300       44\n",
       "geneC      100      200     3000      444\n",
       "geneD     1000     2000    30000     4444"
      ]
     },
     "execution_count": 134,
     "metadata": {},
     "output_type": "execute_result"
    }
   ],
   "source": [
    "df1['sample3'] = df1['sample3'] * 10\n",
    "df1['sample4'] = [4, 44, 444, 4444]\n",
    "df1"
   ]
  },
  {
   "cell_type": "markdown",
   "metadata": {},
   "source": [
    "sample1 ~ sample4 の平均を計算し, AVERAGE 列を追加します。"
   ]
  },
  {
   "cell_type": "code",
   "execution_count": 135,
   "metadata": {},
   "outputs": [],
   "source": [
    "df1['AVERAGE'] = (df1['sample1'] + df1['sample2'] + df1['sample3'] + df1['sample4']) / 4"
   ]
  },
  {
   "cell_type": "markdown",
   "metadata": {},
   "source": [
    "上の例は `mean()` 関数を使っても同じ結果が得られます。"
   ]
  },
  {
   "cell_type": "code",
   "execution_count": 136,
   "metadata": {},
   "outputs": [
    {
     "data": {
      "text/html": [
       "<div>\n",
       "<style scoped>\n",
       "    .dataframe tbody tr th:only-of-type {\n",
       "        vertical-align: middle;\n",
       "    }\n",
       "\n",
       "    .dataframe tbody tr th {\n",
       "        vertical-align: top;\n",
       "    }\n",
       "\n",
       "    .dataframe thead th {\n",
       "        text-align: right;\n",
       "    }\n",
       "</style>\n",
       "<table border=\"1\" class=\"dataframe\">\n",
       "  <thead>\n",
       "    <tr style=\"text-align: right;\">\n",
       "      <th></th>\n",
       "      <th>sample1</th>\n",
       "      <th>sample2</th>\n",
       "      <th>sample3</th>\n",
       "      <th>sample4</th>\n",
       "      <th>AVERAGE</th>\n",
       "      <th>AVERAGE2</th>\n",
       "    </tr>\n",
       "  </thead>\n",
       "  <tbody>\n",
       "    <tr>\n",
       "      <th>geneA</th>\n",
       "      <td>1</td>\n",
       "      <td>3</td>\n",
       "      <td>20</td>\n",
       "      <td>4</td>\n",
       "      <td>7.0</td>\n",
       "      <td>7.0</td>\n",
       "    </tr>\n",
       "    <tr>\n",
       "      <th>geneB</th>\n",
       "      <td>10</td>\n",
       "      <td>20</td>\n",
       "      <td>300</td>\n",
       "      <td>44</td>\n",
       "      <td>93.5</td>\n",
       "      <td>93.5</td>\n",
       "    </tr>\n",
       "    <tr>\n",
       "      <th>geneC</th>\n",
       "      <td>100</td>\n",
       "      <td>200</td>\n",
       "      <td>3000</td>\n",
       "      <td>444</td>\n",
       "      <td>936.0</td>\n",
       "      <td>936.0</td>\n",
       "    </tr>\n",
       "    <tr>\n",
       "      <th>geneD</th>\n",
       "      <td>1000</td>\n",
       "      <td>2000</td>\n",
       "      <td>30000</td>\n",
       "      <td>4444</td>\n",
       "      <td>9361.0</td>\n",
       "      <td>9361.0</td>\n",
       "    </tr>\n",
       "  </tbody>\n",
       "</table>\n",
       "</div>"
      ],
      "text/plain": [
       "       sample1  sample2  sample3  sample4  AVERAGE  AVERAGE2\n",
       "geneA        1        3       20        4      7.0       7.0\n",
       "geneB       10       20      300       44     93.5      93.5\n",
       "geneC      100      200     3000      444    936.0     936.0\n",
       "geneD     1000     2000    30000     4444   9361.0    9361.0"
      ]
     },
     "execution_count": 136,
     "metadata": {},
     "output_type": "execute_result"
    }
   ],
   "source": [
    "df1['AVERAGE2'] = df1[['sample1', 'sample2', 'sample3', 'sample4']].mean(axis=1)\n",
    "df1"
   ]
  },
  {
   "cell_type": "markdown",
   "metadata": {},
   "source": [
    "__列の削除__<br>\n",
    "\n",
    "列の削除には `drop()` を使います。デフォルトでは` axis=0` (行)の削除なので, 列の削除では `axis=1`を指定します。"
   ]
  },
  {
   "cell_type": "code",
   "execution_count": 137,
   "metadata": {},
   "outputs": [
    {
     "data": {
      "text/html": [
       "<div>\n",
       "<style scoped>\n",
       "    .dataframe tbody tr th:only-of-type {\n",
       "        vertical-align: middle;\n",
       "    }\n",
       "\n",
       "    .dataframe tbody tr th {\n",
       "        vertical-align: top;\n",
       "    }\n",
       "\n",
       "    .dataframe thead th {\n",
       "        text-align: right;\n",
       "    }\n",
       "</style>\n",
       "<table border=\"1\" class=\"dataframe\">\n",
       "  <thead>\n",
       "    <tr style=\"text-align: right;\">\n",
       "      <th></th>\n",
       "      <th>sample1</th>\n",
       "      <th>sample2</th>\n",
       "      <th>sample3</th>\n",
       "      <th>sample4</th>\n",
       "      <th>AVERAGE2</th>\n",
       "    </tr>\n",
       "  </thead>\n",
       "  <tbody>\n",
       "    <tr>\n",
       "      <th>geneA</th>\n",
       "      <td>1</td>\n",
       "      <td>3</td>\n",
       "      <td>20</td>\n",
       "      <td>4</td>\n",
       "      <td>7.0</td>\n",
       "    </tr>\n",
       "    <tr>\n",
       "      <th>geneB</th>\n",
       "      <td>10</td>\n",
       "      <td>20</td>\n",
       "      <td>300</td>\n",
       "      <td>44</td>\n",
       "      <td>93.5</td>\n",
       "    </tr>\n",
       "    <tr>\n",
       "      <th>geneC</th>\n",
       "      <td>100</td>\n",
       "      <td>200</td>\n",
       "      <td>3000</td>\n",
       "      <td>444</td>\n",
       "      <td>936.0</td>\n",
       "    </tr>\n",
       "    <tr>\n",
       "      <th>geneD</th>\n",
       "      <td>1000</td>\n",
       "      <td>2000</td>\n",
       "      <td>30000</td>\n",
       "      <td>4444</td>\n",
       "      <td>9361.0</td>\n",
       "    </tr>\n",
       "  </tbody>\n",
       "</table>\n",
       "</div>"
      ],
      "text/plain": [
       "       sample1  sample2  sample3  sample4  AVERAGE2\n",
       "geneA        1        3       20        4       7.0\n",
       "geneB       10       20      300       44      93.5\n",
       "geneC      100      200     3000      444     936.0\n",
       "geneD     1000     2000    30000     4444    9361.0"
      ]
     },
     "execution_count": 137,
     "metadata": {},
     "output_type": "execute_result"
    }
   ],
   "source": [
    "df1.drop('AVERAGE', axis=1) "
   ]
  },
  {
   "cell_type": "markdown",
   "metadata": {},
   "source": [
    "リストを使って複数列も同時に指定可能です。"
   ]
  },
  {
   "cell_type": "code",
   "execution_count": 138,
   "metadata": {},
   "outputs": [
    {
     "data": {
      "text/html": [
       "<div>\n",
       "<style scoped>\n",
       "    .dataframe tbody tr th:only-of-type {\n",
       "        vertical-align: middle;\n",
       "    }\n",
       "\n",
       "    .dataframe tbody tr th {\n",
       "        vertical-align: top;\n",
       "    }\n",
       "\n",
       "    .dataframe thead th {\n",
       "        text-align: right;\n",
       "    }\n",
       "</style>\n",
       "<table border=\"1\" class=\"dataframe\">\n",
       "  <thead>\n",
       "    <tr style=\"text-align: right;\">\n",
       "      <th></th>\n",
       "      <th>sample1</th>\n",
       "      <th>sample2</th>\n",
       "      <th>sample3</th>\n",
       "      <th>sample4</th>\n",
       "    </tr>\n",
       "  </thead>\n",
       "  <tbody>\n",
       "    <tr>\n",
       "      <th>geneA</th>\n",
       "      <td>1</td>\n",
       "      <td>3</td>\n",
       "      <td>20</td>\n",
       "      <td>4</td>\n",
       "    </tr>\n",
       "    <tr>\n",
       "      <th>geneB</th>\n",
       "      <td>10</td>\n",
       "      <td>20</td>\n",
       "      <td>300</td>\n",
       "      <td>44</td>\n",
       "    </tr>\n",
       "    <tr>\n",
       "      <th>geneC</th>\n",
       "      <td>100</td>\n",
       "      <td>200</td>\n",
       "      <td>3000</td>\n",
       "      <td>444</td>\n",
       "    </tr>\n",
       "    <tr>\n",
       "      <th>geneD</th>\n",
       "      <td>1000</td>\n",
       "      <td>2000</td>\n",
       "      <td>30000</td>\n",
       "      <td>4444</td>\n",
       "    </tr>\n",
       "  </tbody>\n",
       "</table>\n",
       "</div>"
      ],
      "text/plain": [
       "       sample1  sample2  sample3  sample4\n",
       "geneA        1        3       20        4\n",
       "geneB       10       20      300       44\n",
       "geneC      100      200     3000      444\n",
       "geneD     1000     2000    30000     4444"
      ]
     },
     "execution_count": 138,
     "metadata": {},
     "output_type": "execute_result"
    }
   ],
   "source": [
    "df1.drop(['AVERAGE', 'AVERAGE2'], axis=1) "
   ]
  },
  {
   "cell_type": "markdown",
   "metadata": {},
   "source": [
    "`drop`は非破壊的変更なので, 実際には上記の例では削除できていません。<br>\n",
    "削除するためには, `df = df.drop('AVERAGE', axis=1)`というように代入します。"
   ]
  },
  {
   "cell_type": "code",
   "execution_count": 139,
   "metadata": {},
   "outputs": [
    {
     "data": {
      "text/html": [
       "<div>\n",
       "<style scoped>\n",
       "    .dataframe tbody tr th:only-of-type {\n",
       "        vertical-align: middle;\n",
       "    }\n",
       "\n",
       "    .dataframe tbody tr th {\n",
       "        vertical-align: top;\n",
       "    }\n",
       "\n",
       "    .dataframe thead th {\n",
       "        text-align: right;\n",
       "    }\n",
       "</style>\n",
       "<table border=\"1\" class=\"dataframe\">\n",
       "  <thead>\n",
       "    <tr style=\"text-align: right;\">\n",
       "      <th></th>\n",
       "      <th>sample1</th>\n",
       "      <th>sample2</th>\n",
       "      <th>sample3</th>\n",
       "      <th>sample4</th>\n",
       "      <th>AVERAGE</th>\n",
       "      <th>AVERAGE2</th>\n",
       "    </tr>\n",
       "  </thead>\n",
       "  <tbody>\n",
       "    <tr>\n",
       "      <th>geneA</th>\n",
       "      <td>1</td>\n",
       "      <td>3</td>\n",
       "      <td>20</td>\n",
       "      <td>4</td>\n",
       "      <td>7.0</td>\n",
       "      <td>7.0</td>\n",
       "    </tr>\n",
       "    <tr>\n",
       "      <th>geneB</th>\n",
       "      <td>10</td>\n",
       "      <td>20</td>\n",
       "      <td>300</td>\n",
       "      <td>44</td>\n",
       "      <td>93.5</td>\n",
       "      <td>93.5</td>\n",
       "    </tr>\n",
       "    <tr>\n",
       "      <th>geneC</th>\n",
       "      <td>100</td>\n",
       "      <td>200</td>\n",
       "      <td>3000</td>\n",
       "      <td>444</td>\n",
       "      <td>936.0</td>\n",
       "      <td>936.0</td>\n",
       "    </tr>\n",
       "    <tr>\n",
       "      <th>geneD</th>\n",
       "      <td>1000</td>\n",
       "      <td>2000</td>\n",
       "      <td>30000</td>\n",
       "      <td>4444</td>\n",
       "      <td>9361.0</td>\n",
       "      <td>9361.0</td>\n",
       "    </tr>\n",
       "  </tbody>\n",
       "</table>\n",
       "</div>"
      ],
      "text/plain": [
       "       sample1  sample2  sample3  sample4  AVERAGE  AVERAGE2\n",
       "geneA        1        3       20        4      7.0       7.0\n",
       "geneB       10       20      300       44     93.5      93.5\n",
       "geneC      100      200     3000      444    936.0     936.0\n",
       "geneD     1000     2000    30000     4444   9361.0    9361.0"
      ]
     },
     "execution_count": 139,
     "metadata": {},
     "output_type": "execute_result"
    }
   ],
   "source": [
    "df1"
   ]
  },
  {
   "cell_type": "markdown",
   "metadata": {},
   "source": [
    "`del` を使っても削除可能です。ただし, 破壊的変更なので代入なしで即座に反映されます。"
   ]
  },
  {
   "cell_type": "code",
   "execution_count": 140,
   "metadata": {},
   "outputs": [
    {
     "data": {
      "text/html": [
       "<div>\n",
       "<style scoped>\n",
       "    .dataframe tbody tr th:only-of-type {\n",
       "        vertical-align: middle;\n",
       "    }\n",
       "\n",
       "    .dataframe tbody tr th {\n",
       "        vertical-align: top;\n",
       "    }\n",
       "\n",
       "    .dataframe thead th {\n",
       "        text-align: right;\n",
       "    }\n",
       "</style>\n",
       "<table border=\"1\" class=\"dataframe\">\n",
       "  <thead>\n",
       "    <tr style=\"text-align: right;\">\n",
       "      <th></th>\n",
       "      <th>sample1</th>\n",
       "      <th>sample2</th>\n",
       "      <th>sample3</th>\n",
       "    </tr>\n",
       "  </thead>\n",
       "  <tbody>\n",
       "    <tr>\n",
       "      <th>geneA</th>\n",
       "      <td>1</td>\n",
       "      <td>3</td>\n",
       "      <td>2.0</td>\n",
       "    </tr>\n",
       "    <tr>\n",
       "      <th>geneB</th>\n",
       "      <td>10</td>\n",
       "      <td>20</td>\n",
       "      <td>30.0</td>\n",
       "    </tr>\n",
       "    <tr>\n",
       "      <th>geneC</th>\n",
       "      <td>100</td>\n",
       "      <td>200</td>\n",
       "      <td>300.0</td>\n",
       "    </tr>\n",
       "    <tr>\n",
       "      <th>geneD</th>\n",
       "      <td>1000</td>\n",
       "      <td>2000</td>\n",
       "      <td>3000.0</td>\n",
       "    </tr>\n",
       "  </tbody>\n",
       "</table>\n",
       "</div>"
      ],
      "text/plain": [
       "       sample1  sample2  sample3\n",
       "geneA        1        3      2.0\n",
       "geneB       10       20     30.0\n",
       "geneC      100      200    300.0\n",
       "geneD     1000     2000   3000.0"
      ]
     },
     "execution_count": 140,
     "metadata": {},
     "output_type": "execute_result"
    }
   ],
   "source": [
    "del df1['AVERAGE'], df1['AVERAGE2'],  df1['sample4']\n",
    "df1.sample3 = df1.sample3 / 10  # 元の値に戻しておきます。\n",
    "df1\n",
    "# del df1[['AVERAGE', 'AVERAGE2', 'sample4']] はエラーになります。"
   ]
  },
  {
   "cell_type": "markdown",
   "metadata": {},
   "source": [
    "### 2-5-2. 行の操作\n",
    "\n",
    "__行の追加__<br> \n",
    "\n",
    "実際には一行ずつ追加する機会は多くないと思われます。後述の `concat` で複数のデータフレームを連結する操作の方が多いかもしれません。<br>\n",
    "追加したい行データをあらかじめシリーズ（以下の例では geneE ）として作成しておきます。<br>\n",
    "このときシリーズのインデックスには、データフレームの列名（columns）を指定, 行名として `name='geneE'` を指定します。<br>"
   ]
  },
  {
   "cell_type": "code",
   "execution_count": 141,
   "metadata": {},
   "outputs": [
    {
     "data": {
      "text/plain": [
       "sample1      9\n",
       "sample2     99\n",
       "sample3    999\n",
       "Name: geneE, dtype: int64"
      ]
     },
     "execution_count": 141,
     "metadata": {},
     "output_type": "execute_result"
    }
   ],
   "source": [
    "geneE = pd.Series([9,99,999], index = df1.columns, name = 'geneE')\n",
    "geneE"
   ]
  },
  {
   "cell_type": "markdown",
   "metadata": {},
   "source": [
    "`append()`を使って行を追加します。<br>"
   ]
  },
  {
   "cell_type": "code",
   "execution_count": 142,
   "metadata": {},
   "outputs": [
    {
     "data": {
      "text/html": [
       "<div>\n",
       "<style scoped>\n",
       "    .dataframe tbody tr th:only-of-type {\n",
       "        vertical-align: middle;\n",
       "    }\n",
       "\n",
       "    .dataframe tbody tr th {\n",
       "        vertical-align: top;\n",
       "    }\n",
       "\n",
       "    .dataframe thead th {\n",
       "        text-align: right;\n",
       "    }\n",
       "</style>\n",
       "<table border=\"1\" class=\"dataframe\">\n",
       "  <thead>\n",
       "    <tr style=\"text-align: right;\">\n",
       "      <th></th>\n",
       "      <th>sample1</th>\n",
       "      <th>sample2</th>\n",
       "      <th>sample3</th>\n",
       "    </tr>\n",
       "  </thead>\n",
       "  <tbody>\n",
       "    <tr>\n",
       "      <th>geneA</th>\n",
       "      <td>1</td>\n",
       "      <td>3</td>\n",
       "      <td>2.0</td>\n",
       "    </tr>\n",
       "    <tr>\n",
       "      <th>geneB</th>\n",
       "      <td>10</td>\n",
       "      <td>20</td>\n",
       "      <td>30.0</td>\n",
       "    </tr>\n",
       "    <tr>\n",
       "      <th>geneC</th>\n",
       "      <td>100</td>\n",
       "      <td>200</td>\n",
       "      <td>300.0</td>\n",
       "    </tr>\n",
       "    <tr>\n",
       "      <th>geneD</th>\n",
       "      <td>1000</td>\n",
       "      <td>2000</td>\n",
       "      <td>3000.0</td>\n",
       "    </tr>\n",
       "    <tr>\n",
       "      <th>geneE</th>\n",
       "      <td>9</td>\n",
       "      <td>99</td>\n",
       "      <td>999.0</td>\n",
       "    </tr>\n",
       "  </tbody>\n",
       "</table>\n",
       "</div>"
      ],
      "text/plain": [
       "       sample1  sample2  sample3\n",
       "geneA        1        3      2.0\n",
       "geneB       10       20     30.0\n",
       "geneC      100      200    300.0\n",
       "geneD     1000     2000   3000.0\n",
       "geneE        9       99    999.0"
      ]
     },
     "execution_count": 142,
     "metadata": {},
     "output_type": "execute_result"
    }
   ],
   "source": [
    "df1 = df1.append(geneE)\n",
    "df1"
   ]
  },
  {
   "cell_type": "markdown",
   "metadata": {},
   "source": [
    "__行の編集__<br>  \n",
    "\n",
    "`loc` または `iloc` を使って行を指定して, 新しい値を代入します。"
   ]
  },
  {
   "cell_type": "code",
   "execution_count": 143,
   "metadata": {},
   "outputs": [
    {
     "data": {
      "text/html": [
       "<div>\n",
       "<style scoped>\n",
       "    .dataframe tbody tr th:only-of-type {\n",
       "        vertical-align: middle;\n",
       "    }\n",
       "\n",
       "    .dataframe tbody tr th {\n",
       "        vertical-align: top;\n",
       "    }\n",
       "\n",
       "    .dataframe thead th {\n",
       "        text-align: right;\n",
       "    }\n",
       "</style>\n",
       "<table border=\"1\" class=\"dataframe\">\n",
       "  <thead>\n",
       "    <tr style=\"text-align: right;\">\n",
       "      <th></th>\n",
       "      <th>sample1</th>\n",
       "      <th>sample2</th>\n",
       "      <th>sample3</th>\n",
       "    </tr>\n",
       "  </thead>\n",
       "  <tbody>\n",
       "    <tr>\n",
       "      <th>geneA</th>\n",
       "      <td>1.0</td>\n",
       "      <td>3.0</td>\n",
       "      <td>2.0</td>\n",
       "    </tr>\n",
       "    <tr>\n",
       "      <th>geneB</th>\n",
       "      <td>10.0</td>\n",
       "      <td>20.0</td>\n",
       "      <td>30.0</td>\n",
       "    </tr>\n",
       "    <tr>\n",
       "      <th>geneC</th>\n",
       "      <td>100.0</td>\n",
       "      <td>200.0</td>\n",
       "      <td>300.0</td>\n",
       "    </tr>\n",
       "    <tr>\n",
       "      <th>geneD</th>\n",
       "      <td>1000.0</td>\n",
       "      <td>2000.0</td>\n",
       "      <td>3000.0</td>\n",
       "    </tr>\n",
       "    <tr>\n",
       "      <th>geneE</th>\n",
       "      <td>90.0</td>\n",
       "      <td>990.0</td>\n",
       "      <td>9990.0</td>\n",
       "    </tr>\n",
       "  </tbody>\n",
       "</table>\n",
       "</div>"
      ],
      "text/plain": [
       "       sample1  sample2  sample3\n",
       "geneA      1.0      3.0      2.0\n",
       "geneB     10.0     20.0     30.0\n",
       "geneC    100.0    200.0    300.0\n",
       "geneD   1000.0   2000.0   3000.0\n",
       "geneE     90.0    990.0   9990.0"
      ]
     },
     "execution_count": 143,
     "metadata": {},
     "output_type": "execute_result"
    }
   ],
   "source": [
    "df1.iloc[4] = df1.iloc[4]*10\n",
    "df1 "
   ]
  },
  {
   "cell_type": "markdown",
   "metadata": {},
   "source": [
    "5行め, geneEの値が10倍の値になっていることを確認してください。<br>\n",
    "`df1` を元の値に戻しておきます。ここでは`loc`を使っているので` [ ] `の中身はインデックス（行ラベル）です。"
   ]
  },
  {
   "cell_type": "code",
   "execution_count": 144,
   "metadata": {},
   "outputs": [
    {
     "data": {
      "text/html": [
       "<div>\n",
       "<style scoped>\n",
       "    .dataframe tbody tr th:only-of-type {\n",
       "        vertical-align: middle;\n",
       "    }\n",
       "\n",
       "    .dataframe tbody tr th {\n",
       "        vertical-align: top;\n",
       "    }\n",
       "\n",
       "    .dataframe thead th {\n",
       "        text-align: right;\n",
       "    }\n",
       "</style>\n",
       "<table border=\"1\" class=\"dataframe\">\n",
       "  <thead>\n",
       "    <tr style=\"text-align: right;\">\n",
       "      <th></th>\n",
       "      <th>sample1</th>\n",
       "      <th>sample2</th>\n",
       "      <th>sample3</th>\n",
       "    </tr>\n",
       "  </thead>\n",
       "  <tbody>\n",
       "    <tr>\n",
       "      <th>geneA</th>\n",
       "      <td>1.0</td>\n",
       "      <td>3.0</td>\n",
       "      <td>2.0</td>\n",
       "    </tr>\n",
       "    <tr>\n",
       "      <th>geneB</th>\n",
       "      <td>10.0</td>\n",
       "      <td>20.0</td>\n",
       "      <td>30.0</td>\n",
       "    </tr>\n",
       "    <tr>\n",
       "      <th>geneC</th>\n",
       "      <td>100.0</td>\n",
       "      <td>200.0</td>\n",
       "      <td>300.0</td>\n",
       "    </tr>\n",
       "    <tr>\n",
       "      <th>geneD</th>\n",
       "      <td>1000.0</td>\n",
       "      <td>2000.0</td>\n",
       "      <td>3000.0</td>\n",
       "    </tr>\n",
       "    <tr>\n",
       "      <th>geneE</th>\n",
       "      <td>9.0</td>\n",
       "      <td>99.0</td>\n",
       "      <td>999.0</td>\n",
       "    </tr>\n",
       "  </tbody>\n",
       "</table>\n",
       "</div>"
      ],
      "text/plain": [
       "       sample1  sample2  sample3\n",
       "geneA      1.0      3.0      2.0\n",
       "geneB     10.0     20.0     30.0\n",
       "geneC    100.0    200.0    300.0\n",
       "geneD   1000.0   2000.0   3000.0\n",
       "geneE      9.0     99.0    999.0"
      ]
     },
     "execution_count": 144,
     "metadata": {},
     "output_type": "execute_result"
    }
   ],
   "source": [
    "df1.loc['geneE'] = df1.loc['geneE'] / 10  \n",
    "df1"
   ]
  },
  {
   "cell_type": "markdown",
   "metadata": {},
   "source": [
    "要素の値を指定することももちろん可能です。"
   ]
  },
  {
   "cell_type": "code",
   "execution_count": 145,
   "metadata": {},
   "outputs": [
    {
     "data": {
      "text/html": [
       "<div>\n",
       "<style scoped>\n",
       "    .dataframe tbody tr th:only-of-type {\n",
       "        vertical-align: middle;\n",
       "    }\n",
       "\n",
       "    .dataframe tbody tr th {\n",
       "        vertical-align: top;\n",
       "    }\n",
       "\n",
       "    .dataframe thead th {\n",
       "        text-align: right;\n",
       "    }\n",
       "</style>\n",
       "<table border=\"1\" class=\"dataframe\">\n",
       "  <thead>\n",
       "    <tr style=\"text-align: right;\">\n",
       "      <th></th>\n",
       "      <th>sample1</th>\n",
       "      <th>sample2</th>\n",
       "      <th>sample3</th>\n",
       "    </tr>\n",
       "  </thead>\n",
       "  <tbody>\n",
       "    <tr>\n",
       "      <th>geneA</th>\n",
       "      <td>0.0</td>\n",
       "      <td>3.0</td>\n",
       "      <td>2.0</td>\n",
       "    </tr>\n",
       "    <tr>\n",
       "      <th>geneB</th>\n",
       "      <td>10.0</td>\n",
       "      <td>20.0</td>\n",
       "      <td>30.0</td>\n",
       "    </tr>\n",
       "    <tr>\n",
       "      <th>geneC</th>\n",
       "      <td>100.0</td>\n",
       "      <td>200.0</td>\n",
       "      <td>300.0</td>\n",
       "    </tr>\n",
       "    <tr>\n",
       "      <th>geneD</th>\n",
       "      <td>1000.0</td>\n",
       "      <td>2000.0</td>\n",
       "      <td>3000.0</td>\n",
       "    </tr>\n",
       "    <tr>\n",
       "      <th>geneE</th>\n",
       "      <td>9.0</td>\n",
       "      <td>99.0</td>\n",
       "      <td>999.0</td>\n",
       "    </tr>\n",
       "  </tbody>\n",
       "</table>\n",
       "</div>"
      ],
      "text/plain": [
       "       sample1  sample2  sample3\n",
       "geneA      0.0      3.0      2.0\n",
       "geneB     10.0     20.0     30.0\n",
       "geneC    100.0    200.0    300.0\n",
       "geneD   1000.0   2000.0   3000.0\n",
       "geneE      9.0     99.0    999.0"
      ]
     },
     "execution_count": 145,
     "metadata": {},
     "output_type": "execute_result"
    }
   ],
   "source": [
    "df1.loc['geneA', 'sample1'] = 0\n",
    "df1"
   ]
  },
  {
   "cell_type": "code",
   "execution_count": 146,
   "metadata": {},
   "outputs": [
    {
     "data": {
      "text/html": [
       "<div>\n",
       "<style scoped>\n",
       "    .dataframe tbody tr th:only-of-type {\n",
       "        vertical-align: middle;\n",
       "    }\n",
       "\n",
       "    .dataframe tbody tr th {\n",
       "        vertical-align: top;\n",
       "    }\n",
       "\n",
       "    .dataframe thead th {\n",
       "        text-align: right;\n",
       "    }\n",
       "</style>\n",
       "<table border=\"1\" class=\"dataframe\">\n",
       "  <thead>\n",
       "    <tr style=\"text-align: right;\">\n",
       "      <th></th>\n",
       "      <th>sample1</th>\n",
       "      <th>sample2</th>\n",
       "      <th>sample3</th>\n",
       "    </tr>\n",
       "  </thead>\n",
       "  <tbody>\n",
       "    <tr>\n",
       "      <th>geneA</th>\n",
       "      <td>1.0</td>\n",
       "      <td>3.0</td>\n",
       "      <td>2.0</td>\n",
       "    </tr>\n",
       "    <tr>\n",
       "      <th>geneB</th>\n",
       "      <td>10.0</td>\n",
       "      <td>20.0</td>\n",
       "      <td>30.0</td>\n",
       "    </tr>\n",
       "    <tr>\n",
       "      <th>geneC</th>\n",
       "      <td>100.0</td>\n",
       "      <td>200.0</td>\n",
       "      <td>300.0</td>\n",
       "    </tr>\n",
       "    <tr>\n",
       "      <th>geneD</th>\n",
       "      <td>1000.0</td>\n",
       "      <td>2000.0</td>\n",
       "      <td>3000.0</td>\n",
       "    </tr>\n",
       "    <tr>\n",
       "      <th>geneE</th>\n",
       "      <td>9.0</td>\n",
       "      <td>99.0</td>\n",
       "      <td>999.0</td>\n",
       "    </tr>\n",
       "  </tbody>\n",
       "</table>\n",
       "</div>"
      ],
      "text/plain": [
       "       sample1  sample2  sample3\n",
       "geneA      1.0      3.0      2.0\n",
       "geneB     10.0     20.0     30.0\n",
       "geneC    100.0    200.0    300.0\n",
       "geneD   1000.0   2000.0   3000.0\n",
       "geneE      9.0     99.0    999.0"
      ]
     },
     "execution_count": 146,
     "metadata": {},
     "output_type": "execute_result"
    }
   ],
   "source": [
    "df1.loc['geneA', 'sample1'] = 1 # 元の値に戻しておく\n",
    "df1"
   ]
  },
  {
   "cell_type": "markdown",
   "metadata": {},
   "source": [
    "__行の削除__<br>\n",
    "\n",
    "`drop()` を使用します。インデックス（行ラベル）を指定します。"
   ]
  },
  {
   "cell_type": "code",
   "execution_count": 147,
   "metadata": {},
   "outputs": [
    {
     "data": {
      "text/html": [
       "<div>\n",
       "<style scoped>\n",
       "    .dataframe tbody tr th:only-of-type {\n",
       "        vertical-align: middle;\n",
       "    }\n",
       "\n",
       "    .dataframe tbody tr th {\n",
       "        vertical-align: top;\n",
       "    }\n",
       "\n",
       "    .dataframe thead th {\n",
       "        text-align: right;\n",
       "    }\n",
       "</style>\n",
       "<table border=\"1\" class=\"dataframe\">\n",
       "  <thead>\n",
       "    <tr style=\"text-align: right;\">\n",
       "      <th></th>\n",
       "      <th>sample1</th>\n",
       "      <th>sample2</th>\n",
       "      <th>sample3</th>\n",
       "    </tr>\n",
       "  </thead>\n",
       "  <tbody>\n",
       "    <tr>\n",
       "      <th>geneA</th>\n",
       "      <td>1.0</td>\n",
       "      <td>3.0</td>\n",
       "      <td>2.0</td>\n",
       "    </tr>\n",
       "    <tr>\n",
       "      <th>geneB</th>\n",
       "      <td>10.0</td>\n",
       "      <td>20.0</td>\n",
       "      <td>30.0</td>\n",
       "    </tr>\n",
       "    <tr>\n",
       "      <th>geneC</th>\n",
       "      <td>100.0</td>\n",
       "      <td>200.0</td>\n",
       "      <td>300.0</td>\n",
       "    </tr>\n",
       "    <tr>\n",
       "      <th>geneD</th>\n",
       "      <td>1000.0</td>\n",
       "      <td>2000.0</td>\n",
       "      <td>3000.0</td>\n",
       "    </tr>\n",
       "  </tbody>\n",
       "</table>\n",
       "</div>"
      ],
      "text/plain": [
       "       sample1  sample2  sample3\n",
       "geneA      1.0      3.0      2.0\n",
       "geneB     10.0     20.0     30.0\n",
       "geneC    100.0    200.0    300.0\n",
       "geneD   1000.0   2000.0   3000.0"
      ]
     },
     "execution_count": 147,
     "metadata": {},
     "output_type": "execute_result"
    }
   ],
   "source": [
    "df1 = df1.drop('geneE') \n",
    "df1"
   ]
  },
  {
   "cell_type": "markdown",
   "metadata": {},
   "source": [
    "### 2-6. 欠損値・重複の扱い"
   ]
  },
  {
   "cell_type": "markdown",
   "metadata": {},
   "source": [
    "テストデータとして, タブ区切りのファイル `test_matrix_data.tsv` を読み込みます。<br>\n",
    "ファイルの読み込みには `pd.read_table()` または `pd.read_csv()` を使います。"
   ]
  },
  {
   "cell_type": "code",
   "execution_count": 148,
   "metadata": {},
   "outputs": [],
   "source": [
    "df3 = pd.read_table(\"input/test_matrix_data.tsv\", index_col=0)"
   ]
  },
  {
   "cell_type": "markdown",
   "metadata": {},
   "source": [
    "`df3 = pd.read_csv(\"input/test_matrix_data.tsv\", sep=\"\\t\", index_col=0) ` としても同じ結果になります。<br>"
   ]
  },
  {
   "cell_type": "code",
   "execution_count": 149,
   "metadata": {},
   "outputs": [
    {
     "data": {
      "text/html": [
       "<div>\n",
       "<style scoped>\n",
       "    .dataframe tbody tr th:only-of-type {\n",
       "        vertical-align: middle;\n",
       "    }\n",
       "\n",
       "    .dataframe tbody tr th {\n",
       "        vertical-align: top;\n",
       "    }\n",
       "\n",
       "    .dataframe thead th {\n",
       "        text-align: right;\n",
       "    }\n",
       "</style>\n",
       "<table border=\"1\" class=\"dataframe\">\n",
       "  <thead>\n",
       "    <tr style=\"text-align: right;\">\n",
       "      <th></th>\n",
       "      <th>A</th>\n",
       "      <th>B</th>\n",
       "      <th>C</th>\n",
       "      <th>D</th>\n",
       "      <th>E</th>\n",
       "      <th>F</th>\n",
       "      <th>G</th>\n",
       "    </tr>\n",
       "    <tr>\n",
       "      <th>data_idx</th>\n",
       "      <th></th>\n",
       "      <th></th>\n",
       "      <th></th>\n",
       "      <th></th>\n",
       "      <th></th>\n",
       "      <th></th>\n",
       "      <th></th>\n",
       "    </tr>\n",
       "  </thead>\n",
       "  <tbody>\n",
       "    <tr>\n",
       "      <th>data_1</th>\n",
       "      <td>58</td>\n",
       "      <td>-27</td>\n",
       "      <td>31.0</td>\n",
       "      <td>0.6028</td>\n",
       "      <td>73.922054</td>\n",
       "      <td>0.0179</td>\n",
       "      <td>-0.0102</td>\n",
       "    </tr>\n",
       "    <tr>\n",
       "      <th>data_10</th>\n",
       "      <td>109</td>\n",
       "      <td>-53</td>\n",
       "      <td>56.0</td>\n",
       "      <td>0.5000</td>\n",
       "      <td>575.585790</td>\n",
       "      <td>0.0346</td>\n",
       "      <td>0.0000</td>\n",
       "    </tr>\n",
       "    <tr>\n",
       "      <th>data_11</th>\n",
       "      <td>77</td>\n",
       "      <td>-44</td>\n",
       "      <td>33.0</td>\n",
       "      <td>0.6281</td>\n",
       "      <td>144.838806</td>\n",
       "      <td>0.0343</td>\n",
       "      <td>-0.0411</td>\n",
       "    </tr>\n",
       "    <tr>\n",
       "      <th>data_12</th>\n",
       "      <td>181</td>\n",
       "      <td>126</td>\n",
       "      <td>55.0</td>\n",
       "      <td>0.5000</td>\n",
       "      <td>NaN</td>\n",
       "      <td>0.0551</td>\n",
       "      <td>0.0000</td>\n",
       "    </tr>\n",
       "    <tr>\n",
       "      <th>data_13</th>\n",
       "      <td>91</td>\n",
       "      <td>-46</td>\n",
       "      <td>45.0</td>\n",
       "      <td>0.5220</td>\n",
       "      <td>896.439718</td>\n",
       "      <td>0.0044</td>\n",
       "      <td>-0.0082</td>\n",
       "    </tr>\n",
       "  </tbody>\n",
       "</table>\n",
       "</div>"
      ],
      "text/plain": [
       "            A    B     C       D           E       F       G\n",
       "data_idx                                                    \n",
       "data_1     58  -27  31.0  0.6028   73.922054  0.0179 -0.0102\n",
       "data_10   109  -53  56.0  0.5000  575.585790  0.0346  0.0000\n",
       "data_11    77  -44  33.0  0.6281  144.838806  0.0343 -0.0411\n",
       "data_12   181  126  55.0  0.5000         NaN  0.0551  0.0000\n",
       "data_13    91  -46  45.0  0.5220  896.439718  0.0044 -0.0082"
      ]
     },
     "execution_count": 149,
     "metadata": {},
     "output_type": "execute_result"
    }
   ],
   "source": [
    "df3.head()"
   ]
  },
  {
   "cell_type": "markdown",
   "metadata": {},
   "source": [
    "データの大きさを`shape`で確認します。30行 x 7列のデータになっているはずです。"
   ]
  },
  {
   "cell_type": "code",
   "execution_count": 150,
   "metadata": {},
   "outputs": [
    {
     "data": {
      "text/plain": [
       "(30, 7)"
      ]
     },
     "execution_count": 150,
     "metadata": {},
     "output_type": "execute_result"
    }
   ],
   "source": [
    "df3.shape"
   ]
  },
  {
   "cell_type": "markdown",
   "metadata": {},
   "source": [
    "__欠損値の削除__<br>\n",
    "\n",
    "データに欠損値（ NaN ）がある行すべてを削除します。この例では data_12 の E列に NaN があるため削除されます。"
   ]
  },
  {
   "cell_type": "code",
   "execution_count": 151,
   "metadata": {},
   "outputs": [
    {
     "data": {
      "text/html": [
       "<div>\n",
       "<style scoped>\n",
       "    .dataframe tbody tr th:only-of-type {\n",
       "        vertical-align: middle;\n",
       "    }\n",
       "\n",
       "    .dataframe tbody tr th {\n",
       "        vertical-align: top;\n",
       "    }\n",
       "\n",
       "    .dataframe thead th {\n",
       "        text-align: right;\n",
       "    }\n",
       "</style>\n",
       "<table border=\"1\" class=\"dataframe\">\n",
       "  <thead>\n",
       "    <tr style=\"text-align: right;\">\n",
       "      <th></th>\n",
       "      <th>A</th>\n",
       "      <th>B</th>\n",
       "      <th>C</th>\n",
       "      <th>D</th>\n",
       "      <th>E</th>\n",
       "      <th>F</th>\n",
       "      <th>G</th>\n",
       "    </tr>\n",
       "    <tr>\n",
       "      <th>data_idx</th>\n",
       "      <th></th>\n",
       "      <th></th>\n",
       "      <th></th>\n",
       "      <th></th>\n",
       "      <th></th>\n",
       "      <th></th>\n",
       "      <th></th>\n",
       "    </tr>\n",
       "  </thead>\n",
       "  <tbody>\n",
       "    <tr>\n",
       "      <th>data_1</th>\n",
       "      <td>58</td>\n",
       "      <td>-27</td>\n",
       "      <td>31.0</td>\n",
       "      <td>0.6028</td>\n",
       "      <td>73.922054</td>\n",
       "      <td>0.0179</td>\n",
       "      <td>-0.0102</td>\n",
       "    </tr>\n",
       "    <tr>\n",
       "      <th>data_10</th>\n",
       "      <td>109</td>\n",
       "      <td>-53</td>\n",
       "      <td>56.0</td>\n",
       "      <td>0.5000</td>\n",
       "      <td>575.585790</td>\n",
       "      <td>0.0346</td>\n",
       "      <td>0.0000</td>\n",
       "    </tr>\n",
       "    <tr>\n",
       "      <th>data_11</th>\n",
       "      <td>77</td>\n",
       "      <td>-44</td>\n",
       "      <td>33.0</td>\n",
       "      <td>0.6281</td>\n",
       "      <td>144.838806</td>\n",
       "      <td>0.0343</td>\n",
       "      <td>-0.0411</td>\n",
       "    </tr>\n",
       "    <tr>\n",
       "      <th>data_13</th>\n",
       "      <td>91</td>\n",
       "      <td>-46</td>\n",
       "      <td>45.0</td>\n",
       "      <td>0.5220</td>\n",
       "      <td>896.439718</td>\n",
       "      <td>0.0044</td>\n",
       "      <td>-0.0082</td>\n",
       "    </tr>\n",
       "    <tr>\n",
       "      <th>data_14</th>\n",
       "      <td>133</td>\n",
       "      <td>-70</td>\n",
       "      <td>63.0</td>\n",
       "      <td>0.5000</td>\n",
       "      <td>374.867722</td>\n",
       "      <td>0.0420</td>\n",
       "      <td>0.0000</td>\n",
       "    </tr>\n",
       "  </tbody>\n",
       "</table>\n",
       "</div>"
      ],
      "text/plain": [
       "            A   B     C       D           E       F       G\n",
       "data_idx                                                   \n",
       "data_1     58 -27  31.0  0.6028   73.922054  0.0179 -0.0102\n",
       "data_10   109 -53  56.0  0.5000  575.585790  0.0346  0.0000\n",
       "data_11    77 -44  33.0  0.6281  144.838806  0.0343 -0.0411\n",
       "data_13    91 -46  45.0  0.5220  896.439718  0.0044 -0.0082\n",
       "data_14   133 -70  63.0  0.5000  374.867722  0.0420  0.0000"
      ]
     },
     "execution_count": 151,
     "metadata": {},
     "output_type": "execute_result"
    }
   ],
   "source": [
    "df3.dropna().head()"
   ]
  },
  {
   "cell_type": "markdown",
   "metadata": {},
   "source": [
    "非破壊的変更なので実際に削除するには `df3 = df3.dropna()`とするか, `df3.dropna(inplace=True)`とする必要があります。<br>\n",
    "`shape` で何行削除されたか確認します。"
   ]
  },
  {
   "cell_type": "code",
   "execution_count": 152,
   "metadata": {},
   "outputs": [
    {
     "data": {
      "text/plain": [
       "(26, 7)"
      ]
     },
     "execution_count": 152,
     "metadata": {},
     "output_type": "execute_result"
    }
   ],
   "source": [
    "df3.dropna().shape  # 30行x７列 -> 26行×7列になったので4行削除されたことがわかる"
   ]
  },
  {
   "cell_type": "markdown",
   "metadata": {},
   "source": [
    "デフォルトでは欠損値を含む行が削除されます(`axis=0`)。欠損値を含む列を削除するには`axis=1`を指定します。<br>\n",
    "その他に, 特定の行に欠損値が含まれている場合を削除対象にするオプション`subset`や, 欠損値の数の閾値を指定するオプション`thresh`などもあります。"
   ]
  },
  {
   "cell_type": "markdown",
   "metadata": {},
   "source": [
    "__欠損値の補完__<br>\n",
    "\n",
    "欠損値を 0 で補完することができます。"
   ]
  },
  {
   "cell_type": "code",
   "execution_count": 153,
   "metadata": {},
   "outputs": [
    {
     "data": {
      "text/html": [
       "<div>\n",
       "<style scoped>\n",
       "    .dataframe tbody tr th:only-of-type {\n",
       "        vertical-align: middle;\n",
       "    }\n",
       "\n",
       "    .dataframe tbody tr th {\n",
       "        vertical-align: top;\n",
       "    }\n",
       "\n",
       "    .dataframe thead th {\n",
       "        text-align: right;\n",
       "    }\n",
       "</style>\n",
       "<table border=\"1\" class=\"dataframe\">\n",
       "  <thead>\n",
       "    <tr style=\"text-align: right;\">\n",
       "      <th></th>\n",
       "      <th>A</th>\n",
       "      <th>B</th>\n",
       "      <th>C</th>\n",
       "      <th>D</th>\n",
       "      <th>E</th>\n",
       "      <th>F</th>\n",
       "      <th>G</th>\n",
       "    </tr>\n",
       "    <tr>\n",
       "      <th>data_idx</th>\n",
       "      <th></th>\n",
       "      <th></th>\n",
       "      <th></th>\n",
       "      <th></th>\n",
       "      <th></th>\n",
       "      <th></th>\n",
       "      <th></th>\n",
       "    </tr>\n",
       "  </thead>\n",
       "  <tbody>\n",
       "    <tr>\n",
       "      <th>data_1</th>\n",
       "      <td>58</td>\n",
       "      <td>-27</td>\n",
       "      <td>31.0</td>\n",
       "      <td>0.6028</td>\n",
       "      <td>73.922054</td>\n",
       "      <td>0.0179</td>\n",
       "      <td>-0.0102</td>\n",
       "    </tr>\n",
       "    <tr>\n",
       "      <th>data_10</th>\n",
       "      <td>109</td>\n",
       "      <td>-53</td>\n",
       "      <td>56.0</td>\n",
       "      <td>0.5000</td>\n",
       "      <td>575.585790</td>\n",
       "      <td>0.0346</td>\n",
       "      <td>0.0000</td>\n",
       "    </tr>\n",
       "    <tr>\n",
       "      <th>data_11</th>\n",
       "      <td>77</td>\n",
       "      <td>-44</td>\n",
       "      <td>33.0</td>\n",
       "      <td>0.6281</td>\n",
       "      <td>144.838806</td>\n",
       "      <td>0.0343</td>\n",
       "      <td>-0.0411</td>\n",
       "    </tr>\n",
       "    <tr>\n",
       "      <th>data_12</th>\n",
       "      <td>181</td>\n",
       "      <td>126</td>\n",
       "      <td>55.0</td>\n",
       "      <td>0.5000</td>\n",
       "      <td>0.000000</td>\n",
       "      <td>0.0551</td>\n",
       "      <td>0.0000</td>\n",
       "    </tr>\n",
       "    <tr>\n",
       "      <th>data_13</th>\n",
       "      <td>91</td>\n",
       "      <td>-46</td>\n",
       "      <td>45.0</td>\n",
       "      <td>0.5220</td>\n",
       "      <td>896.439718</td>\n",
       "      <td>0.0044</td>\n",
       "      <td>-0.0082</td>\n",
       "    </tr>\n",
       "  </tbody>\n",
       "</table>\n",
       "</div>"
      ],
      "text/plain": [
       "            A    B     C       D           E       F       G\n",
       "data_idx                                                    \n",
       "data_1     58  -27  31.0  0.6028   73.922054  0.0179 -0.0102\n",
       "data_10   109  -53  56.0  0.5000  575.585790  0.0346  0.0000\n",
       "data_11    77  -44  33.0  0.6281  144.838806  0.0343 -0.0411\n",
       "data_12   181  126  55.0  0.5000    0.000000  0.0551  0.0000\n",
       "data_13    91  -46  45.0  0.5220  896.439718  0.0044 -0.0082"
      ]
     },
     "execution_count": 153,
     "metadata": {},
     "output_type": "execute_result"
    }
   ],
   "source": [
    "df3.fillna(0).head()"
   ]
  },
  {
   "cell_type": "markdown",
   "metadata": {},
   "source": [
    "引数に辞書やシリーズを指定することで, 各行ごとに異なる値を指定することもできます。<br>\n",
    "下の例では, C列は 0, E列は 1 で補完されます。"
   ]
  },
  {
   "cell_type": "code",
   "execution_count": 154,
   "metadata": {},
   "outputs": [
    {
     "data": {
      "text/html": [
       "<div>\n",
       "<style scoped>\n",
       "    .dataframe tbody tr th:only-of-type {\n",
       "        vertical-align: middle;\n",
       "    }\n",
       "\n",
       "    .dataframe tbody tr th {\n",
       "        vertical-align: top;\n",
       "    }\n",
       "\n",
       "    .dataframe thead th {\n",
       "        text-align: right;\n",
       "    }\n",
       "</style>\n",
       "<table border=\"1\" class=\"dataframe\">\n",
       "  <thead>\n",
       "    <tr style=\"text-align: right;\">\n",
       "      <th></th>\n",
       "      <th>A</th>\n",
       "      <th>B</th>\n",
       "      <th>C</th>\n",
       "      <th>D</th>\n",
       "      <th>E</th>\n",
       "      <th>F</th>\n",
       "      <th>G</th>\n",
       "    </tr>\n",
       "    <tr>\n",
       "      <th>data_idx</th>\n",
       "      <th></th>\n",
       "      <th></th>\n",
       "      <th></th>\n",
       "      <th></th>\n",
       "      <th></th>\n",
       "      <th></th>\n",
       "      <th></th>\n",
       "    </tr>\n",
       "  </thead>\n",
       "  <tbody>\n",
       "    <tr>\n",
       "      <th>data_1</th>\n",
       "      <td>58</td>\n",
       "      <td>-27</td>\n",
       "      <td>31.0</td>\n",
       "      <td>0.6028</td>\n",
       "      <td>73.922054</td>\n",
       "      <td>0.0179</td>\n",
       "      <td>-0.0102</td>\n",
       "    </tr>\n",
       "    <tr>\n",
       "      <th>data_10</th>\n",
       "      <td>109</td>\n",
       "      <td>-53</td>\n",
       "      <td>56.0</td>\n",
       "      <td>0.5000</td>\n",
       "      <td>575.585790</td>\n",
       "      <td>0.0346</td>\n",
       "      <td>0.0000</td>\n",
       "    </tr>\n",
       "    <tr>\n",
       "      <th>data_11</th>\n",
       "      <td>77</td>\n",
       "      <td>-44</td>\n",
       "      <td>33.0</td>\n",
       "      <td>0.6281</td>\n",
       "      <td>144.838806</td>\n",
       "      <td>0.0343</td>\n",
       "      <td>-0.0411</td>\n",
       "    </tr>\n",
       "    <tr>\n",
       "      <th>data_12</th>\n",
       "      <td>181</td>\n",
       "      <td>126</td>\n",
       "      <td>55.0</td>\n",
       "      <td>0.5000</td>\n",
       "      <td>1.000000</td>\n",
       "      <td>0.0551</td>\n",
       "      <td>0.0000</td>\n",
       "    </tr>\n",
       "    <tr>\n",
       "      <th>data_13</th>\n",
       "      <td>91</td>\n",
       "      <td>-46</td>\n",
       "      <td>45.0</td>\n",
       "      <td>0.5220</td>\n",
       "      <td>896.439718</td>\n",
       "      <td>0.0044</td>\n",
       "      <td>-0.0082</td>\n",
       "    </tr>\n",
       "  </tbody>\n",
       "</table>\n",
       "</div>"
      ],
      "text/plain": [
       "            A    B     C       D           E       F       G\n",
       "data_idx                                                    \n",
       "data_1     58  -27  31.0  0.6028   73.922054  0.0179 -0.0102\n",
       "data_10   109  -53  56.0  0.5000  575.585790  0.0346  0.0000\n",
       "data_11    77  -44  33.0  0.6281  144.838806  0.0343 -0.0411\n",
       "data_12   181  126  55.0  0.5000    1.000000  0.0551  0.0000\n",
       "data_13    91  -46  45.0  0.5220  896.439718  0.0044 -0.0082"
      ]
     },
     "execution_count": 154,
     "metadata": {},
     "output_type": "execute_result"
    }
   ],
   "source": [
    "Dic = {\"C\": 0, \"E\": 1}\n",
    "df3.fillna(Dic).head()"
   ]
  },
  {
   "cell_type": "markdown",
   "metadata": {},
   "source": [
    "上記の方法を応用して, 各列の平均で埋めることも可能です。"
   ]
  },
  {
   "cell_type": "code",
   "execution_count": 155,
   "metadata": {},
   "outputs": [
    {
     "data": {
      "text/html": [
       "<div>\n",
       "<style scoped>\n",
       "    .dataframe tbody tr th:only-of-type {\n",
       "        vertical-align: middle;\n",
       "    }\n",
       "\n",
       "    .dataframe tbody tr th {\n",
       "        vertical-align: top;\n",
       "    }\n",
       "\n",
       "    .dataframe thead th {\n",
       "        text-align: right;\n",
       "    }\n",
       "</style>\n",
       "<table border=\"1\" class=\"dataframe\">\n",
       "  <thead>\n",
       "    <tr style=\"text-align: right;\">\n",
       "      <th></th>\n",
       "      <th>A</th>\n",
       "      <th>B</th>\n",
       "      <th>C</th>\n",
       "      <th>D</th>\n",
       "      <th>E</th>\n",
       "      <th>F</th>\n",
       "      <th>G</th>\n",
       "    </tr>\n",
       "    <tr>\n",
       "      <th>data_idx</th>\n",
       "      <th></th>\n",
       "      <th></th>\n",
       "      <th></th>\n",
       "      <th></th>\n",
       "      <th></th>\n",
       "      <th></th>\n",
       "      <th></th>\n",
       "    </tr>\n",
       "  </thead>\n",
       "  <tbody>\n",
       "    <tr>\n",
       "      <th>data_1</th>\n",
       "      <td>58</td>\n",
       "      <td>-27</td>\n",
       "      <td>31.0</td>\n",
       "      <td>0.6028</td>\n",
       "      <td>73.922054</td>\n",
       "      <td>0.0179</td>\n",
       "      <td>-0.0102</td>\n",
       "    </tr>\n",
       "    <tr>\n",
       "      <th>data_10</th>\n",
       "      <td>109</td>\n",
       "      <td>-53</td>\n",
       "      <td>56.0</td>\n",
       "      <td>0.5000</td>\n",
       "      <td>575.585790</td>\n",
       "      <td>0.0346</td>\n",
       "      <td>0.0000</td>\n",
       "    </tr>\n",
       "    <tr>\n",
       "      <th>data_11</th>\n",
       "      <td>77</td>\n",
       "      <td>-44</td>\n",
       "      <td>33.0</td>\n",
       "      <td>0.6281</td>\n",
       "      <td>144.838806</td>\n",
       "      <td>0.0343</td>\n",
       "      <td>-0.0411</td>\n",
       "    </tr>\n",
       "    <tr>\n",
       "      <th>data_12</th>\n",
       "      <td>181</td>\n",
       "      <td>126</td>\n",
       "      <td>55.0</td>\n",
       "      <td>0.5000</td>\n",
       "      <td>314.394296</td>\n",
       "      <td>0.0551</td>\n",
       "      <td>0.0000</td>\n",
       "    </tr>\n",
       "    <tr>\n",
       "      <th>data_13</th>\n",
       "      <td>91</td>\n",
       "      <td>-46</td>\n",
       "      <td>45.0</td>\n",
       "      <td>0.5220</td>\n",
       "      <td>896.439718</td>\n",
       "      <td>0.0044</td>\n",
       "      <td>-0.0082</td>\n",
       "    </tr>\n",
       "  </tbody>\n",
       "</table>\n",
       "</div>"
      ],
      "text/plain": [
       "            A    B     C       D           E       F       G\n",
       "data_idx                                                    \n",
       "data_1     58  -27  31.0  0.6028   73.922054  0.0179 -0.0102\n",
       "data_10   109  -53  56.0  0.5000  575.585790  0.0346  0.0000\n",
       "data_11    77  -44  33.0  0.6281  144.838806  0.0343 -0.0411\n",
       "data_12   181  126  55.0  0.5000  314.394296  0.0551  0.0000\n",
       "data_13    91  -46  45.0  0.5220  896.439718  0.0044 -0.0082"
      ]
     },
     "execution_count": 155,
     "metadata": {},
     "output_type": "execute_result"
    }
   ],
   "source": [
    "df3.fillna(df3.mean()).head()"
   ]
  },
  {
   "cell_type": "markdown",
   "metadata": {},
   "source": [
    "__前後の値による補完__<br> \n",
    "\n",
    "`interpolate()`を使います。"
   ]
  },
  {
   "cell_type": "code",
   "execution_count": 156,
   "metadata": {},
   "outputs": [
    {
     "data": {
      "text/html": [
       "<div>\n",
       "<style scoped>\n",
       "    .dataframe tbody tr th:only-of-type {\n",
       "        vertical-align: middle;\n",
       "    }\n",
       "\n",
       "    .dataframe tbody tr th {\n",
       "        vertical-align: top;\n",
       "    }\n",
       "\n",
       "    .dataframe thead th {\n",
       "        text-align: right;\n",
       "    }\n",
       "</style>\n",
       "<table border=\"1\" class=\"dataframe\">\n",
       "  <thead>\n",
       "    <tr style=\"text-align: right;\">\n",
       "      <th></th>\n",
       "      <th>A</th>\n",
       "      <th>B</th>\n",
       "      <th>C</th>\n",
       "      <th>D</th>\n",
       "      <th>E</th>\n",
       "      <th>F</th>\n",
       "      <th>G</th>\n",
       "    </tr>\n",
       "    <tr>\n",
       "      <th>data_idx</th>\n",
       "      <th></th>\n",
       "      <th></th>\n",
       "      <th></th>\n",
       "      <th></th>\n",
       "      <th></th>\n",
       "      <th></th>\n",
       "      <th></th>\n",
       "    </tr>\n",
       "  </thead>\n",
       "  <tbody>\n",
       "    <tr>\n",
       "      <th>data_1</th>\n",
       "      <td>58</td>\n",
       "      <td>-27</td>\n",
       "      <td>31.0</td>\n",
       "      <td>0.6028</td>\n",
       "      <td>73.922054</td>\n",
       "      <td>0.0179</td>\n",
       "      <td>-0.0102</td>\n",
       "    </tr>\n",
       "    <tr>\n",
       "      <th>data_10</th>\n",
       "      <td>109</td>\n",
       "      <td>-53</td>\n",
       "      <td>56.0</td>\n",
       "      <td>0.5000</td>\n",
       "      <td>575.585790</td>\n",
       "      <td>0.0346</td>\n",
       "      <td>0.0000</td>\n",
       "    </tr>\n",
       "    <tr>\n",
       "      <th>data_11</th>\n",
       "      <td>77</td>\n",
       "      <td>-44</td>\n",
       "      <td>33.0</td>\n",
       "      <td>0.6281</td>\n",
       "      <td>144.838806</td>\n",
       "      <td>0.0343</td>\n",
       "      <td>-0.0411</td>\n",
       "    </tr>\n",
       "    <tr>\n",
       "      <th>data_12</th>\n",
       "      <td>181</td>\n",
       "      <td>126</td>\n",
       "      <td>55.0</td>\n",
       "      <td>0.5000</td>\n",
       "      <td>520.639262</td>\n",
       "      <td>0.0551</td>\n",
       "      <td>0.0000</td>\n",
       "    </tr>\n",
       "    <tr>\n",
       "      <th>data_13</th>\n",
       "      <td>91</td>\n",
       "      <td>-46</td>\n",
       "      <td>45.0</td>\n",
       "      <td>0.5220</td>\n",
       "      <td>896.439718</td>\n",
       "      <td>0.0044</td>\n",
       "      <td>-0.0082</td>\n",
       "    </tr>\n",
       "  </tbody>\n",
       "</table>\n",
       "</div>"
      ],
      "text/plain": [
       "            A    B     C       D           E       F       G\n",
       "data_idx                                                    \n",
       "data_1     58  -27  31.0  0.6028   73.922054  0.0179 -0.0102\n",
       "data_10   109  -53  56.0  0.5000  575.585790  0.0346  0.0000\n",
       "data_11    77  -44  33.0  0.6281  144.838806  0.0343 -0.0411\n",
       "data_12   181  126  55.0  0.5000  520.639262  0.0551  0.0000\n",
       "data_13    91  -46  45.0  0.5220  896.439718  0.0044 -0.0082"
      ]
     },
     "execution_count": 156,
     "metadata": {},
     "output_type": "execute_result"
    }
   ],
   "source": [
    "df3.interpolate().head()"
   ]
  },
  {
   "cell_type": "markdown",
   "metadata": {},
   "source": [
    "__重複の除去__<br>\n",
    "\n",
    "`drop_duplicates()` を使用します。デフォルトでは行全体の値が重複していた場合に削除します。<br>  \n",
    "下の例ではD列に重複値がある場合に, 先頭の行のみ残して以後の行を削除しています(`keep=\"first\"`)。 <br>\n",
    "重複している行すべてを削除することも可能です(`keep=False`)。"
   ]
  },
  {
   "cell_type": "code",
   "execution_count": 157,
   "metadata": {},
   "outputs": [
    {
     "data": {
      "text/html": [
       "<div>\n",
       "<style scoped>\n",
       "    .dataframe tbody tr th:only-of-type {\n",
       "        vertical-align: middle;\n",
       "    }\n",
       "\n",
       "    .dataframe tbody tr th {\n",
       "        vertical-align: top;\n",
       "    }\n",
       "\n",
       "    .dataframe thead th {\n",
       "        text-align: right;\n",
       "    }\n",
       "</style>\n",
       "<table border=\"1\" class=\"dataframe\">\n",
       "  <thead>\n",
       "    <tr style=\"text-align: right;\">\n",
       "      <th></th>\n",
       "      <th>A</th>\n",
       "      <th>B</th>\n",
       "      <th>C</th>\n",
       "      <th>D</th>\n",
       "      <th>E</th>\n",
       "      <th>F</th>\n",
       "      <th>G</th>\n",
       "    </tr>\n",
       "    <tr>\n",
       "      <th>data_idx</th>\n",
       "      <th></th>\n",
       "      <th></th>\n",
       "      <th></th>\n",
       "      <th></th>\n",
       "      <th></th>\n",
       "      <th></th>\n",
       "      <th></th>\n",
       "    </tr>\n",
       "  </thead>\n",
       "  <tbody>\n",
       "    <tr>\n",
       "      <th>data_1</th>\n",
       "      <td>58</td>\n",
       "      <td>-27</td>\n",
       "      <td>31.0</td>\n",
       "      <td>0.6028</td>\n",
       "      <td>73.922054</td>\n",
       "      <td>0.0179</td>\n",
       "      <td>-0.0102</td>\n",
       "    </tr>\n",
       "    <tr>\n",
       "      <th>data_10</th>\n",
       "      <td>109</td>\n",
       "      <td>-53</td>\n",
       "      <td>56.0</td>\n",
       "      <td>0.5000</td>\n",
       "      <td>575.585790</td>\n",
       "      <td>0.0346</td>\n",
       "      <td>0.0000</td>\n",
       "    </tr>\n",
       "    <tr>\n",
       "      <th>data_11</th>\n",
       "      <td>77</td>\n",
       "      <td>-44</td>\n",
       "      <td>33.0</td>\n",
       "      <td>0.6281</td>\n",
       "      <td>144.838806</td>\n",
       "      <td>0.0343</td>\n",
       "      <td>-0.0411</td>\n",
       "    </tr>\n",
       "    <tr>\n",
       "      <th>data_12</th>\n",
       "      <td>181</td>\n",
       "      <td>126</td>\n",
       "      <td>55.0</td>\n",
       "      <td>0.5000</td>\n",
       "      <td>NaN</td>\n",
       "      <td>0.0551</td>\n",
       "      <td>0.0000</td>\n",
       "    </tr>\n",
       "    <tr>\n",
       "      <th>data_13</th>\n",
       "      <td>91</td>\n",
       "      <td>-46</td>\n",
       "      <td>45.0</td>\n",
       "      <td>0.5220</td>\n",
       "      <td>896.439718</td>\n",
       "      <td>0.0044</td>\n",
       "      <td>-0.0082</td>\n",
       "    </tr>\n",
       "    <tr>\n",
       "      <th>data_14</th>\n",
       "      <td>133</td>\n",
       "      <td>-70</td>\n",
       "      <td>63.0</td>\n",
       "      <td>0.5000</td>\n",
       "      <td>374.867722</td>\n",
       "      <td>0.0420</td>\n",
       "      <td>0.0000</td>\n",
       "    </tr>\n",
       "  </tbody>\n",
       "</table>\n",
       "</div>"
      ],
      "text/plain": [
       "            A    B     C       D           E       F       G\n",
       "data_idx                                                    \n",
       "data_1     58  -27  31.0  0.6028   73.922054  0.0179 -0.0102\n",
       "data_10   109  -53  56.0  0.5000  575.585790  0.0346  0.0000\n",
       "data_11    77  -44  33.0  0.6281  144.838806  0.0343 -0.0411\n",
       "data_12   181  126  55.0  0.5000         NaN  0.0551  0.0000\n",
       "data_13    91  -46  45.0  0.5220  896.439718  0.0044 -0.0082\n",
       "data_14   133  -70  63.0  0.5000  374.867722  0.0420  0.0000"
      ]
     },
     "execution_count": 157,
     "metadata": {},
     "output_type": "execute_result"
    }
   ],
   "source": [
    "df3.head(6)"
   ]
  },
  {
   "cell_type": "markdown",
   "metadata": {},
   "source": [
    "D列で 0.5000 が重複しています（data_10,data_12,data_14...）。"
   ]
  },
  {
   "cell_type": "code",
   "execution_count": 159,
   "metadata": {},
   "outputs": [
    {
     "data": {
      "text/html": [
       "<div>\n",
       "<style scoped>\n",
       "    .dataframe tbody tr th:only-of-type {\n",
       "        vertical-align: middle;\n",
       "    }\n",
       "\n",
       "    .dataframe tbody tr th {\n",
       "        vertical-align: top;\n",
       "    }\n",
       "\n",
       "    .dataframe thead th {\n",
       "        text-align: right;\n",
       "    }\n",
       "</style>\n",
       "<table border=\"1\" class=\"dataframe\">\n",
       "  <thead>\n",
       "    <tr style=\"text-align: right;\">\n",
       "      <th></th>\n",
       "      <th>A</th>\n",
       "      <th>B</th>\n",
       "      <th>C</th>\n",
       "      <th>D</th>\n",
       "      <th>E</th>\n",
       "      <th>F</th>\n",
       "      <th>G</th>\n",
       "    </tr>\n",
       "    <tr>\n",
       "      <th>data_idx</th>\n",
       "      <th></th>\n",
       "      <th></th>\n",
       "      <th></th>\n",
       "      <th></th>\n",
       "      <th></th>\n",
       "      <th></th>\n",
       "      <th></th>\n",
       "    </tr>\n",
       "  </thead>\n",
       "  <tbody>\n",
       "    <tr>\n",
       "      <th>data_1</th>\n",
       "      <td>58</td>\n",
       "      <td>-27</td>\n",
       "      <td>31.0</td>\n",
       "      <td>0.6028</td>\n",
       "      <td>73.922054</td>\n",
       "      <td>0.0179</td>\n",
       "      <td>-0.0102</td>\n",
       "    </tr>\n",
       "    <tr>\n",
       "      <th>data_10</th>\n",
       "      <td>109</td>\n",
       "      <td>-53</td>\n",
       "      <td>56.0</td>\n",
       "      <td>0.5000</td>\n",
       "      <td>575.585790</td>\n",
       "      <td>0.0346</td>\n",
       "      <td>0.0000</td>\n",
       "    </tr>\n",
       "    <tr>\n",
       "      <th>data_11</th>\n",
       "      <td>77</td>\n",
       "      <td>-44</td>\n",
       "      <td>33.0</td>\n",
       "      <td>0.6281</td>\n",
       "      <td>144.838806</td>\n",
       "      <td>0.0343</td>\n",
       "      <td>-0.0411</td>\n",
       "    </tr>\n",
       "    <tr>\n",
       "      <th>data_13</th>\n",
       "      <td>91</td>\n",
       "      <td>-46</td>\n",
       "      <td>45.0</td>\n",
       "      <td>0.5220</td>\n",
       "      <td>896.439718</td>\n",
       "      <td>0.0044</td>\n",
       "      <td>-0.0082</td>\n",
       "    </tr>\n",
       "    <tr>\n",
       "      <th>data_19</th>\n",
       "      <td>6</td>\n",
       "      <td>-2</td>\n",
       "      <td>4.0</td>\n",
       "      <td>0.5453</td>\n",
       "      <td>72.282932</td>\n",
       "      <td>0.0220</td>\n",
       "      <td>-0.0707</td>\n",
       "    </tr>\n",
       "  </tbody>\n",
       "</table>\n",
       "</div>"
      ],
      "text/plain": [
       "            A   B     C       D           E       F       G\n",
       "data_idx                                                   \n",
       "data_1     58 -27  31.0  0.6028   73.922054  0.0179 -0.0102\n",
       "data_10   109 -53  56.0  0.5000  575.585790  0.0346  0.0000\n",
       "data_11    77 -44  33.0  0.6281  144.838806  0.0343 -0.0411\n",
       "data_13    91 -46  45.0  0.5220  896.439718  0.0044 -0.0082\n",
       "data_19     6  -2   4.0  0.5453   72.282932  0.0220 -0.0707"
      ]
     },
     "execution_count": 159,
     "metadata": {},
     "output_type": "execute_result"
    }
   ],
   "source": [
    "df3.drop_duplicates(subset=\"D\").head() # data_10が残る"
   ]
  },
  {
   "cell_type": "markdown",
   "metadata": {},
   "source": [
    "__(参考)__  \n",
    "pandasではデータフレームに対する操作の多くは__非破壊的変更__, つまり自分自身を変更させるのではなく、新しいデータフレームとして結果を返します。  \n",
    "このメリットの一つに、複数のメソッドを連結して使用できることが挙げられます。（メソッドチェイン）  \n",
    "例: `df3.dropna().drop_duplicates(subset=\"D\").sort_index().head()`\n"
   ]
  },
  {
   "cell_type": "markdown",
   "metadata": {},
   "source": [
    "### 2-7. データフレーム全体、または行・列に対しての関数の適用\n",
    "#### 2-7-1. データフレームの集計メソッドを使用する方法\n",
    "2-3-2.で紹介済みなので詳細は割愛します。"
   ]
  },
  {
   "cell_type": "code",
   "execution_count": 160,
   "metadata": {},
   "outputs": [
    {
     "data": {
      "text/plain": [
       "A    2029.000000\n",
       "B     101.000000\n",
       "C     939.000000\n",
       "D      16.628800\n",
       "E    8488.645986\n",
       "F       0.799400\n",
       "G      -0.561800\n",
       "dtype: float64"
      ]
     },
     "execution_count": 160,
     "metadata": {},
     "output_type": "execute_result"
    }
   ],
   "source": [
    "df3.sum() "
   ]
  },
  {
   "cell_type": "code",
   "execution_count": 161,
   "metadata": {},
   "outputs": [
    {
     "data": {
      "text/plain": [
       "generic_name        ChlamydomonasVolvoxOstreococcusCoccomyxaMarcha...\n",
       "specific_name       reinhardtiicarterilucimarinussubellipsoidea C-...\n",
       "assemble_version                             v5.5v2.1v2.0v2.0v3.1V3.0\n",
       "genome_size                                                     564.3\n",
       "common_name         green algaegreen algaegreen algaegreen algaeli...\n",
       "unicellular                                                         4\n",
       "dtype: object"
      ]
     },
     "execution_count": 161,
     "metadata": {},
     "output_type": "execute_result"
    }
   ],
   "source": [
    "df2.sum()"
   ]
  },
  {
   "cell_type": "markdown",
   "metadata": {},
   "source": [
    "#### 2-7-2. numpyの関数を利用する方法\n",
    "numpy にはユニバーサル関数と呼ばれる行列（データフレーム）の要素ごとに処理を行う関数があります。"
   ]
  },
  {
   "cell_type": "code",
   "execution_count": 162,
   "metadata": {},
   "outputs": [
    {
     "data": {
      "text/html": [
       "<div>\n",
       "<style scoped>\n",
       "    .dataframe tbody tr th:only-of-type {\n",
       "        vertical-align: middle;\n",
       "    }\n",
       "\n",
       "    .dataframe tbody tr th {\n",
       "        vertical-align: top;\n",
       "    }\n",
       "\n",
       "    .dataframe thead th {\n",
       "        text-align: right;\n",
       "    }\n",
       "</style>\n",
       "<table border=\"1\" class=\"dataframe\">\n",
       "  <thead>\n",
       "    <tr style=\"text-align: right;\">\n",
       "      <th></th>\n",
       "      <th>sample1</th>\n",
       "      <th>sample2</th>\n",
       "      <th>sample3</th>\n",
       "    </tr>\n",
       "  </thead>\n",
       "  <tbody>\n",
       "    <tr>\n",
       "      <th>geneA</th>\n",
       "      <td>1.0</td>\n",
       "      <td>3.0</td>\n",
       "      <td>2.0</td>\n",
       "    </tr>\n",
       "    <tr>\n",
       "      <th>geneB</th>\n",
       "      <td>10.0</td>\n",
       "      <td>20.0</td>\n",
       "      <td>30.0</td>\n",
       "    </tr>\n",
       "    <tr>\n",
       "      <th>geneC</th>\n",
       "      <td>100.0</td>\n",
       "      <td>200.0</td>\n",
       "      <td>300.0</td>\n",
       "    </tr>\n",
       "    <tr>\n",
       "      <th>geneD</th>\n",
       "      <td>1000.0</td>\n",
       "      <td>2000.0</td>\n",
       "      <td>3000.0</td>\n",
       "    </tr>\n",
       "  </tbody>\n",
       "</table>\n",
       "</div>"
      ],
      "text/plain": [
       "       sample1  sample2  sample3\n",
       "geneA      1.0      3.0      2.0\n",
       "geneB     10.0     20.0     30.0\n",
       "geneC    100.0    200.0    300.0\n",
       "geneD   1000.0   2000.0   3000.0"
      ]
     },
     "execution_count": 162,
     "metadata": {},
     "output_type": "execute_result"
    }
   ],
   "source": [
    "df1"
   ]
  },
  {
   "cell_type": "markdown",
   "metadata": {},
   "source": [
    "常用対数を計算しましょう。他に自然対数 ( log )、log2 などもあります。"
   ]
  },
  {
   "cell_type": "code",
   "execution_count": 163,
   "metadata": {},
   "outputs": [
    {
     "data": {
      "text/html": [
       "<div>\n",
       "<style scoped>\n",
       "    .dataframe tbody tr th:only-of-type {\n",
       "        vertical-align: middle;\n",
       "    }\n",
       "\n",
       "    .dataframe tbody tr th {\n",
       "        vertical-align: top;\n",
       "    }\n",
       "\n",
       "    .dataframe thead th {\n",
       "        text-align: right;\n",
       "    }\n",
       "</style>\n",
       "<table border=\"1\" class=\"dataframe\">\n",
       "  <thead>\n",
       "    <tr style=\"text-align: right;\">\n",
       "      <th></th>\n",
       "      <th>sample1</th>\n",
       "      <th>sample2</th>\n",
       "      <th>sample3</th>\n",
       "    </tr>\n",
       "  </thead>\n",
       "  <tbody>\n",
       "    <tr>\n",
       "      <th>geneA</th>\n",
       "      <td>0.0</td>\n",
       "      <td>0.477121</td>\n",
       "      <td>0.301030</td>\n",
       "    </tr>\n",
       "    <tr>\n",
       "      <th>geneB</th>\n",
       "      <td>1.0</td>\n",
       "      <td>1.301030</td>\n",
       "      <td>1.477121</td>\n",
       "    </tr>\n",
       "    <tr>\n",
       "      <th>geneC</th>\n",
       "      <td>2.0</td>\n",
       "      <td>2.301030</td>\n",
       "      <td>2.477121</td>\n",
       "    </tr>\n",
       "    <tr>\n",
       "      <th>geneD</th>\n",
       "      <td>3.0</td>\n",
       "      <td>3.301030</td>\n",
       "      <td>3.477121</td>\n",
       "    </tr>\n",
       "  </tbody>\n",
       "</table>\n",
       "</div>"
      ],
      "text/plain": [
       "       sample1   sample2   sample3\n",
       "geneA      0.0  0.477121  0.301030\n",
       "geneB      1.0  1.301030  1.477121\n",
       "geneC      2.0  2.301030  2.477121\n",
       "geneD      3.0  3.301030  3.477121"
      ]
     },
     "execution_count": 163,
     "metadata": {},
     "output_type": "execute_result"
    }
   ],
   "source": [
    "np.log10(df1)"
   ]
  },
  {
   "cell_type": "markdown",
   "metadata": {},
   "source": [
    "ユニバーサル関数はシリーズにも適用できるので特定の列や行に対して実行することも可能です。<br>\n",
    "`np.sqrt()`で平方根を計算します。値を更新するには　`df1[\"sample2\"] = np.sqrt(df1[\"sample2\"])` というように代入します。"
   ]
  },
  {
   "cell_type": "code",
   "execution_count": 164,
   "metadata": {},
   "outputs": [
    {
     "name": "stdout",
     "output_type": "stream",
     "text": [
      "geneA     1.732051\n",
      "geneB     4.472136\n",
      "geneC    14.142136\n",
      "geneD    44.721360\n",
      "Name: sample2, dtype: float64\n"
     ]
    }
   ],
   "source": [
    "print(np.sqrt(df1['sample2'])) "
   ]
  },
  {
   "cell_type": "markdown",
   "metadata": {},
   "source": [
    "`np.round()`で四捨五入を計算します。"
   ]
  },
  {
   "cell_type": "code",
   "execution_count": 165,
   "metadata": {},
   "outputs": [
    {
     "data": {
      "text/plain": [
       "A    109.00000\n",
       "B    -53.00000\n",
       "C     56.00000\n",
       "D      0.50000\n",
       "E    575.58579\n",
       "F      0.03460\n",
       "G      0.00000\n",
       "Name: data_10, dtype: float64"
      ]
     },
     "execution_count": 165,
     "metadata": {},
     "output_type": "execute_result"
    }
   ],
   "source": [
    "df3.iloc[1]"
   ]
  },
  {
   "cell_type": "code",
   "execution_count": 166,
   "metadata": {},
   "outputs": [
    {
     "name": "stdout",
     "output_type": "stream",
     "text": [
      "A    109.0\n",
      "B    -53.0\n",
      "C     56.0\n",
      "D      0.0\n",
      "E    576.0\n",
      "F      0.0\n",
      "G      0.0\n",
      "Name: data_10, dtype: float64\n"
     ]
    }
   ],
   "source": [
    "print(np.round(df3.iloc[1]))"
   ]
  },
  {
   "cell_type": "markdown",
   "metadata": {},
   "source": [
    "numpy の集計関数も利用可能です。"
   ]
  },
  {
   "cell_type": "code",
   "execution_count": 167,
   "metadata": {},
   "outputs": [
    {
     "data": {
      "text/plain": [
       "A      2404.698889\n",
       "B      1877.832222\n",
       "C       682.442331\n",
       "D         0.004918\n",
       "E    197282.083194\n",
       "F         0.000677\n",
       "G         0.000699\n",
       "dtype: float64"
      ]
     },
     "execution_count": 167,
     "metadata": {},
     "output_type": "execute_result"
    }
   ],
   "source": [
    "np.var(df3)"
   ]
  },
  {
   "cell_type": "markdown",
   "metadata": {},
   "source": [
    "行方向に適用するときは `axis=1` とします。"
   ]
  },
  {
   "cell_type": "code",
   "execution_count": 168,
   "metadata": {},
   "outputs": [
    {
     "data": {
      "text/plain": [
       "geneA         0.666667\n",
       "geneB        66.666667\n",
       "geneC      6666.666667\n",
       "geneD    666666.666667\n",
       "dtype: float64"
      ]
     },
     "execution_count": 168,
     "metadata": {},
     "output_type": "execute_result"
    }
   ],
   "source": [
    "np.var(df1, axis=1)"
   ]
  },
  {
   "cell_type": "markdown",
   "metadata": {},
   "source": [
    "`np.var()` は平均との差の自乗をデータ数 N で割っていますが、不偏分散（N-1で割る）を求めるには `ddof=1` を指定します。"
   ]
  },
  {
   "cell_type": "code",
   "execution_count": 169,
   "metadata": {},
   "outputs": [
    {
     "data": {
      "text/plain": [
       "sample1     233840.25\n",
       "sample2     934992.25\n",
       "sample3    2105116.00\n",
       "dtype: float64"
      ]
     },
     "execution_count": 169,
     "metadata": {},
     "output_type": "execute_result"
    }
   ],
   "source": [
    "np.var(df1, ddof=1)"
   ]
  },
  {
   "cell_type": "markdown",
   "metadata": {},
   "source": [
    "pandas.DataFrameの`var()`は デフォルトで `ddof=1` として計算されています。"
   ]
  },
  {
   "cell_type": "code",
   "execution_count": 170,
   "metadata": {},
   "outputs": [
    {
     "data": {
      "text/plain": [
       "sample1     233840.25\n",
       "sample2     934992.25\n",
       "sample3    2105116.00\n",
       "dtype: float64"
      ]
     },
     "execution_count": 170,
     "metadata": {},
     "output_type": "execute_result"
    }
   ],
   "source": [
    "df1.var()"
   ]
  },
  {
   "cell_type": "markdown",
   "metadata": {},
   "source": [
    "標準偏差を求めるには `np.std()` または `df.std()` を使用します。"
   ]
  },
  {
   "cell_type": "markdown",
   "metadata": {},
   "source": [
    "#### 2-7-3. map, apply, applymap\n",
    "関数をデータフレームや行・列に適用するのに用います。  \n",
    "ただし、numpy やデータフレームのメソッドに定義されているものはそれを使用した方が処理が早いです。  "
   ]
  },
  {
   "cell_type": "code",
   "execution_count": 171,
   "metadata": {},
   "outputs": [],
   "source": [
    "# テスト用関数: 引数xが文字列であれば小文字に変換、そうでなければ \"-\" を返す\n",
    "def my_lower(x):    \n",
    "    if isinstance(x, str):\n",
    "        return x.lower()\n",
    "    else:\n",
    "        return \"-\""
   ]
  },
  {
   "cell_type": "markdown",
   "metadata": {},
   "source": [
    "シリーズ（データフレームの行・列）の各要素に関数を適用するには `map()` を使います。"
   ]
  },
  {
   "cell_type": "code",
   "execution_count": 172,
   "metadata": {},
   "outputs": [
    {
     "data": {
      "text/html": [
       "<div>\n",
       "<style scoped>\n",
       "    .dataframe tbody tr th:only-of-type {\n",
       "        vertical-align: middle;\n",
       "    }\n",
       "\n",
       "    .dataframe tbody tr th {\n",
       "        vertical-align: top;\n",
       "    }\n",
       "\n",
       "    .dataframe thead th {\n",
       "        text-align: right;\n",
       "    }\n",
       "</style>\n",
       "<table border=\"1\" class=\"dataframe\">\n",
       "  <thead>\n",
       "    <tr style=\"text-align: right;\">\n",
       "      <th></th>\n",
       "      <th>generic_name</th>\n",
       "      <th>specific_name</th>\n",
       "      <th>assemble_version</th>\n",
       "      <th>genome_size</th>\n",
       "      <th>common_name</th>\n",
       "      <th>unicellular</th>\n",
       "    </tr>\n",
       "  </thead>\n",
       "  <tbody>\n",
       "    <tr>\n",
       "      <th>0</th>\n",
       "      <td>Chlamydomonas</td>\n",
       "      <td>reinhardtii</td>\n",
       "      <td>v5.5</td>\n",
       "      <td>111.1</td>\n",
       "      <td>green algae</td>\n",
       "      <td>True</td>\n",
       "    </tr>\n",
       "    <tr>\n",
       "      <th>1</th>\n",
       "      <td>Volvox</td>\n",
       "      <td>carteri</td>\n",
       "      <td>v2.1</td>\n",
       "      <td>131.2</td>\n",
       "      <td>green algae</td>\n",
       "      <td>False</td>\n",
       "    </tr>\n",
       "    <tr>\n",
       "      <th>2</th>\n",
       "      <td>Ostreococcus</td>\n",
       "      <td>lucimarinus</td>\n",
       "      <td>v2.0</td>\n",
       "      <td>13.2</td>\n",
       "      <td>green algae</td>\n",
       "      <td>True</td>\n",
       "    </tr>\n",
       "    <tr>\n",
       "      <th>3</th>\n",
       "      <td>Coccomyxa</td>\n",
       "      <td>subellipsoidea C-169</td>\n",
       "      <td>v2.0</td>\n",
       "      <td>49.0</td>\n",
       "      <td>green algae</td>\n",
       "      <td>True</td>\n",
       "    </tr>\n",
       "    <tr>\n",
       "      <th>4</th>\n",
       "      <td>Marchantia</td>\n",
       "      <td>polymorpha</td>\n",
       "      <td>v3.1</td>\n",
       "      <td>225.8</td>\n",
       "      <td>liverwort</td>\n",
       "      <td>False</td>\n",
       "    </tr>\n",
       "    <tr>\n",
       "      <th>5</th>\n",
       "      <td>Thalassiosira</td>\n",
       "      <td>pseudonana</td>\n",
       "      <td>V3.0</td>\n",
       "      <td>34.0</td>\n",
       "      <td>diatom</td>\n",
       "      <td>True</td>\n",
       "    </tr>\n",
       "  </tbody>\n",
       "</table>\n",
       "</div>"
      ],
      "text/plain": [
       "    generic_name         specific_name assemble_version  genome_size  \\\n",
       "0  Chlamydomonas           reinhardtii             v5.5        111.1   \n",
       "1         Volvox               carteri             v2.1        131.2   \n",
       "2   Ostreococcus           lucimarinus             v2.0         13.2   \n",
       "3      Coccomyxa  subellipsoidea C-169             v2.0         49.0   \n",
       "4     Marchantia            polymorpha             v3.1        225.8   \n",
       "5  Thalassiosira            pseudonana             V3.0         34.0   \n",
       "\n",
       "   common_name  unicellular  \n",
       "0  green algae         True  \n",
       "1  green algae        False  \n",
       "2  green algae         True  \n",
       "3  green algae         True  \n",
       "4    liverwort        False  \n",
       "5       diatom         True  "
      ]
     },
     "execution_count": 172,
     "metadata": {},
     "output_type": "execute_result"
    }
   ],
   "source": [
    "df2"
   ]
  },
  {
   "cell_type": "code",
   "execution_count": 173,
   "metadata": {},
   "outputs": [
    {
     "data": {
      "text/plain": [
       "0    chlamydomonas\n",
       "1           volvox\n",
       "2     ostreococcus\n",
       "3        coccomyxa\n",
       "4       marchantia\n",
       "5    thalassiosira\n",
       "Name: generic_name, dtype: object"
      ]
     },
     "execution_count": 173,
     "metadata": {},
     "output_type": "execute_result"
    }
   ],
   "source": [
    "df2['generic_name'].map(my_lower)"
   ]
  },
  {
   "cell_type": "markdown",
   "metadata": {},
   "source": [
    "データフレームの各要素に関数を適用するには `applymap()` を使います。"
   ]
  },
  {
   "cell_type": "code",
   "execution_count": 174,
   "metadata": {},
   "outputs": [
    {
     "data": {
      "text/html": [
       "<div>\n",
       "<style scoped>\n",
       "    .dataframe tbody tr th:only-of-type {\n",
       "        vertical-align: middle;\n",
       "    }\n",
       "\n",
       "    .dataframe tbody tr th {\n",
       "        vertical-align: top;\n",
       "    }\n",
       "\n",
       "    .dataframe thead th {\n",
       "        text-align: right;\n",
       "    }\n",
       "</style>\n",
       "<table border=\"1\" class=\"dataframe\">\n",
       "  <thead>\n",
       "    <tr style=\"text-align: right;\">\n",
       "      <th></th>\n",
       "      <th>generic_name</th>\n",
       "      <th>specific_name</th>\n",
       "      <th>assemble_version</th>\n",
       "      <th>genome_size</th>\n",
       "      <th>common_name</th>\n",
       "      <th>unicellular</th>\n",
       "    </tr>\n",
       "  </thead>\n",
       "  <tbody>\n",
       "    <tr>\n",
       "      <th>0</th>\n",
       "      <td>chlamydomonas</td>\n",
       "      <td>reinhardtii</td>\n",
       "      <td>v5.5</td>\n",
       "      <td>-</td>\n",
       "      <td>green algae</td>\n",
       "      <td>-</td>\n",
       "    </tr>\n",
       "    <tr>\n",
       "      <th>1</th>\n",
       "      <td>volvox</td>\n",
       "      <td>carteri</td>\n",
       "      <td>v2.1</td>\n",
       "      <td>-</td>\n",
       "      <td>green algae</td>\n",
       "      <td>-</td>\n",
       "    </tr>\n",
       "    <tr>\n",
       "      <th>2</th>\n",
       "      <td>ostreococcus</td>\n",
       "      <td>lucimarinus</td>\n",
       "      <td>v2.0</td>\n",
       "      <td>-</td>\n",
       "      <td>green algae</td>\n",
       "      <td>-</td>\n",
       "    </tr>\n",
       "    <tr>\n",
       "      <th>3</th>\n",
       "      <td>coccomyxa</td>\n",
       "      <td>subellipsoidea c-169</td>\n",
       "      <td>v2.0</td>\n",
       "      <td>-</td>\n",
       "      <td>green algae</td>\n",
       "      <td>-</td>\n",
       "    </tr>\n",
       "    <tr>\n",
       "      <th>4</th>\n",
       "      <td>marchantia</td>\n",
       "      <td>polymorpha</td>\n",
       "      <td>v3.1</td>\n",
       "      <td>-</td>\n",
       "      <td>liverwort</td>\n",
       "      <td>-</td>\n",
       "    </tr>\n",
       "    <tr>\n",
       "      <th>5</th>\n",
       "      <td>thalassiosira</td>\n",
       "      <td>pseudonana</td>\n",
       "      <td>v3.0</td>\n",
       "      <td>-</td>\n",
       "      <td>diatom</td>\n",
       "      <td>-</td>\n",
       "    </tr>\n",
       "  </tbody>\n",
       "</table>\n",
       "</div>"
      ],
      "text/plain": [
       "    generic_name         specific_name assemble_version genome_size  \\\n",
       "0  chlamydomonas           reinhardtii             v5.5           -   \n",
       "1         volvox               carteri             v2.1           -   \n",
       "2   ostreococcus           lucimarinus             v2.0           -   \n",
       "3      coccomyxa  subellipsoidea c-169             v2.0           -   \n",
       "4     marchantia            polymorpha             v3.1           -   \n",
       "5  thalassiosira            pseudonana             v3.0           -   \n",
       "\n",
       "   common_name unicellular  \n",
       "0  green algae           -  \n",
       "1  green algae           -  \n",
       "2  green algae           -  \n",
       "3  green algae           -  \n",
       "4    liverwort           -  \n",
       "5       diatom           -  "
      ]
     },
     "execution_count": 174,
     "metadata": {},
     "output_type": "execute_result"
    }
   ],
   "source": [
    "df2.applymap(my_lower)"
   ]
  },
  {
   "cell_type": "markdown",
   "metadata": {},
   "source": [
    "より複雑な関数をシリーズ（データフレームの行・列）の各要素に適用するには `pandas.Series` の `apply()` を使います。<br>\n",
    "`Series.apply(func, convert_dtype=True, args=(), **kwds)`<br>\n",
    "\n",
    "オプション`args`に引数をタプルとして与えることができます。"
   ]
  },
  {
   "cell_type": "code",
   "execution_count": 175,
   "metadata": {},
   "outputs": [],
   "source": [
    "# テスト用関数その2: 第一引数 x が数値であれば、小数第 n 位までの概数にする(nは負の値も可)\n",
    "def my_round(x, n):\n",
    "    if isinstance(x, int) or isinstance(x, float):\n",
    "        return round(x, n)\n",
    "    else:\n",
    "        return np.NaN"
   ]
  },
  {
   "cell_type": "markdown",
   "metadata": {},
   "source": [
    "シリーズの各値について、小数第二位までの概数にします。"
   ]
  },
  {
   "cell_type": "code",
   "execution_count": 176,
   "metadata": {},
   "outputs": [],
   "source": [
    "test_s = pd.Series([3.89, 2.192, 15.3921, 43.903, 390.083, 239.622])"
   ]
  },
  {
   "cell_type": "markdown",
   "metadata": {},
   "source": [
    "`args` に第二引数以降の引数をタプルとして与えます。要素数１のタプルなので `(2,) `と書きます。"
   ]
  },
  {
   "cell_type": "code",
   "execution_count": 177,
   "metadata": {},
   "outputs": [
    {
     "data": {
      "text/plain": [
       "0      3.89\n",
       "1      2.19\n",
       "2     15.39\n",
       "3     43.90\n",
       "4    390.08\n",
       "5    239.62\n",
       "dtype: float64"
      ]
     },
     "execution_count": 177,
     "metadata": {},
     "output_type": "execute_result"
    }
   ],
   "source": [
    "test_s.apply(my_round, args=(2,))  "
   ]
  },
  {
   "cell_type": "markdown",
   "metadata": {},
   "source": [
    "データフレームの行または列ごとに関数を適用するには, `pandas.DataFrame` の `apply()` を使います。<br>\n",
    "`pandas.DataFrame` の `apply()` と `pandas.Series` の `apply()` は使い方が異なるので注意してください。<br> \n",
    "\n",
    "`df1.apply(func, axis=0, broadcast=False, raw=False, reduce=None, args=(), **kwds)`"
   ]
  },
  {
   "cell_type": "code",
   "execution_count": 178,
   "metadata": {},
   "outputs": [],
   "source": [
    "# テスト用集計関数: シリーズ (データフレームの行 or 列)を受け取り, thresholdより値が大きいものの個数を返す\n",
    "def count_larger_than(S, threshold=0):\n",
    "    assert isinstance(S, pd.core.series.Series)  # Sがシリーズであるかチェックを行っている\n",
    "    return len([x for x in S if x > threshold])"
   ]
  },
  {
   "cell_type": "markdown",
   "metadata": {},
   "source": [
    "関数の動作確認をしておきます。"
   ]
  },
  {
   "cell_type": "code",
   "execution_count": 179,
   "metadata": {},
   "outputs": [
    {
     "data": {
      "text/plain": [
       "2"
      ]
     },
     "execution_count": 179,
     "metadata": {},
     "output_type": "execute_result"
    }
   ],
   "source": [
    "s_test = pd.Series([1,3,5,6,8])\n",
    "count_larger_than(s_test, 5)"
   ]
  },
  {
   "cell_type": "code",
   "execution_count": 180,
   "metadata": {},
   "outputs": [
    {
     "data": {
      "text/html": [
       "<div>\n",
       "<style scoped>\n",
       "    .dataframe tbody tr th:only-of-type {\n",
       "        vertical-align: middle;\n",
       "    }\n",
       "\n",
       "    .dataframe tbody tr th {\n",
       "        vertical-align: top;\n",
       "    }\n",
       "\n",
       "    .dataframe thead th {\n",
       "        text-align: right;\n",
       "    }\n",
       "</style>\n",
       "<table border=\"1\" class=\"dataframe\">\n",
       "  <thead>\n",
       "    <tr style=\"text-align: right;\">\n",
       "      <th></th>\n",
       "      <th>sample1</th>\n",
       "      <th>sample2</th>\n",
       "      <th>sample3</th>\n",
       "    </tr>\n",
       "  </thead>\n",
       "  <tbody>\n",
       "    <tr>\n",
       "      <th>geneA</th>\n",
       "      <td>1.0</td>\n",
       "      <td>3.0</td>\n",
       "      <td>2.0</td>\n",
       "    </tr>\n",
       "    <tr>\n",
       "      <th>geneB</th>\n",
       "      <td>10.0</td>\n",
       "      <td>20.0</td>\n",
       "      <td>30.0</td>\n",
       "    </tr>\n",
       "    <tr>\n",
       "      <th>geneC</th>\n",
       "      <td>100.0</td>\n",
       "      <td>200.0</td>\n",
       "      <td>300.0</td>\n",
       "    </tr>\n",
       "    <tr>\n",
       "      <th>geneD</th>\n",
       "      <td>1000.0</td>\n",
       "      <td>2000.0</td>\n",
       "      <td>3000.0</td>\n",
       "    </tr>\n",
       "  </tbody>\n",
       "</table>\n",
       "</div>"
      ],
      "text/plain": [
       "       sample1  sample2  sample3\n",
       "geneA      1.0      3.0      2.0\n",
       "geneB     10.0     20.0     30.0\n",
       "geneC    100.0    200.0    300.0\n",
       "geneD   1000.0   2000.0   3000.0"
      ]
     },
     "execution_count": 180,
     "metadata": {},
     "output_type": "execute_result"
    }
   ],
   "source": [
    "df1"
   ]
  },
  {
   "cell_type": "markdown",
   "metadata": {},
   "source": [
    "`count_larger_than` 関数を各列に適用します。"
   ]
  },
  {
   "cell_type": "code",
   "execution_count": 181,
   "metadata": {},
   "outputs": [
    {
     "data": {
      "text/plain": [
       "sample1    2\n",
       "sample2    3\n",
       "sample3    3\n",
       "dtype: int64"
      ]
     },
     "execution_count": 181,
     "metadata": {},
     "output_type": "execute_result"
    }
   ],
   "source": [
    "df1.apply(count_larger_than, args=(10,))"
   ]
  },
  {
   "cell_type": "markdown",
   "metadata": {},
   "source": [
    "`count_larger_than` 関数を `axis=1` を指定して各行に適用します。"
   ]
  },
  {
   "cell_type": "code",
   "execution_count": 379,
   "metadata": {},
   "outputs": [
    {
     "data": {
      "text/plain": [
       "geneA    0\n",
       "geneB    2\n",
       "geneC    3\n",
       "geneD    3\n",
       "dtype: int64"
      ]
     },
     "execution_count": 379,
     "metadata": {},
     "output_type": "execute_result"
    }
   ],
   "source": [
    "df1.apply(count_larger_than, args=(10,), axis=1)"
   ]
  },
  {
   "cell_type": "code",
   "execution_count": 182,
   "metadata": {},
   "outputs": [],
   "source": [
    "# シリーズを受け取ってシリーズまたはリストを返す関数\n",
    "def my_cumproduct(S):\n",
    "    L = []\n",
    "    current = 1\n",
    "    for x in S:\n",
    "        current *= x\n",
    "        L.append(current)\n",
    "    return L"
   ]
  },
  {
   "cell_type": "code",
   "execution_count": 183,
   "metadata": {},
   "outputs": [
    {
     "data": {
      "text/plain": [
       "[10, 200, 6000]"
      ]
     },
     "execution_count": 183,
     "metadata": {},
     "output_type": "execute_result"
    }
   ],
   "source": [
    "# 動作確認\n",
    "my_cumproduct(pd.Series([10,20,30]))"
   ]
  },
  {
   "cell_type": "code",
   "execution_count": 184,
   "metadata": {},
   "outputs": [
    {
     "data": {
      "text/html": [
       "<div>\n",
       "<style scoped>\n",
       "    .dataframe tbody tr th:only-of-type {\n",
       "        vertical-align: middle;\n",
       "    }\n",
       "\n",
       "    .dataframe tbody tr th {\n",
       "        vertical-align: top;\n",
       "    }\n",
       "\n",
       "    .dataframe thead th {\n",
       "        text-align: right;\n",
       "    }\n",
       "</style>\n",
       "<table border=\"1\" class=\"dataframe\">\n",
       "  <thead>\n",
       "    <tr style=\"text-align: right;\">\n",
       "      <th></th>\n",
       "      <th>sample1</th>\n",
       "      <th>sample2</th>\n",
       "      <th>sample3</th>\n",
       "    </tr>\n",
       "  </thead>\n",
       "  <tbody>\n",
       "    <tr>\n",
       "      <th>geneA</th>\n",
       "      <td>1.0</td>\n",
       "      <td>3.0</td>\n",
       "      <td>2.0</td>\n",
       "    </tr>\n",
       "    <tr>\n",
       "      <th>geneB</th>\n",
       "      <td>10.0</td>\n",
       "      <td>60.0</td>\n",
       "      <td>60.0</td>\n",
       "    </tr>\n",
       "    <tr>\n",
       "      <th>geneC</th>\n",
       "      <td>1000.0</td>\n",
       "      <td>12000.0</td>\n",
       "      <td>18000.0</td>\n",
       "    </tr>\n",
       "    <tr>\n",
       "      <th>geneD</th>\n",
       "      <td>1000000.0</td>\n",
       "      <td>24000000.0</td>\n",
       "      <td>54000000.0</td>\n",
       "    </tr>\n",
       "  </tbody>\n",
       "</table>\n",
       "</div>"
      ],
      "text/plain": [
       "         sample1     sample2     sample3\n",
       "geneA        1.0         3.0         2.0\n",
       "geneB       10.0        60.0        60.0\n",
       "geneC     1000.0     12000.0     18000.0\n",
       "geneD  1000000.0  24000000.0  54000000.0"
      ]
     },
     "execution_count": 184,
     "metadata": {},
     "output_type": "execute_result"
    }
   ],
   "source": [
    "df1.apply(my_cumproduct)"
   ]
  },
  {
   "cell_type": "code",
   "execution_count": 185,
   "metadata": {},
   "outputs": [],
   "source": [
    "# 関数を作る:Seriesを引数として受け取り, Zスコア（平均値を引いた後、標準偏差で割る）に変換してSeriesとして返す\n",
    "def zscore(S):\n",
    "    mean = S.mean()  # 平均\n",
    "    stdv = S.std()  # 標準偏差\n",
    "    return (S - mean) / stdv"
   ]
  },
  {
   "cell_type": "code",
   "execution_count": 186,
   "metadata": {},
   "outputs": [
    {
     "data": {
      "text/html": [
       "<div>\n",
       "<style scoped>\n",
       "    .dataframe tbody tr th:only-of-type {\n",
       "        vertical-align: middle;\n",
       "    }\n",
       "\n",
       "    .dataframe tbody tr th {\n",
       "        vertical-align: top;\n",
       "    }\n",
       "\n",
       "    .dataframe thead th {\n",
       "        text-align: right;\n",
       "    }\n",
       "</style>\n",
       "<table border=\"1\" class=\"dataframe\">\n",
       "  <thead>\n",
       "    <tr style=\"text-align: right;\">\n",
       "      <th></th>\n",
       "      <th>sample1</th>\n",
       "      <th>sample2</th>\n",
       "      <th>sample3</th>\n",
       "    </tr>\n",
       "  </thead>\n",
       "  <tbody>\n",
       "    <tr>\n",
       "      <th>geneA</th>\n",
       "      <td>-0.572306</td>\n",
       "      <td>-0.571643</td>\n",
       "      <td>-0.572747</td>\n",
       "    </tr>\n",
       "    <tr>\n",
       "      <th>geneB</th>\n",
       "      <td>-0.553694</td>\n",
       "      <td>-0.554062</td>\n",
       "      <td>-0.553449</td>\n",
       "    </tr>\n",
       "    <tr>\n",
       "      <th>geneC</th>\n",
       "      <td>-0.367578</td>\n",
       "      <td>-0.367909</td>\n",
       "      <td>-0.367358</td>\n",
       "    </tr>\n",
       "    <tr>\n",
       "      <th>geneD</th>\n",
       "      <td>1.493578</td>\n",
       "      <td>1.493614</td>\n",
       "      <td>1.493554</td>\n",
       "    </tr>\n",
       "  </tbody>\n",
       "</table>\n",
       "</div>"
      ],
      "text/plain": [
       "        sample1   sample2   sample3\n",
       "geneA -0.572306 -0.571643 -0.572747\n",
       "geneB -0.553694 -0.554062 -0.553449\n",
       "geneC -0.367578 -0.367909 -0.367358\n",
       "geneD  1.493578  1.493614  1.493554"
      ]
     },
     "execution_count": 186,
     "metadata": {},
     "output_type": "execute_result"
    }
   ],
   "source": [
    "df1.apply(zscore)"
   ]
  },
  {
   "cell_type": "markdown",
   "metadata": {},
   "source": [
    "`apply()` を使わずに計算することも可能です。"
   ]
  },
  {
   "cell_type": "code",
   "execution_count": 187,
   "metadata": {},
   "outputs": [
    {
     "data": {
      "text/html": [
       "<div>\n",
       "<style scoped>\n",
       "    .dataframe tbody tr th:only-of-type {\n",
       "        vertical-align: middle;\n",
       "    }\n",
       "\n",
       "    .dataframe tbody tr th {\n",
       "        vertical-align: top;\n",
       "    }\n",
       "\n",
       "    .dataframe thead th {\n",
       "        text-align: right;\n",
       "    }\n",
       "</style>\n",
       "<table border=\"1\" class=\"dataframe\">\n",
       "  <thead>\n",
       "    <tr style=\"text-align: right;\">\n",
       "      <th></th>\n",
       "      <th>sample1</th>\n",
       "      <th>sample2</th>\n",
       "      <th>sample3</th>\n",
       "    </tr>\n",
       "  </thead>\n",
       "  <tbody>\n",
       "    <tr>\n",
       "      <th>geneA</th>\n",
       "      <td>-0.572306</td>\n",
       "      <td>-0.571643</td>\n",
       "      <td>-0.572747</td>\n",
       "    </tr>\n",
       "    <tr>\n",
       "      <th>geneB</th>\n",
       "      <td>-0.553694</td>\n",
       "      <td>-0.554062</td>\n",
       "      <td>-0.553449</td>\n",
       "    </tr>\n",
       "    <tr>\n",
       "      <th>geneC</th>\n",
       "      <td>-0.367578</td>\n",
       "      <td>-0.367909</td>\n",
       "      <td>-0.367358</td>\n",
       "    </tr>\n",
       "    <tr>\n",
       "      <th>geneD</th>\n",
       "      <td>1.493578</td>\n",
       "      <td>1.493614</td>\n",
       "      <td>1.493554</td>\n",
       "    </tr>\n",
       "  </tbody>\n",
       "</table>\n",
       "</div>"
      ],
      "text/plain": [
       "        sample1   sample2   sample3\n",
       "geneA -0.572306 -0.571643 -0.572747\n",
       "geneB -0.553694 -0.554062 -0.553449\n",
       "geneC -0.367578 -0.367909 -0.367358\n",
       "geneD  1.493578  1.493614  1.493554"
      ]
     },
     "execution_count": 187,
     "metadata": {},
     "output_type": "execute_result"
    }
   ],
   "source": [
    "mean = df1.mean()\n",
    "stdev = df1.std()\n",
    "(df1-mean)/stdev"
   ]
  },
  {
   "cell_type": "markdown",
   "metadata": {},
   "source": [
    "### 2-8. 行・列のループ処理\n",
    "#### 2-8-1. データフレームをそのままループで回す"
   ]
  },
  {
   "cell_type": "markdown",
   "metadata": {},
   "source": [
    "列名が順に取り出されます。"
   ]
  },
  {
   "cell_type": "code",
   "execution_count": 188,
   "metadata": {},
   "outputs": [
    {
     "data": {
      "text/html": [
       "<div>\n",
       "<style scoped>\n",
       "    .dataframe tbody tr th:only-of-type {\n",
       "        vertical-align: middle;\n",
       "    }\n",
       "\n",
       "    .dataframe tbody tr th {\n",
       "        vertical-align: top;\n",
       "    }\n",
       "\n",
       "    .dataframe thead th {\n",
       "        text-align: right;\n",
       "    }\n",
       "</style>\n",
       "<table border=\"1\" class=\"dataframe\">\n",
       "  <thead>\n",
       "    <tr style=\"text-align: right;\">\n",
       "      <th></th>\n",
       "      <th>sample1</th>\n",
       "      <th>sample2</th>\n",
       "      <th>sample3</th>\n",
       "    </tr>\n",
       "  </thead>\n",
       "  <tbody>\n",
       "    <tr>\n",
       "      <th>geneA</th>\n",
       "      <td>1.0</td>\n",
       "      <td>3.0</td>\n",
       "      <td>2.0</td>\n",
       "    </tr>\n",
       "    <tr>\n",
       "      <th>geneB</th>\n",
       "      <td>10.0</td>\n",
       "      <td>20.0</td>\n",
       "      <td>30.0</td>\n",
       "    </tr>\n",
       "    <tr>\n",
       "      <th>geneC</th>\n",
       "      <td>100.0</td>\n",
       "      <td>200.0</td>\n",
       "      <td>300.0</td>\n",
       "    </tr>\n",
       "    <tr>\n",
       "      <th>geneD</th>\n",
       "      <td>1000.0</td>\n",
       "      <td>2000.0</td>\n",
       "      <td>3000.0</td>\n",
       "    </tr>\n",
       "  </tbody>\n",
       "</table>\n",
       "</div>"
      ],
      "text/plain": [
       "       sample1  sample2  sample3\n",
       "geneA      1.0      3.0      2.0\n",
       "geneB     10.0     20.0     30.0\n",
       "geneC    100.0    200.0    300.0\n",
       "geneD   1000.0   2000.0   3000.0"
      ]
     },
     "execution_count": 188,
     "metadata": {},
     "output_type": "execute_result"
    }
   ],
   "source": [
    "df1"
   ]
  },
  {
   "cell_type": "code",
   "execution_count": 189,
   "metadata": {},
   "outputs": [
    {
     "name": "stdout",
     "output_type": "stream",
     "text": [
      "sample1 <class 'str'>\n",
      "sample2 <class 'str'>\n",
      "sample3 <class 'str'>\n"
     ]
    }
   ],
   "source": [
    "for x in df1:\n",
    "    print(x, type(x))"
   ]
  },
  {
   "cell_type": "markdown",
   "metadata": {},
   "source": [
    "#### 2-8-2. 1行ずつ取り出す iterrows( )\n",
    "`iterrows()`を使うと、各行のインデックスおよび行データがタプルとして取り出せます。  \n",
    "行データの形式はシリーズになっています。"
   ]
  },
  {
   "cell_type": "code",
   "execution_count": 190,
   "metadata": {},
   "outputs": [
    {
     "name": "stdout",
     "output_type": "stream",
     "text": [
      "INDEX = geneA\n",
      "[1.0, 3.0, 2.0]\n",
      "-----\n",
      "INDEX = geneB\n",
      "[10.0, 20.0, 30.0]\n",
      "-----\n",
      "INDEX = geneC\n",
      "[100.0, 200.0, 300.0]\n",
      "-----\n",
      "INDEX = geneD\n",
      "[1000.0, 2000.0, 3000.0]\n",
      "-----\n"
     ]
    }
   ],
   "source": [
    "for index, row in df1.iterrows():\n",
    "    print(\"INDEX =\", index)\n",
    "    print(list(row))\n",
    "    print(\"-----\")"
   ]
  },
  {
   "cell_type": "markdown",
   "metadata": {},
   "source": [
    "#### 2-8-3. 1列ずつ取り出す iteritems( )\n",
    "`iteritems()`を使うと、各列の列名および列データがタプルとして取り出せる。  \n",
    "列データの形式はシリーズになっています。"
   ]
  },
  {
   "cell_type": "code",
   "execution_count": 191,
   "metadata": {},
   "outputs": [
    {
     "name": "stdout",
     "output_type": "stream",
     "text": [
      "Column name = sample1\n",
      "[1.0, 10.0, 100.0, 1000.0]\n",
      "-----\n",
      "Column name = sample2\n",
      "[3.0, 20.0, 200.0, 2000.0]\n",
      "-----\n",
      "Column name = sample3\n",
      "[2.0, 30.0, 300.0, 3000.0]\n",
      "-----\n"
     ]
    }
   ],
   "source": [
    "for col_name, col in df1.iteritems():\n",
    "    print(\"Column name =\", col_name)\n",
    "    print(list(col))\n",
    "    print(\"-----\")    "
   ]
  },
  {
   "cell_type": "markdown",
   "metadata": {},
   "source": [
    "#### 2-8-4. forループを使う場合の注意点\n",
    "N行x100列のテストデータの各要素を四捨五入した値に書き換える処理にかかる時間を, <br>\n",
    "ループ処理, または `applymap()` を使った処理で比べてみましょう。<br>"
   ]
  },
  {
   "cell_type": "markdown",
   "metadata": {},
   "source": [
    "テストデータ `test_df` を作ります。各データは　0~10　のランダムな小数です。"
   ]
  },
  {
   "cell_type": "code",
   "execution_count": 192,
   "metadata": {},
   "outputs": [],
   "source": [
    "N=100\n",
    "test_df = pd.DataFrame(np.random.rand(N, 100) * 10)"
   ]
  },
  {
   "cell_type": "code",
   "execution_count": 193,
   "metadata": {},
   "outputs": [
    {
     "name": "stdout",
     "output_type": "stream",
     "text": [
      "CPU times: user 1.69 s, sys: 20.4 ms, total: 1.71 s\n",
      "Wall time: 1.69 s\n"
     ]
    }
   ],
   "source": [
    "%%time\n",
    "# データフレームをループでまわして、各要素を四捨五入した値に書き換える処理\n",
    "# locを使う\n",
    "for row_index, row in test_df.iterrows():\n",
    "    for column_index in row.index:\n",
    "        test_df.loc[row_index, column_index] = round(test_df.loc[row_index, column_index])\n",
    "        # test_df.at[row_index, column_index] = round(test_df.at[row_index, column_index])"
   ]
  },
  {
   "cell_type": "markdown",
   "metadata": {},
   "source": [
    "これは, forループ自体が遅いわけではなく, ループの中で処理に時間がかかっています。<br>\n",
    "`loc` を使った要素の参照・書き換えを行なっているのが遅くなる要因です。<br>\n",
    "`loc` のかわりに `at` を使うと0.2秒程度まで改善されます。"
   ]
  },
  {
   "cell_type": "code",
   "execution_count": 194,
   "metadata": {},
   "outputs": [],
   "source": [
    "N=100\n",
    "test_df = pd.DataFrame(np.random.rand(N, 100) * 10)"
   ]
  },
  {
   "cell_type": "code",
   "execution_count": 195,
   "metadata": {},
   "outputs": [
    {
     "name": "stdout",
     "output_type": "stream",
     "text": [
      "CPU times: user 125 ms, sys: 1.45 ms, total: 126 ms\n",
      "Wall time: 125 ms\n"
     ]
    }
   ],
   "source": [
    "%%time\n",
    "# データフレームをループでまわして、各要素を四捨五入した値に書き換える処理\n",
    "# atを使う\n",
    "for row_index, row in test_df.iterrows():\n",
    "    for column_index in row.index:       \n",
    "        test_df.at[row_index, column_index] = round(test_df.at[row_index, column_index])"
   ]
  },
  {
   "cell_type": "code",
   "execution_count": 196,
   "metadata": {},
   "outputs": [],
   "source": [
    "N=100\n",
    "test_df = pd.DataFrame(np.random.rand(N, 100) * 10)"
   ]
  },
  {
   "cell_type": "code",
   "execution_count": 197,
   "metadata": {},
   "outputs": [
    {
     "name": "stdout",
     "output_type": "stream",
     "text": [
      "CPU times: user 16 ms, sys: 1.25 ms, total: 17.3 ms\n",
      "Wall time: 16.2 ms\n"
     ]
    }
   ],
   "source": [
    "%%time\n",
    "# ループを使わずに、applymapを使って各要素を四捨五入した値に書き換える処理\n",
    "test_df = test_df.applymap(round)"
   ]
  },
  {
   "cell_type": "markdown",
   "metadata": {},
   "source": [
    "forループの中で時間のかかる処理を行うとパフォーマンスが落ちます。<br>\n",
    "一般的には, \n",
    "1. numpy や pandas の関数・メソッドを使用  \n",
    "2. apply や applymap で行・列・データフレーム全体に関数を適用する  \n",
    "3. for ループを回して処理する  \n",
    "\n",
    "の順にパフォーマンスが低下します。"
   ]
  },
  {
   "cell_type": "markdown",
   "metadata": {},
   "source": [
    "### 2-9. データフレームの結合\n",
    "#### 2-9-1.  concat( )\n",
    "2つ（またはそれ以上）のデータフレームを縦・横方向に連結します。共通するインデックスや列ラベルがあれば, それらを利用して結び付けられます。"
   ]
  },
  {
   "cell_type": "code",
   "execution_count": 198,
   "metadata": {},
   "outputs": [],
   "source": [
    "df_A = pd.DataFrame([['A0','A1','A2'],\n",
    "                     ['B0','B1','B2'],\n",
    "                     ['C0','C1','C2'],\n",
    "                     ['D0','D1','D2']],\n",
    "                    columns=[0,1,2],\n",
    "                    index=['A','B','C','D'])\n",
    "df_B = pd.DataFrame([['E0','E1','E2','E3'],\n",
    "                     ['F0','F1','F2','F3'],\n",
    "                     ['G0','G1','G2','G3'],\n",
    "                     ['H0','H1','H2','H3']],\n",
    "                    columns=[0,1,2,3],\n",
    "                    index=['E','F','G','H'])\n",
    "df_C = pd.DataFrame([['A3','A4','A5'],\n",
    "                     ['B3','B4','B5'],\n",
    "                     ['C3','C4','C5'],\n",
    "                     ['D3','D4','D5']],\n",
    "                    columns=[3,4,5],\n",
    "                    index=['A','B','C','D'])"
   ]
  },
  {
   "cell_type": "code",
   "execution_count": 199,
   "metadata": {},
   "outputs": [
    {
     "data": {
      "text/html": [
       "<div>\n",
       "<style scoped>\n",
       "    .dataframe tbody tr th:only-of-type {\n",
       "        vertical-align: middle;\n",
       "    }\n",
       "\n",
       "    .dataframe tbody tr th {\n",
       "        vertical-align: top;\n",
       "    }\n",
       "\n",
       "    .dataframe thead th {\n",
       "        text-align: right;\n",
       "    }\n",
       "</style>\n",
       "<table border=\"1\" class=\"dataframe\">\n",
       "  <thead>\n",
       "    <tr style=\"text-align: right;\">\n",
       "      <th></th>\n",
       "      <th>0</th>\n",
       "      <th>1</th>\n",
       "      <th>2</th>\n",
       "    </tr>\n",
       "  </thead>\n",
       "  <tbody>\n",
       "    <tr>\n",
       "      <th>A</th>\n",
       "      <td>A0</td>\n",
       "      <td>A1</td>\n",
       "      <td>A2</td>\n",
       "    </tr>\n",
       "    <tr>\n",
       "      <th>B</th>\n",
       "      <td>B0</td>\n",
       "      <td>B1</td>\n",
       "      <td>B2</td>\n",
       "    </tr>\n",
       "    <tr>\n",
       "      <th>C</th>\n",
       "      <td>C0</td>\n",
       "      <td>C1</td>\n",
       "      <td>C2</td>\n",
       "    </tr>\n",
       "    <tr>\n",
       "      <th>D</th>\n",
       "      <td>D0</td>\n",
       "      <td>D1</td>\n",
       "      <td>D2</td>\n",
       "    </tr>\n",
       "  </tbody>\n",
       "</table>\n",
       "</div>"
      ],
      "text/plain": [
       "    0   1   2\n",
       "A  A0  A1  A2\n",
       "B  B0  B1  B2\n",
       "C  C0  C1  C2\n",
       "D  D0  D1  D2"
      ]
     },
     "execution_count": 199,
     "metadata": {},
     "output_type": "execute_result"
    }
   ],
   "source": [
    "df_A"
   ]
  },
  {
   "cell_type": "code",
   "execution_count": 200,
   "metadata": {},
   "outputs": [
    {
     "data": {
      "text/html": [
       "<div>\n",
       "<style scoped>\n",
       "    .dataframe tbody tr th:only-of-type {\n",
       "        vertical-align: middle;\n",
       "    }\n",
       "\n",
       "    .dataframe tbody tr th {\n",
       "        vertical-align: top;\n",
       "    }\n",
       "\n",
       "    .dataframe thead th {\n",
       "        text-align: right;\n",
       "    }\n",
       "</style>\n",
       "<table border=\"1\" class=\"dataframe\">\n",
       "  <thead>\n",
       "    <tr style=\"text-align: right;\">\n",
       "      <th></th>\n",
       "      <th>0</th>\n",
       "      <th>1</th>\n",
       "      <th>2</th>\n",
       "      <th>3</th>\n",
       "    </tr>\n",
       "  </thead>\n",
       "  <tbody>\n",
       "    <tr>\n",
       "      <th>E</th>\n",
       "      <td>E0</td>\n",
       "      <td>E1</td>\n",
       "      <td>E2</td>\n",
       "      <td>E3</td>\n",
       "    </tr>\n",
       "    <tr>\n",
       "      <th>F</th>\n",
       "      <td>F0</td>\n",
       "      <td>F1</td>\n",
       "      <td>F2</td>\n",
       "      <td>F3</td>\n",
       "    </tr>\n",
       "    <tr>\n",
       "      <th>G</th>\n",
       "      <td>G0</td>\n",
       "      <td>G1</td>\n",
       "      <td>G2</td>\n",
       "      <td>G3</td>\n",
       "    </tr>\n",
       "    <tr>\n",
       "      <th>H</th>\n",
       "      <td>H0</td>\n",
       "      <td>H1</td>\n",
       "      <td>H2</td>\n",
       "      <td>H3</td>\n",
       "    </tr>\n",
       "  </tbody>\n",
       "</table>\n",
       "</div>"
      ],
      "text/plain": [
       "    0   1   2   3\n",
       "E  E0  E1  E2  E3\n",
       "F  F0  F1  F2  F3\n",
       "G  G0  G1  G2  G3\n",
       "H  H0  H1  H2  H3"
      ]
     },
     "execution_count": 200,
     "metadata": {},
     "output_type": "execute_result"
    }
   ],
   "source": [
    "df_B"
   ]
  },
  {
   "cell_type": "code",
   "execution_count": 201,
   "metadata": {},
   "outputs": [
    {
     "data": {
      "text/html": [
       "<div>\n",
       "<style scoped>\n",
       "    .dataframe tbody tr th:only-of-type {\n",
       "        vertical-align: middle;\n",
       "    }\n",
       "\n",
       "    .dataframe tbody tr th {\n",
       "        vertical-align: top;\n",
       "    }\n",
       "\n",
       "    .dataframe thead th {\n",
       "        text-align: right;\n",
       "    }\n",
       "</style>\n",
       "<table border=\"1\" class=\"dataframe\">\n",
       "  <thead>\n",
       "    <tr style=\"text-align: right;\">\n",
       "      <th></th>\n",
       "      <th>3</th>\n",
       "      <th>4</th>\n",
       "      <th>5</th>\n",
       "    </tr>\n",
       "  </thead>\n",
       "  <tbody>\n",
       "    <tr>\n",
       "      <th>A</th>\n",
       "      <td>A3</td>\n",
       "      <td>A4</td>\n",
       "      <td>A5</td>\n",
       "    </tr>\n",
       "    <tr>\n",
       "      <th>B</th>\n",
       "      <td>B3</td>\n",
       "      <td>B4</td>\n",
       "      <td>B5</td>\n",
       "    </tr>\n",
       "    <tr>\n",
       "      <th>C</th>\n",
       "      <td>C3</td>\n",
       "      <td>C4</td>\n",
       "      <td>C5</td>\n",
       "    </tr>\n",
       "    <tr>\n",
       "      <th>D</th>\n",
       "      <td>D3</td>\n",
       "      <td>D4</td>\n",
       "      <td>D5</td>\n",
       "    </tr>\n",
       "  </tbody>\n",
       "</table>\n",
       "</div>"
      ],
      "text/plain": [
       "    3   4   5\n",
       "A  A3  A4  A5\n",
       "B  B3  B4  B5\n",
       "C  C3  C4  C5\n",
       "D  D3  D4  D5"
      ]
     },
     "execution_count": 201,
     "metadata": {},
     "output_type": "execute_result"
    }
   ],
   "source": [
    "df_C"
   ]
  },
  {
   "cell_type": "markdown",
   "metadata": {},
   "source": [
    "`df_A`, `df_B`を縦に連結します。"
   ]
  },
  {
   "cell_type": "code",
   "execution_count": 202,
   "metadata": {},
   "outputs": [
    {
     "data": {
      "text/html": [
       "<div>\n",
       "<style scoped>\n",
       "    .dataframe tbody tr th:only-of-type {\n",
       "        vertical-align: middle;\n",
       "    }\n",
       "\n",
       "    .dataframe tbody tr th {\n",
       "        vertical-align: top;\n",
       "    }\n",
       "\n",
       "    .dataframe thead th {\n",
       "        text-align: right;\n",
       "    }\n",
       "</style>\n",
       "<table border=\"1\" class=\"dataframe\">\n",
       "  <thead>\n",
       "    <tr style=\"text-align: right;\">\n",
       "      <th></th>\n",
       "      <th>0</th>\n",
       "      <th>1</th>\n",
       "      <th>2</th>\n",
       "      <th>3</th>\n",
       "    </tr>\n",
       "  </thead>\n",
       "  <tbody>\n",
       "    <tr>\n",
       "      <th>A</th>\n",
       "      <td>A0</td>\n",
       "      <td>A1</td>\n",
       "      <td>A2</td>\n",
       "      <td>NaN</td>\n",
       "    </tr>\n",
       "    <tr>\n",
       "      <th>B</th>\n",
       "      <td>B0</td>\n",
       "      <td>B1</td>\n",
       "      <td>B2</td>\n",
       "      <td>NaN</td>\n",
       "    </tr>\n",
       "    <tr>\n",
       "      <th>C</th>\n",
       "      <td>C0</td>\n",
       "      <td>C1</td>\n",
       "      <td>C2</td>\n",
       "      <td>NaN</td>\n",
       "    </tr>\n",
       "    <tr>\n",
       "      <th>D</th>\n",
       "      <td>D0</td>\n",
       "      <td>D1</td>\n",
       "      <td>D2</td>\n",
       "      <td>NaN</td>\n",
       "    </tr>\n",
       "    <tr>\n",
       "      <th>E</th>\n",
       "      <td>E0</td>\n",
       "      <td>E1</td>\n",
       "      <td>E2</td>\n",
       "      <td>E3</td>\n",
       "    </tr>\n",
       "    <tr>\n",
       "      <th>F</th>\n",
       "      <td>F0</td>\n",
       "      <td>F1</td>\n",
       "      <td>F2</td>\n",
       "      <td>F3</td>\n",
       "    </tr>\n",
       "    <tr>\n",
       "      <th>G</th>\n",
       "      <td>G0</td>\n",
       "      <td>G1</td>\n",
       "      <td>G2</td>\n",
       "      <td>G3</td>\n",
       "    </tr>\n",
       "    <tr>\n",
       "      <th>H</th>\n",
       "      <td>H0</td>\n",
       "      <td>H1</td>\n",
       "      <td>H2</td>\n",
       "      <td>H3</td>\n",
       "    </tr>\n",
       "  </tbody>\n",
       "</table>\n",
       "</div>"
      ],
      "text/plain": [
       "    0   1   2    3\n",
       "A  A0  A1  A2  NaN\n",
       "B  B0  B1  B2  NaN\n",
       "C  C0  C1  C2  NaN\n",
       "D  D0  D1  D2  NaN\n",
       "E  E0  E1  E2   E3\n",
       "F  F0  F1  F2   F3\n",
       "G  G0  G1  G2   G3\n",
       "H  H0  H1  H2   H3"
      ]
     },
     "execution_count": 202,
     "metadata": {},
     "output_type": "execute_result"
    }
   ],
   "source": [
    "pd.concat([df_A, df_B])"
   ]
  },
  {
   "cell_type": "markdown",
   "metadata": {},
   "source": [
    "`df_A`, `df_C`を横方向に連結します。`axis=1`を指定し, 共通する行ラベル同士で連結します。"
   ]
  },
  {
   "cell_type": "code",
   "execution_count": 203,
   "metadata": {},
   "outputs": [
    {
     "data": {
      "text/html": [
       "<div>\n",
       "<style scoped>\n",
       "    .dataframe tbody tr th:only-of-type {\n",
       "        vertical-align: middle;\n",
       "    }\n",
       "\n",
       "    .dataframe tbody tr th {\n",
       "        vertical-align: top;\n",
       "    }\n",
       "\n",
       "    .dataframe thead th {\n",
       "        text-align: right;\n",
       "    }\n",
       "</style>\n",
       "<table border=\"1\" class=\"dataframe\">\n",
       "  <thead>\n",
       "    <tr style=\"text-align: right;\">\n",
       "      <th></th>\n",
       "      <th>0</th>\n",
       "      <th>1</th>\n",
       "      <th>2</th>\n",
       "      <th>3</th>\n",
       "      <th>4</th>\n",
       "      <th>5</th>\n",
       "    </tr>\n",
       "  </thead>\n",
       "  <tbody>\n",
       "    <tr>\n",
       "      <th>A</th>\n",
       "      <td>A0</td>\n",
       "      <td>A1</td>\n",
       "      <td>A2</td>\n",
       "      <td>A3</td>\n",
       "      <td>A4</td>\n",
       "      <td>A5</td>\n",
       "    </tr>\n",
       "    <tr>\n",
       "      <th>B</th>\n",
       "      <td>B0</td>\n",
       "      <td>B1</td>\n",
       "      <td>B2</td>\n",
       "      <td>B3</td>\n",
       "      <td>B4</td>\n",
       "      <td>B5</td>\n",
       "    </tr>\n",
       "    <tr>\n",
       "      <th>C</th>\n",
       "      <td>C0</td>\n",
       "      <td>C1</td>\n",
       "      <td>C2</td>\n",
       "      <td>C3</td>\n",
       "      <td>C4</td>\n",
       "      <td>C5</td>\n",
       "    </tr>\n",
       "    <tr>\n",
       "      <th>D</th>\n",
       "      <td>D0</td>\n",
       "      <td>D1</td>\n",
       "      <td>D2</td>\n",
       "      <td>D3</td>\n",
       "      <td>D4</td>\n",
       "      <td>D5</td>\n",
       "    </tr>\n",
       "  </tbody>\n",
       "</table>\n",
       "</div>"
      ],
      "text/plain": [
       "    0   1   2   3   4   5\n",
       "A  A0  A1  A2  A3  A4  A5\n",
       "B  B0  B1  B2  B3  B4  B5\n",
       "C  C0  C1  C2  C3  C4  C5\n",
       "D  D0  D1  D2  D3  D4  D5"
      ]
     },
     "execution_count": 203,
     "metadata": {},
     "output_type": "execute_result"
    }
   ],
   "source": [
    "pd.concat([df_A, df_C], axis=1)"
   ]
  },
  {
   "cell_type": "markdown",
   "metadata": {},
   "source": [
    "縦方向に結合するなら`pandas.DataFrame` の `append( )` も簡単です。"
   ]
  },
  {
   "cell_type": "code",
   "execution_count": 204,
   "metadata": {},
   "outputs": [
    {
     "data": {
      "text/html": [
       "<div>\n",
       "<style scoped>\n",
       "    .dataframe tbody tr th:only-of-type {\n",
       "        vertical-align: middle;\n",
       "    }\n",
       "\n",
       "    .dataframe tbody tr th {\n",
       "        vertical-align: top;\n",
       "    }\n",
       "\n",
       "    .dataframe thead th {\n",
       "        text-align: right;\n",
       "    }\n",
       "</style>\n",
       "<table border=\"1\" class=\"dataframe\">\n",
       "  <thead>\n",
       "    <tr style=\"text-align: right;\">\n",
       "      <th></th>\n",
       "      <th>0</th>\n",
       "      <th>1</th>\n",
       "      <th>2</th>\n",
       "      <th>3</th>\n",
       "    </tr>\n",
       "  </thead>\n",
       "  <tbody>\n",
       "    <tr>\n",
       "      <th>A</th>\n",
       "      <td>A0</td>\n",
       "      <td>A1</td>\n",
       "      <td>A2</td>\n",
       "      <td>NaN</td>\n",
       "    </tr>\n",
       "    <tr>\n",
       "      <th>B</th>\n",
       "      <td>B0</td>\n",
       "      <td>B1</td>\n",
       "      <td>B2</td>\n",
       "      <td>NaN</td>\n",
       "    </tr>\n",
       "    <tr>\n",
       "      <th>C</th>\n",
       "      <td>C0</td>\n",
       "      <td>C1</td>\n",
       "      <td>C2</td>\n",
       "      <td>NaN</td>\n",
       "    </tr>\n",
       "    <tr>\n",
       "      <th>D</th>\n",
       "      <td>D0</td>\n",
       "      <td>D1</td>\n",
       "      <td>D2</td>\n",
       "      <td>NaN</td>\n",
       "    </tr>\n",
       "    <tr>\n",
       "      <th>E</th>\n",
       "      <td>E0</td>\n",
       "      <td>E1</td>\n",
       "      <td>E2</td>\n",
       "      <td>E3</td>\n",
       "    </tr>\n",
       "    <tr>\n",
       "      <th>F</th>\n",
       "      <td>F0</td>\n",
       "      <td>F1</td>\n",
       "      <td>F2</td>\n",
       "      <td>F3</td>\n",
       "    </tr>\n",
       "    <tr>\n",
       "      <th>G</th>\n",
       "      <td>G0</td>\n",
       "      <td>G1</td>\n",
       "      <td>G2</td>\n",
       "      <td>G3</td>\n",
       "    </tr>\n",
       "    <tr>\n",
       "      <th>H</th>\n",
       "      <td>H0</td>\n",
       "      <td>H1</td>\n",
       "      <td>H2</td>\n",
       "      <td>H3</td>\n",
       "    </tr>\n",
       "  </tbody>\n",
       "</table>\n",
       "</div>"
      ],
      "text/plain": [
       "    0   1   2    3\n",
       "A  A0  A1  A2  NaN\n",
       "B  B0  B1  B2  NaN\n",
       "C  C0  C1  C2  NaN\n",
       "D  D0  D1  D2  NaN\n",
       "E  E0  E1  E2   E3\n",
       "F  F0  F1  F2   F3\n",
       "G  G0  G1  G2   G3\n",
       "H  H0  H1  H2   H3"
      ]
     },
     "execution_count": 204,
     "metadata": {},
     "output_type": "execute_result"
    }
   ],
   "source": [
    "df_A.append(df_B)"
   ]
  },
  {
   "cell_type": "markdown",
   "metadata": {},
   "source": [
    "#### 2-9-2. join( )\n",
    "インデックス（行ラベル）を key として連結するのに便利です。"
   ]
  },
  {
   "cell_type": "code",
   "execution_count": 205,
   "metadata": {},
   "outputs": [],
   "source": [
    "# テスト用データ\n",
    "df_L = pd.DataFrame([1.2, 0.8, 2.3, 3.5, 2.2, 0.3],\n",
    "                    index=['gene_1', 'gene_2', 'gene_3', 'gene_4', 'gene_5', 'gene_6'],\n",
    "                    columns=['DE'])\n",
    "df_R = pd.DataFrame(['50S ribosome-binding GTPase', 'Surface antigen', 'Elongation factor Tu GTP binding domain',\n",
    "                     'Ring finger domain'],\n",
    "                    index=['gene_1', 'gene_2', 'gene_4', 'gene_6'],\n",
    "                    columns=['definition'])"
   ]
  },
  {
   "cell_type": "code",
   "execution_count": 206,
   "metadata": {},
   "outputs": [
    {
     "data": {
      "text/html": [
       "<div>\n",
       "<style scoped>\n",
       "    .dataframe tbody tr th:only-of-type {\n",
       "        vertical-align: middle;\n",
       "    }\n",
       "\n",
       "    .dataframe tbody tr th {\n",
       "        vertical-align: top;\n",
       "    }\n",
       "\n",
       "    .dataframe thead th {\n",
       "        text-align: right;\n",
       "    }\n",
       "</style>\n",
       "<table border=\"1\" class=\"dataframe\">\n",
       "  <thead>\n",
       "    <tr style=\"text-align: right;\">\n",
       "      <th></th>\n",
       "      <th>DE</th>\n",
       "    </tr>\n",
       "  </thead>\n",
       "  <tbody>\n",
       "    <tr>\n",
       "      <th>gene_1</th>\n",
       "      <td>1.2</td>\n",
       "    </tr>\n",
       "    <tr>\n",
       "      <th>gene_2</th>\n",
       "      <td>0.8</td>\n",
       "    </tr>\n",
       "    <tr>\n",
       "      <th>gene_3</th>\n",
       "      <td>2.3</td>\n",
       "    </tr>\n",
       "    <tr>\n",
       "      <th>gene_4</th>\n",
       "      <td>3.5</td>\n",
       "    </tr>\n",
       "    <tr>\n",
       "      <th>gene_5</th>\n",
       "      <td>2.2</td>\n",
       "    </tr>\n",
       "    <tr>\n",
       "      <th>gene_6</th>\n",
       "      <td>0.3</td>\n",
       "    </tr>\n",
       "  </tbody>\n",
       "</table>\n",
       "</div>"
      ],
      "text/plain": [
       "         DE\n",
       "gene_1  1.2\n",
       "gene_2  0.8\n",
       "gene_3  2.3\n",
       "gene_4  3.5\n",
       "gene_5  2.2\n",
       "gene_6  0.3"
      ]
     },
     "execution_count": 206,
     "metadata": {},
     "output_type": "execute_result"
    }
   ],
   "source": [
    "df_L"
   ]
  },
  {
   "cell_type": "code",
   "execution_count": 207,
   "metadata": {},
   "outputs": [
    {
     "data": {
      "text/html": [
       "<div>\n",
       "<style scoped>\n",
       "    .dataframe tbody tr th:only-of-type {\n",
       "        vertical-align: middle;\n",
       "    }\n",
       "\n",
       "    .dataframe tbody tr th {\n",
       "        vertical-align: top;\n",
       "    }\n",
       "\n",
       "    .dataframe thead th {\n",
       "        text-align: right;\n",
       "    }\n",
       "</style>\n",
       "<table border=\"1\" class=\"dataframe\">\n",
       "  <thead>\n",
       "    <tr style=\"text-align: right;\">\n",
       "      <th></th>\n",
       "      <th>definition</th>\n",
       "    </tr>\n",
       "  </thead>\n",
       "  <tbody>\n",
       "    <tr>\n",
       "      <th>gene_1</th>\n",
       "      <td>50S ribosome-binding GTPase</td>\n",
       "    </tr>\n",
       "    <tr>\n",
       "      <th>gene_2</th>\n",
       "      <td>Surface antigen</td>\n",
       "    </tr>\n",
       "    <tr>\n",
       "      <th>gene_4</th>\n",
       "      <td>Elongation factor Tu GTP binding domain</td>\n",
       "    </tr>\n",
       "    <tr>\n",
       "      <th>gene_6</th>\n",
       "      <td>Ring finger domain</td>\n",
       "    </tr>\n",
       "  </tbody>\n",
       "</table>\n",
       "</div>"
      ],
      "text/plain": [
       "                                     definition\n",
       "gene_1              50S ribosome-binding GTPase\n",
       "gene_2                          Surface antigen\n",
       "gene_4  Elongation factor Tu GTP binding domain\n",
       "gene_6                       Ring finger domain"
      ]
     },
     "execution_count": 207,
     "metadata": {},
     "output_type": "execute_result"
    }
   ],
   "source": [
    "df_R"
   ]
  },
  {
   "cell_type": "code",
   "execution_count": 208,
   "metadata": {},
   "outputs": [
    {
     "data": {
      "text/html": [
       "<div>\n",
       "<style scoped>\n",
       "    .dataframe tbody tr th:only-of-type {\n",
       "        vertical-align: middle;\n",
       "    }\n",
       "\n",
       "    .dataframe tbody tr th {\n",
       "        vertical-align: top;\n",
       "    }\n",
       "\n",
       "    .dataframe thead th {\n",
       "        text-align: right;\n",
       "    }\n",
       "</style>\n",
       "<table border=\"1\" class=\"dataframe\">\n",
       "  <thead>\n",
       "    <tr style=\"text-align: right;\">\n",
       "      <th></th>\n",
       "      <th>DE</th>\n",
       "      <th>definition</th>\n",
       "    </tr>\n",
       "  </thead>\n",
       "  <tbody>\n",
       "    <tr>\n",
       "      <th>gene_1</th>\n",
       "      <td>1.2</td>\n",
       "      <td>50S ribosome-binding GTPase</td>\n",
       "    </tr>\n",
       "    <tr>\n",
       "      <th>gene_2</th>\n",
       "      <td>0.8</td>\n",
       "      <td>Surface antigen</td>\n",
       "    </tr>\n",
       "    <tr>\n",
       "      <th>gene_3</th>\n",
       "      <td>2.3</td>\n",
       "      <td>NaN</td>\n",
       "    </tr>\n",
       "    <tr>\n",
       "      <th>gene_4</th>\n",
       "      <td>3.5</td>\n",
       "      <td>Elongation factor Tu GTP binding domain</td>\n",
       "    </tr>\n",
       "    <tr>\n",
       "      <th>gene_5</th>\n",
       "      <td>2.2</td>\n",
       "      <td>NaN</td>\n",
       "    </tr>\n",
       "    <tr>\n",
       "      <th>gene_6</th>\n",
       "      <td>0.3</td>\n",
       "      <td>Ring finger domain</td>\n",
       "    </tr>\n",
       "  </tbody>\n",
       "</table>\n",
       "</div>"
      ],
      "text/plain": [
       "         DE                               definition\n",
       "gene_1  1.2              50S ribosome-binding GTPase\n",
       "gene_2  0.8                          Surface antigen\n",
       "gene_3  2.3                                      NaN\n",
       "gene_4  3.5  Elongation factor Tu GTP binding domain\n",
       "gene_5  2.2                                      NaN\n",
       "gene_6  0.3                       Ring finger domain"
      ]
     },
     "execution_count": 208,
     "metadata": {},
     "output_type": "execute_result"
    }
   ],
   "source": [
    "df_L.join(df_R)"
   ]
  },
  {
   "cell_type": "markdown",
   "metadata": {},
   "source": [
    "上の場合, デフォルトでは `how=\"left\"` が指定されているので, 左のデータフレーム（上の例ではdf_L）にあるものはすべて出力されます。\n",
    "\n",
    "`how=\"inner\"` を指定すると, 両方のデータフレームに存在するもののみが出力されます。"
   ]
  },
  {
   "cell_type": "code",
   "execution_count": 209,
   "metadata": {},
   "outputs": [
    {
     "data": {
      "text/html": [
       "<div>\n",
       "<style scoped>\n",
       "    .dataframe tbody tr th:only-of-type {\n",
       "        vertical-align: middle;\n",
       "    }\n",
       "\n",
       "    .dataframe tbody tr th {\n",
       "        vertical-align: top;\n",
       "    }\n",
       "\n",
       "    .dataframe thead th {\n",
       "        text-align: right;\n",
       "    }\n",
       "</style>\n",
       "<table border=\"1\" class=\"dataframe\">\n",
       "  <thead>\n",
       "    <tr style=\"text-align: right;\">\n",
       "      <th></th>\n",
       "      <th>DE</th>\n",
       "      <th>definition</th>\n",
       "    </tr>\n",
       "  </thead>\n",
       "  <tbody>\n",
       "    <tr>\n",
       "      <th>gene_1</th>\n",
       "      <td>1.2</td>\n",
       "      <td>50S ribosome-binding GTPase</td>\n",
       "    </tr>\n",
       "    <tr>\n",
       "      <th>gene_2</th>\n",
       "      <td>0.8</td>\n",
       "      <td>Surface antigen</td>\n",
       "    </tr>\n",
       "    <tr>\n",
       "      <th>gene_4</th>\n",
       "      <td>3.5</td>\n",
       "      <td>Elongation factor Tu GTP binding domain</td>\n",
       "    </tr>\n",
       "    <tr>\n",
       "      <th>gene_6</th>\n",
       "      <td>0.3</td>\n",
       "      <td>Ring finger domain</td>\n",
       "    </tr>\n",
       "  </tbody>\n",
       "</table>\n",
       "</div>"
      ],
      "text/plain": [
       "         DE                               definition\n",
       "gene_1  1.2              50S ribosome-binding GTPase\n",
       "gene_2  0.8                          Surface antigen\n",
       "gene_4  3.5  Elongation factor Tu GTP binding domain\n",
       "gene_6  0.3                       Ring finger domain"
      ]
     },
     "execution_count": 209,
     "metadata": {},
     "output_type": "execute_result"
    }
   ],
   "source": [
    "df_L.join(df_R, how='inner')"
   ]
  },
  {
   "cell_type": "markdown",
   "metadata": {},
   "source": [
    "`pd.concat()` でも同様の結果が得られます。"
   ]
  },
  {
   "cell_type": "code",
   "execution_count": 210,
   "metadata": {},
   "outputs": [
    {
     "data": {
      "text/html": [
       "<div>\n",
       "<style scoped>\n",
       "    .dataframe tbody tr th:only-of-type {\n",
       "        vertical-align: middle;\n",
       "    }\n",
       "\n",
       "    .dataframe tbody tr th {\n",
       "        vertical-align: top;\n",
       "    }\n",
       "\n",
       "    .dataframe thead th {\n",
       "        text-align: right;\n",
       "    }\n",
       "</style>\n",
       "<table border=\"1\" class=\"dataframe\">\n",
       "  <thead>\n",
       "    <tr style=\"text-align: right;\">\n",
       "      <th></th>\n",
       "      <th>DE</th>\n",
       "      <th>definition</th>\n",
       "    </tr>\n",
       "  </thead>\n",
       "  <tbody>\n",
       "    <tr>\n",
       "      <th>gene_1</th>\n",
       "      <td>1.2</td>\n",
       "      <td>50S ribosome-binding GTPase</td>\n",
       "    </tr>\n",
       "    <tr>\n",
       "      <th>gene_2</th>\n",
       "      <td>0.8</td>\n",
       "      <td>Surface antigen</td>\n",
       "    </tr>\n",
       "    <tr>\n",
       "      <th>gene_3</th>\n",
       "      <td>2.3</td>\n",
       "      <td>NaN</td>\n",
       "    </tr>\n",
       "    <tr>\n",
       "      <th>gene_4</th>\n",
       "      <td>3.5</td>\n",
       "      <td>Elongation factor Tu GTP binding domain</td>\n",
       "    </tr>\n",
       "    <tr>\n",
       "      <th>gene_5</th>\n",
       "      <td>2.2</td>\n",
       "      <td>NaN</td>\n",
       "    </tr>\n",
       "    <tr>\n",
       "      <th>gene_6</th>\n",
       "      <td>0.3</td>\n",
       "      <td>Ring finger domain</td>\n",
       "    </tr>\n",
       "  </tbody>\n",
       "</table>\n",
       "</div>"
      ],
      "text/plain": [
       "         DE                               definition\n",
       "gene_1  1.2              50S ribosome-binding GTPase\n",
       "gene_2  0.8                          Surface antigen\n",
       "gene_3  2.3                                      NaN\n",
       "gene_4  3.5  Elongation factor Tu GTP binding domain\n",
       "gene_5  2.2                                      NaN\n",
       "gene_6  0.3                       Ring finger domain"
      ]
     },
     "execution_count": 210,
     "metadata": {},
     "output_type": "execute_result"
    }
   ],
   "source": [
    "pd.concat([df_L, df_R], axis=1,sort=False)"
   ]
  },
  {
   "cell_type": "markdown",
   "metadata": {},
   "source": [
    "#### 2-9-3. merge( )\n",
    "インデックス以外をkeyとして連結するのに便利です。多くのオプションがあるので詳細はpandasのヘルプを参照してください。"
   ]
  },
  {
   "cell_type": "code",
   "execution_count": 211,
   "metadata": {},
   "outputs": [],
   "source": [
    "df_L = pd.DataFrame([['gene_1','PF00009'],\n",
    "                     ['gene_2','PF01103'],\n",
    "                     ['gene_3','PF01926'],\n",
    "                     ['gene_4','PF01926'],\n",
    "                     ['gene_5','PF13639'],\n",
    "                     ['gene_6','PF02225']],\n",
    "                    columns=['gene_id', 'PFAM_id',])\n",
    "df_R = pd.DataFrame([['PF01926','50S ribosome-binding GTPase'],\n",
    "                     ['PF01103','Surface antigen'],\n",
    "                     ['PF00009','Elongation factor Tu GTP binding domain'],\n",
    "                     ['PF13639', 'Ring finger domain']],\n",
    "                    columns=['PFAM_id', 'definition'])"
   ]
  },
  {
   "cell_type": "code",
   "execution_count": 212,
   "metadata": {},
   "outputs": [
    {
     "data": {
      "text/html": [
       "<div>\n",
       "<style scoped>\n",
       "    .dataframe tbody tr th:only-of-type {\n",
       "        vertical-align: middle;\n",
       "    }\n",
       "\n",
       "    .dataframe tbody tr th {\n",
       "        vertical-align: top;\n",
       "    }\n",
       "\n",
       "    .dataframe thead th {\n",
       "        text-align: right;\n",
       "    }\n",
       "</style>\n",
       "<table border=\"1\" class=\"dataframe\">\n",
       "  <thead>\n",
       "    <tr style=\"text-align: right;\">\n",
       "      <th></th>\n",
       "      <th>gene_id</th>\n",
       "      <th>PFAM_id</th>\n",
       "    </tr>\n",
       "  </thead>\n",
       "  <tbody>\n",
       "    <tr>\n",
       "      <th>0</th>\n",
       "      <td>gene_1</td>\n",
       "      <td>PF00009</td>\n",
       "    </tr>\n",
       "    <tr>\n",
       "      <th>1</th>\n",
       "      <td>gene_2</td>\n",
       "      <td>PF01103</td>\n",
       "    </tr>\n",
       "    <tr>\n",
       "      <th>2</th>\n",
       "      <td>gene_3</td>\n",
       "      <td>PF01926</td>\n",
       "    </tr>\n",
       "    <tr>\n",
       "      <th>3</th>\n",
       "      <td>gene_4</td>\n",
       "      <td>PF01926</td>\n",
       "    </tr>\n",
       "    <tr>\n",
       "      <th>4</th>\n",
       "      <td>gene_5</td>\n",
       "      <td>PF13639</td>\n",
       "    </tr>\n",
       "    <tr>\n",
       "      <th>5</th>\n",
       "      <td>gene_6</td>\n",
       "      <td>PF02225</td>\n",
       "    </tr>\n",
       "  </tbody>\n",
       "</table>\n",
       "</div>"
      ],
      "text/plain": [
       "  gene_id  PFAM_id\n",
       "0  gene_1  PF00009\n",
       "1  gene_2  PF01103\n",
       "2  gene_3  PF01926\n",
       "3  gene_4  PF01926\n",
       "4  gene_5  PF13639\n",
       "5  gene_6  PF02225"
      ]
     },
     "execution_count": 212,
     "metadata": {},
     "output_type": "execute_result"
    }
   ],
   "source": [
    "df_L"
   ]
  },
  {
   "cell_type": "code",
   "execution_count": 213,
   "metadata": {},
   "outputs": [
    {
     "data": {
      "text/html": [
       "<div>\n",
       "<style scoped>\n",
       "    .dataframe tbody tr th:only-of-type {\n",
       "        vertical-align: middle;\n",
       "    }\n",
       "\n",
       "    .dataframe tbody tr th {\n",
       "        vertical-align: top;\n",
       "    }\n",
       "\n",
       "    .dataframe thead th {\n",
       "        text-align: right;\n",
       "    }\n",
       "</style>\n",
       "<table border=\"1\" class=\"dataframe\">\n",
       "  <thead>\n",
       "    <tr style=\"text-align: right;\">\n",
       "      <th></th>\n",
       "      <th>PFAM_id</th>\n",
       "      <th>definition</th>\n",
       "    </tr>\n",
       "  </thead>\n",
       "  <tbody>\n",
       "    <tr>\n",
       "      <th>0</th>\n",
       "      <td>PF01926</td>\n",
       "      <td>50S ribosome-binding GTPase</td>\n",
       "    </tr>\n",
       "    <tr>\n",
       "      <th>1</th>\n",
       "      <td>PF01103</td>\n",
       "      <td>Surface antigen</td>\n",
       "    </tr>\n",
       "    <tr>\n",
       "      <th>2</th>\n",
       "      <td>PF00009</td>\n",
       "      <td>Elongation factor Tu GTP binding domain</td>\n",
       "    </tr>\n",
       "    <tr>\n",
       "      <th>3</th>\n",
       "      <td>PF13639</td>\n",
       "      <td>Ring finger domain</td>\n",
       "    </tr>\n",
       "  </tbody>\n",
       "</table>\n",
       "</div>"
      ],
      "text/plain": [
       "   PFAM_id                               definition\n",
       "0  PF01926              50S ribosome-binding GTPase\n",
       "1  PF01103                          Surface antigen\n",
       "2  PF00009  Elongation factor Tu GTP binding domain\n",
       "3  PF13639                       Ring finger domain"
      ]
     },
     "execution_count": 213,
     "metadata": {},
     "output_type": "execute_result"
    }
   ],
   "source": [
    "df_R"
   ]
  },
  {
   "cell_type": "markdown",
   "metadata": {},
   "source": [
    "この例では, 共通する列ラベル PFAM_id をkeyとして結び付けられます。どの列をkeyにするかは、`on` , `left_on` , `right_on` などで指定可能です。インデックスの値をkeyとして使うことも可能です ( `left_index` , `right_index` )。<br>\n",
    "\n",
    "デフォルトでは __innerjoin__(`how='inner'`)なので, 両方のデータに存在するもののみが結果として現れます。<br>\n",
    "下の例では, 右側のデータフレーム（df_R）にない PF02225 は削除されます。"
   ]
  },
  {
   "cell_type": "code",
   "execution_count": 214,
   "metadata": {},
   "outputs": [
    {
     "data": {
      "text/html": [
       "<div>\n",
       "<style scoped>\n",
       "    .dataframe tbody tr th:only-of-type {\n",
       "        vertical-align: middle;\n",
       "    }\n",
       "\n",
       "    .dataframe tbody tr th {\n",
       "        vertical-align: top;\n",
       "    }\n",
       "\n",
       "    .dataframe thead th {\n",
       "        text-align: right;\n",
       "    }\n",
       "</style>\n",
       "<table border=\"1\" class=\"dataframe\">\n",
       "  <thead>\n",
       "    <tr style=\"text-align: right;\">\n",
       "      <th></th>\n",
       "      <th>gene_id</th>\n",
       "      <th>PFAM_id</th>\n",
       "      <th>definition</th>\n",
       "    </tr>\n",
       "  </thead>\n",
       "  <tbody>\n",
       "    <tr>\n",
       "      <th>0</th>\n",
       "      <td>gene_1</td>\n",
       "      <td>PF00009</td>\n",
       "      <td>Elongation factor Tu GTP binding domain</td>\n",
       "    </tr>\n",
       "    <tr>\n",
       "      <th>1</th>\n",
       "      <td>gene_2</td>\n",
       "      <td>PF01103</td>\n",
       "      <td>Surface antigen</td>\n",
       "    </tr>\n",
       "    <tr>\n",
       "      <th>2</th>\n",
       "      <td>gene_3</td>\n",
       "      <td>PF01926</td>\n",
       "      <td>50S ribosome-binding GTPase</td>\n",
       "    </tr>\n",
       "    <tr>\n",
       "      <th>3</th>\n",
       "      <td>gene_4</td>\n",
       "      <td>PF01926</td>\n",
       "      <td>50S ribosome-binding GTPase</td>\n",
       "    </tr>\n",
       "    <tr>\n",
       "      <th>4</th>\n",
       "      <td>gene_5</td>\n",
       "      <td>PF13639</td>\n",
       "      <td>Ring finger domain</td>\n",
       "    </tr>\n",
       "  </tbody>\n",
       "</table>\n",
       "</div>"
      ],
      "text/plain": [
       "  gene_id  PFAM_id                               definition\n",
       "0  gene_1  PF00009  Elongation factor Tu GTP binding domain\n",
       "1  gene_2  PF01103                          Surface antigen\n",
       "2  gene_3  PF01926              50S ribosome-binding GTPase\n",
       "3  gene_4  PF01926              50S ribosome-binding GTPase\n",
       "4  gene_5  PF13639                       Ring finger domain"
      ]
     },
     "execution_count": 214,
     "metadata": {},
     "output_type": "execute_result"
    }
   ],
   "source": [
    "pd.merge(df_L, df_R)"
   ]
  },
  {
   "cell_type": "markdown",
   "metadata": {},
   "source": [
    "__leftjoin__ (`how='left'`)にすると左側のデータフレーム（df_L）にあるものはすべて表示されます。"
   ]
  },
  {
   "cell_type": "code",
   "execution_count": 215,
   "metadata": {},
   "outputs": [
    {
     "data": {
      "text/html": [
       "<div>\n",
       "<style scoped>\n",
       "    .dataframe tbody tr th:only-of-type {\n",
       "        vertical-align: middle;\n",
       "    }\n",
       "\n",
       "    .dataframe tbody tr th {\n",
       "        vertical-align: top;\n",
       "    }\n",
       "\n",
       "    .dataframe thead th {\n",
       "        text-align: right;\n",
       "    }\n",
       "</style>\n",
       "<table border=\"1\" class=\"dataframe\">\n",
       "  <thead>\n",
       "    <tr style=\"text-align: right;\">\n",
       "      <th></th>\n",
       "      <th>gene_id</th>\n",
       "      <th>PFAM_id</th>\n",
       "      <th>definition</th>\n",
       "    </tr>\n",
       "  </thead>\n",
       "  <tbody>\n",
       "    <tr>\n",
       "      <th>0</th>\n",
       "      <td>gene_1</td>\n",
       "      <td>PF00009</td>\n",
       "      <td>Elongation factor Tu GTP binding domain</td>\n",
       "    </tr>\n",
       "    <tr>\n",
       "      <th>1</th>\n",
       "      <td>gene_2</td>\n",
       "      <td>PF01103</td>\n",
       "      <td>Surface antigen</td>\n",
       "    </tr>\n",
       "    <tr>\n",
       "      <th>2</th>\n",
       "      <td>gene_3</td>\n",
       "      <td>PF01926</td>\n",
       "      <td>50S ribosome-binding GTPase</td>\n",
       "    </tr>\n",
       "    <tr>\n",
       "      <th>3</th>\n",
       "      <td>gene_4</td>\n",
       "      <td>PF01926</td>\n",
       "      <td>50S ribosome-binding GTPase</td>\n",
       "    </tr>\n",
       "    <tr>\n",
       "      <th>4</th>\n",
       "      <td>gene_5</td>\n",
       "      <td>PF13639</td>\n",
       "      <td>Ring finger domain</td>\n",
       "    </tr>\n",
       "    <tr>\n",
       "      <th>5</th>\n",
       "      <td>gene_6</td>\n",
       "      <td>PF02225</td>\n",
       "      <td>NaN</td>\n",
       "    </tr>\n",
       "  </tbody>\n",
       "</table>\n",
       "</div>"
      ],
      "text/plain": [
       "  gene_id  PFAM_id                               definition\n",
       "0  gene_1  PF00009  Elongation factor Tu GTP binding domain\n",
       "1  gene_2  PF01103                          Surface antigen\n",
       "2  gene_3  PF01926              50S ribosome-binding GTPase\n",
       "3  gene_4  PF01926              50S ribosome-binding GTPase\n",
       "4  gene_5  PF13639                       Ring finger domain\n",
       "5  gene_6  PF02225                                      NaN"
      ]
     },
     "execution_count": 215,
     "metadata": {},
     "output_type": "execute_result"
    }
   ],
   "source": [
    "pd.merge(df_L, df_R, how='left')"
   ]
  },
  {
   "cell_type": "markdown",
   "metadata": {},
   "source": [
    "以下の例では, df_A と df_C をインデックスをkeyとして結合します。<br>\n",
    "`pd.concat([df_A, df_C], axis=1)`と同じ結果になります。"
   ]
  },
  {
   "cell_type": "code",
   "execution_count": 216,
   "metadata": {},
   "outputs": [
    {
     "data": {
      "text/html": [
       "<div>\n",
       "<style scoped>\n",
       "    .dataframe tbody tr th:only-of-type {\n",
       "        vertical-align: middle;\n",
       "    }\n",
       "\n",
       "    .dataframe tbody tr th {\n",
       "        vertical-align: top;\n",
       "    }\n",
       "\n",
       "    .dataframe thead th {\n",
       "        text-align: right;\n",
       "    }\n",
       "</style>\n",
       "<table border=\"1\" class=\"dataframe\">\n",
       "  <thead>\n",
       "    <tr style=\"text-align: right;\">\n",
       "      <th></th>\n",
       "      <th>0</th>\n",
       "      <th>1</th>\n",
       "      <th>2</th>\n",
       "      <th>3</th>\n",
       "      <th>4</th>\n",
       "      <th>5</th>\n",
       "    </tr>\n",
       "  </thead>\n",
       "  <tbody>\n",
       "    <tr>\n",
       "      <th>A</th>\n",
       "      <td>A0</td>\n",
       "      <td>A1</td>\n",
       "      <td>A2</td>\n",
       "      <td>A3</td>\n",
       "      <td>A4</td>\n",
       "      <td>A5</td>\n",
       "    </tr>\n",
       "    <tr>\n",
       "      <th>B</th>\n",
       "      <td>B0</td>\n",
       "      <td>B1</td>\n",
       "      <td>B2</td>\n",
       "      <td>B3</td>\n",
       "      <td>B4</td>\n",
       "      <td>B5</td>\n",
       "    </tr>\n",
       "    <tr>\n",
       "      <th>C</th>\n",
       "      <td>C0</td>\n",
       "      <td>C1</td>\n",
       "      <td>C2</td>\n",
       "      <td>C3</td>\n",
       "      <td>C4</td>\n",
       "      <td>C5</td>\n",
       "    </tr>\n",
       "    <tr>\n",
       "      <th>D</th>\n",
       "      <td>D0</td>\n",
       "      <td>D1</td>\n",
       "      <td>D2</td>\n",
       "      <td>D3</td>\n",
       "      <td>D4</td>\n",
       "      <td>D5</td>\n",
       "    </tr>\n",
       "  </tbody>\n",
       "</table>\n",
       "</div>"
      ],
      "text/plain": [
       "    0   1   2   3   4   5\n",
       "A  A0  A1  A2  A3  A4  A5\n",
       "B  B0  B1  B2  B3  B4  B5\n",
       "C  C0  C1  C2  C3  C4  C5\n",
       "D  D0  D1  D2  D3  D4  D5"
      ]
     },
     "execution_count": 216,
     "metadata": {},
     "output_type": "execute_result"
    }
   ],
   "source": [
    "pd.merge(df_A, df_C, left_index=True, right_index=True)"
   ]
  },
  {
   "cell_type": "markdown",
   "metadata": {},
   "source": [
    "`pd.merge()` 以外に, 次のような書き方でも結合可能です。"
   ]
  },
  {
   "cell_type": "code",
   "execution_count": 217,
   "metadata": {},
   "outputs": [
    {
     "data": {
      "text/html": [
       "<div>\n",
       "<style scoped>\n",
       "    .dataframe tbody tr th:only-of-type {\n",
       "        vertical-align: middle;\n",
       "    }\n",
       "\n",
       "    .dataframe tbody tr th {\n",
       "        vertical-align: top;\n",
       "    }\n",
       "\n",
       "    .dataframe thead th {\n",
       "        text-align: right;\n",
       "    }\n",
       "</style>\n",
       "<table border=\"1\" class=\"dataframe\">\n",
       "  <thead>\n",
       "    <tr style=\"text-align: right;\">\n",
       "      <th></th>\n",
       "      <th>gene_id</th>\n",
       "      <th>PFAM_id</th>\n",
       "      <th>definition</th>\n",
       "    </tr>\n",
       "  </thead>\n",
       "  <tbody>\n",
       "    <tr>\n",
       "      <th>0</th>\n",
       "      <td>gene_1</td>\n",
       "      <td>PF00009</td>\n",
       "      <td>Elongation factor Tu GTP binding domain</td>\n",
       "    </tr>\n",
       "    <tr>\n",
       "      <th>1</th>\n",
       "      <td>gene_2</td>\n",
       "      <td>PF01103</td>\n",
       "      <td>Surface antigen</td>\n",
       "    </tr>\n",
       "    <tr>\n",
       "      <th>2</th>\n",
       "      <td>gene_3</td>\n",
       "      <td>PF01926</td>\n",
       "      <td>50S ribosome-binding GTPase</td>\n",
       "    </tr>\n",
       "    <tr>\n",
       "      <th>3</th>\n",
       "      <td>gene_4</td>\n",
       "      <td>PF01926</td>\n",
       "      <td>50S ribosome-binding GTPase</td>\n",
       "    </tr>\n",
       "    <tr>\n",
       "      <th>4</th>\n",
       "      <td>gene_5</td>\n",
       "      <td>PF13639</td>\n",
       "      <td>Ring finger domain</td>\n",
       "    </tr>\n",
       "  </tbody>\n",
       "</table>\n",
       "</div>"
      ],
      "text/plain": [
       "  gene_id  PFAM_id                               definition\n",
       "0  gene_1  PF00009  Elongation factor Tu GTP binding domain\n",
       "1  gene_2  PF01103                          Surface antigen\n",
       "2  gene_3  PF01926              50S ribosome-binding GTPase\n",
       "3  gene_4  PF01926              50S ribosome-binding GTPase\n",
       "4  gene_5  PF13639                       Ring finger domain"
      ]
     },
     "execution_count": 217,
     "metadata": {},
     "output_type": "execute_result"
    }
   ],
   "source": [
    "df_L.merge(df_R)"
   ]
  },
  {
   "cell_type": "markdown",
   "metadata": {},
   "source": [
    "### 2-10. その他の機能\n",
    "__multiindex__<br>\n",
    "\n",
    "複数の列をインデックスにすることができます。"
   ]
  },
  {
   "cell_type": "code",
   "execution_count": 39,
   "metadata": {},
   "outputs": [
    {
     "data": {
      "text/html": [
       "<div>\n",
       "<style scoped>\n",
       "    .dataframe tbody tr th:only-of-type {\n",
       "        vertical-align: middle;\n",
       "    }\n",
       "\n",
       "    .dataframe tbody tr th {\n",
       "        vertical-align: top;\n",
       "    }\n",
       "\n",
       "    .dataframe thead th {\n",
       "        text-align: right;\n",
       "    }\n",
       "</style>\n",
       "<table border=\"1\" class=\"dataframe\">\n",
       "  <thead>\n",
       "    <tr style=\"text-align: right;\">\n",
       "      <th></th>\n",
       "      <th>generic_name</th>\n",
       "      <th>specific_name</th>\n",
       "      <th>assemble_version</th>\n",
       "      <th>genome_size</th>\n",
       "      <th>common_name</th>\n",
       "      <th>unicellular</th>\n",
       "    </tr>\n",
       "  </thead>\n",
       "  <tbody>\n",
       "    <tr>\n",
       "      <th>0</th>\n",
       "      <td>Chlamydomonas</td>\n",
       "      <td>reinhardtii</td>\n",
       "      <td>v5.5</td>\n",
       "      <td>111.1</td>\n",
       "      <td>green algae</td>\n",
       "      <td>True</td>\n",
       "    </tr>\n",
       "    <tr>\n",
       "      <th>1</th>\n",
       "      <td>Volvox</td>\n",
       "      <td>carteri</td>\n",
       "      <td>v2.1</td>\n",
       "      <td>131.2</td>\n",
       "      <td>green algae</td>\n",
       "      <td>False</td>\n",
       "    </tr>\n",
       "    <tr>\n",
       "      <th>2</th>\n",
       "      <td>Ostreococcus</td>\n",
       "      <td>lucimarinus</td>\n",
       "      <td>v2.0</td>\n",
       "      <td>13.2</td>\n",
       "      <td>green algae</td>\n",
       "      <td>True</td>\n",
       "    </tr>\n",
       "    <tr>\n",
       "      <th>3</th>\n",
       "      <td>Coccomyxa</td>\n",
       "      <td>subellipsoidea C-169</td>\n",
       "      <td>v2.0</td>\n",
       "      <td>49.0</td>\n",
       "      <td>green algae</td>\n",
       "      <td>True</td>\n",
       "    </tr>\n",
       "    <tr>\n",
       "      <th>4</th>\n",
       "      <td>Marchantia</td>\n",
       "      <td>polymorpha</td>\n",
       "      <td>v3.1</td>\n",
       "      <td>225.8</td>\n",
       "      <td>liverwort</td>\n",
       "      <td>False</td>\n",
       "    </tr>\n",
       "    <tr>\n",
       "      <th>5</th>\n",
       "      <td>Thalassiosira</td>\n",
       "      <td>pseudonana</td>\n",
       "      <td>V3.0</td>\n",
       "      <td>34.0</td>\n",
       "      <td>diatom</td>\n",
       "      <td>True</td>\n",
       "    </tr>\n",
       "  </tbody>\n",
       "</table>\n",
       "</div>"
      ],
      "text/plain": [
       "    generic_name         specific_name assemble_version  genome_size  \\\n",
       "0  Chlamydomonas           reinhardtii             v5.5        111.1   \n",
       "1         Volvox               carteri             v2.1        131.2   \n",
       "2   Ostreococcus           lucimarinus             v2.0         13.2   \n",
       "3      Coccomyxa  subellipsoidea C-169             v2.0         49.0   \n",
       "4     Marchantia            polymorpha             v3.1        225.8   \n",
       "5  Thalassiosira            pseudonana             V3.0         34.0   \n",
       "\n",
       "   common_name  unicellular  \n",
       "0  green algae         True  \n",
       "1  green algae        False  \n",
       "2  green algae         True  \n",
       "3  green algae         True  \n",
       "4    liverwort        False  \n",
       "5       diatom         True  "
      ]
     },
     "execution_count": 39,
     "metadata": {},
     "output_type": "execute_result"
    }
   ],
   "source": [
    "df2"
   ]
  },
  {
   "cell_type": "code",
   "execution_count": 40,
   "metadata": {},
   "outputs": [
    {
     "data": {
      "text/html": [
       "<div>\n",
       "<style scoped>\n",
       "    .dataframe tbody tr th:only-of-type {\n",
       "        vertical-align: middle;\n",
       "    }\n",
       "\n",
       "    .dataframe tbody tr th {\n",
       "        vertical-align: top;\n",
       "    }\n",
       "\n",
       "    .dataframe thead th {\n",
       "        text-align: right;\n",
       "    }\n",
       "</style>\n",
       "<table border=\"1\" class=\"dataframe\">\n",
       "  <thead>\n",
       "    <tr style=\"text-align: right;\">\n",
       "      <th></th>\n",
       "      <th></th>\n",
       "      <th>generic_name</th>\n",
       "      <th>specific_name</th>\n",
       "      <th>assemble_version</th>\n",
       "      <th>genome_size</th>\n",
       "      <th>common_name</th>\n",
       "      <th>unicellular</th>\n",
       "    </tr>\n",
       "    <tr>\n",
       "      <th>common_name</th>\n",
       "      <th>generic_name</th>\n",
       "      <th></th>\n",
       "      <th></th>\n",
       "      <th></th>\n",
       "      <th></th>\n",
       "      <th></th>\n",
       "      <th></th>\n",
       "    </tr>\n",
       "  </thead>\n",
       "  <tbody>\n",
       "    <tr>\n",
       "      <th rowspan=\"4\" valign=\"top\">green algae</th>\n",
       "      <th>Chlamydomonas</th>\n",
       "      <td>Chlamydomonas</td>\n",
       "      <td>reinhardtii</td>\n",
       "      <td>v5.5</td>\n",
       "      <td>111.1</td>\n",
       "      <td>green algae</td>\n",
       "      <td>True</td>\n",
       "    </tr>\n",
       "    <tr>\n",
       "      <th>Volvox</th>\n",
       "      <td>Volvox</td>\n",
       "      <td>carteri</td>\n",
       "      <td>v2.1</td>\n",
       "      <td>131.2</td>\n",
       "      <td>green algae</td>\n",
       "      <td>False</td>\n",
       "    </tr>\n",
       "    <tr>\n",
       "      <th>Ostreococcus</th>\n",
       "      <td>Ostreococcus</td>\n",
       "      <td>lucimarinus</td>\n",
       "      <td>v2.0</td>\n",
       "      <td>13.2</td>\n",
       "      <td>green algae</td>\n",
       "      <td>True</td>\n",
       "    </tr>\n",
       "    <tr>\n",
       "      <th>Coccomyxa</th>\n",
       "      <td>Coccomyxa</td>\n",
       "      <td>subellipsoidea C-169</td>\n",
       "      <td>v2.0</td>\n",
       "      <td>49.0</td>\n",
       "      <td>green algae</td>\n",
       "      <td>True</td>\n",
       "    </tr>\n",
       "    <tr>\n",
       "      <th>liverwort</th>\n",
       "      <th>Marchantia</th>\n",
       "      <td>Marchantia</td>\n",
       "      <td>polymorpha</td>\n",
       "      <td>v3.1</td>\n",
       "      <td>225.8</td>\n",
       "      <td>liverwort</td>\n",
       "      <td>False</td>\n",
       "    </tr>\n",
       "    <tr>\n",
       "      <th>diatom</th>\n",
       "      <th>Thalassiosira</th>\n",
       "      <td>Thalassiosira</td>\n",
       "      <td>pseudonana</td>\n",
       "      <td>V3.0</td>\n",
       "      <td>34.0</td>\n",
       "      <td>diatom</td>\n",
       "      <td>True</td>\n",
       "    </tr>\n",
       "  </tbody>\n",
       "</table>\n",
       "</div>"
      ],
      "text/plain": [
       "                            generic_name         specific_name  \\\n",
       "common_name generic_name                                         \n",
       "green algae Chlamydomonas  Chlamydomonas           reinhardtii   \n",
       "            Volvox                Volvox               carteri   \n",
       "            Ostreococcus    Ostreococcus           lucimarinus   \n",
       "            Coccomyxa          Coccomyxa  subellipsoidea C-169   \n",
       "liverwort   Marchantia        Marchantia            polymorpha   \n",
       "diatom      Thalassiosira  Thalassiosira            pseudonana   \n",
       "\n",
       "                          assemble_version  genome_size  common_name  \\\n",
       "common_name generic_name                                               \n",
       "green algae Chlamydomonas             v5.5        111.1  green algae   \n",
       "            Volvox                    v2.1        131.2  green algae   \n",
       "            Ostreococcus              v2.0         13.2  green algae   \n",
       "            Coccomyxa                 v2.0         49.0  green algae   \n",
       "liverwort   Marchantia                v3.1        225.8    liverwort   \n",
       "diatom      Thalassiosira             V3.0         34.0       diatom   \n",
       "\n",
       "                           unicellular  \n",
       "common_name generic_name                \n",
       "green algae Chlamydomonas         True  \n",
       "            Volvox               False  \n",
       "            Ostreococcus          True  \n",
       "            Coccomyxa             True  \n",
       "liverwort   Marchantia           False  \n",
       "diatom      Thalassiosira         True  "
      ]
     },
     "execution_count": 40,
     "metadata": {},
     "output_type": "execute_result"
    }
   ],
   "source": [
    "df2_multiindex = df2.set_index([df2.common_name, df2.generic_name])\n",
    "df2_multiindex"
   ]
  },
  {
   "cell_type": "code",
   "execution_count": 41,
   "metadata": {},
   "outputs": [
    {
     "data": {
      "text/html": [
       "<div>\n",
       "<style scoped>\n",
       "    .dataframe tbody tr th:only-of-type {\n",
       "        vertical-align: middle;\n",
       "    }\n",
       "\n",
       "    .dataframe tbody tr th {\n",
       "        vertical-align: top;\n",
       "    }\n",
       "\n",
       "    .dataframe thead th {\n",
       "        text-align: right;\n",
       "    }\n",
       "</style>\n",
       "<table border=\"1\" class=\"dataframe\">\n",
       "  <thead>\n",
       "    <tr style=\"text-align: right;\">\n",
       "      <th></th>\n",
       "      <th>generic_name</th>\n",
       "      <th>specific_name</th>\n",
       "      <th>assemble_version</th>\n",
       "      <th>genome_size</th>\n",
       "      <th>common_name</th>\n",
       "      <th>unicellular</th>\n",
       "    </tr>\n",
       "    <tr>\n",
       "      <th>generic_name</th>\n",
       "      <th></th>\n",
       "      <th></th>\n",
       "      <th></th>\n",
       "      <th></th>\n",
       "      <th></th>\n",
       "      <th></th>\n",
       "    </tr>\n",
       "  </thead>\n",
       "  <tbody>\n",
       "    <tr>\n",
       "      <th>Chlamydomonas</th>\n",
       "      <td>Chlamydomonas</td>\n",
       "      <td>reinhardtii</td>\n",
       "      <td>v5.5</td>\n",
       "      <td>111.1</td>\n",
       "      <td>green algae</td>\n",
       "      <td>True</td>\n",
       "    </tr>\n",
       "    <tr>\n",
       "      <th>Volvox</th>\n",
       "      <td>Volvox</td>\n",
       "      <td>carteri</td>\n",
       "      <td>v2.1</td>\n",
       "      <td>131.2</td>\n",
       "      <td>green algae</td>\n",
       "      <td>False</td>\n",
       "    </tr>\n",
       "    <tr>\n",
       "      <th>Ostreococcus</th>\n",
       "      <td>Ostreococcus</td>\n",
       "      <td>lucimarinus</td>\n",
       "      <td>v2.0</td>\n",
       "      <td>13.2</td>\n",
       "      <td>green algae</td>\n",
       "      <td>True</td>\n",
       "    </tr>\n",
       "    <tr>\n",
       "      <th>Coccomyxa</th>\n",
       "      <td>Coccomyxa</td>\n",
       "      <td>subellipsoidea C-169</td>\n",
       "      <td>v2.0</td>\n",
       "      <td>49.0</td>\n",
       "      <td>green algae</td>\n",
       "      <td>True</td>\n",
       "    </tr>\n",
       "  </tbody>\n",
       "</table>\n",
       "</div>"
      ],
      "text/plain": [
       "                generic_name         specific_name assemble_version  \\\n",
       "generic_name                                                          \n",
       "Chlamydomonas  Chlamydomonas           reinhardtii             v5.5   \n",
       "Volvox                Volvox               carteri             v2.1   \n",
       "Ostreococcus    Ostreococcus           lucimarinus             v2.0   \n",
       "Coccomyxa          Coccomyxa  subellipsoidea C-169             v2.0   \n",
       "\n",
       "               genome_size  common_name  unicellular  \n",
       "generic_name                                          \n",
       "Chlamydomonas        111.1  green algae         True  \n",
       "Volvox               131.2  green algae        False  \n",
       "Ostreococcus          13.2  green algae         True  \n",
       "Coccomyxa             49.0  green algae         True  "
      ]
     },
     "execution_count": 41,
     "metadata": {},
     "output_type": "execute_result"
    }
   ],
   "source": [
    "df2_multiindex.loc['green algae']"
   ]
  },
  {
   "cell_type": "code",
   "execution_count": 42,
   "metadata": {},
   "outputs": [
    {
     "data": {
      "text/plain": [
       "generic_name        Chlamydomonas\n",
       "specific_name         reinhardtii\n",
       "assemble_version             v5.5\n",
       "genome_size                 111.1\n",
       "common_name           green algae\n",
       "unicellular                  True\n",
       "Name: (green algae, Chlamydomonas), dtype: object"
      ]
     },
     "execution_count": 42,
     "metadata": {},
     "output_type": "execute_result"
    }
   ],
   "source": [
    "df2_multiindex.loc[('green algae', 'Chlamydomonas')]  # 複数インデックスの指定にはタプルを使用する"
   ]
  },
  {
   "cell_type": "markdown",
   "metadata": {},
   "source": [
    "__groupby( )__<br>\n",
    "\n",
    "データをグルーピングして扱うことができます。"
   ]
  },
  {
   "cell_type": "code",
   "execution_count": 218,
   "metadata": {},
   "outputs": [
    {
     "data": {
      "text/html": [
       "<div>\n",
       "<style scoped>\n",
       "    .dataframe tbody tr th:only-of-type {\n",
       "        vertical-align: middle;\n",
       "    }\n",
       "\n",
       "    .dataframe tbody tr th {\n",
       "        vertical-align: top;\n",
       "    }\n",
       "\n",
       "    .dataframe thead th {\n",
       "        text-align: right;\n",
       "    }\n",
       "</style>\n",
       "<table border=\"1\" class=\"dataframe\">\n",
       "  <thead>\n",
       "    <tr style=\"text-align: right;\">\n",
       "      <th></th>\n",
       "      <th>generic_name</th>\n",
       "      <th>specific_name</th>\n",
       "      <th>assemble_version</th>\n",
       "      <th>genome_size</th>\n",
       "      <th>unicellular</th>\n",
       "    </tr>\n",
       "    <tr>\n",
       "      <th>common_name</th>\n",
       "      <th></th>\n",
       "      <th></th>\n",
       "      <th></th>\n",
       "      <th></th>\n",
       "      <th></th>\n",
       "    </tr>\n",
       "  </thead>\n",
       "  <tbody>\n",
       "    <tr>\n",
       "      <th>diatom</th>\n",
       "      <td>1</td>\n",
       "      <td>1</td>\n",
       "      <td>1</td>\n",
       "      <td>1</td>\n",
       "      <td>1</td>\n",
       "    </tr>\n",
       "    <tr>\n",
       "      <th>green algae</th>\n",
       "      <td>4</td>\n",
       "      <td>4</td>\n",
       "      <td>4</td>\n",
       "      <td>4</td>\n",
       "      <td>4</td>\n",
       "    </tr>\n",
       "    <tr>\n",
       "      <th>liverwort</th>\n",
       "      <td>1</td>\n",
       "      <td>1</td>\n",
       "      <td>1</td>\n",
       "      <td>1</td>\n",
       "      <td>1</td>\n",
       "    </tr>\n",
       "  </tbody>\n",
       "</table>\n",
       "</div>"
      ],
      "text/plain": [
       "             generic_name  specific_name  assemble_version  genome_size  \\\n",
       "common_name                                                               \n",
       "diatom                  1              1                 1            1   \n",
       "green algae             4              4                 4            4   \n",
       "liverwort               1              1                 1            1   \n",
       "\n",
       "             unicellular  \n",
       "common_name               \n",
       "diatom                 1  \n",
       "green algae            4  \n",
       "liverwort              1  "
      ]
     },
     "execution_count": 218,
     "metadata": {},
     "output_type": "execute_result"
    }
   ],
   "source": [
    "df2.groupby('common_name').count()"
   ]
  },
  {
   "cell_type": "markdown",
   "metadata": {},
   "source": [
    "__pivot_table( )__<br>\n",
    "\n",
    "カテゴリごとにグルーピングして計算するときに使います。"
   ]
  },
  {
   "cell_type": "code",
   "execution_count": 219,
   "metadata": {},
   "outputs": [
    {
     "data": {
      "text/html": [
       "<div>\n",
       "<style scoped>\n",
       "    .dataframe tbody tr th:only-of-type {\n",
       "        vertical-align: middle;\n",
       "    }\n",
       "\n",
       "    .dataframe tbody tr th {\n",
       "        vertical-align: top;\n",
       "    }\n",
       "\n",
       "    .dataframe thead th {\n",
       "        text-align: right;\n",
       "    }\n",
       "</style>\n",
       "<table border=\"1\" class=\"dataframe\">\n",
       "  <thead>\n",
       "    <tr style=\"text-align: right;\">\n",
       "      <th></th>\n",
       "      <th>genome_size</th>\n",
       "    </tr>\n",
       "    <tr>\n",
       "      <th>common_name</th>\n",
       "      <th></th>\n",
       "    </tr>\n",
       "  </thead>\n",
       "  <tbody>\n",
       "    <tr>\n",
       "      <th>diatom</th>\n",
       "      <td>34.000</td>\n",
       "    </tr>\n",
       "    <tr>\n",
       "      <th>green algae</th>\n",
       "      <td>76.125</td>\n",
       "    </tr>\n",
       "    <tr>\n",
       "      <th>liverwort</th>\n",
       "      <td>225.800</td>\n",
       "    </tr>\n",
       "  </tbody>\n",
       "</table>\n",
       "</div>"
      ],
      "text/plain": [
       "             genome_size\n",
       "common_name             \n",
       "diatom            34.000\n",
       "green algae       76.125\n",
       "liverwort        225.800"
      ]
     },
     "execution_count": 219,
     "metadata": {},
     "output_type": "execute_result"
    }
   ],
   "source": [
    "df2.pivot_table(index='common_name', values='genome_size', aggfunc='mean')  # グループごとの平均年齢を計算"
   ]
  },
  {
   "cell_type": "markdown",
   "metadata": {},
   "source": [
    "### 2-11. データフレームの書き出し"
   ]
  },
  {
   "cell_type": "markdown",
   "metadata": {},
   "source": [
    "ファイルに書き出した時に空欄にならないように, インデックスに名前をつけておきます(無くても良い)。"
   ]
  },
  {
   "cell_type": "code",
   "execution_count": 220,
   "metadata": {},
   "outputs": [
    {
     "data": {
      "text/html": [
       "<div>\n",
       "<style scoped>\n",
       "    .dataframe tbody tr th:only-of-type {\n",
       "        vertical-align: middle;\n",
       "    }\n",
       "\n",
       "    .dataframe tbody tr th {\n",
       "        vertical-align: top;\n",
       "    }\n",
       "\n",
       "    .dataframe thead th {\n",
       "        text-align: right;\n",
       "    }\n",
       "</style>\n",
       "<table border=\"1\" class=\"dataframe\">\n",
       "  <thead>\n",
       "    <tr style=\"text-align: right;\">\n",
       "      <th></th>\n",
       "      <th>sample1</th>\n",
       "      <th>sample2</th>\n",
       "      <th>sample3</th>\n",
       "    </tr>\n",
       "    <tr>\n",
       "      <th>INDEX</th>\n",
       "      <th></th>\n",
       "      <th></th>\n",
       "      <th></th>\n",
       "    </tr>\n",
       "  </thead>\n",
       "  <tbody>\n",
       "    <tr>\n",
       "      <th>geneA</th>\n",
       "      <td>1.0</td>\n",
       "      <td>3.0</td>\n",
       "      <td>2.0</td>\n",
       "    </tr>\n",
       "    <tr>\n",
       "      <th>geneB</th>\n",
       "      <td>10.0</td>\n",
       "      <td>20.0</td>\n",
       "      <td>30.0</td>\n",
       "    </tr>\n",
       "    <tr>\n",
       "      <th>geneC</th>\n",
       "      <td>100.0</td>\n",
       "      <td>200.0</td>\n",
       "      <td>300.0</td>\n",
       "    </tr>\n",
       "    <tr>\n",
       "      <th>geneD</th>\n",
       "      <td>1000.0</td>\n",
       "      <td>2000.0</td>\n",
       "      <td>3000.0</td>\n",
       "    </tr>\n",
       "  </tbody>\n",
       "</table>\n",
       "</div>"
      ],
      "text/plain": [
       "       sample1  sample2  sample3\n",
       "INDEX                           \n",
       "geneA      1.0      3.0      2.0\n",
       "geneB     10.0     20.0     30.0\n",
       "geneC    100.0    200.0    300.0\n",
       "geneD   1000.0   2000.0   3000.0"
      ]
     },
     "execution_count": 220,
     "metadata": {},
     "output_type": "execute_result"
    }
   ],
   "source": [
    "df1.index.name = 'INDEX' \n",
    "df1"
   ]
  },
  {
   "cell_type": "markdown",
   "metadata": {},
   "source": [
    "`df1` をoutputというフォルダに `dataframe1.tsv` として書き出します。"
   ]
  },
  {
   "cell_type": "code",
   "execution_count": null,
   "metadata": {},
   "outputs": [],
   "source": [
    "df1.to_csv('output/dataframe1.tsv', sep='\\t', header=True, index=True)"
   ]
  }
 ],
 "metadata": {
  "kernelspec": {
   "display_name": "Python 3",
   "language": "python",
   "name": "python3"
  },
  "language_info": {
   "codemirror_mode": {
    "name": "ipython",
    "version": 3
   },
   "file_extension": ".py",
   "mimetype": "text/x-python",
   "name": "python",
   "nbconvert_exporter": "python",
   "pygments_lexer": "ipython3",
   "version": "3.7.1"
  },
  "toc": {
   "colors": {
    "hover_highlight": "#DAA520",
    "running_highlight": "#FF0000",
    "selected_highlight": "#FFD700"
   },
   "moveMenuLeft": true,
   "nav_menu": {
    "height": "102px",
    "width": "252px"
   },
   "navigate_menu": true,
   "number_sections": true,
   "sideBar": true,
   "threshold": 4,
   "toc_cell": false,
   "toc_section_display": "block",
   "toc_window_display": false
  }
 },
 "nbformat": 4,
 "nbformat_minor": 2
}
