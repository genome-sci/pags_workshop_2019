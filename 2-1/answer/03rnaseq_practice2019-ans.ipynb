{
 "cells": [
  {
   "cell_type": "markdown",
   "metadata": {},
   "source": [
    "# （練習）RNA-seqカウントデータの読み込み・前処理"
   ]
  },
  {
   "cell_type": "code",
   "execution_count": 1,
   "metadata": {},
   "outputs": [],
   "source": [
    "# pandasのインポート\n",
    "import pandas as pd\n",
    "import numpy as np"
   ]
  },
  {
   "cell_type": "code",
   "execution_count": 2,
   "metadata": {},
   "outputs": [],
   "source": [
    "count_file = \"../input/counts.txt\"\n",
    "gene_id_product_file = \"../input/gene_id_product.tsv\""
   ]
  },
  {
   "cell_type": "markdown",
   "metadata": {},
   "source": [
    "## 課題１ pd.read_tableまたはpd_read_csvを使って カウントデータを読み込む\n",
    "データフレーム名は`df`とすること。"
   ]
  },
  {
   "cell_type": "markdown",
   "metadata": {},
   "source": [
    "```\n",
    "# Program:featureCounts v1.6.2; Command:\"../tools/subread-1.6.2-Linux-x86_64/bin/featureCounts\" \"-p\" \"-T\" \"8\" \"-t\" \"exon\" \"-g\" \"gene_id\" \"-a\" \"../reference/s288c_e.gff\" \"-o\" \"../featurecount/counts.txt\" \"SRR453566.sorted.bam\" \"SRR453567.sorted.bam\" \"SRR453568.sorted.bam\" \"SRR453569.sorted.bam\" \"SRR453570.sorted.bam\" \"SRR453571.sorted.bam\" \n",
    "Geneid  Chr     Start   End     Strand  Length  SRR453566.sorted.bam    SRR453567.sorted.bam    SRR453568.sorted.bam    SRR453569.sorted.bam    SRR453570.sorted.bam    SRR453571.sorted.bam\n",
    "gene_0001       NC_001133.9     1807    2169    -       363     1       3       2       0       0       1\n",
    "gene_0002       NC_001133.9     2480    2707    +       228     0       0       0       0       0       0\n",
    "gene_0003       NC_001133.9     7235    9016    -       1782    0       0       0       0       0       0\n",
    "gene_0004... 以下省略\n",
    "```\n",
    "1行目はfeatureCountsの実行条件が記載されているだけなので無視する。<br>\n",
    "2行目は列タイトルを表すヘッダー行。<br>\n",
    "3行目以降からがデータ行, 一番左の列が遺伝子idになっているのでこれをインデックスに用いる。"
   ]
  },
  {
   "cell_type": "markdown",
   "metadata": {},
   "source": [
    "`pd.read_table()` メソッドの`skiprows`、`index_col`オプションを指定して読み込む。<br>\n",
    "`header`オプションを使う方法, `pd.read_csv()`メソッドを使ってもよい。"
   ]
  },
  {
   "cell_type": "code",
   "execution_count": 3,
   "metadata": {},
   "outputs": [],
   "source": [
    "# (.....)に必要なオプションを指定して実行\n",
    "df = pd.read_table(count_file, index_col=0, skiprows=1) "
   ]
  },
  {
   "cell_type": "markdown",
   "metadata": {},
   "source": [
    "読み込めたら、データ件数などの確認を行う<br>\n",
    "`df.head()`  `df.sum()` `df.shape` など"
   ]
  },
  {
   "cell_type": "code",
   "execution_count": 4,
   "metadata": {},
   "outputs": [
    {
     "data": {
      "text/html": [
       "<div>\n",
       "<style scoped>\n",
       "    .dataframe tbody tr th:only-of-type {\n",
       "        vertical-align: middle;\n",
       "    }\n",
       "\n",
       "    .dataframe tbody tr th {\n",
       "        vertical-align: top;\n",
       "    }\n",
       "\n",
       "    .dataframe thead th {\n",
       "        text-align: right;\n",
       "    }\n",
       "</style>\n",
       "<table border=\"1\" class=\"dataframe\">\n",
       "  <thead>\n",
       "    <tr style=\"text-align: right;\">\n",
       "      <th></th>\n",
       "      <th>Chr</th>\n",
       "      <th>Start</th>\n",
       "      <th>End</th>\n",
       "      <th>Strand</th>\n",
       "      <th>Length</th>\n",
       "      <th>SRR453566.sorted.bam</th>\n",
       "      <th>SRR453567.sorted.bam</th>\n",
       "      <th>SRR453568.sorted.bam</th>\n",
       "      <th>SRR453569.sorted.bam</th>\n",
       "      <th>SRR453570.sorted.bam</th>\n",
       "      <th>SRR453571.sorted.bam</th>\n",
       "    </tr>\n",
       "    <tr>\n",
       "      <th>Geneid</th>\n",
       "      <th></th>\n",
       "      <th></th>\n",
       "      <th></th>\n",
       "      <th></th>\n",
       "      <th></th>\n",
       "      <th></th>\n",
       "      <th></th>\n",
       "      <th></th>\n",
       "      <th></th>\n",
       "      <th></th>\n",
       "      <th></th>\n",
       "    </tr>\n",
       "  </thead>\n",
       "  <tbody>\n",
       "    <tr>\n",
       "      <th>gene_0001</th>\n",
       "      <td>NC_001133.9</td>\n",
       "      <td>1807</td>\n",
       "      <td>2169</td>\n",
       "      <td>-</td>\n",
       "      <td>363</td>\n",
       "      <td>0</td>\n",
       "      <td>2</td>\n",
       "      <td>6</td>\n",
       "      <td>0</td>\n",
       "      <td>0</td>\n",
       "      <td>1</td>\n",
       "    </tr>\n",
       "    <tr>\n",
       "      <th>gene_0002</th>\n",
       "      <td>NC_001133.9</td>\n",
       "      <td>2480</td>\n",
       "      <td>2707</td>\n",
       "      <td>+</td>\n",
       "      <td>228</td>\n",
       "      <td>0</td>\n",
       "      <td>0</td>\n",
       "      <td>0</td>\n",
       "      <td>0</td>\n",
       "      <td>0</td>\n",
       "      <td>0</td>\n",
       "    </tr>\n",
       "    <tr>\n",
       "      <th>gene_0003</th>\n",
       "      <td>NC_001133.9</td>\n",
       "      <td>7235</td>\n",
       "      <td>9016</td>\n",
       "      <td>-</td>\n",
       "      <td>1782</td>\n",
       "      <td>0</td>\n",
       "      <td>0</td>\n",
       "      <td>0</td>\n",
       "      <td>0</td>\n",
       "      <td>0</td>\n",
       "      <td>0</td>\n",
       "    </tr>\n",
       "    <tr>\n",
       "      <th>gene_0004</th>\n",
       "      <td>NC_001133.9</td>\n",
       "      <td>11565</td>\n",
       "      <td>11951</td>\n",
       "      <td>-</td>\n",
       "      <td>387</td>\n",
       "      <td>0</td>\n",
       "      <td>0</td>\n",
       "      <td>0</td>\n",
       "      <td>0</td>\n",
       "      <td>0</td>\n",
       "      <td>0</td>\n",
       "    </tr>\n",
       "    <tr>\n",
       "      <th>gene_0005</th>\n",
       "      <td>NC_001133.9</td>\n",
       "      <td>12046</td>\n",
       "      <td>12426</td>\n",
       "      <td>+</td>\n",
       "      <td>381</td>\n",
       "      <td>2</td>\n",
       "      <td>8</td>\n",
       "      <td>10</td>\n",
       "      <td>6</td>\n",
       "      <td>7</td>\n",
       "      <td>18</td>\n",
       "    </tr>\n",
       "  </tbody>\n",
       "</table>\n",
       "</div>"
      ],
      "text/plain": [
       "                   Chr  Start    End Strand  Length  SRR453566.sorted.bam  \\\n",
       "Geneid                                                                      \n",
       "gene_0001  NC_001133.9   1807   2169      -     363                     0   \n",
       "gene_0002  NC_001133.9   2480   2707      +     228                     0   \n",
       "gene_0003  NC_001133.9   7235   9016      -    1782                     0   \n",
       "gene_0004  NC_001133.9  11565  11951      -     387                     0   \n",
       "gene_0005  NC_001133.9  12046  12426      +     381                     2   \n",
       "\n",
       "           SRR453567.sorted.bam  SRR453568.sorted.bam  SRR453569.sorted.bam  \\\n",
       "Geneid                                                                        \n",
       "gene_0001                     2                     6                     0   \n",
       "gene_0002                     0                     0                     0   \n",
       "gene_0003                     0                     0                     0   \n",
       "gene_0004                     0                     0                     0   \n",
       "gene_0005                     8                    10                     6   \n",
       "\n",
       "           SRR453570.sorted.bam  SRR453571.sorted.bam  \n",
       "Geneid                                                 \n",
       "gene_0001                     0                     1  \n",
       "gene_0002                     0                     0  \n",
       "gene_0003                     0                     0  \n",
       "gene_0004                     0                     0  \n",
       "gene_0005                     7                    18  "
      ]
     },
     "execution_count": 4,
     "metadata": {},
     "output_type": "execute_result"
    }
   ],
   "source": [
    "# 列名とインデックスが正しく読み込まれているかを確認　head()を使う\n",
    "df.head()"
   ]
  },
  {
   "cell_type": "code",
   "execution_count": 5,
   "metadata": {},
   "outputs": [
    {
     "data": {
      "text/plain": [
       "(6420, 11)"
      ]
     },
     "execution_count": 5,
     "metadata": {},
     "output_type": "execute_result"
    }
   ],
   "source": [
    "# データ件数を確認　shapeを使う\n",
    "df.shape"
   ]
  },
  {
   "cell_type": "markdown",
   "metadata": {},
   "source": [
    "以後の解析のため、列名を変更しておきます。  \n",
    "下記２セルを実行"
   ]
  },
  {
   "cell_type": "code",
   "execution_count": 6,
   "metadata": {},
   "outputs": [],
   "source": [
    "# 列名を変更するための対応表\n",
    "names = {'SRR453566.sorted.bam': 'batch_1',\n",
    "         'SRR453567.sorted.bam': 'batch_2',\n",
    "         'SRR453568.sorted.bam': 'batch_3',\n",
    "         'SRR453569.sorted.bam': 'chemostat_1',\n",
    "         'SRR453570.sorted.bam': 'chemostat_2',\n",
    "         'SRR453571.sorted.bam': 'chemostat_3'}"
   ]
  },
  {
   "cell_type": "code",
   "execution_count": 8,
   "metadata": {},
   "outputs": [],
   "source": [
    "# renameをaxis=1を適用して使い、列名を変更する\n",
    "df = df.rename(mapper=names, axis=1)"
   ]
  },
  {
   "cell_type": "code",
   "execution_count": 9,
   "metadata": {},
   "outputs": [
    {
     "data": {
      "text/html": [
       "<div>\n",
       "<style scoped>\n",
       "    .dataframe tbody tr th:only-of-type {\n",
       "        vertical-align: middle;\n",
       "    }\n",
       "\n",
       "    .dataframe tbody tr th {\n",
       "        vertical-align: top;\n",
       "    }\n",
       "\n",
       "    .dataframe thead th {\n",
       "        text-align: right;\n",
       "    }\n",
       "</style>\n",
       "<table border=\"1\" class=\"dataframe\">\n",
       "  <thead>\n",
       "    <tr style=\"text-align: right;\">\n",
       "      <th></th>\n",
       "      <th>Chr</th>\n",
       "      <th>Start</th>\n",
       "      <th>End</th>\n",
       "      <th>Strand</th>\n",
       "      <th>Length</th>\n",
       "      <th>batch_1</th>\n",
       "      <th>batch_2</th>\n",
       "      <th>batch_3</th>\n",
       "      <th>chemostat_1</th>\n",
       "      <th>chemostat_2</th>\n",
       "      <th>chemostat_3</th>\n",
       "    </tr>\n",
       "    <tr>\n",
       "      <th>Geneid</th>\n",
       "      <th></th>\n",
       "      <th></th>\n",
       "      <th></th>\n",
       "      <th></th>\n",
       "      <th></th>\n",
       "      <th></th>\n",
       "      <th></th>\n",
       "      <th></th>\n",
       "      <th></th>\n",
       "      <th></th>\n",
       "      <th></th>\n",
       "    </tr>\n",
       "  </thead>\n",
       "  <tbody>\n",
       "    <tr>\n",
       "      <th>gene_0001</th>\n",
       "      <td>NC_001133.9</td>\n",
       "      <td>1807</td>\n",
       "      <td>2169</td>\n",
       "      <td>-</td>\n",
       "      <td>363</td>\n",
       "      <td>0</td>\n",
       "      <td>2</td>\n",
       "      <td>6</td>\n",
       "      <td>0</td>\n",
       "      <td>0</td>\n",
       "      <td>1</td>\n",
       "    </tr>\n",
       "    <tr>\n",
       "      <th>gene_0002</th>\n",
       "      <td>NC_001133.9</td>\n",
       "      <td>2480</td>\n",
       "      <td>2707</td>\n",
       "      <td>+</td>\n",
       "      <td>228</td>\n",
       "      <td>0</td>\n",
       "      <td>0</td>\n",
       "      <td>0</td>\n",
       "      <td>0</td>\n",
       "      <td>0</td>\n",
       "      <td>0</td>\n",
       "    </tr>\n",
       "    <tr>\n",
       "      <th>gene_0003</th>\n",
       "      <td>NC_001133.9</td>\n",
       "      <td>7235</td>\n",
       "      <td>9016</td>\n",
       "      <td>-</td>\n",
       "      <td>1782</td>\n",
       "      <td>0</td>\n",
       "      <td>0</td>\n",
       "      <td>0</td>\n",
       "      <td>0</td>\n",
       "      <td>0</td>\n",
       "      <td>0</td>\n",
       "    </tr>\n",
       "    <tr>\n",
       "      <th>gene_0004</th>\n",
       "      <td>NC_001133.9</td>\n",
       "      <td>11565</td>\n",
       "      <td>11951</td>\n",
       "      <td>-</td>\n",
       "      <td>387</td>\n",
       "      <td>0</td>\n",
       "      <td>0</td>\n",
       "      <td>0</td>\n",
       "      <td>0</td>\n",
       "      <td>0</td>\n",
       "      <td>0</td>\n",
       "    </tr>\n",
       "    <tr>\n",
       "      <th>gene_0005</th>\n",
       "      <td>NC_001133.9</td>\n",
       "      <td>12046</td>\n",
       "      <td>12426</td>\n",
       "      <td>+</td>\n",
       "      <td>381</td>\n",
       "      <td>2</td>\n",
       "      <td>8</td>\n",
       "      <td>10</td>\n",
       "      <td>6</td>\n",
       "      <td>7</td>\n",
       "      <td>18</td>\n",
       "    </tr>\n",
       "  </tbody>\n",
       "</table>\n",
       "</div>"
      ],
      "text/plain": [
       "                   Chr  Start    End Strand  Length  batch_1  batch_2  \\\n",
       "Geneid                                                                  \n",
       "gene_0001  NC_001133.9   1807   2169      -     363        0        2   \n",
       "gene_0002  NC_001133.9   2480   2707      +     228        0        0   \n",
       "gene_0003  NC_001133.9   7235   9016      -    1782        0        0   \n",
       "gene_0004  NC_001133.9  11565  11951      -     387        0        0   \n",
       "gene_0005  NC_001133.9  12046  12426      +     381        2        8   \n",
       "\n",
       "           batch_3  chemostat_1  chemostat_2  chemostat_3  \n",
       "Geneid                                                     \n",
       "gene_0001        6            0            0            1  \n",
       "gene_0002        0            0            0            0  \n",
       "gene_0003        0            0            0            0  \n",
       "gene_0004        0            0            0            0  \n",
       "gene_0005       10            6            7           18  "
      ]
     },
     "execution_count": 9,
     "metadata": {},
     "output_type": "execute_result"
    }
   ],
   "source": [
    "# 確認\n",
    "df.head()"
   ]
  },
  {
   "cell_type": "markdown",
   "metadata": {},
   "source": [
    "## 課題２ ミトコンドリア上の遺伝子のカウントデータを除く  \n",
    "df.Chrの値が NC_001224.1 に一致するものがミトコンドリアに該当するので、boolean indexingを使って除く。"
   ]
  },
  {
   "cell_type": "code",
   "execution_count": 11,
   "metadata": {},
   "outputs": [],
   "source": [
    "# df.Chrの値が NC_001224.1 に一致しないものを抽出してdfに代入する\n",
    "df = df[df.Chr != 'NC_001224.1']"
   ]
  },
  {
   "cell_type": "code",
   "execution_count": 12,
   "metadata": {},
   "outputs": [
    {
     "data": {
      "text/plain": [
       "(6394, 11)"
      ]
     },
     "execution_count": 12,
     "metadata": {},
     "output_type": "execute_result"
    }
   ],
   "source": [
    "# 正しく処理ができればデータ件数は6394件になるはず\n",
    "df.shape"
   ]
  },
  {
   "cell_type": "markdown",
   "metadata": {},
   "source": [
    "## 課題３　pd.read_tableを使ってgene_id_productを読み込む\n",
    "1列目をインデックスとして用いること。ヘッダー行がないので、 `names=[\"gene_id\", \"product\"]`オプションを指定して読み込むこと。  \n",
    "データフレーム名は `gene_products` とすること。\n",
    "\n",
    "`gene_products = pd.read_table(.....)`\n"
   ]
  },
  {
   "cell_type": "code",
   "execution_count": 13,
   "metadata": {},
   "outputs": [],
   "source": [
    "# (.....)に必要なオプションを指定して実行\n",
    "gene_products = pd.read_table(gene_id_product_file, index_col=0, names=['gene_id', 'product'])"
   ]
  },
  {
   "cell_type": "code",
   "execution_count": 14,
   "metadata": {},
   "outputs": [
    {
     "data": {
      "text/html": [
       "<div>\n",
       "<style scoped>\n",
       "    .dataframe tbody tr th:only-of-type {\n",
       "        vertical-align: middle;\n",
       "    }\n",
       "\n",
       "    .dataframe tbody tr th {\n",
       "        vertical-align: top;\n",
       "    }\n",
       "\n",
       "    .dataframe thead th {\n",
       "        text-align: right;\n",
       "    }\n",
       "</style>\n",
       "<table border=\"1\" class=\"dataframe\">\n",
       "  <thead>\n",
       "    <tr style=\"text-align: right;\">\n",
       "      <th></th>\n",
       "      <th>product</th>\n",
       "    </tr>\n",
       "    <tr>\n",
       "      <th>gene_id</th>\n",
       "      <th></th>\n",
       "    </tr>\n",
       "  </thead>\n",
       "  <tbody>\n",
       "    <tr>\n",
       "      <th>gene_0001</th>\n",
       "      <td>seripauperin PAU8</td>\n",
       "    </tr>\n",
       "    <tr>\n",
       "      <th>gene_0002</th>\n",
       "      <td>hypothetical protein</td>\n",
       "    </tr>\n",
       "    <tr>\n",
       "      <th>gene_0003</th>\n",
       "      <td>putative permease SEO1</td>\n",
       "    </tr>\n",
       "    <tr>\n",
       "      <th>gene_0004</th>\n",
       "      <td>hypothetical protein</td>\n",
       "    </tr>\n",
       "    <tr>\n",
       "      <th>gene_0005</th>\n",
       "      <td>hypothetical protein</td>\n",
       "    </tr>\n",
       "  </tbody>\n",
       "</table>\n",
       "</div>"
      ],
      "text/plain": [
       "                          product\n",
       "gene_id                          \n",
       "gene_0001       seripauperin PAU8\n",
       "gene_0002    hypothetical protein\n",
       "gene_0003  putative permease SEO1\n",
       "gene_0004    hypothetical protein\n",
       "gene_0005    hypothetical protein"
      ]
     },
     "execution_count": 14,
     "metadata": {},
     "output_type": "execute_result"
    }
   ],
   "source": [
    "# 正しく読み込めているか確認\n",
    "gene_products.head()"
   ]
  },
  {
   "cell_type": "markdown",
   "metadata": {},
   "source": [
    "## 課題４　gene_productsにdfを連結する  \n",
    "インデックス列を使って接続するので `join()` を使うのが良い。 <br> \n",
    "データフレーム名はdf_with_productとすること。<br>\n",
    "\n",
    "`df_with_product = gene_products.join(...`\n"
   ]
  },
  {
   "cell_type": "code",
   "execution_count": 15,
   "metadata": {},
   "outputs": [],
   "source": [
    "# (.....)に必要なオプションを指定して実行\n",
    "df_with_product = gene_products.join(df)"
   ]
  },
  {
   "cell_type": "markdown",
   "metadata": {},
   "source": [
    "本来であれば rRNA　にマップされたリードは無視したいので除く必要がある。  \n",
    "gene_products には mRNA のデータしか含まれていないので、rRNA などのデータはこの時点で除かれる。  \n",
    "`pd.merge()`や`pd.concat()`を用いてもよい。"
   ]
  },
  {
   "cell_type": "code",
   "execution_count": 16,
   "metadata": {},
   "outputs": [
    {
     "data": {
      "text/html": [
       "<div>\n",
       "<style scoped>\n",
       "    .dataframe tbody tr th:only-of-type {\n",
       "        vertical-align: middle;\n",
       "    }\n",
       "\n",
       "    .dataframe tbody tr th {\n",
       "        vertical-align: top;\n",
       "    }\n",
       "\n",
       "    .dataframe thead th {\n",
       "        text-align: right;\n",
       "    }\n",
       "</style>\n",
       "<table border=\"1\" class=\"dataframe\">\n",
       "  <thead>\n",
       "    <tr style=\"text-align: right;\">\n",
       "      <th></th>\n",
       "      <th>product</th>\n",
       "      <th>Chr</th>\n",
       "      <th>Start</th>\n",
       "      <th>End</th>\n",
       "      <th>Strand</th>\n",
       "      <th>Length</th>\n",
       "      <th>batch_1</th>\n",
       "      <th>batch_2</th>\n",
       "      <th>batch_3</th>\n",
       "      <th>chemostat_1</th>\n",
       "      <th>chemostat_2</th>\n",
       "      <th>chemostat_3</th>\n",
       "    </tr>\n",
       "    <tr>\n",
       "      <th>gene_id</th>\n",
       "      <th></th>\n",
       "      <th></th>\n",
       "      <th></th>\n",
       "      <th></th>\n",
       "      <th></th>\n",
       "      <th></th>\n",
       "      <th></th>\n",
       "      <th></th>\n",
       "      <th></th>\n",
       "      <th></th>\n",
       "      <th></th>\n",
       "      <th></th>\n",
       "    </tr>\n",
       "  </thead>\n",
       "  <tbody>\n",
       "    <tr>\n",
       "      <th>gene_0001</th>\n",
       "      <td>seripauperin PAU8</td>\n",
       "      <td>NC_001133.9</td>\n",
       "      <td>1807</td>\n",
       "      <td>2169</td>\n",
       "      <td>-</td>\n",
       "      <td>363</td>\n",
       "      <td>0</td>\n",
       "      <td>2</td>\n",
       "      <td>6</td>\n",
       "      <td>0</td>\n",
       "      <td>0</td>\n",
       "      <td>1</td>\n",
       "    </tr>\n",
       "    <tr>\n",
       "      <th>gene_0002</th>\n",
       "      <td>hypothetical protein</td>\n",
       "      <td>NC_001133.9</td>\n",
       "      <td>2480</td>\n",
       "      <td>2707</td>\n",
       "      <td>+</td>\n",
       "      <td>228</td>\n",
       "      <td>0</td>\n",
       "      <td>0</td>\n",
       "      <td>0</td>\n",
       "      <td>0</td>\n",
       "      <td>0</td>\n",
       "      <td>0</td>\n",
       "    </tr>\n",
       "    <tr>\n",
       "      <th>gene_0003</th>\n",
       "      <td>putative permease SEO1</td>\n",
       "      <td>NC_001133.9</td>\n",
       "      <td>7235</td>\n",
       "      <td>9016</td>\n",
       "      <td>-</td>\n",
       "      <td>1782</td>\n",
       "      <td>0</td>\n",
       "      <td>0</td>\n",
       "      <td>0</td>\n",
       "      <td>0</td>\n",
       "      <td>0</td>\n",
       "      <td>0</td>\n",
       "    </tr>\n",
       "    <tr>\n",
       "      <th>gene_0004</th>\n",
       "      <td>hypothetical protein</td>\n",
       "      <td>NC_001133.9</td>\n",
       "      <td>11565</td>\n",
       "      <td>11951</td>\n",
       "      <td>-</td>\n",
       "      <td>387</td>\n",
       "      <td>0</td>\n",
       "      <td>0</td>\n",
       "      <td>0</td>\n",
       "      <td>0</td>\n",
       "      <td>0</td>\n",
       "      <td>0</td>\n",
       "    </tr>\n",
       "    <tr>\n",
       "      <th>gene_0005</th>\n",
       "      <td>hypothetical protein</td>\n",
       "      <td>NC_001133.9</td>\n",
       "      <td>12046</td>\n",
       "      <td>12426</td>\n",
       "      <td>+</td>\n",
       "      <td>381</td>\n",
       "      <td>2</td>\n",
       "      <td>8</td>\n",
       "      <td>10</td>\n",
       "      <td>6</td>\n",
       "      <td>7</td>\n",
       "      <td>18</td>\n",
       "    </tr>\n",
       "  </tbody>\n",
       "</table>\n",
       "</div>"
      ],
      "text/plain": [
       "                          product          Chr  Start    End Strand  Length  \\\n",
       "gene_id                                                                       \n",
       "gene_0001       seripauperin PAU8  NC_001133.9   1807   2169      -     363   \n",
       "gene_0002    hypothetical protein  NC_001133.9   2480   2707      +     228   \n",
       "gene_0003  putative permease SEO1  NC_001133.9   7235   9016      -    1782   \n",
       "gene_0004    hypothetical protein  NC_001133.9  11565  11951      -     387   \n",
       "gene_0005    hypothetical protein  NC_001133.9  12046  12426      +     381   \n",
       "\n",
       "           batch_1  batch_2  batch_3  chemostat_1  chemostat_2  chemostat_3  \n",
       "gene_id                                                                      \n",
       "gene_0001        0        2        6            0            0            1  \n",
       "gene_0002        0        0        0            0            0            0  \n",
       "gene_0003        0        0        0            0            0            0  \n",
       "gene_0004        0        0        0            0            0            0  \n",
       "gene_0005        2        8       10            6            7           18  "
      ]
     },
     "execution_count": 16,
     "metadata": {},
     "output_type": "execute_result"
    }
   ],
   "source": [
    "# 確認\n",
    "df_with_product.head()"
   ]
  },
  {
   "cell_type": "markdown",
   "metadata": {},
   "source": [
    "__カウントデータ部分のみを切り出し__<br>"
   ]
  },
  {
   "cell_type": "code",
   "execution_count": 17,
   "metadata": {},
   "outputs": [],
   "source": [
    "df_count = df_with_product[[\"batch_1\",\"batch_2\",\"batch_3\",\"chemostat_1\",\"chemostat_2\",\"chemostat_3\"]]\n",
    "# スライスで指定するなら　df_with_product.iloc[:, 6:12]"
   ]
  },
  {
   "cell_type": "markdown",
   "metadata": {},
   "source": [
    "__ファイルの保存__<br>\n",
    "カレントフォルダにoutputフォルダを作成しておく。<br>\n",
    "`df_with_product`をoutputフォルダにcount_preprocessed.tsvとして保存する。<br>\n",
    "`df_count`をoutputフォルダにcount_raw.tsvとして保存する。<br>\n",
    "`df.to_csv(sep=\"\\t\")`を用いる。"
   ]
  },
  {
   "cell_type": "code",
   "execution_count": 18,
   "metadata": {},
   "outputs": [],
   "source": [
    "# アノテーション付きカウントデータの保存\n",
    "# (.....)に必要なオプションを入れて実行\n",
    "df_with_product.to_csv('../output/count_preprocessed.tsv', sep='\\t')"
   ]
  },
  {
   "cell_type": "code",
   "execution_count": 19,
   "metadata": {},
   "outputs": [],
   "source": [
    "# raw カウントのデータを保存\n",
    "# (.....)に必要なオプションを入れて実行\n",
    "df_count.to_csv('../output/count_raw.tsv', sep='\\t')"
   ]
  },
  {
   "cell_type": "code",
   "execution_count": 20,
   "metadata": {},
   "outputs": [
    {
     "name": "stdout",
     "output_type": "stream",
     "text": [
      "gene_id\tbatch_1\tbatch_2\tbatch_3\tchemostat_1\tchemostat_2\tchemostat_3\n",
      "gene_0001\t0\t2\t6\t0\t0\t1\n",
      "gene_0002\t0\t0\t0\t0\t0\t0\n",
      "gene_0003\t0\t0\t0\t0\t0\t0\n",
      "gene_0004\t0\t0\t0\t0\t0\t0\n",
      "gene_0005\t2\t8\t10\t6\t7\t18\n",
      "gene_0006\t0\t0\t0\t0\t0\t0\n",
      "gene_0007\t0\t0\t0\t0\t0\t0\n",
      "gene_0008\t0\t0\t0\t0\t0\t0\n",
      "gene_0009\t32\t37\t33\t43\t63\t84\n"
     ]
    }
   ],
   "source": [
    "%%bash\n",
    "# シェルコマンド head を使って確認\n",
    "head output/count_raw.tsv"
   ]
  },
  {
   "cell_type": "markdown",
   "metadata": {},
   "source": [
    "## 課題５　リード数による正規化（FPM/RPM）\n",
    "RPM = reads per million <br>\n",
    "カウントを100万リードあたりのカウント数に揃え, 正規化する。<br>\n",
    "カウントデータをコピーした`df_tmp`を使う"
   ]
  },
  {
   "cell_type": "code",
   "execution_count": 21,
   "metadata": {},
   "outputs": [],
   "source": [
    "#カウントデータを別のデータフレームとしてコピーしておく\n",
    "df_tmp = df_count.copy()"
   ]
  },
  {
   "cell_type": "code",
   "execution_count": 23,
   "metadata": {},
   "outputs": [],
   "source": [
    "# 列ごとのリード数の合計\n",
    "sum_count = df_tmp.sum()\n",
    "# カウント数を列ごとのリード数の合計で割り,100万をかける\n",
    "df_tmp = 10**6 * df_tmp / sum_count"
   ]
  },
  {
   "cell_type": "code",
   "execution_count": 24,
   "metadata": {},
   "outputs": [
    {
     "data": {
      "text/plain": [
       "batch_1        1000000.0\n",
       "batch_2        1000000.0\n",
       "batch_3        1000000.0\n",
       "chemostat_1    1000000.0\n",
       "chemostat_2    1000000.0\n",
       "chemostat_3    1000000.0\n",
       "dtype: float64"
      ]
     },
     "execution_count": 24,
     "metadata": {},
     "output_type": "execute_result"
    }
   ],
   "source": [
    "# ただしく処理できていれば、下記のようになるはず。\n",
    "# リード数の合計が100万に揃っていることを確認。\n",
    "df_tmp.sum()"
   ]
  },
  {
   "cell_type": "markdown",
   "metadata": {
    "collapsed": true
   },
   "source": [
    "上記の処理を関数化しておく。"
   ]
  },
  {
   "cell_type": "code",
   "execution_count": 25,
   "metadata": {},
   "outputs": [],
   "source": [
    "def normalize_per_million_reads(df):\n",
    "    sum_count = df.sum()\n",
    "    return 10**6 * df / sum_count"
   ]
  },
  {
   "cell_type": "code",
   "execution_count": 26,
   "metadata": {},
   "outputs": [],
   "source": [
    "# 関数の適用\n",
    "df_count_fpm = normalize_per_million_reads(df_count)"
   ]
  },
  {
   "cell_type": "code",
   "execution_count": 27,
   "metadata": {},
   "outputs": [
    {
     "data": {
      "text/plain": [
       "batch_1        1000000.0\n",
       "batch_2        1000000.0\n",
       "batch_3        1000000.0\n",
       "chemostat_1    1000000.0\n",
       "chemostat_2    1000000.0\n",
       "chemostat_3    1000000.0\n",
       "dtype: float64"
      ]
     },
     "execution_count": 27,
     "metadata": {},
     "output_type": "execute_result"
    }
   ],
   "source": [
    "# 確認\n",
    "df_count_fpm.sum()"
   ]
  },
  {
   "cell_type": "code",
   "execution_count": 28,
   "metadata": {},
   "outputs": [],
   "source": [
    "# FPM正規化を行った結果を保存\n",
    "df_count_fpm.to_csv(\"../output/count_fpm.tsv\", sep=\"\\t\")"
   ]
  },
  {
   "cell_type": "markdown",
   "metadata": {},
   "source": [
    "## 課題６　遺伝子長による正規化 (RPKM/FPKM)\n",
    "FPKM = fragments per kilobase of exon per million reads mapped<br>\n",
    "上で求めたFPMをさらに遺伝子長で割って1000をかければ良い。<br>\n",
    "以下に示す1~4のいずれかの方法を用いること。"
   ]
  },
  {
   "cell_type": "code",
   "execution_count": 36,
   "metadata": {},
   "outputs": [],
   "source": [
    "# テスト用にデータフレームをコピーしておく\n",
    "df_tmp = df_count_fpm.copy()"
   ]
  },
  {
   "cell_type": "code",
   "execution_count": 30,
   "metadata": {},
   "outputs": [],
   "source": [
    "gene_length = df_with_product[\"Length\"]"
   ]
  },
  {
   "cell_type": "markdown",
   "metadata": {},
   "source": [
    "__1. for ループを使う方法__\n",
    "\n",
    "データフレームをforループで回すと、列名が取得できるのでそれを利用する。"
   ]
  },
  {
   "cell_type": "code",
   "execution_count": 37,
   "metadata": {},
   "outputs": [],
   "source": [
    "for col_name in df_tmp:\n",
    "    df_tmp[col_name] = df_tmp[col_name] / gene_length * 10**3"
   ]
  },
  {
   "cell_type": "code",
   "execution_count": 38,
   "metadata": {},
   "outputs": [
    {
     "data": {
      "text/html": [
       "<div>\n",
       "<style scoped>\n",
       "    .dataframe tbody tr th:only-of-type {\n",
       "        vertical-align: middle;\n",
       "    }\n",
       "\n",
       "    .dataframe tbody tr th {\n",
       "        vertical-align: top;\n",
       "    }\n",
       "\n",
       "    .dataframe thead th {\n",
       "        text-align: right;\n",
       "    }\n",
       "</style>\n",
       "<table border=\"1\" class=\"dataframe\">\n",
       "  <thead>\n",
       "    <tr style=\"text-align: right;\">\n",
       "      <th></th>\n",
       "      <th>batch_1</th>\n",
       "      <th>batch_2</th>\n",
       "      <th>batch_3</th>\n",
       "      <th>chemostat_1</th>\n",
       "      <th>chemostat_2</th>\n",
       "      <th>chemostat_3</th>\n",
       "    </tr>\n",
       "    <tr>\n",
       "      <th>gene_id</th>\n",
       "      <th></th>\n",
       "      <th></th>\n",
       "      <th></th>\n",
       "      <th></th>\n",
       "      <th></th>\n",
       "      <th></th>\n",
       "    </tr>\n",
       "  </thead>\n",
       "  <tbody>\n",
       "    <tr>\n",
       "      <th>gene_0001</th>\n",
       "      <td>0.000000</td>\n",
       "      <td>0.881103</td>\n",
       "      <td>3.653609</td>\n",
       "      <td>0.000000</td>\n",
       "      <td>0.00000</td>\n",
       "      <td>0.561926</td>\n",
       "    </tr>\n",
       "    <tr>\n",
       "      <th>gene_0002</th>\n",
       "      <td>0.000000</td>\n",
       "      <td>0.000000</td>\n",
       "      <td>0.000000</td>\n",
       "      <td>0.000000</td>\n",
       "      <td>0.00000</td>\n",
       "      <td>0.000000</td>\n",
       "    </tr>\n",
       "    <tr>\n",
       "      <th>gene_0003</th>\n",
       "      <td>0.000000</td>\n",
       "      <td>0.000000</td>\n",
       "      <td>0.000000</td>\n",
       "      <td>0.000000</td>\n",
       "      <td>0.00000</td>\n",
       "      <td>0.000000</td>\n",
       "    </tr>\n",
       "    <tr>\n",
       "      <th>gene_0004</th>\n",
       "      <td>0.000000</td>\n",
       "      <td>0.000000</td>\n",
       "      <td>0.000000</td>\n",
       "      <td>0.000000</td>\n",
       "      <td>0.00000</td>\n",
       "      <td>0.000000</td>\n",
       "    </tr>\n",
       "    <tr>\n",
       "      <th>gene_0005</th>\n",
       "      <td>1.149909</td>\n",
       "      <td>3.357905</td>\n",
       "      <td>5.801662</td>\n",
       "      <td>5.123019</td>\n",
       "      <td>4.74806</td>\n",
       "      <td>9.636806</td>\n",
       "    </tr>\n",
       "  </tbody>\n",
       "</table>\n",
       "</div>"
      ],
      "text/plain": [
       "            batch_1   batch_2   batch_3  chemostat_1  chemostat_2  chemostat_3\n",
       "gene_id                                                                       \n",
       "gene_0001  0.000000  0.881103  3.653609     0.000000      0.00000     0.561926\n",
       "gene_0002  0.000000  0.000000  0.000000     0.000000      0.00000     0.000000\n",
       "gene_0003  0.000000  0.000000  0.000000     0.000000      0.00000     0.000000\n",
       "gene_0004  0.000000  0.000000  0.000000     0.000000      0.00000     0.000000\n",
       "gene_0005  1.149909  3.357905  5.801662     5.123019      4.74806     9.636806"
      ]
     },
     "execution_count": 38,
     "metadata": {},
     "output_type": "execute_result"
    }
   ],
   "source": [
    "# 確認\n",
    "df_tmp.head()"
   ]
  },
  {
   "cell_type": "markdown",
   "metadata": {},
   "source": [
    "または`iteritems()`を用いて"
   ]
  },
  {
   "cell_type": "code",
   "execution_count": 39,
   "metadata": {},
   "outputs": [],
   "source": [
    "df_tmp = df_count_fpm.copy()\n",
    "for col_name, col in df_tmp.iteritems():\n",
    "    df_tmp[col_name] = col / gene_length * 10**3"
   ]
  },
  {
   "cell_type": "code",
   "execution_count": 40,
   "metadata": {},
   "outputs": [
    {
     "data": {
      "text/html": [
       "<div>\n",
       "<style scoped>\n",
       "    .dataframe tbody tr th:only-of-type {\n",
       "        vertical-align: middle;\n",
       "    }\n",
       "\n",
       "    .dataframe tbody tr th {\n",
       "        vertical-align: top;\n",
       "    }\n",
       "\n",
       "    .dataframe thead th {\n",
       "        text-align: right;\n",
       "    }\n",
       "</style>\n",
       "<table border=\"1\" class=\"dataframe\">\n",
       "  <thead>\n",
       "    <tr style=\"text-align: right;\">\n",
       "      <th></th>\n",
       "      <th>batch_1</th>\n",
       "      <th>batch_2</th>\n",
       "      <th>batch_3</th>\n",
       "      <th>chemostat_1</th>\n",
       "      <th>chemostat_2</th>\n",
       "      <th>chemostat_3</th>\n",
       "    </tr>\n",
       "    <tr>\n",
       "      <th>gene_id</th>\n",
       "      <th></th>\n",
       "      <th></th>\n",
       "      <th></th>\n",
       "      <th></th>\n",
       "      <th></th>\n",
       "      <th></th>\n",
       "    </tr>\n",
       "  </thead>\n",
       "  <tbody>\n",
       "    <tr>\n",
       "      <th>gene_0001</th>\n",
       "      <td>0.000000</td>\n",
       "      <td>0.881103</td>\n",
       "      <td>3.653609</td>\n",
       "      <td>0.000000</td>\n",
       "      <td>0.00000</td>\n",
       "      <td>0.561926</td>\n",
       "    </tr>\n",
       "    <tr>\n",
       "      <th>gene_0002</th>\n",
       "      <td>0.000000</td>\n",
       "      <td>0.000000</td>\n",
       "      <td>0.000000</td>\n",
       "      <td>0.000000</td>\n",
       "      <td>0.00000</td>\n",
       "      <td>0.000000</td>\n",
       "    </tr>\n",
       "    <tr>\n",
       "      <th>gene_0003</th>\n",
       "      <td>0.000000</td>\n",
       "      <td>0.000000</td>\n",
       "      <td>0.000000</td>\n",
       "      <td>0.000000</td>\n",
       "      <td>0.00000</td>\n",
       "      <td>0.000000</td>\n",
       "    </tr>\n",
       "    <tr>\n",
       "      <th>gene_0004</th>\n",
       "      <td>0.000000</td>\n",
       "      <td>0.000000</td>\n",
       "      <td>0.000000</td>\n",
       "      <td>0.000000</td>\n",
       "      <td>0.00000</td>\n",
       "      <td>0.000000</td>\n",
       "    </tr>\n",
       "    <tr>\n",
       "      <th>gene_0005</th>\n",
       "      <td>1.149909</td>\n",
       "      <td>3.357905</td>\n",
       "      <td>5.801662</td>\n",
       "      <td>5.123019</td>\n",
       "      <td>4.74806</td>\n",
       "      <td>9.636806</td>\n",
       "    </tr>\n",
       "  </tbody>\n",
       "</table>\n",
       "</div>"
      ],
      "text/plain": [
       "            batch_1   batch_2   batch_3  chemostat_1  chemostat_2  chemostat_3\n",
       "gene_id                                                                       \n",
       "gene_0001  0.000000  0.881103  3.653609     0.000000      0.00000     0.561926\n",
       "gene_0002  0.000000  0.000000  0.000000     0.000000      0.00000     0.000000\n",
       "gene_0003  0.000000  0.000000  0.000000     0.000000      0.00000     0.000000\n",
       "gene_0004  0.000000  0.000000  0.000000     0.000000      0.00000     0.000000\n",
       "gene_0005  1.149909  3.357905  5.801662     5.123019      4.74806     9.636806"
      ]
     },
     "execution_count": 40,
     "metadata": {},
     "output_type": "execute_result"
    }
   ],
   "source": [
    "# 確認\n",
    "df_tmp.head()"
   ]
  },
  {
   "cell_type": "markdown",
   "metadata": {},
   "source": [
    "__2. データフレームを転置してから計算する方法__\n",
    "\n",
    "データフレームの転置は`df.T`を使う。"
   ]
  },
  {
   "cell_type": "code",
   "execution_count": 34,
   "metadata": {},
   "outputs": [],
   "source": [
    "# テスト用にFPMをコピー\n",
    "df_tmp = df_count_fpm.copy()\n",
    "# df_tmpを転置してFPMを遺伝子長で割り, 1000をかける\n",
    "df_tmp = df_tmp.T / gene_length * 10**3\n",
    "# 戻す（もう一度転置する）\n",
    "df_tmp = df_tmp.T"
   ]
  },
  {
   "cell_type": "code",
   "execution_count": 35,
   "metadata": {},
   "outputs": [
    {
     "data": {
      "text/html": [
       "<div>\n",
       "<style scoped>\n",
       "    .dataframe tbody tr th:only-of-type {\n",
       "        vertical-align: middle;\n",
       "    }\n",
       "\n",
       "    .dataframe tbody tr th {\n",
       "        vertical-align: top;\n",
       "    }\n",
       "\n",
       "    .dataframe thead th {\n",
       "        text-align: right;\n",
       "    }\n",
       "</style>\n",
       "<table border=\"1\" class=\"dataframe\">\n",
       "  <thead>\n",
       "    <tr style=\"text-align: right;\">\n",
       "      <th></th>\n",
       "      <th>batch_1</th>\n",
       "      <th>batch_2</th>\n",
       "      <th>batch_3</th>\n",
       "      <th>chemostat_1</th>\n",
       "      <th>chemostat_2</th>\n",
       "      <th>chemostat_3</th>\n",
       "    </tr>\n",
       "    <tr>\n",
       "      <th>gene_id</th>\n",
       "      <th></th>\n",
       "      <th></th>\n",
       "      <th></th>\n",
       "      <th></th>\n",
       "      <th></th>\n",
       "      <th></th>\n",
       "    </tr>\n",
       "  </thead>\n",
       "  <tbody>\n",
       "    <tr>\n",
       "      <th>gene_0001</th>\n",
       "      <td>0.000000</td>\n",
       "      <td>0.881103</td>\n",
       "      <td>3.653609</td>\n",
       "      <td>0.000000</td>\n",
       "      <td>0.00000</td>\n",
       "      <td>0.561926</td>\n",
       "    </tr>\n",
       "    <tr>\n",
       "      <th>gene_0002</th>\n",
       "      <td>0.000000</td>\n",
       "      <td>0.000000</td>\n",
       "      <td>0.000000</td>\n",
       "      <td>0.000000</td>\n",
       "      <td>0.00000</td>\n",
       "      <td>0.000000</td>\n",
       "    </tr>\n",
       "    <tr>\n",
       "      <th>gene_0003</th>\n",
       "      <td>0.000000</td>\n",
       "      <td>0.000000</td>\n",
       "      <td>0.000000</td>\n",
       "      <td>0.000000</td>\n",
       "      <td>0.00000</td>\n",
       "      <td>0.000000</td>\n",
       "    </tr>\n",
       "    <tr>\n",
       "      <th>gene_0004</th>\n",
       "      <td>0.000000</td>\n",
       "      <td>0.000000</td>\n",
       "      <td>0.000000</td>\n",
       "      <td>0.000000</td>\n",
       "      <td>0.00000</td>\n",
       "      <td>0.000000</td>\n",
       "    </tr>\n",
       "    <tr>\n",
       "      <th>gene_0005</th>\n",
       "      <td>1.149909</td>\n",
       "      <td>3.357905</td>\n",
       "      <td>5.801662</td>\n",
       "      <td>5.123019</td>\n",
       "      <td>4.74806</td>\n",
       "      <td>9.636806</td>\n",
       "    </tr>\n",
       "  </tbody>\n",
       "</table>\n",
       "</div>"
      ],
      "text/plain": [
       "            batch_1   batch_2   batch_3  chemostat_1  chemostat_2  chemostat_3\n",
       "gene_id                                                                       \n",
       "gene_0001  0.000000  0.881103  3.653609     0.000000      0.00000     0.561926\n",
       "gene_0002  0.000000  0.000000  0.000000     0.000000      0.00000     0.000000\n",
       "gene_0003  0.000000  0.000000  0.000000     0.000000      0.00000     0.000000\n",
       "gene_0004  0.000000  0.000000  0.000000     0.000000      0.00000     0.000000\n",
       "gene_0005  1.149909  3.357905  5.801662     5.123019      4.74806     9.636806"
      ]
     },
     "execution_count": 35,
     "metadata": {},
     "output_type": "execute_result"
    }
   ],
   "source": [
    "# 確認\n",
    "df_tmp.head()"
   ]
  },
  {
   "cell_type": "markdown",
   "metadata": {},
   "source": [
    "__3. applyを使い各列に関数を適用する方法__"
   ]
  },
  {
   "cell_type": "code",
   "execution_count": 41,
   "metadata": {},
   "outputs": [],
   "source": [
    "# はじめに列を入力とし、各要素を遺伝子長でわる処理を行う関数を定義する\n",
    "def divide_by_length(S):\n",
    "    return S / gene_length * 10**3"
   ]
  },
  {
   "cell_type": "code",
   "execution_count": 43,
   "metadata": {},
   "outputs": [
    {
     "data": {
      "text/html": [
       "<div>\n",
       "<style scoped>\n",
       "    .dataframe tbody tr th:only-of-type {\n",
       "        vertical-align: middle;\n",
       "    }\n",
       "\n",
       "    .dataframe tbody tr th {\n",
       "        vertical-align: top;\n",
       "    }\n",
       "\n",
       "    .dataframe thead th {\n",
       "        text-align: right;\n",
       "    }\n",
       "</style>\n",
       "<table border=\"1\" class=\"dataframe\">\n",
       "  <thead>\n",
       "    <tr style=\"text-align: right;\">\n",
       "      <th></th>\n",
       "      <th>batch_1</th>\n",
       "      <th>batch_2</th>\n",
       "      <th>batch_3</th>\n",
       "      <th>chemostat_1</th>\n",
       "      <th>chemostat_2</th>\n",
       "      <th>chemostat_3</th>\n",
       "    </tr>\n",
       "    <tr>\n",
       "      <th>gene_id</th>\n",
       "      <th></th>\n",
       "      <th></th>\n",
       "      <th></th>\n",
       "      <th></th>\n",
       "      <th></th>\n",
       "      <th></th>\n",
       "    </tr>\n",
       "  </thead>\n",
       "  <tbody>\n",
       "    <tr>\n",
       "      <th>gene_0001</th>\n",
       "      <td>0.000000</td>\n",
       "      <td>0.881103</td>\n",
       "      <td>3.653609</td>\n",
       "      <td>0.000000</td>\n",
       "      <td>0.00000</td>\n",
       "      <td>0.561926</td>\n",
       "    </tr>\n",
       "    <tr>\n",
       "      <th>gene_0002</th>\n",
       "      <td>0.000000</td>\n",
       "      <td>0.000000</td>\n",
       "      <td>0.000000</td>\n",
       "      <td>0.000000</td>\n",
       "      <td>0.00000</td>\n",
       "      <td>0.000000</td>\n",
       "    </tr>\n",
       "    <tr>\n",
       "      <th>gene_0003</th>\n",
       "      <td>0.000000</td>\n",
       "      <td>0.000000</td>\n",
       "      <td>0.000000</td>\n",
       "      <td>0.000000</td>\n",
       "      <td>0.00000</td>\n",
       "      <td>0.000000</td>\n",
       "    </tr>\n",
       "    <tr>\n",
       "      <th>gene_0004</th>\n",
       "      <td>0.000000</td>\n",
       "      <td>0.000000</td>\n",
       "      <td>0.000000</td>\n",
       "      <td>0.000000</td>\n",
       "      <td>0.00000</td>\n",
       "      <td>0.000000</td>\n",
       "    </tr>\n",
       "    <tr>\n",
       "      <th>gene_0005</th>\n",
       "      <td>1.149909</td>\n",
       "      <td>3.357905</td>\n",
       "      <td>5.801662</td>\n",
       "      <td>5.123019</td>\n",
       "      <td>4.74806</td>\n",
       "      <td>9.636806</td>\n",
       "    </tr>\n",
       "  </tbody>\n",
       "</table>\n",
       "</div>"
      ],
      "text/plain": [
       "            batch_1   batch_2   batch_3  chemostat_1  chemostat_2  chemostat_3\n",
       "gene_id                                                                       \n",
       "gene_0001  0.000000  0.881103  3.653609     0.000000      0.00000     0.561926\n",
       "gene_0002  0.000000  0.000000  0.000000     0.000000      0.00000     0.000000\n",
       "gene_0003  0.000000  0.000000  0.000000     0.000000      0.00000     0.000000\n",
       "gene_0004  0.000000  0.000000  0.000000     0.000000      0.00000     0.000000\n",
       "gene_0005  1.149909  3.357905  5.801662     5.123019      4.74806     9.636806"
      ]
     },
     "execution_count": 43,
     "metadata": {},
     "output_type": "execute_result"
    }
   ],
   "source": [
    "# テスト用にFPMをコピー\n",
    "df_tmp = df_count_fpm.copy()\n",
    "# 関数を適用する\n",
    "df_tmp.apply(divide_by_length).head()"
   ]
  },
  {
   "cell_type": "markdown",
   "metadata": {},
   "source": [
    "__4. データフレームメソッドのdivideを使用する方法__"
   ]
  },
  {
   "cell_type": "code",
   "execution_count": 44,
   "metadata": {},
   "outputs": [],
   "source": [
    "# データフレームメソッドのdivideを使用する方法\n",
    "df_tmp = df_count_fpm.copy()\n",
    "df_tmp = df_tmp.divide(gene_length, axis='index') * 10**3"
   ]
  },
  {
   "cell_type": "code",
   "execution_count": 45,
   "metadata": {},
   "outputs": [
    {
     "data": {
      "text/html": [
       "<div>\n",
       "<style scoped>\n",
       "    .dataframe tbody tr th:only-of-type {\n",
       "        vertical-align: middle;\n",
       "    }\n",
       "\n",
       "    .dataframe tbody tr th {\n",
       "        vertical-align: top;\n",
       "    }\n",
       "\n",
       "    .dataframe thead th {\n",
       "        text-align: right;\n",
       "    }\n",
       "</style>\n",
       "<table border=\"1\" class=\"dataframe\">\n",
       "  <thead>\n",
       "    <tr style=\"text-align: right;\">\n",
       "      <th></th>\n",
       "      <th>batch_1</th>\n",
       "      <th>batch_2</th>\n",
       "      <th>batch_3</th>\n",
       "      <th>chemostat_1</th>\n",
       "      <th>chemostat_2</th>\n",
       "      <th>chemostat_3</th>\n",
       "    </tr>\n",
       "    <tr>\n",
       "      <th>gene_id</th>\n",
       "      <th></th>\n",
       "      <th></th>\n",
       "      <th></th>\n",
       "      <th></th>\n",
       "      <th></th>\n",
       "      <th></th>\n",
       "    </tr>\n",
       "  </thead>\n",
       "  <tbody>\n",
       "    <tr>\n",
       "      <th>gene_0001</th>\n",
       "      <td>0.000000</td>\n",
       "      <td>0.881103</td>\n",
       "      <td>3.653609</td>\n",
       "      <td>0.000000</td>\n",
       "      <td>0.00000</td>\n",
       "      <td>0.561926</td>\n",
       "    </tr>\n",
       "    <tr>\n",
       "      <th>gene_0002</th>\n",
       "      <td>0.000000</td>\n",
       "      <td>0.000000</td>\n",
       "      <td>0.000000</td>\n",
       "      <td>0.000000</td>\n",
       "      <td>0.00000</td>\n",
       "      <td>0.000000</td>\n",
       "    </tr>\n",
       "    <tr>\n",
       "      <th>gene_0003</th>\n",
       "      <td>0.000000</td>\n",
       "      <td>0.000000</td>\n",
       "      <td>0.000000</td>\n",
       "      <td>0.000000</td>\n",
       "      <td>0.00000</td>\n",
       "      <td>0.000000</td>\n",
       "    </tr>\n",
       "    <tr>\n",
       "      <th>gene_0004</th>\n",
       "      <td>0.000000</td>\n",
       "      <td>0.000000</td>\n",
       "      <td>0.000000</td>\n",
       "      <td>0.000000</td>\n",
       "      <td>0.00000</td>\n",
       "      <td>0.000000</td>\n",
       "    </tr>\n",
       "    <tr>\n",
       "      <th>gene_0005</th>\n",
       "      <td>1.149909</td>\n",
       "      <td>3.357905</td>\n",
       "      <td>5.801662</td>\n",
       "      <td>5.123019</td>\n",
       "      <td>4.74806</td>\n",
       "      <td>9.636806</td>\n",
       "    </tr>\n",
       "  </tbody>\n",
       "</table>\n",
       "</div>"
      ],
      "text/plain": [
       "            batch_1   batch_2   batch_3  chemostat_1  chemostat_2  chemostat_3\n",
       "gene_id                                                                       \n",
       "gene_0001  0.000000  0.881103  3.653609     0.000000      0.00000     0.561926\n",
       "gene_0002  0.000000  0.000000  0.000000     0.000000      0.00000     0.000000\n",
       "gene_0003  0.000000  0.000000  0.000000     0.000000      0.00000     0.000000\n",
       "gene_0004  0.000000  0.000000  0.000000     0.000000      0.00000     0.000000\n",
       "gene_0005  1.149909  3.357905  5.801662     5.123019      4.74806     9.636806"
      ]
     },
     "execution_count": 45,
     "metadata": {},
     "output_type": "execute_result"
    }
   ],
   "source": [
    "# 確認\n",
    "df_tmp.head()"
   ]
  },
  {
   "cell_type": "markdown",
   "metadata": {
    "collapsed": true
   },
   "source": [
    "1~4のいずれかの方法を関数化して計算する(解答例はデータフレームを転置させて計算する方法)"
   ]
  },
  {
   "cell_type": "code",
   "execution_count": 46,
   "metadata": {},
   "outputs": [],
   "source": [
    "def normalize_per_kilobase(df, gene_length):\n",
    "    df_tmp = df.copy()\n",
    "    df_tmp = (df.T * 10**3 / gene_length).T \n",
    "    return df_tmp"
   ]
  },
  {
   "cell_type": "code",
   "execution_count": 47,
   "metadata": {},
   "outputs": [],
   "source": [
    "df_count_fpkm = normalize_per_kilobase(df_count_fpm, gene_length)"
   ]
  },
  {
   "cell_type": "code",
   "execution_count": 48,
   "metadata": {},
   "outputs": [
    {
     "data": {
      "text/html": [
       "<div>\n",
       "<style scoped>\n",
       "    .dataframe tbody tr th:only-of-type {\n",
       "        vertical-align: middle;\n",
       "    }\n",
       "\n",
       "    .dataframe tbody tr th {\n",
       "        vertical-align: top;\n",
       "    }\n",
       "\n",
       "    .dataframe thead th {\n",
       "        text-align: right;\n",
       "    }\n",
       "</style>\n",
       "<table border=\"1\" class=\"dataframe\">\n",
       "  <thead>\n",
       "    <tr style=\"text-align: right;\">\n",
       "      <th></th>\n",
       "      <th>batch_1</th>\n",
       "      <th>batch_2</th>\n",
       "      <th>batch_3</th>\n",
       "      <th>chemostat_1</th>\n",
       "      <th>chemostat_2</th>\n",
       "      <th>chemostat_3</th>\n",
       "    </tr>\n",
       "    <tr>\n",
       "      <th>gene_id</th>\n",
       "      <th></th>\n",
       "      <th></th>\n",
       "      <th></th>\n",
       "      <th></th>\n",
       "      <th></th>\n",
       "      <th></th>\n",
       "    </tr>\n",
       "  </thead>\n",
       "  <tbody>\n",
       "    <tr>\n",
       "      <th>gene_0001</th>\n",
       "      <td>0.000000</td>\n",
       "      <td>0.881103</td>\n",
       "      <td>3.653609</td>\n",
       "      <td>0.000000</td>\n",
       "      <td>0.00000</td>\n",
       "      <td>0.561926</td>\n",
       "    </tr>\n",
       "    <tr>\n",
       "      <th>gene_0002</th>\n",
       "      <td>0.000000</td>\n",
       "      <td>0.000000</td>\n",
       "      <td>0.000000</td>\n",
       "      <td>0.000000</td>\n",
       "      <td>0.00000</td>\n",
       "      <td>0.000000</td>\n",
       "    </tr>\n",
       "    <tr>\n",
       "      <th>gene_0003</th>\n",
       "      <td>0.000000</td>\n",
       "      <td>0.000000</td>\n",
       "      <td>0.000000</td>\n",
       "      <td>0.000000</td>\n",
       "      <td>0.00000</td>\n",
       "      <td>0.000000</td>\n",
       "    </tr>\n",
       "    <tr>\n",
       "      <th>gene_0004</th>\n",
       "      <td>0.000000</td>\n",
       "      <td>0.000000</td>\n",
       "      <td>0.000000</td>\n",
       "      <td>0.000000</td>\n",
       "      <td>0.00000</td>\n",
       "      <td>0.000000</td>\n",
       "    </tr>\n",
       "    <tr>\n",
       "      <th>gene_0005</th>\n",
       "      <td>1.149909</td>\n",
       "      <td>3.357905</td>\n",
       "      <td>5.801662</td>\n",
       "      <td>5.123019</td>\n",
       "      <td>4.74806</td>\n",
       "      <td>9.636806</td>\n",
       "    </tr>\n",
       "  </tbody>\n",
       "</table>\n",
       "</div>"
      ],
      "text/plain": [
       "            batch_1   batch_2   batch_3  chemostat_1  chemostat_2  chemostat_3\n",
       "gene_id                                                                       \n",
       "gene_0001  0.000000  0.881103  3.653609     0.000000      0.00000     0.561926\n",
       "gene_0002  0.000000  0.000000  0.000000     0.000000      0.00000     0.000000\n",
       "gene_0003  0.000000  0.000000  0.000000     0.000000      0.00000     0.000000\n",
       "gene_0004  0.000000  0.000000  0.000000     0.000000      0.00000     0.000000\n",
       "gene_0005  1.149909  3.357905  5.801662     5.123019      4.74806     9.636806"
      ]
     },
     "execution_count": 48,
     "metadata": {},
     "output_type": "execute_result"
    }
   ],
   "source": [
    "# 確認\n",
    "df_count_fpkm.head()"
   ]
  },
  {
   "cell_type": "code",
   "execution_count": 60,
   "metadata": {},
   "outputs": [],
   "source": [
    "# 保存する\n",
    "df_count_fpkm.to_csv(\"../output/count_fpkm.tsv\", sep=\"\\t\")"
   ]
  },
  {
   "cell_type": "markdown",
   "metadata": {},
   "source": [
    "## TPM 正規化\n",
    "TPM = transcripts per kilobase million  \n",
    "TPM の説明については以下のページが詳しい https://bi.biopapyrus.jp/  \n",
    "FPKM/RPKM のときとは逆に、長さ1,000bpあたりのリード数を求めてから、総リード数を100万に揃えれば良い。"
   ]
  },
  {
   "cell_type": "code",
   "execution_count": 49,
   "metadata": {},
   "outputs": [],
   "source": [
    "df_tmp = df_count.copy()"
   ]
  },
  {
   "cell_type": "code",
   "execution_count": 50,
   "metadata": {},
   "outputs": [],
   "source": [
    "df_tmp = normalize_per_kilobase(df_tmp, gene_length)\n",
    "df_tmp = normalize_per_million_reads(df_tmp)"
   ]
  },
  {
   "cell_type": "code",
   "execution_count": 51,
   "metadata": {},
   "outputs": [
    {
     "data": {
      "text/html": [
       "<div>\n",
       "<style scoped>\n",
       "    .dataframe tbody tr th:only-of-type {\n",
       "        vertical-align: middle;\n",
       "    }\n",
       "\n",
       "    .dataframe tbody tr th {\n",
       "        vertical-align: top;\n",
       "    }\n",
       "\n",
       "    .dataframe thead th {\n",
       "        text-align: right;\n",
       "    }\n",
       "</style>\n",
       "<table border=\"1\" class=\"dataframe\">\n",
       "  <thead>\n",
       "    <tr style=\"text-align: right;\">\n",
       "      <th></th>\n",
       "      <th>batch_1</th>\n",
       "      <th>batch_2</th>\n",
       "      <th>batch_3</th>\n",
       "      <th>chemostat_1</th>\n",
       "      <th>chemostat_2</th>\n",
       "      <th>chemostat_3</th>\n",
       "    </tr>\n",
       "    <tr>\n",
       "      <th>gene_id</th>\n",
       "      <th></th>\n",
       "      <th></th>\n",
       "      <th></th>\n",
       "      <th></th>\n",
       "      <th></th>\n",
       "      <th></th>\n",
       "    </tr>\n",
       "  </thead>\n",
       "  <tbody>\n",
       "    <tr>\n",
       "      <th>gene_0001</th>\n",
       "      <td>0.00000</td>\n",
       "      <td>0.734587</td>\n",
       "      <td>3.129839</td>\n",
       "      <td>0.000000</td>\n",
       "      <td>0.000000</td>\n",
       "      <td>0.504810</td>\n",
       "    </tr>\n",
       "    <tr>\n",
       "      <th>gene_0002</th>\n",
       "      <td>0.00000</td>\n",
       "      <td>0.000000</td>\n",
       "      <td>0.000000</td>\n",
       "      <td>0.000000</td>\n",
       "      <td>0.000000</td>\n",
       "      <td>0.000000</td>\n",
       "    </tr>\n",
       "    <tr>\n",
       "      <th>gene_0003</th>\n",
       "      <td>0.00000</td>\n",
       "      <td>0.000000</td>\n",
       "      <td>0.000000</td>\n",
       "      <td>0.000000</td>\n",
       "      <td>0.000000</td>\n",
       "      <td>0.000000</td>\n",
       "    </tr>\n",
       "    <tr>\n",
       "      <th>gene_0004</th>\n",
       "      <td>0.00000</td>\n",
       "      <td>0.000000</td>\n",
       "      <td>0.000000</td>\n",
       "      <td>0.000000</td>\n",
       "      <td>0.000000</td>\n",
       "      <td>0.000000</td>\n",
       "    </tr>\n",
       "    <tr>\n",
       "      <th>gene_0005</th>\n",
       "      <td>0.94849</td>\n",
       "      <td>2.799529</td>\n",
       "      <td>4.969954</td>\n",
       "      <td>4.689762</td>\n",
       "      <td>4.372026</td>\n",
       "      <td>8.657291</td>\n",
       "    </tr>\n",
       "  </tbody>\n",
       "</table>\n",
       "</div>"
      ],
      "text/plain": [
       "           batch_1   batch_2   batch_3  chemostat_1  chemostat_2  chemostat_3\n",
       "gene_id                                                                      \n",
       "gene_0001  0.00000  0.734587  3.129839     0.000000     0.000000     0.504810\n",
       "gene_0002  0.00000  0.000000  0.000000     0.000000     0.000000     0.000000\n",
       "gene_0003  0.00000  0.000000  0.000000     0.000000     0.000000     0.000000\n",
       "gene_0004  0.00000  0.000000  0.000000     0.000000     0.000000     0.000000\n",
       "gene_0005  0.94849  2.799529  4.969954     4.689762     4.372026     8.657291"
      ]
     },
     "execution_count": 51,
     "metadata": {},
     "output_type": "execute_result"
    }
   ],
   "source": [
    "df_tmp.head()"
   ]
  },
  {
   "cell_type": "code",
   "execution_count": 52,
   "metadata": {},
   "outputs": [
    {
     "data": {
      "text/plain": [
       "batch_1        1000000.0\n",
       "batch_2        1000000.0\n",
       "batch_3        1000000.0\n",
       "chemostat_1    1000000.0\n",
       "chemostat_2    1000000.0\n",
       "chemostat_3    1000000.0\n",
       "dtype: float64"
      ]
     },
     "execution_count": 52,
     "metadata": {},
     "output_type": "execute_result"
    }
   ],
   "source": [
    "# RPKM/FPKMと違い、合計が100万となっています。\n",
    "df_tmp.sum()"
   ]
  },
  {
   "cell_type": "code",
   "execution_count": 53,
   "metadata": {},
   "outputs": [],
   "source": [
    "# 関数化します\n",
    "def normalize_tpm(df, gene_length):\n",
    "    df_tmp = df.copy()\n",
    "    df_tmp = normalize_per_kilobase(df_tmp, gene_length)\n",
    "    df_tmp = normalize_per_million_reads(df_tmp)\n",
    "    return df_tmp"
   ]
  },
  {
   "cell_type": "code",
   "execution_count": 54,
   "metadata": {},
   "outputs": [],
   "source": [
    "df_count_tpm = normalize_tpm(df_count, gene_length)"
   ]
  },
  {
   "cell_type": "code",
   "execution_count": 55,
   "metadata": {},
   "outputs": [
    {
     "data": {
      "text/plain": [
       "batch_1        1000000.0\n",
       "batch_2        1000000.0\n",
       "batch_3        1000000.0\n",
       "chemostat_1    1000000.0\n",
       "chemostat_2    1000000.0\n",
       "chemostat_3    1000000.0\n",
       "dtype: float64"
      ]
     },
     "execution_count": 55,
     "metadata": {},
     "output_type": "execute_result"
    }
   ],
   "source": [
    "df_count_tpm.sum() #  確認"
   ]
  },
  {
   "cell_type": "code",
   "execution_count": 56,
   "metadata": {},
   "outputs": [],
   "source": [
    "# 保存\n",
    "df_count_tpm.to_csv(\"../output/count_tpm.tsv\", sep=\"\\t\")"
   ]
  },
  {
   "cell_type": "markdown",
   "metadata": {},
   "source": [
    "## 課題7　発現変動遺伝子を抽出する\n",
    "以下のセルを実行し, 各条件の平均から発現変動をlog2 foldとして求める。"
   ]
  },
  {
   "cell_type": "code",
   "execution_count": 57,
   "metadata": {},
   "outputs": [],
   "source": [
    "# batch cultureの平均を求める\n",
    "df_count_tpm[\"batch\"] = (df_count_tpm[\"batch_1\"] + df_count_tpm[\"batch_2\"] + df_count_tpm[\"batch_3\"]) / 3\n",
    "\n",
    "# chemostatの平均を求める\n",
    "df_count_tpm[\"chemostat\"] = (df_count_tpm[\"chemostat_1\"] + df_count_tpm[\"chemostat_2\"] + df_count_tpm[\"chemostat_3\"]) / 3\n",
    "\n",
    "# 発現変動をlog2 fold として求める\n",
    "# 0 での除算を防ぐため、分母に微小な値を加えている\n",
    "df_count_tpm[\"log2fold\"] = df_count_tpm[\"chemostat\"] / (df_count_tpm[\"batch\"] + 10**-6)\n",
    "df_count_tpm[\"log2fold\"] = df_count_tpm[\"log2fold\"].apply(np.log2)"
   ]
  },
  {
   "cell_type": "code",
   "execution_count": 58,
   "metadata": {},
   "outputs": [
    {
     "data": {
      "text/html": [
       "<div>\n",
       "<style scoped>\n",
       "    .dataframe tbody tr th:only-of-type {\n",
       "        vertical-align: middle;\n",
       "    }\n",
       "\n",
       "    .dataframe tbody tr th {\n",
       "        vertical-align: top;\n",
       "    }\n",
       "\n",
       "    .dataframe thead th {\n",
       "        text-align: right;\n",
       "    }\n",
       "</style>\n",
       "<table border=\"1\" class=\"dataframe\">\n",
       "  <thead>\n",
       "    <tr style=\"text-align: right;\">\n",
       "      <th></th>\n",
       "      <th>batch_1</th>\n",
       "      <th>batch_2</th>\n",
       "      <th>batch_3</th>\n",
       "      <th>chemostat_1</th>\n",
       "      <th>chemostat_2</th>\n",
       "      <th>chemostat_3</th>\n",
       "      <th>batch</th>\n",
       "      <th>chemostat</th>\n",
       "      <th>log2fold</th>\n",
       "    </tr>\n",
       "    <tr>\n",
       "      <th>gene_id</th>\n",
       "      <th></th>\n",
       "      <th></th>\n",
       "      <th></th>\n",
       "      <th></th>\n",
       "      <th></th>\n",
       "      <th></th>\n",
       "      <th></th>\n",
       "      <th></th>\n",
       "      <th></th>\n",
       "    </tr>\n",
       "  </thead>\n",
       "  <tbody>\n",
       "    <tr>\n",
       "      <th>gene_0001</th>\n",
       "      <td>0.00000</td>\n",
       "      <td>0.734587</td>\n",
       "      <td>3.129839</td>\n",
       "      <td>0.000000</td>\n",
       "      <td>0.000000</td>\n",
       "      <td>0.504810</td>\n",
       "      <td>1.288142</td>\n",
       "      <td>0.168270</td>\n",
       "      <td>-2.936443</td>\n",
       "    </tr>\n",
       "    <tr>\n",
       "      <th>gene_0002</th>\n",
       "      <td>0.00000</td>\n",
       "      <td>0.000000</td>\n",
       "      <td>0.000000</td>\n",
       "      <td>0.000000</td>\n",
       "      <td>0.000000</td>\n",
       "      <td>0.000000</td>\n",
       "      <td>0.000000</td>\n",
       "      <td>0.000000</td>\n",
       "      <td>-inf</td>\n",
       "    </tr>\n",
       "    <tr>\n",
       "      <th>gene_0003</th>\n",
       "      <td>0.00000</td>\n",
       "      <td>0.000000</td>\n",
       "      <td>0.000000</td>\n",
       "      <td>0.000000</td>\n",
       "      <td>0.000000</td>\n",
       "      <td>0.000000</td>\n",
       "      <td>0.000000</td>\n",
       "      <td>0.000000</td>\n",
       "      <td>-inf</td>\n",
       "    </tr>\n",
       "    <tr>\n",
       "      <th>gene_0004</th>\n",
       "      <td>0.00000</td>\n",
       "      <td>0.000000</td>\n",
       "      <td>0.000000</td>\n",
       "      <td>0.000000</td>\n",
       "      <td>0.000000</td>\n",
       "      <td>0.000000</td>\n",
       "      <td>0.000000</td>\n",
       "      <td>0.000000</td>\n",
       "      <td>-inf</td>\n",
       "    </tr>\n",
       "    <tr>\n",
       "      <th>gene_0005</th>\n",
       "      <td>0.94849</td>\n",
       "      <td>2.799529</td>\n",
       "      <td>4.969954</td>\n",
       "      <td>4.689762</td>\n",
       "      <td>4.372026</td>\n",
       "      <td>8.657291</td>\n",
       "      <td>2.905991</td>\n",
       "      <td>5.906359</td>\n",
       "      <td>1.023238</td>\n",
       "    </tr>\n",
       "  </tbody>\n",
       "</table>\n",
       "</div>"
      ],
      "text/plain": [
       "           batch_1   batch_2   batch_3  chemostat_1  chemostat_2  chemostat_3  \\\n",
       "gene_id                                                                         \n",
       "gene_0001  0.00000  0.734587  3.129839     0.000000     0.000000     0.504810   \n",
       "gene_0002  0.00000  0.000000  0.000000     0.000000     0.000000     0.000000   \n",
       "gene_0003  0.00000  0.000000  0.000000     0.000000     0.000000     0.000000   \n",
       "gene_0004  0.00000  0.000000  0.000000     0.000000     0.000000     0.000000   \n",
       "gene_0005  0.94849  2.799529  4.969954     4.689762     4.372026     8.657291   \n",
       "\n",
       "              batch  chemostat  log2fold  \n",
       "gene_id                                   \n",
       "gene_0001  1.288142   0.168270 -2.936443  \n",
       "gene_0002  0.000000   0.000000      -inf  \n",
       "gene_0003  0.000000   0.000000      -inf  \n",
       "gene_0004  0.000000   0.000000      -inf  \n",
       "gene_0005  2.905991   5.906359  1.023238  "
      ]
     },
     "execution_count": 58,
     "metadata": {},
     "output_type": "execute_result"
    }
   ],
   "source": [
    "# 確認\n",
    "df_count_tpm.head()"
   ]
  },
  {
   "cell_type": "markdown",
   "metadata": {},
   "source": [
    "`df_count_tpm` から\"batch\", \"chemostat\", \"log2fold\"の列を抜き出し`diff_ex`とする"
   ]
  },
  {
   "cell_type": "code",
   "execution_count": 59,
   "metadata": {},
   "outputs": [],
   "source": [
    "# [.......]に抜き出す列のリストを入れて実行\n",
    "diff_ex = df_count_tpm[['batch', 'chemostat', 'log2fold']]"
   ]
  },
  {
   "cell_type": "markdown",
   "metadata": {},
   "source": [
    "`diff_ex.join()` でproductと結合,productとgene_idの対応は`gene_products`を使う"
   ]
  },
  {
   "cell_type": "code",
   "execution_count": 60,
   "metadata": {},
   "outputs": [],
   "source": [
    "# join()でproductと結合\n",
    "diff_ex = diff_ex.join(gene_products)"
   ]
  },
  {
   "cell_type": "code",
   "execution_count": 61,
   "metadata": {},
   "outputs": [
    {
     "data": {
      "text/html": [
       "<div>\n",
       "<style scoped>\n",
       "    .dataframe tbody tr th:only-of-type {\n",
       "        vertical-align: middle;\n",
       "    }\n",
       "\n",
       "    .dataframe tbody tr th {\n",
       "        vertical-align: top;\n",
       "    }\n",
       "\n",
       "    .dataframe thead th {\n",
       "        text-align: right;\n",
       "    }\n",
       "</style>\n",
       "<table border=\"1\" class=\"dataframe\">\n",
       "  <thead>\n",
       "    <tr style=\"text-align: right;\">\n",
       "      <th></th>\n",
       "      <th>batch</th>\n",
       "      <th>chemostat</th>\n",
       "      <th>log2fold</th>\n",
       "      <th>product</th>\n",
       "    </tr>\n",
       "    <tr>\n",
       "      <th>gene_id</th>\n",
       "      <th></th>\n",
       "      <th></th>\n",
       "      <th></th>\n",
       "      <th></th>\n",
       "    </tr>\n",
       "  </thead>\n",
       "  <tbody>\n",
       "    <tr>\n",
       "      <th>gene_0001</th>\n",
       "      <td>1.288142</td>\n",
       "      <td>0.168270</td>\n",
       "      <td>-2.936443</td>\n",
       "      <td>seripauperin PAU8</td>\n",
       "    </tr>\n",
       "    <tr>\n",
       "      <th>gene_0002</th>\n",
       "      <td>0.000000</td>\n",
       "      <td>0.000000</td>\n",
       "      <td>-inf</td>\n",
       "      <td>hypothetical protein</td>\n",
       "    </tr>\n",
       "    <tr>\n",
       "      <th>gene_0003</th>\n",
       "      <td>0.000000</td>\n",
       "      <td>0.000000</td>\n",
       "      <td>-inf</td>\n",
       "      <td>putative permease SEO1</td>\n",
       "    </tr>\n",
       "    <tr>\n",
       "      <th>gene_0004</th>\n",
       "      <td>0.000000</td>\n",
       "      <td>0.000000</td>\n",
       "      <td>-inf</td>\n",
       "      <td>hypothetical protein</td>\n",
       "    </tr>\n",
       "    <tr>\n",
       "      <th>gene_0005</th>\n",
       "      <td>2.905991</td>\n",
       "      <td>5.906359</td>\n",
       "      <td>1.023238</td>\n",
       "      <td>hypothetical protein</td>\n",
       "    </tr>\n",
       "  </tbody>\n",
       "</table>\n",
       "</div>"
      ],
      "text/plain": [
       "              batch  chemostat  log2fold                 product\n",
       "gene_id                                                         \n",
       "gene_0001  1.288142   0.168270 -2.936443       seripauperin PAU8\n",
       "gene_0002  0.000000   0.000000      -inf    hypothetical protein\n",
       "gene_0003  0.000000   0.000000      -inf  putative permease SEO1\n",
       "gene_0004  0.000000   0.000000      -inf    hypothetical protein\n",
       "gene_0005  2.905991   5.906359  1.023238    hypothetical protein"
      ]
     },
     "execution_count": 61,
     "metadata": {},
     "output_type": "execute_result"
    }
   ],
   "source": [
    "# 確認\n",
    "diff_ex.head()"
   ]
  },
  {
   "cell_type": "code",
   "execution_count": 62,
   "metadata": {},
   "outputs": [],
   "source": [
    "# カウント数が0であるデータを除いておく\n",
    "diff_ex = diff_ex[diff_ex[\"batch\"] > 0]\n",
    "diff_ex = diff_ex[diff_ex[\"chemostat\"] > 0]"
   ]
  },
  {
   "cell_type": "code",
   "execution_count": 63,
   "metadata": {},
   "outputs": [
    {
     "data": {
      "text/html": [
       "<div>\n",
       "<style scoped>\n",
       "    .dataframe tbody tr th:only-of-type {\n",
       "        vertical-align: middle;\n",
       "    }\n",
       "\n",
       "    .dataframe tbody tr th {\n",
       "        vertical-align: top;\n",
       "    }\n",
       "\n",
       "    .dataframe thead th {\n",
       "        text-align: right;\n",
       "    }\n",
       "</style>\n",
       "<table border=\"1\" class=\"dataframe\">\n",
       "  <thead>\n",
       "    <tr style=\"text-align: right;\">\n",
       "      <th></th>\n",
       "      <th>batch</th>\n",
       "      <th>chemostat</th>\n",
       "      <th>log2fold</th>\n",
       "      <th>product</th>\n",
       "    </tr>\n",
       "    <tr>\n",
       "      <th>gene_id</th>\n",
       "      <th></th>\n",
       "      <th></th>\n",
       "      <th></th>\n",
       "      <th></th>\n",
       "    </tr>\n",
       "  </thead>\n",
       "  <tbody>\n",
       "    <tr>\n",
       "      <th>gene_0001</th>\n",
       "      <td>1.288142</td>\n",
       "      <td>0.168270</td>\n",
       "      <td>-2.936443</td>\n",
       "      <td>seripauperin PAU8</td>\n",
       "    </tr>\n",
       "    <tr>\n",
       "      <th>gene_0005</th>\n",
       "      <td>2.905991</td>\n",
       "      <td>5.906359</td>\n",
       "      <td>1.023238</td>\n",
       "      <td>hypothetical protein</td>\n",
       "    </tr>\n",
       "    <tr>\n",
       "      <th>gene_0009</th>\n",
       "      <td>1.424695</td>\n",
       "      <td>3.627256</td>\n",
       "      <td>1.348225</td>\n",
       "      <td>flocculin FLO9</td>\n",
       "    </tr>\n",
       "    <tr>\n",
       "      <th>gene_0010</th>\n",
       "      <td>8.211912</td>\n",
       "      <td>155.846213</td>\n",
       "      <td>4.246261</td>\n",
       "      <td>glutamate dehydrogenase (NADP(+)) GDH3</td>\n",
       "    </tr>\n",
       "    <tr>\n",
       "      <th>gene_0011</th>\n",
       "      <td>14.270889</td>\n",
       "      <td>155.994499</td>\n",
       "      <td>3.450348</td>\n",
       "      <td>putative dehydrogenase BDH2</td>\n",
       "    </tr>\n",
       "  </tbody>\n",
       "</table>\n",
       "</div>"
      ],
      "text/plain": [
       "               batch   chemostat  log2fold  \\\n",
       "gene_id                                      \n",
       "gene_0001   1.288142    0.168270 -2.936443   \n",
       "gene_0005   2.905991    5.906359  1.023238   \n",
       "gene_0009   1.424695    3.627256  1.348225   \n",
       "gene_0010   8.211912  155.846213  4.246261   \n",
       "gene_0011  14.270889  155.994499  3.450348   \n",
       "\n",
       "                                          product  \n",
       "gene_id                                            \n",
       "gene_0001                       seripauperin PAU8  \n",
       "gene_0005                    hypothetical protein  \n",
       "gene_0009                          flocculin FLO9  \n",
       "gene_0010  glutamate dehydrogenase (NADP(+)) GDH3  \n",
       "gene_0011             putative dehydrogenase BDH2  "
      ]
     },
     "execution_count": 63,
     "metadata": {},
     "output_type": "execute_result"
    }
   ],
   "source": [
    "# 確認\n",
    "diff_ex.head()"
   ]
  },
  {
   "cell_type": "markdown",
   "metadata": {},
   "source": [
    "log2foldの列を降順に並び替える（diff_ex.sort_valuesを使う)"
   ]
  },
  {
   "cell_type": "code",
   "execution_count": 64,
   "metadata": {},
   "outputs": [],
   "source": [
    "# (.....)に必要なオプションを入れて実行\n",
    "diff_ex = diff_ex.sort_values('log2fold', ascending=False)"
   ]
  },
  {
   "cell_type": "code",
   "execution_count": 65,
   "metadata": {},
   "outputs": [
    {
     "data": {
      "text/html": [
       "<div>\n",
       "<style scoped>\n",
       "    .dataframe tbody tr th:only-of-type {\n",
       "        vertical-align: middle;\n",
       "    }\n",
       "\n",
       "    .dataframe tbody tr th {\n",
       "        vertical-align: top;\n",
       "    }\n",
       "\n",
       "    .dataframe thead th {\n",
       "        text-align: right;\n",
       "    }\n",
       "</style>\n",
       "<table border=\"1\" class=\"dataframe\">\n",
       "  <thead>\n",
       "    <tr style=\"text-align: right;\">\n",
       "      <th></th>\n",
       "      <th>batch</th>\n",
       "      <th>chemostat</th>\n",
       "      <th>log2fold</th>\n",
       "      <th>product</th>\n",
       "    </tr>\n",
       "    <tr>\n",
       "      <th>gene_id</th>\n",
       "      <th></th>\n",
       "      <th></th>\n",
       "      <th></th>\n",
       "      <th></th>\n",
       "    </tr>\n",
       "  </thead>\n",
       "  <tbody>\n",
       "    <tr>\n",
       "      <th>gene_2989</th>\n",
       "      <td>0.428753</td>\n",
       "      <td>1469.082090</td>\n",
       "      <td>11.742478</td>\n",
       "      <td>Rgi2p</td>\n",
       "    </tr>\n",
       "    <tr>\n",
       "      <th>gene_4740</th>\n",
       "      <td>3.101195</td>\n",
       "      <td>5075.124519</td>\n",
       "      <td>10.676403</td>\n",
       "      <td>Sip18p</td>\n",
       "    </tr>\n",
       "    <tr>\n",
       "      <th>gene_4667</th>\n",
       "      <td>4.944971</td>\n",
       "      <td>4658.135852</td>\n",
       "      <td>9.879575</td>\n",
       "      <td>Spg4p</td>\n",
       "    </tr>\n",
       "    <tr>\n",
       "      <th>gene_4237</th>\n",
       "      <td>0.961310</td>\n",
       "      <td>708.223065</td>\n",
       "      <td>9.524985</td>\n",
       "      <td>hypothetical protein</td>\n",
       "    </tr>\n",
       "    <tr>\n",
       "      <th>gene_5965</th>\n",
       "      <td>7.232487</td>\n",
       "      <td>5295.812440</td>\n",
       "      <td>9.516144</td>\n",
       "      <td>Gre1p</td>\n",
       "    </tr>\n",
       "  </tbody>\n",
       "</table>\n",
       "</div>"
      ],
      "text/plain": [
       "              batch    chemostat   log2fold               product\n",
       "gene_id                                                          \n",
       "gene_2989  0.428753  1469.082090  11.742478                 Rgi2p\n",
       "gene_4740  3.101195  5075.124519  10.676403                Sip18p\n",
       "gene_4667  4.944971  4658.135852   9.879575                 Spg4p\n",
       "gene_4237  0.961310   708.223065   9.524985  hypothetical protein\n",
       "gene_5965  7.232487  5295.812440   9.516144                 Gre1p"
      ]
     },
     "execution_count": 65,
     "metadata": {},
     "output_type": "execute_result"
    }
   ],
   "source": [
    "# chemostat > batch の上位5番目まで表示\n",
    "diff_ex.head()"
   ]
  },
  {
   "cell_type": "code",
   "execution_count": 66,
   "metadata": {},
   "outputs": [
    {
     "data": {
      "text/html": [
       "<div>\n",
       "<style scoped>\n",
       "    .dataframe tbody tr th:only-of-type {\n",
       "        vertical-align: middle;\n",
       "    }\n",
       "\n",
       "    .dataframe tbody tr th {\n",
       "        vertical-align: top;\n",
       "    }\n",
       "\n",
       "    .dataframe thead th {\n",
       "        text-align: right;\n",
       "    }\n",
       "</style>\n",
       "<table border=\"1\" class=\"dataframe\">\n",
       "  <thead>\n",
       "    <tr style=\"text-align: right;\">\n",
       "      <th></th>\n",
       "      <th>batch</th>\n",
       "      <th>chemostat</th>\n",
       "      <th>log2fold</th>\n",
       "      <th>product</th>\n",
       "    </tr>\n",
       "    <tr>\n",
       "      <th>gene_id</th>\n",
       "      <th></th>\n",
       "      <th></th>\n",
       "      <th></th>\n",
       "      <th></th>\n",
       "    </tr>\n",
       "  </thead>\n",
       "  <tbody>\n",
       "    <tr>\n",
       "      <th>gene_0314</th>\n",
       "      <td>10.570903</td>\n",
       "      <td>1.105484</td>\n",
       "      <td>-3.257349</td>\n",
       "      <td>ADP/ATP carrier protein AAC3</td>\n",
       "    </tr>\n",
       "    <tr>\n",
       "      <th>gene_2429</th>\n",
       "      <td>2.082786</td>\n",
       "      <td>0.181792</td>\n",
       "      <td>-3.518158</td>\n",
       "      <td>hypothetical protein</td>\n",
       "    </tr>\n",
       "    <tr>\n",
       "      <th>gene_2725</th>\n",
       "      <td>784.525221</td>\n",
       "      <td>66.820686</td>\n",
       "      <td>-3.553453</td>\n",
       "      <td>hexose transporter HXT4</td>\n",
       "    </tr>\n",
       "    <tr>\n",
       "      <th>gene_5487</th>\n",
       "      <td>77.913513</td>\n",
       "      <td>6.244048</td>\n",
       "      <td>-3.641320</td>\n",
       "      <td>hypothetical protein</td>\n",
       "    </tr>\n",
       "    <tr>\n",
       "      <th>gene_1320</th>\n",
       "      <td>812.668223</td>\n",
       "      <td>46.017423</td>\n",
       "      <td>-4.142414</td>\n",
       "      <td>hexose transporter HXT3</td>\n",
       "    </tr>\n",
       "  </tbody>\n",
       "</table>\n",
       "</div>"
      ],
      "text/plain": [
       "                batch  chemostat  log2fold                       product\n",
       "gene_id                                                                 \n",
       "gene_0314   10.570903   1.105484 -3.257349  ADP/ATP carrier protein AAC3\n",
       "gene_2429    2.082786   0.181792 -3.518158          hypothetical protein\n",
       "gene_2725  784.525221  66.820686 -3.553453       hexose transporter HXT4\n",
       "gene_5487   77.913513   6.244048 -3.641320          hypothetical protein\n",
       "gene_1320  812.668223  46.017423 -4.142414       hexose transporter HXT3"
      ]
     },
     "execution_count": 66,
     "metadata": {},
     "output_type": "execute_result"
    }
   ],
   "source": [
    "# batch > chemostat の上位5番目まで表示\n",
    "diff_ex.tail()"
   ]
  }
 ],
 "metadata": {
  "kernelspec": {
   "display_name": "Python 3",
   "language": "python",
   "name": "python3"
  },
  "language_info": {
   "codemirror_mode": {
    "name": "ipython",
    "version": 3
   },
   "file_extension": ".py",
   "mimetype": "text/x-python",
   "name": "python",
   "nbconvert_exporter": "python",
   "pygments_lexer": "ipython3",
   "version": "3.7.1"
  },
  "toc": {
   "colors": {
    "hover_highlight": "#DAA520",
    "running_highlight": "#FF0000",
    "selected_highlight": "#FFD700"
   },
   "moveMenuLeft": true,
   "nav_menu": {
    "height": "102px",
    "width": "252px"
   },
   "navigate_menu": true,
   "number_sections": true,
   "sideBar": true,
   "threshold": 4,
   "toc_cell": false,
   "toc_section_display": "block",
   "toc_window_display": false
  }
 },
 "nbformat": 4,
 "nbformat_minor": 2
}
