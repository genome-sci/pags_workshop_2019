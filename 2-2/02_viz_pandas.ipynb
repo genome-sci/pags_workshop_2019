{
 "cells": [
  {
   "cell_type": "markdown",
   "metadata": {
    "colab_type": "text",
    "id": "s8egYZfTaPrZ"
   },
   "source": [
    "# データセット\n",
    "\n",
    "\n",
    "Python の statsmodels パッケージを使用することで、R で使われている様々なデータセットを取り出すことができる。statsmodels パッケージ中の `get_rdataset` 関数に、R で使われているときの、データセットの名前とパッケージの名前を与えると、データとそのアノテーションが取得され、オブジェクトに保存される。statsmodels パッケージで呼び出せるデータセット一覧は [GitHub](http://vincentarelbundock.github.io/Rdatasets/datasets.html) ページで公開されている。\n"
   ]
  },
  {
   "cell_type": "code",
   "execution_count": 0,
   "metadata": {
    "colab": {},
    "colab_type": "code",
    "id": "WaqWq1GnbAT5"
   },
   "outputs": [],
   "source": [
    "import statsmodels.api as sm"
   ]
  },
  {
   "cell_type": "code",
   "execution_count": 2,
   "metadata": {
    "colab": {
     "base_uri": "https://localhost:8080/",
     "height": 204
    },
    "colab_type": "code",
    "executionInfo": {
     "elapsed": 2842,
     "status": "ok",
     "timestamp": 1570361958221,
     "user": {
      "displayName": "Sun Jianqiang",
      "photoUrl": "https://lh3.googleusercontent.com/a-/AAuE7mBlbk3ZLL3MgU6_rhZEcQqnf2tEY7rB0jvD_0qQ8g=s64",
      "userId": "00446318326838345787"
     },
     "user_tz": -540
    },
    "id": "yF4eGy9aYmBi",
    "outputId": "631b9fd2-0e29-4828-c47b-d1d2f9ee48be"
   },
   "outputs": [
    {
     "data": {
      "text/html": [
       "<div>\n",
       "<style scoped>\n",
       "    .dataframe tbody tr th:only-of-type {\n",
       "        vertical-align: middle;\n",
       "    }\n",
       "\n",
       "    .dataframe tbody tr th {\n",
       "        vertical-align: top;\n",
       "    }\n",
       "\n",
       "    .dataframe thead th {\n",
       "        text-align: right;\n",
       "    }\n",
       "</style>\n",
       "<table border=\"1\" class=\"dataframe\">\n",
       "  <thead>\n",
       "    <tr style=\"text-align: right;\">\n",
       "      <th></th>\n",
       "      <th>date</th>\n",
       "      <th>pce</th>\n",
       "      <th>pop</th>\n",
       "      <th>psavert</th>\n",
       "      <th>uempmed</th>\n",
       "      <th>unemploy</th>\n",
       "    </tr>\n",
       "  </thead>\n",
       "  <tbody>\n",
       "    <tr>\n",
       "      <th>0</th>\n",
       "      <td>1967-07-01</td>\n",
       "      <td>507.4</td>\n",
       "      <td>198712</td>\n",
       "      <td>12.5</td>\n",
       "      <td>4.5</td>\n",
       "      <td>2944</td>\n",
       "    </tr>\n",
       "    <tr>\n",
       "      <th>1</th>\n",
       "      <td>1967-08-01</td>\n",
       "      <td>510.5</td>\n",
       "      <td>198911</td>\n",
       "      <td>12.5</td>\n",
       "      <td>4.7</td>\n",
       "      <td>2945</td>\n",
       "    </tr>\n",
       "    <tr>\n",
       "      <th>2</th>\n",
       "      <td>1967-09-01</td>\n",
       "      <td>516.3</td>\n",
       "      <td>199113</td>\n",
       "      <td>11.7</td>\n",
       "      <td>4.6</td>\n",
       "      <td>2958</td>\n",
       "    </tr>\n",
       "    <tr>\n",
       "      <th>3</th>\n",
       "      <td>1967-10-01</td>\n",
       "      <td>512.9</td>\n",
       "      <td>199311</td>\n",
       "      <td>12.5</td>\n",
       "      <td>4.9</td>\n",
       "      <td>3143</td>\n",
       "    </tr>\n",
       "    <tr>\n",
       "      <th>4</th>\n",
       "      <td>1967-11-01</td>\n",
       "      <td>518.1</td>\n",
       "      <td>199498</td>\n",
       "      <td>12.5</td>\n",
       "      <td>4.7</td>\n",
       "      <td>3066</td>\n",
       "    </tr>\n",
       "  </tbody>\n",
       "</table>\n",
       "</div>"
      ],
      "text/plain": [
       "         date    pce     pop  psavert  uempmed  unemploy\n",
       "0  1967-07-01  507.4  198712     12.5      4.5      2944\n",
       "1  1967-08-01  510.5  198911     12.5      4.7      2945\n",
       "2  1967-09-01  516.3  199113     11.7      4.6      2958\n",
       "3  1967-10-01  512.9  199311     12.5      4.9      3143\n",
       "4  1967-11-01  518.1  199498     12.5      4.7      3066"
      ]
     },
     "execution_count": 2,
     "metadata": {
      "tags": []
     },
     "output_type": "execute_result"
    }
   ],
   "source": [
    "economics_dataset = sm.datasets.get_rdataset('economics', 'ggplot2')\n",
    "economics = economics_dataset.data\n",
    "economics.head()"
   ]
  },
  {
   "cell_type": "code",
   "execution_count": 3,
   "metadata": {
    "colab": {
     "base_uri": "https://localhost:8080/",
     "height": 1000
    },
    "colab_type": "code",
    "executionInfo": {
     "elapsed": 2835,
     "status": "ok",
     "timestamp": 1570361958222,
     "user": {
      "displayName": "Sun Jianqiang",
      "photoUrl": "https://lh3.googleusercontent.com/a-/AAuE7mBlbk3ZLL3MgU6_rhZEcQqnf2tEY7rB0jvD_0qQ8g=s64",
      "userId": "00446318326838345787"
     },
     "user_tz": -540
    },
    "id": "Q4WJBBJYbFmF",
    "outputId": "bc14e5d9-5cf2-44f8-b616-5812863f7d88"
   },
   "outputs": [
    {
     "name": "stdout",
     "output_type": "stream",
     "text": [
      "\n",
      "    Two-dimensional size-mutable, potentially heterogeneous tabular data\n",
      "    structure with labeled axes (rows and columns). Arithmetic operations\n",
      "    align on both row and column labels. Can be thought of as a dict-like\n",
      "    container for Series objects. The primary pandas data structure.\n",
      "\n",
      "    Parameters\n",
      "    ----------\n",
      "    data : ndarray (structured or homogeneous), Iterable, dict, or DataFrame\n",
      "        Dict can contain Series, arrays, constants, or list-like objects\n",
      "\n",
      "        .. versionchanged :: 0.23.0\n",
      "           If data is a dict, argument order is maintained for Python 3.6\n",
      "           and later.\n",
      "\n",
      "    index : Index or array-like\n",
      "        Index to use for resulting frame. Will default to RangeIndex if\n",
      "        no indexing information part of input data and no index provided\n",
      "    columns : Index or array-like\n",
      "        Column labels to use for resulting frame. Will default to\n",
      "        RangeIndex (0, 1, 2, ..., n) if no column labels are provided\n",
      "    dtype : dtype, default None\n",
      "        Data type to force. Only a single dtype is allowed. If None, infer\n",
      "    copy : boolean, default False\n",
      "        Copy data from inputs. Only affects DataFrame / 2d ndarray input\n",
      "\n",
      "    See Also\n",
      "    --------\n",
      "    DataFrame.from_records : Constructor from tuples, also record arrays.\n",
      "    DataFrame.from_dict : From dicts of Series, arrays, or dicts.\n",
      "    DataFrame.from_items : From sequence of (key, value) pairs\n",
      "        pandas.read_csv, pandas.read_table, pandas.read_clipboard.\n",
      "\n",
      "    Examples\n",
      "    --------\n",
      "    Constructing DataFrame from a dictionary.\n",
      "\n",
      "    >>> d = {'col1': [1, 2], 'col2': [3, 4]}\n",
      "    >>> df = pd.DataFrame(data=d)\n",
      "    >>> df\n",
      "       col1  col2\n",
      "    0     1     3\n",
      "    1     2     4\n",
      "\n",
      "    Notice that the inferred dtype is int64.\n",
      "\n",
      "    >>> df.dtypes\n",
      "    col1    int64\n",
      "    col2    int64\n",
      "    dtype: object\n",
      "\n",
      "    To enforce a single dtype:\n",
      "\n",
      "    >>> df = pd.DataFrame(data=d, dtype=np.int8)\n",
      "    >>> df.dtypes\n",
      "    col1    int8\n",
      "    col2    int8\n",
      "    dtype: object\n",
      "\n",
      "    Constructing DataFrame from numpy ndarray:\n",
      "\n",
      "    >>> df2 = pd.DataFrame(np.array([[1, 2, 3], [4, 5, 6], [7, 8, 9]]),\n",
      "    ...                    columns=['a', 'b', 'c'])\n",
      "    >>> df2\n",
      "       a  b  c\n",
      "    0  1  2  3\n",
      "    1  4  5  6\n",
      "    2  7  8  9\n",
      "    \n"
     ]
    }
   ],
   "source": [
    "print(economics_dataset.data.__doc__)"
   ]
  },
  {
   "cell_type": "code",
   "execution_count": 4,
   "metadata": {
    "colab": {
     "base_uri": "https://localhost:8080/",
     "height": 204
    },
    "colab_type": "code",
    "executionInfo": {
     "elapsed": 3429,
     "status": "ok",
     "timestamp": 1570361958823,
     "user": {
      "displayName": "Sun Jianqiang",
      "photoUrl": "https://lh3.googleusercontent.com/a-/AAuE7mBlbk3ZLL3MgU6_rhZEcQqnf2tEY7rB0jvD_0qQ8g=s64",
      "userId": "00446318326838345787"
     },
     "user_tz": -540
    },
    "id": "wHVIH0AOZwiz",
    "outputId": "1e011232-3d73-4d27-86ea-d578119bab63"
   },
   "outputs": [
    {
     "data": {
      "text/html": [
       "<div>\n",
       "<style scoped>\n",
       "    .dataframe tbody tr th:only-of-type {\n",
       "        vertical-align: middle;\n",
       "    }\n",
       "\n",
       "    .dataframe tbody tr th {\n",
       "        vertical-align: top;\n",
       "    }\n",
       "\n",
       "    .dataframe thead th {\n",
       "        text-align: right;\n",
       "    }\n",
       "</style>\n",
       "<table border=\"1\" class=\"dataframe\">\n",
       "  <thead>\n",
       "    <tr style=\"text-align: right;\">\n",
       "      <th></th>\n",
       "      <th>PlantNo</th>\n",
       "      <th>Block</th>\n",
       "      <th>RootDryMass</th>\n",
       "      <th>ShootDryMass</th>\n",
       "      <th>trt</th>\n",
       "      <th>fert</th>\n",
       "      <th>variety</th>\n",
       "    </tr>\n",
       "  </thead>\n",
       "  <tbody>\n",
       "    <tr>\n",
       "      <th>0</th>\n",
       "      <td>1</td>\n",
       "      <td>1</td>\n",
       "      <td>56</td>\n",
       "      <td>132</td>\n",
       "      <td>F10</td>\n",
       "      <td>F10</td>\n",
       "      <td>wt</td>\n",
       "    </tr>\n",
       "    <tr>\n",
       "      <th>1</th>\n",
       "      <td>2</td>\n",
       "      <td>1</td>\n",
       "      <td>66</td>\n",
       "      <td>120</td>\n",
       "      <td>F10</td>\n",
       "      <td>F10</td>\n",
       "      <td>wt</td>\n",
       "    </tr>\n",
       "    <tr>\n",
       "      <th>2</th>\n",
       "      <td>3</td>\n",
       "      <td>1</td>\n",
       "      <td>40</td>\n",
       "      <td>108</td>\n",
       "      <td>F10</td>\n",
       "      <td>F10</td>\n",
       "      <td>wt</td>\n",
       "    </tr>\n",
       "    <tr>\n",
       "      <th>3</th>\n",
       "      <td>4</td>\n",
       "      <td>1</td>\n",
       "      <td>43</td>\n",
       "      <td>134</td>\n",
       "      <td>F10</td>\n",
       "      <td>F10</td>\n",
       "      <td>wt</td>\n",
       "    </tr>\n",
       "    <tr>\n",
       "      <th>4</th>\n",
       "      <td>5</td>\n",
       "      <td>1</td>\n",
       "      <td>55</td>\n",
       "      <td>119</td>\n",
       "      <td>F10</td>\n",
       "      <td>F10</td>\n",
       "      <td>wt</td>\n",
       "    </tr>\n",
       "  </tbody>\n",
       "</table>\n",
       "</div>"
      ],
      "text/plain": [
       "   PlantNo  Block  RootDryMass  ShootDryMass  trt fert variety\n",
       "0        1      1           56           132  F10  F10      wt\n",
       "1        2      1           66           120  F10  F10      wt\n",
       "2        3      1           40           108  F10  F10      wt\n",
       "3        4      1           43           134  F10  F10      wt\n",
       "4        5      1           55           119  F10  F10      wt"
      ]
     },
     "execution_count": 4,
     "metadata": {
      "tags": []
     },
     "output_type": "execute_result"
    }
   ],
   "source": [
    "rice_dataset = sm.datasets.get_rdataset('rice', 'DAAG')\n",
    "rice = rice_dataset.data\n",
    "rice.head()"
   ]
  },
  {
   "cell_type": "code",
   "execution_count": 5,
   "metadata": {
    "colab": {
     "base_uri": "https://localhost:8080/",
     "height": 204
    },
    "colab_type": "code",
    "executionInfo": {
     "elapsed": 3690,
     "status": "ok",
     "timestamp": 1570361959093,
     "user": {
      "displayName": "Sun Jianqiang",
      "photoUrl": "https://lh3.googleusercontent.com/a-/AAuE7mBlbk3ZLL3MgU6_rhZEcQqnf2tEY7rB0jvD_0qQ8g=s64",
      "userId": "00446318326838345787"
     },
     "user_tz": -540
    },
    "id": "Ip-RQf6gbdk1",
    "outputId": "f7c6fdee-5804-407b-a621-d1bd04a245fd"
   },
   "outputs": [
    {
     "data": {
      "text/html": [
       "<div>\n",
       "<style scoped>\n",
       "    .dataframe tbody tr th:only-of-type {\n",
       "        vertical-align: middle;\n",
       "    }\n",
       "\n",
       "    .dataframe tbody tr th {\n",
       "        vertical-align: top;\n",
       "    }\n",
       "\n",
       "    .dataframe thead th {\n",
       "        text-align: right;\n",
       "    }\n",
       "</style>\n",
       "<table border=\"1\" class=\"dataframe\">\n",
       "  <thead>\n",
       "    <tr style=\"text-align: right;\">\n",
       "      <th></th>\n",
       "      <th>name</th>\n",
       "      <th>genus</th>\n",
       "      <th>vore</th>\n",
       "      <th>order</th>\n",
       "      <th>conservation</th>\n",
       "      <th>sleep_total</th>\n",
       "      <th>sleep_rem</th>\n",
       "      <th>sleep_cycle</th>\n",
       "      <th>awake</th>\n",
       "      <th>brainwt</th>\n",
       "      <th>bodywt</th>\n",
       "    </tr>\n",
       "  </thead>\n",
       "  <tbody>\n",
       "    <tr>\n",
       "      <th>0</th>\n",
       "      <td>Cheetah</td>\n",
       "      <td>Acinonyx</td>\n",
       "      <td>carni</td>\n",
       "      <td>Carnivora</td>\n",
       "      <td>lc</td>\n",
       "      <td>12.1</td>\n",
       "      <td>NaN</td>\n",
       "      <td>NaN</td>\n",
       "      <td>11.9</td>\n",
       "      <td>NaN</td>\n",
       "      <td>50.000</td>\n",
       "    </tr>\n",
       "    <tr>\n",
       "      <th>1</th>\n",
       "      <td>Owl monkey</td>\n",
       "      <td>Aotus</td>\n",
       "      <td>omni</td>\n",
       "      <td>Primates</td>\n",
       "      <td>NaN</td>\n",
       "      <td>17.0</td>\n",
       "      <td>1.8</td>\n",
       "      <td>NaN</td>\n",
       "      <td>7.0</td>\n",
       "      <td>0.01550</td>\n",
       "      <td>0.480</td>\n",
       "    </tr>\n",
       "    <tr>\n",
       "      <th>2</th>\n",
       "      <td>Mountain beaver</td>\n",
       "      <td>Aplodontia</td>\n",
       "      <td>herbi</td>\n",
       "      <td>Rodentia</td>\n",
       "      <td>nt</td>\n",
       "      <td>14.4</td>\n",
       "      <td>2.4</td>\n",
       "      <td>NaN</td>\n",
       "      <td>9.6</td>\n",
       "      <td>NaN</td>\n",
       "      <td>1.350</td>\n",
       "    </tr>\n",
       "    <tr>\n",
       "      <th>3</th>\n",
       "      <td>Greater short-tailed shrew</td>\n",
       "      <td>Blarina</td>\n",
       "      <td>omni</td>\n",
       "      <td>Soricomorpha</td>\n",
       "      <td>lc</td>\n",
       "      <td>14.9</td>\n",
       "      <td>2.3</td>\n",
       "      <td>0.133333</td>\n",
       "      <td>9.1</td>\n",
       "      <td>0.00029</td>\n",
       "      <td>0.019</td>\n",
       "    </tr>\n",
       "    <tr>\n",
       "      <th>4</th>\n",
       "      <td>Cow</td>\n",
       "      <td>Bos</td>\n",
       "      <td>herbi</td>\n",
       "      <td>Artiodactyla</td>\n",
       "      <td>domesticated</td>\n",
       "      <td>4.0</td>\n",
       "      <td>0.7</td>\n",
       "      <td>0.666667</td>\n",
       "      <td>20.0</td>\n",
       "      <td>0.42300</td>\n",
       "      <td>600.000</td>\n",
       "    </tr>\n",
       "  </tbody>\n",
       "</table>\n",
       "</div>"
      ],
      "text/plain": [
       "                         name       genus   vore  ... awake  brainwt   bodywt\n",
       "0                     Cheetah    Acinonyx  carni  ...  11.9      NaN   50.000\n",
       "1                  Owl monkey       Aotus   omni  ...   7.0  0.01550    0.480\n",
       "2             Mountain beaver  Aplodontia  herbi  ...   9.6      NaN    1.350\n",
       "3  Greater short-tailed shrew     Blarina   omni  ...   9.1  0.00029    0.019\n",
       "4                         Cow         Bos  herbi  ...  20.0  0.42300  600.000\n",
       "\n",
       "[5 rows x 11 columns]"
      ]
     },
     "execution_count": 5,
     "metadata": {
      "tags": []
     },
     "output_type": "execute_result"
    }
   ],
   "source": [
    "msleep_dataset = sm.datasets.get_rdataset('msleep', 'ggplot2')\n",
    "msleep = msleep_dataset.data\n",
    "msleep.head()"
   ]
  },
  {
   "cell_type": "code",
   "execution_count": 6,
   "metadata": {
    "colab": {
     "base_uri": "https://localhost:8080/",
     "height": 204
    },
    "colab_type": "code",
    "executionInfo": {
     "elapsed": 3975,
     "status": "ok",
     "timestamp": 1570361959386,
     "user": {
      "displayName": "Sun Jianqiang",
      "photoUrl": "https://lh3.googleusercontent.com/a-/AAuE7mBlbk3ZLL3MgU6_rhZEcQqnf2tEY7rB0jvD_0qQ8g=s64",
      "userId": "00446318326838345787"
     },
     "user_tz": -540
    },
    "id": "8qfoMl4-w_fd",
    "outputId": "55c95820-0d1c-4556-d177-8dbe766be3eb"
   },
   "outputs": [
    {
     "data": {
      "text/html": [
       "<div>\n",
       "<style scoped>\n",
       "    .dataframe tbody tr th:only-of-type {\n",
       "        vertical-align: middle;\n",
       "    }\n",
       "\n",
       "    .dataframe tbody tr th {\n",
       "        vertical-align: top;\n",
       "    }\n",
       "\n",
       "    .dataframe thead th {\n",
       "        text-align: right;\n",
       "    }\n",
       "</style>\n",
       "<table border=\"1\" class=\"dataframe\">\n",
       "  <thead>\n",
       "    <tr style=\"text-align: right;\">\n",
       "      <th></th>\n",
       "      <th>Group</th>\n",
       "      <th>Contour</th>\n",
       "      <th>Depth</th>\n",
       "      <th>Gp</th>\n",
       "      <th>Block</th>\n",
       "      <th>pH</th>\n",
       "      <th>N</th>\n",
       "      <th>Dens</th>\n",
       "      <th>P</th>\n",
       "      <th>Ca</th>\n",
       "      <th>Mg</th>\n",
       "      <th>K</th>\n",
       "      <th>Na</th>\n",
       "      <th>Conduc</th>\n",
       "    </tr>\n",
       "  </thead>\n",
       "  <tbody>\n",
       "    <tr>\n",
       "      <th>0</th>\n",
       "      <td>1</td>\n",
       "      <td>Top</td>\n",
       "      <td>0-10</td>\n",
       "      <td>T0</td>\n",
       "      <td>1</td>\n",
       "      <td>5.40</td>\n",
       "      <td>0.188</td>\n",
       "      <td>0.92</td>\n",
       "      <td>215</td>\n",
       "      <td>16.35</td>\n",
       "      <td>7.65</td>\n",
       "      <td>0.72</td>\n",
       "      <td>1.14</td>\n",
       "      <td>1.09</td>\n",
       "    </tr>\n",
       "    <tr>\n",
       "      <th>1</th>\n",
       "      <td>1</td>\n",
       "      <td>Top</td>\n",
       "      <td>0-10</td>\n",
       "      <td>T0</td>\n",
       "      <td>2</td>\n",
       "      <td>5.65</td>\n",
       "      <td>0.165</td>\n",
       "      <td>1.04</td>\n",
       "      <td>208</td>\n",
       "      <td>12.25</td>\n",
       "      <td>5.15</td>\n",
       "      <td>0.71</td>\n",
       "      <td>0.94</td>\n",
       "      <td>1.35</td>\n",
       "    </tr>\n",
       "    <tr>\n",
       "      <th>2</th>\n",
       "      <td>1</td>\n",
       "      <td>Top</td>\n",
       "      <td>0-10</td>\n",
       "      <td>T0</td>\n",
       "      <td>3</td>\n",
       "      <td>5.14</td>\n",
       "      <td>0.260</td>\n",
       "      <td>0.95</td>\n",
       "      <td>300</td>\n",
       "      <td>13.02</td>\n",
       "      <td>5.68</td>\n",
       "      <td>0.68</td>\n",
       "      <td>0.60</td>\n",
       "      <td>1.41</td>\n",
       "    </tr>\n",
       "    <tr>\n",
       "      <th>3</th>\n",
       "      <td>1</td>\n",
       "      <td>Top</td>\n",
       "      <td>0-10</td>\n",
       "      <td>T0</td>\n",
       "      <td>4</td>\n",
       "      <td>5.14</td>\n",
       "      <td>0.169</td>\n",
       "      <td>1.10</td>\n",
       "      <td>248</td>\n",
       "      <td>11.92</td>\n",
       "      <td>7.88</td>\n",
       "      <td>1.09</td>\n",
       "      <td>1.01</td>\n",
       "      <td>1.64</td>\n",
       "    </tr>\n",
       "    <tr>\n",
       "      <th>4</th>\n",
       "      <td>2</td>\n",
       "      <td>Top</td>\n",
       "      <td>10-30</td>\n",
       "      <td>T1</td>\n",
       "      <td>1</td>\n",
       "      <td>5.14</td>\n",
       "      <td>0.164</td>\n",
       "      <td>1.12</td>\n",
       "      <td>174</td>\n",
       "      <td>14.17</td>\n",
       "      <td>8.12</td>\n",
       "      <td>0.70</td>\n",
       "      <td>2.17</td>\n",
       "      <td>1.85</td>\n",
       "    </tr>\n",
       "  </tbody>\n",
       "</table>\n",
       "</div>"
      ],
      "text/plain": [
       "   Group Contour  Depth  Gp  Block    pH  ...    P     Ca    Mg     K    Na  Conduc\n",
       "0      1     Top   0-10  T0      1  5.40  ...  215  16.35  7.65  0.72  1.14    1.09\n",
       "1      1     Top   0-10  T0      2  5.65  ...  208  12.25  5.15  0.71  0.94    1.35\n",
       "2      1     Top   0-10  T0      3  5.14  ...  300  13.02  5.68  0.68  0.60    1.41\n",
       "3      1     Top   0-10  T0      4  5.14  ...  248  11.92  7.88  1.09  1.01    1.64\n",
       "4      2     Top  10-30  T1      1  5.14  ...  174  14.17  8.12  0.70  2.17    1.85\n",
       "\n",
       "[5 rows x 14 columns]"
      ]
     },
     "execution_count": 6,
     "metadata": {
      "tags": []
     },
     "output_type": "execute_result"
    }
   ],
   "source": [
    "soils_dataset = sm.datasets.get_rdataset('Soils', 'carData')\n",
    "soils = soils_dataset.data\n",
    "soils.head()"
   ]
  },
  {
   "cell_type": "code",
   "execution_count": 7,
   "metadata": {
    "colab": {
     "base_uri": "https://localhost:8080/",
     "height": 204
    },
    "colab_type": "code",
    "executionInfo": {
     "elapsed": 4597,
     "status": "ok",
     "timestamp": 1570361960015,
     "user": {
      "displayName": "Sun Jianqiang",
      "photoUrl": "https://lh3.googleusercontent.com/a-/AAuE7mBlbk3ZLL3MgU6_rhZEcQqnf2tEY7rB0jvD_0qQ8g=s64",
      "userId": "00446318326838345787"
     },
     "user_tz": -540
    },
    "id": "fqvzP3TFL2Jy",
    "outputId": "9aa704db-d367-4b99-a739-0891d69aab92"
   },
   "outputs": [
    {
     "data": {
      "text/html": [
       "<div>\n",
       "<style scoped>\n",
       "    .dataframe tbody tr th:only-of-type {\n",
       "        vertical-align: middle;\n",
       "    }\n",
       "\n",
       "    .dataframe tbody tr th {\n",
       "        vertical-align: top;\n",
       "    }\n",
       "\n",
       "    .dataframe thead th {\n",
       "        text-align: right;\n",
       "    }\n",
       "</style>\n",
       "<table border=\"1\" class=\"dataframe\">\n",
       "  <thead>\n",
       "    <tr style=\"text-align: right;\">\n",
       "      <th></th>\n",
       "      <th>Sepal.Length</th>\n",
       "      <th>Sepal.Width</th>\n",
       "      <th>Petal.Length</th>\n",
       "      <th>Petal.Width</th>\n",
       "      <th>Species</th>\n",
       "    </tr>\n",
       "  </thead>\n",
       "  <tbody>\n",
       "    <tr>\n",
       "      <th>0</th>\n",
       "      <td>5.1</td>\n",
       "      <td>3.5</td>\n",
       "      <td>1.4</td>\n",
       "      <td>0.2</td>\n",
       "      <td>setosa</td>\n",
       "    </tr>\n",
       "    <tr>\n",
       "      <th>1</th>\n",
       "      <td>4.9</td>\n",
       "      <td>3.0</td>\n",
       "      <td>1.4</td>\n",
       "      <td>0.2</td>\n",
       "      <td>setosa</td>\n",
       "    </tr>\n",
       "    <tr>\n",
       "      <th>2</th>\n",
       "      <td>4.7</td>\n",
       "      <td>3.2</td>\n",
       "      <td>1.3</td>\n",
       "      <td>0.2</td>\n",
       "      <td>setosa</td>\n",
       "    </tr>\n",
       "    <tr>\n",
       "      <th>3</th>\n",
       "      <td>4.6</td>\n",
       "      <td>3.1</td>\n",
       "      <td>1.5</td>\n",
       "      <td>0.2</td>\n",
       "      <td>setosa</td>\n",
       "    </tr>\n",
       "    <tr>\n",
       "      <th>4</th>\n",
       "      <td>5.0</td>\n",
       "      <td>3.6</td>\n",
       "      <td>1.4</td>\n",
       "      <td>0.2</td>\n",
       "      <td>setosa</td>\n",
       "    </tr>\n",
       "  </tbody>\n",
       "</table>\n",
       "</div>"
      ],
      "text/plain": [
       "   Sepal.Length  Sepal.Width  Petal.Length  Petal.Width Species\n",
       "0           5.1          3.5           1.4          0.2  setosa\n",
       "1           4.9          3.0           1.4          0.2  setosa\n",
       "2           4.7          3.2           1.3          0.2  setosa\n",
       "3           4.6          3.1           1.5          0.2  setosa\n",
       "4           5.0          3.6           1.4          0.2  setosa"
      ]
     },
     "execution_count": 7,
     "metadata": {
      "tags": []
     },
     "output_type": "execute_result"
    }
   ],
   "source": [
    "iris_dataset = sm.datasets.get_rdataset('iris', 'datasets')\n",
    "iris = iris_dataset.data\n",
    "iris.head()"
   ]
  },
  {
   "cell_type": "code",
   "execution_count": 8,
   "metadata": {
    "colab": {
     "base_uri": "https://localhost:8080/",
     "height": 204
    },
    "colab_type": "code",
    "executionInfo": {
     "elapsed": 4862,
     "status": "ok",
     "timestamp": 1570361960290,
     "user": {
      "displayName": "Sun Jianqiang",
      "photoUrl": "https://lh3.googleusercontent.com/a-/AAuE7mBlbk3ZLL3MgU6_rhZEcQqnf2tEY7rB0jvD_0qQ8g=s64",
      "userId": "00446318326838345787"
     },
     "user_tz": -540
    },
    "id": "wvPEaiogN-kh",
    "outputId": "acd658f0-deb6-43da-c0a5-e51cc57fc8d6"
   },
   "outputs": [
    {
     "data": {
      "text/html": [
       "<div>\n",
       "<style scoped>\n",
       "    .dataframe tbody tr th:only-of-type {\n",
       "        vertical-align: middle;\n",
       "    }\n",
       "\n",
       "    .dataframe tbody tr th {\n",
       "        vertical-align: top;\n",
       "    }\n",
       "\n",
       "    .dataframe thead th {\n",
       "        text-align: right;\n",
       "    }\n",
       "</style>\n",
       "<table border=\"1\" class=\"dataframe\">\n",
       "  <thead>\n",
       "    <tr style=\"text-align: right;\">\n",
       "      <th></th>\n",
       "      <th>Tree</th>\n",
       "      <th>age</th>\n",
       "      <th>circumference</th>\n",
       "    </tr>\n",
       "  </thead>\n",
       "  <tbody>\n",
       "    <tr>\n",
       "      <th>0</th>\n",
       "      <td>1</td>\n",
       "      <td>118</td>\n",
       "      <td>30</td>\n",
       "    </tr>\n",
       "    <tr>\n",
       "      <th>1</th>\n",
       "      <td>1</td>\n",
       "      <td>484</td>\n",
       "      <td>58</td>\n",
       "    </tr>\n",
       "    <tr>\n",
       "      <th>2</th>\n",
       "      <td>1</td>\n",
       "      <td>664</td>\n",
       "      <td>87</td>\n",
       "    </tr>\n",
       "    <tr>\n",
       "      <th>3</th>\n",
       "      <td>1</td>\n",
       "      <td>1004</td>\n",
       "      <td>115</td>\n",
       "    </tr>\n",
       "    <tr>\n",
       "      <th>4</th>\n",
       "      <td>1</td>\n",
       "      <td>1231</td>\n",
       "      <td>120</td>\n",
       "    </tr>\n",
       "  </tbody>\n",
       "</table>\n",
       "</div>"
      ],
      "text/plain": [
       "   Tree   age  circumference\n",
       "0     1   118             30\n",
       "1     1   484             58\n",
       "2     1   664             87\n",
       "3     1  1004            115\n",
       "4     1  1231            120"
      ]
     },
     "execution_count": 8,
     "metadata": {
      "tags": []
     },
     "output_type": "execute_result"
    }
   ],
   "source": [
    "orange_dataset = sm.datasets.get_rdataset('Orange', 'datasets')\n",
    "orange = orange_dataset.data\n",
    "orange.head()"
   ]
  },
  {
   "cell_type": "markdown",
   "metadata": {
    "colab_type": "text",
    "id": "XX9od8OiiBB-"
   },
   "source": [
    "# Pandas 視覚化"
   ]
  },
  {
   "cell_type": "markdown",
   "metadata": {
    "colab_type": "text",
    "id": "lLnW6IjHyW-P"
   },
   "source": [
    "以下で Pandas の機能を紹介するために、あらかじめ関連するいくつかのパッケージを呼び出して、使えるように準備する。"
   ]
  },
  {
   "cell_type": "code",
   "execution_count": 0,
   "metadata": {
    "colab": {},
    "colab_type": "code",
    "id": "-sFF3QpxuUl9"
   },
   "outputs": [],
   "source": [
    "import numpy as np\n",
    "import pandas as pd\n",
    "import matplotlib.pyplot as plt\n",
    "import seaborn as sns"
   ]
  },
  {
   "cell_type": "markdown",
   "metadata": {
    "colab_type": "text",
    "id": "13w9kyqljb-A"
   },
   "source": [
    "Python でグラフを描くときは、matplotlib と seaborn パッケージがよく使われる。これらのパッケージを使うと、複雑なグラフが描けたり、細かい調整ができる。しかし、その反面、操作方法がやや難しい。matplotilb と seaborn のほかに、Pandas パッケージでも簡単な視覚化機能が備えられている。細かい調整ができないものの、Series あるいは DataFrame 型のオブジェクトに `plot` や `hist` などのメソッドをつけるだけで、グラフが描かれるようになる。データ解析時に、ちょっとデータの分布を確認したいといったときに、非常に便利である。"
   ]
  },
  {
   "cell_type": "markdown",
   "metadata": {
    "colab_type": "text",
    "id": "gIXnz1jk2EI5"
   },
   "source": [
    "次のセル内のコードは基本的に実行しなくてもグラフを描くことができる。これらのコードを実行することで、グラフがきれいになる。"
   ]
  },
  {
   "cell_type": "code",
   "execution_count": 0,
   "metadata": {
    "colab": {},
    "colab_type": "code",
    "id": "2cXCHttLynnk"
   },
   "outputs": [],
   "source": [
    "sns.set()\n",
    "sns.set_style(\"whitegrid\")\n",
    "sns.set_palette('Set1')"
   ]
  },
  {
   "cell_type": "markdown",
   "metadata": {
    "colab_type": "text",
    "id": "j0Lo2wQSAfGX"
   },
   "source": [
    "## 散布図"
   ]
  },
  {
   "cell_type": "code",
   "execution_count": 11,
   "metadata": {
    "colab": {
     "base_uri": "https://localhost:8080/",
     "height": 328
    },
    "colab_type": "code",
    "executionInfo": {
     "elapsed": 5235,
     "status": "ok",
     "timestamp": 1570361960677,
     "user": {
      "displayName": "Sun Jianqiang",
      "photoUrl": "https://lh3.googleusercontent.com/a-/AAuE7mBlbk3ZLL3MgU6_rhZEcQqnf2tEY7rB0jvD_0qQ8g=s64",
      "userId": "00446318326838345787"
     },
     "user_tz": -540
    },
    "id": "RFy_BaV5CpcU",
    "outputId": "bf61cbd3-e264-4880-e3f2-c4d7b7e134c1"
   },
   "outputs": [
    {
     "name": "stderr",
     "output_type": "stream",
     "text": [
      "'c' argument looks like a single numeric RGB or RGBA sequence, which should be avoided as value-mapping will have precedence in case its length matches with 'x' & 'y'.  Please use a 2-D array with a single row if you really want to specify the same RGB or RGBA value for all points.\n"
     ]
    },
    {
     "data": {
      "image/png": "[encoded data removed]",
      "text/plain": [
       "<Figure size 432x288 with 1 Axes>"
      ]
     },
     "metadata": {
      "tags": []
     },
     "output_type": "display_data"
    }
   ],
   "source": [
    "fig, ax = plt.subplots()\n",
    "rice.plot.scatter(x='RootDryMass', y='ShootDryMass', ax=ax)\n",
    "fig.show()"
   ]
  },
  {
   "cell_type": "code",
   "execution_count": 12,
   "metadata": {
    "colab": {
     "base_uri": "https://localhost:8080/",
     "height": 291
    },
    "colab_type": "code",
    "executionInfo": {
     "elapsed": 5738,
     "status": "ok",
     "timestamp": 1570361961186,
     "user": {
      "displayName": "Sun Jianqiang",
      "photoUrl": "https://lh3.googleusercontent.com/a-/AAuE7mBlbk3ZLL3MgU6_rhZEcQqnf2tEY7rB0jvD_0qQ8g=s64",
      "userId": "00446318326838345787"
     },
     "user_tz": -540
    },
    "id": "UalcLk5yEY03",
    "outputId": "443bc4c0-b903-49ce-c499-5d0f40ca03ff"
   },
   "outputs": [
    {
     "data": {
      "image/png": "[encoded data removed]",
      "text/plain": [
       "<Figure size 432x288 with 1 Axes>"
      ]
     },
     "metadata": {
      "tags": []
     },
     "output_type": "display_data"
    }
   ],
   "source": [
    "cols = [\"#9b59b6\", \"#3498db\", \"#95a5a6\", \"#e74c3c\", \"#34495e\", \"#2ecc71\"]\n",
    "\n",
    "fig, ax = plt.subplots()\n",
    "\n",
    "i = 0\n",
    "for group_name, group_subset  in rice.groupby('variety'):\n",
    "  ax = group_subset.plot.scatter(x='RootDryMass', y='ShootDryMass', ax=ax, color=cols[i])\n",
    "  i += 1\n",
    "  \n",
    "fig.show()"
   ]
  },
  {
   "cell_type": "markdown",
   "metadata": {
    "colab_type": "text",
    "id": "7riFOSqXWGG4"
   },
   "source": [
    "## 棒グラフ\n"
   ]
  },
  {
   "cell_type": "code",
   "execution_count": 13,
   "metadata": {
    "colab": {
     "base_uri": "https://localhost:8080/",
     "height": 326
    },
    "colab_type": "code",
    "executionInfo": {
     "elapsed": 5732,
     "status": "ok",
     "timestamp": 1570361961187,
     "user": {
      "displayName": "Sun Jianqiang",
      "photoUrl": "https://lh3.googleusercontent.com/a-/AAuE7mBlbk3ZLL3MgU6_rhZEcQqnf2tEY7rB0jvD_0qQ8g=s64",
      "userId": "00446318326838345787"
     },
     "user_tz": -540
    },
    "id": "i6Phf-o9WLba",
    "outputId": "c46a1024-ac02-493a-d1fb-442ee4ffefd8"
   },
   "outputs": [
    {
     "data": {
      "image/png": "[encoded data removed]",
      "text/plain": [
       "<Figure size 432x288 with 1 Axes>"
      ]
     },
     "metadata": {
      "tags": []
     },
     "output_type": "display_data"
    }
   ],
   "source": [
    "rice_ave = (\n",
    "    rice.loc[:, ['variety', 'RootDryMass', 'ShootDryMass']]\n",
    "        .groupby('variety')\n",
    "        .mean()\n",
    ")\n",
    "\n",
    "fig, ax = plt.subplots()\n",
    "rice_ave.plot.bar(ax=ax)\n",
    "fig.show()"
   ]
  },
  {
   "cell_type": "code",
   "execution_count": 14,
   "metadata": {
    "colab": {
     "base_uri": "https://localhost:8080/",
     "height": 326
    },
    "colab_type": "code",
    "executionInfo": {
     "elapsed": 6179,
     "status": "ok",
     "timestamp": 1570361961641,
     "user": {
      "displayName": "Sun Jianqiang",
      "photoUrl": "https://lh3.googleusercontent.com/a-/AAuE7mBlbk3ZLL3MgU6_rhZEcQqnf2tEY7rB0jvD_0qQ8g=s64",
      "userId": "00446318326838345787"
     },
     "user_tz": -540
    },
    "id": "gdhTynnFWfq-",
    "outputId": "8f09be42-da8a-49d9-a02d-caac2d7b273a"
   },
   "outputs": [
    {
     "data": {
      "image/png": "[encoded data removed]",
      "text/plain": [
       "<Figure size 432x288 with 1 Axes>"
      ]
     },
     "metadata": {
      "tags": []
     },
     "output_type": "display_data"
    }
   ],
   "source": [
    "fig, ax = plt.subplots()\n",
    "rice_ave.plot.bar(stacked=True, ax=ax)\n",
    "fig.show()"
   ]
  },
  {
   "cell_type": "code",
   "execution_count": 15,
   "metadata": {
    "colab": {
     "base_uri": "https://localhost:8080/",
     "height": 389
    },
    "colab_type": "code",
    "executionInfo": {
     "elapsed": 6581,
     "status": "ok",
     "timestamp": 1570361962049,
     "user": {
      "displayName": "Sun Jianqiang",
      "photoUrl": "https://lh3.googleusercontent.com/a-/AAuE7mBlbk3ZLL3MgU6_rhZEcQqnf2tEY7rB0jvD_0qQ8g=s64",
      "userId": "00446318326838345787"
     },
     "user_tz": -540
    },
    "id": "kJLBAkxWWYCj",
    "outputId": "ebc56890-897a-4c8f-faa8-11d9c9966521"
   },
   "outputs": [
    {
     "data": {
      "image/png": "[encoded data removed]",
      "text/plain": [
       "<Figure size 432x288 with 1 Axes>"
      ]
     },
     "metadata": {
      "tags": []
     },
     "output_type": "display_data"
    }
   ],
   "source": [
    "rice_ave = (\n",
    "    rice.loc[:, ['variety', 'fert', 'RootDryMass', 'ShootDryMass']]\n",
    "        .groupby(['variety', 'fert'])\n",
    "        .mean()\n",
    ")\n",
    "\n",
    "fig, ax = plt.subplots()\n",
    "rice_ave.plot.bar(ax=ax)\n",
    "fig.show()"
   ]
  },
  {
   "cell_type": "code",
   "execution_count": 16,
   "metadata": {
    "colab": {
     "base_uri": "https://localhost:8080/",
     "height": 389
    },
    "colab_type": "code",
    "executionInfo": {
     "elapsed": 6574,
     "status": "ok",
     "timestamp": 1570361962050,
     "user": {
      "displayName": "Sun Jianqiang",
      "photoUrl": "https://lh3.googleusercontent.com/a-/AAuE7mBlbk3ZLL3MgU6_rhZEcQqnf2tEY7rB0jvD_0qQ8g=s64",
      "userId": "00446318326838345787"
     },
     "user_tz": -540
    },
    "id": "NcGLI9P9WzoX",
    "outputId": "87e4822e-0446-4379-c5a5-712288a941a5"
   },
   "outputs": [
    {
     "data": {
      "image/png": "[encoded data removed]",
      "text/plain": [
       "<Figure size 432x288 with 1 Axes>"
      ]
     },
     "metadata": {
      "tags": []
     },
     "output_type": "display_data"
    }
   ],
   "source": [
    "fig, ax = plt.subplots()\n",
    "rice_ave.plot.bar(stacked=True, ax=ax)\n",
    "fig.show()"
   ]
  },
  {
   "cell_type": "markdown",
   "metadata": {
    "colab_type": "text",
    "id": "FUFuDeHAXz_T"
   },
   "source": [
    "## ボックスプロット"
   ]
  },
  {
   "cell_type": "code",
   "execution_count": 17,
   "metadata": {
    "colab": {
     "base_uri": "https://localhost:8080/",
     "height": 274
    },
    "colab_type": "code",
    "executionInfo": {
     "elapsed": 6986,
     "status": "ok",
     "timestamp": 1570361962469,
     "user": {
      "displayName": "Sun Jianqiang",
      "photoUrl": "https://lh3.googleusercontent.com/a-/AAuE7mBlbk3ZLL3MgU6_rhZEcQqnf2tEY7rB0jvD_0qQ8g=s64",
      "userId": "00446318326838345787"
     },
     "user_tz": -540
    },
    "id": "lSuci7slX1Wy",
    "outputId": "efee6e7b-e137-47ca-8b37-54abc09601e9"
   },
   "outputs": [
    {
     "data": {
      "image/png": "[encoded data removed]",
      "text/plain": [
       "<Figure size 432x288 with 1 Axes>"
      ]
     },
     "metadata": {
      "tags": []
     },
     "output_type": "display_data"
    }
   ],
   "source": [
    "fig, ax = plt.subplots()\n",
    "rice.plot.box(y = ['RootDryMass', 'ShootDryMass'], ax=ax)\n",
    "fig.show()"
   ]
  },
  {
   "cell_type": "code",
   "execution_count": 18,
   "metadata": {
    "colab": {
     "base_uri": "https://localhost:8080/",
     "height": 274
    },
    "colab_type": "code",
    "executionInfo": {
     "elapsed": 6980,
     "status": "ok",
     "timestamp": 1570361962470,
     "user": {
      "displayName": "Sun Jianqiang",
      "photoUrl": "https://lh3.googleusercontent.com/a-/AAuE7mBlbk3ZLL3MgU6_rhZEcQqnf2tEY7rB0jvD_0qQ8g=s64",
      "userId": "00446318326838345787"
     },
     "user_tz": -540
    },
    "id": "g7O8kXo_ZH-o",
    "outputId": "feaa4244-59b7-4885-9e5e-52dae747cb9f"
   },
   "outputs": [
    {
     "data": {
      "image/png": "[encoded data removed]",
      "text/plain": [
       "<Figure size 432x288 with 1 Axes>"
      ]
     },
     "metadata": {
      "tags": []
     },
     "output_type": "display_data"
    }
   ],
   "source": [
    "fig, ax = plt.subplots()\n",
    "rice.loc[:, ['RootDryMass', 'ShootDryMass']].boxplot(ax=ax)\n",
    "fig.show()"
   ]
  },
  {
   "cell_type": "code",
   "execution_count": 19,
   "metadata": {
    "colab": {
     "base_uri": "https://localhost:8080/",
     "height": 336
    },
    "colab_type": "code",
    "executionInfo": {
     "elapsed": 7279,
     "status": "ok",
     "timestamp": 1570361962775,
     "user": {
      "displayName": "Sun Jianqiang",
      "photoUrl": "https://lh3.googleusercontent.com/a-/AAuE7mBlbk3ZLL3MgU6_rhZEcQqnf2tEY7rB0jvD_0qQ8g=s64",
      "userId": "00446318326838345787"
     },
     "user_tz": -540
    },
    "id": "xvUS0hJiXzp-",
    "outputId": "31d2a2b6-dbd1-4565-fc1f-e36c8f2a2981"
   },
   "outputs": [
    {
     "name": "stderr",
     "output_type": "stream",
     "text": [
      "/usr/local/lib/python3.6/dist-packages/IPython/core/interactiveshell.py:2882: UserWarning: To output multiple subplots, the figure containing the passed axes is being cleared\n",
      "  exec(code_obj, self.user_global_ns, self.user_ns)\n"
     ]
    },
    {
     "data": {
      "image/png": "[encoded data removed]",
      "text/plain": [
       "<Figure size 432x288 with 2 Axes>"
      ]
     },
     "metadata": {
      "tags": []
     },
     "output_type": "display_data"
    }
   ],
   "source": [
    "fig, ax = plt.subplots()\n",
    "rice.loc[:, ['variety', 'RootDryMass', 'ShootDryMass']].\\\n",
    "     groupby('variety').\\\n",
    "     boxplot(ax=ax)\n",
    "fig.show()"
   ]
  },
  {
   "cell_type": "markdown",
   "metadata": {
    "colab_type": "text",
    "id": "lBRcdrAxPwLU"
   },
   "source": [
    "## 線グラフ"
   ]
  },
  {
   "cell_type": "markdown",
   "metadata": {
    "colab_type": "text",
    "id": "E3ruQiYzPx1U"
   },
   "source": [
    "線グラフは時系列を描くときに便利なので、ここでは時系列データを使ってグラフを描く。"
   ]
  },
  {
   "cell_type": "code",
   "execution_count": 20,
   "metadata": {
    "colab": {
     "base_uri": "https://localhost:8080/",
     "height": 204
    },
    "colab_type": "code",
    "executionInfo": {
     "elapsed": 7272,
     "status": "ok",
     "timestamp": 1570361962776,
     "user": {
      "displayName": "Sun Jianqiang",
      "photoUrl": "https://lh3.googleusercontent.com/a-/AAuE7mBlbk3ZLL3MgU6_rhZEcQqnf2tEY7rB0jvD_0qQ8g=s64",
      "userId": "00446318326838345787"
     },
     "user_tz": -540
    },
    "id": "NFhQZkB_P24I",
    "outputId": "0120f33c-fd23-402f-b4a5-f48a588c0493"
   },
   "outputs": [
    {
     "data": {
      "text/html": [
       "<div>\n",
       "<style scoped>\n",
       "    .dataframe tbody tr th:only-of-type {\n",
       "        vertical-align: middle;\n",
       "    }\n",
       "\n",
       "    .dataframe tbody tr th {\n",
       "        vertical-align: top;\n",
       "    }\n",
       "\n",
       "    .dataframe thead th {\n",
       "        text-align: right;\n",
       "    }\n",
       "</style>\n",
       "<table border=\"1\" class=\"dataframe\">\n",
       "  <thead>\n",
       "    <tr style=\"text-align: right;\">\n",
       "      <th></th>\n",
       "      <th>date</th>\n",
       "      <th>pce</th>\n",
       "      <th>pop</th>\n",
       "      <th>psavert</th>\n",
       "      <th>uempmed</th>\n",
       "      <th>unemploy</th>\n",
       "    </tr>\n",
       "  </thead>\n",
       "  <tbody>\n",
       "    <tr>\n",
       "      <th>0</th>\n",
       "      <td>1967-07-01</td>\n",
       "      <td>507.4</td>\n",
       "      <td>198712</td>\n",
       "      <td>12.5</td>\n",
       "      <td>4.5</td>\n",
       "      <td>2944</td>\n",
       "    </tr>\n",
       "    <tr>\n",
       "      <th>1</th>\n",
       "      <td>1967-08-01</td>\n",
       "      <td>510.5</td>\n",
       "      <td>198911</td>\n",
       "      <td>12.5</td>\n",
       "      <td>4.7</td>\n",
       "      <td>2945</td>\n",
       "    </tr>\n",
       "    <tr>\n",
       "      <th>2</th>\n",
       "      <td>1967-09-01</td>\n",
       "      <td>516.3</td>\n",
       "      <td>199113</td>\n",
       "      <td>11.7</td>\n",
       "      <td>4.6</td>\n",
       "      <td>2958</td>\n",
       "    </tr>\n",
       "    <tr>\n",
       "      <th>3</th>\n",
       "      <td>1967-10-01</td>\n",
       "      <td>512.9</td>\n",
       "      <td>199311</td>\n",
       "      <td>12.5</td>\n",
       "      <td>4.9</td>\n",
       "      <td>3143</td>\n",
       "    </tr>\n",
       "    <tr>\n",
       "      <th>4</th>\n",
       "      <td>1967-11-01</td>\n",
       "      <td>518.1</td>\n",
       "      <td>199498</td>\n",
       "      <td>12.5</td>\n",
       "      <td>4.7</td>\n",
       "      <td>3066</td>\n",
       "    </tr>\n",
       "  </tbody>\n",
       "</table>\n",
       "</div>"
      ],
      "text/plain": [
       "         date    pce     pop  psavert  uempmed  unemploy\n",
       "0  1967-07-01  507.4  198712     12.5      4.5      2944\n",
       "1  1967-08-01  510.5  198911     12.5      4.7      2945\n",
       "2  1967-09-01  516.3  199113     11.7      4.6      2958\n",
       "3  1967-10-01  512.9  199311     12.5      4.9      3143\n",
       "4  1967-11-01  518.1  199498     12.5      4.7      3066"
      ]
     },
     "execution_count": 20,
     "metadata": {
      "tags": []
     },
     "output_type": "execute_result"
    }
   ],
   "source": [
    "economics.head()"
   ]
  },
  {
   "cell_type": "code",
   "execution_count": 21,
   "metadata": {
    "colab": {
     "base_uri": "https://localhost:8080/",
     "height": 345
    },
    "colab_type": "code",
    "executionInfo": {
     "elapsed": 7984,
     "status": "ok",
     "timestamp": 1570361963495,
     "user": {
      "displayName": "Sun Jianqiang",
      "photoUrl": "https://lh3.googleusercontent.com/a-/AAuE7mBlbk3ZLL3MgU6_rhZEcQqnf2tEY7rB0jvD_0qQ8g=s64",
      "userId": "00446318326838345787"
     },
     "user_tz": -540
    },
    "id": "RdzM5rA4QA4j",
    "outputId": "e420dc54-bdb8-40f2-9384-c3be431d413e"
   },
   "outputs": [
    {
     "data": {
      "image/png": "[encoded data removed]",
      "text/plain": [
       "<Figure size 432x288 with 1 Axes>"
      ]
     },
     "metadata": {
      "tags": []
     },
     "output_type": "display_data"
    }
   ],
   "source": [
    "fig, ax = plt.subplots()\n",
    "ax = economics.plot(x='date', y='pce', ax=ax)\n",
    "ax.set_xticklabels(ax.get_xticklabels(), rotation=90)\n",
    "fig.show()"
   ]
  },
  {
   "cell_type": "code",
   "execution_count": 22,
   "metadata": {
    "colab": {
     "base_uri": "https://localhost:8080/",
     "height": 345
    },
    "colab_type": "code",
    "executionInfo": {
     "elapsed": 8471,
     "status": "ok",
     "timestamp": 1570361963988,
     "user": {
      "displayName": "Sun Jianqiang",
      "photoUrl": "https://lh3.googleusercontent.com/a-/AAuE7mBlbk3ZLL3MgU6_rhZEcQqnf2tEY7rB0jvD_0qQ8g=s64",
      "userId": "00446318326838345787"
     },
     "user_tz": -540
    },
    "id": "agr-Op2jQGc-",
    "outputId": "84b5a6e5-67f9-492b-8a29-806dd327a404"
   },
   "outputs": [
    {
     "data": {
      "image/png": "[encoded data removed]",
      "text/plain": [
       "<Figure size 432x288 with 1 Axes>"
      ]
     },
     "metadata": {
      "tags": []
     },
     "output_type": "display_data"
    }
   ],
   "source": [
    "fig, ax = plt.subplots()\n",
    "ax = economics.plot(x='date', y=['psavert', 'uempmed'], ax=ax)\n",
    "ax.set_xticklabels(ax.get_xticklabels(), rotation=90)\n",
    "fig.show()"
   ]
  },
  {
   "cell_type": "code",
   "execution_count": 23,
   "metadata": {
    "colab": {
     "base_uri": "https://localhost:8080/",
     "height": 345
    },
    "colab_type": "code",
    "executionInfo": {
     "elapsed": 8464,
     "status": "ok",
     "timestamp": 1570361963988,
     "user": {
      "displayName": "Sun Jianqiang",
      "photoUrl": "https://lh3.googleusercontent.com/a-/AAuE7mBlbk3ZLL3MgU6_rhZEcQqnf2tEY7rB0jvD_0qQ8g=s64",
      "userId": "00446318326838345787"
     },
     "user_tz": -540
    },
    "id": "r70GpxHXQQq7",
    "outputId": "3a3628d4-53df-45c3-9929-0e10d1148020"
   },
   "outputs": [
    {
     "data": {
      "image/png": "[encoded data removed]",
      "text/plain": [
       "<Figure size 432x288 with 1 Axes>"
      ]
     },
     "metadata": {
      "tags": []
     },
     "output_type": "display_data"
    }
   ],
   "source": [
    "fig, ax = plt.subplots()\n",
    "ax = economics.plot(x='date', ax=ax)\n",
    "ax.set_xticklabels(ax.get_xticklabels(), rotation=90)\n",
    "fig.show()"
   ]
  },
  {
   "cell_type": "code",
   "execution_count": 24,
   "metadata": {
    "colab": {
     "base_uri": "https://localhost:8080/",
     "height": 345
    },
    "colab_type": "code",
    "executionInfo": {
     "elapsed": 8890,
     "status": "ok",
     "timestamp": 1570361964421,
     "user": {
      "displayName": "Sun Jianqiang",
      "photoUrl": "https://lh3.googleusercontent.com/a-/AAuE7mBlbk3ZLL3MgU6_rhZEcQqnf2tEY7rB0jvD_0qQ8g=s64",
      "userId": "00446318326838345787"
     },
     "user_tz": -540
    },
    "id": "1wWRnrFfS0Dt",
    "outputId": "c963ed3d-e701-4fc4-eee4-5639dc3dc708"
   },
   "outputs": [
    {
     "data": {
      "image/png": "[encoded data removed]",
      "text/plain": [
       "<Figure size 432x288 with 1 Axes>"
      ]
     },
     "metadata": {
      "tags": []
     },
     "output_type": "display_data"
    }
   ],
   "source": [
    "fig, ax = plt.subplots()\n",
    "ax = economics.plot(x='date', ax=ax)\n",
    "ax.set_xticklabels(ax.get_xticklabels(), rotation=90)\n",
    "ax.set_yscale('log')\n",
    "fig.show()"
   ]
  },
  {
   "cell_type": "markdown",
   "metadata": {
    "colab_type": "text",
    "id": "znwWtasWCoLJ"
   },
   "source": [
    "## ヒストグラム"
   ]
  },
  {
   "cell_type": "code",
   "execution_count": 25,
   "metadata": {
    "colab": {
     "base_uri": "https://localhost:8080/",
     "height": 274
    },
    "colab_type": "code",
    "executionInfo": {
     "elapsed": 9449,
     "status": "ok",
     "timestamp": 1570361964989,
     "user": {
      "displayName": "Sun Jianqiang",
      "photoUrl": "https://lh3.googleusercontent.com/a-/AAuE7mBlbk3ZLL3MgU6_rhZEcQqnf2tEY7rB0jvD_0qQ8g=s64",
      "userId": "00446318326838345787"
     },
     "user_tz": -540
    },
    "id": "NST6ZprCApFB",
    "outputId": "6e4689b4-c339-4a53-ae21-878e8e8797bb"
   },
   "outputs": [
    {
     "data": {
      "image/png": "[encoded data removed]",
      "text/plain": [
       "<Figure size 432x288 with 1 Axes>"
      ]
     },
     "metadata": {
      "tags": []
     },
     "output_type": "display_data"
    }
   ],
   "source": [
    "fig, ax = plt.subplots()\n",
    "rice.plot.hist(y = 'RootDryMass',  ax=ax)\n",
    "fig.show()"
   ]
  },
  {
   "cell_type": "code",
   "execution_count": 26,
   "metadata": {
    "colab": {
     "base_uri": "https://localhost:8080/",
     "height": 274
    },
    "colab_type": "code",
    "executionInfo": {
     "elapsed": 9442,
     "status": "ok",
     "timestamp": 1570361964989,
     "user": {
      "displayName": "Sun Jianqiang",
      "photoUrl": "https://lh3.googleusercontent.com/a-/AAuE7mBlbk3ZLL3MgU6_rhZEcQqnf2tEY7rB0jvD_0qQ8g=s64",
      "userId": "00446318326838345787"
     },
     "user_tz": -540
    },
    "id": "OvNS7_FkAz89",
    "outputId": "23144276-3b8e-47d0-c4a1-effc2cd5e6eb"
   },
   "outputs": [
    {
     "data": {
      "image/png": "[encoded data removed]",
      "text/plain": [
       "<Figure size 432x288 with 1 Axes>"
      ]
     },
     "metadata": {
      "tags": []
     },
     "output_type": "display_data"
    }
   ],
   "source": [
    "fig, ax = plt.subplots()\n",
    "## rice.plot.hist(y = ['RootDryMass', 'ShootDryMass'], stacked=False)\n",
    "rice.plot.hist(y = ['RootDryMass', 'ShootDryMass'], alpha = 0.5, ax=ax)\n",
    "fig.show()"
   ]
  },
  {
   "cell_type": "code",
   "execution_count": 27,
   "metadata": {
    "colab": {
     "base_uri": "https://localhost:8080/",
     "height": 274
    },
    "colab_type": "code",
    "executionInfo": {
     "elapsed": 9760,
     "status": "ok",
     "timestamp": 1570361965314,
     "user": {
      "displayName": "Sun Jianqiang",
      "photoUrl": "https://lh3.googleusercontent.com/a-/AAuE7mBlbk3ZLL3MgU6_rhZEcQqnf2tEY7rB0jvD_0qQ8g=s64",
      "userId": "00446318326838345787"
     },
     "user_tz": -540
    },
    "id": "U6CjL7z6BJ5a",
    "outputId": "1615452f-a437-4cd5-b203-1806380c85d7"
   },
   "outputs": [
    {
     "data": {
      "image/png": "[encoded data removed]",
      "text/plain": [
       "<Figure size 432x288 with 1 Axes>"
      ]
     },
     "metadata": {
      "tags": []
     },
     "output_type": "display_data"
    }
   ],
   "source": [
    "fig, ax = plt.subplots()\n",
    "rice.plot.hist(y = ['RootDryMass', 'ShootDryMass'], stacked=True, ax=ax)\n",
    "fig.show()"
   ]
  },
  {
   "cell_type": "markdown",
   "metadata": {
    "colab_type": "text",
    "id": "DRZQaFyhHZRt"
   },
   "source": [
    "## ペアプロット"
   ]
  },
  {
   "cell_type": "code",
   "execution_count": 28,
   "metadata": {
    "colab": {
     "base_uri": "https://localhost:8080/",
     "height": 204
    },
    "colab_type": "code",
    "executionInfo": {
     "elapsed": 9755,
     "status": "ok",
     "timestamp": 1570361965315,
     "user": {
      "displayName": "Sun Jianqiang",
      "photoUrl": "https://lh3.googleusercontent.com/a-/AAuE7mBlbk3ZLL3MgU6_rhZEcQqnf2tEY7rB0jvD_0qQ8g=s64",
      "userId": "00446318326838345787"
     },
     "user_tz": -540
    },
    "id": "nCSTezXqI286",
    "outputId": "2bd277dd-dd29-4521-caa9-1e1803157b48"
   },
   "outputs": [
    {
     "data": {
      "text/html": [
       "<div>\n",
       "<style scoped>\n",
       "    .dataframe tbody tr th:only-of-type {\n",
       "        vertical-align: middle;\n",
       "    }\n",
       "\n",
       "    .dataframe tbody tr th {\n",
       "        vertical-align: top;\n",
       "    }\n",
       "\n",
       "    .dataframe thead th {\n",
       "        text-align: right;\n",
       "    }\n",
       "</style>\n",
       "<table border=\"1\" class=\"dataframe\">\n",
       "  <thead>\n",
       "    <tr style=\"text-align: right;\">\n",
       "      <th></th>\n",
       "      <th>Sepal.Length</th>\n",
       "      <th>Sepal.Width</th>\n",
       "      <th>Petal.Length</th>\n",
       "      <th>Petal.Width</th>\n",
       "      <th>Species</th>\n",
       "    </tr>\n",
       "  </thead>\n",
       "  <tbody>\n",
       "    <tr>\n",
       "      <th>0</th>\n",
       "      <td>5.1</td>\n",
       "      <td>3.5</td>\n",
       "      <td>1.4</td>\n",
       "      <td>0.2</td>\n",
       "      <td>setosa</td>\n",
       "    </tr>\n",
       "    <tr>\n",
       "      <th>1</th>\n",
       "      <td>4.9</td>\n",
       "      <td>3.0</td>\n",
       "      <td>1.4</td>\n",
       "      <td>0.2</td>\n",
       "      <td>setosa</td>\n",
       "    </tr>\n",
       "    <tr>\n",
       "      <th>2</th>\n",
       "      <td>4.7</td>\n",
       "      <td>3.2</td>\n",
       "      <td>1.3</td>\n",
       "      <td>0.2</td>\n",
       "      <td>setosa</td>\n",
       "    </tr>\n",
       "    <tr>\n",
       "      <th>3</th>\n",
       "      <td>4.6</td>\n",
       "      <td>3.1</td>\n",
       "      <td>1.5</td>\n",
       "      <td>0.2</td>\n",
       "      <td>setosa</td>\n",
       "    </tr>\n",
       "    <tr>\n",
       "      <th>4</th>\n",
       "      <td>5.0</td>\n",
       "      <td>3.6</td>\n",
       "      <td>1.4</td>\n",
       "      <td>0.2</td>\n",
       "      <td>setosa</td>\n",
       "    </tr>\n",
       "  </tbody>\n",
       "</table>\n",
       "</div>"
      ],
      "text/plain": [
       "   Sepal.Length  Sepal.Width  Petal.Length  Petal.Width Species\n",
       "0           5.1          3.5           1.4          0.2  setosa\n",
       "1           4.9          3.0           1.4          0.2  setosa\n",
       "2           4.7          3.2           1.3          0.2  setosa\n",
       "3           4.6          3.1           1.5          0.2  setosa\n",
       "4           5.0          3.6           1.4          0.2  setosa"
      ]
     },
     "execution_count": 28,
     "metadata": {
      "tags": []
     },
     "output_type": "execute_result"
    }
   ],
   "source": [
    "iris.head()"
   ]
  },
  {
   "cell_type": "code",
   "execution_count": 29,
   "metadata": {
    "colab": {
     "base_uri": "https://localhost:8080/",
     "height": 666
    },
    "colab_type": "code",
    "executionInfo": {
     "elapsed": 11665,
     "status": "ok",
     "timestamp": 1570361967233,
     "user": {
      "displayName": "Sun Jianqiang",
      "photoUrl": "https://lh3.googleusercontent.com/a-/AAuE7mBlbk3ZLL3MgU6_rhZEcQqnf2tEY7rB0jvD_0qQ8g=s64",
      "userId": "00446318326838345787"
     },
     "user_tz": -540
    },
    "id": "y_znDow9rUK0",
    "outputId": "d5ccc538-ea5a-4c95-d54b-b4b484763536"
   },
   "outputs": [
    {
     "name": "stderr",
     "output_type": "stream",
     "text": [
      "/usr/local/lib/python3.6/dist-packages/IPython/core/interactiveshell.py:2882: UserWarning: To output multiple subplots, the figure containing the passed axes is being cleared\n",
      "  exec(code_obj, self.user_global_ns, self.user_ns)\n"
     ]
    },
    {
     "data": {
      "image/png": "[encoded data removed]",
      "text/plain": [
       "<Figure size 720x720 with 16 Axes>"
      ]
     },
     "metadata": {
      "tags": []
     },
     "output_type": "display_data"
    }
   ],
   "source": [
    "plt.rcParams['figure.figsize'] = (10.0, 10.0)\n",
    "fig, ax = plt.subplots()\n",
    "pd.plotting.scatter_matrix(iris, ax=ax)\n",
    "fig.show()"
   ]
  },
  {
   "cell_type": "markdown",
   "metadata": {
    "colab_type": "text",
    "id": "3K8cwU6imjWC"
   },
   "source": [
    "# 表データハイライト"
   ]
  },
  {
   "cell_type": "markdown",
   "metadata": {
    "colab_type": "text",
    "id": "oA2Nf2gLmlWC"
   },
   "source": [
    "DataFrame メソッドを使用すると、データフレームのデータを画面上に表示させる時に、ハイライトさせることができる。ハイライトを行うために、`style.apply` と `style.applymap` の 2 つのメソッドが用意されている。`style.apply` は各列または各行に対してハイライト処理を行うメソッドである。例えば、各列の最大値を赤くするなどがこれにあたる。これに対して、`style.applymap` はデータフレーム全体に対するハイライト処理であり、例えばデータフレーム中のマイナス値を赤くするなどがこれにあたる。"
   ]
  },
  {
   "cell_type": "code",
   "execution_count": 30,
   "metadata": {
    "colab": {
     "base_uri": "https://localhost:8080/",
     "height": 173
    },
    "colab_type": "code",
    "executionInfo": {
     "elapsed": 11660,
     "status": "ok",
     "timestamp": 1570361967234,
     "user": {
      "displayName": "Sun Jianqiang",
      "photoUrl": "https://lh3.googleusercontent.com/a-/AAuE7mBlbk3ZLL3MgU6_rhZEcQqnf2tEY7rB0jvD_0qQ8g=s64",
      "userId": "00446318326838345787"
     },
     "user_tz": -540
    },
    "id": "b7WFaKa9nQWc",
    "outputId": "684254cb-e9c8-424c-b8b6-e0279b0151b3"
   },
   "outputs": [
    {
     "data": {
      "text/html": [
       "<div>\n",
       "<style scoped>\n",
       "    .dataframe tbody tr th:only-of-type {\n",
       "        vertical-align: middle;\n",
       "    }\n",
       "\n",
       "    .dataframe tbody tr th {\n",
       "        vertical-align: top;\n",
       "    }\n",
       "\n",
       "    .dataframe thead th {\n",
       "        text-align: right;\n",
       "    }\n",
       "</style>\n",
       "<table border=\"1\" class=\"dataframe\">\n",
       "  <thead>\n",
       "    <tr style=\"text-align: right;\">\n",
       "      <th></th>\n",
       "      <th>F1</th>\n",
       "      <th>F2</th>\n",
       "      <th>F3</th>\n",
       "      <th>F4</th>\n",
       "      <th>F5</th>\n",
       "      <th>F6</th>\n",
       "    </tr>\n",
       "  </thead>\n",
       "  <tbody>\n",
       "    <tr>\n",
       "      <th>A</th>\n",
       "      <td>-0.217679</td>\n",
       "      <td>0.821455</td>\n",
       "      <td>1.481278</td>\n",
       "      <td>1.331864</td>\n",
       "      <td>-0.361865</td>\n",
       "      <td>0.685609</td>\n",
       "    </tr>\n",
       "    <tr>\n",
       "      <th>B</th>\n",
       "      <td>0.573761</td>\n",
       "      <td>0.287728</td>\n",
       "      <td>-0.235634</td>\n",
       "      <td>0.953490</td>\n",
       "      <td>-1.689625</td>\n",
       "      <td>-0.344943</td>\n",
       "    </tr>\n",
       "    <tr>\n",
       "      <th>C</th>\n",
       "      <td>0.016905</td>\n",
       "      <td>-0.514984</td>\n",
       "      <td>0.244509</td>\n",
       "      <td>-0.189313</td>\n",
       "      <td>2.672172</td>\n",
       "      <td>0.464802</td>\n",
       "    </tr>\n",
       "    <tr>\n",
       "      <th>D</th>\n",
       "      <td>0.845930</td>\n",
       "      <td>-0.503542</td>\n",
       "      <td>-0.963336</td>\n",
       "      <td>0.064969</td>\n",
       "      <td>-3.205040</td>\n",
       "      <td>1.054969</td>\n",
       "    </tr>\n",
       "  </tbody>\n",
       "</table>\n",
       "</div>"
      ],
      "text/plain": [
       "         F1        F2        F3        F4        F5        F6\n",
       "A -0.217679  0.821455  1.481278  1.331864 -0.361865  0.685609\n",
       "B  0.573761  0.287728 -0.235634  0.953490 -1.689625 -0.344943\n",
       "C  0.016905 -0.514984  0.244509 -0.189313  2.672172  0.464802\n",
       "D  0.845930 -0.503542 -0.963336  0.064969 -3.205040  1.054969"
      ]
     },
     "execution_count": 30,
     "metadata": {
      "tags": []
     },
     "output_type": "execute_result"
    }
   ],
   "source": [
    "np.random.seed(2019)\n",
    "\n",
    "df = pd.DataFrame(np.random.randn(4, 6))\n",
    "df.columns = ['F1', 'F2', 'F3', 'F4', 'F5', 'F6']\n",
    "df.index = ['A',  'B', 'C', 'D']\n",
    "df"
   ]
  },
  {
   "cell_type": "code",
   "execution_count": 31,
   "metadata": {
    "colab": {
     "base_uri": "https://localhost:8080/",
     "height": 124
    },
    "colab_type": "code",
    "executionInfo": {
     "elapsed": 11653,
     "status": "ok",
     "timestamp": 1570361967235,
     "user": {
      "displayName": "Sun Jianqiang",
      "photoUrl": "https://lh3.googleusercontent.com/a-/AAuE7mBlbk3ZLL3MgU6_rhZEcQqnf2tEY7rB0jvD_0qQ8g=s64",
      "userId": "00446318326838345787"
     },
     "user_tz": -540
    },
    "id": "lhqXA28JneKq",
    "outputId": "236ea3bd-5165-4765-cc9e-ab1bd76aebb4"
   },
   "outputs": [
    {
     "data": {
      "text/html": [
       "<style  type=\"text/css\" >\n",
       "    #T_f354e83c_e82d_11e9_b8a7_0242ac1c0002row0_col1 {\n",
       "            background-color:  orange;\n",
       "        }    #T_f354e83c_e82d_11e9_b8a7_0242ac1c0002row0_col2 {\n",
       "            background-color:  orange;\n",
       "        }    #T_f354e83c_e82d_11e9_b8a7_0242ac1c0002row0_col3 {\n",
       "            background-color:  orange;\n",
       "        }    #T_f354e83c_e82d_11e9_b8a7_0242ac1c0002row2_col4 {\n",
       "            background-color:  orange;\n",
       "        }    #T_f354e83c_e82d_11e9_b8a7_0242ac1c0002row3_col0 {\n",
       "            background-color:  orange;\n",
       "        }    #T_f354e83c_e82d_11e9_b8a7_0242ac1c0002row3_col5 {\n",
       "            background-color:  orange;\n",
       "        }</style><table id=\"T_f354e83c_e82d_11e9_b8a7_0242ac1c0002\" ><thead>    <tr>        <th class=\"blank level0\" ></th>        <th class=\"col_heading level0 col0\" >F1</th>        <th class=\"col_heading level0 col1\" >F2</th>        <th class=\"col_heading level0 col2\" >F3</th>        <th class=\"col_heading level0 col3\" >F4</th>        <th class=\"col_heading level0 col4\" >F5</th>        <th class=\"col_heading level0 col5\" >F6</th>    </tr></thead><tbody>\n",
       "                <tr>\n",
       "                        <th id=\"T_f354e83c_e82d_11e9_b8a7_0242ac1c0002level0_row0\" class=\"row_heading level0 row0\" >A</th>\n",
       "                        <td id=\"T_f354e83c_e82d_11e9_b8a7_0242ac1c0002row0_col0\" class=\"data row0 col0\" >-0.217679</td>\n",
       "                        <td id=\"T_f354e83c_e82d_11e9_b8a7_0242ac1c0002row0_col1\" class=\"data row0 col1\" >0.821455</td>\n",
       "                        <td id=\"T_f354e83c_e82d_11e9_b8a7_0242ac1c0002row0_col2\" class=\"data row0 col2\" >1.48128</td>\n",
       "                        <td id=\"T_f354e83c_e82d_11e9_b8a7_0242ac1c0002row0_col3\" class=\"data row0 col3\" >1.33186</td>\n",
       "                        <td id=\"T_f354e83c_e82d_11e9_b8a7_0242ac1c0002row0_col4\" class=\"data row0 col4\" >-0.361865</td>\n",
       "                        <td id=\"T_f354e83c_e82d_11e9_b8a7_0242ac1c0002row0_col5\" class=\"data row0 col5\" >0.685609</td>\n",
       "            </tr>\n",
       "            <tr>\n",
       "                        <th id=\"T_f354e83c_e82d_11e9_b8a7_0242ac1c0002level0_row1\" class=\"row_heading level0 row1\" >B</th>\n",
       "                        <td id=\"T_f354e83c_e82d_11e9_b8a7_0242ac1c0002row1_col0\" class=\"data row1 col0\" >0.573761</td>\n",
       "                        <td id=\"T_f354e83c_e82d_11e9_b8a7_0242ac1c0002row1_col1\" class=\"data row1 col1\" >0.287728</td>\n",
       "                        <td id=\"T_f354e83c_e82d_11e9_b8a7_0242ac1c0002row1_col2\" class=\"data row1 col2\" >-0.235634</td>\n",
       "                        <td id=\"T_f354e83c_e82d_11e9_b8a7_0242ac1c0002row1_col3\" class=\"data row1 col3\" >0.95349</td>\n",
       "                        <td id=\"T_f354e83c_e82d_11e9_b8a7_0242ac1c0002row1_col4\" class=\"data row1 col4\" >-1.68963</td>\n",
       "                        <td id=\"T_f354e83c_e82d_11e9_b8a7_0242ac1c0002row1_col5\" class=\"data row1 col5\" >-0.344943</td>\n",
       "            </tr>\n",
       "            <tr>\n",
       "                        <th id=\"T_f354e83c_e82d_11e9_b8a7_0242ac1c0002level0_row2\" class=\"row_heading level0 row2\" >C</th>\n",
       "                        <td id=\"T_f354e83c_e82d_11e9_b8a7_0242ac1c0002row2_col0\" class=\"data row2 col0\" >0.0169049</td>\n",
       "                        <td id=\"T_f354e83c_e82d_11e9_b8a7_0242ac1c0002row2_col1\" class=\"data row2 col1\" >-0.514984</td>\n",
       "                        <td id=\"T_f354e83c_e82d_11e9_b8a7_0242ac1c0002row2_col2\" class=\"data row2 col2\" >0.244509</td>\n",
       "                        <td id=\"T_f354e83c_e82d_11e9_b8a7_0242ac1c0002row2_col3\" class=\"data row2 col3\" >-0.189313</td>\n",
       "                        <td id=\"T_f354e83c_e82d_11e9_b8a7_0242ac1c0002row2_col4\" class=\"data row2 col4\" >2.67217</td>\n",
       "                        <td id=\"T_f354e83c_e82d_11e9_b8a7_0242ac1c0002row2_col5\" class=\"data row2 col5\" >0.464802</td>\n",
       "            </tr>\n",
       "            <tr>\n",
       "                        <th id=\"T_f354e83c_e82d_11e9_b8a7_0242ac1c0002level0_row3\" class=\"row_heading level0 row3\" >D</th>\n",
       "                        <td id=\"T_f354e83c_e82d_11e9_b8a7_0242ac1c0002row3_col0\" class=\"data row3 col0\" >0.84593</td>\n",
       "                        <td id=\"T_f354e83c_e82d_11e9_b8a7_0242ac1c0002row3_col1\" class=\"data row3 col1\" >-0.503542</td>\n",
       "                        <td id=\"T_f354e83c_e82d_11e9_b8a7_0242ac1c0002row3_col2\" class=\"data row3 col2\" >-0.963336</td>\n",
       "                        <td id=\"T_f354e83c_e82d_11e9_b8a7_0242ac1c0002row3_col3\" class=\"data row3 col3\" >0.0649686</td>\n",
       "                        <td id=\"T_f354e83c_e82d_11e9_b8a7_0242ac1c0002row3_col4\" class=\"data row3 col4\" >-3.20504</td>\n",
       "                        <td id=\"T_f354e83c_e82d_11e9_b8a7_0242ac1c0002row3_col5\" class=\"data row3 col5\" >1.05497</td>\n",
       "            </tr>\n",
       "    </tbody></table>"
      ],
      "text/plain": [
       "<pandas.io.formats.style.Styler at 0x7f3fe683e748>"
      ]
     },
     "execution_count": 31,
     "metadata": {
      "tags": []
     },
     "output_type": "execute_result"
    }
   ],
   "source": [
    "def highlight_max(val):\n",
    "  val_max = val.max()\n",
    "  \n",
    "  highlight_tags = []\n",
    "  \n",
    "  for v in val:\n",
    "    if v == val_max:\n",
    "      highlight_tags.append('background-color: orange')\n",
    "    else:\n",
    "      highlight_tags.append('')\n",
    "  \n",
    "  return highlight_tags\n",
    "  \n",
    "\n",
    "df.style.apply(highlight_max)"
   ]
  },
  {
   "cell_type": "code",
   "execution_count": 32,
   "metadata": {
    "colab": {
     "base_uri": "https://localhost:8080/",
     "height": 124
    },
    "colab_type": "code",
    "executionInfo": {
     "elapsed": 11646,
     "status": "ok",
     "timestamp": 1570361967236,
     "user": {
      "displayName": "Sun Jianqiang",
      "photoUrl": "https://lh3.googleusercontent.com/a-/AAuE7mBlbk3ZLL3MgU6_rhZEcQqnf2tEY7rB0jvD_0qQ8g=s64",
      "userId": "00446318326838345787"
     },
     "user_tz": -540
    },
    "id": "y7EhkDS2oj_z",
    "outputId": "fe713450-4b2b-43ec-d60d-c0500cfa209a"
   },
   "outputs": [
    {
     "data": {
      "text/html": [
       "<style  type=\"text/css\" >\n",
       "    #T_f35b3368_e82d_11e9_b8a7_0242ac1c0002row0_col2 {\n",
       "            background-color:  orange;\n",
       "        }    #T_f35b3368_e82d_11e9_b8a7_0242ac1c0002row1_col3 {\n",
       "            background-color:  orange;\n",
       "        }    #T_f35b3368_e82d_11e9_b8a7_0242ac1c0002row2_col4 {\n",
       "            background-color:  orange;\n",
       "        }    #T_f35b3368_e82d_11e9_b8a7_0242ac1c0002row3_col5 {\n",
       "            background-color:  orange;\n",
       "        }</style><table id=\"T_f35b3368_e82d_11e9_b8a7_0242ac1c0002\" ><thead>    <tr>        <th class=\"blank level0\" ></th>        <th class=\"col_heading level0 col0\" >F1</th>        <th class=\"col_heading level0 col1\" >F2</th>        <th class=\"col_heading level0 col2\" >F3</th>        <th class=\"col_heading level0 col3\" >F4</th>        <th class=\"col_heading level0 col4\" >F5</th>        <th class=\"col_heading level0 col5\" >F6</th>    </tr></thead><tbody>\n",
       "                <tr>\n",
       "                        <th id=\"T_f35b3368_e82d_11e9_b8a7_0242ac1c0002level0_row0\" class=\"row_heading level0 row0\" >A</th>\n",
       "                        <td id=\"T_f35b3368_e82d_11e9_b8a7_0242ac1c0002row0_col0\" class=\"data row0 col0\" >-0.217679</td>\n",
       "                        <td id=\"T_f35b3368_e82d_11e9_b8a7_0242ac1c0002row0_col1\" class=\"data row0 col1\" >0.821455</td>\n",
       "                        <td id=\"T_f35b3368_e82d_11e9_b8a7_0242ac1c0002row0_col2\" class=\"data row0 col2\" >1.48128</td>\n",
       "                        <td id=\"T_f35b3368_e82d_11e9_b8a7_0242ac1c0002row0_col3\" class=\"data row0 col3\" >1.33186</td>\n",
       "                        <td id=\"T_f35b3368_e82d_11e9_b8a7_0242ac1c0002row0_col4\" class=\"data row0 col4\" >-0.361865</td>\n",
       "                        <td id=\"T_f35b3368_e82d_11e9_b8a7_0242ac1c0002row0_col5\" class=\"data row0 col5\" >0.685609</td>\n",
       "            </tr>\n",
       "            <tr>\n",
       "                        <th id=\"T_f35b3368_e82d_11e9_b8a7_0242ac1c0002level0_row1\" class=\"row_heading level0 row1\" >B</th>\n",
       "                        <td id=\"T_f35b3368_e82d_11e9_b8a7_0242ac1c0002row1_col0\" class=\"data row1 col0\" >0.573761</td>\n",
       "                        <td id=\"T_f35b3368_e82d_11e9_b8a7_0242ac1c0002row1_col1\" class=\"data row1 col1\" >0.287728</td>\n",
       "                        <td id=\"T_f35b3368_e82d_11e9_b8a7_0242ac1c0002row1_col2\" class=\"data row1 col2\" >-0.235634</td>\n",
       "                        <td id=\"T_f35b3368_e82d_11e9_b8a7_0242ac1c0002row1_col3\" class=\"data row1 col3\" >0.95349</td>\n",
       "                        <td id=\"T_f35b3368_e82d_11e9_b8a7_0242ac1c0002row1_col4\" class=\"data row1 col4\" >-1.68963</td>\n",
       "                        <td id=\"T_f35b3368_e82d_11e9_b8a7_0242ac1c0002row1_col5\" class=\"data row1 col5\" >-0.344943</td>\n",
       "            </tr>\n",
       "            <tr>\n",
       "                        <th id=\"T_f35b3368_e82d_11e9_b8a7_0242ac1c0002level0_row2\" class=\"row_heading level0 row2\" >C</th>\n",
       "                        <td id=\"T_f35b3368_e82d_11e9_b8a7_0242ac1c0002row2_col0\" class=\"data row2 col0\" >0.0169049</td>\n",
       "                        <td id=\"T_f35b3368_e82d_11e9_b8a7_0242ac1c0002row2_col1\" class=\"data row2 col1\" >-0.514984</td>\n",
       "                        <td id=\"T_f35b3368_e82d_11e9_b8a7_0242ac1c0002row2_col2\" class=\"data row2 col2\" >0.244509</td>\n",
       "                        <td id=\"T_f35b3368_e82d_11e9_b8a7_0242ac1c0002row2_col3\" class=\"data row2 col3\" >-0.189313</td>\n",
       "                        <td id=\"T_f35b3368_e82d_11e9_b8a7_0242ac1c0002row2_col4\" class=\"data row2 col4\" >2.67217</td>\n",
       "                        <td id=\"T_f35b3368_e82d_11e9_b8a7_0242ac1c0002row2_col5\" class=\"data row2 col5\" >0.464802</td>\n",
       "            </tr>\n",
       "            <tr>\n",
       "                        <th id=\"T_f35b3368_e82d_11e9_b8a7_0242ac1c0002level0_row3\" class=\"row_heading level0 row3\" >D</th>\n",
       "                        <td id=\"T_f35b3368_e82d_11e9_b8a7_0242ac1c0002row3_col0\" class=\"data row3 col0\" >0.84593</td>\n",
       "                        <td id=\"T_f35b3368_e82d_11e9_b8a7_0242ac1c0002row3_col1\" class=\"data row3 col1\" >-0.503542</td>\n",
       "                        <td id=\"T_f35b3368_e82d_11e9_b8a7_0242ac1c0002row3_col2\" class=\"data row3 col2\" >-0.963336</td>\n",
       "                        <td id=\"T_f35b3368_e82d_11e9_b8a7_0242ac1c0002row3_col3\" class=\"data row3 col3\" >0.0649686</td>\n",
       "                        <td id=\"T_f35b3368_e82d_11e9_b8a7_0242ac1c0002row3_col4\" class=\"data row3 col4\" >-3.20504</td>\n",
       "                        <td id=\"T_f35b3368_e82d_11e9_b8a7_0242ac1c0002row3_col5\" class=\"data row3 col5\" >1.05497</td>\n",
       "            </tr>\n",
       "    </tbody></table>"
      ],
      "text/plain": [
       "<pandas.io.formats.style.Styler at 0x7f3fe65ece48>"
      ]
     },
     "execution_count": 32,
     "metadata": {
      "tags": []
     },
     "output_type": "execute_result"
    }
   ],
   "source": [
    "def highlight_max(val):\n",
    "  val_max = val.max()\n",
    "  \n",
    "  highlight_tags = []\n",
    "  \n",
    "  for v in val:\n",
    "    if v == val_max:\n",
    "      highlight_tags.append('background-color: orange')\n",
    "    else:\n",
    "      highlight_tags.append('')\n",
    "  \n",
    "  return highlight_tags\n",
    "  \n",
    "\n",
    "df.style.apply(highlight_max, axis=1)"
   ]
  },
  {
   "cell_type": "code",
   "execution_count": 33,
   "metadata": {
    "colab": {
     "base_uri": "https://localhost:8080/",
     "height": 124
    },
    "colab_type": "code",
    "executionInfo": {
     "elapsed": 11641,
     "status": "ok",
     "timestamp": 1570361967237,
     "user": {
      "displayName": "Sun Jianqiang",
      "photoUrl": "https://lh3.googleusercontent.com/a-/AAuE7mBlbk3ZLL3MgU6_rhZEcQqnf2tEY7rB0jvD_0qQ8g=s64",
      "userId": "00446318326838345787"
     },
     "user_tz": -540
    },
    "id": "e4nyowMvoojM",
    "outputId": "85acd899-13b2-4f02-ab44-9481dbccdb49"
   },
   "outputs": [
    {
     "data": {
      "text/html": [
       "<style  type=\"text/css\" >\n",
       "    #T_f3618b64_e82d_11e9_b8a7_0242ac1c0002row0_col0 {\n",
       "            color:  #ff0000;\n",
       "        }    #T_f3618b64_e82d_11e9_b8a7_0242ac1c0002row0_col4 {\n",
       "            color:  #ff0000;\n",
       "        }    #T_f3618b64_e82d_11e9_b8a7_0242ac1c0002row1_col2 {\n",
       "            color:  #ff0000;\n",
       "        }    #T_f3618b64_e82d_11e9_b8a7_0242ac1c0002row1_col4 {\n",
       "            color:  #ff0000;\n",
       "        }    #T_f3618b64_e82d_11e9_b8a7_0242ac1c0002row1_col5 {\n",
       "            color:  #ff0000;\n",
       "        }    #T_f3618b64_e82d_11e9_b8a7_0242ac1c0002row2_col1 {\n",
       "            color:  #ff0000;\n",
       "        }    #T_f3618b64_e82d_11e9_b8a7_0242ac1c0002row2_col3 {\n",
       "            color:  #ff0000;\n",
       "        }    #T_f3618b64_e82d_11e9_b8a7_0242ac1c0002row3_col1 {\n",
       "            color:  #ff0000;\n",
       "        }    #T_f3618b64_e82d_11e9_b8a7_0242ac1c0002row3_col2 {\n",
       "            color:  #ff0000;\n",
       "        }    #T_f3618b64_e82d_11e9_b8a7_0242ac1c0002row3_col4 {\n",
       "            color:  #ff0000;\n",
       "        }</style><table id=\"T_f3618b64_e82d_11e9_b8a7_0242ac1c0002\" ><thead>    <tr>        <th class=\"blank level0\" ></th>        <th class=\"col_heading level0 col0\" >F1</th>        <th class=\"col_heading level0 col1\" >F2</th>        <th class=\"col_heading level0 col2\" >F3</th>        <th class=\"col_heading level0 col3\" >F4</th>        <th class=\"col_heading level0 col4\" >F5</th>        <th class=\"col_heading level0 col5\" >F6</th>    </tr></thead><tbody>\n",
       "                <tr>\n",
       "                        <th id=\"T_f3618b64_e82d_11e9_b8a7_0242ac1c0002level0_row0\" class=\"row_heading level0 row0\" >A</th>\n",
       "                        <td id=\"T_f3618b64_e82d_11e9_b8a7_0242ac1c0002row0_col0\" class=\"data row0 col0\" >-0.217679</td>\n",
       "                        <td id=\"T_f3618b64_e82d_11e9_b8a7_0242ac1c0002row0_col1\" class=\"data row0 col1\" >0.821455</td>\n",
       "                        <td id=\"T_f3618b64_e82d_11e9_b8a7_0242ac1c0002row0_col2\" class=\"data row0 col2\" >1.48128</td>\n",
       "                        <td id=\"T_f3618b64_e82d_11e9_b8a7_0242ac1c0002row0_col3\" class=\"data row0 col3\" >1.33186</td>\n",
       "                        <td id=\"T_f3618b64_e82d_11e9_b8a7_0242ac1c0002row0_col4\" class=\"data row0 col4\" >-0.361865</td>\n",
       "                        <td id=\"T_f3618b64_e82d_11e9_b8a7_0242ac1c0002row0_col5\" class=\"data row0 col5\" >0.685609</td>\n",
       "            </tr>\n",
       "            <tr>\n",
       "                        <th id=\"T_f3618b64_e82d_11e9_b8a7_0242ac1c0002level0_row1\" class=\"row_heading level0 row1\" >B</th>\n",
       "                        <td id=\"T_f3618b64_e82d_11e9_b8a7_0242ac1c0002row1_col0\" class=\"data row1 col0\" >0.573761</td>\n",
       "                        <td id=\"T_f3618b64_e82d_11e9_b8a7_0242ac1c0002row1_col1\" class=\"data row1 col1\" >0.287728</td>\n",
       "                        <td id=\"T_f3618b64_e82d_11e9_b8a7_0242ac1c0002row1_col2\" class=\"data row1 col2\" >-0.235634</td>\n",
       "                        <td id=\"T_f3618b64_e82d_11e9_b8a7_0242ac1c0002row1_col3\" class=\"data row1 col3\" >0.95349</td>\n",
       "                        <td id=\"T_f3618b64_e82d_11e9_b8a7_0242ac1c0002row1_col4\" class=\"data row1 col4\" >-1.68963</td>\n",
       "                        <td id=\"T_f3618b64_e82d_11e9_b8a7_0242ac1c0002row1_col5\" class=\"data row1 col5\" >-0.344943</td>\n",
       "            </tr>\n",
       "            <tr>\n",
       "                        <th id=\"T_f3618b64_e82d_11e9_b8a7_0242ac1c0002level0_row2\" class=\"row_heading level0 row2\" >C</th>\n",
       "                        <td id=\"T_f3618b64_e82d_11e9_b8a7_0242ac1c0002row2_col0\" class=\"data row2 col0\" >0.0169049</td>\n",
       "                        <td id=\"T_f3618b64_e82d_11e9_b8a7_0242ac1c0002row2_col1\" class=\"data row2 col1\" >-0.514984</td>\n",
       "                        <td id=\"T_f3618b64_e82d_11e9_b8a7_0242ac1c0002row2_col2\" class=\"data row2 col2\" >0.244509</td>\n",
       "                        <td id=\"T_f3618b64_e82d_11e9_b8a7_0242ac1c0002row2_col3\" class=\"data row2 col3\" >-0.189313</td>\n",
       "                        <td id=\"T_f3618b64_e82d_11e9_b8a7_0242ac1c0002row2_col4\" class=\"data row2 col4\" >2.67217</td>\n",
       "                        <td id=\"T_f3618b64_e82d_11e9_b8a7_0242ac1c0002row2_col5\" class=\"data row2 col5\" >0.464802</td>\n",
       "            </tr>\n",
       "            <tr>\n",
       "                        <th id=\"T_f3618b64_e82d_11e9_b8a7_0242ac1c0002level0_row3\" class=\"row_heading level0 row3\" >D</th>\n",
       "                        <td id=\"T_f3618b64_e82d_11e9_b8a7_0242ac1c0002row3_col0\" class=\"data row3 col0\" >0.84593</td>\n",
       "                        <td id=\"T_f3618b64_e82d_11e9_b8a7_0242ac1c0002row3_col1\" class=\"data row3 col1\" >-0.503542</td>\n",
       "                        <td id=\"T_f3618b64_e82d_11e9_b8a7_0242ac1c0002row3_col2\" class=\"data row3 col2\" >-0.963336</td>\n",
       "                        <td id=\"T_f3618b64_e82d_11e9_b8a7_0242ac1c0002row3_col3\" class=\"data row3 col3\" >0.0649686</td>\n",
       "                        <td id=\"T_f3618b64_e82d_11e9_b8a7_0242ac1c0002row3_col4\" class=\"data row3 col4\" >-3.20504</td>\n",
       "                        <td id=\"T_f3618b64_e82d_11e9_b8a7_0242ac1c0002row3_col5\" class=\"data row3 col5\" >1.05497</td>\n",
       "            </tr>\n",
       "    </tbody></table>"
      ],
      "text/plain": [
       "<pandas.io.formats.style.Styler at 0x7f3fe686e6a0>"
      ]
     },
     "execution_count": 33,
     "metadata": {
      "tags": []
     },
     "output_type": "execute_result"
    }
   ],
   "source": [
    "def highlight_negatives(val):\n",
    "  \n",
    "  highlight_tags = ''\n",
    "  \n",
    "  if val < 0:\n",
    "    highlight_tags = 'color: #ff0000;'  \n",
    "  \n",
    "  return highlight_tags\n",
    "  \n",
    "\n",
    "df.style.applymap(highlight_negatives)"
   ]
  },
  {
   "cell_type": "code",
   "execution_count": 34,
   "metadata": {
    "colab": {
     "base_uri": "https://localhost:8080/",
     "height": 124
    },
    "colab_type": "code",
    "executionInfo": {
     "elapsed": 11634,
     "status": "ok",
     "timestamp": 1570361967237,
     "user": {
      "displayName": "Sun Jianqiang",
      "photoUrl": "https://lh3.googleusercontent.com/a-/AAuE7mBlbk3ZLL3MgU6_rhZEcQqnf2tEY7rB0jvD_0qQ8g=s64",
      "userId": "00446318326838345787"
     },
     "user_tz": -540
    },
    "id": "Rs9dyu7Sp1s2",
    "outputId": "6909c409-6681-4524-b723-f95b055ce911"
   },
   "outputs": [
    {
     "data": {
      "text/html": [
       "<style  type=\"text/css\" >\n",
       "    #T_f369b56e_e82d_11e9_b8a7_0242ac1c0002row0_col0 {\n",
       "            : ;\n",
       "            color:  #ff0000;\n",
       "        }    #T_f369b56e_e82d_11e9_b8a7_0242ac1c0002row0_col1 {\n",
       "            background-color:  orange;\n",
       "            : ;\n",
       "        }    #T_f369b56e_e82d_11e9_b8a7_0242ac1c0002row0_col2 {\n",
       "            background-color:  orange;\n",
       "            : ;\n",
       "        }    #T_f369b56e_e82d_11e9_b8a7_0242ac1c0002row0_col3 {\n",
       "            background-color:  orange;\n",
       "            : ;\n",
       "        }    #T_f369b56e_e82d_11e9_b8a7_0242ac1c0002row0_col4 {\n",
       "            : ;\n",
       "            color:  #ff0000;\n",
       "        }    #T_f369b56e_e82d_11e9_b8a7_0242ac1c0002row1_col2 {\n",
       "            : ;\n",
       "            color:  #ff0000;\n",
       "        }    #T_f369b56e_e82d_11e9_b8a7_0242ac1c0002row1_col4 {\n",
       "            : ;\n",
       "            color:  #ff0000;\n",
       "        }    #T_f369b56e_e82d_11e9_b8a7_0242ac1c0002row1_col5 {\n",
       "            : ;\n",
       "            color:  #ff0000;\n",
       "        }    #T_f369b56e_e82d_11e9_b8a7_0242ac1c0002row2_col1 {\n",
       "            : ;\n",
       "            color:  #ff0000;\n",
       "        }    #T_f369b56e_e82d_11e9_b8a7_0242ac1c0002row2_col3 {\n",
       "            : ;\n",
       "            color:  #ff0000;\n",
       "        }    #T_f369b56e_e82d_11e9_b8a7_0242ac1c0002row2_col4 {\n",
       "            background-color:  orange;\n",
       "            : ;\n",
       "        }    #T_f369b56e_e82d_11e9_b8a7_0242ac1c0002row3_col0 {\n",
       "            background-color:  orange;\n",
       "            : ;\n",
       "        }    #T_f369b56e_e82d_11e9_b8a7_0242ac1c0002row3_col1 {\n",
       "            : ;\n",
       "            color:  #ff0000;\n",
       "        }    #T_f369b56e_e82d_11e9_b8a7_0242ac1c0002row3_col2 {\n",
       "            : ;\n",
       "            color:  #ff0000;\n",
       "        }    #T_f369b56e_e82d_11e9_b8a7_0242ac1c0002row3_col4 {\n",
       "            : ;\n",
       "            color:  #ff0000;\n",
       "        }    #T_f369b56e_e82d_11e9_b8a7_0242ac1c0002row3_col5 {\n",
       "            background-color:  orange;\n",
       "            : ;\n",
       "        }</style><table id=\"T_f369b56e_e82d_11e9_b8a7_0242ac1c0002\" ><thead>    <tr>        <th class=\"blank level0\" ></th>        <th class=\"col_heading level0 col0\" >F1</th>        <th class=\"col_heading level0 col1\" >F2</th>        <th class=\"col_heading level0 col2\" >F3</th>        <th class=\"col_heading level0 col3\" >F4</th>        <th class=\"col_heading level0 col4\" >F5</th>        <th class=\"col_heading level0 col5\" >F6</th>    </tr></thead><tbody>\n",
       "                <tr>\n",
       "                        <th id=\"T_f369b56e_e82d_11e9_b8a7_0242ac1c0002level0_row0\" class=\"row_heading level0 row0\" >A</th>\n",
       "                        <td id=\"T_f369b56e_e82d_11e9_b8a7_0242ac1c0002row0_col0\" class=\"data row0 col0\" >-0.217679</td>\n",
       "                        <td id=\"T_f369b56e_e82d_11e9_b8a7_0242ac1c0002row0_col1\" class=\"data row0 col1\" >0.821455</td>\n",
       "                        <td id=\"T_f369b56e_e82d_11e9_b8a7_0242ac1c0002row0_col2\" class=\"data row0 col2\" >1.48128</td>\n",
       "                        <td id=\"T_f369b56e_e82d_11e9_b8a7_0242ac1c0002row0_col3\" class=\"data row0 col3\" >1.33186</td>\n",
       "                        <td id=\"T_f369b56e_e82d_11e9_b8a7_0242ac1c0002row0_col4\" class=\"data row0 col4\" >-0.361865</td>\n",
       "                        <td id=\"T_f369b56e_e82d_11e9_b8a7_0242ac1c0002row0_col5\" class=\"data row0 col5\" >0.685609</td>\n",
       "            </tr>\n",
       "            <tr>\n",
       "                        <th id=\"T_f369b56e_e82d_11e9_b8a7_0242ac1c0002level0_row1\" class=\"row_heading level0 row1\" >B</th>\n",
       "                        <td id=\"T_f369b56e_e82d_11e9_b8a7_0242ac1c0002row1_col0\" class=\"data row1 col0\" >0.573761</td>\n",
       "                        <td id=\"T_f369b56e_e82d_11e9_b8a7_0242ac1c0002row1_col1\" class=\"data row1 col1\" >0.287728</td>\n",
       "                        <td id=\"T_f369b56e_e82d_11e9_b8a7_0242ac1c0002row1_col2\" class=\"data row1 col2\" >-0.235634</td>\n",
       "                        <td id=\"T_f369b56e_e82d_11e9_b8a7_0242ac1c0002row1_col3\" class=\"data row1 col3\" >0.95349</td>\n",
       "                        <td id=\"T_f369b56e_e82d_11e9_b8a7_0242ac1c0002row1_col4\" class=\"data row1 col4\" >-1.68963</td>\n",
       "                        <td id=\"T_f369b56e_e82d_11e9_b8a7_0242ac1c0002row1_col5\" class=\"data row1 col5\" >-0.344943</td>\n",
       "            </tr>\n",
       "            <tr>\n",
       "                        <th id=\"T_f369b56e_e82d_11e9_b8a7_0242ac1c0002level0_row2\" class=\"row_heading level0 row2\" >C</th>\n",
       "                        <td id=\"T_f369b56e_e82d_11e9_b8a7_0242ac1c0002row2_col0\" class=\"data row2 col0\" >0.0169049</td>\n",
       "                        <td id=\"T_f369b56e_e82d_11e9_b8a7_0242ac1c0002row2_col1\" class=\"data row2 col1\" >-0.514984</td>\n",
       "                        <td id=\"T_f369b56e_e82d_11e9_b8a7_0242ac1c0002row2_col2\" class=\"data row2 col2\" >0.244509</td>\n",
       "                        <td id=\"T_f369b56e_e82d_11e9_b8a7_0242ac1c0002row2_col3\" class=\"data row2 col3\" >-0.189313</td>\n",
       "                        <td id=\"T_f369b56e_e82d_11e9_b8a7_0242ac1c0002row2_col4\" class=\"data row2 col4\" >2.67217</td>\n",
       "                        <td id=\"T_f369b56e_e82d_11e9_b8a7_0242ac1c0002row2_col5\" class=\"data row2 col5\" >0.464802</td>\n",
       "            </tr>\n",
       "            <tr>\n",
       "                        <th id=\"T_f369b56e_e82d_11e9_b8a7_0242ac1c0002level0_row3\" class=\"row_heading level0 row3\" >D</th>\n",
       "                        <td id=\"T_f369b56e_e82d_11e9_b8a7_0242ac1c0002row3_col0\" class=\"data row3 col0\" >0.84593</td>\n",
       "                        <td id=\"T_f369b56e_e82d_11e9_b8a7_0242ac1c0002row3_col1\" class=\"data row3 col1\" >-0.503542</td>\n",
       "                        <td id=\"T_f369b56e_e82d_11e9_b8a7_0242ac1c0002row3_col2\" class=\"data row3 col2\" >-0.963336</td>\n",
       "                        <td id=\"T_f369b56e_e82d_11e9_b8a7_0242ac1c0002row3_col3\" class=\"data row3 col3\" >0.0649686</td>\n",
       "                        <td id=\"T_f369b56e_e82d_11e9_b8a7_0242ac1c0002row3_col4\" class=\"data row3 col4\" >-3.20504</td>\n",
       "                        <td id=\"T_f369b56e_e82d_11e9_b8a7_0242ac1c0002row3_col5\" class=\"data row3 col5\" >1.05497</td>\n",
       "            </tr>\n",
       "    </tbody></table>"
      ],
      "text/plain": [
       "<pandas.io.formats.style.Styler at 0x7f3fe65ac978>"
      ]
     },
     "execution_count": 34,
     "metadata": {
      "tags": []
     },
     "output_type": "execute_result"
    }
   ],
   "source": [
    "df.style.apply(highlight_max).applymap(highlight_negatives)"
   ]
  },
  {
   "cell_type": "code",
   "execution_count": 35,
   "metadata": {
    "colab": {
     "base_uri": "https://localhost:8080/",
     "height": 124
    },
    "colab_type": "code",
    "executionInfo": {
     "elapsed": 11935,
     "status": "ok",
     "timestamp": 1570361967557,
     "user": {
      "displayName": "Sun Jianqiang",
      "photoUrl": "https://lh3.googleusercontent.com/a-/AAuE7mBlbk3ZLL3MgU6_rhZEcQqnf2tEY7rB0jvD_0qQ8g=s64",
      "userId": "00446318326838345787"
     },
     "user_tz": -540
    },
    "id": "5VrF8rzHqIbT",
    "outputId": "7b0321ec-f6fe-4f01-f2ca-e9aa66c174cb"
   },
   "outputs": [
    {
     "data": {
      "text/html": [
       "<style  type=\"text/css\" >\n",
       "    #T_f370df60_e82d_11e9_b8a7_0242ac1c0002row0_col1 {\n",
       "            background-color:  orange;\n",
       "        }    #T_f370df60_e82d_11e9_b8a7_0242ac1c0002row0_col2 {\n",
       "            background-color:  orange;\n",
       "        }    #T_f370df60_e82d_11e9_b8a7_0242ac1c0002row0_col4 {\n",
       "            color:  #ff0000;\n",
       "        }    #T_f370df60_e82d_11e9_b8a7_0242ac1c0002row1_col4 {\n",
       "            color:  #ff0000;\n",
       "        }    #T_f370df60_e82d_11e9_b8a7_0242ac1c0002row1_col5 {\n",
       "            color:  #ff0000;\n",
       "        }    #T_f370df60_e82d_11e9_b8a7_0242ac1c0002row2_col3 {\n",
       "            color:  #ff0000;\n",
       "        }    #T_f370df60_e82d_11e9_b8a7_0242ac1c0002row3_col0 {\n",
       "            background-color:  orange;\n",
       "        }    #T_f370df60_e82d_11e9_b8a7_0242ac1c0002row3_col4 {\n",
       "            color:  #ff0000;\n",
       "        }</style><table id=\"T_f370df60_e82d_11e9_b8a7_0242ac1c0002\" ><thead>    <tr>        <th class=\"blank level0\" ></th>        <th class=\"col_heading level0 col0\" >F1</th>        <th class=\"col_heading level0 col1\" >F2</th>        <th class=\"col_heading level0 col2\" >F3</th>        <th class=\"col_heading level0 col3\" >F4</th>        <th class=\"col_heading level0 col4\" >F5</th>        <th class=\"col_heading level0 col5\" >F6</th>    </tr></thead><tbody>\n",
       "                <tr>\n",
       "                        <th id=\"T_f370df60_e82d_11e9_b8a7_0242ac1c0002level0_row0\" class=\"row_heading level0 row0\" >A</th>\n",
       "                        <td id=\"T_f370df60_e82d_11e9_b8a7_0242ac1c0002row0_col0\" class=\"data row0 col0\" >-0.217679</td>\n",
       "                        <td id=\"T_f370df60_e82d_11e9_b8a7_0242ac1c0002row0_col1\" class=\"data row0 col1\" >0.821455</td>\n",
       "                        <td id=\"T_f370df60_e82d_11e9_b8a7_0242ac1c0002row0_col2\" class=\"data row0 col2\" >1.48128</td>\n",
       "                        <td id=\"T_f370df60_e82d_11e9_b8a7_0242ac1c0002row0_col3\" class=\"data row0 col3\" >1.33186</td>\n",
       "                        <td id=\"T_f370df60_e82d_11e9_b8a7_0242ac1c0002row0_col4\" class=\"data row0 col4\" >-0.361865</td>\n",
       "                        <td id=\"T_f370df60_e82d_11e9_b8a7_0242ac1c0002row0_col5\" class=\"data row0 col5\" >0.685609</td>\n",
       "            </tr>\n",
       "            <tr>\n",
       "                        <th id=\"T_f370df60_e82d_11e9_b8a7_0242ac1c0002level0_row1\" class=\"row_heading level0 row1\" >B</th>\n",
       "                        <td id=\"T_f370df60_e82d_11e9_b8a7_0242ac1c0002row1_col0\" class=\"data row1 col0\" >0.573761</td>\n",
       "                        <td id=\"T_f370df60_e82d_11e9_b8a7_0242ac1c0002row1_col1\" class=\"data row1 col1\" >0.287728</td>\n",
       "                        <td id=\"T_f370df60_e82d_11e9_b8a7_0242ac1c0002row1_col2\" class=\"data row1 col2\" >-0.235634</td>\n",
       "                        <td id=\"T_f370df60_e82d_11e9_b8a7_0242ac1c0002row1_col3\" class=\"data row1 col3\" >0.95349</td>\n",
       "                        <td id=\"T_f370df60_e82d_11e9_b8a7_0242ac1c0002row1_col4\" class=\"data row1 col4\" >-1.68963</td>\n",
       "                        <td id=\"T_f370df60_e82d_11e9_b8a7_0242ac1c0002row1_col5\" class=\"data row1 col5\" >-0.344943</td>\n",
       "            </tr>\n",
       "            <tr>\n",
       "                        <th id=\"T_f370df60_e82d_11e9_b8a7_0242ac1c0002level0_row2\" class=\"row_heading level0 row2\" >C</th>\n",
       "                        <td id=\"T_f370df60_e82d_11e9_b8a7_0242ac1c0002row2_col0\" class=\"data row2 col0\" >0.0169049</td>\n",
       "                        <td id=\"T_f370df60_e82d_11e9_b8a7_0242ac1c0002row2_col1\" class=\"data row2 col1\" >-0.514984</td>\n",
       "                        <td id=\"T_f370df60_e82d_11e9_b8a7_0242ac1c0002row2_col2\" class=\"data row2 col2\" >0.244509</td>\n",
       "                        <td id=\"T_f370df60_e82d_11e9_b8a7_0242ac1c0002row2_col3\" class=\"data row2 col3\" >-0.189313</td>\n",
       "                        <td id=\"T_f370df60_e82d_11e9_b8a7_0242ac1c0002row2_col4\" class=\"data row2 col4\" >2.67217</td>\n",
       "                        <td id=\"T_f370df60_e82d_11e9_b8a7_0242ac1c0002row2_col5\" class=\"data row2 col5\" >0.464802</td>\n",
       "            </tr>\n",
       "            <tr>\n",
       "                        <th id=\"T_f370df60_e82d_11e9_b8a7_0242ac1c0002level0_row3\" class=\"row_heading level0 row3\" >D</th>\n",
       "                        <td id=\"T_f370df60_e82d_11e9_b8a7_0242ac1c0002row3_col0\" class=\"data row3 col0\" >0.84593</td>\n",
       "                        <td id=\"T_f370df60_e82d_11e9_b8a7_0242ac1c0002row3_col1\" class=\"data row3 col1\" >-0.503542</td>\n",
       "                        <td id=\"T_f370df60_e82d_11e9_b8a7_0242ac1c0002row3_col2\" class=\"data row3 col2\" >-0.963336</td>\n",
       "                        <td id=\"T_f370df60_e82d_11e9_b8a7_0242ac1c0002row3_col3\" class=\"data row3 col3\" >0.0649686</td>\n",
       "                        <td id=\"T_f370df60_e82d_11e9_b8a7_0242ac1c0002row3_col4\" class=\"data row3 col4\" >-3.20504</td>\n",
       "                        <td id=\"T_f370df60_e82d_11e9_b8a7_0242ac1c0002row3_col5\" class=\"data row3 col5\" >1.05497</td>\n",
       "            </tr>\n",
       "    </tbody></table>"
      ],
      "text/plain": [
       "<pandas.io.formats.style.Styler at 0x7f3fe65aca20>"
      ]
     },
     "execution_count": 35,
     "metadata": {
      "tags": []
     },
     "output_type": "execute_result"
    }
   ],
   "source": [
    "df.style.apply(highlight_max, subset=['F1', 'F2', 'F3']).\\\n",
    "         applymap(highlight_negatives, subset=['F4', 'F5', 'F6'])"
   ]
  },
  {
   "cell_type": "code",
   "execution_count": 36,
   "metadata": {
    "colab": {
     "base_uri": "https://localhost:8080/",
     "height": 124
    },
    "colab_type": "code",
    "executionInfo": {
     "elapsed": 11920,
     "status": "ok",
     "timestamp": 1570361967558,
     "user": {
      "displayName": "Sun Jianqiang",
      "photoUrl": "https://lh3.googleusercontent.com/a-/AAuE7mBlbk3ZLL3MgU6_rhZEcQqnf2tEY7rB0jvD_0qQ8g=s64",
      "userId": "00446318326838345787"
     },
     "user_tz": -540
    },
    "id": "-u2EUxnvqXr-",
    "outputId": "4dba14b9-d07a-4630-facf-43c4b338b4d3"
   },
   "outputs": [
    {
     "data": {
      "text/html": [
       "<style  type=\"text/css\" >\n",
       "    #T_f3752e94_e82d_11e9_b8a7_0242ac1c0002row0_col0 {\n",
       "            color:  #ff0000;\n",
       "        }    #T_f3752e94_e82d_11e9_b8a7_0242ac1c0002row0_col4 {\n",
       "            color:  #ff0000;\n",
       "        }</style><table id=\"T_f3752e94_e82d_11e9_b8a7_0242ac1c0002\" ><thead>    <tr>        <th class=\"blank level0\" ></th>        <th class=\"col_heading level0 col0\" >F1</th>        <th class=\"col_heading level0 col1\" >F2</th>        <th class=\"col_heading level0 col2\" >F3</th>        <th class=\"col_heading level0 col3\" >F4</th>        <th class=\"col_heading level0 col4\" >F5</th>        <th class=\"col_heading level0 col5\" >F6</th>    </tr></thead><tbody>\n",
       "                <tr>\n",
       "                        <th id=\"T_f3752e94_e82d_11e9_b8a7_0242ac1c0002level0_row0\" class=\"row_heading level0 row0\" >A</th>\n",
       "                        <td id=\"T_f3752e94_e82d_11e9_b8a7_0242ac1c0002row0_col0\" class=\"data row0 col0\" >-0.217679</td>\n",
       "                        <td id=\"T_f3752e94_e82d_11e9_b8a7_0242ac1c0002row0_col1\" class=\"data row0 col1\" >0.821455</td>\n",
       "                        <td id=\"T_f3752e94_e82d_11e9_b8a7_0242ac1c0002row0_col2\" class=\"data row0 col2\" >1.48128</td>\n",
       "                        <td id=\"T_f3752e94_e82d_11e9_b8a7_0242ac1c0002row0_col3\" class=\"data row0 col3\" >1.33186</td>\n",
       "                        <td id=\"T_f3752e94_e82d_11e9_b8a7_0242ac1c0002row0_col4\" class=\"data row0 col4\" >-0.361865</td>\n",
       "                        <td id=\"T_f3752e94_e82d_11e9_b8a7_0242ac1c0002row0_col5\" class=\"data row0 col5\" >0.685609</td>\n",
       "            </tr>\n",
       "            <tr>\n",
       "                        <th id=\"T_f3752e94_e82d_11e9_b8a7_0242ac1c0002level0_row1\" class=\"row_heading level0 row1\" >B</th>\n",
       "                        <td id=\"T_f3752e94_e82d_11e9_b8a7_0242ac1c0002row1_col0\" class=\"data row1 col0\" >0.573761</td>\n",
       "                        <td id=\"T_f3752e94_e82d_11e9_b8a7_0242ac1c0002row1_col1\" class=\"data row1 col1\" >0.287728</td>\n",
       "                        <td id=\"T_f3752e94_e82d_11e9_b8a7_0242ac1c0002row1_col2\" class=\"data row1 col2\" >-0.235634</td>\n",
       "                        <td id=\"T_f3752e94_e82d_11e9_b8a7_0242ac1c0002row1_col3\" class=\"data row1 col3\" >0.95349</td>\n",
       "                        <td id=\"T_f3752e94_e82d_11e9_b8a7_0242ac1c0002row1_col4\" class=\"data row1 col4\" >-1.68963</td>\n",
       "                        <td id=\"T_f3752e94_e82d_11e9_b8a7_0242ac1c0002row1_col5\" class=\"data row1 col5\" >-0.344943</td>\n",
       "            </tr>\n",
       "            <tr>\n",
       "                        <th id=\"T_f3752e94_e82d_11e9_b8a7_0242ac1c0002level0_row2\" class=\"row_heading level0 row2\" >C</th>\n",
       "                        <td id=\"T_f3752e94_e82d_11e9_b8a7_0242ac1c0002row2_col0\" class=\"data row2 col0\" >0.0169049</td>\n",
       "                        <td id=\"T_f3752e94_e82d_11e9_b8a7_0242ac1c0002row2_col1\" class=\"data row2 col1\" >-0.514984</td>\n",
       "                        <td id=\"T_f3752e94_e82d_11e9_b8a7_0242ac1c0002row2_col2\" class=\"data row2 col2\" >0.244509</td>\n",
       "                        <td id=\"T_f3752e94_e82d_11e9_b8a7_0242ac1c0002row2_col3\" class=\"data row2 col3\" >-0.189313</td>\n",
       "                        <td id=\"T_f3752e94_e82d_11e9_b8a7_0242ac1c0002row2_col4\" class=\"data row2 col4\" >2.67217</td>\n",
       "                        <td id=\"T_f3752e94_e82d_11e9_b8a7_0242ac1c0002row2_col5\" class=\"data row2 col5\" >0.464802</td>\n",
       "            </tr>\n",
       "            <tr>\n",
       "                        <th id=\"T_f3752e94_e82d_11e9_b8a7_0242ac1c0002level0_row3\" class=\"row_heading level0 row3\" >D</th>\n",
       "                        <td id=\"T_f3752e94_e82d_11e9_b8a7_0242ac1c0002row3_col0\" class=\"data row3 col0\" >0.84593</td>\n",
       "                        <td id=\"T_f3752e94_e82d_11e9_b8a7_0242ac1c0002row3_col1\" class=\"data row3 col1\" >-0.503542</td>\n",
       "                        <td id=\"T_f3752e94_e82d_11e9_b8a7_0242ac1c0002row3_col2\" class=\"data row3 col2\" >-0.963336</td>\n",
       "                        <td id=\"T_f3752e94_e82d_11e9_b8a7_0242ac1c0002row3_col3\" class=\"data row3 col3\" >0.0649686</td>\n",
       "                        <td id=\"T_f3752e94_e82d_11e9_b8a7_0242ac1c0002row3_col4\" class=\"data row3 col4\" >-3.20504</td>\n",
       "                        <td id=\"T_f3752e94_e82d_11e9_b8a7_0242ac1c0002row3_col5\" class=\"data row3 col5\" >1.05497</td>\n",
       "            </tr>\n",
       "    </tbody></table>"
      ],
      "text/plain": [
       "<pandas.io.formats.style.Styler at 0x7f3fe65acac8>"
      ]
     },
     "execution_count": 36,
     "metadata": {
      "tags": []
     },
     "output_type": "execute_result"
    }
   ],
   "source": [
    "df.style.applymap(highlight_negatives, subset=pd.IndexSlice[['A', 'C'], ['F1', 'F3', 'F5']])"
   ]
  },
  {
   "cell_type": "markdown",
   "metadata": {
    "colab_type": "text",
    "id": "aL4OEzsNrAW5"
   },
   "source": [
    "画面上に表示されるデータの桁数は `style.format` メソッドで調整できる。"
   ]
  },
  {
   "cell_type": "code",
   "execution_count": 37,
   "metadata": {
    "colab": {
     "base_uri": "https://localhost:8080/",
     "height": 124
    },
    "colab_type": "code",
    "executionInfo": {
     "elapsed": 11898,
     "status": "ok",
     "timestamp": 1570361967559,
     "user": {
      "displayName": "Sun Jianqiang",
      "photoUrl": "https://lh3.googleusercontent.com/a-/AAuE7mBlbk3ZLL3MgU6_rhZEcQqnf2tEY7rB0jvD_0qQ8g=s64",
      "userId": "00446318326838345787"
     },
     "user_tz": -540
    },
    "id": "v5hbkFTgq9lC",
    "outputId": "269345b6-67be-4805-b98a-157f38798f56"
   },
   "outputs": [
    {
     "data": {
      "text/html": [
       "<style  type=\"text/css\" >\n",
       "</style><table id=\"T_f37736e4_e82d_11e9_b8a7_0242ac1c0002\" ><thead>    <tr>        <th class=\"blank level0\" ></th>        <th class=\"col_heading level0 col0\" >F1</th>        <th class=\"col_heading level0 col1\" >F2</th>        <th class=\"col_heading level0 col2\" >F3</th>        <th class=\"col_heading level0 col3\" >F4</th>        <th class=\"col_heading level0 col4\" >F5</th>        <th class=\"col_heading level0 col5\" >F6</th>    </tr></thead><tbody>\n",
       "                <tr>\n",
       "                        <th id=\"T_f37736e4_e82d_11e9_b8a7_0242ac1c0002level0_row0\" class=\"row_heading level0 row0\" >A</th>\n",
       "                        <td id=\"T_f37736e4_e82d_11e9_b8a7_0242ac1c0002row0_col0\" class=\"data row0 col0\" >-0.22</td>\n",
       "                        <td id=\"T_f37736e4_e82d_11e9_b8a7_0242ac1c0002row0_col1\" class=\"data row0 col1\" >0.82</td>\n",
       "                        <td id=\"T_f37736e4_e82d_11e9_b8a7_0242ac1c0002row0_col2\" class=\"data row0 col2\" >1.48</td>\n",
       "                        <td id=\"T_f37736e4_e82d_11e9_b8a7_0242ac1c0002row0_col3\" class=\"data row0 col3\" >1.33</td>\n",
       "                        <td id=\"T_f37736e4_e82d_11e9_b8a7_0242ac1c0002row0_col4\" class=\"data row0 col4\" >-0.36</td>\n",
       "                        <td id=\"T_f37736e4_e82d_11e9_b8a7_0242ac1c0002row0_col5\" class=\"data row0 col5\" >0.69</td>\n",
       "            </tr>\n",
       "            <tr>\n",
       "                        <th id=\"T_f37736e4_e82d_11e9_b8a7_0242ac1c0002level0_row1\" class=\"row_heading level0 row1\" >B</th>\n",
       "                        <td id=\"T_f37736e4_e82d_11e9_b8a7_0242ac1c0002row1_col0\" class=\"data row1 col0\" >0.57</td>\n",
       "                        <td id=\"T_f37736e4_e82d_11e9_b8a7_0242ac1c0002row1_col1\" class=\"data row1 col1\" >0.29</td>\n",
       "                        <td id=\"T_f37736e4_e82d_11e9_b8a7_0242ac1c0002row1_col2\" class=\"data row1 col2\" >-0.24</td>\n",
       "                        <td id=\"T_f37736e4_e82d_11e9_b8a7_0242ac1c0002row1_col3\" class=\"data row1 col3\" >0.95</td>\n",
       "                        <td id=\"T_f37736e4_e82d_11e9_b8a7_0242ac1c0002row1_col4\" class=\"data row1 col4\" >-1.69</td>\n",
       "                        <td id=\"T_f37736e4_e82d_11e9_b8a7_0242ac1c0002row1_col5\" class=\"data row1 col5\" >-0.34</td>\n",
       "            </tr>\n",
       "            <tr>\n",
       "                        <th id=\"T_f37736e4_e82d_11e9_b8a7_0242ac1c0002level0_row2\" class=\"row_heading level0 row2\" >C</th>\n",
       "                        <td id=\"T_f37736e4_e82d_11e9_b8a7_0242ac1c0002row2_col0\" class=\"data row2 col0\" >0.02</td>\n",
       "                        <td id=\"T_f37736e4_e82d_11e9_b8a7_0242ac1c0002row2_col1\" class=\"data row2 col1\" >-0.51</td>\n",
       "                        <td id=\"T_f37736e4_e82d_11e9_b8a7_0242ac1c0002row2_col2\" class=\"data row2 col2\" >0.24</td>\n",
       "                        <td id=\"T_f37736e4_e82d_11e9_b8a7_0242ac1c0002row2_col3\" class=\"data row2 col3\" >-0.19</td>\n",
       "                        <td id=\"T_f37736e4_e82d_11e9_b8a7_0242ac1c0002row2_col4\" class=\"data row2 col4\" >2.67</td>\n",
       "                        <td id=\"T_f37736e4_e82d_11e9_b8a7_0242ac1c0002row2_col5\" class=\"data row2 col5\" >0.46</td>\n",
       "            </tr>\n",
       "            <tr>\n",
       "                        <th id=\"T_f37736e4_e82d_11e9_b8a7_0242ac1c0002level0_row3\" class=\"row_heading level0 row3\" >D</th>\n",
       "                        <td id=\"T_f37736e4_e82d_11e9_b8a7_0242ac1c0002row3_col0\" class=\"data row3 col0\" >0.85</td>\n",
       "                        <td id=\"T_f37736e4_e82d_11e9_b8a7_0242ac1c0002row3_col1\" class=\"data row3 col1\" >-0.50</td>\n",
       "                        <td id=\"T_f37736e4_e82d_11e9_b8a7_0242ac1c0002row3_col2\" class=\"data row3 col2\" >-0.96</td>\n",
       "                        <td id=\"T_f37736e4_e82d_11e9_b8a7_0242ac1c0002row3_col3\" class=\"data row3 col3\" >0.06</td>\n",
       "                        <td id=\"T_f37736e4_e82d_11e9_b8a7_0242ac1c0002row3_col4\" class=\"data row3 col4\" >-3.21</td>\n",
       "                        <td id=\"T_f37736e4_e82d_11e9_b8a7_0242ac1c0002row3_col5\" class=\"data row3 col5\" >1.05</td>\n",
       "            </tr>\n",
       "    </tbody></table>"
      ],
      "text/plain": [
       "<pandas.io.formats.style.Styler at 0x7f3fe65ac9e8>"
      ]
     },
     "execution_count": 37,
     "metadata": {
      "tags": []
     },
     "output_type": "execute_result"
    }
   ],
   "source": [
    "df.style.format('{:.2f}')"
   ]
  },
  {
   "cell_type": "code",
   "execution_count": 38,
   "metadata": {
    "colab": {
     "base_uri": "https://localhost:8080/",
     "height": 124
    },
    "colab_type": "code",
    "executionInfo": {
     "elapsed": 11881,
     "status": "ok",
     "timestamp": 1570361967559,
     "user": {
      "displayName": "Sun Jianqiang",
      "photoUrl": "https://lh3.googleusercontent.com/a-/AAuE7mBlbk3ZLL3MgU6_rhZEcQqnf2tEY7rB0jvD_0qQ8g=s64",
      "userId": "00446318326838345787"
     },
     "user_tz": -540
    },
    "id": "FRKs3bTDrbhE",
    "outputId": "684a456a-b461-456c-ab55-afae75212ca3"
   },
   "outputs": [
    {
     "data": {
      "text/html": [
       "<style  type=\"text/css\" >\n",
       "</style><table id=\"T_f379fcbc_e82d_11e9_b8a7_0242ac1c0002\" ><thead>    <tr>        <th class=\"blank level0\" ></th>        <th class=\"col_heading level0 col0\" >F1</th>        <th class=\"col_heading level0 col1\" >F2</th>        <th class=\"col_heading level0 col2\" >F3</th>        <th class=\"col_heading level0 col3\" >F4</th>        <th class=\"col_heading level0 col4\" >F5</th>        <th class=\"col_heading level0 col5\" >F6</th>    </tr></thead><tbody>\n",
       "                <tr>\n",
       "                        <th id=\"T_f379fcbc_e82d_11e9_b8a7_0242ac1c0002level0_row0\" class=\"row_heading level0 row0\" >A</th>\n",
       "                        <td id=\"T_f379fcbc_e82d_11e9_b8a7_0242ac1c0002row0_col0\" class=\"data row0 col0\" >-0.21768</td>\n",
       "                        <td id=\"T_f379fcbc_e82d_11e9_b8a7_0242ac1c0002row0_col1\" class=\"data row0 col1\" >0.82</td>\n",
       "                        <td id=\"T_f379fcbc_e82d_11e9_b8a7_0242ac1c0002row0_col2\" class=\"data row0 col2\" >1.48</td>\n",
       "                        <td id=\"T_f379fcbc_e82d_11e9_b8a7_0242ac1c0002row0_col3\" class=\"data row0 col3\" >1.33</td>\n",
       "                        <td id=\"T_f379fcbc_e82d_11e9_b8a7_0242ac1c0002row0_col4\" class=\"data row0 col4\" >-0.36</td>\n",
       "                        <td id=\"T_f379fcbc_e82d_11e9_b8a7_0242ac1c0002row0_col5\" class=\"data row0 col5\" >0.69</td>\n",
       "            </tr>\n",
       "            <tr>\n",
       "                        <th id=\"T_f379fcbc_e82d_11e9_b8a7_0242ac1c0002level0_row1\" class=\"row_heading level0 row1\" >B</th>\n",
       "                        <td id=\"T_f379fcbc_e82d_11e9_b8a7_0242ac1c0002row1_col0\" class=\"data row1 col0\" >0.57376</td>\n",
       "                        <td id=\"T_f379fcbc_e82d_11e9_b8a7_0242ac1c0002row1_col1\" class=\"data row1 col1\" >0.29</td>\n",
       "                        <td id=\"T_f379fcbc_e82d_11e9_b8a7_0242ac1c0002row1_col2\" class=\"data row1 col2\" >-0.24</td>\n",
       "                        <td id=\"T_f379fcbc_e82d_11e9_b8a7_0242ac1c0002row1_col3\" class=\"data row1 col3\" >0.95</td>\n",
       "                        <td id=\"T_f379fcbc_e82d_11e9_b8a7_0242ac1c0002row1_col4\" class=\"data row1 col4\" >-1.69</td>\n",
       "                        <td id=\"T_f379fcbc_e82d_11e9_b8a7_0242ac1c0002row1_col5\" class=\"data row1 col5\" >-0.34</td>\n",
       "            </tr>\n",
       "            <tr>\n",
       "                        <th id=\"T_f379fcbc_e82d_11e9_b8a7_0242ac1c0002level0_row2\" class=\"row_heading level0 row2\" >C</th>\n",
       "                        <td id=\"T_f379fcbc_e82d_11e9_b8a7_0242ac1c0002row2_col0\" class=\"data row2 col0\" >0.01690</td>\n",
       "                        <td id=\"T_f379fcbc_e82d_11e9_b8a7_0242ac1c0002row2_col1\" class=\"data row2 col1\" >-0.51</td>\n",
       "                        <td id=\"T_f379fcbc_e82d_11e9_b8a7_0242ac1c0002row2_col2\" class=\"data row2 col2\" >0.24</td>\n",
       "                        <td id=\"T_f379fcbc_e82d_11e9_b8a7_0242ac1c0002row2_col3\" class=\"data row2 col3\" >-0.19</td>\n",
       "                        <td id=\"T_f379fcbc_e82d_11e9_b8a7_0242ac1c0002row2_col4\" class=\"data row2 col4\" >2.67</td>\n",
       "                        <td id=\"T_f379fcbc_e82d_11e9_b8a7_0242ac1c0002row2_col5\" class=\"data row2 col5\" >0.46</td>\n",
       "            </tr>\n",
       "            <tr>\n",
       "                        <th id=\"T_f379fcbc_e82d_11e9_b8a7_0242ac1c0002level0_row3\" class=\"row_heading level0 row3\" >D</th>\n",
       "                        <td id=\"T_f379fcbc_e82d_11e9_b8a7_0242ac1c0002row3_col0\" class=\"data row3 col0\" >0.84593</td>\n",
       "                        <td id=\"T_f379fcbc_e82d_11e9_b8a7_0242ac1c0002row3_col1\" class=\"data row3 col1\" >-0.50</td>\n",
       "                        <td id=\"T_f379fcbc_e82d_11e9_b8a7_0242ac1c0002row3_col2\" class=\"data row3 col2\" >-0.96</td>\n",
       "                        <td id=\"T_f379fcbc_e82d_11e9_b8a7_0242ac1c0002row3_col3\" class=\"data row3 col3\" >0.06</td>\n",
       "                        <td id=\"T_f379fcbc_e82d_11e9_b8a7_0242ac1c0002row3_col4\" class=\"data row3 col4\" >-3.21</td>\n",
       "                        <td id=\"T_f379fcbc_e82d_11e9_b8a7_0242ac1c0002row3_col5\" class=\"data row3 col5\" >1.05</td>\n",
       "            </tr>\n",
       "    </tbody></table>"
      ],
      "text/plain": [
       "<pandas.io.formats.style.Styler at 0x7f3fe65ac7b8>"
      ]
     },
     "execution_count": 38,
     "metadata": {
      "tags": []
     },
     "output_type": "execute_result"
    }
   ],
   "source": [
    "df.style.format('{:.2f}').format({'F1': '{:.5f}'})"
   ]
  },
  {
   "cell_type": "code",
   "execution_count": 39,
   "metadata": {
    "colab": {
     "base_uri": "https://localhost:8080/",
     "height": 124
    },
    "colab_type": "code",
    "executionInfo": {
     "elapsed": 11868,
     "status": "ok",
     "timestamp": 1570361967560,
     "user": {
      "displayName": "Sun Jianqiang",
      "photoUrl": "https://lh3.googleusercontent.com/a-/AAuE7mBlbk3ZLL3MgU6_rhZEcQqnf2tEY7rB0jvD_0qQ8g=s64",
      "userId": "00446318326838345787"
     },
     "user_tz": -540
    },
    "id": "txL8-j9dr85e",
    "outputId": "b77d03bc-51ab-4cdd-bda4-0fb0c3f5f9c9"
   },
   "outputs": [
    {
     "data": {
      "text/html": [
       "<style  type=\"text/css\" >\n",
       "    #T_f381fb92_e82d_11e9_b8a7_0242ac1c0002row0_col5 {\n",
       "            background-color:  darkgray;\n",
       "        }    #T_f381fb92_e82d_11e9_b8a7_0242ac1c0002row2_col2 {\n",
       "            background-color:  darkgray;\n",
       "        }</style><table id=\"T_f381fb92_e82d_11e9_b8a7_0242ac1c0002\" ><thead>    <tr>        <th class=\"blank level0\" ></th>        <th class=\"col_heading level0 col0\" >F1</th>        <th class=\"col_heading level0 col1\" >F2</th>        <th class=\"col_heading level0 col2\" >F3</th>        <th class=\"col_heading level0 col3\" >F4</th>        <th class=\"col_heading level0 col4\" >F5</th>        <th class=\"col_heading level0 col5\" >F6</th>    </tr></thead><tbody>\n",
       "                <tr>\n",
       "                        <th id=\"T_f381fb92_e82d_11e9_b8a7_0242ac1c0002level0_row0\" class=\"row_heading level0 row0\" >A</th>\n",
       "                        <td id=\"T_f381fb92_e82d_11e9_b8a7_0242ac1c0002row0_col0\" class=\"data row0 col0\" >-0.217679</td>\n",
       "                        <td id=\"T_f381fb92_e82d_11e9_b8a7_0242ac1c0002row0_col1\" class=\"data row0 col1\" >0.821455</td>\n",
       "                        <td id=\"T_f381fb92_e82d_11e9_b8a7_0242ac1c0002row0_col2\" class=\"data row0 col2\" >1.48128</td>\n",
       "                        <td id=\"T_f381fb92_e82d_11e9_b8a7_0242ac1c0002row0_col3\" class=\"data row0 col3\" >1.33186</td>\n",
       "                        <td id=\"T_f381fb92_e82d_11e9_b8a7_0242ac1c0002row0_col4\" class=\"data row0 col4\" >-0.361865</td>\n",
       "                        <td id=\"T_f381fb92_e82d_11e9_b8a7_0242ac1c0002row0_col5\" class=\"data row0 col5\" >nan</td>\n",
       "            </tr>\n",
       "            <tr>\n",
       "                        <th id=\"T_f381fb92_e82d_11e9_b8a7_0242ac1c0002level0_row1\" class=\"row_heading level0 row1\" >B</th>\n",
       "                        <td id=\"T_f381fb92_e82d_11e9_b8a7_0242ac1c0002row1_col0\" class=\"data row1 col0\" >0.573761</td>\n",
       "                        <td id=\"T_f381fb92_e82d_11e9_b8a7_0242ac1c0002row1_col1\" class=\"data row1 col1\" >0.287728</td>\n",
       "                        <td id=\"T_f381fb92_e82d_11e9_b8a7_0242ac1c0002row1_col2\" class=\"data row1 col2\" >-0.235634</td>\n",
       "                        <td id=\"T_f381fb92_e82d_11e9_b8a7_0242ac1c0002row1_col3\" class=\"data row1 col3\" >0.95349</td>\n",
       "                        <td id=\"T_f381fb92_e82d_11e9_b8a7_0242ac1c0002row1_col4\" class=\"data row1 col4\" >-1.68963</td>\n",
       "                        <td id=\"T_f381fb92_e82d_11e9_b8a7_0242ac1c0002row1_col5\" class=\"data row1 col5\" >-0.344943</td>\n",
       "            </tr>\n",
       "            <tr>\n",
       "                        <th id=\"T_f381fb92_e82d_11e9_b8a7_0242ac1c0002level0_row2\" class=\"row_heading level0 row2\" >C</th>\n",
       "                        <td id=\"T_f381fb92_e82d_11e9_b8a7_0242ac1c0002row2_col0\" class=\"data row2 col0\" >0.0169049</td>\n",
       "                        <td id=\"T_f381fb92_e82d_11e9_b8a7_0242ac1c0002row2_col1\" class=\"data row2 col1\" >-0.514984</td>\n",
       "                        <td id=\"T_f381fb92_e82d_11e9_b8a7_0242ac1c0002row2_col2\" class=\"data row2 col2\" >nan</td>\n",
       "                        <td id=\"T_f381fb92_e82d_11e9_b8a7_0242ac1c0002row2_col3\" class=\"data row2 col3\" >-0.189313</td>\n",
       "                        <td id=\"T_f381fb92_e82d_11e9_b8a7_0242ac1c0002row2_col4\" class=\"data row2 col4\" >2.67217</td>\n",
       "                        <td id=\"T_f381fb92_e82d_11e9_b8a7_0242ac1c0002row2_col5\" class=\"data row2 col5\" >0.464802</td>\n",
       "            </tr>\n",
       "            <tr>\n",
       "                        <th id=\"T_f381fb92_e82d_11e9_b8a7_0242ac1c0002level0_row3\" class=\"row_heading level0 row3\" >D</th>\n",
       "                        <td id=\"T_f381fb92_e82d_11e9_b8a7_0242ac1c0002row3_col0\" class=\"data row3 col0\" >0.84593</td>\n",
       "                        <td id=\"T_f381fb92_e82d_11e9_b8a7_0242ac1c0002row3_col1\" class=\"data row3 col1\" >-0.503542</td>\n",
       "                        <td id=\"T_f381fb92_e82d_11e9_b8a7_0242ac1c0002row3_col2\" class=\"data row3 col2\" >-0.963336</td>\n",
       "                        <td id=\"T_f381fb92_e82d_11e9_b8a7_0242ac1c0002row3_col3\" class=\"data row3 col3\" >0.0649686</td>\n",
       "                        <td id=\"T_f381fb92_e82d_11e9_b8a7_0242ac1c0002row3_col4\" class=\"data row3 col4\" >-3.20504</td>\n",
       "                        <td id=\"T_f381fb92_e82d_11e9_b8a7_0242ac1c0002row3_col5\" class=\"data row3 col5\" >1.05497</td>\n",
       "            </tr>\n",
       "    </tbody></table>"
      ],
      "text/plain": [
       "<pandas.io.formats.style.Styler at 0x7f3fe65ec208>"
      ]
     },
     "execution_count": 39,
     "metadata": {
      "tags": []
     },
     "output_type": "execute_result"
    }
   ],
   "source": [
    "df.iloc[0, 5] = np.nan\n",
    "df.iloc[2, 2] = np.nan\n",
    "df.style.highlight_null(null_color='darkgray')"
   ]
  },
  {
   "cell_type": "code",
   "execution_count": 40,
   "metadata": {
    "colab": {
     "base_uri": "https://localhost:8080/",
     "height": 158
    },
    "colab_type": "code",
    "executionInfo": {
     "elapsed": 11853,
     "status": "ok",
     "timestamp": 1570361967561,
     "user": {
      "displayName": "Sun Jianqiang",
      "photoUrl": "https://lh3.googleusercontent.com/a-/AAuE7mBlbk3ZLL3MgU6_rhZEcQqnf2tEY7rB0jvD_0qQ8g=s64",
      "userId": "00446318326838345787"
     },
     "user_tz": -540
    },
    "id": "PL9edDO9sTuj",
    "outputId": "530232a1-2892-477e-d7c2-8a59b81a2920"
   },
   "outputs": [
    {
     "name": "stderr",
     "output_type": "stream",
     "text": [
      "/usr/local/lib/python3.6/dist-packages/matplotlib/colors.py:512: RuntimeWarning: invalid value encountered in less\n",
      "  xa[xa < 0] = -1\n"
     ]
    },
    {
     "data": {
      "text/html": [
       "<style  type=\"text/css\" >\n",
       "    #T_f38c0b96_e82d_11e9_b8a7_0242ac1c0002row0_col0 {\n",
       "            background-color:  #f7fbff;\n",
       "            color:  #000000;\n",
       "            : ;\n",
       "        }    #T_f38c0b96_e82d_11e9_b8a7_0242ac1c0002row0_col1 {\n",
       "            background-color:  #08306b;\n",
       "            color:  #f1f1f1;\n",
       "            : ;\n",
       "        }    #T_f38c0b96_e82d_11e9_b8a7_0242ac1c0002row0_col2 {\n",
       "            background-color:  #f7fbff;\n",
       "            color:  #000000;\n",
       "            : ;\n",
       "        }    #T_f38c0b96_e82d_11e9_b8a7_0242ac1c0002row0_col3 {\n",
       "            background-color:  #08306b;\n",
       "            color:  #f1f1f1;\n",
       "            : ;\n",
       "        }    #T_f38c0b96_e82d_11e9_b8a7_0242ac1c0002row0_col4 {\n",
       "            background-color:  #72b2d8;\n",
       "            color:  #000000;\n",
       "            : ;\n",
       "        }    #T_f38c0b96_e82d_11e9_b8a7_0242ac1c0002row0_col5 {\n",
       "            background-color:  #f7fbff;\n",
       "            color:  #000000;\n",
       "            background-color:  darkgray;\n",
       "        }    #T_f38c0b96_e82d_11e9_b8a7_0242ac1c0002row1_col0 {\n",
       "            background-color:  #2272b6;\n",
       "            color:  #f1f1f1;\n",
       "            : ;\n",
       "        }    #T_f38c0b96_e82d_11e9_b8a7_0242ac1c0002row1_col1 {\n",
       "            background-color:  #4a98c9;\n",
       "            color:  #000000;\n",
       "            : ;\n",
       "        }    #T_f38c0b96_e82d_11e9_b8a7_0242ac1c0002row1_col2 {\n",
       "            background-color:  #f7fbff;\n",
       "            color:  #000000;\n",
       "            : ;\n",
       "        }    #T_f38c0b96_e82d_11e9_b8a7_0242ac1c0002row1_col3 {\n",
       "            background-color:  #2070b4;\n",
       "            color:  #f1f1f1;\n",
       "            : ;\n",
       "        }    #T_f38c0b96_e82d_11e9_b8a7_0242ac1c0002row1_col4 {\n",
       "            background-color:  #c3daee;\n",
       "            color:  #000000;\n",
       "            : ;\n",
       "        }    #T_f38c0b96_e82d_11e9_b8a7_0242ac1c0002row1_col5 {\n",
       "            background-color:  #f7fbff;\n",
       "            color:  #000000;\n",
       "            : ;\n",
       "        }    #T_f38c0b96_e82d_11e9_b8a7_0242ac1c0002row2_col0 {\n",
       "            background-color:  #ccdff1;\n",
       "            color:  #000000;\n",
       "            : ;\n",
       "        }    #T_f38c0b96_e82d_11e9_b8a7_0242ac1c0002row2_col1 {\n",
       "            background-color:  #f7fbff;\n",
       "            color:  #000000;\n",
       "            : ;\n",
       "        }    #T_f38c0b96_e82d_11e9_b8a7_0242ac1c0002row2_col2 {\n",
       "            background-color:  #f7fbff;\n",
       "            color:  #000000;\n",
       "            background-color:  darkgray;\n",
       "        }    #T_f38c0b96_e82d_11e9_b8a7_0242ac1c0002row2_col3 {\n",
       "            background-color:  #f7fbff;\n",
       "            color:  #000000;\n",
       "            : ;\n",
       "        }    #T_f38c0b96_e82d_11e9_b8a7_0242ac1c0002row2_col4 {\n",
       "            background-color:  #08306b;\n",
       "            color:  #f1f1f1;\n",
       "            : ;\n",
       "        }    #T_f38c0b96_e82d_11e9_b8a7_0242ac1c0002row2_col5 {\n",
       "            background-color:  #f7fbff;\n",
       "            color:  #000000;\n",
       "            : ;\n",
       "        }    #T_f38c0b96_e82d_11e9_b8a7_0242ac1c0002row3_col0 {\n",
       "            background-color:  #08306b;\n",
       "            color:  #f1f1f1;\n",
       "            : ;\n",
       "        }    #T_f38c0b96_e82d_11e9_b8a7_0242ac1c0002row3_col1 {\n",
       "            background-color:  #f5fafe;\n",
       "            color:  #000000;\n",
       "            : ;\n",
       "        }    #T_f38c0b96_e82d_11e9_b8a7_0242ac1c0002row3_col2 {\n",
       "            background-color:  #f7fbff;\n",
       "            color:  #000000;\n",
       "            : ;\n",
       "        }    #T_f38c0b96_e82d_11e9_b8a7_0242ac1c0002row3_col3 {\n",
       "            background-color:  #d6e6f4;\n",
       "            color:  #000000;\n",
       "            : ;\n",
       "        }    #T_f38c0b96_e82d_11e9_b8a7_0242ac1c0002row3_col4 {\n",
       "            background-color:  #f7fbff;\n",
       "            color:  #000000;\n",
       "            : ;\n",
       "        }    #T_f38c0b96_e82d_11e9_b8a7_0242ac1c0002row3_col5 {\n",
       "            background-color:  #f7fbff;\n",
       "            color:  #000000;\n",
       "            : ;\n",
       "        }</style><table id=\"T_f38c0b96_e82d_11e9_b8a7_0242ac1c0002\" ><thead>    <tr>        <th class=\"blank level0\" ></th>        <th class=\"col_heading level0 col0\" >F1</th>        <th class=\"col_heading level0 col1\" >F2</th>        <th class=\"col_heading level0 col2\" >F3</th>        <th class=\"col_heading level0 col3\" >F4</th>        <th class=\"col_heading level0 col4\" >F5</th>        <th class=\"col_heading level0 col5\" >F6</th>    </tr></thead><tbody>\n",
       "                <tr>\n",
       "                        <th id=\"T_f38c0b96_e82d_11e9_b8a7_0242ac1c0002level0_row0\" class=\"row_heading level0 row0\" >A</th>\n",
       "                        <td id=\"T_f38c0b96_e82d_11e9_b8a7_0242ac1c0002row0_col0\" class=\"data row0 col0\" >-0.217679</td>\n",
       "                        <td id=\"T_f38c0b96_e82d_11e9_b8a7_0242ac1c0002row0_col1\" class=\"data row0 col1\" >0.821455</td>\n",
       "                        <td id=\"T_f38c0b96_e82d_11e9_b8a7_0242ac1c0002row0_col2\" class=\"data row0 col2\" >1.48128</td>\n",
       "                        <td id=\"T_f38c0b96_e82d_11e9_b8a7_0242ac1c0002row0_col3\" class=\"data row0 col3\" >1.33186</td>\n",
       "                        <td id=\"T_f38c0b96_e82d_11e9_b8a7_0242ac1c0002row0_col4\" class=\"data row0 col4\" >-0.361865</td>\n",
       "                        <td id=\"T_f38c0b96_e82d_11e9_b8a7_0242ac1c0002row0_col5\" class=\"data row0 col5\" >nan</td>\n",
       "            </tr>\n",
       "            <tr>\n",
       "                        <th id=\"T_f38c0b96_e82d_11e9_b8a7_0242ac1c0002level0_row1\" class=\"row_heading level0 row1\" >B</th>\n",
       "                        <td id=\"T_f38c0b96_e82d_11e9_b8a7_0242ac1c0002row1_col0\" class=\"data row1 col0\" >0.573761</td>\n",
       "                        <td id=\"T_f38c0b96_e82d_11e9_b8a7_0242ac1c0002row1_col1\" class=\"data row1 col1\" >0.287728</td>\n",
       "                        <td id=\"T_f38c0b96_e82d_11e9_b8a7_0242ac1c0002row1_col2\" class=\"data row1 col2\" >-0.235634</td>\n",
       "                        <td id=\"T_f38c0b96_e82d_11e9_b8a7_0242ac1c0002row1_col3\" class=\"data row1 col3\" >0.95349</td>\n",
       "                        <td id=\"T_f38c0b96_e82d_11e9_b8a7_0242ac1c0002row1_col4\" class=\"data row1 col4\" >-1.68963</td>\n",
       "                        <td id=\"T_f38c0b96_e82d_11e9_b8a7_0242ac1c0002row1_col5\" class=\"data row1 col5\" >-0.344943</td>\n",
       "            </tr>\n",
       "            <tr>\n",
       "                        <th id=\"T_f38c0b96_e82d_11e9_b8a7_0242ac1c0002level0_row2\" class=\"row_heading level0 row2\" >C</th>\n",
       "                        <td id=\"T_f38c0b96_e82d_11e9_b8a7_0242ac1c0002row2_col0\" class=\"data row2 col0\" >0.0169049</td>\n",
       "                        <td id=\"T_f38c0b96_e82d_11e9_b8a7_0242ac1c0002row2_col1\" class=\"data row2 col1\" >-0.514984</td>\n",
       "                        <td id=\"T_f38c0b96_e82d_11e9_b8a7_0242ac1c0002row2_col2\" class=\"data row2 col2\" >nan</td>\n",
       "                        <td id=\"T_f38c0b96_e82d_11e9_b8a7_0242ac1c0002row2_col3\" class=\"data row2 col3\" >-0.189313</td>\n",
       "                        <td id=\"T_f38c0b96_e82d_11e9_b8a7_0242ac1c0002row2_col4\" class=\"data row2 col4\" >2.67217</td>\n",
       "                        <td id=\"T_f38c0b96_e82d_11e9_b8a7_0242ac1c0002row2_col5\" class=\"data row2 col5\" >0.464802</td>\n",
       "            </tr>\n",
       "            <tr>\n",
       "                        <th id=\"T_f38c0b96_e82d_11e9_b8a7_0242ac1c0002level0_row3\" class=\"row_heading level0 row3\" >D</th>\n",
       "                        <td id=\"T_f38c0b96_e82d_11e9_b8a7_0242ac1c0002row3_col0\" class=\"data row3 col0\" >0.84593</td>\n",
       "                        <td id=\"T_f38c0b96_e82d_11e9_b8a7_0242ac1c0002row3_col1\" class=\"data row3 col1\" >-0.503542</td>\n",
       "                        <td id=\"T_f38c0b96_e82d_11e9_b8a7_0242ac1c0002row3_col2\" class=\"data row3 col2\" >-0.963336</td>\n",
       "                        <td id=\"T_f38c0b96_e82d_11e9_b8a7_0242ac1c0002row3_col3\" class=\"data row3 col3\" >0.0649686</td>\n",
       "                        <td id=\"T_f38c0b96_e82d_11e9_b8a7_0242ac1c0002row3_col4\" class=\"data row3 col4\" >-3.20504</td>\n",
       "                        <td id=\"T_f38c0b96_e82d_11e9_b8a7_0242ac1c0002row3_col5\" class=\"data row3 col5\" >1.05497</td>\n",
       "            </tr>\n",
       "    </tbody></table>"
      ],
      "text/plain": [
       "<pandas.io.formats.style.Styler at 0x7f3fe65ac4e0>"
      ]
     },
     "execution_count": 40,
     "metadata": {
      "tags": []
     },
     "output_type": "execute_result"
    }
   ],
   "source": [
    "#import seaborn as sns\n",
    "df.style.background_gradient(cmap='Blues').\\\n",
    "         highlight_null(null_color='darkgray')"
   ]
  },
  {
   "cell_type": "code",
   "execution_count": 41,
   "metadata": {
    "colab": {
     "base_uri": "https://localhost:8080/",
     "height": 124
    },
    "colab_type": "code",
    "executionInfo": {
     "elapsed": 11839,
     "status": "ok",
     "timestamp": 1570361967561,
     "user": {
      "displayName": "Sun Jianqiang",
      "photoUrl": "https://lh3.googleusercontent.com/a-/AAuE7mBlbk3ZLL3MgU6_rhZEcQqnf2tEY7rB0jvD_0qQ8g=s64",
      "userId": "00446318326838345787"
     },
     "user_tz": -540
    },
    "id": "8qTPhVPwt4TN",
    "outputId": "72d00814-0c78-4e77-d13c-7e38d896afd2"
   },
   "outputs": [
    {
     "data": {
      "text/html": [
       "<style  type=\"text/css\" >\n",
       "    #T_f3950c8c_e82d_11e9_b8a7_0242ac1c0002row0_col0 {\n",
       "            width:  10em;\n",
       "             height:  80%;\n",
       "            background:  linear-gradient(90deg,lightseagreen 20.5%, transparent 20.5%);\n",
       "            : ;\n",
       "        }    #T_f3950c8c_e82d_11e9_b8a7_0242ac1c0002row0_col1 {\n",
       "            width:  10em;\n",
       "             height:  80%;\n",
       "            background:  linear-gradient(90deg, transparent 38.5%, sandybrown 38.5%, sandybrown 100.0%, transparent 100.0%);\n",
       "            : ;\n",
       "        }    #T_f3950c8c_e82d_11e9_b8a7_0242ac1c0002row0_col2 {\n",
       "            width:  10em;\n",
       "             height:  80%;\n",
       "            background:  linear-gradient(90deg, transparent 39.4%, sandybrown 39.4%, sandybrown 100.0%, transparent 100.0%);\n",
       "            : ;\n",
       "        }    #T_f3950c8c_e82d_11e9_b8a7_0242ac1c0002row0_col3 {\n",
       "            width:  10em;\n",
       "             height:  80%;\n",
       "            background:  linear-gradient(90deg, transparent 12.4%, sandybrown 12.4%, sandybrown 100.0%, transparent 100.0%);\n",
       "            : ;\n",
       "        }    #T_f3950c8c_e82d_11e9_b8a7_0242ac1c0002row0_col4 {\n",
       "            width:  10em;\n",
       "             height:  80%;\n",
       "            background:  linear-gradient(90deg, transparent 48.4%, lightseagreen 48.4%, lightseagreen 54.5%, transparent 54.5%);\n",
       "            : ;\n",
       "        }    #T_f3950c8c_e82d_11e9_b8a7_0242ac1c0002row0_col5 {\n",
       "            : ;\n",
       "            background-color:  darkgray;\n",
       "        }    #T_f3950c8c_e82d_11e9_b8a7_0242ac1c0002row1_col0 {\n",
       "            width:  10em;\n",
       "             height:  80%;\n",
       "            background:  linear-gradient(90deg, transparent 20.5%, sandybrown 20.5%, sandybrown 74.4%, transparent 74.4%);\n",
       "            : ;\n",
       "        }    #T_f3950c8c_e82d_11e9_b8a7_0242ac1c0002row1_col1 {\n",
       "            width:  10em;\n",
       "             height:  80%;\n",
       "            background:  linear-gradient(90deg, transparent 38.5%, sandybrown 38.5%, sandybrown 60.1%, transparent 60.1%);\n",
       "            : ;\n",
       "        }    #T_f3950c8c_e82d_11e9_b8a7_0242ac1c0002row1_col2 {\n",
       "            width:  10em;\n",
       "             height:  80%;\n",
       "            background:  linear-gradient(90deg, transparent 29.8%, lightseagreen 29.8%, lightseagreen 39.4%, transparent 39.4%);\n",
       "            : ;\n",
       "        }    #T_f3950c8c_e82d_11e9_b8a7_0242ac1c0002row1_col3 {\n",
       "            width:  10em;\n",
       "             height:  80%;\n",
       "            background:  linear-gradient(90deg, transparent 12.4%, sandybrown 12.4%, sandybrown 75.1%, transparent 75.1%);\n",
       "            : ;\n",
       "        }    #T_f3950c8c_e82d_11e9_b8a7_0242ac1c0002row1_col4 {\n",
       "            width:  10em;\n",
       "             height:  80%;\n",
       "            background:  linear-gradient(90deg, transparent 25.8%, lightseagreen 25.8%, lightseagreen 54.5%, transparent 54.5%);\n",
       "            : ;\n",
       "        }    #T_f3950c8c_e82d_11e9_b8a7_0242ac1c0002row1_col5 {\n",
       "            width:  10em;\n",
       "             height:  80%;\n",
       "            background:  linear-gradient(90deg,lightseagreen 24.6%, transparent 24.6%);\n",
       "            : ;\n",
       "        }    #T_f3950c8c_e82d_11e9_b8a7_0242ac1c0002row2_col0 {\n",
       "            width:  10em;\n",
       "             height:  80%;\n",
       "            background:  linear-gradient(90deg, transparent 20.5%, sandybrown 20.5%, sandybrown 22.1%, transparent 22.1%);\n",
       "            : ;\n",
       "        }    #T_f3950c8c_e82d_11e9_b8a7_0242ac1c0002row2_col1 {\n",
       "            width:  10em;\n",
       "             height:  80%;\n",
       "            background:  linear-gradient(90deg,lightseagreen 38.5%, transparent 38.5%);\n",
       "            : ;\n",
       "        }    #T_f3950c8c_e82d_11e9_b8a7_0242ac1c0002row2_col2 {\n",
       "            : ;\n",
       "            background-color:  darkgray;\n",
       "        }    #T_f3950c8c_e82d_11e9_b8a7_0242ac1c0002row2_col3 {\n",
       "            width:  10em;\n",
       "             height:  80%;\n",
       "            background:  linear-gradient(90deg,lightseagreen 12.4%, transparent 12.4%);\n",
       "            : ;\n",
       "        }    #T_f3950c8c_e82d_11e9_b8a7_0242ac1c0002row2_col4 {\n",
       "            width:  10em;\n",
       "             height:  80%;\n",
       "            background:  linear-gradient(90deg, transparent 54.5%, sandybrown 54.5%, sandybrown 100.0%, transparent 100.0%);\n",
       "            : ;\n",
       "        }    #T_f3950c8c_e82d_11e9_b8a7_0242ac1c0002row2_col5 {\n",
       "            width:  10em;\n",
       "             height:  80%;\n",
       "            background:  linear-gradient(90deg, transparent 24.6%, sandybrown 24.6%, sandybrown 57.8%, transparent 57.8%);\n",
       "            : ;\n",
       "        }    #T_f3950c8c_e82d_11e9_b8a7_0242ac1c0002row3_col0 {\n",
       "            width:  10em;\n",
       "             height:  80%;\n",
       "            background:  linear-gradient(90deg, transparent 20.5%, sandybrown 20.5%, sandybrown 100.0%, transparent 100.0%);\n",
       "            : ;\n",
       "        }    #T_f3950c8c_e82d_11e9_b8a7_0242ac1c0002row3_col1 {\n",
       "            width:  10em;\n",
       "             height:  80%;\n",
       "            background:  linear-gradient(90deg, transparent 0.9%, lightseagreen 0.9%, lightseagreen 38.5%, transparent 38.5%);\n",
       "            : ;\n",
       "        }    #T_f3950c8c_e82d_11e9_b8a7_0242ac1c0002row3_col2 {\n",
       "            width:  10em;\n",
       "             height:  80%;\n",
       "            background:  linear-gradient(90deg,lightseagreen 39.4%, transparent 39.4%);\n",
       "            : ;\n",
       "        }    #T_f3950c8c_e82d_11e9_b8a7_0242ac1c0002row3_col3 {\n",
       "            width:  10em;\n",
       "             height:  80%;\n",
       "            background:  linear-gradient(90deg, transparent 12.4%, sandybrown 12.4%, sandybrown 16.7%, transparent 16.7%);\n",
       "            : ;\n",
       "        }    #T_f3950c8c_e82d_11e9_b8a7_0242ac1c0002row3_col4 {\n",
       "            width:  10em;\n",
       "             height:  80%;\n",
       "            background:  linear-gradient(90deg,lightseagreen 54.5%, transparent 54.5%);\n",
       "            : ;\n",
       "        }    #T_f3950c8c_e82d_11e9_b8a7_0242ac1c0002row3_col5 {\n",
       "            width:  10em;\n",
       "             height:  80%;\n",
       "            background:  linear-gradient(90deg, transparent 24.6%, sandybrown 24.6%, sandybrown 100.0%, transparent 100.0%);\n",
       "            : ;\n",
       "        }</style><table id=\"T_f3950c8c_e82d_11e9_b8a7_0242ac1c0002\" ><thead>    <tr>        <th class=\"blank level0\" ></th>        <th class=\"col_heading level0 col0\" >F1</th>        <th class=\"col_heading level0 col1\" >F2</th>        <th class=\"col_heading level0 col2\" >F3</th>        <th class=\"col_heading level0 col3\" >F4</th>        <th class=\"col_heading level0 col4\" >F5</th>        <th class=\"col_heading level0 col5\" >F6</th>    </tr></thead><tbody>\n",
       "                <tr>\n",
       "                        <th id=\"T_f3950c8c_e82d_11e9_b8a7_0242ac1c0002level0_row0\" class=\"row_heading level0 row0\" >A</th>\n",
       "                        <td id=\"T_f3950c8c_e82d_11e9_b8a7_0242ac1c0002row0_col0\" class=\"data row0 col0\" >-0.217679</td>\n",
       "                        <td id=\"T_f3950c8c_e82d_11e9_b8a7_0242ac1c0002row0_col1\" class=\"data row0 col1\" >0.821455</td>\n",
       "                        <td id=\"T_f3950c8c_e82d_11e9_b8a7_0242ac1c0002row0_col2\" class=\"data row0 col2\" >1.48128</td>\n",
       "                        <td id=\"T_f3950c8c_e82d_11e9_b8a7_0242ac1c0002row0_col3\" class=\"data row0 col3\" >1.33186</td>\n",
       "                        <td id=\"T_f3950c8c_e82d_11e9_b8a7_0242ac1c0002row0_col4\" class=\"data row0 col4\" >-0.361865</td>\n",
       "                        <td id=\"T_f3950c8c_e82d_11e9_b8a7_0242ac1c0002row0_col5\" class=\"data row0 col5\" >nan</td>\n",
       "            </tr>\n",
       "            <tr>\n",
       "                        <th id=\"T_f3950c8c_e82d_11e9_b8a7_0242ac1c0002level0_row1\" class=\"row_heading level0 row1\" >B</th>\n",
       "                        <td id=\"T_f3950c8c_e82d_11e9_b8a7_0242ac1c0002row1_col0\" class=\"data row1 col0\" >0.573761</td>\n",
       "                        <td id=\"T_f3950c8c_e82d_11e9_b8a7_0242ac1c0002row1_col1\" class=\"data row1 col1\" >0.287728</td>\n",
       "                        <td id=\"T_f3950c8c_e82d_11e9_b8a7_0242ac1c0002row1_col2\" class=\"data row1 col2\" >-0.235634</td>\n",
       "                        <td id=\"T_f3950c8c_e82d_11e9_b8a7_0242ac1c0002row1_col3\" class=\"data row1 col3\" >0.95349</td>\n",
       "                        <td id=\"T_f3950c8c_e82d_11e9_b8a7_0242ac1c0002row1_col4\" class=\"data row1 col4\" >-1.68963</td>\n",
       "                        <td id=\"T_f3950c8c_e82d_11e9_b8a7_0242ac1c0002row1_col5\" class=\"data row1 col5\" >-0.344943</td>\n",
       "            </tr>\n",
       "            <tr>\n",
       "                        <th id=\"T_f3950c8c_e82d_11e9_b8a7_0242ac1c0002level0_row2\" class=\"row_heading level0 row2\" >C</th>\n",
       "                        <td id=\"T_f3950c8c_e82d_11e9_b8a7_0242ac1c0002row2_col0\" class=\"data row2 col0\" >0.0169049</td>\n",
       "                        <td id=\"T_f3950c8c_e82d_11e9_b8a7_0242ac1c0002row2_col1\" class=\"data row2 col1\" >-0.514984</td>\n",
       "                        <td id=\"T_f3950c8c_e82d_11e9_b8a7_0242ac1c0002row2_col2\" class=\"data row2 col2\" >nan</td>\n",
       "                        <td id=\"T_f3950c8c_e82d_11e9_b8a7_0242ac1c0002row2_col3\" class=\"data row2 col3\" >-0.189313</td>\n",
       "                        <td id=\"T_f3950c8c_e82d_11e9_b8a7_0242ac1c0002row2_col4\" class=\"data row2 col4\" >2.67217</td>\n",
       "                        <td id=\"T_f3950c8c_e82d_11e9_b8a7_0242ac1c0002row2_col5\" class=\"data row2 col5\" >0.464802</td>\n",
       "            </tr>\n",
       "            <tr>\n",
       "                        <th id=\"T_f3950c8c_e82d_11e9_b8a7_0242ac1c0002level0_row3\" class=\"row_heading level0 row3\" >D</th>\n",
       "                        <td id=\"T_f3950c8c_e82d_11e9_b8a7_0242ac1c0002row3_col0\" class=\"data row3 col0\" >0.84593</td>\n",
       "                        <td id=\"T_f3950c8c_e82d_11e9_b8a7_0242ac1c0002row3_col1\" class=\"data row3 col1\" >-0.503542</td>\n",
       "                        <td id=\"T_f3950c8c_e82d_11e9_b8a7_0242ac1c0002row3_col2\" class=\"data row3 col2\" >-0.963336</td>\n",
       "                        <td id=\"T_f3950c8c_e82d_11e9_b8a7_0242ac1c0002row3_col3\" class=\"data row3 col3\" >0.0649686</td>\n",
       "                        <td id=\"T_f3950c8c_e82d_11e9_b8a7_0242ac1c0002row3_col4\" class=\"data row3 col4\" >-3.20504</td>\n",
       "                        <td id=\"T_f3950c8c_e82d_11e9_b8a7_0242ac1c0002row3_col5\" class=\"data row3 col5\" >1.05497</td>\n",
       "            </tr>\n",
       "    </tbody></table>"
      ],
      "text/plain": [
       "<pandas.io.formats.style.Styler at 0x7f3fe686e240>"
      ]
     },
     "execution_count": 41,
     "metadata": {
      "tags": []
     },
     "output_type": "execute_result"
    }
   ],
   "source": [
    "df.style.bar(color=['lightseagreen', 'sandybrown'], align='mid').highlight_null(null_color='darkgray')"
   ]
  },
  {
   "cell_type": "markdown",
   "metadata": {
    "colab_type": "text",
    "id": "uzYjNty4u3xf"
   },
   "source": [
    "フレームワークを調整した後に、`to_excel` メソッドを使用して Excel の形式で保存することもできる。"
   ]
  },
  {
   "cell_type": "code",
   "execution_count": 42,
   "metadata": {
    "colab": {
     "base_uri": "https://localhost:8080/",
     "height": 51
    },
    "colab_type": "code",
    "executionInfo": {
     "elapsed": 11832,
     "status": "ok",
     "timestamp": 1570361967562,
     "user": {
      "displayName": "Sun Jianqiang",
      "photoUrl": "https://lh3.googleusercontent.com/a-/AAuE7mBlbk3ZLL3MgU6_rhZEcQqnf2tEY7rB0jvD_0qQ8g=s64",
      "userId": "00446318326838345787"
     },
     "user_tz": -540
    },
    "id": "JgkBR8rWuO-w",
    "outputId": "2d6bc64b-832e-44a9-bad9-1671e3d1c095"
   },
   "outputs": [
    {
     "name": "stderr",
     "output_type": "stream",
     "text": [
      "/usr/local/lib/python3.6/dist-packages/matplotlib/colors.py:512: RuntimeWarning: invalid value encountered in less\n",
      "  xa[xa < 0] = -1\n"
     ]
    }
   ],
   "source": [
    "import openpyxl\n",
    "\n",
    "df.style.background_gradient(cmap='Blues').\\\n",
    "         highlight_null(null_color='#cccccc').\\\n",
    "         to_excel('output.xlsx')"
   ]
  },
  {
   "cell_type": "markdown",
   "metadata": {
    "colab_type": "text",
    "id": "aspnjpEnvJTH"
   },
   "source": [
    "# References\n",
    "\n",
    "\n",
    "\n",
    "*   [pandas: powerful Python data analysis toolkit](https://pandas.pydata.org/pandas-docs/stable/index.html)\n",
    "*   [Pythonによるデータ分析入門 第2版 ―NumPy、pandasを使ったデータ処理](https://github.com/Jffrank/Books)\n",
    "\n"
   ]
  },
  {
   "cell_type": "markdown",
   "metadata": {
    "colab_type": "text",
    "id": "Wf5-NdqRr0UI"
   },
   "source": [
    "# 視覚化"
   ]
  },
  {
   "cell_type": "markdown",
   "metadata": {
    "colab_type": "text",
    "id": "mycM4Wt3r3NB"
   },
   "source": [
    "## ヒートマップ"
   ]
  },
  {
   "cell_type": "code",
   "execution_count": 43,
   "metadata": {
    "colab": {
     "base_uri": "https://localhost:8080/",
     "height": 610
    },
    "colab_type": "code",
    "executionInfo": {
     "elapsed": 12566,
     "status": "ok",
     "timestamp": 1570361968304,
     "user": {
      "displayName": "Sun Jianqiang",
      "photoUrl": "https://lh3.googleusercontent.com/a-/AAuE7mBlbk3ZLL3MgU6_rhZEcQqnf2tEY7rB0jvD_0qQ8g=s64",
      "userId": "00446318326838345787"
     },
     "user_tz": -540
    },
    "id": "PFYDhkyzpWci",
    "outputId": "a4938a98-fb38-420c-a2fc-44efd70b8cb2"
   },
   "outputs": [
    {
     "data": {
      "image/png": "[encoded data removed]",
      "text/plain": [
       "<Figure size 720x720 with 2 Axes>"
      ]
     },
     "metadata": {
      "tags": []
     },
     "output_type": "display_data"
    }
   ],
   "source": [
    "import numpy as np\n",
    "import pandas as pd \n",
    "import matplotlib.pyplot as plt\n",
    "import seaborn as sns\n",
    "\n",
    "sns.set()\n",
    "\n",
    "np.random.seed(2018)\n",
    "\n",
    "data = np.random.binomial(100, 0.05, 60).reshape((10, 6))\n",
    "data = np.log2(data + 1)\n",
    "\n",
    "xlabels = ['g' + str(i + 1) for i in range(10)]\n",
    "ylabels = ['A', 'B', 'C', 'D', 'E', 'F']\n",
    "\n",
    "df = pd.DataFrame(data, index=xlabels, columns=ylabels)\n",
    "\n",
    "sns.heatmap(df, square=True)\n",
    "\n",
    "plt.title('gene expression')\n",
    "plt.show()"
   ]
  },
  {
   "cell_type": "code",
   "execution_count": 44,
   "metadata": {
    "colab": {
     "base_uri": "https://localhost:8080/",
     "height": 610
    },
    "colab_type": "code",
    "executionInfo": {
     "elapsed": 13079,
     "status": "ok",
     "timestamp": 1570361968823,
     "user": {
      "displayName": "Sun Jianqiang",
      "photoUrl": "https://lh3.googleusercontent.com/a-/AAuE7mBlbk3ZLL3MgU6_rhZEcQqnf2tEY7rB0jvD_0qQ8g=s64",
      "userId": "00446318326838345787"
     },
     "user_tz": -540
    },
    "id": "XK0n8c3zp0re",
    "outputId": "e2fbb46a-ba5a-4538-b781-a689f23c47d6"
   },
   "outputs": [
    {
     "data": {
      "image/png": "[encoded data removed]",
      "text/plain": [
       "<Figure size 720x720 with 2 Axes>"
      ]
     },
     "metadata": {
      "tags": []
     },
     "output_type": "display_data"
    }
   ],
   "source": [
    "import numpy as np \n",
    "import pandas as pd \n",
    "import matplotlib.pyplot as plt \n",
    "import seaborn as sns \n",
    "\n",
    "sns.set() \n",
    "np.random.seed(2018) \n",
    "\n",
    "data = np.random.binomial(100, 0.05, 60).reshape((10, 6))\n",
    "data = np.log2(data + 1)\n",
    "\n",
    "xlabels = ['g' + str(i + 1) for i in range(10)]\n",
    "ylabels = ['A', 'B', 'C', 'D', 'E', 'F']\n",
    "\n",
    "df = pd.DataFrame(data, index=xlabels, columns=ylabels) \n",
    "\n",
    "sns.heatmap(df, annot=True, square=True, cmap='YlOrBr', vmin=0, vmax=3)\n",
    "\n",
    "plt. title('gene expression') \n",
    "plt.show()"
   ]
  },
  {
   "cell_type": "code",
   "execution_count": 45,
   "metadata": {
    "colab": {
     "base_uri": "https://localhost:8080/",
     "height": 600
    },
    "colab_type": "code",
    "executionInfo": {
     "elapsed": 13719,
     "status": "ok",
     "timestamp": 1570361969473,
     "user": {
      "displayName": "Sun Jianqiang",
      "photoUrl": "https://lh3.googleusercontent.com/a-/AAuE7mBlbk3ZLL3MgU6_rhZEcQqnf2tEY7rB0jvD_0qQ8g=s64",
      "userId": "00446318326838345787"
     },
     "user_tz": -540
    },
    "id": "qLjULiT5zAfj",
    "outputId": "738dce69-1392-415c-9b53-9aaa7e57c510"
   },
   "outputs": [
    {
     "data": {
      "image/png": "[encoded data removed]",
      "text/plain": [
       "<Figure size 720x720 with 4 Axes>"
      ]
     },
     "metadata": {
      "tags": []
     },
     "output_type": "display_data"
    }
   ],
   "source": [
    "import numpy as np \n",
    "import pandas as pd\n",
    "import matplotlib.pyplot as plt\n",
    "import seaborn as sns\n",
    "\n",
    "sns.set() \n",
    "np.random.seed(2018) \n",
    "\n",
    "data = np.random.binomial(100, 0.02, 80).reshape((10, 8)) \n",
    "data = np.log2(data + 1) \n",
    "\n",
    "xlabels = ['g' + str(i + 1) for i in range(10)] \n",
    "ylabels = ['s' + str(i + 1) for i in range(8)] \n",
    "\n",
    "df = pd.DataFrame(data, index=xlabels, columns=ylabels) \n",
    "\n",
    "sns_plot = sns.clustermap(df, method='ward', metric='euclidean', linewidths=0.5)\n",
    "\n",
    "#plt.setp(sns_plot.ax_heatmap.get_yticklabels(), rotation=0) \n",
    "#plt.setp(sns_plot.ax_heatmap.get_xticklabels(), rotation=30) \n",
    "\n",
    "plt.show()"
   ]
  },
  {
   "cell_type": "code",
   "execution_count": 46,
   "metadata": {
    "colab": {
     "base_uri": "https://localhost:8080/",
     "height": 600
    },
    "colab_type": "code",
    "executionInfo": {
     "elapsed": 14173,
     "status": "ok",
     "timestamp": 1570361969935,
     "user": {
      "displayName": "Sun Jianqiang",
      "photoUrl": "https://lh3.googleusercontent.com/a-/AAuE7mBlbk3ZLL3MgU6_rhZEcQqnf2tEY7rB0jvD_0qQ8g=s64",
      "userId": "00446318326838345787"
     },
     "user_tz": -540
    },
    "id": "vnxU8gI2rQod",
    "outputId": "8ca45c15-bd11-423a-8fa9-a0bc8e6d187f"
   },
   "outputs": [
    {
     "data": {
      "image/png": "[encoded data removed]",
      "text/plain": [
       "<Figure size 720x720 with 4 Axes>"
      ]
     },
     "metadata": {
      "tags": []
     },
     "output_type": "display_data"
    }
   ],
   "source": [
    "import numpy as np \n",
    "import pandas as pd\n",
    "import matplotlib.pyplot as plt\n",
    "import seaborn as sns\n",
    "\n",
    "sns.set() \n",
    "np.random.seed(2018) \n",
    "\n",
    "data = np.random.binomial(100, 0.02, 80).reshape((10, 8)) \n",
    "data = np.log2(data + 1) \n",
    "\n",
    "xlabels = ['g' + str(i + 1) for i in range(10)] \n",
    "ylabels = ['s' + str(i + 1) for i in range(8)] \n",
    "\n",
    "df = pd.DataFrame(data, index=xlabels, columns=ylabels) \n",
    "\n",
    "sns_plot = sns.clustermap(df, method='ward', metric='euclidean', col_cluster = False, cmap='PuBu', linewidths=0.5)\n",
    "\n",
    "plt.setp(sns_plot.ax_heatmap.get_yticklabels(), rotation=0) \n",
    "plt.setp(sns_plot.ax_heatmap.get_xticklabels(), rotation=0) \n",
    "\n",
    "plt.show()"
   ]
  },
  {
   "cell_type": "code",
   "execution_count": 47,
   "metadata": {
    "colab": {
     "base_uri": "https://localhost:8080/",
     "height": 600
    },
    "colab_type": "code",
    "executionInfo": {
     "elapsed": 15055,
     "status": "ok",
     "timestamp": 1570361970824,
     "user": {
      "displayName": "Sun Jianqiang",
      "photoUrl": "https://lh3.googleusercontent.com/a-/AAuE7mBlbk3ZLL3MgU6_rhZEcQqnf2tEY7rB0jvD_0qQ8g=s64",
      "userId": "00446318326838345787"
     },
     "user_tz": -540
    },
    "id": "bOd9W9IyrWw_",
    "outputId": "82219245-263b-4606-9c7c-48d027f824d5"
   },
   "outputs": [
    {
     "data": {
      "image/png": "[encoded data removed]",
      "text/plain": [
       "<Figure size 720x720 with 5 Axes>"
      ]
     },
     "metadata": {
      "tags": []
     },
     "output_type": "display_data"
    }
   ],
   "source": [
    "import numpy as np \n",
    "import pandas as pd \n",
    "import seaborn as sns \n",
    "import matplotlib.pyplot as plt \n",
    "\n",
    "np.random.seed(2018) \n",
    "sns.set()\n",
    "\n",
    "data = np.random.binomial(100, 0.02, 80).reshape((10, 8)) \n",
    "data = np.log2(data + 1) \n",
    "\n",
    "xlabels = ['g' + str(i + 1) for i in range(10)] \n",
    "ylabels = ['s' + str(i + 1) for i in range(8)] \n",
    "\n",
    "df = pd.DataFrame(data, index=xlabels, columns=ylabels) \n",
    "\n",
    "gene_loc = ['olive', 'olive', 'olive', 'orange', 'gray', 'orange', 'skyblue', 'gray', 'gray', 'skyblue']\n",
    "\n",
    "sns_plot = sns.clustermap(df, method='ward', metric='euclidean', col_cluster = False, cmap='GnBu', linewidths=0.5, row_colors = gene_loc) \n",
    "\n",
    "plt.setp(sns_plot.ax_heatmap.get_yticklabels(), rotation=0) \n",
    "plt.setp(sns_plot.ax_heatmap.get_xticklabels(), rotation=0) \n",
    "\n",
    "plt.show()"
   ]
  }
 ],
 "metadata": {
  "colab": {
   "collapsed_sections": [],
   "name": "Pandas 視覚化",
   "provenance": []
  },
  "kernelspec": {
   "display_name": "Python 3",
   "language": "python",
   "name": "python3"
  },
  "language_info": {
   "codemirror_mode": {
    "name": "ipython",
    "version": 3
   },
   "file_extension": ".py",
   "mimetype": "text/x-python",
   "name": "python",
   "nbconvert_exporter": "python",
   "pygments_lexer": "ipython3",
   "version": "3.7.3"
  }
 },
 "nbformat": 4,
 "nbformat_minor": 1
}
