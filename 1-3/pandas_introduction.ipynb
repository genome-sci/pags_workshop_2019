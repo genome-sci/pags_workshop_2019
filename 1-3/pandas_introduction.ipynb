{
 "cells": [
  {
   "cell_type": "markdown",
   "metadata": {
    "deletable": true,
    "editable": true
   },
   "source": [
    "# pandasの基本操作\n",
    "  \n",
    "pandas はデータ解析用のライブラリで、おもに二次元の表形式データ (DataFrame) を主な対象としています。[[公式サイト](http://pandas.pydata.org)]  \n",
    "pandasは、行列・多次元配列を扱う数値計算ライブラリnumpyを内部的に利用して高速な計算が可能です。また、pandasは時系列データや文字データなどを含んだ様々な表形式ファイルの扱いに長けています。  \n",
    "本講義では、pandas公式サイトの\"[10 Minutes to pandas](https://pandas.pydata.org/pandas-docs/stable/10min.html)\"の内容をベースに、基本的なpandasの操作方法を学びます。  "
   ]
  },
  {
   "cell_type": "code",
   "execution_count": 1,
   "metadata": {
    "collapsed": true,
    "deletable": true,
    "editable": true
   },
   "outputs": [],
   "source": [
    "import pandas as pd\n",
    "import numpy as np"
   ]
  },
  {
   "cell_type": "code",
   "execution_count": 2,
   "metadata": {
    "collapsed": false,
    "deletable": true,
    "editable": true
   },
   "outputs": [
    {
     "data": {
      "text/plain": [
       "'0.20.3'"
      ]
     },
     "execution_count": 2,
     "metadata": {},
     "output_type": "execute_result"
    }
   ],
   "source": [
    "pd.__version__"
   ]
  },
  {
   "cell_type": "code",
   "execution_count": 13,
   "metadata": {
    "collapsed": false,
    "deletable": true,
    "editable": true
   },
   "outputs": [
    {
     "data": {
      "text/plain": [
       "'/Users/tanizawa/study/training_session/python_bioinfo_2018/2-1_and_2-2'"
      ]
     },
     "execution_count": 13,
     "metadata": {},
     "output_type": "execute_result"
    }
   ],
   "source": [
    "%pwd"
   ]
  },
  {
   "cell_type": "markdown",
   "metadata": {
    "deletable": true,
    "editable": true
   },
   "source": [
    "# Series"
   ]
  },
  {
   "cell_type": "markdown",
   "metadata": {
    "deletable": true,
    "editable": true
   },
   "source": [
    "一次元のデータを扱うためのデータオブジェクトで、リストと似ています。"
   ]
  },
  {
   "cell_type": "markdown",
   "metadata": {
    "deletable": true,
    "editable": true
   },
   "source": [
    "## Seriesの作成\n"
   ]
  },
  {
   "cell_type": "markdown",
   "metadata": {
    "deletable": true,
    "editable": true
   },
   "source": [
    "```\n",
    "pd.Series(data=None, index=None, dtype=None, name=None, copy=False, fastpath=False)\n",
    "```"
   ]
  },
  {
   "cell_type": "code",
   "execution_count": 14,
   "metadata": {
    "collapsed": false,
    "deletable": true,
    "editable": true
   },
   "outputs": [],
   "source": [
    "pd.Series?"
   ]
  },
  {
   "cell_type": "code",
   "execution_count": 15,
   "metadata": {
    "collapsed": false,
    "deletable": true,
    "editable": true
   },
   "outputs": [],
   "source": [
    "# リストからSeriesを作成します。\n",
    "s1 = pd.Series([1, 3, 5, 6, 8])"
   ]
  },
  {
   "cell_type": "code",
   "execution_count": 16,
   "metadata": {
    "collapsed": false,
    "deletable": true,
    "editable": true
   },
   "outputs": [
    {
     "data": {
      "text/plain": [
       "0    1\n",
       "1    3\n",
       "2    5\n",
       "3    6\n",
       "4    8\n",
       "dtype: int64"
      ]
     },
     "execution_count": 16,
     "metadata": {},
     "output_type": "execute_result"
    }
   ],
   "source": [
    "# 上記の場合、データ形式はint64となります。\n",
    "s1"
   ]
  },
  {
   "cell_type": "code",
   "execution_count": 17,
   "metadata": {
    "collapsed": false,
    "deletable": true,
    "editable": true
   },
   "outputs": [
    {
     "data": {
      "text/plain": [
       "0    1.0\n",
       "1    3.0\n",
       "2    5.0\n",
       "3    6.0\n",
       "4    8.0\n",
       "dtype: float64"
      ]
     },
     "execution_count": 17,
     "metadata": {},
     "output_type": "execute_result"
    }
   ],
   "source": [
    "s2 = pd.Series([1, 3, 5, 6, 8.0])\n",
    "s2  # dtypeはfloat64"
   ]
  },
  {
   "cell_type": "code",
   "execution_count": 18,
   "metadata": {
    "collapsed": false,
    "deletable": true,
    "editable": true
   },
   "outputs": [
    {
     "data": {
      "text/plain": [
       "0        1\n",
       "1        3\n",
       "2        5\n",
       "3        6\n",
       "4        8\n",
       "5    hello\n",
       "dtype: object"
      ]
     },
     "execution_count": 18,
     "metadata": {},
     "output_type": "execute_result"
    }
   ],
   "source": [
    "s3 = pd.Series([1,3,5,6,8.0, \"hello\"])\n",
    "s3  # dtypeはoject"
   ]
  },
  {
   "cell_type": "code",
   "execution_count": null,
   "metadata": {
    "collapsed": false,
    "deletable": true,
    "editable": true
   },
   "outputs": [],
   "source": []
  },
  {
   "cell_type": "code",
   "execution_count": 19,
   "metadata": {
    "collapsed": false,
    "deletable": true,
    "editable": true
   },
   "outputs": [
    {
     "data": {
      "text/plain": [
       "DatetimeIndex(['2018-11-20', '2018-11-21', '2018-11-22', '2018-11-23',\n",
       "               '2018-11-24', '2018-11-25', '2018-11-26'],\n",
       "              dtype='datetime64[ns]', freq='D')"
      ]
     },
     "execution_count": 19,
     "metadata": {},
     "output_type": "execute_result"
    }
   ],
   "source": [
    "dates = pd.date_range('20181120', periods=7)\n",
    "dates  # 時系列データを扱うこともできます。(本講義では時系列データは扱いません。)"
   ]
  },
  {
   "cell_type": "markdown",
   "metadata": {
    "deletable": true,
    "editable": true
   },
   "source": [
    "## Seriesの計算\n",
    "Seriesは一次元データを扱うためのデータオブジェクトです。  \n",
    "実際の解析では自分でSeriesを新規に作成する機会はあまりありませんが、表形式データの行や列を抽出した場合にSeriesデータとして結果が返されることが多いです。"
   ]
  },
  {
   "cell_type": "code",
   "execution_count": 20,
   "metadata": {
    "collapsed": false,
    "deletable": true,
    "editable": true
   },
   "outputs": [],
   "source": [
    "# Seriesの作成\n",
    "s1 = pd.Series([1,3,5,6,8])\n",
    "s2 = pd.Series([10,30,50,60,80,100])"
   ]
  },
  {
   "cell_type": "code",
   "execution_count": 21,
   "metadata": {
    "collapsed": false,
    "deletable": true,
    "editable": true
   },
   "outputs": [
    {
     "name": "stdout",
     "output_type": "stream",
     "text": [
      "0    11\n",
      "1    13\n",
      "2    15\n",
      "3    16\n",
      "4    18\n",
      "dtype: int64\n",
      "0     1.0\n",
      "1     3.0\n",
      "2     5.0\n",
      "3     6.0\n",
      "4     8.0\n",
      "5    10.0\n",
      "dtype: float64\n"
     ]
    }
   ],
   "source": [
    "# 四則計算は各要素全てが計算対象となります。\n",
    "print(s1 + 10)\n",
    "print(s2 / 10) \n",
    "# 注) python3では / の結果はfloatで返ります。 \n",
    "# // を使うとintで返ります。i.e. 10/2=5.0  10//2=5  9//2=4"
   ]
  },
  {
   "cell_type": "code",
   "execution_count": 22,
   "metadata": {
    "collapsed": false,
    "deletable": true,
    "editable": true
   },
   "outputs": [
    {
     "data": {
      "text/plain": [
       "0     10.0\n",
       "1     90.0\n",
       "2    250.0\n",
       "3    360.0\n",
       "4    640.0\n",
       "5      NaN\n",
       "dtype: float64"
      ]
     },
     "execution_count": 22,
     "metadata": {},
     "output_type": "execute_result"
    }
   ],
   "source": [
    "# Series同士の掛け算 (同じ位置にある要素同士が計算されます)\n",
    "s1 * s2"
   ]
  },
  {
   "cell_type": "markdown",
   "metadata": {
    "deletable": true,
    "editable": true
   },
   "source": [
    "## データの切り出し"
   ]
  },
  {
   "cell_type": "code",
   "execution_count": 28,
   "metadata": {
    "collapsed": true,
    "deletable": true,
    "editable": true
   },
   "outputs": [],
   "source": [
    "pd.Series?"
   ]
  },
  {
   "cell_type": "code",
   "execution_count": 29,
   "metadata": {
    "collapsed": true,
    "deletable": true,
    "editable": true
   },
   "outputs": [],
   "source": [
    "s1 = pd.Series(list(\"ABCDEFGHIJKLMN\"))\n",
    "s2 = pd.Series([10, 30, 50, 60, 80, 100, 'A'])"
   ]
  },
  {
   "cell_type": "code",
   "execution_count": 30,
   "metadata": {
    "collapsed": false,
    "deletable": true,
    "editable": true
   },
   "outputs": [
    {
     "name": "stdout",
     "output_type": "stream",
     "text": [
      "D\n"
     ]
    }
   ],
   "source": [
    "# 位置を指定して単独の要素を取得\n",
    "print(s1[3])"
   ]
  },
  {
   "cell_type": "code",
   "execution_count": 31,
   "metadata": {
    "collapsed": false,
    "deletable": true,
    "editable": true
   },
   "outputs": [
    {
     "name": "stdout",
     "output_type": "stream",
     "text": [
      "2    50\n",
      "3    60\n",
      "4    80\n",
      "dtype: object\n",
      "0     10\n",
      "1     30\n",
      "2     50\n",
      "3     60\n",
      "4     80\n",
      "5    100\n",
      "dtype: object\n"
     ]
    }
   ],
   "source": [
    "# リストと同じようにスライスを使ってデータを切り出すことができます\n",
    "print(s2[2:5])  # 結果はSeriesとして返される\n",
    "print(s2[:-1])"
   ]
  },
  {
   "cell_type": "code",
   "execution_count": 32,
   "metadata": {
    "collapsed": false,
    "deletable": true,
    "editable": true
   },
   "outputs": [
    {
     "data": {
      "text/plain": [
       "pandas.core.series.Series"
      ]
     },
     "execution_count": 32,
     "metadata": {},
     "output_type": "execute_result"
    }
   ],
   "source": [
    "type(s1[3:8])  # 結果はSeriesで返る"
   ]
  },
  {
   "cell_type": "code",
   "execution_count": 33,
   "metadata": {
    "collapsed": false,
    "deletable": true,
    "editable": true
   },
   "outputs": [
    {
     "data": {
      "text/plain": [
       "0    A\n",
       "2    C\n",
       "4    E\n",
       "6    G\n",
       "8    I\n",
       "dtype: object"
      ]
     },
     "execution_count": 33,
     "metadata": {},
     "output_type": "execute_result"
    }
   ],
   "source": [
    "# 複数の位置を指定\n",
    "targets = [0, 2, 4, 6, 8]\n",
    "s1[targets]"
   ]
  },
  {
   "cell_type": "code",
   "execution_count": 34,
   "metadata": {
    "collapsed": false,
    "deletable": true,
    "editable": true
   },
   "outputs": [
    {
     "data": {
      "text/plain": [
       "0    A\n",
       "2    C\n",
       "4    E\n",
       "6    G\n",
       "8    I\n",
       "dtype: object"
      ]
     },
     "execution_count": 34,
     "metadata": {},
     "output_type": "execute_result"
    }
   ],
   "source": [
    "# 上記を一行で書くと、次のように[]が二重になります。(s1[0, 2, 4, 6, 8]はエラーになる)\n",
    "# 二重の[]はpandasでは頻繁に登場します。\n",
    "s1[[0, 2, 4, 6, 8]]"
   ]
  },
  {
   "cell_type": "code",
   "execution_count": 36,
   "metadata": {
    "collapsed": false,
    "deletable": true,
    "editable": true
   },
   "outputs": [
    {
     "name": "stdout",
     "output_type": "stream",
     "text": [
      "s1[0]:\n",
      "A\n",
      "<class 'str'>\n",
      "------------------\n",
      "s1[[0]]:\n",
      "0    A\n",
      "dtype: object\n",
      "<class 'pandas.core.series.Series'>\n"
     ]
    }
   ],
   "source": [
    "# 以下の２つの違いに注意してください\n",
    "print(\"s1[0]:\")  # 単独の数値で指定\n",
    "print(s1[0])\n",
    "print(type(s1[0]))\n",
    "print(\"------------------\")\n",
    "print(\"s1[[0]]:\")  # リストで指定\n",
    "print(s1[[0]])\n",
    "print(type(s1[[0]]))\n",
    "\n",
    "      "
   ]
  },
  {
   "cell_type": "code",
   "execution_count": 37,
   "metadata": {
    "collapsed": false,
    "deletable": true,
    "editable": true
   },
   "outputs": [
    {
     "data": {
      "text/plain": [
       "[10, 30, 50, 60, 80, 100, 'A']"
      ]
     },
     "execution_count": 37,
     "metadata": {},
     "output_type": "execute_result"
    }
   ],
   "source": [
    "# list関数を使えばリストにすることができます。\n",
    "list(s2)"
   ]
  },
  {
   "cell_type": "markdown",
   "metadata": {
    "deletable": true,
    "editable": true
   },
   "source": [
    "## indexを使ったデータの切り出し"
   ]
  },
  {
   "cell_type": "code",
   "execution_count": 38,
   "metadata": {
    "collapsed": true,
    "deletable": true,
    "editable": true
   },
   "outputs": [],
   "source": [
    "pd.Series?"
   ]
  },
  {
   "cell_type": "markdown",
   "metadata": {
    "deletable": true,
    "editable": true
   },
   "source": [
    "```\n",
    "pd.Series(data=None, index=None, dtype=None, name=None, copy=False, fastpath=False)\n",
    "```\n"
   ]
  },
  {
   "cell_type": "code",
   "execution_count": 39,
   "metadata": {
    "collapsed": false,
    "deletable": true,
    "editable": true
   },
   "outputs": [],
   "source": [
    "# indexを指定してSeriesを作る\n",
    "s3 = pd.Series([100, 200, 300, 400 , 500], index=[\"A\", \"B\", \"C\", \"D\", \"E\"])"
   ]
  },
  {
   "cell_type": "code",
   "execution_count": 40,
   "metadata": {
    "collapsed": false,
    "deletable": true,
    "editable": true
   },
   "outputs": [
    {
     "data": {
      "text/plain": [
       "A    100\n",
       "B    200\n",
       "C    300\n",
       "D    400\n",
       "E    500\n",
       "dtype: int64"
      ]
     },
     "execution_count": 40,
     "metadata": {},
     "output_type": "execute_result"
    }
   ],
   "source": [
    "s3"
   ]
  },
  {
   "cell_type": "code",
   "execution_count": 41,
   "metadata": {
    "collapsed": false,
    "deletable": true,
    "editable": true
   },
   "outputs": [
    {
     "data": {
      "text/plain": [
       "100"
      ]
     },
     "execution_count": 41,
     "metadata": {},
     "output_type": "execute_result"
    }
   ],
   "source": [
    "# indexを指定してデータを取り出す\n",
    "s3[\"A\"]"
   ]
  },
  {
   "cell_type": "code",
   "execution_count": 42,
   "metadata": {
    "collapsed": false,
    "deletable": true,
    "editable": true
   },
   "outputs": [
    {
     "data": {
      "text/plain": [
       "B    200\n",
       "D    400\n",
       "dtype: int64"
      ]
     },
     "execution_count": 42,
     "metadata": {},
     "output_type": "execute_result"
    }
   ],
   "source": [
    "# 複数指定の場合\n",
    "targets = [\"B\", \"D\"]\n",
    "s3[targets]  # 一行で書くと s3[[\"B\", \"D\"]]"
   ]
  },
  {
   "cell_type": "code",
   "execution_count": 43,
   "metadata": {
    "collapsed": false,
    "deletable": true,
    "editable": true
   },
   "outputs": [
    {
     "name": "stdout",
     "output_type": "stream",
     "text": [
      "200\n",
      "A    100\n",
      "C    300\n",
      "E    500\n",
      "dtype: int64\n"
     ]
    }
   ],
   "source": [
    "# indexではなくて位置で指定することも可能\n",
    "print(s3[1])\n",
    "print(s3[[0,2,4]])"
   ]
  },
  {
   "cell_type": "code",
   "execution_count": 44,
   "metadata": {
    "collapsed": false,
    "deletable": true,
    "editable": true
   },
   "outputs": [
    {
     "data": {
      "text/plain": [
       "George     Harrison\n",
       "John         Lennon\n",
       "Paul      McCartney\n",
       "Ringo         Starr\n",
       "dtype: object"
      ]
     },
     "execution_count": 44,
     "metadata": {},
     "output_type": "execute_result"
    }
   ],
   "source": [
    "# 辞書を使ってindexを指定したSeriesを作成\n",
    "D = {\"John\": \"Lennon\", \"Paul\": \"McCartney\", \"George\": \"Harrison\", \"Ringo\": \"Starr\"}\n",
    "s4 = pd.Series(D)\n",
    "s4"
   ]
  },
  {
   "cell_type": "code",
   "execution_count": 45,
   "metadata": {
    "collapsed": false,
    "deletable": true,
    "editable": true
   },
   "outputs": [
    {
     "data": {
      "text/plain": [
       "John       Lennon\n",
       "Paul    McCartney\n",
       "dtype: object"
      ]
     },
     "execution_count": 45,
     "metadata": {},
     "output_type": "execute_result"
    }
   ],
   "source": [
    "s4[[\"John\", \"Paul\"]]"
   ]
  },
  {
   "cell_type": "code",
   "execution_count": 46,
   "metadata": {
    "collapsed": false,
    "deletable": true,
    "editable": true
   },
   "outputs": [
    {
     "name": "stdout",
     "output_type": "stream",
     "text": [
      "John         Lennon\n",
      "Paul      McCartney\n",
      "George     Harrison\n",
      "Ringo         Starr\n",
      "Paul          Simon\n",
      "Art       Garfunkel\n",
      "dtype: object\n"
     ]
    }
   ],
   "source": [
    "# インデックスに用いる値はユニークでなくても可\n",
    "data= [\"Lennon\", \"McCartney\", \"Harrison\", \"Starr\", \"Simon\", \"Garfunkel\"]\n",
    "index = [\"John\", \"Paul\", \"George\", \"Ringo\", \"Paul\", \"Art\"]\n",
    "s5 = pd.Series(data=data, index=index)\n",
    "print(s5)"
   ]
  },
  {
   "cell_type": "code",
   "execution_count": 47,
   "metadata": {
    "collapsed": false,
    "deletable": true,
    "editable": true
   },
   "outputs": [
    {
     "data": {
      "text/plain": [
       "Paul    McCartney\n",
       "Paul        Simon\n",
       "dtype: object"
      ]
     },
     "execution_count": 47,
     "metadata": {},
     "output_type": "execute_result"
    }
   ],
   "source": [
    "s5[\"Paul\"]  # ２つの要素が返る (データ形式はSeries)"
   ]
  },
  {
   "cell_type": "code",
   "execution_count": 48,
   "metadata": {
    "collapsed": false,
    "deletable": true,
    "editable": true
   },
   "outputs": [
    {
     "data": {
      "text/plain": [
       "'Lennon'"
      ]
     },
     "execution_count": 48,
     "metadata": {},
     "output_type": "execute_result"
    }
   ],
   "source": [
    "s5[\"John\"]  # 単独の要素が返る (データ形式はstr)"
   ]
  },
  {
   "cell_type": "markdown",
   "metadata": {
    "deletable": true,
    "editable": true
   },
   "source": [
    "上記のように異なったデータ形式で結果が返ってくることがあるため、indexに重複した値を使うのは避けたほうがよいかもしれません。"
   ]
  },
  {
   "cell_type": "markdown",
   "metadata": {
    "deletable": true,
    "editable": true
   },
   "source": [
    "  "
   ]
  },
  {
   "cell_type": "markdown",
   "metadata": {
    "deletable": true,
    "editable": true
   },
   "source": [
    "## indexおよびデータの参照\n",
    "Series.index, Serires.valuesでそれぞれindexとデータを取り出せます。新しい値を指定することも可能です。"
   ]
  },
  {
   "cell_type": "code",
   "execution_count": 49,
   "metadata": {
    "collapsed": false,
    "deletable": true,
    "editable": true,
    "scrolled": true
   },
   "outputs": [
    {
     "data": {
      "text/plain": [
       "Index(['John', 'Paul', 'George', 'Ringo', 'Paul', 'Art'], dtype='object')"
      ]
     },
     "execution_count": 49,
     "metadata": {},
     "output_type": "execute_result"
    }
   ],
   "source": [
    "s5.index"
   ]
  },
  {
   "cell_type": "code",
   "execution_count": 50,
   "metadata": {
    "collapsed": false,
    "deletable": true,
    "editable": true
   },
   "outputs": [
    {
     "data": {
      "text/plain": [
       "array(['Lennon', 'McCartney', 'Harrison', 'Starr', 'Simon', 'Garfunkel'], dtype=object)"
      ]
     },
     "execution_count": 50,
     "metadata": {},
     "output_type": "execute_result"
    }
   ],
   "source": [
    "s5.values"
   ]
  },
  {
   "cell_type": "code",
   "execution_count": 51,
   "metadata": {
    "collapsed": false,
    "deletable": true,
    "editable": true
   },
   "outputs": [
    {
     "data": {
      "text/plain": [
       "numpy.ndarray"
      ]
     },
     "execution_count": 51,
     "metadata": {},
     "output_type": "execute_result"
    }
   ],
   "source": [
    "type(s5.values)  # データ形式を確認してみると、内部的にnumpyが使われていることがわかる。"
   ]
  },
  {
   "cell_type": "markdown",
   "metadata": {
    "deletable": true,
    "editable": true
   },
   "source": [
    "# DataFrame  \n",
    "二次元の表を扱うためのデータオブジェクトです。"
   ]
  },
  {
   "cell_type": "markdown",
   "metadata": {
    "deletable": true,
    "editable": true
   },
   "source": [
    "## データフレームの作成\n",
    "```\n",
    "Init signature: pd.DataFrame(data=None, index=None, columns=None, dtype=None, copy=False)\n",
    "```\n",
    "dataには、二次元リストや辞書などを指定します。  \n",
    "index, columnsは指定しなかった場合、0, 1, 2, .. が自動で割り振られます。"
   ]
  },
  {
   "cell_type": "code",
   "execution_count": 52,
   "metadata": {
    "collapsed": true,
    "deletable": true,
    "editable": true
   },
   "outputs": [],
   "source": [
    "data = [[1, 2, 3],\n",
    "        [10, 20, 30],\n",
    "        [100, 200, 300],\n",
    "        [1000, 2000, 3000]\n",
    "       ]\n",
    "columns = [\"A\", \"B\", \"C\"]\n",
    "df1 = pd.DataFrame(data, columns=columns)"
   ]
  },
  {
   "cell_type": "code",
   "execution_count": 53,
   "metadata": {
    "collapsed": false,
    "deletable": true,
    "editable": true
   },
   "outputs": [
    {
     "data": {
      "text/html": [
       "<div>\n",
       "<style>\n",
       "    .dataframe thead tr:only-child th {\n",
       "        text-align: right;\n",
       "    }\n",
       "\n",
       "    .dataframe thead th {\n",
       "        text-align: left;\n",
       "    }\n",
       "\n",
       "    .dataframe tbody tr th {\n",
       "        vertical-align: top;\n",
       "    }\n",
       "</style>\n",
       "<table border=\"1\" class=\"dataframe\">\n",
       "  <thead>\n",
       "    <tr style=\"text-align: right;\">\n",
       "      <th></th>\n",
       "      <th>A</th>\n",
       "      <th>B</th>\n",
       "      <th>C</th>\n",
       "    </tr>\n",
       "  </thead>\n",
       "  <tbody>\n",
       "    <tr>\n",
       "      <th>0</th>\n",
       "      <td>1</td>\n",
       "      <td>2</td>\n",
       "      <td>3</td>\n",
       "    </tr>\n",
       "    <tr>\n",
       "      <th>1</th>\n",
       "      <td>10</td>\n",
       "      <td>20</td>\n",
       "      <td>30</td>\n",
       "    </tr>\n",
       "    <tr>\n",
       "      <th>2</th>\n",
       "      <td>100</td>\n",
       "      <td>200</td>\n",
       "      <td>300</td>\n",
       "    </tr>\n",
       "    <tr>\n",
       "      <th>3</th>\n",
       "      <td>1000</td>\n",
       "      <td>2000</td>\n",
       "      <td>3000</td>\n",
       "    </tr>\n",
       "  </tbody>\n",
       "</table>\n",
       "</div>"
      ],
      "text/plain": [
       "      A     B     C\n",
       "0     1     2     3\n",
       "1    10    20    30\n",
       "2   100   200   300\n",
       "3  1000  2000  3000"
      ]
     },
     "execution_count": 53,
     "metadata": {},
     "output_type": "execute_result"
    }
   ],
   "source": [
    "df1"
   ]
  },
  {
   "cell_type": "code",
   "execution_count": 54,
   "metadata": {
    "collapsed": false,
    "deletable": true,
    "editable": true
   },
   "outputs": [],
   "source": [
    "# 辞書データを与える場合 (列ごとにデータを指定するイメージ。直感的ではないかも)\n",
    "D = {\"name\": [\"John\", \"Paul\", \"George\", \"Ringo\", \"Paul\", \"Art\"],\n",
    "     \"family_name\": [\"Lennon\", \"McCartney\", \"Harrison\", \"Starr\", \"Simon\", \"Garfunkel\"],\n",
    "     \"age\": [None, 76 ,None , 78, 77, 77],\n",
    "     \"DOB\": [\"1940/10/09\", \"1942/026/18\" ,\"1943/02/25\", \"1940/07/07\", \"1941/10/13\", \"1941/11/05\"],\n",
    "     \"group_name\": [\"Beatles\", \"Beatles\" ,\"Beatles\", \"Beatles\", \"Simon_and_Garfunkel\", \"Simon_and_Garfunkel\"],\n",
    "     \"alive\": [False, True, False , True, True, True]}\n",
    "\n",
    "df2 = pd.DataFrame(D)"
   ]
  },
  {
   "cell_type": "code",
   "execution_count": 59,
   "metadata": {
    "collapsed": false,
    "deletable": true,
    "editable": true
   },
   "outputs": [
    {
     "data": {
      "text/html": [
       "<div>\n",
       "<style>\n",
       "    .dataframe thead tr:only-child th {\n",
       "        text-align: right;\n",
       "    }\n",
       "\n",
       "    .dataframe thead th {\n",
       "        text-align: left;\n",
       "    }\n",
       "\n",
       "    .dataframe tbody tr th {\n",
       "        vertical-align: top;\n",
       "    }\n",
       "</style>\n",
       "<table border=\"1\" class=\"dataframe\">\n",
       "  <thead>\n",
       "    <tr style=\"text-align: right;\">\n",
       "      <th></th>\n",
       "      <th>DOB</th>\n",
       "      <th>age</th>\n",
       "      <th>alive</th>\n",
       "      <th>family_name</th>\n",
       "      <th>group_name</th>\n",
       "      <th>name</th>\n",
       "    </tr>\n",
       "  </thead>\n",
       "  <tbody>\n",
       "    <tr>\n",
       "      <th>0</th>\n",
       "      <td>1940/10/09</td>\n",
       "      <td>NaN</td>\n",
       "      <td>False</td>\n",
       "      <td>Lennon</td>\n",
       "      <td>Beatles</td>\n",
       "      <td>John</td>\n",
       "    </tr>\n",
       "    <tr>\n",
       "      <th>1</th>\n",
       "      <td>1942/026/18</td>\n",
       "      <td>76.0</td>\n",
       "      <td>True</td>\n",
       "      <td>McCartney</td>\n",
       "      <td>Beatles</td>\n",
       "      <td>Paul</td>\n",
       "    </tr>\n",
       "    <tr>\n",
       "      <th>2</th>\n",
       "      <td>1943/02/25</td>\n",
       "      <td>NaN</td>\n",
       "      <td>False</td>\n",
       "      <td>Harrison</td>\n",
       "      <td>Beatles</td>\n",
       "      <td>George</td>\n",
       "    </tr>\n",
       "    <tr>\n",
       "      <th>3</th>\n",
       "      <td>1940/07/07</td>\n",
       "      <td>78.0</td>\n",
       "      <td>True</td>\n",
       "      <td>Starr</td>\n",
       "      <td>Beatles</td>\n",
       "      <td>Ringo</td>\n",
       "    </tr>\n",
       "    <tr>\n",
       "      <th>4</th>\n",
       "      <td>1941/10/13</td>\n",
       "      <td>77.0</td>\n",
       "      <td>True</td>\n",
       "      <td>Simon</td>\n",
       "      <td>Simon_and_Garfunkel</td>\n",
       "      <td>Paul</td>\n",
       "    </tr>\n",
       "    <tr>\n",
       "      <th>5</th>\n",
       "      <td>1941/11/05</td>\n",
       "      <td>77.0</td>\n",
       "      <td>True</td>\n",
       "      <td>Garfunkel</td>\n",
       "      <td>Simon_and_Garfunkel</td>\n",
       "      <td>Art</td>\n",
       "    </tr>\n",
       "  </tbody>\n",
       "</table>\n",
       "</div>"
      ],
      "text/plain": [
       "           DOB   age  alive family_name           group_name    name\n",
       "0   1940/10/09   NaN  False      Lennon              Beatles    John\n",
       "1  1942/026/18  76.0   True   McCartney              Beatles    Paul\n",
       "2   1943/02/25   NaN  False    Harrison              Beatles  George\n",
       "3   1940/07/07  78.0   True       Starr              Beatles   Ringo\n",
       "4   1941/10/13  77.0   True       Simon  Simon_and_Garfunkel    Paul\n",
       "5   1941/11/05  77.0   True   Garfunkel  Simon_and_Garfunkel     Art"
      ]
     },
     "execution_count": 59,
     "metadata": {},
     "output_type": "execute_result"
    }
   ],
   "source": [
    "df2"
   ]
  },
  {
   "cell_type": "code",
   "execution_count": 60,
   "metadata": {
    "collapsed": false,
    "deletable": true,
    "editable": true
   },
   "outputs": [
    {
     "name": "stdout",
     "output_type": "stream",
     "text": [
      "column names:  Index(['DOB', 'age', 'alive', 'family_name', 'group_name', 'name'], dtype='object')\n",
      "index:  RangeIndex(start=0, stop=6, step=1)\n"
     ]
    }
   ],
   "source": [
    "# カラム名や、index（行名）はそれぞれ、columns, indexで参照できます。\n",
    "print(\"column names: \", df2.columns)\n",
    "print(\"index: \", df2.index)"
   ]
  },
  {
   "cell_type": "markdown",
   "metadata": {
    "deletable": true,
    "editable": true
   },
   "source": [
    "実際にはDataFrameを自前で作ることはあまりありません。以下で紹介するようにファイルから読み込む場合がほとんどです。"
   ]
  },
  {
   "cell_type": "markdown",
   "metadata": {
    "deletable": true,
    "editable": true
   },
   "source": [
    "## ファイルから読み込んでデータフレームを作成"
   ]
  },
  {
   "cell_type": "code",
   "execution_count": 61,
   "metadata": {
    "collapsed": false,
    "deletable": true,
    "editable": true
   },
   "outputs": [],
   "source": [
    "pd.read_table?"
   ]
  },
  {
   "cell_type": "code",
   "execution_count": 62,
   "metadata": {
    "collapsed": false,
    "deletable": true,
    "editable": true
   },
   "outputs": [],
   "source": [
    "# タブ区切りファイルの読み込み\n",
    "df3 = pd.read_table(\"input/test_matrix_data.tsv\", index_col=0)\n",
    "# df3 = pd.read_csv(\"input/test_matrix_data.tsv\", sep=\"\\t\", index_col=0)  # これも同じ結果になる。"
   ]
  },
  {
   "cell_type": "markdown",
   "metadata": {
    "deletable": true,
    "editable": true
   },
   "source": [
    "これ以外にも pd.read_clipboard, pd.read_excel などもあります。"
   ]
  },
  {
   "cell_type": "code",
   "execution_count": 63,
   "metadata": {
    "collapsed": false,
    "deletable": true,
    "editable": true
   },
   "outputs": [
    {
     "data": {
      "text/html": [
       "<div>\n",
       "<style>\n",
       "    .dataframe thead tr:only-child th {\n",
       "        text-align: right;\n",
       "    }\n",
       "\n",
       "    .dataframe thead th {\n",
       "        text-align: left;\n",
       "    }\n",
       "\n",
       "    .dataframe tbody tr th {\n",
       "        vertical-align: top;\n",
       "    }\n",
       "</style>\n",
       "<table border=\"1\" class=\"dataframe\">\n",
       "  <thead>\n",
       "    <tr style=\"text-align: right;\">\n",
       "      <th></th>\n",
       "      <th>A</th>\n",
       "      <th>B</th>\n",
       "      <th>C</th>\n",
       "      <th>D</th>\n",
       "      <th>E</th>\n",
       "      <th>F</th>\n",
       "      <th>G</th>\n",
       "    </tr>\n",
       "    <tr>\n",
       "      <th>data_idx</th>\n",
       "      <th></th>\n",
       "      <th></th>\n",
       "      <th></th>\n",
       "      <th></th>\n",
       "      <th></th>\n",
       "      <th></th>\n",
       "      <th></th>\n",
       "    </tr>\n",
       "  </thead>\n",
       "  <tbody>\n",
       "    <tr>\n",
       "      <th>data_1</th>\n",
       "      <td>58</td>\n",
       "      <td>-27</td>\n",
       "      <td>31.0</td>\n",
       "      <td>0.6028</td>\n",
       "      <td>73.922054</td>\n",
       "      <td>0.0179</td>\n",
       "      <td>-0.0102</td>\n",
       "    </tr>\n",
       "    <tr>\n",
       "      <th>data_10</th>\n",
       "      <td>109</td>\n",
       "      <td>-53</td>\n",
       "      <td>56.0</td>\n",
       "      <td>0.5000</td>\n",
       "      <td>575.585790</td>\n",
       "      <td>0.0346</td>\n",
       "      <td>0.0000</td>\n",
       "    </tr>\n",
       "    <tr>\n",
       "      <th>data_11</th>\n",
       "      <td>77</td>\n",
       "      <td>-44</td>\n",
       "      <td>33.0</td>\n",
       "      <td>0.6281</td>\n",
       "      <td>144.838806</td>\n",
       "      <td>0.0343</td>\n",
       "      <td>-0.0411</td>\n",
       "    </tr>\n",
       "    <tr>\n",
       "      <th>data_12</th>\n",
       "      <td>181</td>\n",
       "      <td>126</td>\n",
       "      <td>55.0</td>\n",
       "      <td>0.5000</td>\n",
       "      <td>NaN</td>\n",
       "      <td>0.0551</td>\n",
       "      <td>0.0000</td>\n",
       "    </tr>\n",
       "    <tr>\n",
       "      <th>data_13</th>\n",
       "      <td>91</td>\n",
       "      <td>-46</td>\n",
       "      <td>45.0</td>\n",
       "      <td>0.5220</td>\n",
       "      <td>896.439718</td>\n",
       "      <td>0.0044</td>\n",
       "      <td>-0.0082</td>\n",
       "    </tr>\n",
       "    <tr>\n",
       "      <th>data_14</th>\n",
       "      <td>133</td>\n",
       "      <td>-70</td>\n",
       "      <td>63.0</td>\n",
       "      <td>0.5000</td>\n",
       "      <td>374.867722</td>\n",
       "      <td>0.0420</td>\n",
       "      <td>0.0000</td>\n",
       "    </tr>\n",
       "    <tr>\n",
       "      <th>data_15</th>\n",
       "      <td>39</td>\n",
       "      <td>22</td>\n",
       "      <td>17.0</td>\n",
       "      <td>0.5000</td>\n",
       "      <td>137.368196</td>\n",
       "      <td>0.0173</td>\n",
       "      <td>0.0000</td>\n",
       "    </tr>\n",
       "    <tr>\n",
       "      <th>data_16</th>\n",
       "      <td>36</td>\n",
       "      <td>0</td>\n",
       "      <td>36.0</td>\n",
       "      <td>0.5000</td>\n",
       "      <td>63.004120</td>\n",
       "      <td>0.0242</td>\n",
       "      <td>0.0000</td>\n",
       "    </tr>\n",
       "    <tr>\n",
       "      <th>data_17</th>\n",
       "      <td>50</td>\n",
       "      <td>0</td>\n",
       "      <td>50.0</td>\n",
       "      <td>0.5000</td>\n",
       "      <td>214.258945</td>\n",
       "      <td>0.0020</td>\n",
       "      <td>0.0000</td>\n",
       "    </tr>\n",
       "    <tr>\n",
       "      <th>data_18</th>\n",
       "      <td>11</td>\n",
       "      <td>7</td>\n",
       "      <td>4.0</td>\n",
       "      <td>0.5000</td>\n",
       "      <td>69.762676</td>\n",
       "      <td>0.0330</td>\n",
       "      <td>0.0000</td>\n",
       "    </tr>\n",
       "    <tr>\n",
       "      <th>data_19</th>\n",
       "      <td>6</td>\n",
       "      <td>-2</td>\n",
       "      <td>4.0</td>\n",
       "      <td>0.5453</td>\n",
       "      <td>72.282932</td>\n",
       "      <td>0.0220</td>\n",
       "      <td>-0.0707</td>\n",
       "    </tr>\n",
       "    <tr>\n",
       "      <th>data_2</th>\n",
       "      <td>17</td>\n",
       "      <td>3</td>\n",
       "      <td>14.0</td>\n",
       "      <td>0.7112</td>\n",
       "      <td>36.759859</td>\n",
       "      <td>0.0263</td>\n",
       "      <td>0.0009</td>\n",
       "    </tr>\n",
       "    <tr>\n",
       "      <th>data_20</th>\n",
       "      <td>20</td>\n",
       "      <td>-4</td>\n",
       "      <td>16.0</td>\n",
       "      <td>0.5714</td>\n",
       "      <td>3.293830</td>\n",
       "      <td>0.0469</td>\n",
       "      <td>-0.0441</td>\n",
       "    </tr>\n",
       "    <tr>\n",
       "      <th>data_21</th>\n",
       "      <td>96</td>\n",
       "      <td>44</td>\n",
       "      <td>52.0</td>\n",
       "      <td>0.5048</td>\n",
       "      <td>515.410500</td>\n",
       "      <td>0.0324</td>\n",
       "      <td>-0.0818</td>\n",
       "    </tr>\n",
       "    <tr>\n",
       "      <th>data_22</th>\n",
       "      <td>153</td>\n",
       "      <td>83</td>\n",
       "      <td>70.0</td>\n",
       "      <td>0.5333</td>\n",
       "      <td>NaN</td>\n",
       "      <td>0.0114</td>\n",
       "      <td>-0.0009</td>\n",
       "    </tr>\n",
       "    <tr>\n",
       "      <th>data_23</th>\n",
       "      <td>45</td>\n",
       "      <td>14</td>\n",
       "      <td>31.0</td>\n",
       "      <td>0.6462</td>\n",
       "      <td>192.909121</td>\n",
       "      <td>0.0086</td>\n",
       "      <td>-0.0102</td>\n",
       "    </tr>\n",
       "    <tr>\n",
       "      <th>data_24</th>\n",
       "      <td>26</td>\n",
       "      <td>-18</td>\n",
       "      <td>8.0</td>\n",
       "      <td>0.7498</td>\n",
       "      <td>NaN</td>\n",
       "      <td>0.0193</td>\n",
       "      <td>-0.0026</td>\n",
       "    </tr>\n",
       "    <tr>\n",
       "      <th>data_25</th>\n",
       "      <td>25</td>\n",
       "      <td>16</td>\n",
       "      <td>9.0</td>\n",
       "      <td>0.7223</td>\n",
       "      <td>50.758144</td>\n",
       "      <td>0.0235</td>\n",
       "      <td>-0.0065</td>\n",
       "    </tr>\n",
       "    <tr>\n",
       "      <th>data_26</th>\n",
       "      <td>15</td>\n",
       "      <td>-15</td>\n",
       "      <td>0.0</td>\n",
       "      <td>0.5000</td>\n",
       "      <td>0.000000</td>\n",
       "      <td>0.0130</td>\n",
       "      <td>-0.0999</td>\n",
       "    </tr>\n",
       "    <tr>\n",
       "      <th>data_27</th>\n",
       "      <td>14</td>\n",
       "      <td>-13</td>\n",
       "      <td>1.0</td>\n",
       "      <td>0.5531</td>\n",
       "      <td>0.369251</td>\n",
       "      <td>0.0182</td>\n",
       "      <td>-0.0337</td>\n",
       "    </tr>\n",
       "    <tr>\n",
       "      <th>data_28</th>\n",
       "      <td>64</td>\n",
       "      <td>27</td>\n",
       "      <td>37.0</td>\n",
       "      <td>0.5323</td>\n",
       "      <td>399.306169</td>\n",
       "      <td>0.0183</td>\n",
       "      <td>-0.0174</td>\n",
       "    </tr>\n",
       "    <tr>\n",
       "      <th>data_29</th>\n",
       "      <td>53</td>\n",
       "      <td>34</td>\n",
       "      <td>19.0</td>\n",
       "      <td>0.5000</td>\n",
       "      <td>128.580865</td>\n",
       "      <td>0.0100</td>\n",
       "      <td>0.0000</td>\n",
       "    </tr>\n",
       "    <tr>\n",
       "      <th>data_3</th>\n",
       "      <td>169</td>\n",
       "      <td>48</td>\n",
       "      <td>121.0</td>\n",
       "      <td>0.5000</td>\n",
       "      <td>1801.404597</td>\n",
       "      <td>0.0383</td>\n",
       "      <td>0.0000</td>\n",
       "    </tr>\n",
       "    <tr>\n",
       "      <th>data_30</th>\n",
       "      <td>127</td>\n",
       "      <td>-77</td>\n",
       "      <td>50.0</td>\n",
       "      <td>0.5000</td>\n",
       "      <td>164.149599</td>\n",
       "      <td>0.1493</td>\n",
       "      <td>0.0000</td>\n",
       "    </tr>\n",
       "    <tr>\n",
       "      <th>data_4</th>\n",
       "      <td>59</td>\n",
       "      <td>31</td>\n",
       "      <td>28.0</td>\n",
       "      <td>0.5564</td>\n",
       "      <td>270.819398</td>\n",
       "      <td>0.0182</td>\n",
       "      <td>-0.0349</td>\n",
       "    </tr>\n",
       "    <tr>\n",
       "      <th>data_5</th>\n",
       "      <td>59</td>\n",
       "      <td>30</td>\n",
       "      <td>29.0</td>\n",
       "      <td>0.5404</td>\n",
       "      <td>138.188987</td>\n",
       "      <td>0.0222</td>\n",
       "      <td>-0.0439</td>\n",
       "    </tr>\n",
       "    <tr>\n",
       "      <th>data_6</th>\n",
       "      <td>137</td>\n",
       "      <td>-50</td>\n",
       "      <td>NaN</td>\n",
       "      <td>0.5330</td>\n",
       "      <td>1603.301689</td>\n",
       "      <td>0.0061</td>\n",
       "      <td>-0.0221</td>\n",
       "    </tr>\n",
       "    <tr>\n",
       "      <th>data_7</th>\n",
       "      <td>39</td>\n",
       "      <td>-32</td>\n",
       "      <td>7.0</td>\n",
       "      <td>0.5783</td>\n",
       "      <td>136.917725</td>\n",
       "      <td>0.0112</td>\n",
       "      <td>-0.0278</td>\n",
       "    </tr>\n",
       "    <tr>\n",
       "      <th>data_8</th>\n",
       "      <td>39</td>\n",
       "      <td>32</td>\n",
       "      <td>7.0</td>\n",
       "      <td>0.5783</td>\n",
       "      <td>2.079866</td>\n",
       "      <td>0.0271</td>\n",
       "      <td>-0.0013</td>\n",
       "    </tr>\n",
       "    <tr>\n",
       "      <th>data_9</th>\n",
       "      <td>81</td>\n",
       "      <td>35</td>\n",
       "      <td>46.0</td>\n",
       "      <td>0.5198</td>\n",
       "      <td>422.065428</td>\n",
       "      <td>0.0123</td>\n",
       "      <td>-0.0054</td>\n",
       "    </tr>\n",
       "  </tbody>\n",
       "</table>\n",
       "</div>"
      ],
      "text/plain": [
       "            A    B      C       D            E       F       G\n",
       "data_idx                                                      \n",
       "data_1     58  -27   31.0  0.6028    73.922054  0.0179 -0.0102\n",
       "data_10   109  -53   56.0  0.5000   575.585790  0.0346  0.0000\n",
       "data_11    77  -44   33.0  0.6281   144.838806  0.0343 -0.0411\n",
       "data_12   181  126   55.0  0.5000          NaN  0.0551  0.0000\n",
       "data_13    91  -46   45.0  0.5220   896.439718  0.0044 -0.0082\n",
       "data_14   133  -70   63.0  0.5000   374.867722  0.0420  0.0000\n",
       "data_15    39   22   17.0  0.5000   137.368196  0.0173  0.0000\n",
       "data_16    36    0   36.0  0.5000    63.004120  0.0242  0.0000\n",
       "data_17    50    0   50.0  0.5000   214.258945  0.0020  0.0000\n",
       "data_18    11    7    4.0  0.5000    69.762676  0.0330  0.0000\n",
       "data_19     6   -2    4.0  0.5453    72.282932  0.0220 -0.0707\n",
       "data_2     17    3   14.0  0.7112    36.759859  0.0263  0.0009\n",
       "data_20    20   -4   16.0  0.5714     3.293830  0.0469 -0.0441\n",
       "data_21    96   44   52.0  0.5048   515.410500  0.0324 -0.0818\n",
       "data_22   153   83   70.0  0.5333          NaN  0.0114 -0.0009\n",
       "data_23    45   14   31.0  0.6462   192.909121  0.0086 -0.0102\n",
       "data_24    26  -18    8.0  0.7498          NaN  0.0193 -0.0026\n",
       "data_25    25   16    9.0  0.7223    50.758144  0.0235 -0.0065\n",
       "data_26    15  -15    0.0  0.5000     0.000000  0.0130 -0.0999\n",
       "data_27    14  -13    1.0  0.5531     0.369251  0.0182 -0.0337\n",
       "data_28    64   27   37.0  0.5323   399.306169  0.0183 -0.0174\n",
       "data_29    53   34   19.0  0.5000   128.580865  0.0100  0.0000\n",
       "data_3    169   48  121.0  0.5000  1801.404597  0.0383  0.0000\n",
       "data_30   127  -77   50.0  0.5000   164.149599  0.1493  0.0000\n",
       "data_4     59   31   28.0  0.5564   270.819398  0.0182 -0.0349\n",
       "data_5     59   30   29.0  0.5404   138.188987  0.0222 -0.0439\n",
       "data_6    137  -50    NaN  0.5330  1603.301689  0.0061 -0.0221\n",
       "data_7     39  -32    7.0  0.5783   136.917725  0.0112 -0.0278\n",
       "data_8     39   32    7.0  0.5783     2.079866  0.0271 -0.0013\n",
       "data_9     81   35   46.0  0.5198   422.065428  0.0123 -0.0054"
      ]
     },
     "execution_count": 63,
     "metadata": {},
     "output_type": "execute_result"
    }
   ],
   "source": [
    "df3"
   ]
  },
  {
   "cell_type": "markdown",
   "metadata": {
    "deletable": true,
    "editable": true
   },
   "source": [
    "## データフレームの基本操作"
   ]
  },
  {
   "cell_type": "code",
   "execution_count": null,
   "metadata": {
    "collapsed": true,
    "deletable": true,
    "editable": true
   },
   "outputs": [],
   "source": []
  },
  {
   "cell_type": "markdown",
   "metadata": {
    "deletable": true,
    "editable": true
   },
   "source": [
    "### データを概観する"
   ]
  },
  {
   "cell_type": "code",
   "execution_count": null,
   "metadata": {
    "collapsed": true,
    "deletable": true,
    "editable": true
   },
   "outputs": [],
   "source": []
  },
  {
   "cell_type": "code",
   "execution_count": 64,
   "metadata": {
    "collapsed": false,
    "deletable": true,
    "editable": true
   },
   "outputs": [
    {
     "data": {
      "text/html": [
       "<div>\n",
       "<style>\n",
       "    .dataframe thead tr:only-child th {\n",
       "        text-align: right;\n",
       "    }\n",
       "\n",
       "    .dataframe thead th {\n",
       "        text-align: left;\n",
       "    }\n",
       "\n",
       "    .dataframe tbody tr th {\n",
       "        vertical-align: top;\n",
       "    }\n",
       "</style>\n",
       "<table border=\"1\" class=\"dataframe\">\n",
       "  <thead>\n",
       "    <tr style=\"text-align: right;\">\n",
       "      <th></th>\n",
       "      <th>A</th>\n",
       "      <th>B</th>\n",
       "      <th>C</th>\n",
       "      <th>D</th>\n",
       "      <th>E</th>\n",
       "      <th>F</th>\n",
       "      <th>G</th>\n",
       "    </tr>\n",
       "    <tr>\n",
       "      <th>data_idx</th>\n",
       "      <th></th>\n",
       "      <th></th>\n",
       "      <th></th>\n",
       "      <th></th>\n",
       "      <th></th>\n",
       "      <th></th>\n",
       "      <th></th>\n",
       "    </tr>\n",
       "  </thead>\n",
       "  <tbody>\n",
       "    <tr>\n",
       "      <th>data_1</th>\n",
       "      <td>58</td>\n",
       "      <td>-27</td>\n",
       "      <td>31.0</td>\n",
       "      <td>0.6028</td>\n",
       "      <td>73.922054</td>\n",
       "      <td>0.0179</td>\n",
       "      <td>-0.0102</td>\n",
       "    </tr>\n",
       "    <tr>\n",
       "      <th>data_10</th>\n",
       "      <td>109</td>\n",
       "      <td>-53</td>\n",
       "      <td>56.0</td>\n",
       "      <td>0.5000</td>\n",
       "      <td>575.585790</td>\n",
       "      <td>0.0346</td>\n",
       "      <td>0.0000</td>\n",
       "    </tr>\n",
       "    <tr>\n",
       "      <th>data_11</th>\n",
       "      <td>77</td>\n",
       "      <td>-44</td>\n",
       "      <td>33.0</td>\n",
       "      <td>0.6281</td>\n",
       "      <td>144.838806</td>\n",
       "      <td>0.0343</td>\n",
       "      <td>-0.0411</td>\n",
       "    </tr>\n",
       "    <tr>\n",
       "      <th>data_12</th>\n",
       "      <td>181</td>\n",
       "      <td>126</td>\n",
       "      <td>55.0</td>\n",
       "      <td>0.5000</td>\n",
       "      <td>NaN</td>\n",
       "      <td>0.0551</td>\n",
       "      <td>0.0000</td>\n",
       "    </tr>\n",
       "    <tr>\n",
       "      <th>data_13</th>\n",
       "      <td>91</td>\n",
       "      <td>-46</td>\n",
       "      <td>45.0</td>\n",
       "      <td>0.5220</td>\n",
       "      <td>896.439718</td>\n",
       "      <td>0.0044</td>\n",
       "      <td>-0.0082</td>\n",
       "    </tr>\n",
       "  </tbody>\n",
       "</table>\n",
       "</div>"
      ],
      "text/plain": [
       "            A    B     C       D           E       F       G\n",
       "data_idx                                                    \n",
       "data_1     58  -27  31.0  0.6028   73.922054  0.0179 -0.0102\n",
       "data_10   109  -53  56.0  0.5000  575.585790  0.0346  0.0000\n",
       "data_11    77  -44  33.0  0.6281  144.838806  0.0343 -0.0411\n",
       "data_12   181  126  55.0  0.5000         NaN  0.0551  0.0000\n",
       "data_13    91  -46  45.0  0.5220  896.439718  0.0044 -0.0082"
      ]
     },
     "execution_count": 64,
     "metadata": {},
     "output_type": "execute_result"
    }
   ],
   "source": [
    "df3.head()   # 先頭を表示（デフォルト5行、引数で指定可能）"
   ]
  },
  {
   "cell_type": "code",
   "execution_count": 65,
   "metadata": {
    "collapsed": false,
    "deletable": true,
    "editable": true
   },
   "outputs": [
    {
     "data": {
      "text/html": [
       "<div>\n",
       "<style>\n",
       "    .dataframe thead tr:only-child th {\n",
       "        text-align: right;\n",
       "    }\n",
       "\n",
       "    .dataframe thead th {\n",
       "        text-align: left;\n",
       "    }\n",
       "\n",
       "    .dataframe tbody tr th {\n",
       "        vertical-align: top;\n",
       "    }\n",
       "</style>\n",
       "<table border=\"1\" class=\"dataframe\">\n",
       "  <thead>\n",
       "    <tr style=\"text-align: right;\">\n",
       "      <th></th>\n",
       "      <th>A</th>\n",
       "      <th>B</th>\n",
       "      <th>C</th>\n",
       "      <th>D</th>\n",
       "      <th>E</th>\n",
       "      <th>F</th>\n",
       "      <th>G</th>\n",
       "    </tr>\n",
       "    <tr>\n",
       "      <th>data_idx</th>\n",
       "      <th></th>\n",
       "      <th></th>\n",
       "      <th></th>\n",
       "      <th></th>\n",
       "      <th></th>\n",
       "      <th></th>\n",
       "      <th></th>\n",
       "    </tr>\n",
       "  </thead>\n",
       "  <tbody>\n",
       "    <tr>\n",
       "      <th>data_5</th>\n",
       "      <td>59</td>\n",
       "      <td>30</td>\n",
       "      <td>29.0</td>\n",
       "      <td>0.5404</td>\n",
       "      <td>138.188987</td>\n",
       "      <td>0.0222</td>\n",
       "      <td>-0.0439</td>\n",
       "    </tr>\n",
       "    <tr>\n",
       "      <th>data_6</th>\n",
       "      <td>137</td>\n",
       "      <td>-50</td>\n",
       "      <td>NaN</td>\n",
       "      <td>0.5330</td>\n",
       "      <td>1603.301689</td>\n",
       "      <td>0.0061</td>\n",
       "      <td>-0.0221</td>\n",
       "    </tr>\n",
       "    <tr>\n",
       "      <th>data_7</th>\n",
       "      <td>39</td>\n",
       "      <td>-32</td>\n",
       "      <td>7.0</td>\n",
       "      <td>0.5783</td>\n",
       "      <td>136.917725</td>\n",
       "      <td>0.0112</td>\n",
       "      <td>-0.0278</td>\n",
       "    </tr>\n",
       "    <tr>\n",
       "      <th>data_8</th>\n",
       "      <td>39</td>\n",
       "      <td>32</td>\n",
       "      <td>7.0</td>\n",
       "      <td>0.5783</td>\n",
       "      <td>2.079866</td>\n",
       "      <td>0.0271</td>\n",
       "      <td>-0.0013</td>\n",
       "    </tr>\n",
       "    <tr>\n",
       "      <th>data_9</th>\n",
       "      <td>81</td>\n",
       "      <td>35</td>\n",
       "      <td>46.0</td>\n",
       "      <td>0.5198</td>\n",
       "      <td>422.065428</td>\n",
       "      <td>0.0123</td>\n",
       "      <td>-0.0054</td>\n",
       "    </tr>\n",
       "  </tbody>\n",
       "</table>\n",
       "</div>"
      ],
      "text/plain": [
       "            A   B     C       D            E       F       G\n",
       "data_idx                                                    \n",
       "data_5     59  30  29.0  0.5404   138.188987  0.0222 -0.0439\n",
       "data_6    137 -50   NaN  0.5330  1603.301689  0.0061 -0.0221\n",
       "data_7     39 -32   7.0  0.5783   136.917725  0.0112 -0.0278\n",
       "data_8     39  32   7.0  0.5783     2.079866  0.0271 -0.0013\n",
       "data_9     81  35  46.0  0.5198   422.065428  0.0123 -0.0054"
      ]
     },
     "execution_count": 65,
     "metadata": {},
     "output_type": "execute_result"
    }
   ],
   "source": [
    "df3.tail()  # 末端を表示"
   ]
  },
  {
   "cell_type": "code",
   "execution_count": 66,
   "metadata": {
    "collapsed": false,
    "deletable": true,
    "editable": true
   },
   "outputs": [
    {
     "data": {
      "text/html": [
       "<div>\n",
       "<style>\n",
       "    .dataframe thead tr:only-child th {\n",
       "        text-align: right;\n",
       "    }\n",
       "\n",
       "    .dataframe thead th {\n",
       "        text-align: left;\n",
       "    }\n",
       "\n",
       "    .dataframe tbody tr th {\n",
       "        vertical-align: top;\n",
       "    }\n",
       "</style>\n",
       "<table border=\"1\" class=\"dataframe\">\n",
       "  <thead>\n",
       "    <tr style=\"text-align: right;\">\n",
       "      <th></th>\n",
       "      <th>A</th>\n",
       "      <th>B</th>\n",
       "      <th>C</th>\n",
       "      <th>D</th>\n",
       "      <th>E</th>\n",
       "      <th>F</th>\n",
       "      <th>G</th>\n",
       "    </tr>\n",
       "  </thead>\n",
       "  <tbody>\n",
       "    <tr>\n",
       "      <th>count</th>\n",
       "      <td>30.000000</td>\n",
       "      <td>30.000000</td>\n",
       "      <td>29.000000</td>\n",
       "      <td>30.000000</td>\n",
       "      <td>27.000000</td>\n",
       "      <td>30.000000</td>\n",
       "      <td>30.000000</td>\n",
       "    </tr>\n",
       "    <tr>\n",
       "      <th>mean</th>\n",
       "      <td>67.633333</td>\n",
       "      <td>3.366667</td>\n",
       "      <td>32.379310</td>\n",
       "      <td>0.554293</td>\n",
       "      <td>314.394296</td>\n",
       "      <td>0.026647</td>\n",
       "      <td>-0.018727</td>\n",
       "    </tr>\n",
       "    <tr>\n",
       "      <th>std</th>\n",
       "      <td>49.876042</td>\n",
       "      <td>44.074767</td>\n",
       "      <td>26.585998</td>\n",
       "      <td>0.071324</td>\n",
       "      <td>452.625514</td>\n",
       "      <td>0.026463</td>\n",
       "      <td>0.026900</td>\n",
       "    </tr>\n",
       "    <tr>\n",
       "      <th>min</th>\n",
       "      <td>6.000000</td>\n",
       "      <td>-77.000000</td>\n",
       "      <td>0.000000</td>\n",
       "      <td>0.500000</td>\n",
       "      <td>0.000000</td>\n",
       "      <td>0.002000</td>\n",
       "      <td>-0.099900</td>\n",
       "    </tr>\n",
       "    <tr>\n",
       "      <th>25%</th>\n",
       "      <td>28.500000</td>\n",
       "      <td>-24.750000</td>\n",
       "      <td>9.000000</td>\n",
       "      <td>0.500000</td>\n",
       "      <td>66.383398</td>\n",
       "      <td>0.012475</td>\n",
       "      <td>-0.032225</td>\n",
       "    </tr>\n",
       "    <tr>\n",
       "      <th>50%</th>\n",
       "      <td>55.500000</td>\n",
       "      <td>1.500000</td>\n",
       "      <td>31.000000</td>\n",
       "      <td>0.532650</td>\n",
       "      <td>138.188987</td>\n",
       "      <td>0.020650</td>\n",
       "      <td>-0.005950</td>\n",
       "    </tr>\n",
       "    <tr>\n",
       "      <th>75%</th>\n",
       "      <td>94.750000</td>\n",
       "      <td>30.750000</td>\n",
       "      <td>50.000000</td>\n",
       "      <td>0.576575</td>\n",
       "      <td>387.086946</td>\n",
       "      <td>0.032850</td>\n",
       "      <td>0.000000</td>\n",
       "    </tr>\n",
       "    <tr>\n",
       "      <th>max</th>\n",
       "      <td>181.000000</td>\n",
       "      <td>126.000000</td>\n",
       "      <td>121.000000</td>\n",
       "      <td>0.749800</td>\n",
       "      <td>1801.404597</td>\n",
       "      <td>0.149300</td>\n",
       "      <td>0.000900</td>\n",
       "    </tr>\n",
       "  </tbody>\n",
       "</table>\n",
       "</div>"
      ],
      "text/plain": [
       "                A           B           C          D            E          F  \\\n",
       "count   30.000000   30.000000   29.000000  30.000000    27.000000  30.000000   \n",
       "mean    67.633333    3.366667   32.379310   0.554293   314.394296   0.026647   \n",
       "std     49.876042   44.074767   26.585998   0.071324   452.625514   0.026463   \n",
       "min      6.000000  -77.000000    0.000000   0.500000     0.000000   0.002000   \n",
       "25%     28.500000  -24.750000    9.000000   0.500000    66.383398   0.012475   \n",
       "50%     55.500000    1.500000   31.000000   0.532650   138.188987   0.020650   \n",
       "75%     94.750000   30.750000   50.000000   0.576575   387.086946   0.032850   \n",
       "max    181.000000  126.000000  121.000000   0.749800  1801.404597   0.149300   \n",
       "\n",
       "               G  \n",
       "count  30.000000  \n",
       "mean   -0.018727  \n",
       "std     0.026900  \n",
       "min    -0.099900  \n",
       "25%    -0.032225  \n",
       "50%    -0.005950  \n",
       "75%     0.000000  \n",
       "max     0.000900  "
      ]
     },
     "execution_count": 66,
     "metadata": {},
     "output_type": "execute_result"
    }
   ],
   "source": [
    "df3.describe()  # 各種統計量を表示"
   ]
  },
  {
   "cell_type": "code",
   "execution_count": 67,
   "metadata": {
    "collapsed": false,
    "deletable": true,
    "editable": true
   },
   "outputs": [
    {
     "data": {
      "text/html": [
       "<div>\n",
       "<style>\n",
       "    .dataframe thead tr:only-child th {\n",
       "        text-align: right;\n",
       "    }\n",
       "\n",
       "    .dataframe thead th {\n",
       "        text-align: left;\n",
       "    }\n",
       "\n",
       "    .dataframe tbody tr th {\n",
       "        vertical-align: top;\n",
       "    }\n",
       "</style>\n",
       "<table border=\"1\" class=\"dataframe\">\n",
       "  <thead>\n",
       "    <tr style=\"text-align: right;\">\n",
       "      <th></th>\n",
       "      <th>DOB</th>\n",
       "      <th>age</th>\n",
       "      <th>alive</th>\n",
       "      <th>family_name</th>\n",
       "      <th>group_name</th>\n",
       "      <th>name</th>\n",
       "    </tr>\n",
       "  </thead>\n",
       "  <tbody>\n",
       "    <tr>\n",
       "      <th>count</th>\n",
       "      <td>6</td>\n",
       "      <td>4.000000</td>\n",
       "      <td>6</td>\n",
       "      <td>6</td>\n",
       "      <td>6</td>\n",
       "      <td>6</td>\n",
       "    </tr>\n",
       "    <tr>\n",
       "      <th>unique</th>\n",
       "      <td>6</td>\n",
       "      <td>NaN</td>\n",
       "      <td>2</td>\n",
       "      <td>6</td>\n",
       "      <td>2</td>\n",
       "      <td>5</td>\n",
       "    </tr>\n",
       "    <tr>\n",
       "      <th>top</th>\n",
       "      <td>1941/10/13</td>\n",
       "      <td>NaN</td>\n",
       "      <td>True</td>\n",
       "      <td>Starr</td>\n",
       "      <td>Beatles</td>\n",
       "      <td>Paul</td>\n",
       "    </tr>\n",
       "    <tr>\n",
       "      <th>freq</th>\n",
       "      <td>1</td>\n",
       "      <td>NaN</td>\n",
       "      <td>4</td>\n",
       "      <td>1</td>\n",
       "      <td>4</td>\n",
       "      <td>2</td>\n",
       "    </tr>\n",
       "    <tr>\n",
       "      <th>mean</th>\n",
       "      <td>NaN</td>\n",
       "      <td>77.000000</td>\n",
       "      <td>NaN</td>\n",
       "      <td>NaN</td>\n",
       "      <td>NaN</td>\n",
       "      <td>NaN</td>\n",
       "    </tr>\n",
       "    <tr>\n",
       "      <th>std</th>\n",
       "      <td>NaN</td>\n",
       "      <td>0.816497</td>\n",
       "      <td>NaN</td>\n",
       "      <td>NaN</td>\n",
       "      <td>NaN</td>\n",
       "      <td>NaN</td>\n",
       "    </tr>\n",
       "    <tr>\n",
       "      <th>min</th>\n",
       "      <td>NaN</td>\n",
       "      <td>76.000000</td>\n",
       "      <td>NaN</td>\n",
       "      <td>NaN</td>\n",
       "      <td>NaN</td>\n",
       "      <td>NaN</td>\n",
       "    </tr>\n",
       "    <tr>\n",
       "      <th>25%</th>\n",
       "      <td>NaN</td>\n",
       "      <td>76.750000</td>\n",
       "      <td>NaN</td>\n",
       "      <td>NaN</td>\n",
       "      <td>NaN</td>\n",
       "      <td>NaN</td>\n",
       "    </tr>\n",
       "    <tr>\n",
       "      <th>50%</th>\n",
       "      <td>NaN</td>\n",
       "      <td>77.000000</td>\n",
       "      <td>NaN</td>\n",
       "      <td>NaN</td>\n",
       "      <td>NaN</td>\n",
       "      <td>NaN</td>\n",
       "    </tr>\n",
       "    <tr>\n",
       "      <th>75%</th>\n",
       "      <td>NaN</td>\n",
       "      <td>77.250000</td>\n",
       "      <td>NaN</td>\n",
       "      <td>NaN</td>\n",
       "      <td>NaN</td>\n",
       "      <td>NaN</td>\n",
       "    </tr>\n",
       "    <tr>\n",
       "      <th>max</th>\n",
       "      <td>NaN</td>\n",
       "      <td>78.000000</td>\n",
       "      <td>NaN</td>\n",
       "      <td>NaN</td>\n",
       "      <td>NaN</td>\n",
       "      <td>NaN</td>\n",
       "    </tr>\n",
       "  </tbody>\n",
       "</table>\n",
       "</div>"
      ],
      "text/plain": [
       "               DOB        age alive family_name group_name  name\n",
       "count            6   4.000000     6           6          6     6\n",
       "unique           6        NaN     2           6          2     5\n",
       "top     1941/10/13        NaN  True       Starr    Beatles  Paul\n",
       "freq             1        NaN     4           1          4     2\n",
       "mean           NaN  77.000000   NaN         NaN        NaN   NaN\n",
       "std            NaN   0.816497   NaN         NaN        NaN   NaN\n",
       "min            NaN  76.000000   NaN         NaN        NaN   NaN\n",
       "25%            NaN  76.750000   NaN         NaN        NaN   NaN\n",
       "50%            NaN  77.000000   NaN         NaN        NaN   NaN\n",
       "75%            NaN  77.250000   NaN         NaN        NaN   NaN\n",
       "max            NaN  78.000000   NaN         NaN        NaN   NaN"
      ]
     },
     "execution_count": 67,
     "metadata": {},
     "output_type": "execute_result"
    }
   ],
   "source": [
    "df2.describe(include=\"all\")"
   ]
  },
  {
   "cell_type": "markdown",
   "metadata": {
    "deletable": true,
    "editable": true
   },
   "source": [
    "### データフレームの計算"
   ]
  },
  {
   "cell_type": "code",
   "execution_count": 68,
   "metadata": {
    "collapsed": false,
    "deletable": true,
    "editable": true
   },
   "outputs": [
    {
     "data": {
      "text/html": [
       "<div>\n",
       "<style>\n",
       "    .dataframe thead tr:only-child th {\n",
       "        text-align: right;\n",
       "    }\n",
       "\n",
       "    .dataframe thead th {\n",
       "        text-align: left;\n",
       "    }\n",
       "\n",
       "    .dataframe tbody tr th {\n",
       "        vertical-align: top;\n",
       "    }\n",
       "</style>\n",
       "<table border=\"1\" class=\"dataframe\">\n",
       "  <thead>\n",
       "    <tr style=\"text-align: right;\">\n",
       "      <th></th>\n",
       "      <th>A</th>\n",
       "      <th>B</th>\n",
       "      <th>C</th>\n",
       "    </tr>\n",
       "  </thead>\n",
       "  <tbody>\n",
       "    <tr>\n",
       "      <th>0</th>\n",
       "      <td>1</td>\n",
       "      <td>2</td>\n",
       "      <td>3</td>\n",
       "    </tr>\n",
       "    <tr>\n",
       "      <th>1</th>\n",
       "      <td>10</td>\n",
       "      <td>20</td>\n",
       "      <td>30</td>\n",
       "    </tr>\n",
       "    <tr>\n",
       "      <th>2</th>\n",
       "      <td>100</td>\n",
       "      <td>200</td>\n",
       "      <td>300</td>\n",
       "    </tr>\n",
       "    <tr>\n",
       "      <th>3</th>\n",
       "      <td>1000</td>\n",
       "      <td>2000</td>\n",
       "      <td>3000</td>\n",
       "    </tr>\n",
       "  </tbody>\n",
       "</table>\n",
       "</div>"
      ],
      "text/plain": [
       "      A     B     C\n",
       "0     1     2     3\n",
       "1    10    20    30\n",
       "2   100   200   300\n",
       "3  1000  2000  3000"
      ]
     },
     "execution_count": 68,
     "metadata": {},
     "output_type": "execute_result"
    }
   ],
   "source": [
    "df1"
   ]
  },
  {
   "cell_type": "markdown",
   "metadata": {
    "deletable": true,
    "editable": true
   },
   "source": [
    "* スカラー値との計算"
   ]
  },
  {
   "cell_type": "code",
   "execution_count": 69,
   "metadata": {
    "collapsed": false,
    "deletable": true,
    "editable": true
   },
   "outputs": [
    {
     "data": {
      "text/html": [
       "<div>\n",
       "<style>\n",
       "    .dataframe thead tr:only-child th {\n",
       "        text-align: right;\n",
       "    }\n",
       "\n",
       "    .dataframe thead th {\n",
       "        text-align: left;\n",
       "    }\n",
       "\n",
       "    .dataframe tbody tr th {\n",
       "        vertical-align: top;\n",
       "    }\n",
       "</style>\n",
       "<table border=\"1\" class=\"dataframe\">\n",
       "  <thead>\n",
       "    <tr style=\"text-align: right;\">\n",
       "      <th></th>\n",
       "      <th>A</th>\n",
       "      <th>B</th>\n",
       "      <th>C</th>\n",
       "    </tr>\n",
       "  </thead>\n",
       "  <tbody>\n",
       "    <tr>\n",
       "      <th>0</th>\n",
       "      <td>10</td>\n",
       "      <td>20</td>\n",
       "      <td>30</td>\n",
       "    </tr>\n",
       "    <tr>\n",
       "      <th>1</th>\n",
       "      <td>100</td>\n",
       "      <td>200</td>\n",
       "      <td>300</td>\n",
       "    </tr>\n",
       "    <tr>\n",
       "      <th>2</th>\n",
       "      <td>1000</td>\n",
       "      <td>2000</td>\n",
       "      <td>3000</td>\n",
       "    </tr>\n",
       "    <tr>\n",
       "      <th>3</th>\n",
       "      <td>10000</td>\n",
       "      <td>20000</td>\n",
       "      <td>30000</td>\n",
       "    </tr>\n",
       "  </tbody>\n",
       "</table>\n",
       "</div>"
      ],
      "text/plain": [
       "       A      B      C\n",
       "0     10     20     30\n",
       "1    100    200    300\n",
       "2   1000   2000   3000\n",
       "3  10000  20000  30000"
      ]
     },
     "execution_count": 69,
     "metadata": {},
     "output_type": "execute_result"
    }
   ],
   "source": [
    "df1 * 10  # スカラー値との四則演算は各要素に対して行われる"
   ]
  },
  {
   "cell_type": "markdown",
   "metadata": {
    "deletable": true,
    "editable": true
   },
   "source": [
    "上記の計算はもとのデータが変更されるのではなく、新しいデータフレームとして結果が返されます。  \n",
    "そのため、データの値を更新したい場合は、\n",
    "```df = df * 10```のように結果を元のデータフレームに代入する必要があります。"
   ]
  },
  {
   "cell_type": "markdown",
   "metadata": {
    "deletable": true,
    "editable": true
   },
   "source": [
    "* リストやSeriesとの計算"
   ]
  },
  {
   "cell_type": "code",
   "execution_count": 70,
   "metadata": {
    "collapsed": false,
    "deletable": true,
    "editable": true,
    "scrolled": true
   },
   "outputs": [
    {
     "data": {
      "text/html": [
       "<div>\n",
       "<style>\n",
       "    .dataframe thead tr:only-child th {\n",
       "        text-align: right;\n",
       "    }\n",
       "\n",
       "    .dataframe thead th {\n",
       "        text-align: left;\n",
       "    }\n",
       "\n",
       "    .dataframe tbody tr th {\n",
       "        vertical-align: top;\n",
       "    }\n",
       "</style>\n",
       "<table border=\"1\" class=\"dataframe\">\n",
       "  <thead>\n",
       "    <tr style=\"text-align: right;\">\n",
       "      <th></th>\n",
       "      <th>A</th>\n",
       "      <th>B</th>\n",
       "      <th>C</th>\n",
       "    </tr>\n",
       "  </thead>\n",
       "  <tbody>\n",
       "    <tr>\n",
       "      <th>0</th>\n",
       "      <td>2</td>\n",
       "      <td>4</td>\n",
       "      <td>6</td>\n",
       "    </tr>\n",
       "    <tr>\n",
       "      <th>1</th>\n",
       "      <td>11</td>\n",
       "      <td>22</td>\n",
       "      <td>33</td>\n",
       "    </tr>\n",
       "    <tr>\n",
       "      <th>2</th>\n",
       "      <td>101</td>\n",
       "      <td>202</td>\n",
       "      <td>303</td>\n",
       "    </tr>\n",
       "    <tr>\n",
       "      <th>3</th>\n",
       "      <td>1001</td>\n",
       "      <td>2002</td>\n",
       "      <td>3003</td>\n",
       "    </tr>\n",
       "  </tbody>\n",
       "</table>\n",
       "</div>"
      ],
      "text/plain": [
       "      A     B     C\n",
       "0     2     4     6\n",
       "1    11    22    33\n",
       "2   101   202   303\n",
       "3  1001  2002  3003"
      ]
     },
     "execution_count": 70,
     "metadata": {},
     "output_type": "execute_result"
    }
   ],
   "source": [
    "L = [1, 2, 3]\n",
    "df1 + L"
   ]
  },
  {
   "cell_type": "markdown",
   "metadata": {
    "deletable": true,
    "editable": true
   },
   "source": [
    "各行ごとに計算が適用されます。（ブロードキャスト）  \n",
    "下の例ではデータの要素数が揃っていないのでエラーになります。"
   ]
  },
  {
   "cell_type": "code",
   "execution_count": 71,
   "metadata": {
    "collapsed": false,
    "deletable": true,
    "editable": true
   },
   "outputs": [],
   "source": [
    "# L = [1, 2, 3, 4]\n",
    "# df + L"
   ]
  },
  {
   "cell_type": "markdown",
   "metadata": {
    "deletable": true,
    "editable": true
   },
   "source": [
    "__Q. 横方向にブロードキャストするにはどうするか？ __\n",
    "  \n",
    "A. df.Tを使い行と列を転置させてから計算し、その後、転置させてもとの形に戻します。"
   ]
  },
  {
   "cell_type": "code",
   "execution_count": 72,
   "metadata": {
    "collapsed": false,
    "deletable": true,
    "editable": true
   },
   "outputs": [
    {
     "data": {
      "text/html": [
       "<div>\n",
       "<style>\n",
       "    .dataframe thead tr:only-child th {\n",
       "        text-align: right;\n",
       "    }\n",
       "\n",
       "    .dataframe thead th {\n",
       "        text-align: left;\n",
       "    }\n",
       "\n",
       "    .dataframe tbody tr th {\n",
       "        vertical-align: top;\n",
       "    }\n",
       "</style>\n",
       "<table border=\"1\" class=\"dataframe\">\n",
       "  <thead>\n",
       "    <tr style=\"text-align: right;\">\n",
       "      <th></th>\n",
       "      <th>A</th>\n",
       "      <th>B</th>\n",
       "      <th>C</th>\n",
       "    </tr>\n",
       "  </thead>\n",
       "  <tbody>\n",
       "    <tr>\n",
       "      <th>0</th>\n",
       "      <td>2</td>\n",
       "      <td>3</td>\n",
       "      <td>4</td>\n",
       "    </tr>\n",
       "    <tr>\n",
       "      <th>1</th>\n",
       "      <td>12</td>\n",
       "      <td>22</td>\n",
       "      <td>32</td>\n",
       "    </tr>\n",
       "    <tr>\n",
       "      <th>2</th>\n",
       "      <td>103</td>\n",
       "      <td>203</td>\n",
       "      <td>303</td>\n",
       "    </tr>\n",
       "    <tr>\n",
       "      <th>3</th>\n",
       "      <td>1004</td>\n",
       "      <td>2004</td>\n",
       "      <td>3004</td>\n",
       "    </tr>\n",
       "  </tbody>\n",
       "</table>\n",
       "</div>"
      ],
      "text/plain": [
       "      A     B     C\n",
       "0     2     3     4\n",
       "1    12    22    32\n",
       "2   103   203   303\n",
       "3  1004  2004  3004"
      ]
     },
     "execution_count": 72,
     "metadata": {},
     "output_type": "execute_result"
    }
   ],
   "source": [
    "L = [1, 2, 3, 4]\n",
    "(df1.T + L).T"
   ]
  },
  {
   "cell_type": "code",
   "execution_count": null,
   "metadata": {
    "collapsed": true,
    "deletable": true,
    "editable": true
   },
   "outputs": [],
   "source": []
  },
  {
   "cell_type": "markdown",
   "metadata": {
    "deletable": true,
    "editable": true
   },
   "source": [
    "* データフレーム同士の計算  \n",
    "データフレームの形状が同じであれば、要素ごとに計算できますが、あまり利用機会はないと思いますので省略します。  \n",
    "また、行列の内積のような計算も可能ですが、本格的な行列の数値計算であれば numpy を使った方が便利です。\n"
   ]
  },
  {
   "cell_type": "markdown",
   "metadata": {
    "deletable": true,
    "editable": true
   },
   "source": [
    "### 集計関数"
   ]
  },
  {
   "cell_type": "code",
   "execution_count": 73,
   "metadata": {
    "collapsed": false,
    "deletable": true,
    "editable": true
   },
   "outputs": [
    {
     "data": {
      "text/plain": [
       "A    1111\n",
       "B    2222\n",
       "C    3333\n",
       "dtype: int64"
      ]
     },
     "execution_count": 73,
     "metadata": {},
     "output_type": "execute_result"
    }
   ],
   "source": [
    "# 合計を求める。\n",
    "df1.sum()  # デフォルトでは列ごとの合計 (axis=0)"
   ]
  },
  {
   "cell_type": "code",
   "execution_count": 74,
   "metadata": {
    "collapsed": false,
    "deletable": true,
    "editable": true
   },
   "outputs": [
    {
     "data": {
      "text/plain": [
       "0       6\n",
       "1      60\n",
       "2     600\n",
       "3    6000\n",
       "dtype: int64"
      ]
     },
     "execution_count": 74,
     "metadata": {},
     "output_type": "execute_result"
    }
   ],
   "source": [
    "df1.sum(axis=1) # 行ごとの合計"
   ]
  },
  {
   "cell_type": "code",
   "execution_count": 75,
   "metadata": {
    "collapsed": false,
    "deletable": true,
    "editable": true
   },
   "outputs": [
    {
     "data": {
      "text/plain": [
       "A    277.75\n",
       "B    555.50\n",
       "C    833.25\n",
       "dtype: float64"
      ]
     },
     "execution_count": 75,
     "metadata": {},
     "output_type": "execute_result"
    }
   ],
   "source": [
    "df1.mean() # 平均"
   ]
  },
  {
   "cell_type": "code",
   "execution_count": 76,
   "metadata": {
    "collapsed": false,
    "deletable": true,
    "editable": true
   },
   "outputs": [
    {
     "data": {
      "text/html": [
       "<div>\n",
       "<style>\n",
       "    .dataframe thead tr:only-child th {\n",
       "        text-align: right;\n",
       "    }\n",
       "\n",
       "    .dataframe thead th {\n",
       "        text-align: left;\n",
       "    }\n",
       "\n",
       "    .dataframe tbody tr th {\n",
       "        vertical-align: top;\n",
       "    }\n",
       "</style>\n",
       "<table border=\"1\" class=\"dataframe\">\n",
       "  <thead>\n",
       "    <tr style=\"text-align: right;\">\n",
       "      <th></th>\n",
       "      <th>A</th>\n",
       "      <th>B</th>\n",
       "      <th>C</th>\n",
       "    </tr>\n",
       "  </thead>\n",
       "  <tbody>\n",
       "    <tr>\n",
       "      <th>0</th>\n",
       "      <td>1</td>\n",
       "      <td>2</td>\n",
       "      <td>3</td>\n",
       "    </tr>\n",
       "    <tr>\n",
       "      <th>1</th>\n",
       "      <td>11</td>\n",
       "      <td>22</td>\n",
       "      <td>33</td>\n",
       "    </tr>\n",
       "    <tr>\n",
       "      <th>2</th>\n",
       "      <td>111</td>\n",
       "      <td>222</td>\n",
       "      <td>333</td>\n",
       "    </tr>\n",
       "    <tr>\n",
       "      <th>3</th>\n",
       "      <td>1111</td>\n",
       "      <td>2222</td>\n",
       "      <td>3333</td>\n",
       "    </tr>\n",
       "  </tbody>\n",
       "</table>\n",
       "</div>"
      ],
      "text/plain": [
       "      A     B     C\n",
       "0     1     2     3\n",
       "1    11    22    33\n",
       "2   111   222   333\n",
       "3  1111  2222  3333"
      ]
     },
     "execution_count": 76,
     "metadata": {},
     "output_type": "execute_result"
    }
   ],
   "source": [
    "df1.cumsum(axis=0) # 累積 (上で紹介した他の集計関数と異なり、結果はデータフレームで返ってきます。"
   ]
  },
  {
   "cell_type": "markdown",
   "metadata": {
    "deletable": true,
    "editable": true
   },
   "source": [
    "### ソート"
   ]
  },
  {
   "cell_type": "markdown",
   "metadata": {
    "deletable": true,
    "editable": true
   },
   "source": [
    "* indexでソート (sort_index)"
   ]
  },
  {
   "cell_type": "code",
   "execution_count": 77,
   "metadata": {
    "collapsed": false,
    "deletable": true,
    "editable": true
   },
   "outputs": [
    {
     "data": {
      "text/html": [
       "<div>\n",
       "<style>\n",
       "    .dataframe thead tr:only-child th {\n",
       "        text-align: right;\n",
       "    }\n",
       "\n",
       "    .dataframe thead th {\n",
       "        text-align: left;\n",
       "    }\n",
       "\n",
       "    .dataframe tbody tr th {\n",
       "        vertical-align: top;\n",
       "    }\n",
       "</style>\n",
       "<table border=\"1\" class=\"dataframe\">\n",
       "  <thead>\n",
       "    <tr style=\"text-align: right;\">\n",
       "      <th></th>\n",
       "      <th>A</th>\n",
       "      <th>B</th>\n",
       "      <th>C</th>\n",
       "      <th>D</th>\n",
       "      <th>E</th>\n",
       "      <th>F</th>\n",
       "      <th>G</th>\n",
       "    </tr>\n",
       "    <tr>\n",
       "      <th>data_idx</th>\n",
       "      <th></th>\n",
       "      <th></th>\n",
       "      <th></th>\n",
       "      <th></th>\n",
       "      <th></th>\n",
       "      <th></th>\n",
       "      <th></th>\n",
       "    </tr>\n",
       "  </thead>\n",
       "  <tbody>\n",
       "    <tr>\n",
       "      <th>data_9</th>\n",
       "      <td>81</td>\n",
       "      <td>35</td>\n",
       "      <td>46.0</td>\n",
       "      <td>0.5198</td>\n",
       "      <td>422.065428</td>\n",
       "      <td>0.0123</td>\n",
       "      <td>-0.0054</td>\n",
       "    </tr>\n",
       "    <tr>\n",
       "      <th>data_8</th>\n",
       "      <td>39</td>\n",
       "      <td>32</td>\n",
       "      <td>7.0</td>\n",
       "      <td>0.5783</td>\n",
       "      <td>2.079866</td>\n",
       "      <td>0.0271</td>\n",
       "      <td>-0.0013</td>\n",
       "    </tr>\n",
       "    <tr>\n",
       "      <th>data_7</th>\n",
       "      <td>39</td>\n",
       "      <td>-32</td>\n",
       "      <td>7.0</td>\n",
       "      <td>0.5783</td>\n",
       "      <td>136.917725</td>\n",
       "      <td>0.0112</td>\n",
       "      <td>-0.0278</td>\n",
       "    </tr>\n",
       "    <tr>\n",
       "      <th>data_6</th>\n",
       "      <td>137</td>\n",
       "      <td>-50</td>\n",
       "      <td>NaN</td>\n",
       "      <td>0.5330</td>\n",
       "      <td>1603.301689</td>\n",
       "      <td>0.0061</td>\n",
       "      <td>-0.0221</td>\n",
       "    </tr>\n",
       "    <tr>\n",
       "      <th>data_5</th>\n",
       "      <td>59</td>\n",
       "      <td>30</td>\n",
       "      <td>29.0</td>\n",
       "      <td>0.5404</td>\n",
       "      <td>138.188987</td>\n",
       "      <td>0.0222</td>\n",
       "      <td>-0.0439</td>\n",
       "    </tr>\n",
       "  </tbody>\n",
       "</table>\n",
       "</div>"
      ],
      "text/plain": [
       "            A   B     C       D            E       F       G\n",
       "data_idx                                                    \n",
       "data_9     81  35  46.0  0.5198   422.065428  0.0123 -0.0054\n",
       "data_8     39  32   7.0  0.5783     2.079866  0.0271 -0.0013\n",
       "data_7     39 -32   7.0  0.5783   136.917725  0.0112 -0.0278\n",
       "data_6    137 -50   NaN  0.5330  1603.301689  0.0061 -0.0221\n",
       "data_5     59  30  29.0  0.5404   138.188987  0.0222 -0.0439"
      ]
     },
     "execution_count": 77,
     "metadata": {},
     "output_type": "execute_result"
    }
   ],
   "source": [
    "# ascendingをFalseにすると降順でソートされます。(defaultは昇順=小さい順)\n",
    "df3.sort_index(ascending=False).head()"
   ]
  },
  {
   "cell_type": "markdown",
   "metadata": {
    "deletable": true,
    "editable": true
   },
   "source": [
    "inplace=Trueオプションをつけると、もとのデータフレームを書き換えます（破壊的変更）"
   ]
  },
  {
   "cell_type": "markdown",
   "metadata": {
    "deletable": true,
    "editable": true
   },
   "source": [
    "* 要素の値でのソート (sort_values)  \n",
    "```df2.sort_values(by, axis=0, ascending=True, inplace=False, kind='quicksort', na_position='last')```"
   ]
  },
  {
   "cell_type": "code",
   "execution_count": 78,
   "metadata": {
    "collapsed": false,
    "deletable": true,
    "editable": true
   },
   "outputs": [
    {
     "data": {
      "text/html": [
       "<div>\n",
       "<style>\n",
       "    .dataframe thead tr:only-child th {\n",
       "        text-align: right;\n",
       "    }\n",
       "\n",
       "    .dataframe thead th {\n",
       "        text-align: left;\n",
       "    }\n",
       "\n",
       "    .dataframe tbody tr th {\n",
       "        vertical-align: top;\n",
       "    }\n",
       "</style>\n",
       "<table border=\"1\" class=\"dataframe\">\n",
       "  <thead>\n",
       "    <tr style=\"text-align: right;\">\n",
       "      <th></th>\n",
       "      <th>DOB</th>\n",
       "      <th>age</th>\n",
       "      <th>alive</th>\n",
       "      <th>family_name</th>\n",
       "      <th>group_name</th>\n",
       "      <th>name</th>\n",
       "    </tr>\n",
       "  </thead>\n",
       "  <tbody>\n",
       "    <tr>\n",
       "      <th>0</th>\n",
       "      <td>1940/10/09</td>\n",
       "      <td>NaN</td>\n",
       "      <td>False</td>\n",
       "      <td>Lennon</td>\n",
       "      <td>Beatles</td>\n",
       "      <td>John</td>\n",
       "    </tr>\n",
       "    <tr>\n",
       "      <th>2</th>\n",
       "      <td>1943/02/25</td>\n",
       "      <td>NaN</td>\n",
       "      <td>False</td>\n",
       "      <td>Harrison</td>\n",
       "      <td>Beatles</td>\n",
       "      <td>George</td>\n",
       "    </tr>\n",
       "    <tr>\n",
       "      <th>1</th>\n",
       "      <td>1942/026/18</td>\n",
       "      <td>76.0</td>\n",
       "      <td>True</td>\n",
       "      <td>McCartney</td>\n",
       "      <td>Beatles</td>\n",
       "      <td>Paul</td>\n",
       "    </tr>\n",
       "    <tr>\n",
       "      <th>4</th>\n",
       "      <td>1941/10/13</td>\n",
       "      <td>77.0</td>\n",
       "      <td>True</td>\n",
       "      <td>Simon</td>\n",
       "      <td>Simon_and_Garfunkel</td>\n",
       "      <td>Paul</td>\n",
       "    </tr>\n",
       "    <tr>\n",
       "      <th>5</th>\n",
       "      <td>1941/11/05</td>\n",
       "      <td>77.0</td>\n",
       "      <td>True</td>\n",
       "      <td>Garfunkel</td>\n",
       "      <td>Simon_and_Garfunkel</td>\n",
       "      <td>Art</td>\n",
       "    </tr>\n",
       "    <tr>\n",
       "      <th>3</th>\n",
       "      <td>1940/07/07</td>\n",
       "      <td>78.0</td>\n",
       "      <td>True</td>\n",
       "      <td>Starr</td>\n",
       "      <td>Beatles</td>\n",
       "      <td>Ringo</td>\n",
       "    </tr>\n",
       "  </tbody>\n",
       "</table>\n",
       "</div>"
      ],
      "text/plain": [
       "           DOB   age  alive family_name           group_name    name\n",
       "0   1940/10/09   NaN  False      Lennon              Beatles    John\n",
       "2   1943/02/25   NaN  False    Harrison              Beatles  George\n",
       "1  1942/026/18  76.0   True   McCartney              Beatles    Paul\n",
       "4   1941/10/13  77.0   True       Simon  Simon_and_Garfunkel    Paul\n",
       "5   1941/11/05  77.0   True   Garfunkel  Simon_and_Garfunkel     Art\n",
       "3   1940/07/07  78.0   True       Starr              Beatles   Ringo"
      ]
     },
     "execution_count": 78,
     "metadata": {},
     "output_type": "execute_result"
    }
   ],
   "source": [
    "df2.sort_values(by=\"age\", na_position=\"first\")"
   ]
  },
  {
   "cell_type": "markdown",
   "metadata": {
    "deletable": true,
    "editable": true
   },
   "source": [
    "* 複数項目でのソート  \n",
    "C列を昇順、D列を降順に並び替えます"
   ]
  },
  {
   "cell_type": "code",
   "execution_count": 79,
   "metadata": {
    "collapsed": false,
    "deletable": true,
    "editable": true,
    "scrolled": true
   },
   "outputs": [
    {
     "data": {
      "text/html": [
       "<div>\n",
       "<style>\n",
       "    .dataframe thead tr:only-child th {\n",
       "        text-align: right;\n",
       "    }\n",
       "\n",
       "    .dataframe thead th {\n",
       "        text-align: left;\n",
       "    }\n",
       "\n",
       "    .dataframe tbody tr th {\n",
       "        vertical-align: top;\n",
       "    }\n",
       "</style>\n",
       "<table border=\"1\" class=\"dataframe\">\n",
       "  <thead>\n",
       "    <tr style=\"text-align: right;\">\n",
       "      <th></th>\n",
       "      <th>A</th>\n",
       "      <th>B</th>\n",
       "      <th>C</th>\n",
       "      <th>D</th>\n",
       "      <th>E</th>\n",
       "      <th>F</th>\n",
       "      <th>G</th>\n",
       "    </tr>\n",
       "    <tr>\n",
       "      <th>data_idx</th>\n",
       "      <th></th>\n",
       "      <th></th>\n",
       "      <th></th>\n",
       "      <th></th>\n",
       "      <th></th>\n",
       "      <th></th>\n",
       "      <th></th>\n",
       "    </tr>\n",
       "  </thead>\n",
       "  <tbody>\n",
       "    <tr>\n",
       "      <th>data_26</th>\n",
       "      <td>15</td>\n",
       "      <td>-15</td>\n",
       "      <td>0.0</td>\n",
       "      <td>0.5000</td>\n",
       "      <td>0.000000</td>\n",
       "      <td>0.0130</td>\n",
       "      <td>-0.0999</td>\n",
       "    </tr>\n",
       "    <tr>\n",
       "      <th>data_27</th>\n",
       "      <td>14</td>\n",
       "      <td>-13</td>\n",
       "      <td>1.0</td>\n",
       "      <td>0.5531</td>\n",
       "      <td>0.369251</td>\n",
       "      <td>0.0182</td>\n",
       "      <td>-0.0337</td>\n",
       "    </tr>\n",
       "    <tr>\n",
       "      <th>data_19</th>\n",
       "      <td>6</td>\n",
       "      <td>-2</td>\n",
       "      <td>4.0</td>\n",
       "      <td>0.5453</td>\n",
       "      <td>72.282932</td>\n",
       "      <td>0.0220</td>\n",
       "      <td>-0.0707</td>\n",
       "    </tr>\n",
       "    <tr>\n",
       "      <th>data_18</th>\n",
       "      <td>11</td>\n",
       "      <td>7</td>\n",
       "      <td>4.0</td>\n",
       "      <td>0.5000</td>\n",
       "      <td>69.762676</td>\n",
       "      <td>0.0330</td>\n",
       "      <td>0.0000</td>\n",
       "    </tr>\n",
       "    <tr>\n",
       "      <th>data_7</th>\n",
       "      <td>39</td>\n",
       "      <td>-32</td>\n",
       "      <td>7.0</td>\n",
       "      <td>0.5783</td>\n",
       "      <td>136.917725</td>\n",
       "      <td>0.0112</td>\n",
       "      <td>-0.0278</td>\n",
       "    </tr>\n",
       "    <tr>\n",
       "      <th>data_8</th>\n",
       "      <td>39</td>\n",
       "      <td>32</td>\n",
       "      <td>7.0</td>\n",
       "      <td>0.5783</td>\n",
       "      <td>2.079866</td>\n",
       "      <td>0.0271</td>\n",
       "      <td>-0.0013</td>\n",
       "    </tr>\n",
       "    <tr>\n",
       "      <th>data_24</th>\n",
       "      <td>26</td>\n",
       "      <td>-18</td>\n",
       "      <td>8.0</td>\n",
       "      <td>0.7498</td>\n",
       "      <td>NaN</td>\n",
       "      <td>0.0193</td>\n",
       "      <td>-0.0026</td>\n",
       "    </tr>\n",
       "    <tr>\n",
       "      <th>data_25</th>\n",
       "      <td>25</td>\n",
       "      <td>16</td>\n",
       "      <td>9.0</td>\n",
       "      <td>0.7223</td>\n",
       "      <td>50.758144</td>\n",
       "      <td>0.0235</td>\n",
       "      <td>-0.0065</td>\n",
       "    </tr>\n",
       "    <tr>\n",
       "      <th>data_2</th>\n",
       "      <td>17</td>\n",
       "      <td>3</td>\n",
       "      <td>14.0</td>\n",
       "      <td>0.7112</td>\n",
       "      <td>36.759859</td>\n",
       "      <td>0.0263</td>\n",
       "      <td>0.0009</td>\n",
       "    </tr>\n",
       "    <tr>\n",
       "      <th>data_20</th>\n",
       "      <td>20</td>\n",
       "      <td>-4</td>\n",
       "      <td>16.0</td>\n",
       "      <td>0.5714</td>\n",
       "      <td>3.293830</td>\n",
       "      <td>0.0469</td>\n",
       "      <td>-0.0441</td>\n",
       "    </tr>\n",
       "  </tbody>\n",
       "</table>\n",
       "</div>"
      ],
      "text/plain": [
       "           A   B     C       D           E       F       G\n",
       "data_idx                                                  \n",
       "data_26   15 -15   0.0  0.5000    0.000000  0.0130 -0.0999\n",
       "data_27   14 -13   1.0  0.5531    0.369251  0.0182 -0.0337\n",
       "data_19    6  -2   4.0  0.5453   72.282932  0.0220 -0.0707\n",
       "data_18   11   7   4.0  0.5000   69.762676  0.0330  0.0000\n",
       "data_7    39 -32   7.0  0.5783  136.917725  0.0112 -0.0278\n",
       "data_8    39  32   7.0  0.5783    2.079866  0.0271 -0.0013\n",
       "data_24   26 -18   8.0  0.7498         NaN  0.0193 -0.0026\n",
       "data_25   25  16   9.0  0.7223   50.758144  0.0235 -0.0065\n",
       "data_2    17   3  14.0  0.7112   36.759859  0.0263  0.0009\n",
       "data_20   20  -4  16.0  0.5714    3.293830  0.0469 -0.0441"
      ]
     },
     "execution_count": 79,
     "metadata": {},
     "output_type": "execute_result"
    }
   ],
   "source": [
    "df3.sort_values(by=[\"C\", \"D\"], ascending=[True, False]).head(10)"
   ]
  },
  {
   "cell_type": "markdown",
   "metadata": {
    "deletable": true,
    "editable": true
   },
   "source": [
    "* 列の並び替え (あまり使用する機会はないかもしれませんが)"
   ]
  },
  {
   "cell_type": "code",
   "execution_count": 80,
   "metadata": {
    "collapsed": false,
    "deletable": true,
    "editable": true
   },
   "outputs": [
    {
     "data": {
      "text/html": [
       "<div>\n",
       "<style>\n",
       "    .dataframe thead tr:only-child th {\n",
       "        text-align: right;\n",
       "    }\n",
       "\n",
       "    .dataframe thead th {\n",
       "        text-align: left;\n",
       "    }\n",
       "\n",
       "    .dataframe tbody tr th {\n",
       "        vertical-align: top;\n",
       "    }\n",
       "</style>\n",
       "<table border=\"1\" class=\"dataframe\">\n",
       "  <thead>\n",
       "    <tr style=\"text-align: right;\">\n",
       "      <th></th>\n",
       "      <th>A</th>\n",
       "      <th>B</th>\n",
       "      <th>C</th>\n",
       "      <th>D</th>\n",
       "      <th>E</th>\n",
       "      <th>F</th>\n",
       "      <th>G</th>\n",
       "    </tr>\n",
       "    <tr>\n",
       "      <th>data_idx</th>\n",
       "      <th></th>\n",
       "      <th></th>\n",
       "      <th></th>\n",
       "      <th></th>\n",
       "      <th></th>\n",
       "      <th></th>\n",
       "      <th></th>\n",
       "    </tr>\n",
       "  </thead>\n",
       "  <tbody>\n",
       "    <tr>\n",
       "      <th>data_1</th>\n",
       "      <td>58</td>\n",
       "      <td>-27</td>\n",
       "      <td>31.0</td>\n",
       "      <td>0.6028</td>\n",
       "      <td>73.922054</td>\n",
       "      <td>0.0179</td>\n",
       "      <td>-0.0102</td>\n",
       "    </tr>\n",
       "    <tr>\n",
       "      <th>data_10</th>\n",
       "      <td>109</td>\n",
       "      <td>-53</td>\n",
       "      <td>56.0</td>\n",
       "      <td>0.5000</td>\n",
       "      <td>575.585790</td>\n",
       "      <td>0.0346</td>\n",
       "      <td>0.0000</td>\n",
       "    </tr>\n",
       "    <tr>\n",
       "      <th>data_11</th>\n",
       "      <td>77</td>\n",
       "      <td>-44</td>\n",
       "      <td>33.0</td>\n",
       "      <td>0.6281</td>\n",
       "      <td>144.838806</td>\n",
       "      <td>0.0343</td>\n",
       "      <td>-0.0411</td>\n",
       "    </tr>\n",
       "    <tr>\n",
       "      <th>data_12</th>\n",
       "      <td>181</td>\n",
       "      <td>126</td>\n",
       "      <td>55.0</td>\n",
       "      <td>0.5000</td>\n",
       "      <td>NaN</td>\n",
       "      <td>0.0551</td>\n",
       "      <td>0.0000</td>\n",
       "    </tr>\n",
       "    <tr>\n",
       "      <th>data_13</th>\n",
       "      <td>91</td>\n",
       "      <td>-46</td>\n",
       "      <td>45.0</td>\n",
       "      <td>0.5220</td>\n",
       "      <td>896.439718</td>\n",
       "      <td>0.0044</td>\n",
       "      <td>-0.0082</td>\n",
       "    </tr>\n",
       "  </tbody>\n",
       "</table>\n",
       "</div>"
      ],
      "text/plain": [
       "            A    B     C       D           E       F       G\n",
       "data_idx                                                    \n",
       "data_1     58  -27  31.0  0.6028   73.922054  0.0179 -0.0102\n",
       "data_10   109  -53  56.0  0.5000  575.585790  0.0346  0.0000\n",
       "data_11    77  -44  33.0  0.6281  144.838806  0.0343 -0.0411\n",
       "data_12   181  126  55.0  0.5000         NaN  0.0551  0.0000\n",
       "data_13    91  -46  45.0  0.5220  896.439718  0.0044 -0.0082"
      ]
     },
     "execution_count": 80,
     "metadata": {},
     "output_type": "execute_result"
    }
   ],
   "source": [
    "df3.head() # 元データ"
   ]
  },
  {
   "cell_type": "code",
   "execution_count": 81,
   "metadata": {
    "collapsed": false,
    "deletable": true,
    "editable": true,
    "scrolled": true
   },
   "outputs": [
    {
     "data": {
      "text/html": [
       "<div>\n",
       "<style>\n",
       "    .dataframe thead tr:only-child th {\n",
       "        text-align: right;\n",
       "    }\n",
       "\n",
       "    .dataframe thead th {\n",
       "        text-align: left;\n",
       "    }\n",
       "\n",
       "    .dataframe tbody tr th {\n",
       "        vertical-align: top;\n",
       "    }\n",
       "</style>\n",
       "<table border=\"1\" class=\"dataframe\">\n",
       "  <thead>\n",
       "    <tr style=\"text-align: right;\">\n",
       "      <th></th>\n",
       "      <th>B</th>\n",
       "      <th>G</th>\n",
       "      <th>F</th>\n",
       "      <th>D</th>\n",
       "      <th>C</th>\n",
       "      <th>A</th>\n",
       "      <th>E</th>\n",
       "    </tr>\n",
       "    <tr>\n",
       "      <th>data_idx</th>\n",
       "      <th></th>\n",
       "      <th></th>\n",
       "      <th></th>\n",
       "      <th></th>\n",
       "      <th></th>\n",
       "      <th></th>\n",
       "      <th></th>\n",
       "    </tr>\n",
       "  </thead>\n",
       "  <tbody>\n",
       "    <tr>\n",
       "      <th>data_1</th>\n",
       "      <td>-27</td>\n",
       "      <td>-0.0102</td>\n",
       "      <td>0.0179</td>\n",
       "      <td>0.6028</td>\n",
       "      <td>31.0</td>\n",
       "      <td>58</td>\n",
       "      <td>73.922054</td>\n",
       "    </tr>\n",
       "    <tr>\n",
       "      <th>data_10</th>\n",
       "      <td>-53</td>\n",
       "      <td>0.0000</td>\n",
       "      <td>0.0346</td>\n",
       "      <td>0.5000</td>\n",
       "      <td>56.0</td>\n",
       "      <td>109</td>\n",
       "      <td>575.585790</td>\n",
       "    </tr>\n",
       "    <tr>\n",
       "      <th>data_11</th>\n",
       "      <td>-44</td>\n",
       "      <td>-0.0411</td>\n",
       "      <td>0.0343</td>\n",
       "      <td>0.6281</td>\n",
       "      <td>33.0</td>\n",
       "      <td>77</td>\n",
       "      <td>144.838806</td>\n",
       "    </tr>\n",
       "    <tr>\n",
       "      <th>data_12</th>\n",
       "      <td>126</td>\n",
       "      <td>0.0000</td>\n",
       "      <td>0.0551</td>\n",
       "      <td>0.5000</td>\n",
       "      <td>55.0</td>\n",
       "      <td>181</td>\n",
       "      <td>NaN</td>\n",
       "    </tr>\n",
       "    <tr>\n",
       "      <th>data_13</th>\n",
       "      <td>-46</td>\n",
       "      <td>-0.0082</td>\n",
       "      <td>0.0044</td>\n",
       "      <td>0.5220</td>\n",
       "      <td>45.0</td>\n",
       "      <td>91</td>\n",
       "      <td>896.439718</td>\n",
       "    </tr>\n",
       "  </tbody>\n",
       "</table>\n",
       "</div>"
      ],
      "text/plain": [
       "            B       G       F       D     C    A           E\n",
       "data_idx                                                    \n",
       "data_1    -27 -0.0102  0.0179  0.6028  31.0   58   73.922054\n",
       "data_10   -53  0.0000  0.0346  0.5000  56.0  109  575.585790\n",
       "data_11   -44 -0.0411  0.0343  0.6281  33.0   77  144.838806\n",
       "data_12   126  0.0000  0.0551  0.5000  55.0  181         NaN\n",
       "data_13   -46 -0.0082  0.0044  0.5220  45.0   91  896.439718"
      ]
     },
     "execution_count": 81,
     "metadata": {},
     "output_type": "execute_result"
    }
   ],
   "source": [
    "df3.sort_values(by=\"data_1\", axis=1).head() # axis=1を指定"
   ]
  },
  {
   "cell_type": "markdown",
   "metadata": {
    "deletable": true,
    "editable": true
   },
   "source": [
    "# データフレームから行・列・要素の抽出"
   ]
  },
  {
   "cell_type": "code",
   "execution_count": 82,
   "metadata": {
    "collapsed": false,
    "deletable": true,
    "editable": true
   },
   "outputs": [
    {
     "data": {
      "text/html": [
       "<div>\n",
       "<style>\n",
       "    .dataframe thead tr:only-child th {\n",
       "        text-align: right;\n",
       "    }\n",
       "\n",
       "    .dataframe thead th {\n",
       "        text-align: left;\n",
       "    }\n",
       "\n",
       "    .dataframe tbody tr th {\n",
       "        vertical-align: top;\n",
       "    }\n",
       "</style>\n",
       "<table border=\"1\" class=\"dataframe\">\n",
       "  <thead>\n",
       "    <tr style=\"text-align: right;\">\n",
       "      <th></th>\n",
       "      <th>A</th>\n",
       "      <th>B</th>\n",
       "      <th>C</th>\n",
       "    </tr>\n",
       "  </thead>\n",
       "  <tbody>\n",
       "    <tr>\n",
       "      <th>0</th>\n",
       "      <td>1</td>\n",
       "      <td>2</td>\n",
       "      <td>3</td>\n",
       "    </tr>\n",
       "    <tr>\n",
       "      <th>1</th>\n",
       "      <td>10</td>\n",
       "      <td>20</td>\n",
       "      <td>30</td>\n",
       "    </tr>\n",
       "    <tr>\n",
       "      <th>2</th>\n",
       "      <td>100</td>\n",
       "      <td>200</td>\n",
       "      <td>300</td>\n",
       "    </tr>\n",
       "    <tr>\n",
       "      <th>3</th>\n",
       "      <td>1000</td>\n",
       "      <td>2000</td>\n",
       "      <td>3000</td>\n",
       "    </tr>\n",
       "  </tbody>\n",
       "</table>\n",
       "</div>"
      ],
      "text/plain": [
       "      A     B     C\n",
       "0     1     2     3\n",
       "1    10    20    30\n",
       "2   100   200   300\n",
       "3  1000  2000  3000"
      ]
     },
     "execution_count": 82,
     "metadata": {},
     "output_type": "execute_result"
    }
   ],
   "source": [
    "df1"
   ]
  },
  {
   "cell_type": "markdown",
   "metadata": {
    "deletable": true,
    "editable": true
   },
   "source": [
    "## 行・列の抽出"
   ]
  },
  {
   "cell_type": "markdown",
   "metadata": {
    "deletable": true,
    "editable": true
   },
   "source": [
    "* 列の抽出"
   ]
  },
  {
   "cell_type": "code",
   "execution_count": 83,
   "metadata": {
    "collapsed": false,
    "deletable": true,
    "editable": true
   },
   "outputs": [
    {
     "data": {
      "text/plain": [
       "0       1\n",
       "1      10\n",
       "2     100\n",
       "3    1000\n",
       "Name: A, dtype: int64"
      ]
     },
     "execution_count": 83,
     "metadata": {},
     "output_type": "execute_result"
    }
   ],
   "source": [
    "df1[\"A\"]  # 結果は Seriesとして返ってきます。"
   ]
  },
  {
   "cell_type": "code",
   "execution_count": 84,
   "metadata": {
    "collapsed": false,
    "deletable": true,
    "editable": true
   },
   "outputs": [
    {
     "data": {
      "text/plain": [
       "0       1\n",
       "1      10\n",
       "2     100\n",
       "3    1000\n",
       "Name: A, dtype: int64"
      ]
     },
     "execution_count": 84,
     "metadata": {},
     "output_type": "execute_result"
    }
   ],
   "source": [
    "df1.A  # こちらでも同様の操作が可能"
   ]
  },
  {
   "cell_type": "code",
   "execution_count": 85,
   "metadata": {
    "collapsed": false,
    "deletable": true,
    "editable": true
   },
   "outputs": [
    {
     "data": {
      "text/html": [
       "<div>\n",
       "<style>\n",
       "    .dataframe thead tr:only-child th {\n",
       "        text-align: right;\n",
       "    }\n",
       "\n",
       "    .dataframe thead th {\n",
       "        text-align: left;\n",
       "    }\n",
       "\n",
       "    .dataframe tbody tr th {\n",
       "        vertical-align: top;\n",
       "    }\n",
       "</style>\n",
       "<table border=\"1\" class=\"dataframe\">\n",
       "  <thead>\n",
       "    <tr style=\"text-align: right;\">\n",
       "      <th></th>\n",
       "      <th>A</th>\n",
       "      <th>C</th>\n",
       "    </tr>\n",
       "  </thead>\n",
       "  <tbody>\n",
       "    <tr>\n",
       "      <th>0</th>\n",
       "      <td>1</td>\n",
       "      <td>3</td>\n",
       "    </tr>\n",
       "    <tr>\n",
       "      <th>1</th>\n",
       "      <td>10</td>\n",
       "      <td>30</td>\n",
       "    </tr>\n",
       "    <tr>\n",
       "      <th>2</th>\n",
       "      <td>100</td>\n",
       "      <td>300</td>\n",
       "    </tr>\n",
       "    <tr>\n",
       "      <th>3</th>\n",
       "      <td>1000</td>\n",
       "      <td>3000</td>\n",
       "    </tr>\n",
       "  </tbody>\n",
       "</table>\n",
       "</div>"
      ],
      "text/plain": [
       "      A     C\n",
       "0     1     3\n",
       "1    10    30\n",
       "2   100   300\n",
       "3  1000  3000"
      ]
     },
     "execution_count": 85,
     "metadata": {},
     "output_type": "execute_result"
    }
   ],
   "source": [
    "df1[[\"A\",\"C\"]]  # 複数の列を抽出する場合にはリストで指定。([]が二重になることに注意。結果はDataFrame)"
   ]
  },
  {
   "cell_type": "code",
   "execution_count": 86,
   "metadata": {
    "collapsed": false,
    "deletable": true,
    "editable": true
   },
   "outputs": [
    {
     "data": {
      "text/html": [
       "<div>\n",
       "<style>\n",
       "    .dataframe thead tr:only-child th {\n",
       "        text-align: right;\n",
       "    }\n",
       "\n",
       "    .dataframe thead th {\n",
       "        text-align: left;\n",
       "    }\n",
       "\n",
       "    .dataframe tbody tr th {\n",
       "        vertical-align: top;\n",
       "    }\n",
       "</style>\n",
       "<table border=\"1\" class=\"dataframe\">\n",
       "  <thead>\n",
       "    <tr style=\"text-align: right;\">\n",
       "      <th></th>\n",
       "      <th>A</th>\n",
       "    </tr>\n",
       "  </thead>\n",
       "  <tbody>\n",
       "    <tr>\n",
       "      <th>0</th>\n",
       "      <td>1</td>\n",
       "    </tr>\n",
       "    <tr>\n",
       "      <th>1</th>\n",
       "      <td>10</td>\n",
       "    </tr>\n",
       "    <tr>\n",
       "      <th>2</th>\n",
       "      <td>100</td>\n",
       "    </tr>\n",
       "    <tr>\n",
       "      <th>3</th>\n",
       "      <td>1000</td>\n",
       "    </tr>\n",
       "  </tbody>\n",
       "</table>\n",
       "</div>"
      ],
      "text/plain": [
       "      A\n",
       "0     1\n",
       "1    10\n",
       "2   100\n",
       "3  1000"
      ]
     },
     "execution_count": 86,
     "metadata": {},
     "output_type": "execute_result"
    }
   ],
   "source": [
    "df1[[\"A\"]]  # A列のみをDataFrameとして抽出。最初の例との違いに注意"
   ]
  },
  {
   "cell_type": "markdown",
   "metadata": {
    "deletable": true,
    "editable": true
   },
   "source": [
    "* 行の抽出 (スライスを使った下記の方法でできるが、おすすめできない。後述の loc または ilocを使うのがよい)"
   ]
  },
  {
   "cell_type": "code",
   "execution_count": 87,
   "metadata": {
    "collapsed": false,
    "deletable": true,
    "editable": true
   },
   "outputs": [
    {
     "data": {
      "text/html": [
       "<div>\n",
       "<style>\n",
       "    .dataframe thead tr:only-child th {\n",
       "        text-align: right;\n",
       "    }\n",
       "\n",
       "    .dataframe thead th {\n",
       "        text-align: left;\n",
       "    }\n",
       "\n",
       "    .dataframe tbody tr th {\n",
       "        vertical-align: top;\n",
       "    }\n",
       "</style>\n",
       "<table border=\"1\" class=\"dataframe\">\n",
       "  <thead>\n",
       "    <tr style=\"text-align: right;\">\n",
       "      <th></th>\n",
       "      <th>A</th>\n",
       "      <th>B</th>\n",
       "      <th>C</th>\n",
       "      <th>D</th>\n",
       "      <th>E</th>\n",
       "      <th>F</th>\n",
       "      <th>G</th>\n",
       "    </tr>\n",
       "    <tr>\n",
       "      <th>data_idx</th>\n",
       "      <th></th>\n",
       "      <th></th>\n",
       "      <th></th>\n",
       "      <th></th>\n",
       "      <th></th>\n",
       "      <th></th>\n",
       "      <th></th>\n",
       "    </tr>\n",
       "  </thead>\n",
       "  <tbody>\n",
       "    <tr>\n",
       "      <th>data_1</th>\n",
       "      <td>58</td>\n",
       "      <td>-27</td>\n",
       "      <td>31.0</td>\n",
       "      <td>0.6028</td>\n",
       "      <td>73.922054</td>\n",
       "      <td>0.0179</td>\n",
       "      <td>-0.0102</td>\n",
       "    </tr>\n",
       "    <tr>\n",
       "      <th>data_10</th>\n",
       "      <td>109</td>\n",
       "      <td>-53</td>\n",
       "      <td>56.0</td>\n",
       "      <td>0.5000</td>\n",
       "      <td>575.585790</td>\n",
       "      <td>0.0346</td>\n",
       "      <td>0.0000</td>\n",
       "    </tr>\n",
       "    <tr>\n",
       "      <th>data_11</th>\n",
       "      <td>77</td>\n",
       "      <td>-44</td>\n",
       "      <td>33.0</td>\n",
       "      <td>0.6281</td>\n",
       "      <td>144.838806</td>\n",
       "      <td>0.0343</td>\n",
       "      <td>-0.0411</td>\n",
       "    </tr>\n",
       "  </tbody>\n",
       "</table>\n",
       "</div>"
      ],
      "text/plain": [
       "            A   B     C       D           E       F       G\n",
       "data_idx                                                   \n",
       "data_1     58 -27  31.0  0.6028   73.922054  0.0179 -0.0102\n",
       "data_10   109 -53  56.0  0.5000  575.585790  0.0346  0.0000\n",
       "data_11    77 -44  33.0  0.6281  144.838806  0.0343 -0.0411"
      ]
     },
     "execution_count": 87,
     "metadata": {},
     "output_type": "execute_result"
    }
   ],
   "source": [
    "# 0から2行目までを抽出\n",
    "df3[0:3]"
   ]
  },
  {
   "cell_type": "markdown",
   "metadata": {
    "deletable": true,
    "editable": true
   },
   "source": [
    "下記はエラーになる。0 という名称の列が存在しないため。"
   ]
  },
  {
   "cell_type": "code",
   "execution_count": 94,
   "metadata": {
    "collapsed": false,
    "deletable": true,
    "editable": true
   },
   "outputs": [],
   "source": [
    "# df3[0]"
   ]
  },
  {
   "cell_type": "code",
   "execution_count": 95,
   "metadata": {
    "collapsed": false,
    "deletable": true,
    "editable": true,
    "scrolled": true
   },
   "outputs": [
    {
     "data": {
      "text/html": [
       "<div>\n",
       "<style>\n",
       "    .dataframe thead tr:only-child th {\n",
       "        text-align: right;\n",
       "    }\n",
       "\n",
       "    .dataframe thead th {\n",
       "        text-align: left;\n",
       "    }\n",
       "\n",
       "    .dataframe tbody tr th {\n",
       "        vertical-align: top;\n",
       "    }\n",
       "</style>\n",
       "<table border=\"1\" class=\"dataframe\">\n",
       "  <thead>\n",
       "    <tr style=\"text-align: right;\">\n",
       "      <th></th>\n",
       "      <th>A</th>\n",
       "      <th>B</th>\n",
       "      <th>C</th>\n",
       "      <th>D</th>\n",
       "      <th>E</th>\n",
       "      <th>F</th>\n",
       "      <th>G</th>\n",
       "    </tr>\n",
       "    <tr>\n",
       "      <th>data_idx</th>\n",
       "      <th></th>\n",
       "      <th></th>\n",
       "      <th></th>\n",
       "      <th></th>\n",
       "      <th></th>\n",
       "      <th></th>\n",
       "      <th></th>\n",
       "    </tr>\n",
       "  </thead>\n",
       "  <tbody>\n",
       "    <tr>\n",
       "      <th>data_1</th>\n",
       "      <td>58</td>\n",
       "      <td>-27</td>\n",
       "      <td>31.0</td>\n",
       "      <td>0.6028</td>\n",
       "      <td>73.922054</td>\n",
       "      <td>0.0179</td>\n",
       "      <td>-0.0102</td>\n",
       "    </tr>\n",
       "  </tbody>\n",
       "</table>\n",
       "</div>"
      ],
      "text/plain": [
       "           A   B     C       D          E       F       G\n",
       "data_idx                                                 \n",
       "data_1    58 -27  31.0  0.6028  73.922054  0.0179 -0.0102"
      ]
     },
     "execution_count": 95,
     "metadata": {},
     "output_type": "execute_result"
    }
   ],
   "source": [
    "# 0行目を抽出\n",
    "df3[0:1]"
   ]
  },
  {
   "cell_type": "markdown",
   "metadata": {
    "deletable": true,
    "editable": true
   },
   "source": [
    "## 要素の抽出 (at, iat)"
   ]
  },
  {
   "cell_type": "code",
   "execution_count": 96,
   "metadata": {
    "collapsed": false,
    "deletable": true,
    "editable": true
   },
   "outputs": [
    {
     "data": {
      "text/html": [
       "<div>\n",
       "<style>\n",
       "    .dataframe thead tr:only-child th {\n",
       "        text-align: right;\n",
       "    }\n",
       "\n",
       "    .dataframe thead th {\n",
       "        text-align: left;\n",
       "    }\n",
       "\n",
       "    .dataframe tbody tr th {\n",
       "        vertical-align: top;\n",
       "    }\n",
       "</style>\n",
       "<table border=\"1\" class=\"dataframe\">\n",
       "  <thead>\n",
       "    <tr style=\"text-align: right;\">\n",
       "      <th></th>\n",
       "      <th>A</th>\n",
       "      <th>B</th>\n",
       "      <th>C</th>\n",
       "    </tr>\n",
       "  </thead>\n",
       "  <tbody>\n",
       "    <tr>\n",
       "      <th>0</th>\n",
       "      <td>1</td>\n",
       "      <td>2</td>\n",
       "      <td>3</td>\n",
       "    </tr>\n",
       "    <tr>\n",
       "      <th>1</th>\n",
       "      <td>10</td>\n",
       "      <td>20</td>\n",
       "      <td>30</td>\n",
       "    </tr>\n",
       "    <tr>\n",
       "      <th>2</th>\n",
       "      <td>100</td>\n",
       "      <td>200</td>\n",
       "      <td>300</td>\n",
       "    </tr>\n",
       "    <tr>\n",
       "      <th>3</th>\n",
       "      <td>1000</td>\n",
       "      <td>2000</td>\n",
       "      <td>3000</td>\n",
       "    </tr>\n",
       "  </tbody>\n",
       "</table>\n",
       "</div>"
      ],
      "text/plain": [
       "      A     B     C\n",
       "0     1     2     3\n",
       "1    10    20    30\n",
       "2   100   200   300\n",
       "3  1000  2000  3000"
      ]
     },
     "execution_count": 96,
     "metadata": {},
     "output_type": "execute_result"
    }
   ],
   "source": [
    "df1"
   ]
  },
  {
   "cell_type": "markdown",
   "metadata": {
    "deletable": true,
    "editable": true
   },
   "source": [
    "* インデックスを指定して要素を抽出 at  \n",
    "[行, 列]の順に指定する"
   ]
  },
  {
   "cell_type": "code",
   "execution_count": 97,
   "metadata": {
    "collapsed": false,
    "deletable": true,
    "editable": true
   },
   "outputs": [
    {
     "data": {
      "text/plain": [
       "20"
      ]
     },
     "execution_count": 97,
     "metadata": {},
     "output_type": "execute_result"
    }
   ],
   "source": [
    "df1.at[1, \"B\"]"
   ]
  },
  {
   "cell_type": "markdown",
   "metadata": {
    "deletable": true,
    "editable": true
   },
   "source": [
    "* 位置を指定して要素を抽出 iat (iはintegerの意味)"
   ]
  },
  {
   "cell_type": "code",
   "execution_count": 98,
   "metadata": {
    "collapsed": false,
    "deletable": true,
    "editable": true
   },
   "outputs": [
    {
     "data": {
      "text/plain": [
       "30"
      ]
     },
     "execution_count": 98,
     "metadata": {},
     "output_type": "execute_result"
    }
   ],
   "source": [
    "df1.iat[1, 2]"
   ]
  },
  {
   "cell_type": "markdown",
   "metadata": {
    "deletable": true,
    "editable": true
   },
   "source": [
    "## 範囲（複数、単数の行および列）の切り出し（loc, iloc）"
   ]
  },
  {
   "cell_type": "markdown",
   "metadata": {
    "deletable": true,
    "editable": true
   },
   "source": [
    "### indexによる抽出（loc）"
   ]
  },
  {
   "cell_type": "code",
   "execution_count": 99,
   "metadata": {
    "collapsed": false,
    "deletable": true,
    "editable": true
   },
   "outputs": [
    {
     "data": {
      "text/plain": [
       "58"
      ]
     },
     "execution_count": 99,
     "metadata": {},
     "output_type": "execute_result"
    }
   ],
   "source": [
    "# 単独の要素\n",
    "df3.loc[\"data_1\", \"A\"] \n",
    "# df3.at[\"data_1\", \"A\"] と同じ結果になりますが、atの方が速い。"
   ]
  },
  {
   "cell_type": "code",
   "execution_count": null,
   "metadata": {
    "collapsed": false,
    "deletable": true,
    "editable": true
   },
   "outputs": [],
   "source": []
  },
  {
   "cell_type": "code",
   "execution_count": 100,
   "metadata": {
    "collapsed": false,
    "deletable": true,
    "editable": true
   },
   "outputs": [
    {
     "data": {
      "text/html": [
       "<div>\n",
       "<style>\n",
       "    .dataframe thead tr:only-child th {\n",
       "        text-align: right;\n",
       "    }\n",
       "\n",
       "    .dataframe thead th {\n",
       "        text-align: left;\n",
       "    }\n",
       "\n",
       "    .dataframe tbody tr th {\n",
       "        vertical-align: top;\n",
       "    }\n",
       "</style>\n",
       "<table border=\"1\" class=\"dataframe\">\n",
       "  <thead>\n",
       "    <tr style=\"text-align: right;\">\n",
       "      <th></th>\n",
       "      <th>B</th>\n",
       "      <th>C</th>\n",
       "      <th>D</th>\n",
       "    </tr>\n",
       "    <tr>\n",
       "      <th>data_idx</th>\n",
       "      <th></th>\n",
       "      <th></th>\n",
       "      <th></th>\n",
       "    </tr>\n",
       "  </thead>\n",
       "  <tbody>\n",
       "    <tr>\n",
       "      <th>data_15</th>\n",
       "      <td>22</td>\n",
       "      <td>17.0</td>\n",
       "      <td>0.5000</td>\n",
       "    </tr>\n",
       "    <tr>\n",
       "      <th>data_16</th>\n",
       "      <td>0</td>\n",
       "      <td>36.0</td>\n",
       "      <td>0.5000</td>\n",
       "    </tr>\n",
       "    <tr>\n",
       "      <th>data_17</th>\n",
       "      <td>0</td>\n",
       "      <td>50.0</td>\n",
       "      <td>0.5000</td>\n",
       "    </tr>\n",
       "    <tr>\n",
       "      <th>data_18</th>\n",
       "      <td>7</td>\n",
       "      <td>4.0</td>\n",
       "      <td>0.5000</td>\n",
       "    </tr>\n",
       "    <tr>\n",
       "      <th>data_19</th>\n",
       "      <td>-2</td>\n",
       "      <td>4.0</td>\n",
       "      <td>0.5453</td>\n",
       "    </tr>\n",
       "    <tr>\n",
       "      <th>data_2</th>\n",
       "      <td>3</td>\n",
       "      <td>14.0</td>\n",
       "      <td>0.7112</td>\n",
       "    </tr>\n",
       "    <tr>\n",
       "      <th>data_20</th>\n",
       "      <td>-4</td>\n",
       "      <td>16.0</td>\n",
       "      <td>0.5714</td>\n",
       "    </tr>\n",
       "  </tbody>\n",
       "</table>\n",
       "</div>"
      ],
      "text/plain": [
       "           B     C       D\n",
       "data_idx                  \n",
       "data_15   22  17.0  0.5000\n",
       "data_16    0  36.0  0.5000\n",
       "data_17    0  50.0  0.5000\n",
       "data_18    7   4.0  0.5000\n",
       "data_19   -2   4.0  0.5453\n",
       "data_2     3  14.0  0.7112\n",
       "data_20   -4  16.0  0.5714"
      ]
     },
     "execution_count": 100,
     "metadata": {},
     "output_type": "execute_result"
    }
   ],
   "source": [
    "# 複数の行・列からなる範囲の抽出(結果はDataFrameとして返る)\n",
    "df3.loc[\"data_15\":\"data_20\", \"B\":\"D\"]  # 通常の数値によるスライスとは異なり、data20や\"D\"列が含まれていることに注意"
   ]
  },
  {
   "cell_type": "markdown",
   "metadata": {},
   "source": [
    "### "
   ]
  },
  {
   "cell_type": "code",
   "execution_count": 101,
   "metadata": {
    "collapsed": false,
    "deletable": true,
    "editable": true
   },
   "outputs": [
    {
     "data": {
      "text/html": [
       "<div>\n",
       "<style>\n",
       "    .dataframe thead tr:only-child th {\n",
       "        text-align: right;\n",
       "    }\n",
       "\n",
       "    .dataframe thead th {\n",
       "        text-align: left;\n",
       "    }\n",
       "\n",
       "    .dataframe tbody tr th {\n",
       "        vertical-align: top;\n",
       "    }\n",
       "</style>\n",
       "<table border=\"1\" class=\"dataframe\">\n",
       "  <thead>\n",
       "    <tr style=\"text-align: right;\">\n",
       "      <th></th>\n",
       "      <th>A</th>\n",
       "      <th>B</th>\n",
       "      <th>C</th>\n",
       "      <th>D</th>\n",
       "      <th>E</th>\n",
       "      <th>F</th>\n",
       "      <th>G</th>\n",
       "    </tr>\n",
       "    <tr>\n",
       "      <th>data_idx</th>\n",
       "      <th></th>\n",
       "      <th></th>\n",
       "      <th></th>\n",
       "      <th></th>\n",
       "      <th></th>\n",
       "      <th></th>\n",
       "      <th></th>\n",
       "    </tr>\n",
       "  </thead>\n",
       "  <tbody>\n",
       "    <tr>\n",
       "      <th>data_15</th>\n",
       "      <td>39</td>\n",
       "      <td>22</td>\n",
       "      <td>17.0</td>\n",
       "      <td>0.5000</td>\n",
       "      <td>137.368196</td>\n",
       "      <td>0.0173</td>\n",
       "      <td>0.0000</td>\n",
       "    </tr>\n",
       "    <tr>\n",
       "      <th>data_16</th>\n",
       "      <td>36</td>\n",
       "      <td>0</td>\n",
       "      <td>36.0</td>\n",
       "      <td>0.5000</td>\n",
       "      <td>63.004120</td>\n",
       "      <td>0.0242</td>\n",
       "      <td>0.0000</td>\n",
       "    </tr>\n",
       "    <tr>\n",
       "      <th>data_17</th>\n",
       "      <td>50</td>\n",
       "      <td>0</td>\n",
       "      <td>50.0</td>\n",
       "      <td>0.5000</td>\n",
       "      <td>214.258945</td>\n",
       "      <td>0.0020</td>\n",
       "      <td>0.0000</td>\n",
       "    </tr>\n",
       "    <tr>\n",
       "      <th>data_18</th>\n",
       "      <td>11</td>\n",
       "      <td>7</td>\n",
       "      <td>4.0</td>\n",
       "      <td>0.5000</td>\n",
       "      <td>69.762676</td>\n",
       "      <td>0.0330</td>\n",
       "      <td>0.0000</td>\n",
       "    </tr>\n",
       "    <tr>\n",
       "      <th>data_19</th>\n",
       "      <td>6</td>\n",
       "      <td>-2</td>\n",
       "      <td>4.0</td>\n",
       "      <td>0.5453</td>\n",
       "      <td>72.282932</td>\n",
       "      <td>0.0220</td>\n",
       "      <td>-0.0707</td>\n",
       "    </tr>\n",
       "    <tr>\n",
       "      <th>data_2</th>\n",
       "      <td>17</td>\n",
       "      <td>3</td>\n",
       "      <td>14.0</td>\n",
       "      <td>0.7112</td>\n",
       "      <td>36.759859</td>\n",
       "      <td>0.0263</td>\n",
       "      <td>0.0009</td>\n",
       "    </tr>\n",
       "    <tr>\n",
       "      <th>data_20</th>\n",
       "      <td>20</td>\n",
       "      <td>-4</td>\n",
       "      <td>16.0</td>\n",
       "      <td>0.5714</td>\n",
       "      <td>3.293830</td>\n",
       "      <td>0.0469</td>\n",
       "      <td>-0.0441</td>\n",
       "    </tr>\n",
       "  </tbody>\n",
       "</table>\n",
       "</div>"
      ],
      "text/plain": [
       "           A   B     C       D           E       F       G\n",
       "data_idx                                                  \n",
       "data_15   39  22  17.0  0.5000  137.368196  0.0173  0.0000\n",
       "data_16   36   0  36.0  0.5000   63.004120  0.0242  0.0000\n",
       "data_17   50   0  50.0  0.5000  214.258945  0.0020  0.0000\n",
       "data_18   11   7   4.0  0.5000   69.762676  0.0330  0.0000\n",
       "data_19    6  -2   4.0  0.5453   72.282932  0.0220 -0.0707\n",
       "data_2    17   3  14.0  0.7112   36.759859  0.0263  0.0009\n",
       "data_20   20  -4  16.0  0.5714    3.293830  0.0469 -0.0441"
      ]
     },
     "execution_count": 101,
     "metadata": {},
     "output_type": "execute_result"
    }
   ],
   "source": [
    "# \":\"を指定すると対象となる列 or 行の全体が抽出される\n",
    "df3.loc[\"data_15\":\"data_20\", :]  # data_15~data_20までの行全体が表示される"
   ]
  },
  {
   "cell_type": "code",
   "execution_count": 102,
   "metadata": {
    "collapsed": false,
    "deletable": true,
    "editable": true
   },
   "outputs": [
    {
     "data": {
      "text/html": [
       "<div>\n",
       "<style>\n",
       "    .dataframe thead tr:only-child th {\n",
       "        text-align: right;\n",
       "    }\n",
       "\n",
       "    .dataframe thead th {\n",
       "        text-align: left;\n",
       "    }\n",
       "\n",
       "    .dataframe tbody tr th {\n",
       "        vertical-align: top;\n",
       "    }\n",
       "</style>\n",
       "<table border=\"1\" class=\"dataframe\">\n",
       "  <thead>\n",
       "    <tr style=\"text-align: right;\">\n",
       "      <th></th>\n",
       "      <th>A</th>\n",
       "      <th>B</th>\n",
       "      <th>C</th>\n",
       "      <th>D</th>\n",
       "      <th>E</th>\n",
       "      <th>F</th>\n",
       "      <th>G</th>\n",
       "    </tr>\n",
       "    <tr>\n",
       "      <th>data_idx</th>\n",
       "      <th></th>\n",
       "      <th></th>\n",
       "      <th></th>\n",
       "      <th></th>\n",
       "      <th></th>\n",
       "      <th></th>\n",
       "      <th></th>\n",
       "    </tr>\n",
       "  </thead>\n",
       "  <tbody>\n",
       "    <tr>\n",
       "      <th>data_15</th>\n",
       "      <td>39</td>\n",
       "      <td>22</td>\n",
       "      <td>17.0</td>\n",
       "      <td>0.5000</td>\n",
       "      <td>137.368196</td>\n",
       "      <td>0.0173</td>\n",
       "      <td>0.0000</td>\n",
       "    </tr>\n",
       "    <tr>\n",
       "      <th>data_16</th>\n",
       "      <td>36</td>\n",
       "      <td>0</td>\n",
       "      <td>36.0</td>\n",
       "      <td>0.5000</td>\n",
       "      <td>63.004120</td>\n",
       "      <td>0.0242</td>\n",
       "      <td>0.0000</td>\n",
       "    </tr>\n",
       "    <tr>\n",
       "      <th>data_17</th>\n",
       "      <td>50</td>\n",
       "      <td>0</td>\n",
       "      <td>50.0</td>\n",
       "      <td>0.5000</td>\n",
       "      <td>214.258945</td>\n",
       "      <td>0.0020</td>\n",
       "      <td>0.0000</td>\n",
       "    </tr>\n",
       "    <tr>\n",
       "      <th>data_18</th>\n",
       "      <td>11</td>\n",
       "      <td>7</td>\n",
       "      <td>4.0</td>\n",
       "      <td>0.5000</td>\n",
       "      <td>69.762676</td>\n",
       "      <td>0.0330</td>\n",
       "      <td>0.0000</td>\n",
       "    </tr>\n",
       "    <tr>\n",
       "      <th>data_19</th>\n",
       "      <td>6</td>\n",
       "      <td>-2</td>\n",
       "      <td>4.0</td>\n",
       "      <td>0.5453</td>\n",
       "      <td>72.282932</td>\n",
       "      <td>0.0220</td>\n",
       "      <td>-0.0707</td>\n",
       "    </tr>\n",
       "    <tr>\n",
       "      <th>data_2</th>\n",
       "      <td>17</td>\n",
       "      <td>3</td>\n",
       "      <td>14.0</td>\n",
       "      <td>0.7112</td>\n",
       "      <td>36.759859</td>\n",
       "      <td>0.0263</td>\n",
       "      <td>0.0009</td>\n",
       "    </tr>\n",
       "    <tr>\n",
       "      <th>data_20</th>\n",
       "      <td>20</td>\n",
       "      <td>-4</td>\n",
       "      <td>16.0</td>\n",
       "      <td>0.5714</td>\n",
       "      <td>3.293830</td>\n",
       "      <td>0.0469</td>\n",
       "      <td>-0.0441</td>\n",
       "    </tr>\n",
       "  </tbody>\n",
       "</table>\n",
       "</div>"
      ],
      "text/plain": [
       "           A   B     C       D           E       F       G\n",
       "data_idx                                                  \n",
       "data_15   39  22  17.0  0.5000  137.368196  0.0173  0.0000\n",
       "data_16   36   0  36.0  0.5000   63.004120  0.0242  0.0000\n",
       "data_17   50   0  50.0  0.5000  214.258945  0.0020  0.0000\n",
       "data_18   11   7   4.0  0.5000   69.762676  0.0330  0.0000\n",
       "data_19    6  -2   4.0  0.5453   72.282932  0.0220 -0.0707\n",
       "data_2    17   3  14.0  0.7112   36.759859  0.0263  0.0009\n",
       "data_20   20  -4  16.0  0.5714    3.293830  0.0469 -0.0441"
      ]
     },
     "execution_count": 102,
     "metadata": {},
     "output_type": "execute_result"
    }
   ],
   "source": [
    "# 列の指定を省略することも可能 \n",
    "df3.loc[\"data_15\":\"data_20\"]"
   ]
  },
  {
   "cell_type": "markdown",
   "metadata": {
    "deletable": true,
    "editable": true
   },
   "source": [
    "__↑ 行を抽出するにはこの方法が便利__  \n"
   ]
  },
  {
   "cell_type": "code",
   "execution_count": 103,
   "metadata": {
    "collapsed": false,
    "deletable": true,
    "editable": true
   },
   "outputs": [
    {
     "data": {
      "text/plain": [
       "(30, 3)"
      ]
     },
     "execution_count": 103,
     "metadata": {},
     "output_type": "execute_result"
    }
   ],
   "source": [
    "# \":\"を指定するとすべての列 or 行が抽出される\n",
    "df3.loc[:, \"B\":\"D\"].shape  # 表示件数が多いのでshapeで大きさだけ表示しています。"
   ]
  },
  {
   "cell_type": "markdown",
   "metadata": {
    "deletable": true,
    "editable": true
   },
   "source": [
    "この方法はおすすめしません。\n",
    "```df3.loc[:, \"B\":\"D\"]``` の代わりに、__```df3[[\"B\", \"C\", \"D\"]]```__をおすすめします。"
   ]
  },
  {
   "cell_type": "markdown",
   "metadata": {
    "deletable": true,
    "editable": true
   },
   "source": [
    "* リストを使って行や列を指定することも可能です"
   ]
  },
  {
   "cell_type": "code",
   "execution_count": 104,
   "metadata": {
    "collapsed": false,
    "deletable": true,
    "editable": true
   },
   "outputs": [
    {
     "data": {
      "text/html": [
       "<div>\n",
       "<style>\n",
       "    .dataframe thead tr:only-child th {\n",
       "        text-align: right;\n",
       "    }\n",
       "\n",
       "    .dataframe thead th {\n",
       "        text-align: left;\n",
       "    }\n",
       "\n",
       "    .dataframe tbody tr th {\n",
       "        vertical-align: top;\n",
       "    }\n",
       "</style>\n",
       "<table border=\"1\" class=\"dataframe\">\n",
       "  <thead>\n",
       "    <tr style=\"text-align: right;\">\n",
       "      <th></th>\n",
       "      <th>E</th>\n",
       "      <th>C</th>\n",
       "      <th>A</th>\n",
       "    </tr>\n",
       "    <tr>\n",
       "      <th>data_idx</th>\n",
       "      <th></th>\n",
       "      <th></th>\n",
       "      <th></th>\n",
       "    </tr>\n",
       "  </thead>\n",
       "  <tbody>\n",
       "    <tr>\n",
       "      <th>data_30</th>\n",
       "      <td>164.149599</td>\n",
       "      <td>50.0</td>\n",
       "      <td>127</td>\n",
       "    </tr>\n",
       "    <tr>\n",
       "      <th>data_20</th>\n",
       "      <td>3.293830</td>\n",
       "      <td>16.0</td>\n",
       "      <td>20</td>\n",
       "    </tr>\n",
       "    <tr>\n",
       "      <th>data_10</th>\n",
       "      <td>575.585790</td>\n",
       "      <td>56.0</td>\n",
       "      <td>109</td>\n",
       "    </tr>\n",
       "  </tbody>\n",
       "</table>\n",
       "</div>"
      ],
      "text/plain": [
       "                   E     C    A\n",
       "data_idx                       \n",
       "data_30   164.149599  50.0  127\n",
       "data_20     3.293830  16.0   20\n",
       "data_10   575.585790  56.0  109"
      ]
     },
     "execution_count": 104,
     "metadata": {},
     "output_type": "execute_result"
    }
   ],
   "source": [
    "df3.loc[[\"data_30\",\"data_20\",\"data_10\"], [\"E\",\"C\",\"A\"]]  "
   ]
  },
  {
   "cell_type": "code",
   "execution_count": 105,
   "metadata": {
    "collapsed": false,
    "deletable": true,
    "editable": true,
    "scrolled": true
   },
   "outputs": [
    {
     "data": {
      "text/html": [
       "<div>\n",
       "<style>\n",
       "    .dataframe thead tr:only-child th {\n",
       "        text-align: right;\n",
       "    }\n",
       "\n",
       "    .dataframe thead th {\n",
       "        text-align: left;\n",
       "    }\n",
       "\n",
       "    .dataframe tbody tr th {\n",
       "        vertical-align: top;\n",
       "    }\n",
       "</style>\n",
       "<table border=\"1\" class=\"dataframe\">\n",
       "  <thead>\n",
       "    <tr style=\"text-align: right;\">\n",
       "      <th></th>\n",
       "      <th>A</th>\n",
       "      <th>B</th>\n",
       "      <th>C</th>\n",
       "      <th>D</th>\n",
       "      <th>E</th>\n",
       "      <th>F</th>\n",
       "      <th>G</th>\n",
       "    </tr>\n",
       "    <tr>\n",
       "      <th>data_idx</th>\n",
       "      <th></th>\n",
       "      <th></th>\n",
       "      <th></th>\n",
       "      <th></th>\n",
       "      <th></th>\n",
       "      <th></th>\n",
       "      <th></th>\n",
       "    </tr>\n",
       "  </thead>\n",
       "  <tbody>\n",
       "    <tr>\n",
       "      <th>data_30</th>\n",
       "      <td>127</td>\n",
       "      <td>-77</td>\n",
       "      <td>50.0</td>\n",
       "      <td>0.5000</td>\n",
       "      <td>164.149599</td>\n",
       "      <td>0.1493</td>\n",
       "      <td>0.0000</td>\n",
       "    </tr>\n",
       "    <tr>\n",
       "      <th>data_20</th>\n",
       "      <td>20</td>\n",
       "      <td>-4</td>\n",
       "      <td>16.0</td>\n",
       "      <td>0.5714</td>\n",
       "      <td>3.293830</td>\n",
       "      <td>0.0469</td>\n",
       "      <td>-0.0441</td>\n",
       "    </tr>\n",
       "    <tr>\n",
       "      <th>data_10</th>\n",
       "      <td>109</td>\n",
       "      <td>-53</td>\n",
       "      <td>56.0</td>\n",
       "      <td>0.5000</td>\n",
       "      <td>575.585790</td>\n",
       "      <td>0.0346</td>\n",
       "      <td>0.0000</td>\n",
       "    </tr>\n",
       "  </tbody>\n",
       "</table>\n",
       "</div>"
      ],
      "text/plain": [
       "            A   B     C       D           E       F       G\n",
       "data_idx                                                   \n",
       "data_30   127 -77  50.0  0.5000  164.149599  0.1493  0.0000\n",
       "data_20    20  -4  16.0  0.5714    3.293830  0.0469 -0.0441\n",
       "data_10   109 -53  56.0  0.5000  575.585790  0.0346  0.0000"
      ]
     },
     "execution_count": 105,
     "metadata": {},
     "output_type": "execute_result"
    }
   ],
   "source": [
    "# 行全体を取得 \n",
    "df3.loc[[\"data_30\",\"data_20\",\"data_10\"]]  # df3.loc[[\"data_30\",\"data_20\",\"data_10\"], :]でも同じ結果"
   ]
  },
  {
   "cell_type": "code",
   "execution_count": 106,
   "metadata": {
    "collapsed": false,
    "deletable": true,
    "editable": true
   },
   "outputs": [
    {
     "data": {
      "text/html": [
       "<div>\n",
       "<style>\n",
       "    .dataframe thead tr:only-child th {\n",
       "        text-align: right;\n",
       "    }\n",
       "\n",
       "    .dataframe thead th {\n",
       "        text-align: left;\n",
       "    }\n",
       "\n",
       "    .dataframe tbody tr th {\n",
       "        vertical-align: top;\n",
       "    }\n",
       "</style>\n",
       "<table border=\"1\" class=\"dataframe\">\n",
       "  <thead>\n",
       "    <tr style=\"text-align: right;\">\n",
       "      <th></th>\n",
       "      <th>E</th>\n",
       "      <th>C</th>\n",
       "      <th>A</th>\n",
       "    </tr>\n",
       "    <tr>\n",
       "      <th>data_idx</th>\n",
       "      <th></th>\n",
       "      <th></th>\n",
       "      <th></th>\n",
       "    </tr>\n",
       "  </thead>\n",
       "  <tbody>\n",
       "    <tr>\n",
       "      <th>data_1</th>\n",
       "      <td>73.922054</td>\n",
       "      <td>31.0</td>\n",
       "      <td>58</td>\n",
       "    </tr>\n",
       "    <tr>\n",
       "      <th>data_10</th>\n",
       "      <td>575.585790</td>\n",
       "      <td>56.0</td>\n",
       "      <td>109</td>\n",
       "    </tr>\n",
       "    <tr>\n",
       "      <th>data_11</th>\n",
       "      <td>144.838806</td>\n",
       "      <td>33.0</td>\n",
       "      <td>77</td>\n",
       "    </tr>\n",
       "    <tr>\n",
       "      <th>data_12</th>\n",
       "      <td>NaN</td>\n",
       "      <td>55.0</td>\n",
       "      <td>181</td>\n",
       "    </tr>\n",
       "    <tr>\n",
       "      <th>data_13</th>\n",
       "      <td>896.439718</td>\n",
       "      <td>45.0</td>\n",
       "      <td>91</td>\n",
       "    </tr>\n",
       "  </tbody>\n",
       "</table>\n",
       "</div>"
      ],
      "text/plain": [
       "                   E     C    A\n",
       "data_idx                       \n",
       "data_1     73.922054  31.0   58\n",
       "data_10   575.585790  56.0  109\n",
       "data_11   144.838806  33.0   77\n",
       "data_12          NaN  55.0  181\n",
       "data_13   896.439718  45.0   91"
      ]
     },
     "execution_count": 106,
     "metadata": {},
     "output_type": "execute_result"
    }
   ],
   "source": [
    "df3.loc[:, [\"E\",\"C\",\"A\"]].head()  # 列全体の取得。先頭5行のみ表示\n",
    "# 繰り返しになりますが、\"df3[[\"E\", \"C\", \"A\"]]\"の方が便利です。"
   ]
  },
  {
   "cell_type": "markdown",
   "metadata": {
    "deletable": true,
    "editable": true
   },
   "source": [
    "* 単独の行または列の抽出"
   ]
  },
  {
   "cell_type": "code",
   "execution_count": 107,
   "metadata": {
    "collapsed": false,
    "deletable": true,
    "editable": true,
    "scrolled": true
   },
   "outputs": [
    {
     "data": {
      "text/plain": [
       "A    109.00000\n",
       "B    -53.00000\n",
       "C     56.00000\n",
       "D      0.50000\n",
       "E    575.58579\n",
       "F      0.03460\n",
       "G      0.00000\n",
       "Name: data_10, dtype: float64"
      ]
     },
     "execution_count": 107,
     "metadata": {},
     "output_type": "execute_result"
    }
   ],
   "source": [
    "# 行の抽出\n",
    "df3.loc[\"data_10\", :]"
   ]
  },
  {
   "cell_type": "markdown",
   "metadata": {
    "deletable": true,
    "editable": true
   },
   "source": [
    "↑列の指定は省略できるので__```df3.loc[\"data_10\"]```__の方がおすすめ。"
   ]
  },
  {
   "cell_type": "code",
   "execution_count": 108,
   "metadata": {
    "collapsed": false,
    "deletable": true,
    "editable": true
   },
   "outputs": [
    {
     "data": {
      "text/plain": [
       "data_idx\n",
       "data_1      58\n",
       "data_10    109\n",
       "data_11     77\n",
       "data_12    181\n",
       "data_13     91\n",
       "data_14    133\n",
       "data_15     39\n",
       "data_16     36\n",
       "data_17     50\n",
       "data_18     11\n",
       "data_19      6\n",
       "data_2      17\n",
       "data_20     20\n",
       "data_21     96\n",
       "data_22    153\n",
       "data_23     45\n",
       "data_24     26\n",
       "data_25     25\n",
       "data_26     15\n",
       "data_27     14\n",
       "data_28     64\n",
       "data_29     53\n",
       "data_3     169\n",
       "data_30    127\n",
       "data_4      59\n",
       "data_5      59\n",
       "data_6     137\n",
       "data_7      39\n",
       "data_8      39\n",
       "data_9      81\n",
       "Name: A, dtype: int64"
      ]
     },
     "execution_count": 108,
     "metadata": {},
     "output_type": "execute_result"
    }
   ],
   "source": [
    "# 列の抽出\n",
    "df3.loc[:, \"A\"]"
   ]
  },
  {
   "cell_type": "markdown",
   "metadata": {
    "deletable": true,
    "editable": true
   },
   "source": [
    "↑こちらも__```df3[\"A\"]```__の方がおすすめ。"
   ]
  },
  {
   "cell_type": "code",
   "execution_count": 109,
   "metadata": {
    "collapsed": false,
    "deletable": true,
    "editable": true
   },
   "outputs": [
    {
     "data": {
      "text/html": [
       "<div>\n",
       "<style>\n",
       "    .dataframe thead tr:only-child th {\n",
       "        text-align: right;\n",
       "    }\n",
       "\n",
       "    .dataframe thead th {\n",
       "        text-align: left;\n",
       "    }\n",
       "\n",
       "    .dataframe tbody tr th {\n",
       "        vertical-align: top;\n",
       "    }\n",
       "</style>\n",
       "<table border=\"1\" class=\"dataframe\">\n",
       "  <thead>\n",
       "    <tr style=\"text-align: right;\">\n",
       "      <th></th>\n",
       "      <th>A</th>\n",
       "      <th>B</th>\n",
       "      <th>C</th>\n",
       "      <th>D</th>\n",
       "      <th>E</th>\n",
       "      <th>F</th>\n",
       "      <th>G</th>\n",
       "    </tr>\n",
       "    <tr>\n",
       "      <th>data_idx</th>\n",
       "      <th></th>\n",
       "      <th></th>\n",
       "      <th></th>\n",
       "      <th></th>\n",
       "      <th></th>\n",
       "      <th></th>\n",
       "      <th></th>\n",
       "    </tr>\n",
       "  </thead>\n",
       "  <tbody>\n",
       "    <tr>\n",
       "      <th>data_10</th>\n",
       "      <td>109</td>\n",
       "      <td>-53</td>\n",
       "      <td>56.0</td>\n",
       "      <td>0.5</td>\n",
       "      <td>575.58579</td>\n",
       "      <td>0.0346</td>\n",
       "      <td>0.0</td>\n",
       "    </tr>\n",
       "  </tbody>\n",
       "</table>\n",
       "</div>"
      ],
      "text/plain": [
       "            A   B     C    D          E       F    G\n",
       "data_idx                                            \n",
       "data_10   109 -53  56.0  0.5  575.58579  0.0346  0.0"
      ]
     },
     "execution_count": 109,
     "metadata": {},
     "output_type": "execute_result"
    }
   ],
   "source": [
    "# 返ってくるデータの形式に注意\n",
    "df3.loc[[\"data_10\"]]  # 結果はDataFrame"
   ]
  },
  {
   "cell_type": "code",
   "execution_count": 110,
   "metadata": {
    "collapsed": false,
    "deletable": true,
    "editable": true
   },
   "outputs": [
    {
     "data": {
      "text/plain": [
       "A    109.00000\n",
       "B    -53.00000\n",
       "C     56.00000\n",
       "D      0.50000\n",
       "E    575.58579\n",
       "F      0.03460\n",
       "G      0.00000\n",
       "Name: data_10, dtype: float64"
      ]
     },
     "execution_count": 110,
     "metadata": {},
     "output_type": "execute_result"
    }
   ],
   "source": [
    "df3.loc[\"data_10\"]  # 結果はSeries"
   ]
  },
  {
   "cell_type": "markdown",
   "metadata": {
    "deletable": true,
    "editable": true
   },
   "source": [
    "### 位置による指定（iloc）\n",
    "位置を数字で指定することを除いて loc と同じです。"
   ]
  },
  {
   "cell_type": "code",
   "execution_count": 111,
   "metadata": {
    "collapsed": false,
    "deletable": true,
    "editable": true
   },
   "outputs": [
    {
     "data": {
      "text/html": [
       "<div>\n",
       "<style>\n",
       "    .dataframe thead tr:only-child th {\n",
       "        text-align: right;\n",
       "    }\n",
       "\n",
       "    .dataframe thead th {\n",
       "        text-align: left;\n",
       "    }\n",
       "\n",
       "    .dataframe tbody tr th {\n",
       "        vertical-align: top;\n",
       "    }\n",
       "</style>\n",
       "<table border=\"1\" class=\"dataframe\">\n",
       "  <thead>\n",
       "    <tr style=\"text-align: right;\">\n",
       "      <th></th>\n",
       "      <th>A</th>\n",
       "      <th>B</th>\n",
       "      <th>C</th>\n",
       "    </tr>\n",
       "  </thead>\n",
       "  <tbody>\n",
       "    <tr>\n",
       "      <th>0</th>\n",
       "      <td>1</td>\n",
       "      <td>2</td>\n",
       "      <td>3</td>\n",
       "    </tr>\n",
       "    <tr>\n",
       "      <th>1</th>\n",
       "      <td>10</td>\n",
       "      <td>20</td>\n",
       "      <td>30</td>\n",
       "    </tr>\n",
       "    <tr>\n",
       "      <th>2</th>\n",
       "      <td>100</td>\n",
       "      <td>200</td>\n",
       "      <td>300</td>\n",
       "    </tr>\n",
       "    <tr>\n",
       "      <th>3</th>\n",
       "      <td>1000</td>\n",
       "      <td>2000</td>\n",
       "      <td>3000</td>\n",
       "    </tr>\n",
       "  </tbody>\n",
       "</table>\n",
       "</div>"
      ],
      "text/plain": [
       "      A     B     C\n",
       "0     1     2     3\n",
       "1    10    20    30\n",
       "2   100   200   300\n",
       "3  1000  2000  3000"
      ]
     },
     "execution_count": 111,
     "metadata": {},
     "output_type": "execute_result"
    }
   ],
   "source": [
    "df1"
   ]
  },
  {
   "cell_type": "code",
   "execution_count": 112,
   "metadata": {
    "collapsed": false,
    "deletable": true,
    "editable": true
   },
   "outputs": [
    {
     "data": {
      "text/plain": [
       "30"
      ]
     },
     "execution_count": 112,
     "metadata": {},
     "output_type": "execute_result"
    }
   ],
   "source": [
    "df1.iloc[1,2] # 行、列の番号を指定"
   ]
  },
  {
   "cell_type": "code",
   "execution_count": 113,
   "metadata": {
    "collapsed": false,
    "deletable": true,
    "editable": true
   },
   "outputs": [
    {
     "data": {
      "text/html": [
       "<div>\n",
       "<style>\n",
       "    .dataframe thead tr:only-child th {\n",
       "        text-align: right;\n",
       "    }\n",
       "\n",
       "    .dataframe thead th {\n",
       "        text-align: left;\n",
       "    }\n",
       "\n",
       "    .dataframe tbody tr th {\n",
       "        vertical-align: top;\n",
       "    }\n",
       "</style>\n",
       "<table border=\"1\" class=\"dataframe\">\n",
       "  <thead>\n",
       "    <tr style=\"text-align: right;\">\n",
       "      <th></th>\n",
       "      <th>A</th>\n",
       "      <th>B</th>\n",
       "    </tr>\n",
       "  </thead>\n",
       "  <tbody>\n",
       "    <tr>\n",
       "      <th>1</th>\n",
       "      <td>10</td>\n",
       "      <td>20</td>\n",
       "    </tr>\n",
       "  </tbody>\n",
       "</table>\n",
       "</div>"
      ],
      "text/plain": [
       "    A   B\n",
       "1  10  20"
      ]
     },
     "execution_count": 113,
     "metadata": {},
     "output_type": "execute_result"
    }
   ],
   "source": [
    "df1.iloc[1:2, 0:2]  # スライスで指定"
   ]
  },
  {
   "cell_type": "code",
   "execution_count": 114,
   "metadata": {
    "collapsed": false,
    "deletable": true,
    "editable": true
   },
   "outputs": [
    {
     "data": {
      "text/html": [
       "<div>\n",
       "<style>\n",
       "    .dataframe thead tr:only-child th {\n",
       "        text-align: right;\n",
       "    }\n",
       "\n",
       "    .dataframe thead th {\n",
       "        text-align: left;\n",
       "    }\n",
       "\n",
       "    .dataframe tbody tr th {\n",
       "        vertical-align: top;\n",
       "    }\n",
       "</style>\n",
       "<table border=\"1\" class=\"dataframe\">\n",
       "  <thead>\n",
       "    <tr style=\"text-align: right;\">\n",
       "      <th></th>\n",
       "      <th>A</th>\n",
       "      <th>B</th>\n",
       "      <th>C</th>\n",
       "    </tr>\n",
       "  </thead>\n",
       "  <tbody>\n",
       "    <tr>\n",
       "      <th>1</th>\n",
       "      <td>10</td>\n",
       "      <td>20</td>\n",
       "      <td>30</td>\n",
       "    </tr>\n",
       "    <tr>\n",
       "      <th>2</th>\n",
       "      <td>100</td>\n",
       "      <td>200</td>\n",
       "      <td>300</td>\n",
       "    </tr>\n",
       "  </tbody>\n",
       "</table>\n",
       "</div>"
      ],
      "text/plain": [
       "     A    B    C\n",
       "1   10   20   30\n",
       "2  100  200  300"
      ]
     },
     "execution_count": 114,
     "metadata": {},
     "output_type": "execute_result"
    }
   ],
   "source": [
    "df1.iloc[[1,2], [0,1,2]] # リストで指定"
   ]
  },
  {
   "cell_type": "code",
   "execution_count": 115,
   "metadata": {
    "collapsed": false,
    "deletable": true,
    "editable": true
   },
   "outputs": [
    {
     "data": {
      "text/plain": [
       "A    10\n",
       "B    20\n",
       "C    30\n",
       "Name: 1, dtype: int64"
      ]
     },
     "execution_count": 115,
     "metadata": {},
     "output_type": "execute_result"
    }
   ],
   "source": [
    "df1.iloc[1,:]  # すべての列(行全体)を取得"
   ]
  },
  {
   "cell_type": "code",
   "execution_count": 116,
   "metadata": {
    "collapsed": false,
    "deletable": true,
    "editable": true
   },
   "outputs": [
    {
     "data": {
      "text/plain": [
       "A    10\n",
       "B    20\n",
       "C    30\n",
       "Name: 1, dtype: int64"
      ]
     },
     "execution_count": 116,
     "metadata": {},
     "output_type": "execute_result"
    }
   ],
   "source": [
    "df1.iloc[1]  # 列の指定を省略しても同じ結果が得られる。↑よりもこちらをおすすめ"
   ]
  },
  {
   "cell_type": "code",
   "execution_count": 117,
   "metadata": {
    "collapsed": false,
    "deletable": true,
    "editable": true
   },
   "outputs": [
    {
     "data": {
      "text/html": [
       "<div>\n",
       "<style>\n",
       "    .dataframe thead tr:only-child th {\n",
       "        text-align: right;\n",
       "    }\n",
       "\n",
       "    .dataframe thead th {\n",
       "        text-align: left;\n",
       "    }\n",
       "\n",
       "    .dataframe tbody tr th {\n",
       "        vertical-align: top;\n",
       "    }\n",
       "</style>\n",
       "<table border=\"1\" class=\"dataframe\">\n",
       "  <thead>\n",
       "    <tr style=\"text-align: right;\">\n",
       "      <th></th>\n",
       "      <th>A</th>\n",
       "      <th>B</th>\n",
       "      <th>C</th>\n",
       "    </tr>\n",
       "  </thead>\n",
       "  <tbody>\n",
       "    <tr>\n",
       "      <th>1</th>\n",
       "      <td>10</td>\n",
       "      <td>20</td>\n",
       "      <td>30</td>\n",
       "    </tr>\n",
       "  </tbody>\n",
       "</table>\n",
       "</div>"
      ],
      "text/plain": [
       "    A   B   C\n",
       "1  10  20  30"
      ]
     },
     "execution_count": 117,
     "metadata": {},
     "output_type": "execute_result"
    }
   ],
   "source": [
    "df1.iloc[[1]]   # 上と同じ行を抽出しているが、リストで指定した場合はDataFrameとして結果が返ってくる"
   ]
  },
  {
   "cell_type": "code",
   "execution_count": 118,
   "metadata": {
    "collapsed": false,
    "deletable": true,
    "editable": true
   },
   "outputs": [
    {
     "data": {
      "text/plain": [
       "0       2\n",
       "1      20\n",
       "2     200\n",
       "3    2000\n",
       "Name: B, dtype: int64"
      ]
     },
     "execution_count": 118,
     "metadata": {},
     "output_type": "execute_result"
    }
   ],
   "source": [
    "df1.iloc[:,1]  # すべての行(列全体)を取得"
   ]
  },
  {
   "cell_type": "markdown",
   "metadata": {
    "deletable": true,
    "editable": true
   },
   "source": [
    "### ix はdeprecated"
   ]
  },
  {
   "cell_type": "markdown",
   "metadata": {
    "deletable": true,
    "editable": true
   },
   "source": [
    "以前はindexでも位置番号でもどちらでも指定可能な便利なixがありました。現在はdeprecatedになっています。[[参考](http://pandas-docs.github.io/pandas-docs-travis/indexing.html#ix-indexer-is-deprecated)]"
   ]
  },
  {
   "cell_type": "code",
   "execution_count": 119,
   "metadata": {
    "collapsed": false,
    "deletable": true,
    "editable": true,
    "scrolled": true
   },
   "outputs": [
    {
     "name": "stderr",
     "output_type": "stream",
     "text": [
      "/Users/tanizawa/.anyenv/envs/pyenv/versions/3.6.0/lib/python3.6/site-packages/ipykernel/__main__.py:1: DeprecationWarning: \n",
      ".ix is deprecated. Please use\n",
      ".loc for label based indexing or\n",
      ".iloc for positional indexing\n",
      "\n",
      "See the documentation here:\n",
      "http://pandas.pydata.org/pandas-docs/stable/indexing.html#ix-indexer-is-deprecated\n",
      "  if __name__ == '__main__':\n"
     ]
    },
    {
     "data": {
      "text/plain": [
       "56.0"
      ]
     },
     "execution_count": 119,
     "metadata": {},
     "output_type": "execute_result"
    }
   ],
   "source": [
    "df3.ix[\"data_10\", \"C\"] # "
   ]
  },
  {
   "cell_type": "code",
   "execution_count": 120,
   "metadata": {
    "collapsed": false,
    "deletable": true,
    "editable": true
   },
   "outputs": [
    {
     "data": {
      "text/html": [
       "<div>\n",
       "<style>\n",
       "    .dataframe thead tr:only-child th {\n",
       "        text-align: right;\n",
       "    }\n",
       "\n",
       "    .dataframe thead th {\n",
       "        text-align: left;\n",
       "    }\n",
       "\n",
       "    .dataframe tbody tr th {\n",
       "        vertical-align: top;\n",
       "    }\n",
       "</style>\n",
       "<table border=\"1\" class=\"dataframe\">\n",
       "  <thead>\n",
       "    <tr style=\"text-align: right;\">\n",
       "      <th></th>\n",
       "      <th>C</th>\n",
       "      <th>D</th>\n",
       "    </tr>\n",
       "    <tr>\n",
       "      <th>data_idx</th>\n",
       "      <th></th>\n",
       "      <th></th>\n",
       "    </tr>\n",
       "  </thead>\n",
       "  <tbody>\n",
       "    <tr>\n",
       "      <th>data_10</th>\n",
       "      <td>56.0</td>\n",
       "      <td>0.5000</td>\n",
       "    </tr>\n",
       "    <tr>\n",
       "      <th>data_11</th>\n",
       "      <td>33.0</td>\n",
       "      <td>0.6281</td>\n",
       "    </tr>\n",
       "  </tbody>\n",
       "</table>\n",
       "</div>"
      ],
      "text/plain": [
       "             C       D\n",
       "data_idx              \n",
       "data_10   56.0  0.5000\n",
       "data_11   33.0  0.6281"
      ]
     },
     "execution_count": 120,
     "metadata": {},
     "output_type": "execute_result"
    }
   ],
   "source": [
    "df3.ix[[1, 2], [2, 3]]  # "
   ]
  },
  {
   "cell_type": "code",
   "execution_count": 121,
   "metadata": {
    "collapsed": false,
    "deletable": true,
    "editable": true
   },
   "outputs": [
    {
     "data": {
      "text/html": [
       "<div>\n",
       "<style>\n",
       "    .dataframe thead tr:only-child th {\n",
       "        text-align: right;\n",
       "    }\n",
       "\n",
       "    .dataframe thead th {\n",
       "        text-align: left;\n",
       "    }\n",
       "\n",
       "    .dataframe tbody tr th {\n",
       "        vertical-align: top;\n",
       "    }\n",
       "</style>\n",
       "<table border=\"1\" class=\"dataframe\">\n",
       "  <thead>\n",
       "    <tr style=\"text-align: right;\">\n",
       "      <th></th>\n",
       "      <th>C</th>\n",
       "      <th>D</th>\n",
       "    </tr>\n",
       "    <tr>\n",
       "      <th>data_idx</th>\n",
       "      <th></th>\n",
       "      <th></th>\n",
       "    </tr>\n",
       "  </thead>\n",
       "  <tbody>\n",
       "    <tr>\n",
       "      <th>data_10</th>\n",
       "      <td>56.0</td>\n",
       "      <td>0.5000</td>\n",
       "    </tr>\n",
       "    <tr>\n",
       "      <th>data_11</th>\n",
       "      <td>33.0</td>\n",
       "      <td>0.6281</td>\n",
       "    </tr>\n",
       "  </tbody>\n",
       "</table>\n",
       "</div>"
      ],
      "text/plain": [
       "             C       D\n",
       "data_idx              \n",
       "data_10   56.0  0.5000\n",
       "data_11   33.0  0.6281"
      ]
     },
     "execution_count": 121,
     "metadata": {},
     "output_type": "execute_result"
    }
   ],
   "source": [
    "df3.ix[1:3, \"C\":\"D\"]"
   ]
  },
  {
   "cell_type": "markdown",
   "metadata": {
    "deletable": true,
    "editable": true
   },
   "source": [
    "### まとめ"
   ]
  },
  {
   "cell_type": "markdown",
   "metadata": {
    "deletable": true,
    "editable": true
   },
   "source": [
    "* __列の抽出__  \n",
    "`df[\"A\"]` または `df.A`  \n",
    "複数列の場合にはリストで指定する（[ ]が二重になることに注意）  \n",
    "`df[[\"A\", \"B\"]]`\n",
    "\n",
    "\n",
    "* __行の抽出 (loc or ilocを使う)__  \n",
    "`df.loc[row_index]` または `df.iloc[row_position]`  \n",
    "複数行の場合には、  \n",
    "`df.loc[[row_index1, row_index2]]`  または  \n",
    "`df.iloc[[row_position1, row_position2]]`  または  \n",
    "`df.iloc[row_position1:row_position2]`\n",
    "\n",
    "\n",
    "* __範囲の抽出 (loc or ilocを使う)__  \n",
    "`df.loc[[row_index1, row_index2], [col_index1, col_index2]]`  または  \n",
    "`df.iloc[[row_position1, row_position2], [col_position1, col_position2]]`  または  \n",
    "`df.iloc[row_position1:row_position2, col_position1:col_position2]`\n",
    "\n",
    "\n",
    "* __値の抽出 (at or iatを使う)__   \n",
    "`df.at[row_index, col_index]`  または  `df.iat[row_position, col_position]`  \n",
    "(loc or ilocよりも速い)\n",
    "\n"
   ]
  },
  {
   "cell_type": "code",
   "execution_count": null,
   "metadata": {
    "collapsed": false,
    "deletable": true,
    "editable": true
   },
   "outputs": [],
   "source": []
  },
  {
   "cell_type": "markdown",
   "metadata": {
    "deletable": true,
    "editable": true
   },
   "source": [
    "# 条件を指定して抽出 (boolean indexing)"
   ]
  },
  {
   "cell_type": "code",
   "execution_count": 122,
   "metadata": {
    "collapsed": false,
    "deletable": true,
    "editable": true
   },
   "outputs": [
    {
     "data": {
      "text/html": [
       "<div>\n",
       "<style>\n",
       "    .dataframe thead tr:only-child th {\n",
       "        text-align: right;\n",
       "    }\n",
       "\n",
       "    .dataframe thead th {\n",
       "        text-align: left;\n",
       "    }\n",
       "\n",
       "    .dataframe tbody tr th {\n",
       "        vertical-align: top;\n",
       "    }\n",
       "</style>\n",
       "<table border=\"1\" class=\"dataframe\">\n",
       "  <thead>\n",
       "    <tr style=\"text-align: right;\">\n",
       "      <th></th>\n",
       "      <th>DOB</th>\n",
       "      <th>age</th>\n",
       "      <th>alive</th>\n",
       "      <th>family_name</th>\n",
       "      <th>group_name</th>\n",
       "      <th>name</th>\n",
       "    </tr>\n",
       "  </thead>\n",
       "  <tbody>\n",
       "    <tr>\n",
       "      <th>0</th>\n",
       "      <td>1940/10/09</td>\n",
       "      <td>NaN</td>\n",
       "      <td>False</td>\n",
       "      <td>Lennon</td>\n",
       "      <td>Beatles</td>\n",
       "      <td>John</td>\n",
       "    </tr>\n",
       "    <tr>\n",
       "      <th>1</th>\n",
       "      <td>1942/026/18</td>\n",
       "      <td>76.0</td>\n",
       "      <td>True</td>\n",
       "      <td>McCartney</td>\n",
       "      <td>Beatles</td>\n",
       "      <td>Paul</td>\n",
       "    </tr>\n",
       "    <tr>\n",
       "      <th>2</th>\n",
       "      <td>1943/02/25</td>\n",
       "      <td>NaN</td>\n",
       "      <td>False</td>\n",
       "      <td>Harrison</td>\n",
       "      <td>Beatles</td>\n",
       "      <td>George</td>\n",
       "    </tr>\n",
       "    <tr>\n",
       "      <th>3</th>\n",
       "      <td>1940/07/07</td>\n",
       "      <td>78.0</td>\n",
       "      <td>True</td>\n",
       "      <td>Starr</td>\n",
       "      <td>Beatles</td>\n",
       "      <td>Ringo</td>\n",
       "    </tr>\n",
       "    <tr>\n",
       "      <th>4</th>\n",
       "      <td>1941/10/13</td>\n",
       "      <td>77.0</td>\n",
       "      <td>True</td>\n",
       "      <td>Simon</td>\n",
       "      <td>Simon_and_Garfunkel</td>\n",
       "      <td>Paul</td>\n",
       "    </tr>\n",
       "    <tr>\n",
       "      <th>5</th>\n",
       "      <td>1941/11/05</td>\n",
       "      <td>77.0</td>\n",
       "      <td>True</td>\n",
       "      <td>Garfunkel</td>\n",
       "      <td>Simon_and_Garfunkel</td>\n",
       "      <td>Art</td>\n",
       "    </tr>\n",
       "  </tbody>\n",
       "</table>\n",
       "</div>"
      ],
      "text/plain": [
       "           DOB   age  alive family_name           group_name    name\n",
       "0   1940/10/09   NaN  False      Lennon              Beatles    John\n",
       "1  1942/026/18  76.0   True   McCartney              Beatles    Paul\n",
       "2   1943/02/25   NaN  False    Harrison              Beatles  George\n",
       "3   1940/07/07  78.0   True       Starr              Beatles   Ringo\n",
       "4   1941/10/13  77.0   True       Simon  Simon_and_Garfunkel    Paul\n",
       "5   1941/11/05  77.0   True   Garfunkel  Simon_and_Garfunkel     Art"
      ]
     },
     "execution_count": 122,
     "metadata": {},
     "output_type": "execute_result"
    }
   ],
   "source": [
    "df2"
   ]
  },
  {
   "cell_type": "code",
   "execution_count": 123,
   "metadata": {
    "collapsed": true,
    "deletable": true,
    "editable": true
   },
   "outputs": [],
   "source": [
    "# 抽出対象をbool値のリストで指定\n",
    "targets = [True, True, False, False, True, False] "
   ]
  },
  {
   "cell_type": "code",
   "execution_count": 124,
   "metadata": {
    "collapsed": false,
    "deletable": true,
    "editable": true
   },
   "outputs": [
    {
     "data": {
      "text/html": [
       "<div>\n",
       "<style>\n",
       "    .dataframe thead tr:only-child th {\n",
       "        text-align: right;\n",
       "    }\n",
       "\n",
       "    .dataframe thead th {\n",
       "        text-align: left;\n",
       "    }\n",
       "\n",
       "    .dataframe tbody tr th {\n",
       "        vertical-align: top;\n",
       "    }\n",
       "</style>\n",
       "<table border=\"1\" class=\"dataframe\">\n",
       "  <thead>\n",
       "    <tr style=\"text-align: right;\">\n",
       "      <th></th>\n",
       "      <th>DOB</th>\n",
       "      <th>age</th>\n",
       "      <th>alive</th>\n",
       "      <th>family_name</th>\n",
       "      <th>group_name</th>\n",
       "      <th>name</th>\n",
       "    </tr>\n",
       "  </thead>\n",
       "  <tbody>\n",
       "    <tr>\n",
       "      <th>0</th>\n",
       "      <td>1940/10/09</td>\n",
       "      <td>NaN</td>\n",
       "      <td>False</td>\n",
       "      <td>Lennon</td>\n",
       "      <td>Beatles</td>\n",
       "      <td>John</td>\n",
       "    </tr>\n",
       "    <tr>\n",
       "      <th>1</th>\n",
       "      <td>1942/026/18</td>\n",
       "      <td>76.0</td>\n",
       "      <td>True</td>\n",
       "      <td>McCartney</td>\n",
       "      <td>Beatles</td>\n",
       "      <td>Paul</td>\n",
       "    </tr>\n",
       "    <tr>\n",
       "      <th>4</th>\n",
       "      <td>1941/10/13</td>\n",
       "      <td>77.0</td>\n",
       "      <td>True</td>\n",
       "      <td>Simon</td>\n",
       "      <td>Simon_and_Garfunkel</td>\n",
       "      <td>Paul</td>\n",
       "    </tr>\n",
       "  </tbody>\n",
       "</table>\n",
       "</div>"
      ],
      "text/plain": [
       "           DOB   age  alive family_name           group_name  name\n",
       "0   1940/10/09   NaN  False      Lennon              Beatles  John\n",
       "1  1942/026/18  76.0   True   McCartney              Beatles  Paul\n",
       "4   1941/10/13  77.0   True       Simon  Simon_and_Garfunkel  Paul"
      ]
     },
     "execution_count": 124,
     "metadata": {},
     "output_type": "execute_result"
    }
   ],
   "source": [
    "df2[targets]"
   ]
  },
  {
   "cell_type": "code",
   "execution_count": 125,
   "metadata": {
    "collapsed": false,
    "deletable": true,
    "editable": true
   },
   "outputs": [
    {
     "data": {
      "text/html": [
       "<div>\n",
       "<style>\n",
       "    .dataframe thead tr:only-child th {\n",
       "        text-align: right;\n",
       "    }\n",
       "\n",
       "    .dataframe thead th {\n",
       "        text-align: left;\n",
       "    }\n",
       "\n",
       "    .dataframe tbody tr th {\n",
       "        vertical-align: top;\n",
       "    }\n",
       "</style>\n",
       "<table border=\"1\" class=\"dataframe\">\n",
       "  <thead>\n",
       "    <tr style=\"text-align: right;\">\n",
       "      <th></th>\n",
       "      <th>DOB</th>\n",
       "      <th>age</th>\n",
       "      <th>alive</th>\n",
       "      <th>family_name</th>\n",
       "      <th>group_name</th>\n",
       "      <th>name</th>\n",
       "    </tr>\n",
       "  </thead>\n",
       "  <tbody>\n",
       "    <tr>\n",
       "      <th>1</th>\n",
       "      <td>1942/026/18</td>\n",
       "      <td>76.0</td>\n",
       "      <td>True</td>\n",
       "      <td>McCartney</td>\n",
       "      <td>Beatles</td>\n",
       "      <td>Paul</td>\n",
       "    </tr>\n",
       "    <tr>\n",
       "      <th>3</th>\n",
       "      <td>1940/07/07</td>\n",
       "      <td>78.0</td>\n",
       "      <td>True</td>\n",
       "      <td>Starr</td>\n",
       "      <td>Beatles</td>\n",
       "      <td>Ringo</td>\n",
       "    </tr>\n",
       "    <tr>\n",
       "      <th>4</th>\n",
       "      <td>1941/10/13</td>\n",
       "      <td>77.0</td>\n",
       "      <td>True</td>\n",
       "      <td>Simon</td>\n",
       "      <td>Simon_and_Garfunkel</td>\n",
       "      <td>Paul</td>\n",
       "    </tr>\n",
       "    <tr>\n",
       "      <th>5</th>\n",
       "      <td>1941/11/05</td>\n",
       "      <td>77.0</td>\n",
       "      <td>True</td>\n",
       "      <td>Garfunkel</td>\n",
       "      <td>Simon_and_Garfunkel</td>\n",
       "      <td>Art</td>\n",
       "    </tr>\n",
       "  </tbody>\n",
       "</table>\n",
       "</div>"
      ],
      "text/plain": [
       "           DOB   age  alive family_name           group_name   name\n",
       "1  1942/026/18  76.0   True   McCartney              Beatles   Paul\n",
       "3   1940/07/07  78.0   True       Starr              Beatles  Ringo\n",
       "4   1941/10/13  77.0   True       Simon  Simon_and_Garfunkel   Paul\n",
       "5   1941/11/05  77.0   True   Garfunkel  Simon_and_Garfunkel    Art"
      ]
     },
     "execution_count": 125,
     "metadata": {},
     "output_type": "execute_result"
    }
   ],
   "source": [
    "# df2からalive=Trueのデータのみを抽出する\n",
    "df2[df2.alive]"
   ]
  },
  {
   "cell_type": "code",
   "execution_count": 126,
   "metadata": {
    "collapsed": false,
    "deletable": true,
    "editable": true
   },
   "outputs": [
    {
     "data": {
      "text/html": [
       "<div>\n",
       "<style>\n",
       "    .dataframe thead tr:only-child th {\n",
       "        text-align: right;\n",
       "    }\n",
       "\n",
       "    .dataframe thead th {\n",
       "        text-align: left;\n",
       "    }\n",
       "\n",
       "    .dataframe tbody tr th {\n",
       "        vertical-align: top;\n",
       "    }\n",
       "</style>\n",
       "<table border=\"1\" class=\"dataframe\">\n",
       "  <thead>\n",
       "    <tr style=\"text-align: right;\">\n",
       "      <th></th>\n",
       "      <th>DOB</th>\n",
       "      <th>age</th>\n",
       "      <th>alive</th>\n",
       "      <th>family_name</th>\n",
       "      <th>group_name</th>\n",
       "      <th>name</th>\n",
       "    </tr>\n",
       "  </thead>\n",
       "  <tbody>\n",
       "    <tr>\n",
       "      <th>0</th>\n",
       "      <td>1940/10/09</td>\n",
       "      <td>NaN</td>\n",
       "      <td>False</td>\n",
       "      <td>Lennon</td>\n",
       "      <td>Beatles</td>\n",
       "      <td>John</td>\n",
       "    </tr>\n",
       "    <tr>\n",
       "      <th>2</th>\n",
       "      <td>1943/02/25</td>\n",
       "      <td>NaN</td>\n",
       "      <td>False</td>\n",
       "      <td>Harrison</td>\n",
       "      <td>Beatles</td>\n",
       "      <td>George</td>\n",
       "    </tr>\n",
       "  </tbody>\n",
       "</table>\n",
       "</div>"
      ],
      "text/plain": [
       "          DOB  age  alive family_name group_name    name\n",
       "0  1940/10/09  NaN  False      Lennon    Beatles    John\n",
       "2  1943/02/25  NaN  False    Harrison    Beatles  George"
      ]
     },
     "execution_count": 126,
     "metadata": {},
     "output_type": "execute_result"
    }
   ],
   "source": [
    "# ~をつけるとnotの意味になる\n",
    "df2[~df2.alive]"
   ]
  },
  {
   "cell_type": "code",
   "execution_count": 127,
   "metadata": {
    "collapsed": false,
    "deletable": true,
    "editable": true
   },
   "outputs": [
    {
     "data": {
      "text/plain": [
       "0    False\n",
       "1    False\n",
       "2    False\n",
       "3     True\n",
       "4     True\n",
       "5     True\n",
       "Name: age, dtype: bool"
      ]
     },
     "execution_count": 127,
     "metadata": {},
     "output_type": "execute_result"
    }
   ],
   "source": [
    "# 77歳以上を抽出\n",
    "df2.age >= 77"
   ]
  },
  {
   "cell_type": "code",
   "execution_count": 128,
   "metadata": {
    "collapsed": false,
    "deletable": true,
    "editable": true
   },
   "outputs": [
    {
     "data": {
      "text/html": [
       "<div>\n",
       "<style>\n",
       "    .dataframe thead tr:only-child th {\n",
       "        text-align: right;\n",
       "    }\n",
       "\n",
       "    .dataframe thead th {\n",
       "        text-align: left;\n",
       "    }\n",
       "\n",
       "    .dataframe tbody tr th {\n",
       "        vertical-align: top;\n",
       "    }\n",
       "</style>\n",
       "<table border=\"1\" class=\"dataframe\">\n",
       "  <thead>\n",
       "    <tr style=\"text-align: right;\">\n",
       "      <th></th>\n",
       "      <th>DOB</th>\n",
       "      <th>age</th>\n",
       "      <th>alive</th>\n",
       "      <th>family_name</th>\n",
       "      <th>group_name</th>\n",
       "      <th>name</th>\n",
       "    </tr>\n",
       "  </thead>\n",
       "  <tbody>\n",
       "    <tr>\n",
       "      <th>3</th>\n",
       "      <td>1940/07/07</td>\n",
       "      <td>78.0</td>\n",
       "      <td>True</td>\n",
       "      <td>Starr</td>\n",
       "      <td>Beatles</td>\n",
       "      <td>Ringo</td>\n",
       "    </tr>\n",
       "    <tr>\n",
       "      <th>4</th>\n",
       "      <td>1941/10/13</td>\n",
       "      <td>77.0</td>\n",
       "      <td>True</td>\n",
       "      <td>Simon</td>\n",
       "      <td>Simon_and_Garfunkel</td>\n",
       "      <td>Paul</td>\n",
       "    </tr>\n",
       "    <tr>\n",
       "      <th>5</th>\n",
       "      <td>1941/11/05</td>\n",
       "      <td>77.0</td>\n",
       "      <td>True</td>\n",
       "      <td>Garfunkel</td>\n",
       "      <td>Simon_and_Garfunkel</td>\n",
       "      <td>Art</td>\n",
       "    </tr>\n",
       "  </tbody>\n",
       "</table>\n",
       "</div>"
      ],
      "text/plain": [
       "          DOB   age  alive family_name           group_name   name\n",
       "3  1940/07/07  78.0   True       Starr              Beatles  Ringo\n",
       "4  1941/10/13  77.0   True       Simon  Simon_and_Garfunkel   Paul\n",
       "5  1941/11/05  77.0   True   Garfunkel  Simon_and_Garfunkel    Art"
      ]
     },
     "execution_count": 128,
     "metadata": {},
     "output_type": "execute_result"
    }
   ],
   "source": [
    "df2[df2.age >= 77]"
   ]
  },
  {
   "cell_type": "code",
   "execution_count": 129,
   "metadata": {
    "collapsed": false,
    "deletable": true,
    "editable": true
   },
   "outputs": [
    {
     "data": {
      "text/html": [
       "<div>\n",
       "<style>\n",
       "    .dataframe thead tr:only-child th {\n",
       "        text-align: right;\n",
       "    }\n",
       "\n",
       "    .dataframe thead th {\n",
       "        text-align: left;\n",
       "    }\n",
       "\n",
       "    .dataframe tbody tr th {\n",
       "        vertical-align: top;\n",
       "    }\n",
       "</style>\n",
       "<table border=\"1\" class=\"dataframe\">\n",
       "  <thead>\n",
       "    <tr style=\"text-align: right;\">\n",
       "      <th></th>\n",
       "      <th>DOB</th>\n",
       "      <th>age</th>\n",
       "      <th>alive</th>\n",
       "      <th>family_name</th>\n",
       "      <th>group_name</th>\n",
       "      <th>name</th>\n",
       "    </tr>\n",
       "  </thead>\n",
       "  <tbody>\n",
       "    <tr>\n",
       "      <th>0</th>\n",
       "      <td>1940/10/09</td>\n",
       "      <td>NaN</td>\n",
       "      <td>False</td>\n",
       "      <td>Lennon</td>\n",
       "      <td>Beatles</td>\n",
       "      <td>John</td>\n",
       "    </tr>\n",
       "    <tr>\n",
       "      <th>2</th>\n",
       "      <td>1943/02/25</td>\n",
       "      <td>NaN</td>\n",
       "      <td>False</td>\n",
       "      <td>Harrison</td>\n",
       "      <td>Beatles</td>\n",
       "      <td>George</td>\n",
       "    </tr>\n",
       "  </tbody>\n",
       "</table>\n",
       "</div>"
      ],
      "text/plain": [
       "          DOB  age  alive family_name group_name    name\n",
       "0  1940/10/09  NaN  False      Lennon    Beatles    John\n",
       "2  1943/02/25  NaN  False    Harrison    Beatles  George"
      ]
     },
     "execution_count": 129,
     "metadata": {},
     "output_type": "execute_result"
    }
   ],
   "source": [
    "df2[~df2.alive]"
   ]
  },
  {
   "cell_type": "code",
   "execution_count": 130,
   "metadata": {
    "collapsed": false,
    "deletable": true,
    "editable": true
   },
   "outputs": [
    {
     "data": {
      "text/html": [
       "<div>\n",
       "<style>\n",
       "    .dataframe thead tr:only-child th {\n",
       "        text-align: right;\n",
       "    }\n",
       "\n",
       "    .dataframe thead th {\n",
       "        text-align: left;\n",
       "    }\n",
       "\n",
       "    .dataframe tbody tr th {\n",
       "        vertical-align: top;\n",
       "    }\n",
       "</style>\n",
       "<table border=\"1\" class=\"dataframe\">\n",
       "  <thead>\n",
       "    <tr style=\"text-align: right;\">\n",
       "      <th></th>\n",
       "      <th>DOB</th>\n",
       "      <th>age</th>\n",
       "      <th>alive</th>\n",
       "      <th>family_name</th>\n",
       "      <th>group_name</th>\n",
       "      <th>name</th>\n",
       "    </tr>\n",
       "  </thead>\n",
       "  <tbody>\n",
       "    <tr>\n",
       "      <th>0</th>\n",
       "      <td>1940/10/09</td>\n",
       "      <td>NaN</td>\n",
       "      <td>False</td>\n",
       "      <td>Lennon</td>\n",
       "      <td>Beatles</td>\n",
       "      <td>John</td>\n",
       "    </tr>\n",
       "    <tr>\n",
       "      <th>1</th>\n",
       "      <td>1942/026/18</td>\n",
       "      <td>76.0</td>\n",
       "      <td>True</td>\n",
       "      <td>McCartney</td>\n",
       "      <td>Beatles</td>\n",
       "      <td>Paul</td>\n",
       "    </tr>\n",
       "    <tr>\n",
       "      <th>2</th>\n",
       "      <td>1943/02/25</td>\n",
       "      <td>NaN</td>\n",
       "      <td>False</td>\n",
       "      <td>Harrison</td>\n",
       "      <td>Beatles</td>\n",
       "      <td>George</td>\n",
       "    </tr>\n",
       "    <tr>\n",
       "      <th>3</th>\n",
       "      <td>1940/07/07</td>\n",
       "      <td>78.0</td>\n",
       "      <td>True</td>\n",
       "      <td>Starr</td>\n",
       "      <td>Beatles</td>\n",
       "      <td>Ringo</td>\n",
       "    </tr>\n",
       "  </tbody>\n",
       "</table>\n",
       "</div>"
      ],
      "text/plain": [
       "           DOB   age  alive family_name group_name    name\n",
       "0   1940/10/09   NaN  False      Lennon    Beatles    John\n",
       "1  1942/026/18  76.0   True   McCartney    Beatles    Paul\n",
       "2   1943/02/25   NaN  False    Harrison    Beatles  George\n",
       "3   1940/07/07  78.0   True       Starr    Beatles   Ringo"
      ]
     },
     "execution_count": 130,
     "metadata": {},
     "output_type": "execute_result"
    }
   ],
   "source": [
    "# Beatlesメンバーを抽出\n",
    "df2[df2[\"group_name\"] == \"Beatles\"]"
   ]
  },
  {
   "cell_type": "code",
   "execution_count": 131,
   "metadata": {
    "collapsed": false,
    "deletable": true,
    "editable": true
   },
   "outputs": [
    {
     "data": {
      "text/html": [
       "<div>\n",
       "<style>\n",
       "    .dataframe thead tr:only-child th {\n",
       "        text-align: right;\n",
       "    }\n",
       "\n",
       "    .dataframe thead th {\n",
       "        text-align: left;\n",
       "    }\n",
       "\n",
       "    .dataframe tbody tr th {\n",
       "        vertical-align: top;\n",
       "    }\n",
       "</style>\n",
       "<table border=\"1\" class=\"dataframe\">\n",
       "  <thead>\n",
       "    <tr style=\"text-align: right;\">\n",
       "      <th></th>\n",
       "      <th>A</th>\n",
       "      <th>B</th>\n",
       "      <th>C</th>\n",
       "      <th>D</th>\n",
       "      <th>E</th>\n",
       "      <th>F</th>\n",
       "      <th>G</th>\n",
       "    </tr>\n",
       "    <tr>\n",
       "      <th>data_idx</th>\n",
       "      <th></th>\n",
       "      <th></th>\n",
       "      <th></th>\n",
       "      <th></th>\n",
       "      <th></th>\n",
       "      <th></th>\n",
       "      <th></th>\n",
       "    </tr>\n",
       "  </thead>\n",
       "  <tbody>\n",
       "    <tr>\n",
       "      <th>data_1</th>\n",
       "      <td>58</td>\n",
       "      <td>0</td>\n",
       "      <td>31.0</td>\n",
       "      <td>0.6028</td>\n",
       "      <td>73.922054</td>\n",
       "      <td>0.0179</td>\n",
       "      <td>0.0</td>\n",
       "    </tr>\n",
       "    <tr>\n",
       "      <th>data_10</th>\n",
       "      <td>109</td>\n",
       "      <td>0</td>\n",
       "      <td>56.0</td>\n",
       "      <td>0.5000</td>\n",
       "      <td>575.585790</td>\n",
       "      <td>0.0346</td>\n",
       "      <td>0.0</td>\n",
       "    </tr>\n",
       "    <tr>\n",
       "      <th>data_11</th>\n",
       "      <td>77</td>\n",
       "      <td>0</td>\n",
       "      <td>33.0</td>\n",
       "      <td>0.6281</td>\n",
       "      <td>144.838806</td>\n",
       "      <td>0.0343</td>\n",
       "      <td>0.0</td>\n",
       "    </tr>\n",
       "    <tr>\n",
       "      <th>data_12</th>\n",
       "      <td>181</td>\n",
       "      <td>126</td>\n",
       "      <td>55.0</td>\n",
       "      <td>0.5000</td>\n",
       "      <td>NaN</td>\n",
       "      <td>0.0551</td>\n",
       "      <td>0.0</td>\n",
       "    </tr>\n",
       "    <tr>\n",
       "      <th>data_13</th>\n",
       "      <td>91</td>\n",
       "      <td>0</td>\n",
       "      <td>45.0</td>\n",
       "      <td>0.5220</td>\n",
       "      <td>896.439718</td>\n",
       "      <td>0.0044</td>\n",
       "      <td>0.0</td>\n",
       "    </tr>\n",
       "  </tbody>\n",
       "</table>\n",
       "</div>"
      ],
      "text/plain": [
       "            A    B     C       D           E       F    G\n",
       "data_idx                                                 \n",
       "data_1     58    0  31.0  0.6028   73.922054  0.0179  0.0\n",
       "data_10   109    0  56.0  0.5000  575.585790  0.0346  0.0\n",
       "data_11    77    0  33.0  0.6281  144.838806  0.0343  0.0\n",
       "data_12   181  126  55.0  0.5000         NaN  0.0551  0.0\n",
       "data_13    91    0  45.0  0.5220  896.439718  0.0044  0.0"
      ]
     },
     "execution_count": 131,
     "metadata": {},
     "output_type": "execute_result"
    }
   ],
   "source": [
    "# 条件に当てはまる要素のみ値を変更することも可能\n",
    "df3_copy = df3.copy()  #　もとのデータフレームを上書きしないようにcopyを作成しています。\n",
    "df3_copy[df3_copy < 0] = 0  # 負の値のものを 0 に書き換える。\n",
    "df3_copy.head()"
   ]
  },
  {
   "cell_type": "code",
   "execution_count": null,
   "metadata": {
    "collapsed": false,
    "deletable": true,
    "editable": true
   },
   "outputs": [],
   "source": []
  },
  {
   "cell_type": "markdown",
   "metadata": {
    "deletable": true,
    "editable": true
   },
   "source": [
    "* 以下はややマニアックな例です"
   ]
  },
  {
   "cell_type": "code",
   "execution_count": 132,
   "metadata": {
    "collapsed": false,
    "deletable": true,
    "editable": true
   },
   "outputs": [
    {
     "data": {
      "text/html": [
       "<div>\n",
       "<style>\n",
       "    .dataframe thead tr:only-child th {\n",
       "        text-align: right;\n",
       "    }\n",
       "\n",
       "    .dataframe thead th {\n",
       "        text-align: left;\n",
       "    }\n",
       "\n",
       "    .dataframe tbody tr th {\n",
       "        vertical-align: top;\n",
       "    }\n",
       "</style>\n",
       "<table border=\"1\" class=\"dataframe\">\n",
       "  <thead>\n",
       "    <tr style=\"text-align: right;\">\n",
       "      <th></th>\n",
       "      <th>DOB</th>\n",
       "      <th>age</th>\n",
       "      <th>alive</th>\n",
       "      <th>family_name</th>\n",
       "      <th>group_name</th>\n",
       "      <th>name</th>\n",
       "    </tr>\n",
       "  </thead>\n",
       "  <tbody>\n",
       "    <tr>\n",
       "      <th>0</th>\n",
       "      <td>1940/10/09</td>\n",
       "      <td>NaN</td>\n",
       "      <td>False</td>\n",
       "      <td>Lennon</td>\n",
       "      <td>Beatles</td>\n",
       "      <td>John</td>\n",
       "    </tr>\n",
       "    <tr>\n",
       "      <th>1</th>\n",
       "      <td>1942/026/18</td>\n",
       "      <td>76.0</td>\n",
       "      <td>True</td>\n",
       "      <td>McCartney</td>\n",
       "      <td>Beatles</td>\n",
       "      <td>Paul</td>\n",
       "    </tr>\n",
       "    <tr>\n",
       "      <th>2</th>\n",
       "      <td>1943/02/25</td>\n",
       "      <td>NaN</td>\n",
       "      <td>False</td>\n",
       "      <td>Harrison</td>\n",
       "      <td>Beatles</td>\n",
       "      <td>George</td>\n",
       "    </tr>\n",
       "    <tr>\n",
       "      <th>3</th>\n",
       "      <td>1940/07/07</td>\n",
       "      <td>78.0</td>\n",
       "      <td>True</td>\n",
       "      <td>Starr</td>\n",
       "      <td>Beatles</td>\n",
       "      <td>Ringo</td>\n",
       "    </tr>\n",
       "    <tr>\n",
       "      <th>4</th>\n",
       "      <td>1941/10/13</td>\n",
       "      <td>77.0</td>\n",
       "      <td>True</td>\n",
       "      <td>Simon</td>\n",
       "      <td>Simon_and_Garfunkel</td>\n",
       "      <td>Paul</td>\n",
       "    </tr>\n",
       "    <tr>\n",
       "      <th>5</th>\n",
       "      <td>1941/11/05</td>\n",
       "      <td>77.0</td>\n",
       "      <td>True</td>\n",
       "      <td>Garfunkel</td>\n",
       "      <td>Simon_and_Garfunkel</td>\n",
       "      <td>Art</td>\n",
       "    </tr>\n",
       "  </tbody>\n",
       "</table>\n",
       "</div>"
      ],
      "text/plain": [
       "           DOB   age  alive family_name           group_name    name\n",
       "0   1940/10/09   NaN  False      Lennon              Beatles    John\n",
       "1  1942/026/18  76.0   True   McCartney              Beatles    Paul\n",
       "2   1943/02/25   NaN  False    Harrison              Beatles  George\n",
       "3   1940/07/07  78.0   True       Starr              Beatles   Ringo\n",
       "4   1941/10/13  77.0   True       Simon  Simon_and_Garfunkel    Paul\n",
       "5   1941/11/05  77.0   True   Garfunkel  Simon_and_Garfunkel     Art"
      ]
     },
     "execution_count": 132,
     "metadata": {},
     "output_type": "execute_result"
    }
   ],
   "source": [
    "# isin で複数候補を対象にできる\n",
    "df2[df2[\"group_name\"].isin([\"Beatles\", \"Simon_and_Garfunkel\"])]"
   ]
  },
  {
   "cell_type": "code",
   "execution_count": 133,
   "metadata": {
    "collapsed": false,
    "deletable": true,
    "editable": true
   },
   "outputs": [
    {
     "data": {
      "text/html": [
       "<div>\n",
       "<style>\n",
       "    .dataframe thead tr:only-child th {\n",
       "        text-align: right;\n",
       "    }\n",
       "\n",
       "    .dataframe thead th {\n",
       "        text-align: left;\n",
       "    }\n",
       "\n",
       "    .dataframe tbody tr th {\n",
       "        vertical-align: top;\n",
       "    }\n",
       "</style>\n",
       "<table border=\"1\" class=\"dataframe\">\n",
       "  <thead>\n",
       "    <tr style=\"text-align: right;\">\n",
       "      <th></th>\n",
       "      <th>DOB</th>\n",
       "      <th>age</th>\n",
       "      <th>alive</th>\n",
       "      <th>family_name</th>\n",
       "      <th>group_name</th>\n",
       "      <th>name</th>\n",
       "    </tr>\n",
       "  </thead>\n",
       "  <tbody>\n",
       "    <tr>\n",
       "      <th>0</th>\n",
       "      <td>1940/10/09</td>\n",
       "      <td>NaN</td>\n",
       "      <td>False</td>\n",
       "      <td>Lennon</td>\n",
       "      <td>Beatles</td>\n",
       "      <td>John</td>\n",
       "    </tr>\n",
       "    <tr>\n",
       "      <th>1</th>\n",
       "      <td>1942/026/18</td>\n",
       "      <td>76.0</td>\n",
       "      <td>True</td>\n",
       "      <td>McCartney</td>\n",
       "      <td>Beatles</td>\n",
       "      <td>Paul</td>\n",
       "    </tr>\n",
       "    <tr>\n",
       "      <th>2</th>\n",
       "      <td>1943/02/25</td>\n",
       "      <td>NaN</td>\n",
       "      <td>False</td>\n",
       "      <td>Harrison</td>\n",
       "      <td>Beatles</td>\n",
       "      <td>George</td>\n",
       "    </tr>\n",
       "    <tr>\n",
       "      <th>3</th>\n",
       "      <td>1940/07/07</td>\n",
       "      <td>78.0</td>\n",
       "      <td>True</td>\n",
       "      <td>Starr</td>\n",
       "      <td>Beatles</td>\n",
       "      <td>Ringo</td>\n",
       "    </tr>\n",
       "    <tr>\n",
       "      <th>4</th>\n",
       "      <td>1941/10/13</td>\n",
       "      <td>77.0</td>\n",
       "      <td>True</td>\n",
       "      <td>Simon</td>\n",
       "      <td>Simon_and_Garfunkel</td>\n",
       "      <td>Paul</td>\n",
       "    </tr>\n",
       "    <tr>\n",
       "      <th>5</th>\n",
       "      <td>1941/11/05</td>\n",
       "      <td>77.0</td>\n",
       "      <td>True</td>\n",
       "      <td>Garfunkel</td>\n",
       "      <td>Simon_and_Garfunkel</td>\n",
       "      <td>Art</td>\n",
       "    </tr>\n",
       "  </tbody>\n",
       "</table>\n",
       "</div>"
      ],
      "text/plain": [
       "           DOB   age  alive family_name           group_name    name\n",
       "0   1940/10/09   NaN  False      Lennon              Beatles    John\n",
       "1  1942/026/18  76.0   True   McCartney              Beatles    Paul\n",
       "2   1943/02/25   NaN  False    Harrison              Beatles  George\n",
       "3   1940/07/07  78.0   True       Starr              Beatles   Ringo\n",
       "4   1941/10/13  77.0   True       Simon  Simon_and_Garfunkel    Paul\n",
       "5   1941/11/05  77.0   True   Garfunkel  Simon_and_Garfunkel     Art"
      ]
     },
     "execution_count": 133,
     "metadata": {},
     "output_type": "execute_result"
    }
   ],
   "source": [
    "# or (\"|\") を使っても同様の結果が得られる。演算子の優先順位を示すために ( ) が必要。\n",
    "df2[(df2[\"group_name\"] == \"Beatles\") | (df2[\"group_name\"] == \"Simon_and_Garfunkel\")]"
   ]
  },
  {
   "cell_type": "code",
   "execution_count": 134,
   "metadata": {
    "collapsed": false,
    "deletable": true,
    "editable": true
   },
   "outputs": [
    {
     "data": {
      "text/html": [
       "<div>\n",
       "<style>\n",
       "    .dataframe thead tr:only-child th {\n",
       "        text-align: right;\n",
       "    }\n",
       "\n",
       "    .dataframe thead th {\n",
       "        text-align: left;\n",
       "    }\n",
       "\n",
       "    .dataframe tbody tr th {\n",
       "        vertical-align: top;\n",
       "    }\n",
       "</style>\n",
       "<table border=\"1\" class=\"dataframe\">\n",
       "  <thead>\n",
       "    <tr style=\"text-align: right;\">\n",
       "      <th></th>\n",
       "      <th>A</th>\n",
       "      <th>B</th>\n",
       "      <th>C</th>\n",
       "      <th>D</th>\n",
       "      <th>E</th>\n",
       "      <th>F</th>\n",
       "      <th>G</th>\n",
       "    </tr>\n",
       "    <tr>\n",
       "      <th>data_idx</th>\n",
       "      <th></th>\n",
       "      <th></th>\n",
       "      <th></th>\n",
       "      <th></th>\n",
       "      <th></th>\n",
       "      <th></th>\n",
       "      <th></th>\n",
       "    </tr>\n",
       "  </thead>\n",
       "  <tbody>\n",
       "    <tr>\n",
       "      <th>data_10</th>\n",
       "      <td>109</td>\n",
       "      <td>-53</td>\n",
       "      <td>56.0</td>\n",
       "      <td>0.5000</td>\n",
       "      <td>575.585790</td>\n",
       "      <td>0.0346</td>\n",
       "      <td>0.0000</td>\n",
       "    </tr>\n",
       "    <tr>\n",
       "      <th>data_20</th>\n",
       "      <td>20</td>\n",
       "      <td>-4</td>\n",
       "      <td>16.0</td>\n",
       "      <td>0.5714</td>\n",
       "      <td>3.293830</td>\n",
       "      <td>0.0469</td>\n",
       "      <td>-0.0441</td>\n",
       "    </tr>\n",
       "    <tr>\n",
       "      <th>data_30</th>\n",
       "      <td>127</td>\n",
       "      <td>-77</td>\n",
       "      <td>50.0</td>\n",
       "      <td>0.5000</td>\n",
       "      <td>164.149599</td>\n",
       "      <td>0.1493</td>\n",
       "      <td>0.0000</td>\n",
       "    </tr>\n",
       "  </tbody>\n",
       "</table>\n",
       "</div>"
      ],
      "text/plain": [
       "            A   B     C       D           E       F       G\n",
       "data_idx                                                   \n",
       "data_10   109 -53  56.0  0.5000  575.585790  0.0346  0.0000\n",
       "data_20    20  -4  16.0  0.5714    3.293830  0.0469 -0.0441\n",
       "data_30   127 -77  50.0  0.5000  164.149599  0.1493  0.0000"
      ]
     },
     "execution_count": 134,
     "metadata": {},
     "output_type": "execute_result"
    }
   ],
   "source": [
    "# indexを対象にして条件指定抽出\n",
    "df3[df3.index.str.endswith(\"0\")]  # indexの最後が0で終わっているものだけを抜き出しています"
   ]
  },
  {
   "cell_type": "markdown",
   "metadata": {
    "deletable": true,
    "editable": true
   },
   "source": [
    "上記以外にもboolean indexingを使って様々な抽出を行うことができます。\n"
   ]
  },
  {
   "cell_type": "code",
   "execution_count": null,
   "metadata": {
    "collapsed": false,
    "deletable": true,
    "editable": true
   },
   "outputs": [],
   "source": []
  },
  {
   "cell_type": "code",
   "execution_count": null,
   "metadata": {
    "collapsed": false,
    "deletable": true,
    "editable": true
   },
   "outputs": [],
   "source": []
  },
  {
   "cell_type": "markdown",
   "metadata": {
    "deletable": true,
    "editable": true
   },
   "source": [
    "# 新規の行・列の追加、行・列の編集"
   ]
  },
  {
   "cell_type": "code",
   "execution_count": 135,
   "metadata": {
    "collapsed": false,
    "deletable": true,
    "editable": true
   },
   "outputs": [
    {
     "data": {
      "text/html": [
       "<div>\n",
       "<style>\n",
       "    .dataframe thead tr:only-child th {\n",
       "        text-align: right;\n",
       "    }\n",
       "\n",
       "    .dataframe thead th {\n",
       "        text-align: left;\n",
       "    }\n",
       "\n",
       "    .dataframe tbody tr th {\n",
       "        vertical-align: top;\n",
       "    }\n",
       "</style>\n",
       "<table border=\"1\" class=\"dataframe\">\n",
       "  <thead>\n",
       "    <tr style=\"text-align: right;\">\n",
       "      <th></th>\n",
       "      <th>A</th>\n",
       "      <th>B</th>\n",
       "      <th>C</th>\n",
       "    </tr>\n",
       "  </thead>\n",
       "  <tbody>\n",
       "    <tr>\n",
       "      <th>0</th>\n",
       "      <td>1</td>\n",
       "      <td>2</td>\n",
       "      <td>3</td>\n",
       "    </tr>\n",
       "    <tr>\n",
       "      <th>1</th>\n",
       "      <td>10</td>\n",
       "      <td>20</td>\n",
       "      <td>30</td>\n",
       "    </tr>\n",
       "    <tr>\n",
       "      <th>2</th>\n",
       "      <td>100</td>\n",
       "      <td>200</td>\n",
       "      <td>300</td>\n",
       "    </tr>\n",
       "    <tr>\n",
       "      <th>3</th>\n",
       "      <td>1000</td>\n",
       "      <td>2000</td>\n",
       "      <td>3000</td>\n",
       "    </tr>\n",
       "  </tbody>\n",
       "</table>\n",
       "</div>"
      ],
      "text/plain": [
       "      A     B     C\n",
       "0     1     2     3\n",
       "1    10    20    30\n",
       "2   100   200   300\n",
       "3  1000  2000  3000"
      ]
     },
     "execution_count": 135,
     "metadata": {},
     "output_type": "execute_result"
    }
   ],
   "source": [
    "df1"
   ]
  },
  {
   "cell_type": "markdown",
   "metadata": {
    "deletable": true,
    "editable": true
   },
   "source": [
    "## 列の操作"
   ]
  },
  {
   "cell_type": "markdown",
   "metadata": {
    "deletable": true,
    "editable": true
   },
   "source": [
    "* 列の追加"
   ]
  },
  {
   "cell_type": "code",
   "execution_count": 136,
   "metadata": {
    "collapsed": false,
    "deletable": true,
    "editable": true
   },
   "outputs": [],
   "source": [
    "# 列の追加\n",
    "df1[\"D\"] = [4, 40, 400, 4000]  # すでにD列が存在している場合には上書きになります。"
   ]
  },
  {
   "cell_type": "code",
   "execution_count": 137,
   "metadata": {
    "collapsed": false,
    "deletable": true,
    "editable": true
   },
   "outputs": [
    {
     "data": {
      "text/html": [
       "<div>\n",
       "<style>\n",
       "    .dataframe thead tr:only-child th {\n",
       "        text-align: right;\n",
       "    }\n",
       "\n",
       "    .dataframe thead th {\n",
       "        text-align: left;\n",
       "    }\n",
       "\n",
       "    .dataframe tbody tr th {\n",
       "        vertical-align: top;\n",
       "    }\n",
       "</style>\n",
       "<table border=\"1\" class=\"dataframe\">\n",
       "  <thead>\n",
       "    <tr style=\"text-align: right;\">\n",
       "      <th></th>\n",
       "      <th>A</th>\n",
       "      <th>B</th>\n",
       "      <th>C</th>\n",
       "      <th>D</th>\n",
       "    </tr>\n",
       "  </thead>\n",
       "  <tbody>\n",
       "    <tr>\n",
       "      <th>0</th>\n",
       "      <td>1</td>\n",
       "      <td>2</td>\n",
       "      <td>3</td>\n",
       "      <td>4</td>\n",
       "    </tr>\n",
       "    <tr>\n",
       "      <th>1</th>\n",
       "      <td>10</td>\n",
       "      <td>20</td>\n",
       "      <td>30</td>\n",
       "      <td>40</td>\n",
       "    </tr>\n",
       "    <tr>\n",
       "      <th>2</th>\n",
       "      <td>100</td>\n",
       "      <td>200</td>\n",
       "      <td>300</td>\n",
       "      <td>400</td>\n",
       "    </tr>\n",
       "    <tr>\n",
       "      <th>3</th>\n",
       "      <td>1000</td>\n",
       "      <td>2000</td>\n",
       "      <td>3000</td>\n",
       "      <td>4000</td>\n",
       "    </tr>\n",
       "  </tbody>\n",
       "</table>\n",
       "</div>"
      ],
      "text/plain": [
       "      A     B     C     D\n",
       "0     1     2     3     4\n",
       "1    10    20    30    40\n",
       "2   100   200   300   400\n",
       "3  1000  2000  3000  4000"
      ]
     },
     "execution_count": 137,
     "metadata": {},
     "output_type": "execute_result"
    }
   ],
   "source": [
    "# 確認\n",
    "df1"
   ]
  },
  {
   "cell_type": "markdown",
   "metadata": {
    "deletable": true,
    "editable": true
   },
   "source": [
    "* 列の編集"
   ]
  },
  {
   "cell_type": "code",
   "execution_count": 138,
   "metadata": {
    "collapsed": false,
    "deletable": true,
    "editable": true
   },
   "outputs": [],
   "source": [
    "df1[\"C\"] = df1[\"C\"] * 10\n",
    "df1[\"D\"] = [4, 44, 444, 4444]"
   ]
  },
  {
   "cell_type": "code",
   "execution_count": 139,
   "metadata": {
    "collapsed": false,
    "deletable": true,
    "editable": true
   },
   "outputs": [
    {
     "data": {
      "text/html": [
       "<div>\n",
       "<style>\n",
       "    .dataframe thead tr:only-child th {\n",
       "        text-align: right;\n",
       "    }\n",
       "\n",
       "    .dataframe thead th {\n",
       "        text-align: left;\n",
       "    }\n",
       "\n",
       "    .dataframe tbody tr th {\n",
       "        vertical-align: top;\n",
       "    }\n",
       "</style>\n",
       "<table border=\"1\" class=\"dataframe\">\n",
       "  <thead>\n",
       "    <tr style=\"text-align: right;\">\n",
       "      <th></th>\n",
       "      <th>A</th>\n",
       "      <th>B</th>\n",
       "      <th>C</th>\n",
       "      <th>D</th>\n",
       "    </tr>\n",
       "  </thead>\n",
       "  <tbody>\n",
       "    <tr>\n",
       "      <th>0</th>\n",
       "      <td>1</td>\n",
       "      <td>2</td>\n",
       "      <td>30</td>\n",
       "      <td>4</td>\n",
       "    </tr>\n",
       "    <tr>\n",
       "      <th>1</th>\n",
       "      <td>10</td>\n",
       "      <td>20</td>\n",
       "      <td>300</td>\n",
       "      <td>44</td>\n",
       "    </tr>\n",
       "    <tr>\n",
       "      <th>2</th>\n",
       "      <td>100</td>\n",
       "      <td>200</td>\n",
       "      <td>3000</td>\n",
       "      <td>444</td>\n",
       "    </tr>\n",
       "    <tr>\n",
       "      <th>3</th>\n",
       "      <td>1000</td>\n",
       "      <td>2000</td>\n",
       "      <td>30000</td>\n",
       "      <td>4444</td>\n",
       "    </tr>\n",
       "  </tbody>\n",
       "</table>\n",
       "</div>"
      ],
      "text/plain": [
       "      A     B      C     D\n",
       "0     1     2     30     4\n",
       "1    10    20    300    44\n",
       "2   100   200   3000   444\n",
       "3  1000  2000  30000  4444"
      ]
     },
     "execution_count": 139,
     "metadata": {},
     "output_type": "execute_result"
    }
   ],
   "source": [
    "df1"
   ]
  },
  {
   "cell_type": "code",
   "execution_count": 140,
   "metadata": {
    "collapsed": false,
    "deletable": true,
    "editable": true
   },
   "outputs": [],
   "source": [
    "df1[\"AVERAGE\"] = (df1[\"A\"] + df1[\"B\"] + df1[\"C\"] + df1[\"D\"]) / 4"
   ]
  },
  {
   "cell_type": "code",
   "execution_count": 141,
   "metadata": {
    "collapsed": false,
    "deletable": true,
    "editable": true
   },
   "outputs": [],
   "source": [
    "# ↑はmean関数を使っても同じ結果が得られる\n",
    "df1[\"AVERAGE2\"] = df1[[\"A\", \"B\", \"C\", \"D\"]].mean(axis=1)"
   ]
  },
  {
   "cell_type": "code",
   "execution_count": 142,
   "metadata": {
    "collapsed": false,
    "deletable": true,
    "editable": true
   },
   "outputs": [
    {
     "data": {
      "text/html": [
       "<div>\n",
       "<style>\n",
       "    .dataframe thead tr:only-child th {\n",
       "        text-align: right;\n",
       "    }\n",
       "\n",
       "    .dataframe thead th {\n",
       "        text-align: left;\n",
       "    }\n",
       "\n",
       "    .dataframe tbody tr th {\n",
       "        vertical-align: top;\n",
       "    }\n",
       "</style>\n",
       "<table border=\"1\" class=\"dataframe\">\n",
       "  <thead>\n",
       "    <tr style=\"text-align: right;\">\n",
       "      <th></th>\n",
       "      <th>A</th>\n",
       "      <th>B</th>\n",
       "      <th>C</th>\n",
       "      <th>D</th>\n",
       "      <th>AVERAGE</th>\n",
       "      <th>AVERAGE2</th>\n",
       "    </tr>\n",
       "  </thead>\n",
       "  <tbody>\n",
       "    <tr>\n",
       "      <th>0</th>\n",
       "      <td>1</td>\n",
       "      <td>2</td>\n",
       "      <td>30</td>\n",
       "      <td>4</td>\n",
       "      <td>9.25</td>\n",
       "      <td>9.25</td>\n",
       "    </tr>\n",
       "    <tr>\n",
       "      <th>1</th>\n",
       "      <td>10</td>\n",
       "      <td>20</td>\n",
       "      <td>300</td>\n",
       "      <td>44</td>\n",
       "      <td>93.50</td>\n",
       "      <td>93.50</td>\n",
       "    </tr>\n",
       "    <tr>\n",
       "      <th>2</th>\n",
       "      <td>100</td>\n",
       "      <td>200</td>\n",
       "      <td>3000</td>\n",
       "      <td>444</td>\n",
       "      <td>936.00</td>\n",
       "      <td>936.00</td>\n",
       "    </tr>\n",
       "    <tr>\n",
       "      <th>3</th>\n",
       "      <td>1000</td>\n",
       "      <td>2000</td>\n",
       "      <td>30000</td>\n",
       "      <td>4444</td>\n",
       "      <td>9361.00</td>\n",
       "      <td>9361.00</td>\n",
       "    </tr>\n",
       "  </tbody>\n",
       "</table>\n",
       "</div>"
      ],
      "text/plain": [
       "      A     B      C     D  AVERAGE  AVERAGE2\n",
       "0     1     2     30     4     9.25      9.25\n",
       "1    10    20    300    44    93.50     93.50\n",
       "2   100   200   3000   444   936.00    936.00\n",
       "3  1000  2000  30000  4444  9361.00   9361.00"
      ]
     },
     "execution_count": 142,
     "metadata": {},
     "output_type": "execute_result"
    }
   ],
   "source": [
    "df1"
   ]
  },
  {
   "cell_type": "markdown",
   "metadata": {
    "deletable": true,
    "editable": true
   },
   "source": [
    "* 列の削除"
   ]
  },
  {
   "cell_type": "code",
   "execution_count": 143,
   "metadata": {
    "collapsed": false,
    "deletable": true,
    "editable": true
   },
   "outputs": [
    {
     "data": {
      "text/html": [
       "<div>\n",
       "<style>\n",
       "    .dataframe thead tr:only-child th {\n",
       "        text-align: right;\n",
       "    }\n",
       "\n",
       "    .dataframe thead th {\n",
       "        text-align: left;\n",
       "    }\n",
       "\n",
       "    .dataframe tbody tr th {\n",
       "        vertical-align: top;\n",
       "    }\n",
       "</style>\n",
       "<table border=\"1\" class=\"dataframe\">\n",
       "  <thead>\n",
       "    <tr style=\"text-align: right;\">\n",
       "      <th></th>\n",
       "      <th>A</th>\n",
       "      <th>B</th>\n",
       "      <th>C</th>\n",
       "      <th>D</th>\n",
       "      <th>AVERAGE2</th>\n",
       "    </tr>\n",
       "  </thead>\n",
       "  <tbody>\n",
       "    <tr>\n",
       "      <th>0</th>\n",
       "      <td>1</td>\n",
       "      <td>2</td>\n",
       "      <td>30</td>\n",
       "      <td>4</td>\n",
       "      <td>9.25</td>\n",
       "    </tr>\n",
       "    <tr>\n",
       "      <th>1</th>\n",
       "      <td>10</td>\n",
       "      <td>20</td>\n",
       "      <td>300</td>\n",
       "      <td>44</td>\n",
       "      <td>93.50</td>\n",
       "    </tr>\n",
       "    <tr>\n",
       "      <th>2</th>\n",
       "      <td>100</td>\n",
       "      <td>200</td>\n",
       "      <td>3000</td>\n",
       "      <td>444</td>\n",
       "      <td>936.00</td>\n",
       "    </tr>\n",
       "    <tr>\n",
       "      <th>3</th>\n",
       "      <td>1000</td>\n",
       "      <td>2000</td>\n",
       "      <td>30000</td>\n",
       "      <td>4444</td>\n",
       "      <td>9361.00</td>\n",
       "    </tr>\n",
       "  </tbody>\n",
       "</table>\n",
       "</div>"
      ],
      "text/plain": [
       "      A     B      C     D  AVERAGE2\n",
       "0     1     2     30     4      9.25\n",
       "1    10    20    300    44     93.50\n",
       "2   100   200   3000   444    936.00\n",
       "3  1000  2000  30000  4444   9361.00"
      ]
     },
     "execution_count": 143,
     "metadata": {},
     "output_type": "execute_result"
    }
   ],
   "source": [
    "# dropを使った削除\n",
    "# defaultではaxis=0(行)の削除なので、axis=1を指定する \n",
    "df1.drop(\"AVERAGE\", axis=1) "
   ]
  },
  {
   "cell_type": "markdown",
   "metadata": {
    "deletable": true,
    "editable": true
   },
   "source": [
    "↑　dropは非破壊的変更なので、実際には上記では削除できていない。  \n",
    "削除するためには、```df = df.drop(\"AVERAGE\", axis=1) ```というように代入する。"
   ]
  },
  {
   "cell_type": "code",
   "execution_count": 144,
   "metadata": {
    "collapsed": false,
    "deletable": true,
    "editable": true
   },
   "outputs": [
    {
     "data": {
      "text/html": [
       "<div>\n",
       "<style>\n",
       "    .dataframe thead tr:only-child th {\n",
       "        text-align: right;\n",
       "    }\n",
       "\n",
       "    .dataframe thead th {\n",
       "        text-align: left;\n",
       "    }\n",
       "\n",
       "    .dataframe tbody tr th {\n",
       "        vertical-align: top;\n",
       "    }\n",
       "</style>\n",
       "<table border=\"1\" class=\"dataframe\">\n",
       "  <thead>\n",
       "    <tr style=\"text-align: right;\">\n",
       "      <th></th>\n",
       "      <th>A</th>\n",
       "      <th>B</th>\n",
       "      <th>C</th>\n",
       "      <th>D</th>\n",
       "    </tr>\n",
       "  </thead>\n",
       "  <tbody>\n",
       "    <tr>\n",
       "      <th>0</th>\n",
       "      <td>1</td>\n",
       "      <td>2</td>\n",
       "      <td>30</td>\n",
       "      <td>4</td>\n",
       "    </tr>\n",
       "    <tr>\n",
       "      <th>1</th>\n",
       "      <td>10</td>\n",
       "      <td>20</td>\n",
       "      <td>300</td>\n",
       "      <td>44</td>\n",
       "    </tr>\n",
       "    <tr>\n",
       "      <th>2</th>\n",
       "      <td>100</td>\n",
       "      <td>200</td>\n",
       "      <td>3000</td>\n",
       "      <td>444</td>\n",
       "    </tr>\n",
       "    <tr>\n",
       "      <th>3</th>\n",
       "      <td>1000</td>\n",
       "      <td>2000</td>\n",
       "      <td>30000</td>\n",
       "      <td>4444</td>\n",
       "    </tr>\n",
       "  </tbody>\n",
       "</table>\n",
       "</div>"
      ],
      "text/plain": [
       "      A     B      C     D\n",
       "0     1     2     30     4\n",
       "1    10    20    300    44\n",
       "2   100   200   3000   444\n",
       "3  1000  2000  30000  4444"
      ]
     },
     "execution_count": 144,
     "metadata": {},
     "output_type": "execute_result"
    }
   ],
   "source": [
    "# リストを使って複数列も同時に指定可能。\n",
    "df1.drop([\"AVERAGE\", \"AVERAGE2\"], axis=1) "
   ]
  },
  {
   "cell_type": "code",
   "execution_count": 145,
   "metadata": {
    "collapsed": false,
    "deletable": true,
    "editable": true
   },
   "outputs": [
    {
     "data": {
      "text/html": [
       "<div>\n",
       "<style>\n",
       "    .dataframe thead tr:only-child th {\n",
       "        text-align: right;\n",
       "    }\n",
       "\n",
       "    .dataframe thead th {\n",
       "        text-align: left;\n",
       "    }\n",
       "\n",
       "    .dataframe tbody tr th {\n",
       "        vertical-align: top;\n",
       "    }\n",
       "</style>\n",
       "<table border=\"1\" class=\"dataframe\">\n",
       "  <thead>\n",
       "    <tr style=\"text-align: right;\">\n",
       "      <th></th>\n",
       "      <th>A</th>\n",
       "      <th>B</th>\n",
       "      <th>C</th>\n",
       "    </tr>\n",
       "  </thead>\n",
       "  <tbody>\n",
       "    <tr>\n",
       "      <th>0</th>\n",
       "      <td>1</td>\n",
       "      <td>2</td>\n",
       "      <td>3.0</td>\n",
       "    </tr>\n",
       "    <tr>\n",
       "      <th>1</th>\n",
       "      <td>10</td>\n",
       "      <td>20</td>\n",
       "      <td>30.0</td>\n",
       "    </tr>\n",
       "    <tr>\n",
       "      <th>2</th>\n",
       "      <td>100</td>\n",
       "      <td>200</td>\n",
       "      <td>300.0</td>\n",
       "    </tr>\n",
       "    <tr>\n",
       "      <th>3</th>\n",
       "      <td>1000</td>\n",
       "      <td>2000</td>\n",
       "      <td>3000.0</td>\n",
       "    </tr>\n",
       "  </tbody>\n",
       "</table>\n",
       "</div>"
      ],
      "text/plain": [
       "      A     B       C\n",
       "0     1     2     3.0\n",
       "1    10    20    30.0\n",
       "2   100   200   300.0\n",
       "3  1000  2000  3000.0"
      ]
     },
     "execution_count": 145,
     "metadata": {},
     "output_type": "execute_result"
    }
   ],
   "source": [
    "# del を使っても削除可能 (破壊的変更なので即座に反映される)\n",
    "del df1[\"AVERAGE\"], df1[\"AVERAGE2\"],  df1[\"D\"]\n",
    "df1.C = df1.C / 10  # 元の値に戻しておきます。\n",
    "df1\n",
    "# del df1[[\"AVERAGE\", \"AVERAGE2\", \"D\"]] はエラーになった。"
   ]
  },
  {
   "cell_type": "code",
   "execution_count": null,
   "metadata": {
    "collapsed": false,
    "deletable": true,
    "editable": true
   },
   "outputs": [],
   "source": [
    "\n"
   ]
  },
  {
   "cell_type": "markdown",
   "metadata": {
    "deletable": true,
    "editable": true
   },
   "source": [
    "## 行の操作"
   ]
  },
  {
   "cell_type": "code",
   "execution_count": 146,
   "metadata": {
    "collapsed": false,
    "deletable": true,
    "editable": true
   },
   "outputs": [
    {
     "data": {
      "text/html": [
       "<div>\n",
       "<style>\n",
       "    .dataframe thead tr:only-child th {\n",
       "        text-align: right;\n",
       "    }\n",
       "\n",
       "    .dataframe thead th {\n",
       "        text-align: left;\n",
       "    }\n",
       "\n",
       "    .dataframe tbody tr th {\n",
       "        vertical-align: top;\n",
       "    }\n",
       "</style>\n",
       "<table border=\"1\" class=\"dataframe\">\n",
       "  <thead>\n",
       "    <tr style=\"text-align: right;\">\n",
       "      <th></th>\n",
       "      <th>A</th>\n",
       "      <th>B</th>\n",
       "      <th>C</th>\n",
       "    </tr>\n",
       "  </thead>\n",
       "  <tbody>\n",
       "    <tr>\n",
       "      <th>0</th>\n",
       "      <td>1</td>\n",
       "      <td>2</td>\n",
       "      <td>3.0</td>\n",
       "    </tr>\n",
       "    <tr>\n",
       "      <th>1</th>\n",
       "      <td>10</td>\n",
       "      <td>20</td>\n",
       "      <td>30.0</td>\n",
       "    </tr>\n",
       "    <tr>\n",
       "      <th>2</th>\n",
       "      <td>100</td>\n",
       "      <td>200</td>\n",
       "      <td>300.0</td>\n",
       "    </tr>\n",
       "    <tr>\n",
       "      <th>3</th>\n",
       "      <td>1000</td>\n",
       "      <td>2000</td>\n",
       "      <td>3000.0</td>\n",
       "    </tr>\n",
       "  </tbody>\n",
       "</table>\n",
       "</div>"
      ],
      "text/plain": [
       "      A     B       C\n",
       "0     1     2     3.0\n",
       "1    10    20    30.0\n",
       "2   100   200   300.0\n",
       "3  1000  2000  3000.0"
      ]
     },
     "execution_count": 146,
     "metadata": {},
     "output_type": "execute_result"
    }
   ],
   "source": [
    "df1"
   ]
  },
  {
   "cell_type": "markdown",
   "metadata": {
    "deletable": true,
    "editable": true
   },
   "source": [
    "* 行の追加  \n",
    "この方法はややトリッキー。実際には一行ずつ追加する機会は多くないと思われる。  \n",
    "後述の concat で複数のデータフレームを連結する操作の方が多いかも\n"
   ]
  },
  {
   "cell_type": "code",
   "execution_count": 147,
   "metadata": {
    "collapsed": false,
    "deletable": true,
    "editable": true
   },
   "outputs": [
    {
     "data": {
      "text/plain": [
       "A      9\n",
       "B     99\n",
       "C    999\n",
       "dtype: int64"
      ]
     },
     "execution_count": 147,
     "metadata": {},
     "output_type": "execute_result"
    }
   ],
   "source": [
    "# 追加したい行データをあらかじめSeriesとして作成しておく。\n",
    "# このときシリーズのindexには、データフレームの列名（columns）を指定しておく。\n",
    "tmp_S = pd.Series([9,99,999], index=df1.columns)\n",
    "tmp_S"
   ]
  },
  {
   "cell_type": "code",
   "execution_count": 148,
   "metadata": {
    "collapsed": false,
    "deletable": true,
    "editable": true
   },
   "outputs": [],
   "source": [
    "# appendを使って追加する。このとき、新しく列にindexを割り振るので ignore_index=Trueを指定する必要がある\n",
    "df1 = df1.append(tmp_S, ignore_index=True)"
   ]
  },
  {
   "cell_type": "code",
   "execution_count": 149,
   "metadata": {
    "collapsed": false,
    "deletable": true,
    "editable": true
   },
   "outputs": [
    {
     "data": {
      "text/html": [
       "<div>\n",
       "<style>\n",
       "    .dataframe thead tr:only-child th {\n",
       "        text-align: right;\n",
       "    }\n",
       "\n",
       "    .dataframe thead th {\n",
       "        text-align: left;\n",
       "    }\n",
       "\n",
       "    .dataframe tbody tr th {\n",
       "        vertical-align: top;\n",
       "    }\n",
       "</style>\n",
       "<table border=\"1\" class=\"dataframe\">\n",
       "  <thead>\n",
       "    <tr style=\"text-align: right;\">\n",
       "      <th></th>\n",
       "      <th>A</th>\n",
       "      <th>B</th>\n",
       "      <th>C</th>\n",
       "    </tr>\n",
       "  </thead>\n",
       "  <tbody>\n",
       "    <tr>\n",
       "      <th>0</th>\n",
       "      <td>1</td>\n",
       "      <td>2</td>\n",
       "      <td>3.0</td>\n",
       "    </tr>\n",
       "    <tr>\n",
       "      <th>1</th>\n",
       "      <td>10</td>\n",
       "      <td>20</td>\n",
       "      <td>30.0</td>\n",
       "    </tr>\n",
       "    <tr>\n",
       "      <th>2</th>\n",
       "      <td>100</td>\n",
       "      <td>200</td>\n",
       "      <td>300.0</td>\n",
       "    </tr>\n",
       "    <tr>\n",
       "      <th>3</th>\n",
       "      <td>1000</td>\n",
       "      <td>2000</td>\n",
       "      <td>3000.0</td>\n",
       "    </tr>\n",
       "    <tr>\n",
       "      <th>4</th>\n",
       "      <td>9</td>\n",
       "      <td>99</td>\n",
       "      <td>999.0</td>\n",
       "    </tr>\n",
       "  </tbody>\n",
       "</table>\n",
       "</div>"
      ],
      "text/plain": [
       "      A     B       C\n",
       "0     1     2     3.0\n",
       "1    10    20    30.0\n",
       "2   100   200   300.0\n",
       "3  1000  2000  3000.0\n",
       "4     9    99   999.0"
      ]
     },
     "execution_count": 149,
     "metadata": {},
     "output_type": "execute_result"
    }
   ],
   "source": [
    "df1"
   ]
  },
  {
   "cell_type": "markdown",
   "metadata": {
    "deletable": true,
    "editable": true
   },
   "source": [
    "* 行の編集  \n",
    "locまたはilocを使って行を指定して、新しい値を指定する"
   ]
  },
  {
   "cell_type": "code",
   "execution_count": 150,
   "metadata": {
    "collapsed": false,
    "deletable": true,
    "editable": true
   },
   "outputs": [],
   "source": [
    "df1.iloc[4] = df1.iloc[4]*10"
   ]
  },
  {
   "cell_type": "code",
   "execution_count": 151,
   "metadata": {
    "collapsed": false,
    "deletable": true,
    "editable": true
   },
   "outputs": [
    {
     "data": {
      "text/html": [
       "<div>\n",
       "<style>\n",
       "    .dataframe thead tr:only-child th {\n",
       "        text-align: right;\n",
       "    }\n",
       "\n",
       "    .dataframe thead th {\n",
       "        text-align: left;\n",
       "    }\n",
       "\n",
       "    .dataframe tbody tr th {\n",
       "        vertical-align: top;\n",
       "    }\n",
       "</style>\n",
       "<table border=\"1\" class=\"dataframe\">\n",
       "  <thead>\n",
       "    <tr style=\"text-align: right;\">\n",
       "      <th></th>\n",
       "      <th>A</th>\n",
       "      <th>B</th>\n",
       "      <th>C</th>\n",
       "    </tr>\n",
       "  </thead>\n",
       "  <tbody>\n",
       "    <tr>\n",
       "      <th>0</th>\n",
       "      <td>1.0</td>\n",
       "      <td>2.0</td>\n",
       "      <td>3.0</td>\n",
       "    </tr>\n",
       "    <tr>\n",
       "      <th>1</th>\n",
       "      <td>10.0</td>\n",
       "      <td>20.0</td>\n",
       "      <td>30.0</td>\n",
       "    </tr>\n",
       "    <tr>\n",
       "      <th>2</th>\n",
       "      <td>100.0</td>\n",
       "      <td>200.0</td>\n",
       "      <td>300.0</td>\n",
       "    </tr>\n",
       "    <tr>\n",
       "      <th>3</th>\n",
       "      <td>1000.0</td>\n",
       "      <td>2000.0</td>\n",
       "      <td>3000.0</td>\n",
       "    </tr>\n",
       "    <tr>\n",
       "      <th>4</th>\n",
       "      <td>90.0</td>\n",
       "      <td>990.0</td>\n",
       "      <td>9990.0</td>\n",
       "    </tr>\n",
       "  </tbody>\n",
       "</table>\n",
       "</div>"
      ],
      "text/plain": [
       "        A       B       C\n",
       "0     1.0     2.0     3.0\n",
       "1    10.0    20.0    30.0\n",
       "2   100.0   200.0   300.0\n",
       "3  1000.0  2000.0  3000.0\n",
       "4    90.0   990.0  9990.0"
      ]
     },
     "execution_count": 151,
     "metadata": {},
     "output_type": "execute_result"
    }
   ],
   "source": [
    "# 10倍の値になっている\n",
    "df1"
   ]
  },
  {
   "cell_type": "code",
   "execution_count": 152,
   "metadata": {
    "collapsed": true,
    "deletable": true,
    "editable": true
   },
   "outputs": [],
   "source": [
    "# 元にもどす\n",
    "# ここではlocを使っているので []の中身はindex。ただし、この例ではindex=行番号なのでilocを使うのと全く同じ\n",
    "df1.loc[4] = df1.loc[4] / 10  "
   ]
  },
  {
   "cell_type": "code",
   "execution_count": 153,
   "metadata": {
    "collapsed": false,
    "deletable": true,
    "editable": true
   },
   "outputs": [
    {
     "data": {
      "text/html": [
       "<div>\n",
       "<style>\n",
       "    .dataframe thead tr:only-child th {\n",
       "        text-align: right;\n",
       "    }\n",
       "\n",
       "    .dataframe thead th {\n",
       "        text-align: left;\n",
       "    }\n",
       "\n",
       "    .dataframe tbody tr th {\n",
       "        vertical-align: top;\n",
       "    }\n",
       "</style>\n",
       "<table border=\"1\" class=\"dataframe\">\n",
       "  <thead>\n",
       "    <tr style=\"text-align: right;\">\n",
       "      <th></th>\n",
       "      <th>A</th>\n",
       "      <th>B</th>\n",
       "      <th>C</th>\n",
       "    </tr>\n",
       "  </thead>\n",
       "  <tbody>\n",
       "    <tr>\n",
       "      <th>0</th>\n",
       "      <td>1.0</td>\n",
       "      <td>2.0</td>\n",
       "      <td>3.0</td>\n",
       "    </tr>\n",
       "    <tr>\n",
       "      <th>1</th>\n",
       "      <td>10.0</td>\n",
       "      <td>20.0</td>\n",
       "      <td>30.0</td>\n",
       "    </tr>\n",
       "    <tr>\n",
       "      <th>2</th>\n",
       "      <td>100.0</td>\n",
       "      <td>200.0</td>\n",
       "      <td>300.0</td>\n",
       "    </tr>\n",
       "    <tr>\n",
       "      <th>3</th>\n",
       "      <td>1000.0</td>\n",
       "      <td>2000.0</td>\n",
       "      <td>3000.0</td>\n",
       "    </tr>\n",
       "    <tr>\n",
       "      <th>4</th>\n",
       "      <td>9.0</td>\n",
       "      <td>99.0</td>\n",
       "      <td>999.0</td>\n",
       "    </tr>\n",
       "  </tbody>\n",
       "</table>\n",
       "</div>"
      ],
      "text/plain": [
       "        A       B       C\n",
       "0     1.0     2.0     3.0\n",
       "1    10.0    20.0    30.0\n",
       "2   100.0   200.0   300.0\n",
       "3  1000.0  2000.0  3000.0\n",
       "4     9.0    99.0   999.0"
      ]
     },
     "execution_count": 153,
     "metadata": {},
     "output_type": "execute_result"
    }
   ],
   "source": [
    "df1"
   ]
  },
  {
   "cell_type": "code",
   "execution_count": 154,
   "metadata": {
    "collapsed": false,
    "deletable": true,
    "editable": true
   },
   "outputs": [
    {
     "data": {
      "text/html": [
       "<div>\n",
       "<style>\n",
       "    .dataframe thead tr:only-child th {\n",
       "        text-align: right;\n",
       "    }\n",
       "\n",
       "    .dataframe thead th {\n",
       "        text-align: left;\n",
       "    }\n",
       "\n",
       "    .dataframe tbody tr th {\n",
       "        vertical-align: top;\n",
       "    }\n",
       "</style>\n",
       "<table border=\"1\" class=\"dataframe\">\n",
       "  <thead>\n",
       "    <tr style=\"text-align: right;\">\n",
       "      <th></th>\n",
       "      <th>A</th>\n",
       "      <th>B</th>\n",
       "      <th>C</th>\n",
       "    </tr>\n",
       "  </thead>\n",
       "  <tbody>\n",
       "    <tr>\n",
       "      <th>0</th>\n",
       "      <td>0.0</td>\n",
       "      <td>2.0</td>\n",
       "      <td>3.0</td>\n",
       "    </tr>\n",
       "    <tr>\n",
       "      <th>1</th>\n",
       "      <td>10.0</td>\n",
       "      <td>20.0</td>\n",
       "      <td>30.0</td>\n",
       "    </tr>\n",
       "    <tr>\n",
       "      <th>2</th>\n",
       "      <td>100.0</td>\n",
       "      <td>200.0</td>\n",
       "      <td>300.0</td>\n",
       "    </tr>\n",
       "    <tr>\n",
       "      <th>3</th>\n",
       "      <td>1000.0</td>\n",
       "      <td>2000.0</td>\n",
       "      <td>3000.0</td>\n",
       "    </tr>\n",
       "    <tr>\n",
       "      <th>4</th>\n",
       "      <td>9.0</td>\n",
       "      <td>99.0</td>\n",
       "      <td>999.0</td>\n",
       "    </tr>\n",
       "  </tbody>\n",
       "</table>\n",
       "</div>"
      ],
      "text/plain": [
       "        A       B       C\n",
       "0     0.0     2.0     3.0\n",
       "1    10.0    20.0    30.0\n",
       "2   100.0   200.0   300.0\n",
       "3  1000.0  2000.0  3000.0\n",
       "4     9.0    99.0   999.0"
      ]
     },
     "execution_count": 154,
     "metadata": {},
     "output_type": "execute_result"
    }
   ],
   "source": [
    "# 要素の値を指定することももちろん可能\n",
    "df1.loc[0, \"A\"] = 0\n",
    "df1"
   ]
  },
  {
   "cell_type": "markdown",
   "metadata": {
    "deletable": true,
    "editable": true
   },
   "source": [
    "* 行の削除"
   ]
  },
  {
   "cell_type": "code",
   "execution_count": 155,
   "metadata": {
    "collapsed": false,
    "deletable": true,
    "editable": true
   },
   "outputs": [
    {
     "data": {
      "text/html": [
       "<div>\n",
       "<style>\n",
       "    .dataframe thead tr:only-child th {\n",
       "        text-align: right;\n",
       "    }\n",
       "\n",
       "    .dataframe thead th {\n",
       "        text-align: left;\n",
       "    }\n",
       "\n",
       "    .dataframe tbody tr th {\n",
       "        vertical-align: top;\n",
       "    }\n",
       "</style>\n",
       "<table border=\"1\" class=\"dataframe\">\n",
       "  <thead>\n",
       "    <tr style=\"text-align: right;\">\n",
       "      <th></th>\n",
       "      <th>A</th>\n",
       "      <th>B</th>\n",
       "      <th>C</th>\n",
       "    </tr>\n",
       "  </thead>\n",
       "  <tbody>\n",
       "    <tr>\n",
       "      <th>0</th>\n",
       "      <td>0.0</td>\n",
       "      <td>2.0</td>\n",
       "      <td>3.0</td>\n",
       "    </tr>\n",
       "    <tr>\n",
       "      <th>1</th>\n",
       "      <td>10.0</td>\n",
       "      <td>20.0</td>\n",
       "      <td>30.0</td>\n",
       "    </tr>\n",
       "    <tr>\n",
       "      <th>2</th>\n",
       "      <td>100.0</td>\n",
       "      <td>200.0</td>\n",
       "      <td>300.0</td>\n",
       "    </tr>\n",
       "    <tr>\n",
       "      <th>3</th>\n",
       "      <td>1000.0</td>\n",
       "      <td>2000.0</td>\n",
       "      <td>3000.0</td>\n",
       "    </tr>\n",
       "  </tbody>\n",
       "</table>\n",
       "</div>"
      ],
      "text/plain": [
       "        A       B       C\n",
       "0     0.0     2.0     3.0\n",
       "1    10.0    20.0    30.0\n",
       "2   100.0   200.0   300.0\n",
       "3  1000.0  2000.0  3000.0"
      ]
     },
     "execution_count": 155,
     "metadata": {},
     "output_type": "execute_result"
    }
   ],
   "source": [
    "# dropを使用する\n",
    "df1 = df1.drop(4)\n",
    "df1"
   ]
  },
  {
   "cell_type": "code",
   "execution_count": null,
   "metadata": {
    "collapsed": true,
    "deletable": true,
    "editable": true
   },
   "outputs": [],
   "source": []
  },
  {
   "cell_type": "markdown",
   "metadata": {
    "deletable": true,
    "editable": true
   },
   "source": [
    "# 欠損値・重複の扱い"
   ]
  },
  {
   "cell_type": "code",
   "execution_count": 156,
   "metadata": {
    "collapsed": false,
    "deletable": true,
    "editable": true
   },
   "outputs": [
    {
     "data": {
      "text/html": [
       "<div>\n",
       "<style>\n",
       "    .dataframe thead tr:only-child th {\n",
       "        text-align: right;\n",
       "    }\n",
       "\n",
       "    .dataframe thead th {\n",
       "        text-align: left;\n",
       "    }\n",
       "\n",
       "    .dataframe tbody tr th {\n",
       "        vertical-align: top;\n",
       "    }\n",
       "</style>\n",
       "<table border=\"1\" class=\"dataframe\">\n",
       "  <thead>\n",
       "    <tr style=\"text-align: right;\">\n",
       "      <th></th>\n",
       "      <th>A</th>\n",
       "      <th>B</th>\n",
       "      <th>C</th>\n",
       "      <th>D</th>\n",
       "      <th>E</th>\n",
       "      <th>F</th>\n",
       "      <th>G</th>\n",
       "    </tr>\n",
       "    <tr>\n",
       "      <th>data_idx</th>\n",
       "      <th></th>\n",
       "      <th></th>\n",
       "      <th></th>\n",
       "      <th></th>\n",
       "      <th></th>\n",
       "      <th></th>\n",
       "      <th></th>\n",
       "    </tr>\n",
       "  </thead>\n",
       "  <tbody>\n",
       "    <tr>\n",
       "      <th>data_1</th>\n",
       "      <td>58</td>\n",
       "      <td>-27</td>\n",
       "      <td>31.0</td>\n",
       "      <td>0.6028</td>\n",
       "      <td>73.922054</td>\n",
       "      <td>0.0179</td>\n",
       "      <td>-0.0102</td>\n",
       "    </tr>\n",
       "    <tr>\n",
       "      <th>data_10</th>\n",
       "      <td>109</td>\n",
       "      <td>-53</td>\n",
       "      <td>56.0</td>\n",
       "      <td>0.5000</td>\n",
       "      <td>575.585790</td>\n",
       "      <td>0.0346</td>\n",
       "      <td>0.0000</td>\n",
       "    </tr>\n",
       "    <tr>\n",
       "      <th>data_11</th>\n",
       "      <td>77</td>\n",
       "      <td>-44</td>\n",
       "      <td>33.0</td>\n",
       "      <td>0.6281</td>\n",
       "      <td>144.838806</td>\n",
       "      <td>0.0343</td>\n",
       "      <td>-0.0411</td>\n",
       "    </tr>\n",
       "    <tr>\n",
       "      <th>data_12</th>\n",
       "      <td>181</td>\n",
       "      <td>126</td>\n",
       "      <td>55.0</td>\n",
       "      <td>0.5000</td>\n",
       "      <td>NaN</td>\n",
       "      <td>0.0551</td>\n",
       "      <td>0.0000</td>\n",
       "    </tr>\n",
       "    <tr>\n",
       "      <th>data_13</th>\n",
       "      <td>91</td>\n",
       "      <td>-46</td>\n",
       "      <td>45.0</td>\n",
       "      <td>0.5220</td>\n",
       "      <td>896.439718</td>\n",
       "      <td>0.0044</td>\n",
       "      <td>-0.0082</td>\n",
       "    </tr>\n",
       "  </tbody>\n",
       "</table>\n",
       "</div>"
      ],
      "text/plain": [
       "            A    B     C       D           E       F       G\n",
       "data_idx                                                    \n",
       "data_1     58  -27  31.0  0.6028   73.922054  0.0179 -0.0102\n",
       "data_10   109  -53  56.0  0.5000  575.585790  0.0346  0.0000\n",
       "data_11    77  -44  33.0  0.6281  144.838806  0.0343 -0.0411\n",
       "data_12   181  126  55.0  0.5000         NaN  0.0551  0.0000\n",
       "data_13    91  -46  45.0  0.5220  896.439718  0.0044 -0.0082"
      ]
     },
     "execution_count": 156,
     "metadata": {},
     "output_type": "execute_result"
    }
   ],
   "source": [
    "df3.head()"
   ]
  },
  {
   "cell_type": "code",
   "execution_count": 157,
   "metadata": {
    "collapsed": false,
    "deletable": true,
    "editable": true,
    "scrolled": true
   },
   "outputs": [
    {
     "data": {
      "text/plain": [
       "(30, 7)"
      ]
     },
     "execution_count": 157,
     "metadata": {},
     "output_type": "execute_result"
    }
   ],
   "source": [
    "df3.shape  # 30行×7列のデータ"
   ]
  },
  {
   "cell_type": "markdown",
   "metadata": {
    "deletable": true,
    "editable": true
   },
   "source": [
    "* 欠損値の削除"
   ]
  },
  {
   "cell_type": "code",
   "execution_count": 158,
   "metadata": {
    "collapsed": false,
    "deletable": true,
    "editable": true
   },
   "outputs": [
    {
     "data": {
      "text/html": [
       "<div>\n",
       "<style>\n",
       "    .dataframe thead tr:only-child th {\n",
       "        text-align: right;\n",
       "    }\n",
       "\n",
       "    .dataframe thead th {\n",
       "        text-align: left;\n",
       "    }\n",
       "\n",
       "    .dataframe tbody tr th {\n",
       "        vertical-align: top;\n",
       "    }\n",
       "</style>\n",
       "<table border=\"1\" class=\"dataframe\">\n",
       "  <thead>\n",
       "    <tr style=\"text-align: right;\">\n",
       "      <th></th>\n",
       "      <th>A</th>\n",
       "      <th>B</th>\n",
       "      <th>C</th>\n",
       "      <th>D</th>\n",
       "      <th>E</th>\n",
       "      <th>F</th>\n",
       "      <th>G</th>\n",
       "    </tr>\n",
       "    <tr>\n",
       "      <th>data_idx</th>\n",
       "      <th></th>\n",
       "      <th></th>\n",
       "      <th></th>\n",
       "      <th></th>\n",
       "      <th></th>\n",
       "      <th></th>\n",
       "      <th></th>\n",
       "    </tr>\n",
       "  </thead>\n",
       "  <tbody>\n",
       "    <tr>\n",
       "      <th>data_1</th>\n",
       "      <td>58</td>\n",
       "      <td>-27</td>\n",
       "      <td>31.0</td>\n",
       "      <td>0.6028</td>\n",
       "      <td>73.922054</td>\n",
       "      <td>0.0179</td>\n",
       "      <td>-0.0102</td>\n",
       "    </tr>\n",
       "    <tr>\n",
       "      <th>data_10</th>\n",
       "      <td>109</td>\n",
       "      <td>-53</td>\n",
       "      <td>56.0</td>\n",
       "      <td>0.5000</td>\n",
       "      <td>575.585790</td>\n",
       "      <td>0.0346</td>\n",
       "      <td>0.0000</td>\n",
       "    </tr>\n",
       "    <tr>\n",
       "      <th>data_11</th>\n",
       "      <td>77</td>\n",
       "      <td>-44</td>\n",
       "      <td>33.0</td>\n",
       "      <td>0.6281</td>\n",
       "      <td>144.838806</td>\n",
       "      <td>0.0343</td>\n",
       "      <td>-0.0411</td>\n",
       "    </tr>\n",
       "    <tr>\n",
       "      <th>data_13</th>\n",
       "      <td>91</td>\n",
       "      <td>-46</td>\n",
       "      <td>45.0</td>\n",
       "      <td>0.5220</td>\n",
       "      <td>896.439718</td>\n",
       "      <td>0.0044</td>\n",
       "      <td>-0.0082</td>\n",
       "    </tr>\n",
       "    <tr>\n",
       "      <th>data_14</th>\n",
       "      <td>133</td>\n",
       "      <td>-70</td>\n",
       "      <td>63.0</td>\n",
       "      <td>0.5000</td>\n",
       "      <td>374.867722</td>\n",
       "      <td>0.0420</td>\n",
       "      <td>0.0000</td>\n",
       "    </tr>\n",
       "  </tbody>\n",
       "</table>\n",
       "</div>"
      ],
      "text/plain": [
       "            A   B     C       D           E       F       G\n",
       "data_idx                                                   \n",
       "data_1     58 -27  31.0  0.6028   73.922054  0.0179 -0.0102\n",
       "data_10   109 -53  56.0  0.5000  575.585790  0.0346  0.0000\n",
       "data_11    77 -44  33.0  0.6281  144.838806  0.0343 -0.0411\n",
       "data_13    91 -46  45.0  0.5220  896.439718  0.0044 -0.0082\n",
       "data_14   133 -70  63.0  0.5000  374.867722  0.0420  0.0000"
      ]
     },
     "execution_count": 158,
     "metadata": {},
     "output_type": "execute_result"
    }
   ],
   "source": [
    "# 欠損値を含む行を削除\n",
    "df3.dropna().head()\n",
    "# 非破壊的変更なので実際に削除するには df3 = df3.dropna()とするか、\n",
    "# df3.dropna(inplace=True)とする必要があります。"
   ]
  },
  {
   "cell_type": "code",
   "execution_count": 159,
   "metadata": {
    "collapsed": false,
    "deletable": true,
    "editable": true
   },
   "outputs": [
    {
     "data": {
      "text/plain": [
       "(26, 7)"
      ]
     },
     "execution_count": 159,
     "metadata": {},
     "output_type": "execute_result"
    }
   ],
   "source": [
    "df3.dropna().shape  # 26行×7列なので4行削除されたことがわかる"
   ]
  },
  {
   "cell_type": "markdown",
   "metadata": {
    "deletable": true,
    "editable": true
   },
   "source": [
    "デフォルトでは欠損値を含む行が削除されます(axis=0)。欠損値を含む列を削除するにはaxis=1を指定します。  \n",
    "その他に、特定の行に欠損値が含まれている場合を削除対象にするオプション(subset)や、欠損値の数の閾値を指定するオプション(thresh)などもあります。"
   ]
  },
  {
   "cell_type": "markdown",
   "metadata": {
    "deletable": true,
    "editable": true
   },
   "source": [
    "* 欠損値の補完"
   ]
  },
  {
   "cell_type": "code",
   "execution_count": 160,
   "metadata": {
    "collapsed": false,
    "deletable": true,
    "editable": true
   },
   "outputs": [
    {
     "data": {
      "text/html": [
       "<div>\n",
       "<style>\n",
       "    .dataframe thead tr:only-child th {\n",
       "        text-align: right;\n",
       "    }\n",
       "\n",
       "    .dataframe thead th {\n",
       "        text-align: left;\n",
       "    }\n",
       "\n",
       "    .dataframe tbody tr th {\n",
       "        vertical-align: top;\n",
       "    }\n",
       "</style>\n",
       "<table border=\"1\" class=\"dataframe\">\n",
       "  <thead>\n",
       "    <tr style=\"text-align: right;\">\n",
       "      <th></th>\n",
       "      <th>A</th>\n",
       "      <th>B</th>\n",
       "      <th>C</th>\n",
       "      <th>D</th>\n",
       "      <th>E</th>\n",
       "      <th>F</th>\n",
       "      <th>G</th>\n",
       "    </tr>\n",
       "    <tr>\n",
       "      <th>data_idx</th>\n",
       "      <th></th>\n",
       "      <th></th>\n",
       "      <th></th>\n",
       "      <th></th>\n",
       "      <th></th>\n",
       "      <th></th>\n",
       "      <th></th>\n",
       "    </tr>\n",
       "  </thead>\n",
       "  <tbody>\n",
       "    <tr>\n",
       "      <th>data_1</th>\n",
       "      <td>58</td>\n",
       "      <td>-27</td>\n",
       "      <td>31.0</td>\n",
       "      <td>0.6028</td>\n",
       "      <td>73.922054</td>\n",
       "      <td>0.0179</td>\n",
       "      <td>-0.0102</td>\n",
       "    </tr>\n",
       "    <tr>\n",
       "      <th>data_10</th>\n",
       "      <td>109</td>\n",
       "      <td>-53</td>\n",
       "      <td>56.0</td>\n",
       "      <td>0.5000</td>\n",
       "      <td>575.585790</td>\n",
       "      <td>0.0346</td>\n",
       "      <td>0.0000</td>\n",
       "    </tr>\n",
       "    <tr>\n",
       "      <th>data_11</th>\n",
       "      <td>77</td>\n",
       "      <td>-44</td>\n",
       "      <td>33.0</td>\n",
       "      <td>0.6281</td>\n",
       "      <td>144.838806</td>\n",
       "      <td>0.0343</td>\n",
       "      <td>-0.0411</td>\n",
       "    </tr>\n",
       "    <tr>\n",
       "      <th>data_12</th>\n",
       "      <td>181</td>\n",
       "      <td>126</td>\n",
       "      <td>55.0</td>\n",
       "      <td>0.5000</td>\n",
       "      <td>0.000000</td>\n",
       "      <td>0.0551</td>\n",
       "      <td>0.0000</td>\n",
       "    </tr>\n",
       "    <tr>\n",
       "      <th>data_13</th>\n",
       "      <td>91</td>\n",
       "      <td>-46</td>\n",
       "      <td>45.0</td>\n",
       "      <td>0.5220</td>\n",
       "      <td>896.439718</td>\n",
       "      <td>0.0044</td>\n",
       "      <td>-0.0082</td>\n",
       "    </tr>\n",
       "  </tbody>\n",
       "</table>\n",
       "</div>"
      ],
      "text/plain": [
       "            A    B     C       D           E       F       G\n",
       "data_idx                                                    \n",
       "data_1     58  -27  31.0  0.6028   73.922054  0.0179 -0.0102\n",
       "data_10   109  -53  56.0  0.5000  575.585790  0.0346  0.0000\n",
       "data_11    77  -44  33.0  0.6281  144.838806  0.0343 -0.0411\n",
       "data_12   181  126  55.0  0.5000    0.000000  0.0551  0.0000\n",
       "data_13    91  -46  45.0  0.5220  896.439718  0.0044 -0.0082"
      ]
     },
     "execution_count": 160,
     "metadata": {},
     "output_type": "execute_result"
    }
   ],
   "source": [
    "# 欠損値を0で補完する\n",
    "df3.fillna(0).head()"
   ]
  },
  {
   "cell_type": "code",
   "execution_count": 161,
   "metadata": {
    "collapsed": false,
    "deletable": true,
    "editable": true
   },
   "outputs": [
    {
     "data": {
      "text/html": [
       "<div>\n",
       "<style>\n",
       "    .dataframe thead tr:only-child th {\n",
       "        text-align: right;\n",
       "    }\n",
       "\n",
       "    .dataframe thead th {\n",
       "        text-align: left;\n",
       "    }\n",
       "\n",
       "    .dataframe tbody tr th {\n",
       "        vertical-align: top;\n",
       "    }\n",
       "</style>\n",
       "<table border=\"1\" class=\"dataframe\">\n",
       "  <thead>\n",
       "    <tr style=\"text-align: right;\">\n",
       "      <th></th>\n",
       "      <th>A</th>\n",
       "      <th>B</th>\n",
       "      <th>C</th>\n",
       "      <th>D</th>\n",
       "      <th>E</th>\n",
       "      <th>F</th>\n",
       "      <th>G</th>\n",
       "    </tr>\n",
       "    <tr>\n",
       "      <th>data_idx</th>\n",
       "      <th></th>\n",
       "      <th></th>\n",
       "      <th></th>\n",
       "      <th></th>\n",
       "      <th></th>\n",
       "      <th></th>\n",
       "      <th></th>\n",
       "    </tr>\n",
       "  </thead>\n",
       "  <tbody>\n",
       "    <tr>\n",
       "      <th>data_1</th>\n",
       "      <td>58</td>\n",
       "      <td>-27</td>\n",
       "      <td>31.0</td>\n",
       "      <td>0.6028</td>\n",
       "      <td>73.922054</td>\n",
       "      <td>0.0179</td>\n",
       "      <td>-0.0102</td>\n",
       "    </tr>\n",
       "    <tr>\n",
       "      <th>data_10</th>\n",
       "      <td>109</td>\n",
       "      <td>-53</td>\n",
       "      <td>56.0</td>\n",
       "      <td>0.5000</td>\n",
       "      <td>575.585790</td>\n",
       "      <td>0.0346</td>\n",
       "      <td>0.0000</td>\n",
       "    </tr>\n",
       "    <tr>\n",
       "      <th>data_11</th>\n",
       "      <td>77</td>\n",
       "      <td>-44</td>\n",
       "      <td>33.0</td>\n",
       "      <td>0.6281</td>\n",
       "      <td>144.838806</td>\n",
       "      <td>0.0343</td>\n",
       "      <td>-0.0411</td>\n",
       "    </tr>\n",
       "    <tr>\n",
       "      <th>data_12</th>\n",
       "      <td>181</td>\n",
       "      <td>126</td>\n",
       "      <td>55.0</td>\n",
       "      <td>0.5000</td>\n",
       "      <td>1.000000</td>\n",
       "      <td>0.0551</td>\n",
       "      <td>0.0000</td>\n",
       "    </tr>\n",
       "    <tr>\n",
       "      <th>data_13</th>\n",
       "      <td>91</td>\n",
       "      <td>-46</td>\n",
       "      <td>45.0</td>\n",
       "      <td>0.5220</td>\n",
       "      <td>896.439718</td>\n",
       "      <td>0.0044</td>\n",
       "      <td>-0.0082</td>\n",
       "    </tr>\n",
       "  </tbody>\n",
       "</table>\n",
       "</div>"
      ],
      "text/plain": [
       "            A    B     C       D           E       F       G\n",
       "data_idx                                                    \n",
       "data_1     58  -27  31.0  0.6028   73.922054  0.0179 -0.0102\n",
       "data_10   109  -53  56.0  0.5000  575.585790  0.0346  0.0000\n",
       "data_11    77  -44  33.0  0.6281  144.838806  0.0343 -0.0411\n",
       "data_12   181  126  55.0  0.5000    1.000000  0.0551  0.0000\n",
       "data_13    91  -46  45.0  0.5220  896.439718  0.0044 -0.0082"
      ]
     },
     "execution_count": 161,
     "metadata": {},
     "output_type": "execute_result"
    }
   ],
   "source": [
    "# 引数に辞書やシリーズを指定することで、各行ごとに異なる値を指定することもできます。\n",
    "D = {\"C\": 0, \"E\": 1}  # C列は0、E列は1\n",
    "df3.fillna(D).head()"
   ]
  },
  {
   "cell_type": "code",
   "execution_count": 162,
   "metadata": {
    "collapsed": false,
    "deletable": true,
    "editable": true
   },
   "outputs": [
    {
     "data": {
      "text/html": [
       "<div>\n",
       "<style>\n",
       "    .dataframe thead tr:only-child th {\n",
       "        text-align: right;\n",
       "    }\n",
       "\n",
       "    .dataframe thead th {\n",
       "        text-align: left;\n",
       "    }\n",
       "\n",
       "    .dataframe tbody tr th {\n",
       "        vertical-align: top;\n",
       "    }\n",
       "</style>\n",
       "<table border=\"1\" class=\"dataframe\">\n",
       "  <thead>\n",
       "    <tr style=\"text-align: right;\">\n",
       "      <th></th>\n",
       "      <th>A</th>\n",
       "      <th>B</th>\n",
       "      <th>C</th>\n",
       "      <th>D</th>\n",
       "      <th>E</th>\n",
       "      <th>F</th>\n",
       "      <th>G</th>\n",
       "    </tr>\n",
       "    <tr>\n",
       "      <th>data_idx</th>\n",
       "      <th></th>\n",
       "      <th></th>\n",
       "      <th></th>\n",
       "      <th></th>\n",
       "      <th></th>\n",
       "      <th></th>\n",
       "      <th></th>\n",
       "    </tr>\n",
       "  </thead>\n",
       "  <tbody>\n",
       "    <tr>\n",
       "      <th>data_1</th>\n",
       "      <td>58</td>\n",
       "      <td>-27</td>\n",
       "      <td>31.0</td>\n",
       "      <td>0.6028</td>\n",
       "      <td>73.922054</td>\n",
       "      <td>0.0179</td>\n",
       "      <td>-0.0102</td>\n",
       "    </tr>\n",
       "    <tr>\n",
       "      <th>data_10</th>\n",
       "      <td>109</td>\n",
       "      <td>-53</td>\n",
       "      <td>56.0</td>\n",
       "      <td>0.5000</td>\n",
       "      <td>575.585790</td>\n",
       "      <td>0.0346</td>\n",
       "      <td>0.0000</td>\n",
       "    </tr>\n",
       "    <tr>\n",
       "      <th>data_11</th>\n",
       "      <td>77</td>\n",
       "      <td>-44</td>\n",
       "      <td>33.0</td>\n",
       "      <td>0.6281</td>\n",
       "      <td>144.838806</td>\n",
       "      <td>0.0343</td>\n",
       "      <td>-0.0411</td>\n",
       "    </tr>\n",
       "    <tr>\n",
       "      <th>data_12</th>\n",
       "      <td>181</td>\n",
       "      <td>126</td>\n",
       "      <td>55.0</td>\n",
       "      <td>0.5000</td>\n",
       "      <td>314.394296</td>\n",
       "      <td>0.0551</td>\n",
       "      <td>0.0000</td>\n",
       "    </tr>\n",
       "    <tr>\n",
       "      <th>data_13</th>\n",
       "      <td>91</td>\n",
       "      <td>-46</td>\n",
       "      <td>45.0</td>\n",
       "      <td>0.5220</td>\n",
       "      <td>896.439718</td>\n",
       "      <td>0.0044</td>\n",
       "      <td>-0.0082</td>\n",
       "    </tr>\n",
       "  </tbody>\n",
       "</table>\n",
       "</div>"
      ],
      "text/plain": [
       "            A    B     C       D           E       F       G\n",
       "data_idx                                                    \n",
       "data_1     58  -27  31.0  0.6028   73.922054  0.0179 -0.0102\n",
       "data_10   109  -53  56.0  0.5000  575.585790  0.0346  0.0000\n",
       "data_11    77  -44  33.0  0.6281  144.838806  0.0343 -0.0411\n",
       "data_12   181  126  55.0  0.5000  314.394296  0.0551  0.0000\n",
       "data_13    91  -46  45.0  0.5220  896.439718  0.0044 -0.0082"
      ]
     },
     "execution_count": 162,
     "metadata": {},
     "output_type": "execute_result"
    }
   ],
   "source": [
    "# ↑の方法を応用して、各列の平均で埋めることも可能です。\n",
    "df3.fillna(df3.mean()).head()"
   ]
  },
  {
   "cell_type": "markdown",
   "metadata": {
    "deletable": true,
    "editable": true
   },
   "source": [
    "* 前後の値による補完  \n",
    "interpolateを使います。詳細は割愛します。"
   ]
  },
  {
   "cell_type": "code",
   "execution_count": 163,
   "metadata": {
    "collapsed": false,
    "deletable": true,
    "editable": true
   },
   "outputs": [
    {
     "data": {
      "text/html": [
       "<div>\n",
       "<style>\n",
       "    .dataframe thead tr:only-child th {\n",
       "        text-align: right;\n",
       "    }\n",
       "\n",
       "    .dataframe thead th {\n",
       "        text-align: left;\n",
       "    }\n",
       "\n",
       "    .dataframe tbody tr th {\n",
       "        vertical-align: top;\n",
       "    }\n",
       "</style>\n",
       "<table border=\"1\" class=\"dataframe\">\n",
       "  <thead>\n",
       "    <tr style=\"text-align: right;\">\n",
       "      <th></th>\n",
       "      <th>A</th>\n",
       "      <th>B</th>\n",
       "      <th>C</th>\n",
       "      <th>D</th>\n",
       "      <th>E</th>\n",
       "      <th>F</th>\n",
       "      <th>G</th>\n",
       "    </tr>\n",
       "    <tr>\n",
       "      <th>data_idx</th>\n",
       "      <th></th>\n",
       "      <th></th>\n",
       "      <th></th>\n",
       "      <th></th>\n",
       "      <th></th>\n",
       "      <th></th>\n",
       "      <th></th>\n",
       "    </tr>\n",
       "  </thead>\n",
       "  <tbody>\n",
       "    <tr>\n",
       "      <th>data_1</th>\n",
       "      <td>58</td>\n",
       "      <td>-27</td>\n",
       "      <td>31.0</td>\n",
       "      <td>0.6028</td>\n",
       "      <td>73.922054</td>\n",
       "      <td>0.0179</td>\n",
       "      <td>-0.0102</td>\n",
       "    </tr>\n",
       "    <tr>\n",
       "      <th>data_10</th>\n",
       "      <td>109</td>\n",
       "      <td>-53</td>\n",
       "      <td>56.0</td>\n",
       "      <td>0.5000</td>\n",
       "      <td>575.585790</td>\n",
       "      <td>0.0346</td>\n",
       "      <td>0.0000</td>\n",
       "    </tr>\n",
       "    <tr>\n",
       "      <th>data_11</th>\n",
       "      <td>77</td>\n",
       "      <td>-44</td>\n",
       "      <td>33.0</td>\n",
       "      <td>0.6281</td>\n",
       "      <td>144.838806</td>\n",
       "      <td>0.0343</td>\n",
       "      <td>-0.0411</td>\n",
       "    </tr>\n",
       "    <tr>\n",
       "      <th>data_12</th>\n",
       "      <td>181</td>\n",
       "      <td>126</td>\n",
       "      <td>55.0</td>\n",
       "      <td>0.5000</td>\n",
       "      <td>520.639262</td>\n",
       "      <td>0.0551</td>\n",
       "      <td>0.0000</td>\n",
       "    </tr>\n",
       "    <tr>\n",
       "      <th>data_13</th>\n",
       "      <td>91</td>\n",
       "      <td>-46</td>\n",
       "      <td>45.0</td>\n",
       "      <td>0.5220</td>\n",
       "      <td>896.439718</td>\n",
       "      <td>0.0044</td>\n",
       "      <td>-0.0082</td>\n",
       "    </tr>\n",
       "  </tbody>\n",
       "</table>\n",
       "</div>"
      ],
      "text/plain": [
       "            A    B     C       D           E       F       G\n",
       "data_idx                                                    \n",
       "data_1     58  -27  31.0  0.6028   73.922054  0.0179 -0.0102\n",
       "data_10   109  -53  56.0  0.5000  575.585790  0.0346  0.0000\n",
       "data_11    77  -44  33.0  0.6281  144.838806  0.0343 -0.0411\n",
       "data_12   181  126  55.0  0.5000  520.639262  0.0551  0.0000\n",
       "data_13    91  -46  45.0  0.5220  896.439718  0.0044 -0.0082"
      ]
     },
     "execution_count": 163,
     "metadata": {},
     "output_type": "execute_result"
    }
   ],
   "source": [
    "df3.interpolate().head()"
   ]
  },
  {
   "cell_type": "markdown",
   "metadata": {
    "deletable": true,
    "editable": true
   },
   "source": [
    "* 重複の除去"
   ]
  },
  {
   "cell_type": "markdown",
   "metadata": {
    "deletable": true,
    "editable": true
   },
   "source": [
    "drop_duplicatesを使用します。デフォルトでは行全体の値が重複していた場合に削除します。  \n",
    "下の例ではD列に重複値がある場合に、先頭の行のみ残して以後の行を削除しています(keep=\"first\")。  \n",
    "オプション指定で、重複している行すべてを削除することも可能です(keep=False)。"
   ]
  },
  {
   "cell_type": "code",
   "execution_count": 164,
   "metadata": {
    "collapsed": false,
    "deletable": true,
    "editable": true
   },
   "outputs": [
    {
     "data": {
      "text/html": [
       "<div>\n",
       "<style>\n",
       "    .dataframe thead tr:only-child th {\n",
       "        text-align: right;\n",
       "    }\n",
       "\n",
       "    .dataframe thead th {\n",
       "        text-align: left;\n",
       "    }\n",
       "\n",
       "    .dataframe tbody tr th {\n",
       "        vertical-align: top;\n",
       "    }\n",
       "</style>\n",
       "<table border=\"1\" class=\"dataframe\">\n",
       "  <thead>\n",
       "    <tr style=\"text-align: right;\">\n",
       "      <th></th>\n",
       "      <th>A</th>\n",
       "      <th>B</th>\n",
       "      <th>C</th>\n",
       "      <th>D</th>\n",
       "      <th>E</th>\n",
       "      <th>F</th>\n",
       "      <th>G</th>\n",
       "    </tr>\n",
       "    <tr>\n",
       "      <th>data_idx</th>\n",
       "      <th></th>\n",
       "      <th></th>\n",
       "      <th></th>\n",
       "      <th></th>\n",
       "      <th></th>\n",
       "      <th></th>\n",
       "      <th></th>\n",
       "    </tr>\n",
       "  </thead>\n",
       "  <tbody>\n",
       "    <tr>\n",
       "      <th>data_1</th>\n",
       "      <td>58</td>\n",
       "      <td>-27</td>\n",
       "      <td>31.0</td>\n",
       "      <td>0.6028</td>\n",
       "      <td>73.922054</td>\n",
       "      <td>0.0179</td>\n",
       "      <td>-0.0102</td>\n",
       "    </tr>\n",
       "    <tr>\n",
       "      <th>data_10</th>\n",
       "      <td>109</td>\n",
       "      <td>-53</td>\n",
       "      <td>56.0</td>\n",
       "      <td>0.5000</td>\n",
       "      <td>575.585790</td>\n",
       "      <td>0.0346</td>\n",
       "      <td>0.0000</td>\n",
       "    </tr>\n",
       "    <tr>\n",
       "      <th>data_11</th>\n",
       "      <td>77</td>\n",
       "      <td>-44</td>\n",
       "      <td>33.0</td>\n",
       "      <td>0.6281</td>\n",
       "      <td>144.838806</td>\n",
       "      <td>0.0343</td>\n",
       "      <td>-0.0411</td>\n",
       "    </tr>\n",
       "    <tr>\n",
       "      <th>data_13</th>\n",
       "      <td>91</td>\n",
       "      <td>-46</td>\n",
       "      <td>45.0</td>\n",
       "      <td>0.5220</td>\n",
       "      <td>896.439718</td>\n",
       "      <td>0.0044</td>\n",
       "      <td>-0.0082</td>\n",
       "    </tr>\n",
       "    <tr>\n",
       "      <th>data_19</th>\n",
       "      <td>6</td>\n",
       "      <td>-2</td>\n",
       "      <td>4.0</td>\n",
       "      <td>0.5453</td>\n",
       "      <td>72.282932</td>\n",
       "      <td>0.0220</td>\n",
       "      <td>-0.0707</td>\n",
       "    </tr>\n",
       "  </tbody>\n",
       "</table>\n",
       "</div>"
      ],
      "text/plain": [
       "            A   B     C       D           E       F       G\n",
       "data_idx                                                   \n",
       "data_1     58 -27  31.0  0.6028   73.922054  0.0179 -0.0102\n",
       "data_10   109 -53  56.0  0.5000  575.585790  0.0346  0.0000\n",
       "data_11    77 -44  33.0  0.6281  144.838806  0.0343 -0.0411\n",
       "data_13    91 -46  45.0  0.5220  896.439718  0.0044 -0.0082\n",
       "data_19     6  -2   4.0  0.5453   72.282932  0.0220 -0.0707"
      ]
     },
     "execution_count": 164,
     "metadata": {},
     "output_type": "execute_result"
    }
   ],
   "source": [
    "df3.drop_duplicates(subset=\"D\").head()"
   ]
  },
  {
   "cell_type": "markdown",
   "metadata": {
    "deletable": true,
    "editable": true
   },
   "source": [
    "__(参考)__  \n",
    "pandasではデータフレームに対する操作の多くは\"非破壊的変更(=自分自身を変更させるのではなく、新しいデータフレームとして結果を返す)\"となっています。  \n",
    "このメリットの一つに、複数のメソッドを連結して使用できることが挙げられます。（メソッドチェイン）  \n",
    "例: `df3.dropna().drop_duplicates(subset=\"D\").sort_index().head()`\n"
   ]
  },
  {
   "cell_type": "code",
   "execution_count": null,
   "metadata": {
    "collapsed": false,
    "deletable": true,
    "editable": true
   },
   "outputs": [],
   "source": []
  },
  {
   "cell_type": "markdown",
   "metadata": {
    "deletable": true,
    "editable": true
   },
   "source": [
    "# データフレーム全体、または行・列に対しての関数の適用"
   ]
  },
  {
   "cell_type": "markdown",
   "metadata": {
    "deletable": true,
    "editable": true
   },
   "source": [
    "## データフレームの集計メソッドを使用する方法"
   ]
  },
  {
   "cell_type": "markdown",
   "metadata": {
    "deletable": true,
    "editable": true
   },
   "source": [
    "3.3.3で紹介済みなので詳細は割愛"
   ]
  },
  {
   "cell_type": "code",
   "execution_count": 165,
   "metadata": {
    "collapsed": false,
    "deletable": true,
    "editable": true
   },
   "outputs": [
    {
     "data": {
      "text/plain": [
       "A    2029.000000\n",
       "B     101.000000\n",
       "C     939.000000\n",
       "D      16.628800\n",
       "E    8488.645986\n",
       "F       0.799400\n",
       "G      -0.561800\n",
       "dtype: float64"
      ]
     },
     "execution_count": 165,
     "metadata": {},
     "output_type": "execute_result"
    }
   ],
   "source": [
    "df3.sum()  # 行方向の和を求める場合、df3.sum(axis=1)"
   ]
  },
  {
   "cell_type": "markdown",
   "metadata": {
    "collapsed": false,
    "deletable": true,
    "editable": true
   },
   "source": [
    "## numpyの関数を利用する方法"
   ]
  },
  {
   "cell_type": "markdown",
   "metadata": {
    "deletable": true,
    "editable": true
   },
   "source": [
    "numpyにはユニバーサル関数と呼ばれる行列（データフレーム）の要素ごとに処理を行う関数がある"
   ]
  },
  {
   "cell_type": "code",
   "execution_count": 166,
   "metadata": {
    "collapsed": false,
    "deletable": true,
    "editable": true
   },
   "outputs": [
    {
     "data": {
      "text/html": [
       "<div>\n",
       "<style>\n",
       "    .dataframe thead tr:only-child th {\n",
       "        text-align: right;\n",
       "    }\n",
       "\n",
       "    .dataframe thead th {\n",
       "        text-align: left;\n",
       "    }\n",
       "\n",
       "    .dataframe tbody tr th {\n",
       "        vertical-align: top;\n",
       "    }\n",
       "</style>\n",
       "<table border=\"1\" class=\"dataframe\">\n",
       "  <thead>\n",
       "    <tr style=\"text-align: right;\">\n",
       "      <th></th>\n",
       "      <th>A</th>\n",
       "      <th>B</th>\n",
       "      <th>C</th>\n",
       "    </tr>\n",
       "  </thead>\n",
       "  <tbody>\n",
       "    <tr>\n",
       "      <th>0</th>\n",
       "      <td>0.0</td>\n",
       "      <td>2.0</td>\n",
       "      <td>3.0</td>\n",
       "    </tr>\n",
       "    <tr>\n",
       "      <th>1</th>\n",
       "      <td>10.0</td>\n",
       "      <td>20.0</td>\n",
       "      <td>30.0</td>\n",
       "    </tr>\n",
       "    <tr>\n",
       "      <th>2</th>\n",
       "      <td>100.0</td>\n",
       "      <td>200.0</td>\n",
       "      <td>300.0</td>\n",
       "    </tr>\n",
       "    <tr>\n",
       "      <th>3</th>\n",
       "      <td>1000.0</td>\n",
       "      <td>2000.0</td>\n",
       "      <td>3000.0</td>\n",
       "    </tr>\n",
       "  </tbody>\n",
       "</table>\n",
       "</div>"
      ],
      "text/plain": [
       "        A       B       C\n",
       "0     0.0     2.0     3.0\n",
       "1    10.0    20.0    30.0\n",
       "2   100.0   200.0   300.0\n",
       "3  1000.0  2000.0  3000.0"
      ]
     },
     "execution_count": 166,
     "metadata": {},
     "output_type": "execute_result"
    }
   ],
   "source": [
    "df1"
   ]
  },
  {
   "cell_type": "code",
   "execution_count": 167,
   "metadata": {
    "collapsed": false,
    "deletable": true,
    "editable": true
   },
   "outputs": [
    {
     "name": "stderr",
     "output_type": "stream",
     "text": [
      "/Users/tanizawa/.anyenv/envs/pyenv/versions/3.6.0/lib/python3.6/site-packages/ipykernel/__main__.py:2: RuntimeWarning: divide by zero encountered in log10\n",
      "  from ipykernel import kernelapp as app\n"
     ]
    },
    {
     "data": {
      "text/html": [
       "<div>\n",
       "<style>\n",
       "    .dataframe thead tr:only-child th {\n",
       "        text-align: right;\n",
       "    }\n",
       "\n",
       "    .dataframe thead th {\n",
       "        text-align: left;\n",
       "    }\n",
       "\n",
       "    .dataframe tbody tr th {\n",
       "        vertical-align: top;\n",
       "    }\n",
       "</style>\n",
       "<table border=\"1\" class=\"dataframe\">\n",
       "  <thead>\n",
       "    <tr style=\"text-align: right;\">\n",
       "      <th></th>\n",
       "      <th>A</th>\n",
       "      <th>B</th>\n",
       "      <th>C</th>\n",
       "    </tr>\n",
       "  </thead>\n",
       "  <tbody>\n",
       "    <tr>\n",
       "      <th>0</th>\n",
       "      <td>-inf</td>\n",
       "      <td>0.30103</td>\n",
       "      <td>0.477121</td>\n",
       "    </tr>\n",
       "    <tr>\n",
       "      <th>1</th>\n",
       "      <td>1.000000</td>\n",
       "      <td>1.30103</td>\n",
       "      <td>1.477121</td>\n",
       "    </tr>\n",
       "    <tr>\n",
       "      <th>2</th>\n",
       "      <td>2.000000</td>\n",
       "      <td>2.30103</td>\n",
       "      <td>2.477121</td>\n",
       "    </tr>\n",
       "    <tr>\n",
       "      <th>3</th>\n",
       "      <td>3.000000</td>\n",
       "      <td>3.30103</td>\n",
       "      <td>3.477121</td>\n",
       "    </tr>\n",
       "  </tbody>\n",
       "</table>\n",
       "</div>"
      ],
      "text/plain": [
       "          A        B         C\n",
       "0      -inf  0.30103  0.477121\n",
       "1  1.000000  1.30103  1.477121\n",
       "2  2.000000  2.30103  2.477121\n",
       "3  3.000000  3.30103  3.477121"
      ]
     },
     "execution_count": 167,
     "metadata": {},
     "output_type": "execute_result"
    }
   ],
   "source": [
    "# 常用対数をとる。他に自然対数 (log)、log2 などもある\n",
    "np.log10(df1)"
   ]
  },
  {
   "cell_type": "code",
   "execution_count": 168,
   "metadata": {
    "collapsed": false,
    "deletable": true,
    "editable": true
   },
   "outputs": [
    {
     "name": "stdout",
     "output_type": "stream",
     "text": [
      "0     1.414214\n",
      "1     4.472136\n",
      "2    14.142136\n",
      "3    44.721360\n",
      "Name: B, dtype: float64\n",
      "A    109.0\n",
      "B    -53.0\n",
      "C     56.0\n",
      "D      0.0\n",
      "E    576.0\n",
      "F      0.0\n",
      "G      0.0\n",
      "Name: data_10, dtype: float64\n"
     ]
    }
   ],
   "source": [
    "# ユニバーサル関数はシリーズにも適用できるので特定の列や行に対して実行することも可能\n",
    "print(np.sqrt(df1[\"B\"]))  # 平方根。値を更新するには　df1[\"B\"] = np.sqrt(df1[\"B\"]) というように代入する\n",
    "print(np.round(df3.iloc[1]))  # 四捨五入"
   ]
  },
  {
   "cell_type": "code",
   "execution_count": 169,
   "metadata": {
    "collapsed": false,
    "deletable": true,
    "editable": true
   },
   "outputs": [
    {
     "data": {
      "text/plain": [
       "A      2404.698889\n",
       "B      1877.832222\n",
       "C       682.442331\n",
       "D         0.004918\n",
       "E    197282.083194\n",
       "F         0.000677\n",
       "G         0.000699\n",
       "dtype: float64"
      ]
     },
     "execution_count": 169,
     "metadata": {},
     "output_type": "execute_result"
    }
   ],
   "source": [
    "# numpyの集計関数も利用可能\n",
    "np.var(df3)   "
   ]
  },
  {
   "cell_type": "code",
   "execution_count": 170,
   "metadata": {
    "collapsed": false,
    "deletable": true,
    "editable": true
   },
   "outputs": [
    {
     "data": {
      "text/plain": [
       "0         1.555556\n",
       "1        66.666667\n",
       "2      6666.666667\n",
       "3    666666.666667\n",
       "dtype: float64"
      ]
     },
     "execution_count": 170,
     "metadata": {},
     "output_type": "execute_result"
    }
   ],
   "source": [
    "# 行方向に適用するには axis=1を指定する\n",
    "np.var(df1, axis=1)"
   ]
  },
  {
   "cell_type": "code",
   "execution_count": 171,
   "metadata": {
    "collapsed": false,
    "deletable": true,
    "editable": true
   },
   "outputs": [
    {
     "data": {
      "text/plain": [
       "A     234025.00\n",
       "B     935361.00\n",
       "C    2104562.25\n",
       "dtype: float64"
      ]
     },
     "execution_count": 171,
     "metadata": {},
     "output_type": "execute_result"
    }
   ],
   "source": [
    "# np.varは平均との差の自乗をデータ数Nで割っているが、不偏分散(N-1で割る)を求めるには ddof=1 を指定する\n",
    "np.var(df1, ddof=1)"
   ]
  },
  {
   "cell_type": "code",
   "execution_count": 172,
   "metadata": {
    "collapsed": false,
    "deletable": true,
    "editable": true
   },
   "outputs": [
    {
     "data": {
      "text/plain": [
       "A     234025.00\n",
       "B     935361.00\n",
       "C    2104562.25\n",
       "dtype: float64"
      ]
     },
     "execution_count": 172,
     "metadata": {},
     "output_type": "execute_result"
    }
   ],
   "source": [
    "# データフレームのvarメソッドは デフォルトでddof=1として計算されている\n",
    "df1.var()"
   ]
  },
  {
   "cell_type": "markdown",
   "metadata": {
    "deletable": true,
    "editable": true
   },
   "source": [
    "標準偏差を求めるには np.std または df.std を使用します"
   ]
  },
  {
   "cell_type": "markdown",
   "metadata": {
    "deletable": true,
    "editable": true
   },
   "source": [
    "## map, apply, applymap"
   ]
  },
  {
   "cell_type": "markdown",
   "metadata": {
    "deletable": true,
    "editable": true
   },
   "source": [
    "関数をデータフレームや行・列に適用するのに用いる。  \n",
    "ただし、numpyやデータフレームのメソッドに定義されているものはそれを使用した方が処理が早い。  \n"
   ]
  },
  {
   "cell_type": "code",
   "execution_count": 173,
   "metadata": {
    "collapsed": true,
    "deletable": true,
    "editable": true
   },
   "outputs": [],
   "source": [
    "# テスト用関数: 引数xが文字列であれば小文字に変換、そうでなければ \"-\" を返す\n",
    "def my_lower(x):    \n",
    "    if isinstance(x, str):\n",
    "        return x.lower()\n",
    "    else:\n",
    "        return \"-\""
   ]
  },
  {
   "cell_type": "markdown",
   "metadata": {
    "deletable": true,
    "editable": true
   },
   "source": [
    "### シリーズ（データフレームの行・列）の各要素に関数を適用するにはmapを使う"
   ]
  },
  {
   "cell_type": "code",
   "execution_count": 174,
   "metadata": {
    "collapsed": false,
    "deletable": true,
    "editable": true
   },
   "outputs": [
    {
     "data": {
      "text/plain": [
       "0    john\n",
       "1    paul\n",
       "2       -\n",
       "3       -\n",
       "4       -\n",
       "dtype: object"
      ]
     },
     "execution_count": 174,
     "metadata": {},
     "output_type": "execute_result"
    }
   ],
   "source": [
    "test_s = pd.Series([\"JOHN\", \"Paul\", 20, 0.8, None])\n",
    "test_s.map(my_lower)"
   ]
  },
  {
   "cell_type": "code",
   "execution_count": 175,
   "metadata": {
    "collapsed": false,
    "deletable": true,
    "editable": true
   },
   "outputs": [
    {
     "data": {
      "text/plain": [
       "0      john\n",
       "1      paul\n",
       "2    george\n",
       "3     ringo\n",
       "4      paul\n",
       "5       art\n",
       "Name: name, dtype: object"
      ]
     },
     "execution_count": 175,
     "metadata": {},
     "output_type": "execute_result"
    }
   ],
   "source": [
    "df2[\"name\"].map(my_lower)"
   ]
  },
  {
   "cell_type": "markdown",
   "metadata": {
    "deletable": true,
    "editable": true
   },
   "source": [
    "### データフレームのの各要素に関数を適用するにはapplymapを使う"
   ]
  },
  {
   "cell_type": "code",
   "execution_count": 176,
   "metadata": {
    "collapsed": false,
    "deletable": true,
    "editable": true,
    "scrolled": true
   },
   "outputs": [
    {
     "data": {
      "text/html": [
       "<div>\n",
       "<style>\n",
       "    .dataframe thead tr:only-child th {\n",
       "        text-align: right;\n",
       "    }\n",
       "\n",
       "    .dataframe thead th {\n",
       "        text-align: left;\n",
       "    }\n",
       "\n",
       "    .dataframe tbody tr th {\n",
       "        vertical-align: top;\n",
       "    }\n",
       "</style>\n",
       "<table border=\"1\" class=\"dataframe\">\n",
       "  <thead>\n",
       "    <tr style=\"text-align: right;\">\n",
       "      <th></th>\n",
       "      <th>DOB</th>\n",
       "      <th>age</th>\n",
       "      <th>alive</th>\n",
       "      <th>family_name</th>\n",
       "      <th>group_name</th>\n",
       "      <th>name</th>\n",
       "    </tr>\n",
       "  </thead>\n",
       "  <tbody>\n",
       "    <tr>\n",
       "      <th>0</th>\n",
       "      <td>1940/10/09</td>\n",
       "      <td>-</td>\n",
       "      <td>-</td>\n",
       "      <td>lennon</td>\n",
       "      <td>beatles</td>\n",
       "      <td>john</td>\n",
       "    </tr>\n",
       "    <tr>\n",
       "      <th>1</th>\n",
       "      <td>1942/026/18</td>\n",
       "      <td>-</td>\n",
       "      <td>-</td>\n",
       "      <td>mccartney</td>\n",
       "      <td>beatles</td>\n",
       "      <td>paul</td>\n",
       "    </tr>\n",
       "    <tr>\n",
       "      <th>2</th>\n",
       "      <td>1943/02/25</td>\n",
       "      <td>-</td>\n",
       "      <td>-</td>\n",
       "      <td>harrison</td>\n",
       "      <td>beatles</td>\n",
       "      <td>george</td>\n",
       "    </tr>\n",
       "    <tr>\n",
       "      <th>3</th>\n",
       "      <td>1940/07/07</td>\n",
       "      <td>-</td>\n",
       "      <td>-</td>\n",
       "      <td>starr</td>\n",
       "      <td>beatles</td>\n",
       "      <td>ringo</td>\n",
       "    </tr>\n",
       "    <tr>\n",
       "      <th>4</th>\n",
       "      <td>1941/10/13</td>\n",
       "      <td>-</td>\n",
       "      <td>-</td>\n",
       "      <td>simon</td>\n",
       "      <td>simon_and_garfunkel</td>\n",
       "      <td>paul</td>\n",
       "    </tr>\n",
       "    <tr>\n",
       "      <th>5</th>\n",
       "      <td>1941/11/05</td>\n",
       "      <td>-</td>\n",
       "      <td>-</td>\n",
       "      <td>garfunkel</td>\n",
       "      <td>simon_and_garfunkel</td>\n",
       "      <td>art</td>\n",
       "    </tr>\n",
       "  </tbody>\n",
       "</table>\n",
       "</div>"
      ],
      "text/plain": [
       "           DOB age alive family_name           group_name    name\n",
       "0   1940/10/09   -     -      lennon              beatles    john\n",
       "1  1942/026/18   -     -   mccartney              beatles    paul\n",
       "2   1943/02/25   -     -    harrison              beatles  george\n",
       "3   1940/07/07   -     -       starr              beatles   ringo\n",
       "4   1941/10/13   -     -       simon  simon_and_garfunkel    paul\n",
       "5   1941/11/05   -     -   garfunkel  simon_and_garfunkel     art"
      ]
     },
     "execution_count": 176,
     "metadata": {},
     "output_type": "execute_result"
    }
   ],
   "source": [
    "df2.applymap(my_lower)"
   ]
  },
  {
   "cell_type": "markdown",
   "metadata": {
    "deletable": true,
    "editable": true
   },
   "source": [
    "### より複雑な関数をシリーズ（データフレームの行・列）の各要素に適用するにはシリーズのapplyを使う"
   ]
  },
  {
   "cell_type": "markdown",
   "metadata": {
    "deletable": true,
    "editable": true
   },
   "source": [
    "```S.apply(func, convert_dtype=True, args=(), **kwds)```  \n",
    "argsに引数をタプルとして与えることができる"
   ]
  },
  {
   "cell_type": "code",
   "execution_count": 177,
   "metadata": {
    "collapsed": true,
    "deletable": true,
    "editable": true
   },
   "outputs": [],
   "source": [
    "# テスト用関数その2: 第一引数 x が数値であれば、小数第 n 位までの概数にする(nは負の値も可)\n",
    "def my_round(x, n):\n",
    "    if isinstance(x, int) or isinstance(x, float):\n",
    "        return round(x, n)\n",
    "    else:\n",
    "        return np.NaN"
   ]
  },
  {
   "cell_type": "code",
   "execution_count": 178,
   "metadata": {
    "collapsed": false,
    "deletable": true,
    "editable": true
   },
   "outputs": [
    {
     "data": {
      "text/plain": [
       "0      3.89\n",
       "1      2.19\n",
       "2     15.39\n",
       "3     43.90\n",
       "4    390.08\n",
       "5    239.62\n",
       "dtype: float64"
      ]
     },
     "execution_count": 178,
     "metadata": {},
     "output_type": "execute_result"
    }
   ],
   "source": [
    "# シリーズの各値について、小数第二位までの概数にする\n",
    "test_s = pd.Series([3.89, 2.192, 15.3921, 43.903, 390.083, 239.622])\n",
    "test_s.apply(my_round, args=(2,))  # argsに第二引数以降の引数をタプルとして与える必要がある。要素数１のタプルなので (2,) と書く。"
   ]
  },
  {
   "cell_type": "markdown",
   "metadata": {
    "deletable": true,
    "editable": true
   },
   "source": [
    "### データフレームの行または列ごとに関数を適用するには、データフレームのapplyを使う"
   ]
  },
  {
   "cell_type": "markdown",
   "metadata": {
    "deletable": true,
    "editable": true
   },
   "source": [
    "__データフレームのapplyとシリーズのapplyは使い方が異なるので注意__  \n",
    "各要素に関数を適用するのではなく、行または列全体に関数を適用する  \n",
    "df1.apply(func, axis=0, broadcast=False, raw=False, reduce=None, args=(), **kwds)\n",
    "\n"
   ]
  },
  {
   "cell_type": "code",
   "execution_count": 179,
   "metadata": {
    "collapsed": false,
    "deletable": true,
    "editable": true
   },
   "outputs": [],
   "source": [
    "# テスト用集計関数: シリーズ (データフレームの行 or 列)を受け取り、thresholdより値が大きいものの個数を返す\n",
    "def count_larger_than(S, threshold=0):\n",
    "    assert isinstance(S, pd.core.series.Series)  # Sがシリーズであるかチェックを行っている\n",
    "    return len([x for x in S if x > threshold])\n"
   ]
  },
  {
   "cell_type": "code",
   "execution_count": 180,
   "metadata": {
    "collapsed": false,
    "deletable": true,
    "editable": true
   },
   "outputs": [
    {
     "data": {
      "text/plain": [
       "2"
      ]
     },
     "execution_count": 180,
     "metadata": {},
     "output_type": "execute_result"
    }
   ],
   "source": [
    "# 試しに実行してみる\n",
    "s_test = pd.Series([1,3,5,6,8])\n",
    "count_larger_than(s_test, 5)"
   ]
  },
  {
   "cell_type": "code",
   "execution_count": 181,
   "metadata": {
    "collapsed": false,
    "deletable": true,
    "editable": true
   },
   "outputs": [
    {
     "data": {
      "text/html": [
       "<div>\n",
       "<style>\n",
       "    .dataframe thead tr:only-child th {\n",
       "        text-align: right;\n",
       "    }\n",
       "\n",
       "    .dataframe thead th {\n",
       "        text-align: left;\n",
       "    }\n",
       "\n",
       "    .dataframe tbody tr th {\n",
       "        vertical-align: top;\n",
       "    }\n",
       "</style>\n",
       "<table border=\"1\" class=\"dataframe\">\n",
       "  <thead>\n",
       "    <tr style=\"text-align: right;\">\n",
       "      <th></th>\n",
       "      <th>A</th>\n",
       "      <th>B</th>\n",
       "      <th>C</th>\n",
       "    </tr>\n",
       "  </thead>\n",
       "  <tbody>\n",
       "    <tr>\n",
       "      <th>0</th>\n",
       "      <td>0.0</td>\n",
       "      <td>2.0</td>\n",
       "      <td>3.0</td>\n",
       "    </tr>\n",
       "    <tr>\n",
       "      <th>1</th>\n",
       "      <td>10.0</td>\n",
       "      <td>20.0</td>\n",
       "      <td>30.0</td>\n",
       "    </tr>\n",
       "    <tr>\n",
       "      <th>2</th>\n",
       "      <td>100.0</td>\n",
       "      <td>200.0</td>\n",
       "      <td>300.0</td>\n",
       "    </tr>\n",
       "    <tr>\n",
       "      <th>3</th>\n",
       "      <td>1000.0</td>\n",
       "      <td>2000.0</td>\n",
       "      <td>3000.0</td>\n",
       "    </tr>\n",
       "  </tbody>\n",
       "</table>\n",
       "</div>"
      ],
      "text/plain": [
       "        A       B       C\n",
       "0     0.0     2.0     3.0\n",
       "1    10.0    20.0    30.0\n",
       "2   100.0   200.0   300.0\n",
       "3  1000.0  2000.0  3000.0"
      ]
     },
     "execution_count": 181,
     "metadata": {},
     "output_type": "execute_result"
    }
   ],
   "source": [
    "df1"
   ]
  },
  {
   "cell_type": "code",
   "execution_count": 182,
   "metadata": {
    "collapsed": false,
    "deletable": true,
    "editable": true
   },
   "outputs": [
    {
     "data": {
      "text/plain": [
       "A    2\n",
       "B    3\n",
       "C    3\n",
       "dtype: int64"
      ]
     },
     "execution_count": 182,
     "metadata": {},
     "output_type": "execute_result"
    }
   ],
   "source": [
    "# count_larger_than関数を各列に適用する\n",
    "df1.apply(count_larger_than, args=(10,))"
   ]
  },
  {
   "cell_type": "code",
   "execution_count": 183,
   "metadata": {
    "collapsed": false,
    "deletable": true,
    "editable": true
   },
   "outputs": [
    {
     "data": {
      "text/plain": [
       "0    0\n",
       "1    2\n",
       "2    3\n",
       "3    3\n",
       "dtype: int64"
      ]
     },
     "execution_count": 183,
     "metadata": {},
     "output_type": "execute_result"
    }
   ],
   "source": [
    "# count_larger_than関数をaxis=1を指定して各行に適用する\n",
    "df1.apply(count_larger_than, args=(10,), axis=1)"
   ]
  },
  {
   "cell_type": "code",
   "execution_count": null,
   "metadata": {
    "collapsed": false,
    "deletable": true,
    "editable": true
   },
   "outputs": [],
   "source": []
  },
  {
   "cell_type": "code",
   "execution_count": null,
   "metadata": {
    "collapsed": false,
    "deletable": true,
    "editable": true
   },
   "outputs": [],
   "source": []
  },
  {
   "cell_type": "code",
   "execution_count": 184,
   "metadata": {
    "collapsed": false,
    "deletable": true,
    "editable": true
   },
   "outputs": [],
   "source": [
    "# シリーズを受け取ってシリーズまたはリストを返す関数\n",
    "def my_cumproduct(S):\n",
    "    L = []\n",
    "    current = 1\n",
    "    for x in S:\n",
    "        current *= x\n",
    "        L.append(current)\n",
    "    return L\n",
    "        "
   ]
  },
  {
   "cell_type": "code",
   "execution_count": 185,
   "metadata": {
    "collapsed": false,
    "deletable": true,
    "editable": true
   },
   "outputs": [
    {
     "data": {
      "text/plain": [
       "[10, 200, 6000]"
      ]
     },
     "execution_count": 185,
     "metadata": {},
     "output_type": "execute_result"
    }
   ],
   "source": [
    "# 動作確認\n",
    "my_cumproduct(pd.Series([10,20,30]))"
   ]
  },
  {
   "cell_type": "code",
   "execution_count": 186,
   "metadata": {
    "collapsed": false,
    "deletable": true,
    "editable": true
   },
   "outputs": [
    {
     "data": {
      "text/html": [
       "<div>\n",
       "<style>\n",
       "    .dataframe thead tr:only-child th {\n",
       "        text-align: right;\n",
       "    }\n",
       "\n",
       "    .dataframe thead th {\n",
       "        text-align: left;\n",
       "    }\n",
       "\n",
       "    .dataframe tbody tr th {\n",
       "        vertical-align: top;\n",
       "    }\n",
       "</style>\n",
       "<table border=\"1\" class=\"dataframe\">\n",
       "  <thead>\n",
       "    <tr style=\"text-align: right;\">\n",
       "      <th></th>\n",
       "      <th>A</th>\n",
       "      <th>B</th>\n",
       "      <th>C</th>\n",
       "    </tr>\n",
       "  </thead>\n",
       "  <tbody>\n",
       "    <tr>\n",
       "      <th>0</th>\n",
       "      <td>0.0</td>\n",
       "      <td>2.0</td>\n",
       "      <td>3.0</td>\n",
       "    </tr>\n",
       "    <tr>\n",
       "      <th>1</th>\n",
       "      <td>0.0</td>\n",
       "      <td>40.0</td>\n",
       "      <td>90.0</td>\n",
       "    </tr>\n",
       "    <tr>\n",
       "      <th>2</th>\n",
       "      <td>0.0</td>\n",
       "      <td>8000.0</td>\n",
       "      <td>27000.0</td>\n",
       "    </tr>\n",
       "    <tr>\n",
       "      <th>3</th>\n",
       "      <td>0.0</td>\n",
       "      <td>16000000.0</td>\n",
       "      <td>81000000.0</td>\n",
       "    </tr>\n",
       "  </tbody>\n",
       "</table>\n",
       "</div>"
      ],
      "text/plain": [
       "     A           B           C\n",
       "0  0.0         2.0         3.0\n",
       "1  0.0        40.0        90.0\n",
       "2  0.0      8000.0     27000.0\n",
       "3  0.0  16000000.0  81000000.0"
      ]
     },
     "execution_count": 186,
     "metadata": {},
     "output_type": "execute_result"
    }
   ],
   "source": [
    "df1.apply(my_cumproduct)"
   ]
  },
  {
   "cell_type": "code",
   "execution_count": 187,
   "metadata": {
    "collapsed": true,
    "deletable": true,
    "editable": true
   },
   "outputs": [],
   "source": [
    "# シリーズを引数として受け取り、Zスコア（平均値を引いた後、標準偏差で割る）に変換してシリーズとして返す\n",
    "def zscore(S):\n",
    "    mean = S.mean()  # 平均\n",
    "    stdv = S.std()  # 標準偏差\n",
    "    return (S - mean) / stdv"
   ]
  },
  {
   "cell_type": "code",
   "execution_count": 188,
   "metadata": {
    "collapsed": false,
    "deletable": true,
    "editable": true,
    "scrolled": true
   },
   "outputs": [
    {
     "data": {
      "text/html": [
       "<div>\n",
       "<style>\n",
       "    .dataframe thead tr:only-child th {\n",
       "        text-align: right;\n",
       "    }\n",
       "\n",
       "    .dataframe thead th {\n",
       "        text-align: left;\n",
       "    }\n",
       "\n",
       "    .dataframe tbody tr th {\n",
       "        vertical-align: top;\n",
       "    }\n",
       "</style>\n",
       "<table border=\"1\" class=\"dataframe\">\n",
       "  <thead>\n",
       "    <tr style=\"text-align: right;\">\n",
       "      <th></th>\n",
       "      <th>A</th>\n",
       "      <th>B</th>\n",
       "      <th>C</th>\n",
       "    </tr>\n",
       "  </thead>\n",
       "  <tbody>\n",
       "    <tr>\n",
       "      <th>0</th>\n",
       "      <td>-0.573630</td>\n",
       "      <td>-0.572306</td>\n",
       "      <td>-0.572306</td>\n",
       "    </tr>\n",
       "    <tr>\n",
       "      <th>1</th>\n",
       "      <td>-0.552959</td>\n",
       "      <td>-0.553694</td>\n",
       "      <td>-0.553694</td>\n",
       "    </tr>\n",
       "    <tr>\n",
       "      <th>2</th>\n",
       "      <td>-0.366916</td>\n",
       "      <td>-0.367578</td>\n",
       "      <td>-0.367578</td>\n",
       "    </tr>\n",
       "    <tr>\n",
       "      <th>3</th>\n",
       "      <td>1.493505</td>\n",
       "      <td>1.493578</td>\n",
       "      <td>1.493578</td>\n",
       "    </tr>\n",
       "  </tbody>\n",
       "</table>\n",
       "</div>"
      ],
      "text/plain": [
       "          A         B         C\n",
       "0 -0.573630 -0.572306 -0.572306\n",
       "1 -0.552959 -0.553694 -0.553694\n",
       "2 -0.366916 -0.367578 -0.367578\n",
       "3  1.493505  1.493578  1.493578"
      ]
     },
     "execution_count": 188,
     "metadata": {},
     "output_type": "execute_result"
    }
   ],
   "source": [
    "df1.apply(zscore)"
   ]
  },
  {
   "cell_type": "code",
   "execution_count": 189,
   "metadata": {
    "collapsed": false,
    "deletable": true,
    "editable": true
   },
   "outputs": [
    {
     "data": {
      "text/html": [
       "<div>\n",
       "<style>\n",
       "    .dataframe thead tr:only-child th {\n",
       "        text-align: right;\n",
       "    }\n",
       "\n",
       "    .dataframe thead th {\n",
       "        text-align: left;\n",
       "    }\n",
       "\n",
       "    .dataframe tbody tr th {\n",
       "        vertical-align: top;\n",
       "    }\n",
       "</style>\n",
       "<table border=\"1\" class=\"dataframe\">\n",
       "  <thead>\n",
       "    <tr style=\"text-align: right;\">\n",
       "      <th></th>\n",
       "      <th>A</th>\n",
       "      <th>B</th>\n",
       "      <th>C</th>\n",
       "    </tr>\n",
       "  </thead>\n",
       "  <tbody>\n",
       "    <tr>\n",
       "      <th>0</th>\n",
       "      <td>-0.573630</td>\n",
       "      <td>-0.572306</td>\n",
       "      <td>-0.572306</td>\n",
       "    </tr>\n",
       "    <tr>\n",
       "      <th>1</th>\n",
       "      <td>-0.552959</td>\n",
       "      <td>-0.553694</td>\n",
       "      <td>-0.553694</td>\n",
       "    </tr>\n",
       "    <tr>\n",
       "      <th>2</th>\n",
       "      <td>-0.366916</td>\n",
       "      <td>-0.367578</td>\n",
       "      <td>-0.367578</td>\n",
       "    </tr>\n",
       "    <tr>\n",
       "      <th>3</th>\n",
       "      <td>1.493505</td>\n",
       "      <td>1.493578</td>\n",
       "      <td>1.493578</td>\n",
       "    </tr>\n",
       "  </tbody>\n",
       "</table>\n",
       "</div>"
      ],
      "text/plain": [
       "          A         B         C\n",
       "0 -0.573630 -0.572306 -0.572306\n",
       "1 -0.552959 -0.553694 -0.553694\n",
       "2 -0.366916 -0.367578 -0.367578\n",
       "3  1.493505  1.493578  1.493578"
      ]
     },
     "execution_count": 189,
     "metadata": {},
     "output_type": "execute_result"
    }
   ],
   "source": [
    "# applyを使わずに計算も可能\n",
    "mean = df1.mean()\n",
    "stdev = df1.std()\n",
    "(df1-mean)/stdev"
   ]
  },
  {
   "cell_type": "markdown",
   "metadata": {
    "deletable": true,
    "editable": true
   },
   "source": [
    "# 行・列をループでまわす"
   ]
  },
  {
   "cell_type": "markdown",
   "metadata": {
    "deletable": true,
    "editable": true
   },
   "source": [
    "## データフレームをそのままループで回す"
   ]
  },
  {
   "cell_type": "code",
   "execution_count": 190,
   "metadata": {
    "collapsed": false,
    "deletable": true,
    "editable": true
   },
   "outputs": [
    {
     "data": {
      "text/html": [
       "<div>\n",
       "<style>\n",
       "    .dataframe thead tr:only-child th {\n",
       "        text-align: right;\n",
       "    }\n",
       "\n",
       "    .dataframe thead th {\n",
       "        text-align: left;\n",
       "    }\n",
       "\n",
       "    .dataframe tbody tr th {\n",
       "        vertical-align: top;\n",
       "    }\n",
       "</style>\n",
       "<table border=\"1\" class=\"dataframe\">\n",
       "  <thead>\n",
       "    <tr style=\"text-align: right;\">\n",
       "      <th></th>\n",
       "      <th>A</th>\n",
       "      <th>B</th>\n",
       "      <th>C</th>\n",
       "    </tr>\n",
       "  </thead>\n",
       "  <tbody>\n",
       "    <tr>\n",
       "      <th>0</th>\n",
       "      <td>0.0</td>\n",
       "      <td>2.0</td>\n",
       "      <td>3.0</td>\n",
       "    </tr>\n",
       "    <tr>\n",
       "      <th>1</th>\n",
       "      <td>10.0</td>\n",
       "      <td>20.0</td>\n",
       "      <td>30.0</td>\n",
       "    </tr>\n",
       "    <tr>\n",
       "      <th>2</th>\n",
       "      <td>100.0</td>\n",
       "      <td>200.0</td>\n",
       "      <td>300.0</td>\n",
       "    </tr>\n",
       "    <tr>\n",
       "      <th>3</th>\n",
       "      <td>1000.0</td>\n",
       "      <td>2000.0</td>\n",
       "      <td>3000.0</td>\n",
       "    </tr>\n",
       "  </tbody>\n",
       "</table>\n",
       "</div>"
      ],
      "text/plain": [
       "        A       B       C\n",
       "0     0.0     2.0     3.0\n",
       "1    10.0    20.0    30.0\n",
       "2   100.0   200.0   300.0\n",
       "3  1000.0  2000.0  3000.0"
      ]
     },
     "execution_count": 190,
     "metadata": {},
     "output_type": "execute_result"
    }
   ],
   "source": [
    "df1"
   ]
  },
  {
   "cell_type": "code",
   "execution_count": 191,
   "metadata": {
    "collapsed": false,
    "deletable": true,
    "editable": true
   },
   "outputs": [
    {
     "name": "stdout",
     "output_type": "stream",
     "text": [
      "A <class 'str'>\n",
      "B <class 'str'>\n",
      "C <class 'str'>\n"
     ]
    }
   ],
   "source": [
    "# 列名が順に取り出される\n",
    "for x in df1:\n",
    "    print(x, type(x))"
   ]
  },
  {
   "cell_type": "markdown",
   "metadata": {
    "deletable": true,
    "editable": true
   },
   "source": [
    "## 1行ずつ取り出す\n",
    "iterrowsを使うと、各行のインデックスおよび行データがタプルとして取り出せる。  \n",
    "行データの形式はSeriesになっている。"
   ]
  },
  {
   "cell_type": "code",
   "execution_count": 192,
   "metadata": {
    "collapsed": false,
    "deletable": true,
    "editable": true
   },
   "outputs": [
    {
     "name": "stdout",
     "output_type": "stream",
     "text": [
      "INDEX = 0\n",
      "['1940/10/09', nan, False, 'Lennon', 'Beatles', 'John']\n",
      "-----\n",
      "INDEX = 1\n",
      "['1942/026/18', 76.0, True, 'McCartney', 'Beatles', 'Paul']\n",
      "-----\n",
      "INDEX = 2\n",
      "['1943/02/25', nan, False, 'Harrison', 'Beatles', 'George']\n",
      "-----\n",
      "INDEX = 3\n",
      "['1940/07/07', 78.0, True, 'Starr', 'Beatles', 'Ringo']\n",
      "-----\n",
      "INDEX = 4\n",
      "['1941/10/13', 77.0, True, 'Simon', 'Simon_and_Garfunkel', 'Paul']\n",
      "-----\n",
      "INDEX = 5\n",
      "['1941/11/05', 77.0, True, 'Garfunkel', 'Simon_and_Garfunkel', 'Art']\n",
      "-----\n"
     ]
    }
   ],
   "source": [
    "for index, row in df2.iterrows():\n",
    "    print(\"INDEX =\", index)\n",
    "    print(list(row))\n",
    "    print(\"-----\")"
   ]
  },
  {
   "cell_type": "markdown",
   "metadata": {
    "deletable": true,
    "editable": true
   },
   "source": [
    "## 1列ずつ取り出す\n",
    "iteritemsを使うと、各列の列名および列データがタプルとして取り出せる。  \n",
    "列データの形式はSeriesになっている。"
   ]
  },
  {
   "cell_type": "code",
   "execution_count": 193,
   "metadata": {
    "collapsed": false,
    "deletable": true,
    "editable": true
   },
   "outputs": [
    {
     "name": "stdout",
     "output_type": "stream",
     "text": [
      "Column name = DOB\n",
      "['1940/10/09', '1942/026/18', '1943/02/25', '1940/07/07', '1941/10/13', '1941/11/05']\n",
      "-----\n",
      "Column name = age\n",
      "[nan, 76.0, nan, 78.0, 77.0, 77.0]\n",
      "-----\n",
      "Column name = alive\n",
      "[False, True, False, True, True, True]\n",
      "-----\n",
      "Column name = family_name\n",
      "['Lennon', 'McCartney', 'Harrison', 'Starr', 'Simon', 'Garfunkel']\n",
      "-----\n",
      "Column name = group_name\n",
      "['Beatles', 'Beatles', 'Beatles', 'Beatles', 'Simon_and_Garfunkel', 'Simon_and_Garfunkel']\n",
      "-----\n",
      "Column name = name\n",
      "['John', 'Paul', 'George', 'Ringo', 'Paul', 'Art']\n",
      "-----\n"
     ]
    }
   ],
   "source": [
    "for col_name, col in df2.iteritems():\n",
    "    print(\"Column name =\", col_name)\n",
    "    print(list(col))\n",
    "    print(\"-----\")    "
   ]
  },
  {
   "cell_type": "markdown",
   "metadata": {
    "collapsed": true,
    "deletable": true,
    "editable": true
   },
   "source": [
    "## forループを使う場合の注意点"
   ]
  },
  {
   "cell_type": "code",
   "execution_count": 194,
   "metadata": {
    "collapsed": false,
    "deletable": true,
    "editable": true,
    "scrolled": true
   },
   "outputs": [
    {
     "name": "stdout",
     "output_type": "stream",
     "text": [
      "CPU times: user 1.89 s, sys: 12.1 ms, total: 1.9 s\n",
      "Wall time: 1.9 s\n"
     ]
    }
   ],
   "source": [
    "%%time\n",
    "# データフレームをループでまわして、各要素を四捨五入した値に書き換える処理\n",
    "N=100\n",
    "test_df = pd.DataFrame(np.random.rand(N, 100) * 10)  # N行x100列のテストデータ. 各データは0~10のランダムな小数\n",
    "for row_index, row in test_df.iterrows():\n",
    "    for column_index in row.index:\n",
    "        test_df.loc[row_index, column_index] = round(test_df.loc[row_index, column_index])\n",
    "        # test_df.at[row_index, column_index] = round(test_df.at[row_index, column_index])\n",
    "\n",
    "# forループ自体が遅いわけではなく、ループの中で処理に時間がかかる loc を使った要素の参照・書き換えを行なっているのが遅くなる要因\n",
    "# locのかわりに at を使うと0.2秒程度まで改善される"
   ]
  },
  {
   "cell_type": "code",
   "execution_count": 195,
   "metadata": {
    "collapsed": false,
    "deletable": true,
    "editable": true
   },
   "outputs": [
    {
     "name": "stdout",
     "output_type": "stream",
     "text": [
      "CPU times: user 19.4 ms, sys: 2.17 ms, total: 21.6 ms\n",
      "Wall time: 19.7 ms\n"
     ]
    }
   ],
   "source": [
    "%%time\n",
    "# ループでを使わずに、applymapを使って各要素を四捨五入した値に書き換える処理\n",
    "N=100\n",
    "test_df = pd.DataFrame(np.random.rand(N, 100) * 10)\n",
    "test_df.applymap(round)"
   ]
  },
  {
   "cell_type": "markdown",
   "metadata": {
    "collapsed": false,
    "deletable": true,
    "editable": true
   },
   "source": [
    "forループの中で時間のかかる処理を行うとパフォーマンスが落ちます。\n",
    "一般的には、\n",
    "1. numpyやpandasの関数・メソッドを使用  \n",
    "2. apply や applymap で行・列・データフレーム全体に関数を適用する  \n",
    "3. for ループを回して処理する  \n",
    "\n",
    "の順にパフォーマンスが低下します。"
   ]
  },
  {
   "cell_type": "markdown",
   "metadata": {
    "deletable": true,
    "editable": true
   },
   "source": [
    "# データフレームの結合"
   ]
  },
  {
   "cell_type": "markdown",
   "metadata": {
    "deletable": true,
    "editable": true
   },
   "source": [
    "## concat: ２つ（またはそれ以上）のデータフレームを縦・横方向に連結\n",
    "共通するindexや列ラベルがあれば、それらを利用して結び付けられる。"
   ]
  },
  {
   "cell_type": "code",
   "execution_count": 270,
   "metadata": {
    "collapsed": false,
    "deletable": true,
    "editable": true
   },
   "outputs": [],
   "source": [
    "df_A = pd.DataFrame([[\"A0\",\"A1\",\"A2\"],\n",
    "                     [\"B0\",\"B1\",\"B2\"],\n",
    "                     [\"C0\",\"C1\",\"C2\"],\n",
    "                     [\"D0\",\"D1\",\"D2\"]],\n",
    "                    columns=[0,1,2],\n",
    "                    index=[\"A\",\"B\",\"C\",\"D\"])\n",
    "df_B = pd.DataFrame([[\"E0\",\"E1\",\"E2\",\"E3\"],\n",
    "                     [\"F0\",\"F1\",\"F2\",\"F3\"],\n",
    "                     [\"G0\",\"G1\",\"G2\",\"G3\"],\n",
    "                     [\"H0\",\"H1\",\"H2\",\"H3\"]],\n",
    "                    columns=[0,1,2,3],\n",
    "                    index=[\"E\",\"F\",\"G\",\"H\"])\n",
    "df_C = pd.DataFrame([[\"A3\",\"A4\",\"A5\"],\n",
    "                     [\"B3\",\"B4\",\"B5\"],\n",
    "                     [\"C3\",\"C4\",\"C5\"],\n",
    "                     [\"D3\",\"D4\",\"D5\"]],\n",
    "                    columns=[3,4,5],\n",
    "                    index=[\"A\",\"B\",\"C\",\"D\"])\n"
   ]
  },
  {
   "cell_type": "code",
   "execution_count": null,
   "metadata": {
    "collapsed": false
   },
   "outputs": [],
   "source": []
  },
  {
   "cell_type": "code",
   "execution_count": 271,
   "metadata": {
    "collapsed": false,
    "deletable": true,
    "editable": true,
    "scrolled": true
   },
   "outputs": [
    {
     "data": {
      "text/html": [
       "<div>\n",
       "<style>\n",
       "    .dataframe thead tr:only-child th {\n",
       "        text-align: right;\n",
       "    }\n",
       "\n",
       "    .dataframe thead th {\n",
       "        text-align: left;\n",
       "    }\n",
       "\n",
       "    .dataframe tbody tr th {\n",
       "        vertical-align: top;\n",
       "    }\n",
       "</style>\n",
       "<table border=\"1\" class=\"dataframe\">\n",
       "  <thead>\n",
       "    <tr style=\"text-align: right;\">\n",
       "      <th></th>\n",
       "      <th>0</th>\n",
       "      <th>1</th>\n",
       "      <th>2</th>\n",
       "      <th>3</th>\n",
       "    </tr>\n",
       "  </thead>\n",
       "  <tbody>\n",
       "    <tr>\n",
       "      <th>A</th>\n",
       "      <td>A0</td>\n",
       "      <td>A1</td>\n",
       "      <td>A2</td>\n",
       "      <td>NaN</td>\n",
       "    </tr>\n",
       "    <tr>\n",
       "      <th>B</th>\n",
       "      <td>B0</td>\n",
       "      <td>B1</td>\n",
       "      <td>B2</td>\n",
       "      <td>NaN</td>\n",
       "    </tr>\n",
       "    <tr>\n",
       "      <th>C</th>\n",
       "      <td>C0</td>\n",
       "      <td>C1</td>\n",
       "      <td>C2</td>\n",
       "      <td>NaN</td>\n",
       "    </tr>\n",
       "    <tr>\n",
       "      <th>D</th>\n",
       "      <td>D0</td>\n",
       "      <td>D1</td>\n",
       "      <td>D2</td>\n",
       "      <td>NaN</td>\n",
       "    </tr>\n",
       "    <tr>\n",
       "      <th>E</th>\n",
       "      <td>E0</td>\n",
       "      <td>E1</td>\n",
       "      <td>E2</td>\n",
       "      <td>E3</td>\n",
       "    </tr>\n",
       "    <tr>\n",
       "      <th>F</th>\n",
       "      <td>F0</td>\n",
       "      <td>F1</td>\n",
       "      <td>F2</td>\n",
       "      <td>F3</td>\n",
       "    </tr>\n",
       "    <tr>\n",
       "      <th>G</th>\n",
       "      <td>G0</td>\n",
       "      <td>G1</td>\n",
       "      <td>G2</td>\n",
       "      <td>G3</td>\n",
       "    </tr>\n",
       "    <tr>\n",
       "      <th>H</th>\n",
       "      <td>H0</td>\n",
       "      <td>H1</td>\n",
       "      <td>H2</td>\n",
       "      <td>H3</td>\n",
       "    </tr>\n",
       "  </tbody>\n",
       "</table>\n",
       "</div>"
      ],
      "text/plain": [
       "    0   1   2    3\n",
       "A  A0  A1  A2  NaN\n",
       "B  B0  B1  B2  NaN\n",
       "C  C0  C1  C2  NaN\n",
       "D  D0  D1  D2  NaN\n",
       "E  E0  E1  E2   E3\n",
       "F  F0  F1  F2   F3\n",
       "G  G0  G1  G2   G3\n",
       "H  H0  H1  H2   H3"
      ]
     },
     "execution_count": 271,
     "metadata": {},
     "output_type": "execute_result"
    }
   ],
   "source": [
    "# 縦に連結\n",
    "pd.concat([df_A, df_B])"
   ]
  },
  {
   "cell_type": "code",
   "execution_count": 272,
   "metadata": {
    "collapsed": false,
    "deletable": true,
    "editable": true
   },
   "outputs": [
    {
     "data": {
      "text/html": [
       "<div>\n",
       "<style>\n",
       "    .dataframe thead tr:only-child th {\n",
       "        text-align: right;\n",
       "    }\n",
       "\n",
       "    .dataframe thead th {\n",
       "        text-align: left;\n",
       "    }\n",
       "\n",
       "    .dataframe tbody tr th {\n",
       "        vertical-align: top;\n",
       "    }\n",
       "</style>\n",
       "<table border=\"1\" class=\"dataframe\">\n",
       "  <thead>\n",
       "    <tr style=\"text-align: right;\">\n",
       "      <th></th>\n",
       "      <th>0</th>\n",
       "      <th>1</th>\n",
       "      <th>2</th>\n",
       "      <th>3</th>\n",
       "      <th>4</th>\n",
       "      <th>5</th>\n",
       "    </tr>\n",
       "  </thead>\n",
       "  <tbody>\n",
       "    <tr>\n",
       "      <th>A</th>\n",
       "      <td>A0</td>\n",
       "      <td>A1</td>\n",
       "      <td>A2</td>\n",
       "      <td>A3</td>\n",
       "      <td>A4</td>\n",
       "      <td>A5</td>\n",
       "    </tr>\n",
       "    <tr>\n",
       "      <th>B</th>\n",
       "      <td>B0</td>\n",
       "      <td>B1</td>\n",
       "      <td>B2</td>\n",
       "      <td>B3</td>\n",
       "      <td>B4</td>\n",
       "      <td>B5</td>\n",
       "    </tr>\n",
       "    <tr>\n",
       "      <th>C</th>\n",
       "      <td>C0</td>\n",
       "      <td>C1</td>\n",
       "      <td>C2</td>\n",
       "      <td>C3</td>\n",
       "      <td>C4</td>\n",
       "      <td>C5</td>\n",
       "    </tr>\n",
       "    <tr>\n",
       "      <th>D</th>\n",
       "      <td>D0</td>\n",
       "      <td>D1</td>\n",
       "      <td>D2</td>\n",
       "      <td>D3</td>\n",
       "      <td>D4</td>\n",
       "      <td>D5</td>\n",
       "    </tr>\n",
       "  </tbody>\n",
       "</table>\n",
       "</div>"
      ],
      "text/plain": [
       "    0   1   2   3   4   5\n",
       "A  A0  A1  A2  A3  A4  A5\n",
       "B  B0  B1  B2  B3  B4  B5\n",
       "C  C0  C1  C2  C3  C4  C5\n",
       "D  D0  D1  D2  D3  D4  D5"
      ]
     },
     "execution_count": 272,
     "metadata": {},
     "output_type": "execute_result"
    }
   ],
   "source": [
    "# 横方向への連結 (axis=1)を指定\n",
    "# 共通する行ラベル同士で連結する\n",
    "pd.concat([df_A, df_C], axis=1)"
   ]
  },
  {
   "cell_type": "code",
   "execution_count": 273,
   "metadata": {
    "collapsed": false,
    "deletable": true,
    "editable": true
   },
   "outputs": [
    {
     "data": {
      "text/html": [
       "<div>\n",
       "<style>\n",
       "    .dataframe thead tr:only-child th {\n",
       "        text-align: right;\n",
       "    }\n",
       "\n",
       "    .dataframe thead th {\n",
       "        text-align: left;\n",
       "    }\n",
       "\n",
       "    .dataframe tbody tr th {\n",
       "        vertical-align: top;\n",
       "    }\n",
       "</style>\n",
       "<table border=\"1\" class=\"dataframe\">\n",
       "  <thead>\n",
       "    <tr style=\"text-align: right;\">\n",
       "      <th></th>\n",
       "      <th>0</th>\n",
       "      <th>1</th>\n",
       "      <th>2</th>\n",
       "      <th>3</th>\n",
       "    </tr>\n",
       "  </thead>\n",
       "  <tbody>\n",
       "    <tr>\n",
       "      <th>A</th>\n",
       "      <td>A0</td>\n",
       "      <td>A1</td>\n",
       "      <td>A2</td>\n",
       "      <td>NaN</td>\n",
       "    </tr>\n",
       "    <tr>\n",
       "      <th>B</th>\n",
       "      <td>B0</td>\n",
       "      <td>B1</td>\n",
       "      <td>B2</td>\n",
       "      <td>NaN</td>\n",
       "    </tr>\n",
       "    <tr>\n",
       "      <th>C</th>\n",
       "      <td>C0</td>\n",
       "      <td>C1</td>\n",
       "      <td>C2</td>\n",
       "      <td>NaN</td>\n",
       "    </tr>\n",
       "    <tr>\n",
       "      <th>D</th>\n",
       "      <td>D0</td>\n",
       "      <td>D1</td>\n",
       "      <td>D2</td>\n",
       "      <td>NaN</td>\n",
       "    </tr>\n",
       "    <tr>\n",
       "      <th>E</th>\n",
       "      <td>E0</td>\n",
       "      <td>E1</td>\n",
       "      <td>E2</td>\n",
       "      <td>E3</td>\n",
       "    </tr>\n",
       "    <tr>\n",
       "      <th>F</th>\n",
       "      <td>F0</td>\n",
       "      <td>F1</td>\n",
       "      <td>F2</td>\n",
       "      <td>F3</td>\n",
       "    </tr>\n",
       "    <tr>\n",
       "      <th>G</th>\n",
       "      <td>G0</td>\n",
       "      <td>G1</td>\n",
       "      <td>G2</td>\n",
       "      <td>G3</td>\n",
       "    </tr>\n",
       "    <tr>\n",
       "      <th>H</th>\n",
       "      <td>H0</td>\n",
       "      <td>H1</td>\n",
       "      <td>H2</td>\n",
       "      <td>H3</td>\n",
       "    </tr>\n",
       "  </tbody>\n",
       "</table>\n",
       "</div>"
      ],
      "text/plain": [
       "    0   1   2    3\n",
       "A  A0  A1  A2  NaN\n",
       "B  B0  B1  B2  NaN\n",
       "C  C0  C1  C2  NaN\n",
       "D  D0  D1  D2  NaN\n",
       "E  E0  E1  E2   E3\n",
       "F  F0  F1  F2   F3\n",
       "G  G0  G1  G2   G3\n",
       "H  H0  H1  H2   H3"
      ]
     },
     "execution_count": 273,
     "metadata": {},
     "output_type": "execute_result"
    }
   ],
   "source": [
    "# 縦方向に結合するならデータフレームのappendメソッドも簡単\n",
    "df_A.append(df_B)"
   ]
  },
  {
   "cell_type": "markdown",
   "metadata": {},
   "source": [
    "## join（indexをkeyとして連結するのに便利）"
   ]
  },
  {
   "cell_type": "code",
   "execution_count": 274,
   "metadata": {
    "collapsed": false
   },
   "outputs": [],
   "source": [
    "# テスト用データ\n",
    "df_L = pd.DataFrame([1.2, 0.8, 2.3, 3.5, 2.2, 0.3],\n",
    "                    index=[\"gene_1\", \"gene_2\", \"gene_3\", \"gene_4\", \"gene_5\", \"gene_6\"],\n",
    "                    columns=[\"DE\"])\n",
    "df_R = pd.DataFrame([\"50S ribosome-binding GTPase\", \"Surface antigen\", \"Elongation factor Tu GTP binding domain\", \"Ring finger domain\"],\n",
    "                    index=[\"gene_1\", \"gene_2\", \"gene_4\", \"gene_6\"],\n",
    "                    columns=[\"definition\"])"
   ]
  },
  {
   "cell_type": "code",
   "execution_count": 275,
   "metadata": {
    "collapsed": false
   },
   "outputs": [
    {
     "data": {
      "text/html": [
       "<div>\n",
       "<style>\n",
       "    .dataframe thead tr:only-child th {\n",
       "        text-align: right;\n",
       "    }\n",
       "\n",
       "    .dataframe thead th {\n",
       "        text-align: left;\n",
       "    }\n",
       "\n",
       "    .dataframe tbody tr th {\n",
       "        vertical-align: top;\n",
       "    }\n",
       "</style>\n",
       "<table border=\"1\" class=\"dataframe\">\n",
       "  <thead>\n",
       "    <tr style=\"text-align: right;\">\n",
       "      <th></th>\n",
       "      <th>DE</th>\n",
       "    </tr>\n",
       "  </thead>\n",
       "  <tbody>\n",
       "    <tr>\n",
       "      <th>gene_1</th>\n",
       "      <td>1.2</td>\n",
       "    </tr>\n",
       "    <tr>\n",
       "      <th>gene_2</th>\n",
       "      <td>0.8</td>\n",
       "    </tr>\n",
       "    <tr>\n",
       "      <th>gene_3</th>\n",
       "      <td>2.3</td>\n",
       "    </tr>\n",
       "    <tr>\n",
       "      <th>gene_4</th>\n",
       "      <td>3.5</td>\n",
       "    </tr>\n",
       "    <tr>\n",
       "      <th>gene_5</th>\n",
       "      <td>2.2</td>\n",
       "    </tr>\n",
       "    <tr>\n",
       "      <th>gene_6</th>\n",
       "      <td>0.3</td>\n",
       "    </tr>\n",
       "  </tbody>\n",
       "</table>\n",
       "</div>"
      ],
      "text/plain": [
       "         DE\n",
       "gene_1  1.2\n",
       "gene_2  0.8\n",
       "gene_3  2.3\n",
       "gene_4  3.5\n",
       "gene_5  2.2\n",
       "gene_6  0.3"
      ]
     },
     "execution_count": 275,
     "metadata": {},
     "output_type": "execute_result"
    }
   ],
   "source": [
    "df_L"
   ]
  },
  {
   "cell_type": "code",
   "execution_count": 276,
   "metadata": {
    "collapsed": false
   },
   "outputs": [
    {
     "data": {
      "text/html": [
       "<div>\n",
       "<style>\n",
       "    .dataframe thead tr:only-child th {\n",
       "        text-align: right;\n",
       "    }\n",
       "\n",
       "    .dataframe thead th {\n",
       "        text-align: left;\n",
       "    }\n",
       "\n",
       "    .dataframe tbody tr th {\n",
       "        vertical-align: top;\n",
       "    }\n",
       "</style>\n",
       "<table border=\"1\" class=\"dataframe\">\n",
       "  <thead>\n",
       "    <tr style=\"text-align: right;\">\n",
       "      <th></th>\n",
       "      <th>definition</th>\n",
       "    </tr>\n",
       "  </thead>\n",
       "  <tbody>\n",
       "    <tr>\n",
       "      <th>gene_1</th>\n",
       "      <td>50S ribosome-binding GTPase</td>\n",
       "    </tr>\n",
       "    <tr>\n",
       "      <th>gene_2</th>\n",
       "      <td>Surface antigen</td>\n",
       "    </tr>\n",
       "    <tr>\n",
       "      <th>gene_4</th>\n",
       "      <td>Elongation factor Tu GTP binding domain</td>\n",
       "    </tr>\n",
       "    <tr>\n",
       "      <th>gene_6</th>\n",
       "      <td>Ring finger domain</td>\n",
       "    </tr>\n",
       "  </tbody>\n",
       "</table>\n",
       "</div>"
      ],
      "text/plain": [
       "                                     definition\n",
       "gene_1              50S ribosome-binding GTPase\n",
       "gene_2                          Surface antigen\n",
       "gene_4  Elongation factor Tu GTP binding domain\n",
       "gene_6                       Ring finger domain"
      ]
     },
     "execution_count": 276,
     "metadata": {},
     "output_type": "execute_result"
    }
   ],
   "source": [
    "df_R"
   ]
  },
  {
   "cell_type": "code",
   "execution_count": 277,
   "metadata": {
    "collapsed": false
   },
   "outputs": [
    {
     "data": {
      "text/html": [
       "<div>\n",
       "<style>\n",
       "    .dataframe thead tr:only-child th {\n",
       "        text-align: right;\n",
       "    }\n",
       "\n",
       "    .dataframe thead th {\n",
       "        text-align: left;\n",
       "    }\n",
       "\n",
       "    .dataframe tbody tr th {\n",
       "        vertical-align: top;\n",
       "    }\n",
       "</style>\n",
       "<table border=\"1\" class=\"dataframe\">\n",
       "  <thead>\n",
       "    <tr style=\"text-align: right;\">\n",
       "      <th></th>\n",
       "      <th>DE</th>\n",
       "      <th>definition</th>\n",
       "    </tr>\n",
       "  </thead>\n",
       "  <tbody>\n",
       "    <tr>\n",
       "      <th>gene_1</th>\n",
       "      <td>1.2</td>\n",
       "      <td>50S ribosome-binding GTPase</td>\n",
       "    </tr>\n",
       "    <tr>\n",
       "      <th>gene_2</th>\n",
       "      <td>0.8</td>\n",
       "      <td>Surface antigen</td>\n",
       "    </tr>\n",
       "    <tr>\n",
       "      <th>gene_3</th>\n",
       "      <td>2.3</td>\n",
       "      <td>NaN</td>\n",
       "    </tr>\n",
       "    <tr>\n",
       "      <th>gene_4</th>\n",
       "      <td>3.5</td>\n",
       "      <td>Elongation factor Tu GTP binding domain</td>\n",
       "    </tr>\n",
       "    <tr>\n",
       "      <th>gene_5</th>\n",
       "      <td>2.2</td>\n",
       "      <td>NaN</td>\n",
       "    </tr>\n",
       "    <tr>\n",
       "      <th>gene_6</th>\n",
       "      <td>0.3</td>\n",
       "      <td>Ring finger domain</td>\n",
       "    </tr>\n",
       "  </tbody>\n",
       "</table>\n",
       "</div>"
      ],
      "text/plain": [
       "         DE                               definition\n",
       "gene_1  1.2              50S ribosome-binding GTPase\n",
       "gene_2  0.8                          Surface antigen\n",
       "gene_3  2.3                                      NaN\n",
       "gene_4  3.5  Elongation factor Tu GTP binding domain\n",
       "gene_5  2.2                                      NaN\n",
       "gene_6  0.3                       Ring finger domain"
      ]
     },
     "execution_count": 277,
     "metadata": {},
     "output_type": "execute_result"
    }
   ],
   "source": [
    "df_L.join(df_R)"
   ]
  },
  {
   "cell_type": "markdown",
   "metadata": {},
   "source": [
    "↑ デフォルトでは how=\"left\"が指定されているので、左のデータフレームにあるものはすべて出力される。"
   ]
  },
  {
   "cell_type": "code",
   "execution_count": 278,
   "metadata": {
    "collapsed": false
   },
   "outputs": [
    {
     "data": {
      "text/html": [
       "<div>\n",
       "<style>\n",
       "    .dataframe thead tr:only-child th {\n",
       "        text-align: right;\n",
       "    }\n",
       "\n",
       "    .dataframe thead th {\n",
       "        text-align: left;\n",
       "    }\n",
       "\n",
       "    .dataframe tbody tr th {\n",
       "        vertical-align: top;\n",
       "    }\n",
       "</style>\n",
       "<table border=\"1\" class=\"dataframe\">\n",
       "  <thead>\n",
       "    <tr style=\"text-align: right;\">\n",
       "      <th></th>\n",
       "      <th>DE</th>\n",
       "      <th>definition</th>\n",
       "    </tr>\n",
       "  </thead>\n",
       "  <tbody>\n",
       "    <tr>\n",
       "      <th>gene_1</th>\n",
       "      <td>1.2</td>\n",
       "      <td>50S ribosome-binding GTPase</td>\n",
       "    </tr>\n",
       "    <tr>\n",
       "      <th>gene_2</th>\n",
       "      <td>0.8</td>\n",
       "      <td>Surface antigen</td>\n",
       "    </tr>\n",
       "    <tr>\n",
       "      <th>gene_4</th>\n",
       "      <td>3.5</td>\n",
       "      <td>Elongation factor Tu GTP binding domain</td>\n",
       "    </tr>\n",
       "    <tr>\n",
       "      <th>gene_6</th>\n",
       "      <td>0.3</td>\n",
       "      <td>Ring finger domain</td>\n",
       "    </tr>\n",
       "  </tbody>\n",
       "</table>\n",
       "</div>"
      ],
      "text/plain": [
       "         DE                               definition\n",
       "gene_1  1.2              50S ribosome-binding GTPase\n",
       "gene_2  0.8                          Surface antigen\n",
       "gene_4  3.5  Elongation factor Tu GTP binding domain\n",
       "gene_6  0.3                       Ring finger domain"
      ]
     },
     "execution_count": 278,
     "metadata": {},
     "output_type": "execute_result"
    }
   ],
   "source": [
    "# how=\"inner\"を指定すると、両方のデータフレームに存在するもののみが出力される。\n",
    "df_L.join(df_R, how=\"inner\")"
   ]
  },
  {
   "cell_type": "code",
   "execution_count": 279,
   "metadata": {
    "collapsed": false
   },
   "outputs": [
    {
     "data": {
      "text/html": [
       "<div>\n",
       "<style>\n",
       "    .dataframe thead tr:only-child th {\n",
       "        text-align: right;\n",
       "    }\n",
       "\n",
       "    .dataframe thead th {\n",
       "        text-align: left;\n",
       "    }\n",
       "\n",
       "    .dataframe tbody tr th {\n",
       "        vertical-align: top;\n",
       "    }\n",
       "</style>\n",
       "<table border=\"1\" class=\"dataframe\">\n",
       "  <thead>\n",
       "    <tr style=\"text-align: right;\">\n",
       "      <th></th>\n",
       "      <th>DE</th>\n",
       "      <th>definition</th>\n",
       "    </tr>\n",
       "  </thead>\n",
       "  <tbody>\n",
       "    <tr>\n",
       "      <th>gene_1</th>\n",
       "      <td>1.2</td>\n",
       "      <td>50S ribosome-binding GTPase</td>\n",
       "    </tr>\n",
       "    <tr>\n",
       "      <th>gene_2</th>\n",
       "      <td>0.8</td>\n",
       "      <td>Surface antigen</td>\n",
       "    </tr>\n",
       "    <tr>\n",
       "      <th>gene_3</th>\n",
       "      <td>2.3</td>\n",
       "      <td>NaN</td>\n",
       "    </tr>\n",
       "    <tr>\n",
       "      <th>gene_4</th>\n",
       "      <td>3.5</td>\n",
       "      <td>Elongation factor Tu GTP binding domain</td>\n",
       "    </tr>\n",
       "    <tr>\n",
       "      <th>gene_5</th>\n",
       "      <td>2.2</td>\n",
       "      <td>NaN</td>\n",
       "    </tr>\n",
       "    <tr>\n",
       "      <th>gene_6</th>\n",
       "      <td>0.3</td>\n",
       "      <td>Ring finger domain</td>\n",
       "    </tr>\n",
       "  </tbody>\n",
       "</table>\n",
       "</div>"
      ],
      "text/plain": [
       "         DE                               definition\n",
       "gene_1  1.2              50S ribosome-binding GTPase\n",
       "gene_2  0.8                          Surface antigen\n",
       "gene_3  2.3                                      NaN\n",
       "gene_4  3.5  Elongation factor Tu GTP binding domain\n",
       "gene_5  2.2                                      NaN\n",
       "gene_6  0.3                       Ring finger domain"
      ]
     },
     "execution_count": 279,
     "metadata": {},
     "output_type": "execute_result"
    }
   ],
   "source": [
    "# 先に述べた pd.concat でも同様の結果は得られる\n",
    "pd.concat([df_L, df_R], axis=1)"
   ]
  },
  {
   "cell_type": "markdown",
   "metadata": {
    "deletable": true,
    "editable": true
   },
   "source": [
    "## merge:（index以外をkeyとして連結するのに便利）\n",
    "多くのオプションがあるので詳細はヘルプ参照のこと"
   ]
  },
  {
   "cell_type": "code",
   "execution_count": 281,
   "metadata": {
    "collapsed": false,
    "deletable": true,
    "editable": true
   },
   "outputs": [],
   "source": [
    "df_L = pd.DataFrame([[\"gene_1\",\"PF00009\"],\n",
    "                     [\"gene_2\",\"PF01103\"],\n",
    "                     [\"gene_3\",\"PF01926\"],\n",
    "                     [\"gene_4\",\"PF01926\"],\n",
    "                     [\"gene_5\",\"PF13639\"],\n",
    "                     [\"gene_6\",\"PF02225\"]],\n",
    "                    columns=[\"gene_id\", \"PFAM_id\",])\n",
    "df_R = pd.DataFrame([[\"PF01926\",\"50S ribosome-binding GTPase\"],\n",
    "                     [\"PF01103\",\"Surface antigen\"],\n",
    "                     [\"PF00009\",\"Elongation factor Tu GTP binding domain\"],\n",
    "                     [\"PF13639\", \"Ring finger domain\"]],\n",
    "                    columns=[\"PFAM_id\", \"definition\"])"
   ]
  },
  {
   "cell_type": "code",
   "execution_count": 282,
   "metadata": {
    "collapsed": false,
    "deletable": true,
    "editable": true
   },
   "outputs": [
    {
     "data": {
      "text/html": [
       "<div>\n",
       "<style>\n",
       "    .dataframe thead tr:only-child th {\n",
       "        text-align: right;\n",
       "    }\n",
       "\n",
       "    .dataframe thead th {\n",
       "        text-align: left;\n",
       "    }\n",
       "\n",
       "    .dataframe tbody tr th {\n",
       "        vertical-align: top;\n",
       "    }\n",
       "</style>\n",
       "<table border=\"1\" class=\"dataframe\">\n",
       "  <thead>\n",
       "    <tr style=\"text-align: right;\">\n",
       "      <th></th>\n",
       "      <th>gene_id</th>\n",
       "      <th>PFAM_id</th>\n",
       "    </tr>\n",
       "  </thead>\n",
       "  <tbody>\n",
       "    <tr>\n",
       "      <th>0</th>\n",
       "      <td>gene_1</td>\n",
       "      <td>PF00009</td>\n",
       "    </tr>\n",
       "    <tr>\n",
       "      <th>1</th>\n",
       "      <td>gene_2</td>\n",
       "      <td>PF01103</td>\n",
       "    </tr>\n",
       "    <tr>\n",
       "      <th>2</th>\n",
       "      <td>gene_3</td>\n",
       "      <td>PF01926</td>\n",
       "    </tr>\n",
       "    <tr>\n",
       "      <th>3</th>\n",
       "      <td>gene_4</td>\n",
       "      <td>PF01926</td>\n",
       "    </tr>\n",
       "    <tr>\n",
       "      <th>4</th>\n",
       "      <td>gene_5</td>\n",
       "      <td>PF13639</td>\n",
       "    </tr>\n",
       "    <tr>\n",
       "      <th>5</th>\n",
       "      <td>gene_6</td>\n",
       "      <td>PF02225</td>\n",
       "    </tr>\n",
       "  </tbody>\n",
       "</table>\n",
       "</div>"
      ],
      "text/plain": [
       "  gene_id  PFAM_id\n",
       "0  gene_1  PF00009\n",
       "1  gene_2  PF01103\n",
       "2  gene_3  PF01926\n",
       "3  gene_4  PF01926\n",
       "4  gene_5  PF13639\n",
       "5  gene_6  PF02225"
      ]
     },
     "execution_count": 282,
     "metadata": {},
     "output_type": "execute_result"
    }
   ],
   "source": [
    "df_L"
   ]
  },
  {
   "cell_type": "code",
   "execution_count": 283,
   "metadata": {
    "collapsed": false,
    "deletable": true,
    "editable": true
   },
   "outputs": [
    {
     "data": {
      "text/html": [
       "<div>\n",
       "<style>\n",
       "    .dataframe thead tr:only-child th {\n",
       "        text-align: right;\n",
       "    }\n",
       "\n",
       "    .dataframe thead th {\n",
       "        text-align: left;\n",
       "    }\n",
       "\n",
       "    .dataframe tbody tr th {\n",
       "        vertical-align: top;\n",
       "    }\n",
       "</style>\n",
       "<table border=\"1\" class=\"dataframe\">\n",
       "  <thead>\n",
       "    <tr style=\"text-align: right;\">\n",
       "      <th></th>\n",
       "      <th>PFAM_id</th>\n",
       "      <th>definition</th>\n",
       "    </tr>\n",
       "  </thead>\n",
       "  <tbody>\n",
       "    <tr>\n",
       "      <th>0</th>\n",
       "      <td>PF01926</td>\n",
       "      <td>50S ribosome-binding GTPase</td>\n",
       "    </tr>\n",
       "    <tr>\n",
       "      <th>1</th>\n",
       "      <td>PF01103</td>\n",
       "      <td>Surface antigen</td>\n",
       "    </tr>\n",
       "    <tr>\n",
       "      <th>2</th>\n",
       "      <td>PF00009</td>\n",
       "      <td>Elongation factor Tu GTP binding domain</td>\n",
       "    </tr>\n",
       "    <tr>\n",
       "      <th>3</th>\n",
       "      <td>PF13639</td>\n",
       "      <td>Ring finger domain</td>\n",
       "    </tr>\n",
       "  </tbody>\n",
       "</table>\n",
       "</div>"
      ],
      "text/plain": [
       "   PFAM_id                               definition\n",
       "0  PF01926              50S ribosome-binding GTPase\n",
       "1  PF01103                          Surface antigen\n",
       "2  PF00009  Elongation factor Tu GTP binding domain\n",
       "3  PF13639                       Ring finger domain"
      ]
     },
     "execution_count": 283,
     "metadata": {},
     "output_type": "execute_result"
    }
   ],
   "source": [
    "df_R"
   ]
  },
  {
   "cell_type": "code",
   "execution_count": 284,
   "metadata": {
    "collapsed": false,
    "deletable": true,
    "editable": true
   },
   "outputs": [
    {
     "data": {
      "text/html": [
       "<div>\n",
       "<style>\n",
       "    .dataframe thead tr:only-child th {\n",
       "        text-align: right;\n",
       "    }\n",
       "\n",
       "    .dataframe thead th {\n",
       "        text-align: left;\n",
       "    }\n",
       "\n",
       "    .dataframe tbody tr th {\n",
       "        vertical-align: top;\n",
       "    }\n",
       "</style>\n",
       "<table border=\"1\" class=\"dataframe\">\n",
       "  <thead>\n",
       "    <tr style=\"text-align: right;\">\n",
       "      <th></th>\n",
       "      <th>gene_id</th>\n",
       "      <th>PFAM_id</th>\n",
       "      <th>definition</th>\n",
       "    </tr>\n",
       "  </thead>\n",
       "  <tbody>\n",
       "    <tr>\n",
       "      <th>0</th>\n",
       "      <td>gene_1</td>\n",
       "      <td>PF00009</td>\n",
       "      <td>Elongation factor Tu GTP binding domain</td>\n",
       "    </tr>\n",
       "    <tr>\n",
       "      <th>1</th>\n",
       "      <td>gene_2</td>\n",
       "      <td>PF01103</td>\n",
       "      <td>Surface antigen</td>\n",
       "    </tr>\n",
       "    <tr>\n",
       "      <th>2</th>\n",
       "      <td>gene_3</td>\n",
       "      <td>PF01926</td>\n",
       "      <td>50S ribosome-binding GTPase</td>\n",
       "    </tr>\n",
       "    <tr>\n",
       "      <th>3</th>\n",
       "      <td>gene_4</td>\n",
       "      <td>PF01926</td>\n",
       "      <td>50S ribosome-binding GTPase</td>\n",
       "    </tr>\n",
       "    <tr>\n",
       "      <th>4</th>\n",
       "      <td>gene_5</td>\n",
       "      <td>PF13639</td>\n",
       "      <td>Ring finger domain</td>\n",
       "    </tr>\n",
       "  </tbody>\n",
       "</table>\n",
       "</div>"
      ],
      "text/plain": [
       "  gene_id  PFAM_id                               definition\n",
       "0  gene_1  PF00009  Elongation factor Tu GTP binding domain\n",
       "1  gene_2  PF01103                          Surface antigen\n",
       "2  gene_3  PF01926              50S ribosome-binding GTPase\n",
       "3  gene_4  PF01926              50S ribosome-binding GTPase\n",
       "4  gene_5  PF13639                       Ring finger domain"
      ]
     },
     "execution_count": 284,
     "metadata": {},
     "output_type": "execute_result"
    }
   ],
   "source": [
    "# この例では、共通する列ラベル PFAM_id を\"key\"として結び付けられる\n",
    "# どの列をkeyにするかは、on, left_on, right_on などで指定可能\n",
    "#　index の値をkeyとして使うことも可能 (left_index, right_index)\n",
    "#\n",
    "# デフォルトでは innerjoin (how='inner', 両方のデータに存在するもののみが結果に現れる)\n",
    "# 右側のデータフレームにない PF02225 は削除される\n",
    "pd.merge(df_L, df_R)"
   ]
  },
  {
   "cell_type": "code",
   "execution_count": 286,
   "metadata": {
    "collapsed": false,
    "deletable": true,
    "editable": true
   },
   "outputs": [
    {
     "data": {
      "text/html": [
       "<div>\n",
       "<style>\n",
       "    .dataframe thead tr:only-child th {\n",
       "        text-align: right;\n",
       "    }\n",
       "\n",
       "    .dataframe thead th {\n",
       "        text-align: left;\n",
       "    }\n",
       "\n",
       "    .dataframe tbody tr th {\n",
       "        vertical-align: top;\n",
       "    }\n",
       "</style>\n",
       "<table border=\"1\" class=\"dataframe\">\n",
       "  <thead>\n",
       "    <tr style=\"text-align: right;\">\n",
       "      <th></th>\n",
       "      <th>gene_id</th>\n",
       "      <th>PFAM_id</th>\n",
       "      <th>definition</th>\n",
       "    </tr>\n",
       "  </thead>\n",
       "  <tbody>\n",
       "    <tr>\n",
       "      <th>0</th>\n",
       "      <td>gene_1</td>\n",
       "      <td>PF00009</td>\n",
       "      <td>Elongation factor Tu GTP binding domain</td>\n",
       "    </tr>\n",
       "    <tr>\n",
       "      <th>1</th>\n",
       "      <td>gene_2</td>\n",
       "      <td>PF01103</td>\n",
       "      <td>Surface antigen</td>\n",
       "    </tr>\n",
       "    <tr>\n",
       "      <th>2</th>\n",
       "      <td>gene_3</td>\n",
       "      <td>PF01926</td>\n",
       "      <td>50S ribosome-binding GTPase</td>\n",
       "    </tr>\n",
       "    <tr>\n",
       "      <th>3</th>\n",
       "      <td>gene_4</td>\n",
       "      <td>PF01926</td>\n",
       "      <td>50S ribosome-binding GTPase</td>\n",
       "    </tr>\n",
       "    <tr>\n",
       "      <th>4</th>\n",
       "      <td>gene_5</td>\n",
       "      <td>PF13639</td>\n",
       "      <td>Ring finger domain</td>\n",
       "    </tr>\n",
       "    <tr>\n",
       "      <th>5</th>\n",
       "      <td>gene_6</td>\n",
       "      <td>PF02225</td>\n",
       "      <td>NaN</td>\n",
       "    </tr>\n",
       "  </tbody>\n",
       "</table>\n",
       "</div>"
      ],
      "text/plain": [
       "  gene_id  PFAM_id                               definition\n",
       "0  gene_1  PF00009  Elongation factor Tu GTP binding domain\n",
       "1  gene_2  PF01103                          Surface antigen\n",
       "2  gene_3  PF01926              50S ribosome-binding GTPase\n",
       "3  gene_4  PF01926              50S ribosome-binding GTPase\n",
       "4  gene_5  PF13639                       Ring finger domain\n",
       "5  gene_6  PF02225                                      NaN"
      ]
     },
     "execution_count": 286,
     "metadata": {},
     "output_type": "execute_result"
    }
   ],
   "source": [
    "# leftjoin (how='left')にすると左側のデータフレームにあるものはすべて表示される\n",
    "pd.merge(df_L, df_R, how='left')"
   ]
  },
  {
   "cell_type": "code",
   "execution_count": 287,
   "metadata": {
    "collapsed": false,
    "deletable": true,
    "editable": true
   },
   "outputs": [
    {
     "data": {
      "text/html": [
       "<div>\n",
       "<style>\n",
       "    .dataframe thead tr:only-child th {\n",
       "        text-align: right;\n",
       "    }\n",
       "\n",
       "    .dataframe thead th {\n",
       "        text-align: left;\n",
       "    }\n",
       "\n",
       "    .dataframe tbody tr th {\n",
       "        vertical-align: top;\n",
       "    }\n",
       "</style>\n",
       "<table border=\"1\" class=\"dataframe\">\n",
       "  <thead>\n",
       "    <tr style=\"text-align: right;\">\n",
       "      <th></th>\n",
       "      <th>0</th>\n",
       "      <th>1</th>\n",
       "      <th>2</th>\n",
       "      <th>3</th>\n",
       "      <th>4</th>\n",
       "      <th>5</th>\n",
       "    </tr>\n",
       "  </thead>\n",
       "  <tbody>\n",
       "    <tr>\n",
       "      <th>A</th>\n",
       "      <td>A0</td>\n",
       "      <td>A1</td>\n",
       "      <td>A2</td>\n",
       "      <td>A3</td>\n",
       "      <td>A4</td>\n",
       "      <td>A5</td>\n",
       "    </tr>\n",
       "    <tr>\n",
       "      <th>B</th>\n",
       "      <td>B0</td>\n",
       "      <td>B1</td>\n",
       "      <td>B2</td>\n",
       "      <td>B3</td>\n",
       "      <td>B4</td>\n",
       "      <td>B5</td>\n",
       "    </tr>\n",
       "    <tr>\n",
       "      <th>C</th>\n",
       "      <td>C0</td>\n",
       "      <td>C1</td>\n",
       "      <td>C2</td>\n",
       "      <td>C3</td>\n",
       "      <td>C4</td>\n",
       "      <td>C5</td>\n",
       "    </tr>\n",
       "    <tr>\n",
       "      <th>D</th>\n",
       "      <td>D0</td>\n",
       "      <td>D1</td>\n",
       "      <td>D2</td>\n",
       "      <td>D3</td>\n",
       "      <td>D4</td>\n",
       "      <td>D5</td>\n",
       "    </tr>\n",
       "  </tbody>\n",
       "</table>\n",
       "</div>"
      ],
      "text/plain": [
       "    0   1   2   3   4   5\n",
       "A  A0  A1  A2  A3  A4  A5\n",
       "B  B0  B1  B2  B3  B4  B5\n",
       "C  C0  C1  C2  C3  C4  C5\n",
       "D  D0  D1  D2  D3  D4  D5"
      ]
     },
     "execution_count": 287,
     "metadata": {},
     "output_type": "execute_result"
    }
   ],
   "source": [
    "# df_Aとdf_Cをindexをkeyにして結合。pd.concat([df_A, df_C], axis=1)と同じ結果になる。\n",
    "pd.merge(df_A, df_C, left_index=True, right_index=True)"
   ]
  },
  {
   "cell_type": "code",
   "execution_count": 288,
   "metadata": {
    "collapsed": false,
    "deletable": true,
    "editable": true
   },
   "outputs": [
    {
     "data": {
      "text/html": [
       "<div>\n",
       "<style>\n",
       "    .dataframe thead tr:only-child th {\n",
       "        text-align: right;\n",
       "    }\n",
       "\n",
       "    .dataframe thead th {\n",
       "        text-align: left;\n",
       "    }\n",
       "\n",
       "    .dataframe tbody tr th {\n",
       "        vertical-align: top;\n",
       "    }\n",
       "</style>\n",
       "<table border=\"1\" class=\"dataframe\">\n",
       "  <thead>\n",
       "    <tr style=\"text-align: right;\">\n",
       "      <th></th>\n",
       "      <th>gene_id</th>\n",
       "      <th>PFAM_id</th>\n",
       "      <th>definition</th>\n",
       "    </tr>\n",
       "  </thead>\n",
       "  <tbody>\n",
       "    <tr>\n",
       "      <th>0</th>\n",
       "      <td>gene_1</td>\n",
       "      <td>PF00009</td>\n",
       "      <td>Elongation factor Tu GTP binding domain</td>\n",
       "    </tr>\n",
       "    <tr>\n",
       "      <th>1</th>\n",
       "      <td>gene_2</td>\n",
       "      <td>PF01103</td>\n",
       "      <td>Surface antigen</td>\n",
       "    </tr>\n",
       "    <tr>\n",
       "      <th>2</th>\n",
       "      <td>gene_3</td>\n",
       "      <td>PF01926</td>\n",
       "      <td>50S ribosome-binding GTPase</td>\n",
       "    </tr>\n",
       "    <tr>\n",
       "      <th>3</th>\n",
       "      <td>gene_4</td>\n",
       "      <td>PF01926</td>\n",
       "      <td>50S ribosome-binding GTPase</td>\n",
       "    </tr>\n",
       "    <tr>\n",
       "      <th>4</th>\n",
       "      <td>gene_5</td>\n",
       "      <td>PF13639</td>\n",
       "      <td>Ring finger domain</td>\n",
       "    </tr>\n",
       "  </tbody>\n",
       "</table>\n",
       "</div>"
      ],
      "text/plain": [
       "  gene_id  PFAM_id                               definition\n",
       "0  gene_1  PF00009  Elongation factor Tu GTP binding domain\n",
       "1  gene_2  PF01103                          Surface antigen\n",
       "2  gene_3  PF01926              50S ribosome-binding GTPase\n",
       "3  gene_4  PF01926              50S ribosome-binding GTPase\n",
       "4  gene_5  PF13639                       Ring finger domain"
      ]
     },
     "execution_count": 288,
     "metadata": {},
     "output_type": "execute_result"
    }
   ],
   "source": [
    "# pd.merge以外にも次のような使い方でも結合可能\n",
    "df_L.merge(df_R)"
   ]
  },
  {
   "cell_type": "markdown",
   "metadata": {
    "deletable": true,
    "editable": true
   },
   "source": [
    "# その他の機能"
   ]
  },
  {
   "cell_type": "markdown",
   "metadata": {
    "deletable": true,
    "editable": true
   },
   "source": [
    "## multiindex"
   ]
  },
  {
   "cell_type": "code",
   "execution_count": 356,
   "metadata": {
    "collapsed": false,
    "deletable": true,
    "editable": true
   },
   "outputs": [],
   "source": [
    "df2_multiindex = df2.set_index([df2.group_name, df2.name])"
   ]
  },
  {
   "cell_type": "code",
   "execution_count": 357,
   "metadata": {
    "collapsed": false,
    "deletable": true,
    "editable": true
   },
   "outputs": [
    {
     "data": {
      "text/html": [
       "<div>\n",
       "<style>\n",
       "    .dataframe thead tr:only-child th {\n",
       "        text-align: right;\n",
       "    }\n",
       "\n",
       "    .dataframe thead th {\n",
       "        text-align: left;\n",
       "    }\n",
       "\n",
       "    .dataframe tbody tr th {\n",
       "        vertical-align: top;\n",
       "    }\n",
       "</style>\n",
       "<table border=\"1\" class=\"dataframe\">\n",
       "  <thead>\n",
       "    <tr style=\"text-align: right;\">\n",
       "      <th></th>\n",
       "      <th></th>\n",
       "      <th>DOB</th>\n",
       "      <th>age</th>\n",
       "      <th>alive</th>\n",
       "      <th>family_name</th>\n",
       "      <th>group_name</th>\n",
       "      <th>name</th>\n",
       "    </tr>\n",
       "    <tr>\n",
       "      <th>group_name</th>\n",
       "      <th>name</th>\n",
       "      <th></th>\n",
       "      <th></th>\n",
       "      <th></th>\n",
       "      <th></th>\n",
       "      <th></th>\n",
       "      <th></th>\n",
       "    </tr>\n",
       "  </thead>\n",
       "  <tbody>\n",
       "    <tr>\n",
       "      <th rowspan=\"4\" valign=\"top\">Beatles</th>\n",
       "      <th>John</th>\n",
       "      <td>1940/10/09</td>\n",
       "      <td>NaN</td>\n",
       "      <td>False</td>\n",
       "      <td>Lennon</td>\n",
       "      <td>Beatles</td>\n",
       "      <td>John</td>\n",
       "    </tr>\n",
       "    <tr>\n",
       "      <th>Paul</th>\n",
       "      <td>1942/026/18</td>\n",
       "      <td>76.0</td>\n",
       "      <td>True</td>\n",
       "      <td>McCartney</td>\n",
       "      <td>Beatles</td>\n",
       "      <td>Paul</td>\n",
       "    </tr>\n",
       "    <tr>\n",
       "      <th>George</th>\n",
       "      <td>1943/02/25</td>\n",
       "      <td>NaN</td>\n",
       "      <td>False</td>\n",
       "      <td>Harrison</td>\n",
       "      <td>Beatles</td>\n",
       "      <td>George</td>\n",
       "    </tr>\n",
       "    <tr>\n",
       "      <th>Ringo</th>\n",
       "      <td>1940/07/07</td>\n",
       "      <td>78.0</td>\n",
       "      <td>True</td>\n",
       "      <td>Starr</td>\n",
       "      <td>Beatles</td>\n",
       "      <td>Ringo</td>\n",
       "    </tr>\n",
       "    <tr>\n",
       "      <th rowspan=\"2\" valign=\"top\">Simon_and_Garfunkel</th>\n",
       "      <th>Paul</th>\n",
       "      <td>1941/10/13</td>\n",
       "      <td>77.0</td>\n",
       "      <td>True</td>\n",
       "      <td>Simon</td>\n",
       "      <td>Simon_and_Garfunkel</td>\n",
       "      <td>Paul</td>\n",
       "    </tr>\n",
       "    <tr>\n",
       "      <th>Art</th>\n",
       "      <td>1941/11/05</td>\n",
       "      <td>77.0</td>\n",
       "      <td>True</td>\n",
       "      <td>Garfunkel</td>\n",
       "      <td>Simon_and_Garfunkel</td>\n",
       "      <td>Art</td>\n",
       "    </tr>\n",
       "  </tbody>\n",
       "</table>\n",
       "</div>"
      ],
      "text/plain": [
       "                                    DOB   age  alive family_name  \\\n",
       "group_name          name                                           \n",
       "Beatles             John     1940/10/09   NaN  False      Lennon   \n",
       "                    Paul    1942/026/18  76.0   True   McCartney   \n",
       "                    George   1943/02/25   NaN  False    Harrison   \n",
       "                    Ringo    1940/07/07  78.0   True       Starr   \n",
       "Simon_and_Garfunkel Paul     1941/10/13  77.0   True       Simon   \n",
       "                    Art      1941/11/05  77.0   True   Garfunkel   \n",
       "\n",
       "                                     group_name    name  \n",
       "group_name          name                                 \n",
       "Beatles             John                Beatles    John  \n",
       "                    Paul                Beatles    Paul  \n",
       "                    George              Beatles  George  \n",
       "                    Ringo               Beatles   Ringo  \n",
       "Simon_and_Garfunkel Paul    Simon_and_Garfunkel    Paul  \n",
       "                    Art     Simon_and_Garfunkel     Art  "
      ]
     },
     "execution_count": 357,
     "metadata": {},
     "output_type": "execute_result"
    }
   ],
   "source": [
    "df2_multiindex"
   ]
  },
  {
   "cell_type": "code",
   "execution_count": 368,
   "metadata": {
    "collapsed": false,
    "deletable": true,
    "editable": true
   },
   "outputs": [
    {
     "data": {
      "text/html": [
       "<div>\n",
       "<style>\n",
       "    .dataframe thead tr:only-child th {\n",
       "        text-align: right;\n",
       "    }\n",
       "\n",
       "    .dataframe thead th {\n",
       "        text-align: left;\n",
       "    }\n",
       "\n",
       "    .dataframe tbody tr th {\n",
       "        vertical-align: top;\n",
       "    }\n",
       "</style>\n",
       "<table border=\"1\" class=\"dataframe\">\n",
       "  <thead>\n",
       "    <tr style=\"text-align: right;\">\n",
       "      <th></th>\n",
       "      <th>DOB</th>\n",
       "      <th>age</th>\n",
       "      <th>alive</th>\n",
       "      <th>family_name</th>\n",
       "      <th>group_name</th>\n",
       "      <th>name</th>\n",
       "    </tr>\n",
       "    <tr>\n",
       "      <th>name</th>\n",
       "      <th></th>\n",
       "      <th></th>\n",
       "      <th></th>\n",
       "      <th></th>\n",
       "      <th></th>\n",
       "      <th></th>\n",
       "    </tr>\n",
       "  </thead>\n",
       "  <tbody>\n",
       "    <tr>\n",
       "      <th>John</th>\n",
       "      <td>1940/10/09</td>\n",
       "      <td>NaN</td>\n",
       "      <td>False</td>\n",
       "      <td>Lennon</td>\n",
       "      <td>Beatles</td>\n",
       "      <td>John</td>\n",
       "    </tr>\n",
       "    <tr>\n",
       "      <th>Paul</th>\n",
       "      <td>1942/026/18</td>\n",
       "      <td>76.0</td>\n",
       "      <td>True</td>\n",
       "      <td>McCartney</td>\n",
       "      <td>Beatles</td>\n",
       "      <td>Paul</td>\n",
       "    </tr>\n",
       "    <tr>\n",
       "      <th>George</th>\n",
       "      <td>1943/02/25</td>\n",
       "      <td>NaN</td>\n",
       "      <td>False</td>\n",
       "      <td>Harrison</td>\n",
       "      <td>Beatles</td>\n",
       "      <td>George</td>\n",
       "    </tr>\n",
       "    <tr>\n",
       "      <th>Ringo</th>\n",
       "      <td>1940/07/07</td>\n",
       "      <td>78.0</td>\n",
       "      <td>True</td>\n",
       "      <td>Starr</td>\n",
       "      <td>Beatles</td>\n",
       "      <td>Ringo</td>\n",
       "    </tr>\n",
       "  </tbody>\n",
       "</table>\n",
       "</div>"
      ],
      "text/plain": [
       "                DOB   age  alive family_name group_name    name\n",
       "name                                                           \n",
       "John     1940/10/09   NaN  False      Lennon    Beatles    John\n",
       "Paul    1942/026/18  76.0   True   McCartney    Beatles    Paul\n",
       "George   1943/02/25   NaN  False    Harrison    Beatles  George\n",
       "Ringo    1940/07/07  78.0   True       Starr    Beatles   Ringo"
      ]
     },
     "execution_count": 368,
     "metadata": {},
     "output_type": "execute_result"
    }
   ],
   "source": [
    "df2_multiindex.loc[\"Beatles\"]"
   ]
  },
  {
   "cell_type": "code",
   "execution_count": 370,
   "metadata": {
    "collapsed": false,
    "deletable": true,
    "editable": true
   },
   "outputs": [
    {
     "data": {
      "text/plain": [
       "DOB            1942/026/18\n",
       "age                     76\n",
       "alive                 True\n",
       "family_name      McCartney\n",
       "group_name         Beatles\n",
       "name                  Paul\n",
       "Name: (Beatles, Paul), dtype: object"
      ]
     },
     "execution_count": 370,
     "metadata": {},
     "output_type": "execute_result"
    }
   ],
   "source": [
    "df2_multiindex.loc[(\"Beatles\", \"Paul\")]  # 複数インデックスの指定には タプル　を使用する"
   ]
  },
  {
   "cell_type": "markdown",
   "metadata": {
    "deletable": true,
    "editable": true
   },
   "source": [
    "## groupby"
   ]
  },
  {
   "cell_type": "code",
   "execution_count": 371,
   "metadata": {
    "collapsed": false,
    "deletable": true,
    "editable": true
   },
   "outputs": [
    {
     "data": {
      "text/html": [
       "<div>\n",
       "<style>\n",
       "    .dataframe thead tr:only-child th {\n",
       "        text-align: right;\n",
       "    }\n",
       "\n",
       "    .dataframe thead th {\n",
       "        text-align: left;\n",
       "    }\n",
       "\n",
       "    .dataframe tbody tr th {\n",
       "        vertical-align: top;\n",
       "    }\n",
       "</style>\n",
       "<table border=\"1\" class=\"dataframe\">\n",
       "  <thead>\n",
       "    <tr style=\"text-align: right;\">\n",
       "      <th></th>\n",
       "      <th>DOB</th>\n",
       "      <th>age</th>\n",
       "      <th>alive</th>\n",
       "      <th>family_name</th>\n",
       "      <th>name</th>\n",
       "    </tr>\n",
       "    <tr>\n",
       "      <th>group_name</th>\n",
       "      <th></th>\n",
       "      <th></th>\n",
       "      <th></th>\n",
       "      <th></th>\n",
       "      <th></th>\n",
       "    </tr>\n",
       "  </thead>\n",
       "  <tbody>\n",
       "    <tr>\n",
       "      <th>Beatles</th>\n",
       "      <td>4</td>\n",
       "      <td>2</td>\n",
       "      <td>4</td>\n",
       "      <td>4</td>\n",
       "      <td>4</td>\n",
       "    </tr>\n",
       "    <tr>\n",
       "      <th>Simon_and_Garfunkel</th>\n",
       "      <td>2</td>\n",
       "      <td>2</td>\n",
       "      <td>2</td>\n",
       "      <td>2</td>\n",
       "      <td>2</td>\n",
       "    </tr>\n",
       "  </tbody>\n",
       "</table>\n",
       "</div>"
      ],
      "text/plain": [
       "                     DOB  age  alive  family_name  name\n",
       "group_name                                             \n",
       "Beatles                4    2      4            4     4\n",
       "Simon_and_Garfunkel    2    2      2            2     2"
      ]
     },
     "execution_count": 371,
     "metadata": {},
     "output_type": "execute_result"
    }
   ],
   "source": [
    "df2.groupby(\"group_name\").count()"
   ]
  },
  {
   "cell_type": "markdown",
   "metadata": {
    "deletable": true,
    "editable": true
   },
   "source": [
    "## pivot"
   ]
  },
  {
   "cell_type": "code",
   "execution_count": 380,
   "metadata": {
    "collapsed": false,
    "deletable": true,
    "editable": true
   },
   "outputs": [
    {
     "data": {
      "text/html": [
       "<div>\n",
       "<style>\n",
       "    .dataframe thead tr:only-child th {\n",
       "        text-align: right;\n",
       "    }\n",
       "\n",
       "    .dataframe thead th {\n",
       "        text-align: left;\n",
       "    }\n",
       "\n",
       "    .dataframe tbody tr th {\n",
       "        vertical-align: top;\n",
       "    }\n",
       "</style>\n",
       "<table border=\"1\" class=\"dataframe\">\n",
       "  <thead>\n",
       "    <tr style=\"text-align: right;\">\n",
       "      <th></th>\n",
       "      <th>age</th>\n",
       "    </tr>\n",
       "    <tr>\n",
       "      <th>group_name</th>\n",
       "      <th></th>\n",
       "    </tr>\n",
       "  </thead>\n",
       "  <tbody>\n",
       "    <tr>\n",
       "      <th>Beatles</th>\n",
       "      <td>77.0</td>\n",
       "    </tr>\n",
       "    <tr>\n",
       "      <th>Simon_and_Garfunkel</th>\n",
       "      <td>77.0</td>\n",
       "    </tr>\n",
       "  </tbody>\n",
       "</table>\n",
       "</div>"
      ],
      "text/plain": [
       "                      age\n",
       "group_name               \n",
       "Beatles              77.0\n",
       "Simon_and_Garfunkel  77.0"
      ]
     },
     "execution_count": 380,
     "metadata": {},
     "output_type": "execute_result"
    }
   ],
   "source": [
    "df2.pivot_table(index=\"group_name\", values=\"age\", aggfunc=\"mean\")  # グループごとの平均年齢を計算"
   ]
  },
  {
   "cell_type": "code",
   "execution_count": 398,
   "metadata": {
    "collapsed": false,
    "deletable": true,
    "editable": true
   },
   "outputs": [
    {
     "data": {
      "text/html": [
       "<div>\n",
       "<style>\n",
       "    .dataframe thead tr:only-child th {\n",
       "        text-align: right;\n",
       "    }\n",
       "\n",
       "    .dataframe thead th {\n",
       "        text-align: left;\n",
       "    }\n",
       "\n",
       "    .dataframe tbody tr th {\n",
       "        vertical-align: top;\n",
       "    }\n",
       "</style>\n",
       "<table border=\"1\" class=\"dataframe\">\n",
       "  <thead>\n",
       "    <tr style=\"text-align: right;\">\n",
       "      <th>name</th>\n",
       "      <th>Art</th>\n",
       "      <th>George</th>\n",
       "      <th>John</th>\n",
       "      <th>Paul</th>\n",
       "      <th>Ringo</th>\n",
       "    </tr>\n",
       "    <tr>\n",
       "      <th>group_name</th>\n",
       "      <th></th>\n",
       "      <th></th>\n",
       "      <th></th>\n",
       "      <th></th>\n",
       "      <th></th>\n",
       "    </tr>\n",
       "  </thead>\n",
       "  <tbody>\n",
       "    <tr>\n",
       "      <th>Beatles</th>\n",
       "      <td>None</td>\n",
       "      <td>Harrison</td>\n",
       "      <td>Lennon</td>\n",
       "      <td>McCartney</td>\n",
       "      <td>Starr</td>\n",
       "    </tr>\n",
       "    <tr>\n",
       "      <th>Simon_and_Garfunkel</th>\n",
       "      <td>Garfunkel</td>\n",
       "      <td>None</td>\n",
       "      <td>None</td>\n",
       "      <td>Simon</td>\n",
       "      <td>None</td>\n",
       "    </tr>\n",
       "  </tbody>\n",
       "</table>\n",
       "</div>"
      ],
      "text/plain": [
       "name                       Art    George    John       Paul  Ringo\n",
       "group_name                                                        \n",
       "Beatles                   None  Harrison  Lennon  McCartney  Starr\n",
       "Simon_and_Garfunkel  Garfunkel      None    None      Simon   None"
      ]
     },
     "execution_count": 398,
     "metadata": {},
     "output_type": "execute_result"
    }
   ],
   "source": [
    "df2.pivot_table(index=\"group_name\", columns=\"name\", values=\"family_name\", aggfunc=\"first\")  # グループごとの平均年齢を計算"
   ]
  },
  {
   "cell_type": "markdown",
   "metadata": {
    "deletable": true,
    "editable": true
   },
   "source": [
    "## カテゴリカルデータと時系列データ"
   ]
  },
  {
   "cell_type": "markdown",
   "metadata": {
    "deletable": true,
    "editable": true
   },
   "source": [
    "pandasではこれらのデータも扱うことができますが、詳細は割愛します。"
   ]
  },
  {
   "cell_type": "markdown",
   "metadata": {
    "collapsed": true,
    "deletable": true,
    "editable": true
   },
   "source": [
    "# データフレームの書き出し"
   ]
  },
  {
   "cell_type": "code",
   "execution_count": 404,
   "metadata": {
    "collapsed": true,
    "deletable": true,
    "editable": true
   },
   "outputs": [],
   "source": [
    "df1.index.name = \"INDEX\"  # indexに名前をつけておいた。(無くても良いが、ファイルに書き出した時に空欄になるため)"
   ]
  },
  {
   "cell_type": "code",
   "execution_count": 405,
   "metadata": {
    "collapsed": false,
    "deletable": true,
    "editable": true
   },
   "outputs": [],
   "source": [
    "df1.to_csv(\"output/dataframe1.tsv\", sep=\"\\t\", header=True, index=True)"
   ]
  },
  {
   "cell_type": "code",
   "execution_count": null,
   "metadata": {
    "collapsed": true,
    "deletable": true,
    "editable": true
   },
   "outputs": [],
   "source": []
  },
  {
   "cell_type": "code",
   "execution_count": null,
   "metadata": {
    "collapsed": true,
    "deletable": true,
    "editable": true
   },
   "outputs": [],
   "source": []
  },
  {
   "cell_type": "code",
   "execution_count": null,
   "metadata": {
    "collapsed": true,
    "deletable": true,
    "editable": true
   },
   "outputs": [],
   "source": []
  }
 ],
 "metadata": {
  "kernelspec": {
   "display_name": "Python 3",
   "language": "python",
   "name": "python3"
  },
  "language_info": {
   "codemirror_mode": {
    "name": "ipython",
    "version": 3
   },
   "file_extension": ".py",
   "mimetype": "text/x-python",
   "name": "python",
   "nbconvert_exporter": "python",
   "pygments_lexer": "ipython3",
   "version": "3.6.0"
  },
  "toc": {
   "colors": {
    "hover_highlight": "#DAA520",
    "running_highlight": "#FF0000",
    "selected_highlight": "#FFD700"
   },
   "moveMenuLeft": true,
   "nav_menu": {
    "height": "512px",
    "width": "252px"
   },
   "navigate_menu": true,
   "number_sections": true,
   "sideBar": true,
   "threshold": 4,
   "toc_cell": false,
   "toc_section_display": "block",
   "toc_window_display": false
  }
 },
 "nbformat": 4,
 "nbformat_minor": 2
}
