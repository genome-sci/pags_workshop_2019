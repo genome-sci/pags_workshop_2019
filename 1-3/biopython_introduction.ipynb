{
 "cells": [
  {
   "cell_type": "markdown",
   "metadata": {},
   "source": [
    "# クラスの利用"
   ]
  },
  {
   "cell_type": "markdown",
   "metadata": {},
   "source": [
    "## クラスとオブジェクト"
   ]
  },
  {
   "cell_type": "markdown",
   "metadata": {},
   "source": [
    "Pythonプログラムの中で扱われる文字列や数値、あるいはリストや辞書といったデータを「オブジェクト」と呼びます。また、データに対して何らかの処理を行う機能を持った関数やオブジェクトの設計図である「クラス」自体もオブジェクトの１つとして扱われます。したがって、Pythonプログラムの中で扱われるさまざまな「モノ」に対しての総称が「オブジェクト」といえます。具体的には、整数データはintオブジェクト、文字列データはstrオブジェクトと呼ばれ、これはtype関数を使用することで確認ができます。"
   ]
  },
  {
   "cell_type": "code",
   "execution_count": 36,
   "metadata": {
    "scrolled": true
   },
   "outputs": [
    {
     "data": {
      "text/plain": [
       "int"
      ]
     },
     "execution_count": 36,
     "metadata": {},
     "output_type": "execute_result"
    }
   ],
   "source": [
    "type(10)"
   ]
  },
  {
   "cell_type": "code",
   "execution_count": 37,
   "metadata": {
    "scrolled": true
   },
   "outputs": [
    {
     "data": {
      "text/plain": [
       "str"
      ]
     },
     "execution_count": 37,
     "metadata": {},
     "output_type": "execute_result"
    }
   ],
   "source": [
    "a = \"hello\"\n",
    "type(a)"
   ]
  },
  {
   "cell_type": "markdown",
   "metadata": {},
   "source": [
    "また、各オブジェクトがどのような機能（メソッド）を持っているかはdir関数を使用することで確認できます。\n"
   ]
  },
  {
   "cell_type": "code",
   "execution_count": 38,
   "metadata": {},
   "outputs": [
    {
     "data": {
      "text/plain": [
       "['__add__',\n",
       " '__class__',\n",
       " '__contains__',\n",
       " '__delattr__',\n",
       " '__dir__',\n",
       " '__doc__',\n",
       " '__eq__',\n",
       " '__format__',\n",
       " '__ge__',\n",
       " '__getattribute__',\n",
       " '__getitem__',\n",
       " '__getnewargs__',\n",
       " '__gt__',\n",
       " '__hash__',\n",
       " '__init__',\n",
       " '__init_subclass__',\n",
       " '__iter__',\n",
       " '__le__',\n",
       " '__len__',\n",
       " '__lt__',\n",
       " '__mod__',\n",
       " '__mul__',\n",
       " '__ne__',\n",
       " '__new__',\n",
       " '__reduce__',\n",
       " '__reduce_ex__',\n",
       " '__repr__',\n",
       " '__rmod__',\n",
       " '__rmul__',\n",
       " '__setattr__',\n",
       " '__sizeof__',\n",
       " '__str__',\n",
       " '__subclasshook__',\n",
       " 'capitalize',\n",
       " 'casefold',\n",
       " 'center',\n",
       " 'count',\n",
       " 'encode',\n",
       " 'endswith',\n",
       " 'expandtabs',\n",
       " 'find',\n",
       " 'format',\n",
       " 'format_map',\n",
       " 'index',\n",
       " 'isalnum',\n",
       " 'isalpha',\n",
       " 'isdecimal',\n",
       " 'isdigit',\n",
       " 'isidentifier',\n",
       " 'islower',\n",
       " 'isnumeric',\n",
       " 'isprintable',\n",
       " 'isspace',\n",
       " 'istitle',\n",
       " 'isupper',\n",
       " 'join',\n",
       " 'ljust',\n",
       " 'lower',\n",
       " 'lstrip',\n",
       " 'maketrans',\n",
       " 'partition',\n",
       " 'replace',\n",
       " 'rfind',\n",
       " 'rindex',\n",
       " 'rjust',\n",
       " 'rpartition',\n",
       " 'rsplit',\n",
       " 'rstrip',\n",
       " 'split',\n",
       " 'splitlines',\n",
       " 'startswith',\n",
       " 'strip',\n",
       " 'swapcase',\n",
       " 'title',\n",
       " 'translate',\n",
       " 'upper',\n",
       " 'zfill']"
      ]
     },
     "execution_count": 38,
     "metadata": {},
     "output_type": "execute_result"
    }
   ],
   "source": [
    "dir(a)"
   ]
  },
  {
   "cell_type": "markdown",
   "metadata": {},
   "source": [
    "strオブジェクトにはupperやsplitといった文字列に対する操作を行うためのメソッドが含まれます。"
   ]
  },
  {
   "cell_type": "markdown",
   "metadata": {},
   "source": [
    "より複雑な機能やデータをもったオブジェクトを扱うために、自分でオブジェクトの設計図である「クラス」を定義することができます。ここではFASTA形式で記述された配列データを格納するためのクラスを設計してみます。"
   ]
  },
  {
   "cell_type": "markdown",
   "metadata": {},
   "source": [
    "下記は１件のFASTA形式の配列データの例です。\n",
    "```\n",
    ">gene01 nucleotide sequence of tRNA-Ser\n",
    "TGGAGTGTTGTCCGAGCGGCTGAAGGAGCATGATTGGAAATCATGTATACGGGTAAATACCTGTATCGAGGGTTCAAATCCCTCACACTCCGT\n",
    "```\n",
    "`>`で始まる行はタイトル行で、一般に最初の空白までが配列IDを示し、以後の文字列は遺伝子の機能名や任意の説明書きが含まれます。2行目が配列データを示します。この例では改行が含まれていませんが、60〜100文字単位で改行が含まれることもあります。"
   ]
  },
  {
   "cell_type": "markdown",
   "metadata": {},
   "source": [
    "これらの情報を格納するためには、  \n",
    "・配列ID (id)  \n",
    "・配列に対しての説明 (description)  \n",
    "・配列自体のデータ (seq）  \n",
    "といった情報を含んだクラスを設計することになります。また、この配列データに対しての操作としてGC含量（塩基配列中のGおよびCの割合）を得るための機能を例として定義してみます。\n",
    "以下がその例です。"
   ]
  },
  {
   "cell_type": "code",
   "execution_count": 87,
   "metadata": {},
   "outputs": [],
   "source": [
    "class Fasta:\n",
    "    def __init__(self, id_, description, seq):\n",
    "        self.id = id_\n",
    "        self.description = description\n",
    "        self.seq = seq\n",
    "            \n",
    "    def get_gc_content(self):\n",
    "        g_count = self.seq.count(\"G\")\n",
    "        c_count = self.seq.count(\"C\")\n",
    "        gc_content = ( g_count + c_count ) / len(self.seq)\n",
    "        return gc_content"
   ]
  },
  {
   "cell_type": "code",
   "execution_count": null,
   "metadata": {},
   "outputs": [],
   "source": []
  },
  {
   "cell_type": "markdown",
   "metadata": {},
   "source": [
    "ここでクラス内に定義した関数は、単独で用いる関数と区別してメソッドと呼ばれます。最初に定義したメソッド`__init__`は、オブジェクトの設計図であるクラスに実際のデータを格納してオブジェクトを生成する際に実行されるコンストラクタと呼ばれる特殊メソッドです。  \n",
    "メソッドの最初の引数selfは自分自身のことを指すもので、pythonでは慣例的に\"self\"が使われます。残りの３つはオブジェクト生成時に与える引数で、与えられた情報はオブジェクトの内部的な変数であるself.id、self.description、self.seqにそれぞれ格納されます。なお、配列IDを示す引数は、組み込み関数であるidと区別するために末尾に\"_\"を付けていますが、\"_\"を付けなくても動作します。  \n",
    "それでは、実際にデータを与えて配列データを格納したオブジェクトを作成してみます。引数\"self\"は内部的に使用されるだけなので、オブジェクト生成時には残りの3つの引数を与えることになります。"
   ]
  },
  {
   "cell_type": "code",
   "execution_count": 44,
   "metadata": {},
   "outputs": [],
   "source": [
    "fasta = Fasta(\"gene01\", \"nucleotide sequence of tRNA-Ser\", \"TGGAGTGTTGTCCGAGCGGCTGAAGGAGCATGATTGGAAATCATGTATACGGGTAAATACCTGTATCGAGGGTTCAAATCCCTCACACTCCGT\")"
   ]
  },
  {
   "cell_type": "markdown",
   "metadata": {},
   "source": [
    "これで先ほどの１件のFASTA形式のデータを持ったオブジェクトを生成し、fastaという変数に格納できたことになります。設計図であるクラスに対し、このように実際のデータが格納されてできたオブジェクトの実体をインスタンスと呼びます。慣例的にpythonではクラスの名称には大文字で始まる名前を用い、インスタンスに対しては小文字を使用することが推奨されています。"
   ]
  },
  {
   "cell_type": "markdown",
   "metadata": {},
   "source": [
    "内部的な変数（インスタンス変数）にアクセスするには次のようにします。"
   ]
  },
  {
   "cell_type": "code",
   "execution_count": 48,
   "metadata": {},
   "outputs": [
    {
     "data": {
      "text/plain": [
       "'nucleotide sequence of tRNA-Ser'"
      ]
     },
     "execution_count": 48,
     "metadata": {},
     "output_type": "execute_result"
    }
   ],
   "source": [
    "fasta.description"
   ]
  },
  {
   "cell_type": "markdown",
   "metadata": {},
   "source": [
    "クラスの定義時には\"self\"という変数を使用しましたがこれは定義時に用いた仮のものなので、実際のデータにアクセスするにはインスタンスを示す変数の後ろにピリオドをつけて指定をします。"
   ]
  },
  {
   "cell_type": "markdown",
   "metadata": {},
   "source": [
    "生成されたfastaがどのようなクラスに属するか確認をしてみます。"
   ]
  },
  {
   "cell_type": "code",
   "execution_count": 45,
   "metadata": {},
   "outputs": [
    {
     "data": {
      "text/plain": [
       "__main__.Fasta"
      ]
     },
     "execution_count": 45,
     "metadata": {},
     "output_type": "execute_result"
    }
   ],
   "source": [
    "type(fasta)"
   ]
  },
  {
   "cell_type": "markdown",
   "metadata": {},
   "source": [
    "このように独自に定義されたクラスFastaに属するオブジェクトであることがわかります。"
   ]
  },
  {
   "cell_type": "markdown",
   "metadata": {},
   "source": [
    "最後にこの配列のGC含量を求めてみます。インスタンス変数にアクセスしたときと同様にピリオドに続けてメソッド名を指定します。get_gc_contentメソッドの引数は\"self\"だけですが、これは自動的に自分自身を指す変数として扱われるので、特に引数を与える必要はありません。"
   ]
  },
  {
   "cell_type": "code",
   "execution_count": 52,
   "metadata": {},
   "outputs": [
    {
     "data": {
      "text/plain": [
       "0.4838709677419355"
      ]
     },
     "execution_count": 52,
     "metadata": {},
     "output_type": "execute_result"
    }
   ],
   "source": [
    "fasta.get_gc_content()"
   ]
  },
  {
   "cell_type": "markdown",
   "metadata": {},
   "source": [
    "## 実践的なクラスの利用"
   ]
  },
  {
   "cell_type": "markdown",
   "metadata": {},
   "source": [
    "先に定義した独自クラスFastaを利用した実践的なプログラム例として、複数のFASTA形式のデータを含んだファイル（multi FASTA）からデータを１件ずつ取り出しそれぞれの配列の配列IDや長さ、GC含量等を出力するプログラムを作成してみます。"
   ]
  },
  {
   "cell_type": "markdown",
   "metadata": {},
   "source": [
    "はじめにファイルを読み込んで１件ずつデータを取り出す関数を作成します。タイトル行は必ず`>`で始まるので、`>`を先頭に含んだ行が現れた時点で１件ずつデータを取り出すようにします。ただし、ファイルの先頭を読み込んだ時点では配列データが得られていませんので処理を分ける必要があります。また、ファイルを最後まで読み込んだ時点で、最後の配列データを取り出す処理を行います。\n"
   ]
  },
  {
   "cell_type": "code",
   "execution_count": 102,
   "metadata": {},
   "outputs": [],
   "source": [
    "def read_fasta(file_name):\n",
    "    with open(file_name) as fh:\n",
    "        line = next(fh)  # next関数を使い1行目（タイトル行）だけ読み込む。\n",
    "        seq_id, description = line.strip(\">\\n\").split(\" \", 1)  # タイトル行を分割し始めの空白までを配列ID、空白以降をdescriptionとする。\n",
    "        seq = \"\"\n",
    "        for line in fh:  # 2行目以降の読み込み\n",
    "            if line.startswith(\">\"):  # \">\"で始まる行が現れたらその時点までの配列データを返す\n",
    "                yield Fasta(seq_id, description, seq)\n",
    "                seq_id, description = line.strip().strip(\">\").split(\" \", 1)  # 新たなタイトル情報を格納する\n",
    "                seq = \"\"\n",
    "            else:\n",
    "                seq += line.strip(\"\\n\").upper()  # \">\"で始まらない場合には、配列データを読み込んで追加していく。upperを加えたのは大文字に変換するため。\n",
    "        yield Fasta(seq_id, description, seq)  # ループ終了時に最後の配列データを返す\n",
    "                "
   ]
  },
  {
   "cell_type": "markdown",
   "metadata": {},
   "source": [
    "ここで定義した関数read_fastaは通常の関数とは異なりジェネレーター関数と呼ばれるものです。通常の関数が呼ばれるとreturn文が現れた時点で処理を終了して値を返すのに対し、ジェネレーター関数ではyield文を用いて値を返すという違いがあります。値を返した時点でジェネレーターは一旦処理を停止してその時点での情報を内部に保ち、再度呼び出しがあると再びyield文が現れる時点まで処理を行って新たな値を返します。"
   ]
  },
  {
   "cell_type": "markdown",
   "metadata": {},
   "source": [
    "ジェネレータはリストと同じようにforループと組み合わせることで１件ずつデータを取り出すことが可能です。以下が実際の使用例で、配列１件ずつを取り出して配列ID、配列の説明、長さ、GC含量をタブ区切りの文字列として出力します。fを先頭につけた文字列は\"f文字列\"と呼ばれるPython3.6から導入された文字列を整形するのに便利な形式で、{ }で括った中に変数名を記載することで変数の中身を文字列中に埋め込むことができます。また、変数名の後に\":\"で区切って各種書式を指定することも可能で、下記の例では\":,d\"を付けて3桁ごとにカンマで数値の桁数を区切ったり、\":.1%\"と付けることで小数値を百分率表記にして小数点以下の桁数を指定したりすることができます。\n"
   ]
  },
  {
   "cell_type": "code",
   "execution_count": 101,
   "metadata": {},
   "outputs": [
    {
     "name": "stdout",
     "output_type": "stream",
     "text": [
      "NC_001133.9\tSaccharomyces cerevisiae S288C chromosome I, complete sequence\tLength=230,218\tG+C%=39.3%\n",
      "NC_001134.8\tSaccharomyces cerevisiae S288C chromosome II, complete sequence\tLength=813,184\tG+C%=38.3%\n",
      "NC_001135.5\tSaccharomyces cerevisiae S288C chromosome III, complete sequence\tLength=316,620\tG+C%=38.5%\n",
      "NC_001136.10\tSaccharomyces cerevisiae S288C chromosome IV, complete sequence\tLength=1,531,933\tG+C%=37.9%\n",
      "NC_001137.3\tSaccharomyces cerevisiae S288C chromosome V, complete sequence\tLength=576,874\tG+C%=38.5%\n",
      "NC_001138.5\tSaccharomyces cerevisiae S288C chromosome VI, complete sequence\tLength=270,161\tG+C%=38.7%\n",
      "NC_001139.9\tSaccharomyces cerevisiae S288C chromosome VII, complete sequence\tLength=1,090,940\tG+C%=38.1%\n",
      "NC_001140.6\tSaccharomyces cerevisiae S288C chromosome VIII, complete sequence\tLength=562,643\tG+C%=38.5%\n",
      "NC_001141.2\tSaccharomyces cerevisiae S288C chromosome IX, complete sequence\tLength=439,888\tG+C%=38.9%\n",
      "NC_001142.9\tSaccharomyces cerevisiae S288C chromosome X, complete sequence\tLength=745,751\tG+C%=38.4%\n",
      "NC_001143.9\tSaccharomyces cerevisiae S288C chromosome XI, complete sequence\tLength=666,816\tG+C%=38.1%\n",
      "NC_001144.5\tSaccharomyces cerevisiae S288C chromosome XII, complete sequence\tLength=1,078,177\tG+C%=38.5%\n",
      "NC_001145.3\tSaccharomyces cerevisiae S288C chromosome XIII, complete sequence\tLength=924,431\tG+C%=38.2%\n",
      "NC_001146.8\tSaccharomyces cerevisiae S288C chromosome XIV, complete sequence\tLength=784,333\tG+C%=38.6%\n",
      "NC_001147.6\tSaccharomyces cerevisiae S288C chromosome XV, complete sequence\tLength=1,091,291\tG+C%=38.2%\n",
      "NC_001148.4\tSaccharomyces cerevisiae S288C chromosome XVI, complete sequence\tLength=948,066\tG+C%=38.1%\n",
      "NC_001224.1\tSaccharomyces cerevisiae S288c mitochondrion, complete genome\tLength=85,779\tG+C%=17.1%\n"
     ]
    }
   ],
   "source": [
    "for fasta in read_fasta(\"../common/s288c.fna\"):\n",
    "    print(f\"{fasta.id}\\t{fasta.description}\\tLength={len(fasta.seq):,d}\\tG+C%={fasta.get_gc_content():.1%}\")"
   ]
  },
  {
   "cell_type": "markdown",
   "metadata": {},
   "source": [
    "\n",
    "上記の書き方はリストとほぼ同じですがリストとジェネレーターとで大きく異なることとして、リストがすべてのデータをメモリ上に保持しているのに対して、ジェネレーターでは１件ずつのデータしか保持していない点があげられます。次世代シークエンサーデータの処理結果のように巨大なデータを扱う際に、１件ずつデータを取り出して処理を行うのに役立ちます。"
   ]
  },
  {
   "cell_type": "markdown",
   "metadata": {},
   "source": [
    "ここで紹介した例はFASTA形式のデータを格納するためのクラス定義と、multi FASTA形式のファイルから１件ずつデータを取り出す例でしたが、クラスに様々なメソッドを加えることでより多様な処理を行えるように拡張可能です。たとえば、塩基配列のデータであれば相補鎖配列に変換するメソッドや、アミノ酸配列に翻訳を行うメソッドなどが考えられます。実際には、次の項で紹介するBiopythonを用いれば自分でクラス定義を行うことなく様々な機能が利用可能ですので、FASTA形式のファイルを読み込むのに自分でクラス定義を行う場面はあまり多くはないかもしれません。ただしBiopythonで読み込めないファイル形式もありますので、ここで紹介したような手法、すなわち、データを格納するための独自クラスを定義してファイルを読み込むための関数と組み合わせて処理を行うといった方法は様々な場面で応用が効きますので参考にして欲しいと思います。"
   ]
  },
  {
   "cell_type": "markdown",
   "metadata": {},
   "source": [
    "__ジェネレーターについての補足__"
   ]
  },
  {
   "cell_type": "markdown",
   "metadata": {},
   "source": [
    "ジェネレーターはfor文と組み合わせて用いることが多いですが、next関数を用いて１件ずつデータ取り出すことも可能です。その場合、まずはジェネレーター関数を呼び出してジェネレーターを作成します。"
   ]
  },
  {
   "cell_type": "code",
   "execution_count": 111,
   "metadata": {},
   "outputs": [],
   "source": [
    "fasta_generator = read_fasta(\"../common/s288c.fna\")"
   ]
  },
  {
   "cell_type": "markdown",
   "metadata": {},
   "source": [
    "ついでnext関数でデータを取り出します。"
   ]
  },
  {
   "cell_type": "code",
   "execution_count": 112,
   "metadata": {},
   "outputs": [
    {
     "name": "stdout",
     "output_type": "stream",
     "text": [
      "Saccharomyces cerevisiae S288C chromosome I, complete sequence\n"
     ]
    }
   ],
   "source": [
    "fasta = next(fasta_generator)\n",
    "print(fasta.description)"
   ]
  },
  {
   "cell_type": "markdown",
   "metadata": {},
   "source": [
    "処理を繰り返すと次のデータが得られます。"
   ]
  },
  {
   "cell_type": "code",
   "execution_count": 113,
   "metadata": {},
   "outputs": [
    {
     "name": "stdout",
     "output_type": "stream",
     "text": [
      "Saccharomyces cerevisiae S288C chromosome II, complete sequence\n"
     ]
    }
   ],
   "source": [
    "fasta = next(fasta_generator)\n",
    "print(fasta.description)"
   ]
  },
  {
   "cell_type": "markdown",
   "metadata": {},
   "source": [
    "また、list関数を組み合わせることで全データをリストに格納することができます。ただし、メモリはその分多く必要になりますので、ヒトゲノムのような巨大なサイズのデータを処理するには向きません。"
   ]
  },
  {
   "cell_type": "code",
   "execution_count": 116,
   "metadata": {
    "scrolled": true
   },
   "outputs": [
    {
     "name": "stdout",
     "output_type": "stream",
     "text": [
      "Saccharomyces cerevisiae S288C chromosome I, complete sequence\n",
      "Saccharomyces cerevisiae S288c mitochondrion, complete genome\n"
     ]
    }
   ],
   "source": [
    "fasta_list = list(read_fasta(\"../common/s288c.fna\"))\n",
    "first_fasta = fasta_list[0]\n",
    "last_fasta = fasta_list[-1]\n",
    "print(first_fasta.description)\n",
    "print(last_fasta.description)"
   ]
  },
  {
   "cell_type": "markdown",
   "metadata": {},
   "source": [
    "# Biopythonの使い方 以下、制作途中"
   ]
  },
  {
   "cell_type": "code",
   "execution_count": null,
   "metadata": {},
   "outputs": [],
   "source": []
  },
  {
   "cell_type": "markdown",
   "metadata": {},
   "source": [
    "本講義ではBiopythonを使った各種フォーマットのファイルの読み書きを扱います。\n"
   ]
  },
  {
   "cell_type": "code",
   "execution_count": 1,
   "metadata": {},
   "outputs": [],
   "source": [
    "# Biopythonのインポート\n",
    "# SeqIOはFASTA, GenBankなどの配列データを取り扱うためのモジュール\n",
    "from Bio import SeqIO"
   ]
  },
  {
   "cell_type": "code",
   "execution_count": 8,
   "metadata": {},
   "outputs": [],
   "source": [
    "fasta_file_name = \"../common/s288c.fna\"\n",
    "gbk_file_name = \"../common/s288c.gbk\"\n",
    "gff_file_name = \"../common/s288c_e.gff\""
   ]
  },
  {
   "cell_type": "markdown",
   "metadata": {},
   "source": [
    "# FASTAファイルの読み込み"
   ]
  },
  {
   "cell_type": "markdown",
   "metadata": {},
   "source": [
    "## 基本的な使い方"
   ]
  },
  {
   "cell_type": "code",
   "execution_count": 9,
   "metadata": {},
   "outputs": [],
   "source": [
    "records = SeqIO.parse(fasta_file_name, \"fasta\")"
   ]
  },
  {
   "cell_type": "code",
   "execution_count": 10,
   "metadata": {},
   "outputs": [
    {
     "data": {
      "text/plain": [
       "<generator object parse at 0x11003f3b8>"
      ]
     },
     "execution_count": 10,
     "metadata": {},
     "output_type": "execute_result"
    }
   ],
   "source": [
    "# records は ジェネレータ\n",
    "records"
   ]
  },
  {
   "cell_type": "code",
   "execution_count": 11,
   "metadata": {},
   "outputs": [],
   "source": [
    "# 一件目の配列データを取り出す\n",
    "r1 = next(records)"
   ]
  },
  {
   "cell_type": "code",
   "execution_count": 12,
   "metadata": {},
   "outputs": [
    {
     "data": {
      "text/plain": [
       "SeqRecord(seq=Seq('ccacaccacacccacacacccacacaccacaccacacaccacaccacacccaca...ggg', SingleLetterAlphabet()), id='NC_001133.9', name='NC_001133.9', description='NC_001133.9 Saccharomyces cerevisiae S288C chromosome I, complete sequence', dbxrefs=[])"
      ]
     },
     "execution_count": 12,
     "metadata": {},
     "output_type": "execute_result"
    }
   ],
   "source": [
    "# 配列データは SeqRecord オブジェクトになっています。\n",
    "# SeqRecord は配列自体の情報の他に、ID, description, アノテーションなども含んでいます。\n",
    "r1"
   ]
  },
  {
   "cell_type": "code",
   "execution_count": 116,
   "metadata": {},
   "outputs": [
    {
     "name": "stdout",
     "output_type": "stream",
     "text": [
      "ID: NC_001133.9\n",
      "Name: NC_001133.9\n",
      "Description: NC_001133.9 Saccharomyces cerevisiae S288C chromosome I, complete sequence\n",
      "Number of features: 0\n",
      "Seq('ccacaccacacccacacacccacacaccacaccacacaccacaccacacccaca...ggg', SingleLetterAlphabet())\n"
     ]
    }
   ],
   "source": [
    "print(r1)"
   ]
  },
  {
   "cell_type": "code",
   "execution_count": 117,
   "metadata": {},
   "outputs": [
    {
     "name": "stdout",
     "output_type": "stream",
     "text": [
      "NC_001133.9\n",
      "NC_001133.9 Saccharomyces cerevisiae S288C chromosome I, complete sequence\n",
      "230218\n",
      "[]\n"
     ]
    }
   ],
   "source": [
    "# 配列ID, descriptionなどの確認、長さは len 関数で取得できます。\n",
    "print(r1.id)\n",
    "print(r1.description)\n",
    "print(len(r1))\n",
    "print(r1.features)  # fastaファイルなのでアノテーションは含まれていない --> featuresは空"
   ]
  },
  {
   "cell_type": "code",
   "execution_count": 118,
   "metadata": {
    "collapsed": true
   },
   "outputs": [],
   "source": [
    "# 配列を取り出します。\n",
    "r1_seq = r1.seq"
   ]
  },
  {
   "cell_type": "code",
   "execution_count": 119,
   "metadata": {},
   "outputs": [
    {
     "data": {
      "text/plain": [
       "Seq('ccacaccacacccacacacccacacaccacaccacacaccacaccacacccaca...ggg', SingleLetterAlphabet())"
      ]
     },
     "execution_count": 119,
     "metadata": {},
     "output_type": "execute_result"
    }
   ],
   "source": [
    "# 配列はSeq型のオブジェクトになっています。\n",
    "r1_seq"
   ]
  },
  {
   "cell_type": "markdown",
   "metadata": {},
   "source": [
    "Seq型オブジェクトは切り出し、相補鎖変換 reverse_compliment, 翻訳 translate などの機能を持ちます"
   ]
  },
  {
   "cell_type": "code",
   "execution_count": 120,
   "metadata": {},
   "outputs": [
    {
     "data": {
      "text/plain": [
       "Seq('CTAGTTTGCGATAGTGTAGATACCGTCCTTGGATAGAGCACTGGAGATGGCTGG...Cat', SingleLetterAlphabet())"
      ]
     },
     "execution_count": 120,
     "metadata": {},
     "output_type": "execute_result"
    }
   ],
   "source": [
    "r1_seq[1806:2169]  # 遺伝子コード領域の切り出し\n",
    "# この方法以外にも、FeatureLocationオブジェクトのextractメソッドを使用する方法もあります。(後で紹介）"
   ]
  },
  {
   "cell_type": "code",
   "execution_count": 121,
   "metadata": {},
   "outputs": [
    {
     "data": {
      "text/plain": [
       "Seq('atGGTCAAATTAACTTCAATCGCCGCTGGTGTCGCTGCCATCGCTGCTACTGCT...TAG', SingleLetterAlphabet())"
      ]
     },
     "execution_count": 121,
     "metadata": {},
     "output_type": "execute_result"
    }
   ],
   "source": [
    "# 相補鎖変換\n",
    "r1_seq[1806:2169].reverse_complement()"
   ]
  },
  {
   "cell_type": "code",
   "execution_count": 122,
   "metadata": {},
   "outputs": [
    {
     "data": {
      "text/plain": [
       "Seq('MVKLTSIAAGVAAIAATASATTTLAQSDERVNLVELGVYVSDIRAHLAQYYMFQ...AN*', HasStopCodon(ExtendedIUPACProtein(), '*'))"
      ]
     },
     "execution_count": 122,
     "metadata": {},
     "output_type": "execute_result"
    }
   ],
   "source": [
    "# 相補鎖変換　→　翻訳\n",
    "r1_seq[1806:2169].reverse_complement().translate()  "
   ]
  },
  {
   "cell_type": "code",
   "execution_count": null,
   "metadata": {},
   "outputs": [],
   "source": []
  },
  {
   "cell_type": "code",
   "execution_count": 123,
   "metadata": {},
   "outputs": [
    {
     "ename": "ValueError",
     "evalue": "Need a Nucleotide or Protein alphabet",
     "output_type": "error",
     "traceback": [
      "\u001b[0;31m---------------------------------------------------------------------------\u001b[0m",
      "\u001b[0;31mValueError\u001b[0m                                Traceback (most recent call last)",
      "\u001b[0;32m<ipython-input-123-77085f28952f>\u001b[0m in \u001b[0;36m<module>\u001b[0;34m()\u001b[0m\n\u001b[1;32m      1\u001b[0m \u001b[0;31m# GenBank形式への変換  --> ValueError: Need a Nucleotide or Protein alphabet という警告が出ます\u001b[0m\u001b[0;34m\u001b[0m\u001b[0;34m\u001b[0m\u001b[0m\n\u001b[0;32m----> 2\u001b[0;31m \u001b[0mprint\u001b[0m\u001b[0;34m(\u001b[0m\u001b[0mr1\u001b[0m\u001b[0;34m.\u001b[0m\u001b[0mformat\u001b[0m\u001b[0;34m(\u001b[0m\u001b[0;34m\"genbank\"\u001b[0m\u001b[0;34m)\u001b[0m\u001b[0;34m)\u001b[0m\u001b[0;34m\u001b[0m\u001b[0m\n\u001b[0m",
      "\u001b[0;32m/Users/tanizawa/.anyenv/envs/pyenv/versions/3.6.0/lib/python3.6/site-packages/Bio/SeqRecord.py\u001b[0m in \u001b[0;36mformat\u001b[0;34m(self, format)\u001b[0m\n\u001b[1;32m    686\u001b[0m         \u001b[0;31m# See also the __format__ added for Python 2.6 / 3.0, PEP 3101\u001b[0m\u001b[0;34m\u001b[0m\u001b[0;34m\u001b[0m\u001b[0m\n\u001b[1;32m    687\u001b[0m         \u001b[0;31m# See also the Bio.Align.Generic.Alignment class and its format()\u001b[0m\u001b[0;34m\u001b[0m\u001b[0;34m\u001b[0m\u001b[0m\n\u001b[0;32m--> 688\u001b[0;31m         \u001b[0;32mreturn\u001b[0m \u001b[0mself\u001b[0m\u001b[0;34m.\u001b[0m\u001b[0m__format__\u001b[0m\u001b[0;34m(\u001b[0m\u001b[0mformat\u001b[0m\u001b[0;34m)\u001b[0m\u001b[0;34m\u001b[0m\u001b[0m\n\u001b[0m\u001b[1;32m    689\u001b[0m \u001b[0;34m\u001b[0m\u001b[0m\n\u001b[1;32m    690\u001b[0m     \u001b[0;32mdef\u001b[0m \u001b[0m__format__\u001b[0m\u001b[0;34m(\u001b[0m\u001b[0mself\u001b[0m\u001b[0;34m,\u001b[0m \u001b[0mformat_spec\u001b[0m\u001b[0;34m)\u001b[0m\u001b[0;34m:\u001b[0m\u001b[0;34m\u001b[0m\u001b[0m\n",
      "\u001b[0;32m/Users/tanizawa/.anyenv/envs/pyenv/versions/3.6.0/lib/python3.6/site-packages/Bio/SeqRecord.py\u001b[0m in \u001b[0;36m__format__\u001b[0;34m(self, format_spec)\u001b[0m\n\u001b[1;32m    710\u001b[0m             \u001b[0;32mfrom\u001b[0m \u001b[0mBio\u001b[0m\u001b[0;34m.\u001b[0m\u001b[0m_py3k\u001b[0m \u001b[0;32mimport\u001b[0m \u001b[0mStringIO\u001b[0m\u001b[0;34m\u001b[0m\u001b[0m\n\u001b[1;32m    711\u001b[0m             \u001b[0mhandle\u001b[0m \u001b[0;34m=\u001b[0m \u001b[0mStringIO\u001b[0m\u001b[0;34m(\u001b[0m\u001b[0;34m)\u001b[0m\u001b[0;34m\u001b[0m\u001b[0m\n\u001b[0;32m--> 712\u001b[0;31m         \u001b[0mSeqIO\u001b[0m\u001b[0;34m.\u001b[0m\u001b[0mwrite\u001b[0m\u001b[0;34m(\u001b[0m\u001b[0mself\u001b[0m\u001b[0;34m,\u001b[0m \u001b[0mhandle\u001b[0m\u001b[0;34m,\u001b[0m \u001b[0mformat_spec\u001b[0m\u001b[0;34m)\u001b[0m\u001b[0;34m\u001b[0m\u001b[0m\n\u001b[0m\u001b[1;32m    713\u001b[0m         \u001b[0;32mreturn\u001b[0m \u001b[0mhandle\u001b[0m\u001b[0;34m.\u001b[0m\u001b[0mgetvalue\u001b[0m\u001b[0;34m(\u001b[0m\u001b[0;34m)\u001b[0m\u001b[0;34m\u001b[0m\u001b[0m\n\u001b[1;32m    714\u001b[0m \u001b[0;34m\u001b[0m\u001b[0m\n",
      "\u001b[0;32m/Users/tanizawa/.anyenv/envs/pyenv/versions/3.6.0/lib/python3.6/site-packages/Bio/SeqIO/__init__.py\u001b[0m in \u001b[0;36mwrite\u001b[0;34m(sequences, handle, format)\u001b[0m\n\u001b[1;32m    479\u001b[0m         \u001b[0;32mif\u001b[0m \u001b[0mformat\u001b[0m \u001b[0;32min\u001b[0m \u001b[0m_FormatToWriter\u001b[0m\u001b[0;34m:\u001b[0m\u001b[0;34m\u001b[0m\u001b[0m\n\u001b[1;32m    480\u001b[0m             \u001b[0mwriter_class\u001b[0m \u001b[0;34m=\u001b[0m \u001b[0m_FormatToWriter\u001b[0m\u001b[0;34m[\u001b[0m\u001b[0mformat\u001b[0m\u001b[0;34m]\u001b[0m\u001b[0;34m\u001b[0m\u001b[0m\n\u001b[0;32m--> 481\u001b[0;31m             \u001b[0mcount\u001b[0m \u001b[0;34m=\u001b[0m \u001b[0mwriter_class\u001b[0m\u001b[0;34m(\u001b[0m\u001b[0mfp\u001b[0m\u001b[0;34m)\u001b[0m\u001b[0;34m.\u001b[0m\u001b[0mwrite_file\u001b[0m\u001b[0;34m(\u001b[0m\u001b[0msequences\u001b[0m\u001b[0;34m)\u001b[0m\u001b[0;34m\u001b[0m\u001b[0m\n\u001b[0m\u001b[1;32m    482\u001b[0m         \u001b[0;32melif\u001b[0m \u001b[0mformat\u001b[0m \u001b[0;32min\u001b[0m \u001b[0mAlignIO\u001b[0m\u001b[0;34m.\u001b[0m\u001b[0m_FormatToWriter\u001b[0m\u001b[0;34m:\u001b[0m\u001b[0;34m\u001b[0m\u001b[0m\n\u001b[1;32m    483\u001b[0m             \u001b[0;31m# Try and turn all the records into a single alignment,\u001b[0m\u001b[0;34m\u001b[0m\u001b[0;34m\u001b[0m\u001b[0m\n",
      "\u001b[0;32m/Users/tanizawa/.anyenv/envs/pyenv/versions/3.6.0/lib/python3.6/site-packages/Bio/SeqIO/Interfaces.py\u001b[0m in \u001b[0;36mwrite_file\u001b[0;34m(self, records)\u001b[0m\n\u001b[1;32m    207\u001b[0m         \"\"\"\n\u001b[1;32m    208\u001b[0m         \u001b[0mself\u001b[0m\u001b[0;34m.\u001b[0m\u001b[0mwrite_header\u001b[0m\u001b[0;34m(\u001b[0m\u001b[0;34m)\u001b[0m\u001b[0;34m\u001b[0m\u001b[0m\n\u001b[0;32m--> 209\u001b[0;31m         \u001b[0mcount\u001b[0m \u001b[0;34m=\u001b[0m \u001b[0mself\u001b[0m\u001b[0;34m.\u001b[0m\u001b[0mwrite_records\u001b[0m\u001b[0;34m(\u001b[0m\u001b[0mrecords\u001b[0m\u001b[0;34m)\u001b[0m\u001b[0;34m\u001b[0m\u001b[0m\n\u001b[0m\u001b[1;32m    210\u001b[0m         \u001b[0mself\u001b[0m\u001b[0;34m.\u001b[0m\u001b[0mwrite_footer\u001b[0m\u001b[0;34m(\u001b[0m\u001b[0;34m)\u001b[0m\u001b[0;34m\u001b[0m\u001b[0m\n\u001b[1;32m    211\u001b[0m         \u001b[0;32mreturn\u001b[0m \u001b[0mcount\u001b[0m\u001b[0;34m\u001b[0m\u001b[0m\n",
      "\u001b[0;32m/Users/tanizawa/.anyenv/envs/pyenv/versions/3.6.0/lib/python3.6/site-packages/Bio/SeqIO/Interfaces.py\u001b[0m in \u001b[0;36mwrite_records\u001b[0;34m(self, records)\u001b[0m\n\u001b[1;32m    192\u001b[0m         \u001b[0mcount\u001b[0m \u001b[0;34m=\u001b[0m \u001b[0;36m0\u001b[0m\u001b[0;34m\u001b[0m\u001b[0m\n\u001b[1;32m    193\u001b[0m         \u001b[0;32mfor\u001b[0m \u001b[0mrecord\u001b[0m \u001b[0;32min\u001b[0m \u001b[0mrecords\u001b[0m\u001b[0;34m:\u001b[0m\u001b[0;34m\u001b[0m\u001b[0m\n\u001b[0;32m--> 194\u001b[0;31m             \u001b[0mself\u001b[0m\u001b[0;34m.\u001b[0m\u001b[0mwrite_record\u001b[0m\u001b[0;34m(\u001b[0m\u001b[0mrecord\u001b[0m\u001b[0;34m)\u001b[0m\u001b[0;34m\u001b[0m\u001b[0m\n\u001b[0m\u001b[1;32m    195\u001b[0m             \u001b[0mcount\u001b[0m \u001b[0;34m+=\u001b[0m \u001b[0;36m1\u001b[0m\u001b[0;34m\u001b[0m\u001b[0m\n\u001b[1;32m    196\u001b[0m         \u001b[0;31m# Mark as true, even if there where no records\u001b[0m\u001b[0;34m\u001b[0m\u001b[0;34m\u001b[0m\u001b[0m\n",
      "\u001b[0;32m/Users/tanizawa/.anyenv/envs/pyenv/versions/3.6.0/lib/python3.6/site-packages/Bio/SeqIO/InsdcIO.py\u001b[0m in \u001b[0;36mwrite_record\u001b[0;34m(self, record)\u001b[0m\n\u001b[1;32m    771\u001b[0m         \u001b[0;34m\"\"\"Write a single record to the output file.\"\"\"\u001b[0m\u001b[0;34m\u001b[0m\u001b[0m\n\u001b[1;32m    772\u001b[0m         \u001b[0mhandle\u001b[0m \u001b[0;34m=\u001b[0m \u001b[0mself\u001b[0m\u001b[0;34m.\u001b[0m\u001b[0mhandle\u001b[0m\u001b[0;34m\u001b[0m\u001b[0m\n\u001b[0;32m--> 773\u001b[0;31m         \u001b[0mself\u001b[0m\u001b[0;34m.\u001b[0m\u001b[0m_write_the_first_line\u001b[0m\u001b[0;34m(\u001b[0m\u001b[0mrecord\u001b[0m\u001b[0;34m)\u001b[0m\u001b[0;34m\u001b[0m\u001b[0m\n\u001b[0m\u001b[1;32m    774\u001b[0m \u001b[0;34m\u001b[0m\u001b[0m\n\u001b[1;32m    775\u001b[0m         \u001b[0mdefault\u001b[0m \u001b[0;34m=\u001b[0m \u001b[0mrecord\u001b[0m\u001b[0;34m.\u001b[0m\u001b[0mid\u001b[0m\u001b[0;34m\u001b[0m\u001b[0m\n",
      "\u001b[0;32m/Users/tanizawa/.anyenv/envs/pyenv/versions/3.6.0/lib/python3.6/site-packages/Bio/SeqIO/InsdcIO.py\u001b[0m in \u001b[0;36m_write_the_first_line\u001b[0;34m(self, record)\u001b[0m\n\u001b[1;32m    606\u001b[0m             \u001b[0;31m# Must be something like NucleotideAlphabet or\u001b[0m\u001b[0;34m\u001b[0m\u001b[0;34m\u001b[0m\u001b[0m\n\u001b[1;32m    607\u001b[0m             \u001b[0;31m# just the generic Alphabet (default for fasta files)\u001b[0m\u001b[0;34m\u001b[0m\u001b[0;34m\u001b[0m\u001b[0m\n\u001b[0;32m--> 608\u001b[0;31m             \u001b[0;32mraise\u001b[0m \u001b[0mValueError\u001b[0m\u001b[0;34m(\u001b[0m\u001b[0;34m\"Need a Nucleotide or Protein alphabet\"\u001b[0m\u001b[0;34m)\u001b[0m\u001b[0;34m\u001b[0m\u001b[0m\n\u001b[0m\u001b[1;32m    609\u001b[0m \u001b[0;34m\u001b[0m\u001b[0m\n\u001b[1;32m    610\u001b[0m         \u001b[0;31m# Get the molecule type\u001b[0m\u001b[0;34m\u001b[0m\u001b[0;34m\u001b[0m\u001b[0m\n",
      "\u001b[0;31mValueError\u001b[0m: Need a Nucleotide or Protein alphabet"
     ]
    }
   ],
   "source": [
    "# GenBank形式への変換  --> ValueError: Need a Nucleotide or Protein alphabet という警告が出ます\n",
    "print(r1.format(\"genbank\"))"
   ]
  },
  {
   "cell_type": "code",
   "execution_count": 180,
   "metadata": {},
   "outputs": [
    {
     "name": "stdout",
     "output_type": "stream",
     "text": [
      "LOCUS       NC_001133.9           230218 bp    DNA              UNK 01-JAN-1980\n",
      "DEFINITION  NC_001133.9 Saccharomyces cerevisiae S288C chromosome I, complete\n",
      "            sequence\n",
      "ACCESSION   NC_001133\n",
      "VERSION     NC_001133.9\n",
      "KEYWORDS    .\n",
      "SOURCE      .\n",
      "  ORGANISM  .\n",
      "            .\n",
      "FEATURES             Location/Qualifiers\n",
      "ORIGIN\n",
      "        1 ccacaccaca cccacacacc cacacaccac accacacacc acaccacacc cacacacaca\n",
      "       61 catcctaaca ctaccctaac acagccctaa tctaaccctg gccaacctgt ctctcaactt\n",
      "      121 accctccatt accctgcctc cactcgttac cctgtcccat tcaaccatac cactccgaac\n",
      "      181 caccatccat ccctctactt actaccactc acccaccgtt accctccaat tacccatatc\n",
      "      241 caacccactg ccacttaccc taccattacc ctaccatcca ccatgaccta ctcaccatac\n",
      "      301 tgttcttcta cccaccatat tgaaacgcta acaaatgatc gtaaataaca cacacgtgct\n",
      "      361 taccctacca ctttatacca ccaccacatg ccatactcac cctcacttgt atactgattt\n",
      "      421 tacgtacgca cacggatgct acagtatata ccatctcaaa cttaccctac tctcagattc\n",
      "      481 cacttcactc catggcccat ctctcactga atcagtacca aatgcactc\n"
     ]
    }
   ],
   "source": [
    "# エラーを回避するには、FASTA配列の\"Alphabet\"を明示的に指定する必要があります。\n",
    "from Bio.Alphabet import generic_dna\n",
    "records = SeqIO.parse(fasta_file_name, \"fasta\", generic_dna)\n",
    "r1 = next(records)\n",
    "print(r1.format(\"genbank\")[:1000])  # 長いので先頭の1000文字だけ表示しています"
   ]
  },
  {
   "cell_type": "markdown",
   "metadata": {},
   "source": [
    "## すべてのエントリー (配列) をループで回す"
   ]
  },
  {
   "cell_type": "code",
   "execution_count": 125,
   "metadata": {},
   "outputs": [
    {
     "name": "stdout",
     "output_type": "stream",
     "text": [
      "Seq ID= NC_001133.9\n",
      "Length= 230218\n",
      "ccacaccacacccacacacccacacaccacaccacacaccacaccacacc...\n",
      "----\n",
      "Seq ID= NC_001134.8\n",
      "Length= 813184\n",
      "AAATAGCCCTCATGTACGTCTCCTCCAAGCCCTGTTGTCTCTTACCCGGA...\n",
      "----\n",
      "Seq ID= NC_001135.5\n",
      "Length= 316620\n",
      "cccacacaccacacccacaccacacccacacaccacacacaccacaccca...\n",
      "----\n",
      "Seq ID= NC_001136.10\n",
      "Length= 1531933\n",
      "acaccacacccacaccacacccacacacaccacacccacacaccacaccc...\n",
      "----\n",
      "Seq ID= NC_001137.3\n",
      "Length= 576874\n",
      "CGTCTCCTCCAAGCCCTGTTGTCTCTTACCCGGATGTTCAACCAAAAGCT...\n",
      "----\n",
      "Seq ID= NC_001138.5\n",
      "Length= 270161\n",
      "GATCTCGCAAGTGCATTCCTAGACTTAATTCATATCTGCTCCTCAACTGT...\n",
      "----\n",
      "Seq ID= NC_001139.9\n",
      "Length= 1090940\n",
      "ccacacccacacacaccacacccacacccacacactACCCTAACACTACC...\n",
      "----\n",
      "Seq ID= NC_001140.6\n",
      "Length= 562643\n",
      "cccacacacaccacacccacacaccacacccacactTTTCACATCTACCT...\n",
      "----\n",
      "Seq ID= NC_001141.2\n",
      "Length= 439888\n",
      "cacacacaccacacccacaccacaccacaccacacccacacccacacaca...\n",
      "----\n",
      "Seq ID= NC_001142.9\n",
      "Length= 745751\n",
      "CCcacacacacaccacacccacacccacacacaccacacccacacaccac...\n",
      "----\n",
      "Seq ID= NC_001143.9\n",
      "Length= 666816\n",
      "caccacacccacacaccacacccacacacacaccacacccacacaccaca...\n",
      "----\n",
      "Seq ID= NC_001144.5\n",
      "Length= 1078177\n",
      "cacacacacacaccacccacacaccacaccacacaccacaccacacacca...\n",
      "----\n",
      "Seq ID= NC_001145.3\n",
      "Length= 924431\n",
      "Ccacacacacaccacacccacaccacacccacacccacacccacacccac...\n",
      "----\n",
      "Seq ID= NC_001146.8\n",
      "Length= 784333\n",
      "CCGGCTTTCTGAccgaaattaaaaaaaaaaaatgaaaatgaaaccCTGTT...\n",
      "----\n",
      "Seq ID= NC_001147.6\n",
      "Length= 1091291\n",
      "acaccacacccacaccacacccacacccacacaccacacccacacacaca...\n",
      "----\n",
      "Seq ID= NC_001148.4\n",
      "Length= 948066\n",
      "AAATAGCCCTCATGTACGTCTCCTCCAAGCCCTGTTGTCTCTTACCCGGA...\n",
      "----\n",
      "Seq ID= NC_001224.1\n",
      "Length= 85779\n",
      "TTCATAATTAATTTTTTATATATATATTATATTATAATATTAATTTATAT...\n",
      "----\n"
     ]
    }
   ],
   "source": [
    "# recordsはジェネレータなので、リストと同じようにforループで回すことができます。\n",
    "records = SeqIO.parse(fasta_file_name, \"fasta\")\n",
    "for r in records:\n",
    "    print(\"Seq ID=\", r.id)\n",
    "    print(\"Length=\", len(r))\n",
    "    print(r.seq[:50] + \"...\")\n",
    "    print(\"----\")"
   ]
  },
  {
   "cell_type": "code",
   "execution_count": 126,
   "metadata": {
    "collapsed": true
   },
   "outputs": [],
   "source": [
    "# list関数を使うことでも同様のことが可能。(ファイル全体をメモリに読み込むので大きいファイルの扱いには注意)\n",
    "records = list(SeqIO.parse(fasta_file_name, \"fasta\"))"
   ]
  },
  {
   "cell_type": "code",
   "execution_count": 127,
   "metadata": {},
   "outputs": [
    {
     "data": {
      "text/plain": [
       "SeqRecord(seq=Seq('TTCATAATTAATTTTTTATATATATATTATATTATAATATTAATTTATATTATA...ATA', SingleLetterAlphabet()), id='NC_001224.1', name='NC_001224.1', description='NC_001224.1 Saccharomyces cerevisiae S288c mitochondrion, complete genome', dbxrefs=[])"
      ]
     },
     "execution_count": 127,
     "metadata": {},
     "output_type": "execute_result"
    }
   ],
   "source": [
    "# 通常のリストと同じようにindexを指定してデータを抽出することが可能\n",
    "records[-1]"
   ]
  },
  {
   "cell_type": "markdown",
   "metadata": {},
   "source": [
    "__練習__  \n",
    "FASTAファイルを読み込み、閾値未満の長さの配列を取り除き、降順（長いもの順）に出力するスクリプトを作成せよ。  \n",
    "下記のテンプレートを使うこと"
   ]
  },
  {
   "cell_type": "markdown",
   "metadata": {},
   "source": [
    "```\n",
    "import sys\n",
    "from Bio import SeqIO\n",
    "\n",
    "file_name = sys.argv[1]  # ファイル名をコマンドライン引数から取得\n",
    "threshold = int(sys.argv[2])  # 閾値をコマンドライン引数から取得\n",
    "\n",
    "records = list(SeqIO.parse(file_name, \"fasta\"))  # 入力ファイルを読み込みリストに格納\n",
    "\n",
    "#### ここに処理を記述 ####\n",
    "\n",
    "for r in records:\n",
    "    print(r.format(\"fasta\"))\n",
    "```"
   ]
  },
  {
   "cell_type": "markdown",
   "metadata": {
    "collapsed": true
   },
   "source": [
    "## ファイルを読み込み、辞書として格納"
   ]
  },
  {
   "cell_type": "markdown",
   "metadata": {},
   "source": [
    "** 本講義では詳細は割愛します **"
   ]
  },
  {
   "cell_type": "code",
   "execution_count": 128,
   "metadata": {
    "collapsed": true
   },
   "outputs": [],
   "source": [
    "# SeqIO.to_dict関数を使うと、配列IDをkeyとした辞書にデータを格納することができます。\n",
    "records = SeqIO.parse(fasta_file_name, \"fasta\")\n",
    "dict_records = SeqIO.to_dict(records)"
   ]
  },
  {
   "cell_type": "code",
   "execution_count": 129,
   "metadata": {},
   "outputs": [
    {
     "data": {
      "text/plain": [
       "17"
      ]
     },
     "execution_count": 129,
     "metadata": {},
     "output_type": "execute_result"
    }
   ],
   "source": [
    "# 全17件の辞書ができます\n",
    "len(dict_records)"
   ]
  },
  {
   "cell_type": "code",
   "execution_count": 130,
   "metadata": {},
   "outputs": [
    {
     "data": {
      "text/plain": [
       "dict_keys(['NC_001133.9', 'NC_001134.8', 'NC_001135.5', 'NC_001136.10', 'NC_001137.3', 'NC_001138.5', 'NC_001139.9', 'NC_001140.6', 'NC_001141.2', 'NC_001142.9', 'NC_001143.9', 'NC_001144.5', 'NC_001145.3', 'NC_001146.8', 'NC_001147.6', 'NC_001148.4', 'NC_001224.1'])"
      ]
     },
     "execution_count": 130,
     "metadata": {},
     "output_type": "execute_result"
    }
   ],
   "source": [
    "dict_records.keys()"
   ]
  },
  {
   "cell_type": "code",
   "execution_count": 131,
   "metadata": {},
   "outputs": [
    {
     "data": {
      "text/plain": [
       "SeqRecord(seq=Seq('TTCATAATTAATTTTTTATATATATATTATATTATAATATTAATTTATATTATA...ATA', SingleLetterAlphabet()), id='NC_001224.1', name='NC_001224.1', description='NC_001224.1 Saccharomyces cerevisiae S288c mitochondrion, complete genome', dbxrefs=[])"
      ]
     },
     "execution_count": 131,
     "metadata": {},
     "output_type": "execute_result"
    }
   ],
   "source": [
    "dict_records[\"NC_001224.1\"]"
   ]
  },
  {
   "cell_type": "markdown",
   "metadata": {},
   "source": [
    "上記の方法はファイルに含まれるすべての配列情報をメモリに格納するので、大きなファイルの取り扱いには向いていません。  \n",
    "別の方法としてSeqIO.index関数を使う方法もあります。"
   ]
  },
  {
   "cell_type": "code",
   "execution_count": 132,
   "metadata": {
    "collapsed": true
   },
   "outputs": [],
   "source": [
    "idx_records = SeqIO.index(fasta_file_name, \"fasta\")"
   ]
  },
  {
   "cell_type": "code",
   "execution_count": 133,
   "metadata": {},
   "outputs": [
    {
     "data": {
      "text/plain": [
       "Bio.File._IndexedSeqFileDict"
      ]
     },
     "execution_count": 133,
     "metadata": {},
     "output_type": "execute_result"
    }
   ],
   "source": [
    "# idx_recordsはSeq\n",
    "type(idx_records)"
   ]
  },
  {
   "cell_type": "code",
   "execution_count": 134,
   "metadata": {},
   "outputs": [
    {
     "data": {
      "text/plain": [
       "SeqRecord(seq=Seq('TTCATAATTAATTTTTTATATATATATTATATTATAATATTAATTTATATTATA...ATA', SingleLetterAlphabet()), id='NC_001224.1', name='NC_001224.1', description='NC_001224.1 Saccharomyces cerevisiae S288c mitochondrion, complete genome', dbxrefs=[])"
      ]
     },
     "execution_count": 134,
     "metadata": {},
     "output_type": "execute_result"
    }
   ],
   "source": [
    "# idx_recordsは辞書と同じように使用できます。\n",
    "# to_dictと異なりメモリ上にデータを保持していないため、処理速度は若干遅くなります。\n",
    "idx_records.get(\"NC_001224.1\")"
   ]
  },
  {
   "cell_type": "code",
   "execution_count": 135,
   "metadata": {},
   "outputs": [
    {
     "name": "stdout",
     "output_type": "stream",
     "text": [
      ">NC_001224.1 Saccharomyces cerevisiae S288c mitochondrion, complete genome\n",
      "TTCATAATTAATTTTTTATATATATATTATATTATAATATTAATTTATATTATAAAAATAATATTTATTATTAAAATATT\n",
      "TATTCTCCTTTCGGGGTTCCGGCTCCCGTGGCCGGGCCCCGGAATTATTAATTAATAATAAATTATTATTAATAATTATT\n",
      "TATTATTTTATCATTAAAATATATAAATAAAAAATATTAAAAAGATAAAAAAAATAATGTTTA\n"
     ]
    }
   ],
   "source": [
    "print(idx_records.get_raw(\"NC_001224.1\").decode()[:300])  # get_rawで元の形式のまま取り出せます(長いので先頭300文字のみ表示しています)"
   ]
  },
  {
   "cell_type": "markdown",
   "metadata": {},
   "source": [
    "# GenBankファイルの読み込み\n",
    "FASTAファイルと同様に SeqIO.parse を利用して読み込み可能。format=\"genbank\"を指定します。"
   ]
  },
  {
   "cell_type": "markdown",
   "metadata": {},
   "source": [
    "## アノテーション情報の確認"
   ]
  },
  {
   "cell_type": "markdown",
   "metadata": {},
   "source": [
    "FASTAファイルの場合と異なり、GenBank形式には配列に対する様々な注釈情報 (アノテーション) が含まれます。  \n",
    "Biopythonを利用すればこれらを簡単に取得することができます。"
   ]
  },
  {
   "cell_type": "code",
   "execution_count": 136,
   "metadata": {
    "collapsed": true
   },
   "outputs": [],
   "source": [
    "# ここではlist関数を利用して、全データをリストとして読み込んでいます。\n",
    "records = list(SeqIO.parse(gbk_file_name, \"genbank\"))"
   ]
  },
  {
   "cell_type": "code",
   "execution_count": 137,
   "metadata": {},
   "outputs": [],
   "source": [
    "# １件目 (0番目)\n",
    "r0 = records[0]"
   ]
  },
  {
   "cell_type": "code",
   "execution_count": 138,
   "metadata": {},
   "outputs": [
    {
     "data": {
      "text/plain": [
       "['__add__',\n",
       " '__bool__',\n",
       " '__class__',\n",
       " '__contains__',\n",
       " '__delattr__',\n",
       " '__dict__',\n",
       " '__dir__',\n",
       " '__doc__',\n",
       " '__eq__',\n",
       " '__format__',\n",
       " '__ge__',\n",
       " '__getattribute__',\n",
       " '__getitem__',\n",
       " '__gt__',\n",
       " '__hash__',\n",
       " '__init__',\n",
       " '__init_subclass__',\n",
       " '__iter__',\n",
       " '__le__',\n",
       " '__le___',\n",
       " '__len__',\n",
       " '__lt__',\n",
       " '__module__',\n",
       " '__ne__',\n",
       " '__new__',\n",
       " '__nonzero__',\n",
       " '__radd__',\n",
       " '__reduce__',\n",
       " '__reduce_ex__',\n",
       " '__repr__',\n",
       " '__setattr__',\n",
       " '__sizeof__',\n",
       " '__str__',\n",
       " '__subclasshook__',\n",
       " '__weakref__',\n",
       " '_per_letter_annotations',\n",
       " '_seq',\n",
       " '_set_per_letter_annotations',\n",
       " '_set_seq',\n",
       " 'annotations',\n",
       " 'dbxrefs',\n",
       " 'description',\n",
       " 'features',\n",
       " 'format',\n",
       " 'id',\n",
       " 'letter_annotations',\n",
       " 'lower',\n",
       " 'name',\n",
       " 'reverse_complement',\n",
       " 'seq',\n",
       " 'upper']"
      ]
     },
     "execution_count": 138,
     "metadata": {},
     "output_type": "execute_result"
    }
   ],
   "source": [
    "dir(r0)"
   ]
  },
  {
   "cell_type": "code",
   "execution_count": 139,
   "metadata": {},
   "outputs": [
    {
     "data": {
      "text/plain": [
       "{'accessions': ['NC_001133'],\n",
       " 'comment': 'REVIEWED REFSEQ: This record has been curated by SGD. The reference\\nsequence is identical to BK006935.\\nOn Apr 26, 2011 this sequence version replaced NC_001133.8.\\nCOMPLETENESS: full length.',\n",
       " 'contig': 'join(BK006935.2:1..230218)',\n",
       " 'data_file_division': 'CON',\n",
       " 'date': '06-APR-2018',\n",
       " 'keywords': ['RefSeq'],\n",
       " 'organism': 'Saccharomyces cerevisiae S288C',\n",
       " 'references': [Reference(title='Life with 6000 genes', ...),\n",
       "  Reference(title='The nucleotide sequence of chromosome I from Saccharomyces cerevisiae', ...),\n",
       "  Reference(title='Direct Submission', ...),\n",
       "  Reference(title='Direct Submission', ...),\n",
       "  Reference(title='Direct Submission', ...)],\n",
       " 'sequence_version': 9,\n",
       " 'source': 'Saccharomyces cerevisiae S288C',\n",
       " 'structured_comment': defaultdict(dict,\n",
       "             {'Genome-Annotation-Data': {'Annotation Provider': 'SGD',\n",
       "               'Annotation Status': 'Full Annotation',\n",
       "               'Annotation Version': 'R64-2-1',\n",
       "               'URL': 'http://www.yeastgenome.org/'}}),\n",
       " 'taxonomy': ['Eukaryota',\n",
       "  'Fungi',\n",
       "  'Dikarya',\n",
       "  'Ascomycota',\n",
       "  'Saccharomycotina',\n",
       "  'Saccharomycetes',\n",
       "  'Saccharomycetales',\n",
       "  'Saccharomycetaceae',\n",
       "  'Saccharomyces'],\n",
       " 'topology': 'linear'}"
      ]
     },
     "execution_count": 139,
     "metadata": {},
     "output_type": "execute_result"
    }
   ],
   "source": [
    "# FASTAファイルを読み込んだときには空だったannotationsに配列のメタデータが辞書として格納されています。\n",
    "# ここでの \"annotation\" は配列全体に対する生物種情報や登録者情報といったメタデータのことを示します。\n",
    "# 遺伝子領域などの注釈情報は後述のfeaturesに含まれています。\n",
    "r0.annotations"
   ]
  },
  {
   "cell_type": "code",
   "execution_count": 140,
   "metadata": {},
   "outputs": [
    {
     "data": {
      "text/plain": [
       "[SeqFeature(FeatureLocation(ExactPosition(0), ExactPosition(230218), strand=1), type='source'),\n",
       " SeqFeature(FeatureLocation(ExactPosition(0), ExactPosition(801), strand=-1), type='telomere'),\n",
       " SeqFeature(FeatureLocation(ExactPosition(706), ExactPosition(776), strand=1), type='rep_origin'),\n",
       " SeqFeature(FeatureLocation(BeforePosition(1806), AfterPosition(2169), strand=-1), type='gene'),\n",
       " SeqFeature(FeatureLocation(BeforePosition(1806), AfterPosition(2169), strand=-1), type='mRNA'),\n",
       " SeqFeature(FeatureLocation(ExactPosition(1806), ExactPosition(2169), strand=-1), type='CDS'),\n",
       " SeqFeature(FeatureLocation(BeforePosition(2479), AfterPosition(2707), strand=1), type='gene'),\n",
       " SeqFeature(FeatureLocation(BeforePosition(2479), AfterPosition(2707), strand=1), type='mRNA'),\n",
       " SeqFeature(FeatureLocation(ExactPosition(2479), ExactPosition(2707), strand=1), type='CDS'),\n",
       " SeqFeature(FeatureLocation(BeforePosition(7234), AfterPosition(9016), strand=-1), type='gene')]"
      ]
     },
     "execution_count": 140,
     "metadata": {},
     "output_type": "execute_result"
    }
   ],
   "source": [
    "# アノテーションされた遺伝子領域の情報はfeaturesにリストとして格納されています。(先頭10件のみ表示しています)\n",
    "r0.features[:10]"
   ]
  },
  {
   "cell_type": "code",
   "execution_count": 141,
   "metadata": {
    "collapsed": true
   },
   "outputs": [],
   "source": [
    "# 先頭(0番目)のfeatureを取り出します\n",
    "f0 = r0.features[0]"
   ]
  },
  {
   "cell_type": "code",
   "execution_count": 142,
   "metadata": {},
   "outputs": [
    {
     "name": "stdout",
     "output_type": "stream",
     "text": [
      "type: source\n",
      "location: [0:230218](+)\n",
      "qualifiers:\n",
      "    Key: chromosome, Value: ['I']\n",
      "    Key: db_xref, Value: ['taxon:559292']\n",
      "    Key: mol_type, Value: ['genomic DNA']\n",
      "    Key: organism, Value: ['Saccharomyces cerevisiae S288C']\n",
      "    Key: strain, Value: ['S288C']\n",
      "\n"
     ]
    }
   ],
   "source": [
    "# 先頭のfeatureはsource featureです。\n",
    "# source featureはその配列の由来について記述したもので、通常は配列1本について先頭に1件のみ記載されます。\n",
    "print(f0)"
   ]
  },
  {
   "cell_type": "code",
   "execution_count": 143,
   "metadata": {
    "collapsed": true
   },
   "outputs": [],
   "source": [
    "# 3-5番目のfeature (gene) を取り出します\n",
    "f3, f4, f5 = r0.features[3:6]"
   ]
  },
  {
   "cell_type": "code",
   "execution_count": 144,
   "metadata": {},
   "outputs": [
    {
     "name": "stdout",
     "output_type": "stream",
     "text": [
      "type: gene\n",
      "location: [<1806:>2169](-)\n",
      "qualifiers:\n",
      "    Key: db_xref, Value: ['GeneID:851229']\n",
      "    Key: gene, Value: ['PAU8']\n",
      "    Key: locus_tag, Value: ['YAL068C']\n",
      "\n",
      "type: mRNA\n",
      "location: [<1806:>2169](-)\n",
      "qualifiers:\n",
      "    Key: db_xref, Value: ['GeneID:851229']\n",
      "    Key: gene, Value: ['PAU8']\n",
      "    Key: locus_tag, Value: ['YAL068C']\n",
      "    Key: product, Value: ['seripauperin PAU8']\n",
      "    Key: transcript_id, Value: ['NM_001180043.1']\n",
      "\n",
      "type: CDS\n",
      "location: [1806:2169](-)\n",
      "qualifiers:\n",
      "    Key: codon_start, Value: ['1']\n",
      "    Key: db_xref, Value: ['GeneID:851229', 'SGD:S000002142']\n",
      "    Key: gene, Value: ['PAU8']\n",
      "    Key: locus_tag, Value: ['YAL068C']\n",
      "    Key: note, Value: ['hypothetical protein; member of the seripauperin multigene family encoded mainly in subtelomeric regions']\n",
      "    Key: product, Value: ['seripauperin PAU8']\n",
      "    Key: protein_id, Value: ['NP_009332.1']\n",
      "    Key: translation, Value: ['MVKLTSIAAGVAAIAATASATTTLAQSDERVNLVELGVYVSDIRAHLAQYYMFQAAHPTETYPVEVAEAVFNYGDFTTMLTGIAPDQVTRMITGVPWYSSRLKPAISSALSKDGIYTIAN']\n",
      "\n"
     ]
    }
   ],
   "source": [
    "# featureのおもな構成要素は、type, location, qualifiers です。\n",
    "# ここでは、gene, mRNA, CDS に同じ、locus_tag　が割り当てられていることから、これらが対応関係にあることがわかります。\n",
    "print(f3)\n",
    "print(f4)\n",
    "print(f5)"
   ]
  },
  {
   "cell_type": "code",
   "execution_count": 145,
   "metadata": {},
   "outputs": [
    {
     "data": {
      "text/plain": [
       "{'codon_start': ['1'],\n",
       " 'db_xref': ['GeneID:851229', 'SGD:S000002142'],\n",
       " 'gene': ['PAU8'],\n",
       " 'locus_tag': ['YAL068C'],\n",
       " 'note': ['hypothetical protein; member of the seripauperin multigene family encoded mainly in subtelomeric regions'],\n",
       " 'product': ['seripauperin PAU8'],\n",
       " 'protein_id': ['NP_009332.1'],\n",
       " 'translation': ['MVKLTSIAAGVAAIAATASATTTLAQSDERVNLVELGVYVSDIRAHLAQYYMFQAAHPTETYPVEVAEAVFNYGDFTTMLTGIAPDQVTRMITGVPWYSSRLKPAISSALSKDGIYTIAN']}"
      ]
     },
     "execution_count": 145,
     "metadata": {},
     "output_type": "execute_result"
    }
   ],
   "source": [
    "# qualifiersは辞書になっています。\n",
    "f5.qualifiers"
   ]
  },
  {
   "cell_type": "code",
   "execution_count": 146,
   "metadata": {},
   "outputs": [
    {
     "data": {
      "text/plain": [
       "['seripauperin PAU8']"
      ]
     },
     "execution_count": 146,
     "metadata": {},
     "output_type": "execute_result"
    }
   ],
   "source": [
    "# 遺伝子産物名 (product) を確認してみます。\n",
    "# なお、データはリストとして格納されていますので、文字列として取り出すには f5.qualifiers[\"product\"][0] などとする必要があります。\n",
    "f5.qualifiers[\"product\"]"
   ]
  },
  {
   "cell_type": "code",
   "execution_count": 147,
   "metadata": {},
   "outputs": [
    {
     "name": "stdout",
     "output_type": "stream",
     "text": [
      "type: CDS\n",
      "location: [1806:2169](-)\n",
      "qualifiers:\n",
      "    Key: codon_start, Value: ['1']\n",
      "    Key: db_xref, Value: ['GeneID:851229', 'SGD:S000002142']\n",
      "    Key: gene, Value: ['PAU8']\n",
      "    Key: locus_tag, Value: ['YAL068C']\n",
      "    Key: note, Value: ['hypothetical protein; member of the seripauperin multigene family encoded mainly in subtelomeric regions', 'Test']\n",
      "    Key: product, Value: ['seripauperin PAU8']\n",
      "    Key: protein_id, Value: ['NP_009332.1']\n",
      "    Key: translation, Value: ['MVKLTSIAAGVAAIAATASATTTLAQSDERVNLVELGVYVSDIRAHLAQYYMFQAAHPTETYPVEVAEAVFNYGDFTTMLTGIAPDQVTRMITGVPWYSSRLKPAISSALSKDGIYTIAN']\n",
      "\n"
     ]
    }
   ],
   "source": [
    "# note に情報を追加してみます。\n",
    "f5.qualifiers[\"note\"].append(\"Test\")\n",
    "print(f5)"
   ]
  },
  {
   "cell_type": "code",
   "execution_count": 148,
   "metadata": {},
   "outputs": [
    {
     "data": {
      "text/plain": [
       "FeatureLocation(ExactPosition(1806), ExactPosition(2169), strand=-1)"
      ]
     },
     "execution_count": 148,
     "metadata": {},
     "output_type": "execute_result"
    }
   ],
   "source": [
    "# locationを確認してみます。\n",
    "# 0を起点としていますので、開始位置1806は実際には1807番目の塩基を指します。\n",
    "f5.location"
   ]
  },
  {
   "cell_type": "code",
   "execution_count": 149,
   "metadata": {},
   "outputs": [
    {
     "data": {
      "text/plain": [
       "Seq('ATGGTCAAATTAACTTCAATCGCCGCTGGTGTCGCTGCCATCGCTGCTACTGCT...TAG', IUPACAmbiguousDNA())"
      ]
     },
     "execution_count": 149,
     "metadata": {},
     "output_type": "execute_result"
    }
   ],
   "source": [
    "# locationオブジェクトを利用して配列の切り出しを行うことができます。\n",
    "# locationのstrandが-1の場合には、自動的に相補鎖側を切り出してくれます。\n",
    "# extractメソッドの引数には SeqRecord または Seq オブジェクトどちらを与えてもOKです。\n",
    "f5.location.extract(r0.seq)"
   ]
  },
  {
   "cell_type": "code",
   "execution_count": 150,
   "metadata": {},
   "outputs": [
    {
     "name": "stdout",
     "output_type": "stream",
     "text": [
      "MVKLTSIAAGVAAIAATASATTTLAQSDERVNLVELGVYVSDIRAHLAQYYMFQAAHPTETYPVEVAEAVFNYGDFTTMLTGIAPDQVTRMITGVPWYSSRLKPAISSALSKDGIYTIAN*\n",
      "MVKLTSIAAGVAAIAATASATTTLAQSDERVNLVELGVYVSDIRAHLAQYYMFQAAHPTETYPVEVAEAVFNYGDFTTMLTGIAPDQVTRMITGVPWYSSRLKPAISSALSKDGIYTIAN\n"
     ]
    }
   ],
   "source": [
    "# 配列を切り出して翻訳したものを translation qualifier の値と比較してみます。\n",
    "print(str(f5.location.extract(r0.seq).translate()))\n",
    "print(f5.qualifiers[\"translation\"][0])"
   ]
  },
  {
   "cell_type": "markdown",
   "metadata": {},
   "source": [
    "## ファイル全体のfeatureをループで回す"
   ]
  },
  {
   "cell_type": "markdown",
   "metadata": {},
   "source": [
    "record(entry) --> feature --> qualifier の階層構造になっていることを意識してください"
   ]
  },
  {
   "cell_type": "markdown",
   "metadata": {},
   "source": [
    "例としてCDSフィーチャーの中から全てのアミノ酸配列を辞書として取得する処理を実装します"
   ]
  },
  {
   "cell_type": "code",
   "execution_count": 70,
   "metadata": {},
   "outputs": [
    {
     "ename": "KeyError",
     "evalue": "'translation'",
     "output_type": "error",
     "traceback": [
      "\u001b[0;31m---------------------------------------------------------------------------\u001b[0m",
      "\u001b[0;31mKeyError\u001b[0m                                  Traceback (most recent call last)",
      "\u001b[0;32m<ipython-input-70-a7042f9b5d53>\u001b[0m in \u001b[0;36m<module>\u001b[0;34m()\u001b[0m\n\u001b[1;32m      5\u001b[0m         \u001b[0;32mif\u001b[0m \u001b[0mfeature\u001b[0m\u001b[0;34m.\u001b[0m\u001b[0mtype\u001b[0m \u001b[0;34m==\u001b[0m \u001b[0;34m\"CDS\"\u001b[0m\u001b[0;34m:\u001b[0m\u001b[0;34m\u001b[0m\u001b[0m\n\u001b[1;32m      6\u001b[0m             \u001b[0mlocus_tag\u001b[0m \u001b[0;34m=\u001b[0m \u001b[0mfeature\u001b[0m\u001b[0;34m.\u001b[0m\u001b[0mqualifiers\u001b[0m\u001b[0;34m[\u001b[0m\u001b[0;34m\"locus_tag\"\u001b[0m\u001b[0;34m]\u001b[0m\u001b[0;34m[\u001b[0m\u001b[0;36m0\u001b[0m\u001b[0;34m]\u001b[0m\u001b[0;34m\u001b[0m\u001b[0m\n\u001b[0;32m----> 7\u001b[0;31m             \u001b[0mtranslation\u001b[0m \u001b[0;34m=\u001b[0m \u001b[0mfeature\u001b[0m\u001b[0;34m.\u001b[0m\u001b[0mqualifiers\u001b[0m\u001b[0;34m[\u001b[0m\u001b[0;34m\"translation\"\u001b[0m\u001b[0;34m]\u001b[0m\u001b[0;34m[\u001b[0m\u001b[0;36m0\u001b[0m\u001b[0;34m]\u001b[0m\u001b[0;34m\u001b[0m\u001b[0m\n\u001b[0m\u001b[1;32m      8\u001b[0m             \u001b[0mD\u001b[0m\u001b[0;34m[\u001b[0m\u001b[0mlocus_tag\u001b[0m\u001b[0;34m]\u001b[0m \u001b[0;34m=\u001b[0m \u001b[0mtranslation\u001b[0m\u001b[0;34m\u001b[0m\u001b[0m\n",
      "\u001b[0;31mKeyError\u001b[0m: 'translation'"
     ]
    }
   ],
   "source": [
    "# すべてのアミノ酸配列を辞書として取得 (translationを含まないCDSがあったため失敗した)\n",
    "D = {}\n",
    "for record in SeqIO.parse(gbk_file_name, \"genbank\"):\n",
    "    for feature in record.features:\n",
    "        if feature.type == \"CDS\":\n",
    "            locus_tag = feature.qualifiers[\"locus_tag\"][0]\n",
    "            translation = feature.qualifiers[\"translation\"][0]\n",
    "            D[locus_tag] = translation"
   ]
  },
  {
   "cell_type": "code",
   "execution_count": 71,
   "metadata": {},
   "outputs": [
    {
     "name": "stdout",
     "output_type": "stream",
     "text": [
      "type: CDS\n",
      "location: [721070:721481](-)\n",
      "qualifiers:\n",
      "    Key: codon_start, Value: ['1']\n",
      "    Key: db_xref, Value: ['GeneID:851712', 'SGD:S000002541']\n",
      "    Key: locus_tag, Value: ['YDR134C']\n",
      "    Key: note, Value: ['Cell wall protein; YDR134C has a paralog, CCW12, that arose from the whole genome duplication; S. cerevisiae genome reference strain S288C contains an internal in-frame stop at codon 67, which in other strains encodes glutamine']\n",
      "    Key: pseudo, Value: ['']\n",
      "\n"
     ]
    },
    {
     "ename": "KeyError",
     "evalue": "'translation'",
     "output_type": "error",
     "traceback": [
      "\u001b[0;31m---------------------------------------------------------------------------\u001b[0m",
      "\u001b[0;31mKeyError\u001b[0m                                  Traceback (most recent call last)",
      "\u001b[0;32m<ipython-input-71-4aad5773529e>\u001b[0m in \u001b[0;36m<module>\u001b[0;34m()\u001b[0m\n\u001b[1;32m     11\u001b[0m                 \u001b[0;31m# エラーが起こった場合の処理\u001b[0m\u001b[0;34m\u001b[0m\u001b[0;34m\u001b[0m\u001b[0m\n\u001b[1;32m     12\u001b[0m                 \u001b[0mprint\u001b[0m\u001b[0;34m(\u001b[0m\u001b[0mfeature\u001b[0m\u001b[0;34m)\u001b[0m \u001b[0;31m# 問題のあったfeatureを表示\u001b[0m\u001b[0;34m\u001b[0m\u001b[0m\n\u001b[0;32m---> 13\u001b[0;31m                 \u001b[0;32mraise\u001b[0m \u001b[0me\u001b[0m  \u001b[0;31m# 再度、エラーを生じさせて処理を停止させる。\u001b[0m\u001b[0;34m\u001b[0m\u001b[0m\n\u001b[0m",
      "\u001b[0;32m<ipython-input-71-4aad5773529e>\u001b[0m in \u001b[0;36m<module>\u001b[0;34m()\u001b[0m\n\u001b[1;32m      6\u001b[0m             \u001b[0;32mtry\u001b[0m\u001b[0;34m:\u001b[0m\u001b[0;34m\u001b[0m\u001b[0m\n\u001b[1;32m      7\u001b[0m                 \u001b[0mlocus_tag\u001b[0m \u001b[0;34m=\u001b[0m \u001b[0mfeature\u001b[0m\u001b[0;34m.\u001b[0m\u001b[0mqualifiers\u001b[0m\u001b[0;34m[\u001b[0m\u001b[0;34m\"locus_tag\"\u001b[0m\u001b[0;34m]\u001b[0m\u001b[0;34m[\u001b[0m\u001b[0;36m0\u001b[0m\u001b[0;34m]\u001b[0m\u001b[0;34m\u001b[0m\u001b[0m\n\u001b[0;32m----> 8\u001b[0;31m                 \u001b[0mtranslation\u001b[0m \u001b[0;34m=\u001b[0m \u001b[0mfeature\u001b[0m\u001b[0;34m.\u001b[0m\u001b[0mqualifiers\u001b[0m\u001b[0;34m[\u001b[0m\u001b[0;34m\"translation\"\u001b[0m\u001b[0;34m]\u001b[0m\u001b[0;34m[\u001b[0m\u001b[0;36m0\u001b[0m\u001b[0;34m]\u001b[0m\u001b[0;34m\u001b[0m\u001b[0m\n\u001b[0m\u001b[1;32m      9\u001b[0m                 \u001b[0mD\u001b[0m\u001b[0;34m[\u001b[0m\u001b[0mlocus_tag\u001b[0m\u001b[0;34m]\u001b[0m \u001b[0;34m=\u001b[0m \u001b[0mtranslation\u001b[0m\u001b[0;34m\u001b[0m\u001b[0m\n\u001b[1;32m     10\u001b[0m             \u001b[0;32mexcept\u001b[0m \u001b[0mKeyError\u001b[0m \u001b[0;32mas\u001b[0m \u001b[0me\u001b[0m\u001b[0;34m:\u001b[0m\u001b[0;34m\u001b[0m\u001b[0m\n",
      "\u001b[0;31mKeyError\u001b[0m: 'translation'"
     ]
    }
   ],
   "source": [
    "# すべてのアミノ酸配列を辞書として取得 ver2 (try-exceptでエラーを補足し、原因を確認)\n",
    "D = {}\n",
    "for record in SeqIO.parse(gbk_file_name, \"genbank\"):\n",
    "    for feature in record.features:\n",
    "        if feature.type == \"CDS\":\n",
    "            try:\n",
    "                locus_tag = feature.qualifiers[\"locus_tag\"][0]\n",
    "                translation = feature.qualifiers[\"translation\"][0]\n",
    "                D[locus_tag] = translation\n",
    "            except KeyError as e:\n",
    "                # エラーが起こった場合の処理\n",
    "                print(feature) # 問題のあったfeatureを表示\n",
    "                raise e  # 再度、エラーを生じさせて処理を停止させる。\n"
   ]
  },
  {
   "cell_type": "markdown",
   "metadata": {},
   "source": [
    "↑ pseudo qualifierがある場合には、translationが存在しないことがエラーの原因であった。  \n",
    "そこで、pseudoの場合には処理を行わないことにする。"
   ]
  },
  {
   "cell_type": "code",
   "execution_count": 72,
   "metadata": {},
   "outputs": [],
   "source": [
    "# すべてのアミノ酸配列を辞書として取得 ver3 (完成版)\n",
    "D = {}\n",
    "for record in SeqIO.parse(gbk_file_name, \"genbank\"):\n",
    "    for feature in record.features:\n",
    "        if feature.type == \"CDS\":\n",
    "            if \"pseudo\" in feature.qualifiers:\n",
    "                continue\n",
    "            try:\n",
    "                locus_tag = feature.qualifiers[\"locus_tag\"][0]\n",
    "                translation = feature.qualifiers[\"translation\"][0]\n",
    "                D[locus_tag] = translation\n",
    "            except KeyError as e:\n",
    "                print(feature.qualifiers)\n",
    "                raise e\n"
   ]
  },
  {
   "cell_type": "code",
   "execution_count": null,
   "metadata": {},
   "outputs": [],
   "source": []
  },
  {
   "cell_type": "code",
   "execution_count": 171,
   "metadata": {},
   "outputs": [],
   "source": [
    "# すべてのアミノ酸配列を辞書として取得 ver4 (改良版)\n",
    "# get 関数を使用してkeyが存在しない場合にも対応\n",
    "D = {}\n",
    "for record in SeqIO.parse(gbk_file_name, \"genbank\"):\n",
    "    for feature in record.features:\n",
    "        locus_tag = feature.qualifiers.get(\"locus_tag\", [\"\"])[0]  # get 関数を使い locus_tag qualifierが存在しない場合には  [\"\"] を返す\n",
    "        translation = feature.qualifiers.get(\"translation\", [\"\"])[0]\n",
    "        if locus_tag and translation: # locus_tagおよびtranslationのいずれかが空文字列のときには処理しない\n",
    "            D[locus_tag] = translation"
   ]
  },
  {
   "cell_type": "code",
   "execution_count": 185,
   "metadata": {},
   "outputs": [
    {
     "name": "stdout",
     "output_type": "stream",
     "text": [
      "100\n",
      "None\n",
      "400\n"
     ]
    }
   ],
   "source": [
    "# getについて\n",
    "test_dict = {1:100, 2:200, 3:300}\n",
    "print(test_dict.get(1))  # 100が返る\n",
    "print(test_dict.get(4))  # keyが存在しない場合、None\n",
    "print(test_dict.get(4, 400))  # 第２引数としてkeyが存在しない場合に返る値を指定可能。400が返る。"
   ]
  },
  {
   "cell_type": "code",
   "execution_count": null,
   "metadata": {
    "collapsed": true
   },
   "outputs": [],
   "source": []
  },
  {
   "cell_type": "markdown",
   "metadata": {},
   "source": [
    "**[練習]**  \n",
    "GenBankファイルの中身をすべてforループで辿り、アミノ酸配列(translation)・ローカスタグ(locus_tag)・遺伝子産物名(product)を取得し、  \n",
    "下記のような FASTA 形式で出力するスクリプトを作成せよ。  \n",
    "ただし product については空欄のものがあれば \"UNKOWN PRODUCT\" とすること（getを使うと良い）\n",
    "```\n",
    ">YAL068C seripauperin PAU8\n",
    "MVKLTSIAAGVAAIAATASATTTLAQSDERVNLVELGVYVSDIRAHLAQYYMFQAAHPTETYPVEVAEAVFNYGDFTTMLTGIAPDQVTRMITGVPWYSSRLKPAISSALSKDGIYTIAN\n",
    ">YAL067W-A hypothetical protein\n",
    "MPIIGVPRCLIKPFSVPVTFPFSVKKNIRILDLDPRTEAYCLSLNSVCFKRLPRRKYFHLLNSYNIKRVLGVVYC\n",
    ">YAL067C putative permease SEO1\n",
    "MYSIVKEIIVDPYKRLKWGFIPVKRQVEDLPDDLNSTEIVTISNSIQSHETAENFITTTSEKDQLHFETSSYSEHKDNVNVTRSYEYRDEADRPWWRFFDEQEYRINEKERSHNKWYSWFKQGTSFKEKKLLIKLDVLLAFYSCIAYWVKYLDTVNINNAYVSGMKEDLGFQGNDLVHTQVMYTVGNIIFQLPFLIYLNKLPLNYVLPSLDLCWSLLTVGAAYVNSVPHLKAIRFFIGAFEAPSYLAYQYLFGSFYKHDEMVRRSAFYYLGQYIGILSAGGIQSAVYSSLNGVNGLEGWRWNFIIDAIVSVVVGLIGFYSLPGDPYNCYSIFLTDDEIRLARKRLKENQTGKSDFETKVFDIKLWKTIFSDWKIYILTLWNIFCWNDSNVSSGAYLLWLKSLKRYSIPKLNQLSMITPGLGMVYLMLTGIIADKLHSRWFAIIFTQVFNIIGNSILAAWDVAEGAKWFAFMLQCFGWAMAPVLYSWQNDICRRDAQTRAITLVTMNIMAQSSTAWISVLVWKTEEAPRYLKGFTFTACSAFCLSIWTFVVLYFYKRDERNNAKKNGIVLYNSKHGVEKPTSKDVETLSVSDEK\n",
    "...\n",
    "```\n"
   ]
  },
  {
   "cell_type": "markdown",
   "metadata": {},
   "source": [
    "```\n",
    "import sys\n",
    "from Bio import SeqIO\n",
    "\n",
    "gbk_file_name = sys.argv[1]  # ファイル名をコマンドライン引数から取得\n",
    "\n",
    "for record in SeqIO.parse(gbk_file_name, \"genbank\"):\n",
    "    for feature in record.features:\n",
    "        locus_tag = feature.qualifiers.get(\"locus_tag\", [\"\"])[0]  # get 関数を使い locus_tag qualifierが存在しない場合には  [\"\"] を返す\n",
    "        translation = feature.qualifiers.get(\"translation\", [\"\"])[0]\n",
    "        ### productを取得する処理を追加 ###\n",
    "        if locus_tag and translation:\n",
    "            ### print で出力する処理を追加\n",
    "```"
   ]
  },
  {
   "cell_type": "markdown",
   "metadata": {},
   "source": [
    "# GFFファイルの読み込み"
   ]
  },
  {
   "cell_type": "markdown",
   "metadata": {},
   "source": [
    "現状ではBiopython単独ではGFFファイルの読み書きはできないため、BCBioGFFを利用する  \n",
    "GFFファイルはGenBankファイルと同等の情報を保持できるが、ID-Parentを対応づけることによって明示的にgene-mRNA-CDSの階層構造を表現している。"
   ]
  },
  {
   "cell_type": "code",
   "execution_count": 76,
   "metadata": {
    "collapsed": true
   },
   "outputs": [],
   "source": [
    "# BCBioのインポート\n",
    "# GFFを扱うためのモジュール (現時点ではBiopythonには含まれていないため、別にインストールする必要がある)\n",
    "from BCBio import GFF"
   ]
  },
  {
   "cell_type": "code",
   "execution_count": 77,
   "metadata": {},
   "outputs": [],
   "source": [
    "records = GFF.parse(open(gff_file_name))"
   ]
  },
  {
   "cell_type": "code",
   "execution_count": 78,
   "metadata": {},
   "outputs": [
    {
     "data": {
      "text/plain": [
       "[SeqFeature(FeatureLocation(ExactPosition(0), ExactPosition(230218)), type='remark'),\n",
       " SeqFeature(FeatureLocation(ExactPosition(0), ExactPosition(230218), strand=1), type='region', id='id0'),\n",
       " SeqFeature(FeatureLocation(ExactPosition(0), ExactPosition(801), strand=-1), type='telomere', id='id1'),\n",
       " SeqFeature(FeatureLocation(ExactPosition(706), ExactPosition(776), strand=1), type='origin_of_replication', id='id2'),\n",
       " SeqFeature(FeatureLocation(ExactPosition(1806), ExactPosition(2169), strand=-1), type='gene', id='gene0'),\n",
       " SeqFeature(FeatureLocation(ExactPosition(2479), ExactPosition(2707), strand=1), type='gene', id='gene1'),\n",
       " SeqFeature(FeatureLocation(ExactPosition(7234), ExactPosition(9016), strand=-1), type='gene', id='gene2'),\n",
       " SeqFeature(FeatureLocation(ExactPosition(7996), ExactPosition(8547), strand=1), type='origin_of_replication', id='id6'),\n",
       " SeqFeature(FeatureLocation(ExactPosition(11564), ExactPosition(11951), strand=-1), type='gene', id='gene3'),\n",
       " SeqFeature(FeatureLocation(ExactPosition(12045), ExactPosition(12426), strand=1), type='gene', id='gene4')]"
      ]
     },
     "execution_count": 78,
     "metadata": {},
     "output_type": "execute_result"
    }
   ],
   "source": [
    "# 最初の配列の先頭10件のfeatureを表示\n",
    "# GenBankファイルの時とは異なり、mRNAやCDS featureが見えません。\n",
    "# これは、GFFファイルではmRNAはgeneのsub_featuresに含まれているためです。\n",
    "r0 = next(records)\n",
    "r0.features[:10]"
   ]
  },
  {
   "cell_type": "code",
   "execution_count": 79,
   "metadata": {},
   "outputs": [],
   "source": [
    "# 最初のgene featureを取得\n",
    "gene = r0.features[4]"
   ]
  },
  {
   "cell_type": "code",
   "execution_count": 82,
   "metadata": {},
   "outputs": [
    {
     "data": {
      "text/plain": [
       "[SeqFeature(FeatureLocation(ExactPosition(1806), ExactPosition(2169), strand=-1), type='mRNA', id='rna0')]"
      ]
     },
     "execution_count": 82,
     "metadata": {},
     "output_type": "execute_result"
    }
   ],
   "source": [
    "# sub_featuresの中にmRNA featureが含まれています。\n",
    "# この例ではmRNAは1件のみですが、複数のmRNAが含まれる場合もあります。\n",
    "gene.sub_features"
   ]
  },
  {
   "cell_type": "code",
   "execution_count": 83,
   "metadata": {},
   "outputs": [],
   "source": [
    "# mRNA featureを取得\n",
    "mrna = gene.sub_features[0]"
   ]
  },
  {
   "cell_type": "code",
   "execution_count": 84,
   "metadata": {},
   "outputs": [
    {
     "data": {
      "text/plain": [
       "[SeqFeature(FeatureLocation(ExactPosition(1806), ExactPosition(2169), strand=-1), type='exon', id='id3'),\n",
       " SeqFeature(FeatureLocation(ExactPosition(1806), ExactPosition(2169), strand=-1), type='CDS', id='cds0')]"
      ]
     },
     "execution_count": 84,
     "metadata": {},
     "output_type": "execute_result"
    }
   ],
   "source": [
    "# mRNAのsub_featuresを確認\n",
    "# CDS featureとexon featureが含まれています。\n",
    "# sub_featureの種類はファイルによって異なります。CDSのみの場合や、非翻訳領域 (UTR) が含まれている場合もあります。\n",
    "mrna.sub_features"
   ]
  },
  {
   "cell_type": "code",
   "execution_count": 91,
   "metadata": {},
   "outputs": [],
   "source": [
    "# sub_features の階層構造をたどり、どのようなfeatureが含まれているかを確認してみる。。\n",
    "S=set()\n",
    "for record in GFF.parse(open(gff_file_name)):\n",
    "    if record.id == \"NC_001224.1\":\n",
    "        continue  # ミトコンドリア配列は除外\n",
    "    for f in record.features:\n",
    "        feature_type_1 = f.type\n",
    "        S.add(feature_type_1)\n",
    "        for sf in f.sub_features:\n",
    "            feature_type_2 = feature_type_1 + \" -> \" + sf.type\n",
    "            S.add(feature_type_2)\n",
    "            for ssf in sf.sub_features:\n",
    "                feature_type_3 = feature_type_2 + \" -> \" + ssf.type\n",
    "                S.add(feature_type_3)\n",
    "\n",
    "    "
   ]
  },
  {
   "cell_type": "code",
   "execution_count": 104,
   "metadata": {},
   "outputs": [
    {
     "data": {
      "text/plain": [
       "['centromere',\n",
       " 'gene',\n",
       " 'long_terminal_repeat',\n",
       " 'mobile_genetic_element',\n",
       " 'origin_of_replication',\n",
       " 'pseudogene',\n",
       " 'region',\n",
       " 'remark',\n",
       " 'sequence_feature',\n",
       " 'telomere',\n",
       " 'gene -> mRNA',\n",
       " 'gene -> ncRNA',\n",
       " 'gene -> rRNA',\n",
       " 'gene -> snRNA',\n",
       " 'gene -> snoRNA',\n",
       " 'gene -> tRNA',\n",
       " 'gene -> telomerase_RNA',\n",
       " 'gene -> transcript',\n",
       " 'pseudogene -> CDS',\n",
       " 'pseudogene -> mRNA',\n",
       " 'gene -> mRNA -> CDS',\n",
       " 'gene -> mRNA -> exon',\n",
       " 'gene -> ncRNA -> exon',\n",
       " 'gene -> rRNA -> exon',\n",
       " 'gene -> snRNA -> exon',\n",
       " 'gene -> snoRNA -> exon',\n",
       " 'gene -> tRNA -> exon',\n",
       " 'gene -> telomerase_RNA -> exon',\n",
       " 'gene -> transcript -> exon',\n",
       " 'pseudogene -> mRNA -> exon']"
      ]
     },
     "execution_count": 104,
     "metadata": {},
     "output_type": "execute_result"
    }
   ],
   "source": [
    "sorted(sorted(list(S)), key=lambda x:x.count(\"->\"))  # sortedをネストしている理由は、アルファッベット順でソートしたあと階層数でソートしているため。"
   ]
  },
  {
   "cell_type": "code",
   "execution_count": 106,
   "metadata": {
    "collapsed": true
   },
   "outputs": [],
   "source": [
    "# RNAseqの解析のために、タンパク質をコードする遺伝子のみを対象とし、gene_idおよび遺伝子産物名(product)を抜き出す。\n",
    "# 抽出対象\n",
    "# 'gene -> mRNA'\n"
   ]
  },
  {
   "cell_type": "code",
   "execution_count": 107,
   "metadata": {},
   "outputs": [],
   "source": [
    "D = {}\n",
    "for record in GFF.parse(open(gff_file_name)):\n",
    "    for f in record.features:\n",
    "        for sf in f.sub_features:\n",
    "            if f.type == \"gene\" and sf.type == \"mRNA\":\n",
    "                gene_id = sf.qualifiers[\"gene_id\"][0]\n",
    "                product = sf.qualifiers[\"product\"][0]\n",
    "                D[gene_id] = product\n",
    "    "
   ]
  },
  {
   "cell_type": "code",
   "execution_count": 108,
   "metadata": {},
   "outputs": [
    {
     "data": {
      "text/plain": [
       "{'gene_0001': 'seripauperin PAU8',\n",
       " 'gene_0002': 'hypothetical protein',\n",
       " 'gene_0003': 'putative permease SEO1',\n",
       " 'gene_0004': 'hypothetical protein',\n",
       " 'gene_0005': 'hypothetical protein',\n",
       " 'gene_0006': 'Tda8p',\n",
       " 'gene_0007': 'hypothetical protein',\n",
       " 'gene_0008': 'hypothetical protein',\n",
       " 'gene_0009': 'flocculin FLO9',\n",
       " 'gene_0010': 'glutamate dehydrogenase (NADP(+)) GDH3',\n",
       " 'gene_0011': 'putative dehydrogenase BDH2',\n",
       " 'gene_0012': '(R,R)-butanediol dehydrogenase',\n",
       " 'gene_0013': 'Ecm1p',\n",
       " 'gene_0014': 'calnexin',\n",
       " 'gene_0015': 'Gpb2p',\n",
       " 'gene_0016': 'ubiquitin-protein transferase activating protein PEX22',\n",
       " 'gene_0017': 'acetate--CoA ligase 1',\n",
       " 'gene_0018': 'flavin adenine dinucleotide transporter FLC2',\n",
       " 'gene_0019': 'oleate-activated transcription factor OAF1',\n",
       " 'gene_0020': 'protein AIM2',\n",
       " 'gene_0021': 'ERMES complex Ca(2+)-binding regulatory GTPase GEM1',\n",
       " 'gene_0022': 'gamma-tubulin complex subunit SPC72',\n",
       " 'gene_0023': 'Bol3p',\n",
       " 'gene_0024': 'Bol1p',\n",
       " 'gene_0025': 'glycine decarboxylase subunit H',\n",
       " 'gene_0026': 'RNA-processing protein PTA1',\n",
       " 'gene_0027': 'Erv46p',\n",
       " 'gene_0028': 'Rho family guanine nucleotide exchange factor CDC24',\n",
       " 'gene_0029': 'cyclin CLN3',\n",
       " 'gene_0030': 'holocytochrome c synthase CYC3',\n",
       " 'gene_0031': 'pyruvate kinase CDC19',\n",
       " 'gene_0032': 'hypothetical protein',\n",
       " 'gene_0033': 'hypothetical protein',\n",
       " 'gene_0034': 'GTP-binding protein RBG1',\n",
       " 'gene_0035': 'translation initiation factor eIF5B',\n",
       " 'gene_0036': 'MIND complex subunit MTW1',\n",
       " 'gene_0037': 'Fun19p',\n",
       " 'gene_0038': 'RNA-binding protein POP5',\n",
       " 'gene_0039': 'mRNA splicing protein PRP45',\n",
       " 'gene_0040': 'protein phosphatase regulator GIP4',\n",
       " 'gene_0041': 'SNAP receptor SNC1',\n",
       " 'gene_0042': 'myosin 4',\n",
       " 'gene_0043': 'Frt2p',\n",
       " 'gene_0044': 'DNA-binding protein SAW1',\n",
       " 'gene_0045': 'aminophospholipid-translocating P4-type ATPase DRS2',\n",
       " 'gene_0047': 'ribosome biosynthesis protein MAK16',\n",
       " 'gene_0048': 'mitotic regulator LTE1',\n",
       " 'gene_0049': 'dolichyl-phosphate-mannose-protein mannosyltransferase PMT2',\n",
       " 'gene_0050': 'nucleoside transmembrane transporter FUN26',\n",
       " 'gene_0051': 'CCR4-NOT core exoribonuclease subunit CCR4',\n",
       " 'gene_0052': 'Ats1p',\n",
       " 'gene_0053': 'DNA-dependent ATPase FUN30',\n",
       " 'gene_0054': 'Lds1p',\n",
       " 'gene_0055': 'serine/threonine protein kinase PSK1',\n",
       " 'gene_0056': 'protein phosphatase 2A structural subunit TPD3',\n",
       " 'gene_0057': 'bifunctional N-glycosylase/AP lyase NTG1',\n",
       " 'gene_0058': 'syntaxin',\n",
       " 'gene_0059': 'Rpd3L histone deacetylase complex subunit DEP1',\n",
       " 'gene_0060': 'cystathionine gamma-lyase CYS3',\n",
       " 'gene_0061': 'Swc3p',\n",
       " 'gene_0062': 'Mdm10p',\n",
       " 'gene_0063': 'Nem1-Spo7 phosphatase regulatory subunit SPO7',\n",
       " 'gene_0064': 'Fun14p',\n",
       " 'gene_0065': 'Erp2p',\n",
       " 'gene_0067': 'Hsp70 family ATPase SSA1',\n",
       " 'gene_0068': 'translation elongation factor 1 subunit beta',\n",
       " 'gene_0070': 'CORVET complex membrane-binding subunit VPS8',\n",
       " 'gene_0071': 'transcription factor TFIIIC subunit TFC3',\n",
       " 'gene_0072': 'FG-nucleoporin NUP60',\n",
       " 'gene_0073': 'Erp1p',\n",
       " 'gene_0074': 'COMPASS subunit protein SWD1',\n",
       " 'gene_0075': 'replication factor A subunit protein RFA1',\n",
       " 'gene_0076': 'tRNA splicing endonuclease subunit SEN34',\n",
       " 'gene_0077': 'truncated gag-pol fusion protein',\n",
       " 'gene_0078': 'gag protein',\n",
       " 'gene_0080': 'protein phosphatase regulator BUD14',\n",
       " 'gene_0081': 'phosphoribosylaminoimidazolesuccinocarboxamide synthase',\n",
       " 'gene_0082': 'serine/threonine protein kinase KIN3',\n",
       " 'gene_0083': 'serine/threonine protein kinase CDC15',\n",
       " 'gene_0084': 'seripauperin PAU7',\n",
       " 'gene_0085': 'DUP240 family protein',\n",
       " 'gene_0088': 'DUP240 family protein UIP3',\n",
       " 'gene_0089': 'DUP240 family protein',\n",
       " 'gene_0090': 'DUP240 family protein',\n",
       " 'gene_0091': 'pheromone-regulated DUP240 family protein PRM9',\n",
       " 'gene_0092': 'DUP240 family protein MST28',\n",
       " 'gene_0093': 'carnitine O-acetyltransferase YAT1',\n",
       " 'gene_0094': 'hypothetical protein',\n",
       " 'gene_0095': 'oxysterol-binding protein related protein SWH1',\n",
       " 'gene_0096': 'flocculin FLO1',\n",
       " 'gene_0098': 'hypothetical protein',\n",
       " 'gene_0099': 'hypothetical protein',\n",
       " 'gene_0100': 'hypothetical protein',\n",
       " 'gene_0101': 'acid phosphatase PHO11',\n",
       " 'gene_0102': 'hypothetical protein',\n",
       " 'gene_0103': 'hypothetical protein',\n",
       " 'gene_0104': 'hypothetical protein',\n",
       " 'gene_0105': 'seripauperin PAU9',\n",
       " 'gene_0107': 'Mix23p',\n",
       " 'gene_0108': 'putative Rab GTPase-binding protein SRO77',\n",
       " 'gene_0109': 'protein kinase C',\n",
       " 'gene_0110': 'Sea4p',\n",
       " 'gene_0111': 'Rtg3p',\n",
       " 'gene_0112': 'Sft2p',\n",
       " 'gene_0113': 'Ecm21p',\n",
       " 'gene_0114': 'hypothetical protein',\n",
       " 'gene_0115': 'gag-pol fusion protein',\n",
       " 'gene_0116': 'gag protein',\n",
       " 'gene_0118': 'F1F0 ATP synthase subunit alpha',\n",
       " 'gene_0119': 'kynurenine 3-monooxygenase',\n",
       " 'gene_0120': 'condensin subunit BRN1',\n",
       " 'gene_0121': 'Mrx3p',\n",
       " 'gene_0122': 'Rox3p',\n",
       " 'gene_0123': 'ribosomal 60S subunit protein L32',\n",
       " 'gene_0124': 'phospholipid metabolism-regulating protein SCS22',\n",
       " 'gene_0125': 'methionine aminopeptidase',\n",
       " 'gene_0126': 'mitochondrial 37S ribosomal protein MRP21',\n",
       " 'gene_0127': 'amino acid transporter',\n",
       " 'gene_0128': 'DNA-binding protein kinase TEL1',\n",
       " 'gene_0129': 'ribosomal 60S subunit protein L23A',\n",
       " 'gene_0130': 'hypothetical protein',\n",
       " 'gene_0131': 'Boi1p',\n",
       " 'gene_0132': 'anaphase promoting complex subunit CDC27',\n",
       " 'gene_0133': 'dolichyl-P-Man:Man(5)GlcNAc(2)-PP-dolichol alpha-1,3-mannosyltransferase',\n",
       " 'gene_0134': 'hypothetical protein',\n",
       " 'gene_0135': 'glutamyl-tRNA(Gln) amidotransferase subunit PET112',\n",
       " 'gene_0136': 'Nup170p',\n",
       " 'gene_0137': 'ubiquitin-like protein ATG8',\n",
       " 'gene_0138': 'isoleucine--tRNA ligase ILS1',\n",
       " 'gene_0139': 'Hsp70 family ATPase SSA3',\n",
       " 'gene_0140': 'U5 snRNP complex subunit AAR2',\n",
       " 'gene_0142': 'ribosomal 40S subunit protein S8A',\n",
       " 'gene_0143': 'hypothetical protein',\n",
       " 'gene_0144': 'Kti11p',\n",
       " 'gene_0145': 'hypothetical protein',\n",
       " 'gene_0146': 'Ast1p',\n",
       " 'gene_0147': 'ribose phosphate diphosphokinase subunit PRS4',\n",
       " 'gene_0148': 'ubiquitin-specific protease UBP13',\n",
       " 'gene_0149': 'Sef1p',\n",
       " 'gene_0150': 'thioredoxin peroxidase PRX1',\n",
       " 'gene_0151': 'Kip1p',\n",
       " 'gene_0152': 'Skt5p',\n",
       " 'gene_0153': 'Arf family guanine nucleotide exchange factor YEL1',\n",
       " 'gene_0154': 'Cmc2p',\n",
       " 'gene_0155': 'hypothetical protein',\n",
       " 'gene_0156': 'protein phosphatase regulator SHP1',\n",
       " 'gene_0157': 'aminoacyl-tRNA hydrolase',\n",
       " 'gene_0158': 'type 2C protein phosphatase PTC3',\n",
       " 'gene_0159': \"3'-5'-exodeoxyribonuclease\",\n",
       " 'gene_0160': 'Tod6p',\n",
       " 'gene_0161': 'Sas3p',\n",
       " 'gene_0162': 'Pin4p',\n",
       " 'gene_0163': 'Sec17p',\n",
       " 'gene_0164': 'Moh1p',\n",
       " 'gene_0165': 'Rrt1p',\n",
       " 'gene_0166': 'Ede1p',\n",
       " 'gene_0167': 'Psy4p',\n",
       " 'gene_0168': 'ubiquinol--cytochrome-c reductase subunit COR1',\n",
       " 'gene_0169': 'hypothetical protein',\n",
       " 'gene_0170': 'Ecm13p',\n",
       " 'gene_0171': 'uridine permease',\n",
       " 'gene_0172': 'proteasome core particle subunit beta 6',\n",
       " 'gene_0173': 'Erd2p',\n",
       " 'gene_0174': 'hypothetical protein',\n",
       " 'gene_0175': 'CTP synthase URA7',\n",
       " 'gene_0176': 'mitochondrial 54S ribosomal protein YmL47',\n",
       " 'gene_0177': 'Apl3p',\n",
       " 'gene_0178': 'hypothetical protein',\n",
       " 'gene_0179': 'DNA-directed DNA polymerase alpha subunit POL12',\n",
       " 'gene_0180': 'Stu1p',\n",
       " 'gene_0181': 'GTP cyclohydrolase II',\n",
       " 'gene_0182': 'Hek2p',\n",
       " 'gene_0183': 'She1p',\n",
       " 'gene_0184': 'ADP/ATP carrier protein PET9',\n",
       " 'gene_0185': 'hypothetical protein',\n",
       " 'gene_0186': 'hypothetical protein',\n",
       " 'gene_0187': 'hypothetical protein',\n",
       " 'gene_0188': 'ribosomal 60S subunit protein L19B',\n",
       " 'gene_0189': 'Sm-like protein LSM2',\n",
       " 'gene_0190': 'Rrn10p',\n",
       " 'gene_0191': 'tRNA (cytosine-C5-)-methyltransferase',\n",
       " 'gene_0192': 'MCM DNA helicase complex subunit MCM2',\n",
       " 'gene_0193': 'ATP-dependent Lon protease PIM1',\n",
       " 'gene_0194': 'Hap3p',\n",
       " 'gene_0195': 'glycolipid translocation protein',\n",
       " 'gene_0196': 'DNA-(apurinic or apyrimidinic site) lyase APN2',\n",
       " 'gene_0197': 'ribonuclease P',\n",
       " 'gene_0198': 'type I sorting receptor',\n",
       " 'gene_0199': 'mitogen-activated serine/threonine-protein kinase FUS3',\n",
       " 'gene_0200': 'acetyl-CoA hydrolase',\n",
       " 'gene_0203': 'Rrn6p',\n",
       " 'gene_0204': 'methionyl-tRNA formyltransferase',\n",
       " 'gene_0205': 'bifunctional glycerol-3-phosphate/glycerone-phosphate O-acyltransferase SCT1',\n",
       " 'gene_0206': 'hypothetical protein',\n",
       " 'gene_0207': 'protein kinase ALK2',\n",
       " 'gene_0208': 'hypothetical protein',\n",
       " 'gene_0209': 'Hir1p',\n",
       " 'gene_0210': 'cytoskeletal protein-binding protein SLA1',\n",
       " 'gene_0211': 'Ldb7p',\n",
       " 'gene_0212': 'drug-responsive transcription factor PDR3',\n",
       " 'gene_0213': 'gag-pol fusion protein',\n",
       " 'gene_0214': 'gag protein',\n",
       " 'gene_0216': 'Utp20p',\n",
       " 'gene_0217': 'histone H2A',\n",
       " 'gene_0218': 'histone H2B',\n",
       " 'gene_0219': 'Ecm15p',\n",
       " 'gene_0220': 'alpha,alpha-trehalase NTH2',\n",
       " 'gene_0221': 'ditrans,polycis-polyprenyl diphosphate synthase',\n",
       " 'gene_0222': 'trans-hexaprenyltranstransferase',\n",
       " 'gene_0223': 'GPI-anchor transamidase GPI18',\n",
       " 'gene_0224': 'Rcr1p',\n",
       " 'gene_0225': 'succinate-semialdehyde dehydrogenase (NAD(P)(+))',\n",
       " 'gene_0226': 'Dsf2p',\n",
       " 'gene_0227': 'Flr1p',\n",
       " 'gene_0228': 'histone H4',\n",
       " 'gene_0229': 'histone H3',\n",
       " 'gene_0230': 'inorganic diphosphatase IPP1',\n",
       " 'gene_0231': 'gag-pol fusion protein',\n",
       " 'gene_0232': 'gag protein',\n",
       " 'gene_0233': 'hypothetical protein',\n",
       " 'gene_0235': 'glutathione-disulfide reductase GRX7',\n",
       " 'gene_0236': 'alpha-1,2-mannosyltransferase MNN2',\n",
       " 'gene_0237': 'hypothetical protein',\n",
       " 'gene_0238': 'Kap104p',\n",
       " 'gene_0239': 'UDP-glucose:hexose-1-phosphate uridylyltransferase',\n",
       " 'gene_0240': 'bifunctional UDP-glucose 4-epimerase/aldose 1-epimerase',\n",
       " 'gene_0241': 'galactokinase',\n",
       " 'gene_0242': 'uracil permease',\n",
       " 'gene_0243': \"ADP-ribose 1''-phosphate phosphatase\",\n",
       " 'gene_0244': 'chitin synthase CHS3',\n",
       " 'gene_0245': 'putative thioredoxin peroxidase SCO2',\n",
       " 'gene_0246': 'Obg-like ATPase',\n",
       " 'gene_0247': 'Etr1p',\n",
       " 'gene_0248': 'hypothetical protein',\n",
       " 'gene_0249': 'putative protein kinase YPK3',\n",
       " 'gene_0250': 'phosphatidate cytidylyltransferase',\n",
       " 'gene_0251': 'protein-lysine N-methyltransferase',\n",
       " 'gene_0252': 'ribosomal 60S subunit protein L4A',\n",
       " 'gene_0253': 'hypothetical protein',\n",
       " 'gene_0254': 'Eds1p',\n",
       " 'gene_0255': 'protein-arginine omega-N methyltransferase HMT1',\n",
       " 'gene_0256': 'pyridoxamine-phosphate oxidase PDX3',\n",
       " 'gene_0259': 'mannosylinositol phosphorylceramide synthase regulatory subunit',\n",
       " 'gene_0260': 'Cu-binding protein SCO1',\n",
       " 'gene_0261': 'chitin synthase CHS2',\n",
       " 'gene_0262': 'F1F0 ATP synthase subunit gamma',\n",
       " 'gene_0263': 'Fig1p',\n",
       " 'gene_0264': 'long-chain fatty acid transporter FAT1',\n",
       " 'gene_0265': 'putative acyltransferase',\n",
       " 'gene_0266': 'Qdr3p',\n",
       " 'gene_0267': 'Tcm62p',\n",
       " 'gene_0269': 'protein phosphatase regulator GIP1',\n",
       " 'gene_0270': 'NADPH:quinone reductase',\n",
       " 'gene_0271': 'Fmp23p',\n",
       " 'gene_0272': 'ribosomal 40S subunit protein S11B',\n",
       " 'gene_0273': 'DNA-binding protein REB1',\n",
       " 'gene_0274': 'protein phosphatase regulator REG2',\n",
       " 'gene_0275': 'flavodoxin-like fold family protein',\n",
       " 'gene_0276': 'hypothetical protein',\n",
       " 'gene_0277': 'Yro2p',\n",
       " 'gene_0278': 'U4/U6-U5 snRNP complex subunit PRP6',\n",
       " 'gene_0280': '17-beta-hydroxysteroid dehydrogenase-like protein',\n",
       " 'gene_0282': 'hypothetical protein',\n",
       " 'gene_0283': 'Mum2p',\n",
       " 'gene_0284': 'ubiquitin-specific protease UBP14',\n",
       " 'gene_0285': 'Tsc3p',\n",
       " 'gene_0286': 'serine/threonine protein kinase AKL1',\n",
       " 'gene_0287': 'origin recognition complex subunit 2',\n",
       " 'gene_0288': 'tRNA methyltransferase TRM7',\n",
       " 'gene_0289': 'hypothetical protein',\n",
       " 'gene_0290': 'hypothetical protein',\n",
       " 'gene_0291': 'Ecm2p',\n",
       " 'gene_0292': 'Nrg2p',\n",
       " 'gene_0293': 'putative lipase',\n",
       " 'gene_0294': 'branched-chain amino acid permease BAP2',\n",
       " 'gene_0295': 'amino acid transporter TAT1',\n",
       " 'gene_0296': 'N-acetylglucosaminyldiphosphodolichol N-acetylglucosaminyltransferase anchoring subunit ALG14',\n",
       " 'gene_0297': 'hypothetical protein',\n",
       " 'gene_0298': 'chaperone protein HSP26',\n",
       " 'gene_0299': 'hypothetical protein',\n",
       " 'gene_0300': 'DNA-dependent ATPase RDH54',\n",
       " 'gene_0301': 'Pff1p',\n",
       " 'gene_0302': 'Ecm8p',\n",
       " 'gene_0303': 'Slm4p',\n",
       " 'gene_0304': 'Ecm33p',\n",
       " 'gene_0305': 'translation initiation factor eIF3 core subunit a',\n",
       " 'gene_0306': 'AAA family ATPase SEC18',\n",
       " 'gene_0307': 'SAGA histone acetyltransferase complex subunit SPT7',\n",
       " 'gene_0310': 'E2 ubiquitin-conjugating protein UBC4',\n",
       " 'gene_0311': 'Tec1p',\n",
       " 'gene_0312': 'trifunctional formate-tetrahydrofolate ligase/methenyltetrahydrofolate cyclohydrolase/methylenetetrahydrofolate dehydrogenase MIS1',\n",
       " 'gene_0313': 'ribosomal 60S subunit protein L19A',\n",
       " 'gene_0314': 'ADP/ATP carrier protein AAC3',\n",
       " 'gene_0315': 'hypothetical protein',\n",
       " 'gene_0316': 'Ist2p',\n",
       " 'gene_0317': 'replication factor C subunit 5',\n",
       " 'gene_0318': 'proliferating cell nuclear antigen',\n",
       " 'gene_0319': 'high-mobility group nucleosome-binding protein',\n",
       " 'gene_0320': 'hypothetical protein',\n",
       " 'gene_0321': 'Tim12p',\n",
       " 'gene_0322': 'acid phosphatase PHO3',\n",
       " 'gene_0323': 'acid phosphatase PHO5',\n",
       " 'gene_0324': 'putative tubulin tyrosine ligase',\n",
       " 'gene_0325': 'Rxt2p',\n",
       " 'gene_0326': 'hypothetical protein',\n",
       " 'gene_0327': 'ubiquitin-binding serine/threonine protein kinase VPS15',\n",
       " 'gene_0328': 'Mms4p',\n",
       " 'gene_0329': 'Fes1p',\n",
       " 'gene_0330': 'exocyst subunit EXO84',\n",
       " 'gene_0331': 'Sif2p',\n",
       " 'gene_0332': 'organic acid transporter',\n",
       " 'gene_0333': 'glucose-induced degradation complex subunit VID24',\n",
       " 'gene_0334': 'Pho88p',\n",
       " 'gene_0335': 'Iml3p',\n",
       " 'gene_0336': 'Aim3p',\n",
       " 'gene_0337': 'calmodulin',\n",
       " 'gene_0338': 'chitobiosyldiphosphodolichol beta-1,4 mannosyltransferase',\n",
       " 'gene_0339': 'ADP-ribose diphosphatase',\n",
       " 'gene_0340': 'Sus1p',\n",
       " 'gene_0341': 'transcription regulator CYC8',\n",
       " 'gene_0342': 'DNA repair protein RAD16',\n",
       " 'gene_0343': 'L-aminoadipate-semialdehyde dehydrogenase',\n",
       " 'gene_0344': 'transketolase TKL2',\n",
       " 'gene_0345': 'translation elongation factor EF-1 alpha',\n",
       " 'gene_0346': 'Mud1p',\n",
       " 'gene_0347': 'Cbp6p',\n",
       " 'gene_0348': 'glycine--tRNA ligase',\n",
       " 'gene_0349': 'mitochondrial 54S ribosomal protein YmL36',\n",
       " 'gene_0350': 'transcription factor TFIIIC subunit TFC1',\n",
       " 'gene_0351': 'type 2C protein phosphatase PTC4',\n",
       " 'gene_0352': 'alpha,alpha-trehalose-phosphate synthase (UDP-forming) TPS1',\n",
       " 'gene_0353': 'Meo1p',\n",
       " 'gene_0354': 'H(+)-transporting V1 sector ATPase subunit B',\n",
       " 'gene_0355': 'Atg14p',\n",
       " 'gene_0356': 'Opy1p',\n",
       " 'gene_0357': 'She3p',\n",
       " 'gene_0358': 'Ccz1p',\n",
       " 'gene_0359': 'Agp2p',\n",
       " 'gene_0360': 'protein arginine N-methyltransferase',\n",
       " 'gene_0361': 'cyclin-dependent protein kinase regulatory subunit CKS1',\n",
       " 'gene_0362': 'protein kinase MEC1',\n",
       " 'gene_0363': 'hypothetical protein',\n",
       " 'gene_0364': 'hypothetical protein',\n",
       " 'gene_0365': 'carboxypeptidase C',\n",
       " 'gene_0366': 'GTPase-activating protein IRA1',\n",
       " 'gene_0367': '25S rRNA (adenine2142-N1)-methyltransferase',\n",
       " 'gene_0368': 'putative ATP-dependent RNA helicase',\n",
       " 'gene_0369': 'translation termination factor eRF1',\n",
       " 'gene_0370': 'hypothetical protein',\n",
       " 'gene_0371': 'alcohol dehydrogenase ADH5',\n",
       " 'gene_0372': 'mitochondrial 37S ribosomal protein MRPS9',\n",
       " 'gene_0373': 'cationic amino acid transporter',\n",
       " 'gene_0374': 'Ysw1p',\n",
       " 'gene_0375': 'D-arabinose 1-dehydrogenase (NAD(P)(+)) ARA1',\n",
       " 'gene_0376': 'Tbs1p',\n",
       " 'gene_0377': 'Apd1p',\n",
       " 'gene_0378': 'U4/U6-U5 snRNP complex subunit SPP381',\n",
       " 'gene_0379': \"2,5-diamino-6-(ribosylamino)-4(3H)-pyrimidinone 5'-phosphate reductase\",\n",
       " 'gene_0380': 'DNA-directed RNA polymerase core subunit RPB5',\n",
       " 'gene_0381': 'HSP70/90 family co-chaperone CNS1',\n",
       " 'gene_0382': 'Sli15p',\n",
       " 'gene_0383': 'Ics2p',\n",
       " 'gene_0384': 'Amn1p',\n",
       " 'gene_0385': 'ketoreductase',\n",
       " 'gene_0386': 'cyclin-dependent serine/threonine-protein kinase CDC28',\n",
       " 'gene_0387': 'mannosylinositol phosphorylceramide synthase catalytic subunit CSH1',\n",
       " 'gene_0388': 'Tos1p',\n",
       " 'gene_0389': 'Ysy6p',\n",
       " 'gene_0390': 'Exo5p',\n",
       " 'gene_0391': 'Arf family GTPase ARL1',\n",
       " 'gene_0392': 'Ubs1p',\n",
       " 'gene_0393': 'prephenate dehydrogenase (NADP(+))',\n",
       " 'gene_0394': 'ribonuclease P/MRP protein subunit POP7',\n",
       " 'gene_0395': 'Pex32p',\n",
       " 'gene_0396': 'adenyl-nucleotide exchange factor SSE2',\n",
       " 'gene_0397': 'Npl4p',\n",
       " 'gene_0398': 'Sec63 complex subunit SEC66',\n",
       " 'gene_0399': 'Smy2p',\n",
       " 'gene_0400': 'Ump1p',\n",
       " 'gene_0401': 'Swd3p',\n",
       " 'gene_0402': '3-methyl-2-oxobutanoate hydroxymethyltransferase',\n",
       " 'gene_0403': 'medium-chain fatty acid ethyl ester synthase/esterase',\n",
       " 'gene_0404': 'mitofusin',\n",
       " 'gene_0405': 'Dtr1p',\n",
       " 'gene_0406': 'ribosomal 40S subunit protein S6B',\n",
       " 'gene_0407': 'Smp1p',\n",
       " 'gene_0408': 'hypothetical protein',\n",
       " 'gene_0409': 'phytoceramidase',\n",
       " 'gene_0410': 'hypothetical protein',\n",
       " 'gene_0411': 'Mba1p',\n",
       " 'gene_0412': 'Pch2p',\n",
       " 'gene_0413': 'putative ribosome biosynthesis protein GDT1',\n",
       " 'gene_0414': 'Ntc20p',\n",
       " 'gene_0415': 'ribosomal 40S subunit protein S9B',\n",
       " 'gene_0416': 'ribosomal 60S subunit protein L21A',\n",
       " 'gene_0417': 'Rim2p',\n",
       " 'gene_0418': 'Med8p',\n",
       " 'gene_0419': 'Aim4p',\n",
       " 'gene_0420': 'Msi1p',\n",
       " 'gene_0421': 'glucose-6-phosphate isomerase',\n",
       " 'gene_0422': 'hypothetical protein',\n",
       " 'gene_0423': 'hypothetical protein',\n",
       " 'gene_0424': 'hypothetical protein',\n",
       " 'gene_0425': 'chromatin modification protein',\n",
       " 'gene_0426': 'putative mannosyltransferase',\n",
       " 'gene_0427': 'phosphatidylinositol-3-phosphate-binding protein BEM1',\n",
       " 'gene_0428': 'hypothetical protein',\n",
       " 'gene_0429': 'derlin',\n",
       " 'gene_0430': 'hypothetical protein',\n",
       " 'gene_0431': 'mini-chromosome maintenance complex protein 7',\n",
       " 'gene_0432': 'Cos111p',\n",
       " 'gene_0433': 'triacylglycerol lipase',\n",
       " 'gene_0434': 'mannosyltransferase KTR3',\n",
       " 'gene_0435': 'Fth1p',\n",
       " 'gene_0436': 'bifunctional urea carboxylase/allophanate hydrolase',\n",
       " 'gene_0437': 'hypothetical protein',\n",
       " 'gene_0440': 'Erv15p',\n",
       " 'gene_0441': 'Ame1p',\n",
       " 'gene_0442': 'Ngr1p',\n",
       " 'gene_0443': 'bifunctional precorrin-2 dehydrogenase/sirohydrochlorin ferrochelatase MET8',\n",
       " 'gene_0444': 'Sds24p',\n",
       " 'gene_0445': 'Hpc2p',\n",
       " 'gene_0446': 'Ybp1p',\n",
       " 'gene_0447': 'Atg12p',\n",
       " 'gene_0448': 'pyruvate carboxylase 2',\n",
       " 'gene_0449': 'hypothetical protein',\n",
       " 'gene_0450': 'hypothetical protein',\n",
       " 'gene_0451': 'pyruvate dehydrogenase (acetyl-transferring) subunit E1 beta',\n",
       " 'gene_0452': 'hypothetical protein',\n",
       " 'gene_0453': 'Pcs60p',\n",
       " 'gene_0454': 'tyrosyl-DNA phosphodiesterase 1',\n",
       " 'gene_0455': 'hypothetical protein',\n",
       " 'gene_0456': 'Mcx1p',\n",
       " 'gene_0457': 'endonuclease',\n",
       " 'gene_0458': 'glucan 1,3-alpha-glucosidase ROT2',\n",
       " 'gene_0459': 'Om14p',\n",
       " 'gene_0460': 'hypothetical protein',\n",
       " 'gene_0462': 'Swc5p',\n",
       " 'gene_0463': 'Pbp2p',\n",
       " 'gene_0464': 'Dad3p',\n",
       " 'gene_0465': 'Arc40p',\n",
       " 'gene_0466': 'Vhc1p',\n",
       " 'gene_0467': 'mRNA (guanine-N7)-methyltransferase',\n",
       " 'gene_0468': 'DEAD-box RNA helicase PRP5',\n",
       " 'gene_0469': 'hypothetical protein',\n",
       " 'gene_0470': 'Ert1p',\n",
       " 'gene_0471': 'Thi2p',\n",
       " 'gene_0472': 'hypothetical protein',\n",
       " 'gene_0473': 'hypothetical protein',\n",
       " 'gene_0474': 'UDP-N-acetylglucosamine--dolichyl-phosphate N-acetylglucosaminephosphotransferase',\n",
       " 'gene_0475': 'glutathione peroxidase GPX2',\n",
       " 'gene_0476': 'chromatin-remodeling ATPase ISW1',\n",
       " 'gene_0477': 'diphthamide synthase',\n",
       " 'gene_0478': 'snoRNA-binding rRNA-processing protein ENP1',\n",
       " 'gene_0479': 'imidazoleglycerol-phosphate synthase',\n",
       " 'gene_0480': '3-deoxy-7-phosphoheptulonate synthase ARO4',\n",
       " 'gene_0481': 'Spo23p',\n",
       " 'gene_0482': 'mitochondrial 37S ribosomal protein MRPS5',\n",
       " 'gene_0483': 'bifunctional dITP/dUTP diphosphatase',\n",
       " 'gene_0484': 'Srb6p',\n",
       " 'gene_0485': 'TRAPP subunit TRS20',\n",
       " 'gene_0486': 'Mtc4p',\n",
       " 'gene_0487': 'hypothetical protein',\n",
       " 'gene_0488': 'riboflavin synthase',\n",
       " 'gene_0489': 'RNase P/RNase MRP complex subunit',\n",
       " 'gene_0490': 'Shg1p',\n",
       " 'gene_0491': 'hypothetical protein',\n",
       " 'gene_0492': 'Rgd1p',\n",
       " 'gene_0493': 'N-terminal protein methyltransferase',\n",
       " 'gene_0494': 'Mic12p',\n",
       " 'gene_0495': 'glycine hydroxymethyltransferase SHM1',\n",
       " 'gene_0496': 'Rab family GTPase YPT10',\n",
       " 'gene_0497': '3-dehydrosphinganine reductase',\n",
       " 'gene_0498': 'Rei1p',\n",
       " 'gene_0499': 'mitochondrial 54S ribosomal protein YmL37',\n",
       " 'gene_0500': 'Sdh8p',\n",
       " 'gene_0501': 'Bit2p',\n",
       " 'gene_0502': 'S-adenosylmethionine-dependent methyltransferase',\n",
       " 'gene_0503': 'Hsm3p',\n",
       " 'gene_0504': 'Ubx7p',\n",
       " 'gene_0505': 'serine/threonine protein kinase CHK1',\n",
       " 'gene_0506': 'DNA-binding protein RIF1',\n",
       " 'gene_0507': 'tyrosine/serine/threonine protein phosphatase PPS1',\n",
       " 'gene_0508': 'DNA polymerase epsilon noncatalytic subunit',\n",
       " 'gene_0509': 'Paf1p',\n",
       " 'gene_0510': 'SCF ubiquitin ligase complex subunit SAF1',\n",
       " 'gene_0511': 'glutamine amidotransferase subunit DUG2',\n",
       " 'gene_0512': 'mitochondrial 54S ribosomal protein YmL27',\n",
       " 'gene_0513': 'Ssh1p',\n",
       " 'gene_0514': 'metallo-dependent hydrolase superfamily protein',\n",
       " 'gene_0515': 'hypothetical protein',\n",
       " 'gene_0516': 'Ape3p',\n",
       " 'gene_0517': 'hypothetical protein',\n",
       " 'gene_0518': 'Apm3p',\n",
       " 'gene_0519': 'Snf5p',\n",
       " 'gene_0520': 'Bsd2p',\n",
       " 'gene_0521': 'Ctp1p',\n",
       " 'gene_0522': 'hypothetical protein',\n",
       " 'gene_0523': 'Vba2p',\n",
       " 'gene_0524': 'sulfate permease',\n",
       " 'gene_0525': 'cation-transporting P-type ATPase PCA1',\n",
       " 'gene_0526': 'Pho89p',\n",
       " 'gene_0527': 'hypothetical protein',\n",
       " 'gene_0528': 'transcription factor MAL33',\n",
       " 'gene_0529': 'maltose permease',\n",
       " 'gene_0530': 'hypothetical protein',\n",
       " 'gene_0531': 'alpha-glucosidase MAL32',\n",
       " 'gene_0532': 'seripauperin PAU24',\n",
       " 'gene_0533': 'Cos2p',\n",
       " 'gene_0536': 'glutathione exchanger',\n",
       " 'gene_0537': 'basic amino acid transporter',\n",
       " 'gene_0538': 'hypothetical protein',\n",
       " 'gene_0539': 'homeodomain mating type protein alpha2',\n",
       " 'gene_0540': 'transcriptional co-activator mating type protein alpha',\n",
       " 'gene_0541': 'L-serine/L-threonine ammonia-lyase CHA1',\n",
       " 'gene_0542': 'Vac17p',\n",
       " 'gene_0543': 'chromatin-modulating protein MRC1',\n",
       " 'gene_0544': 'ribosome biosynthesis protein KRR1',\n",
       " 'gene_0545': 'Fyv5p',\n",
       " 'gene_0546': 'Adf1p',\n",
       " 'gene_0547': 'Mic10p',\n",
       " 'gene_0548': 'metalloendopeptidase',\n",
       " 'gene_0549': 'Pex34p',\n",
       " 'gene_0550': 'Kar4p',\n",
       " 'gene_0551': 'Rdt1p',\n",
       " 'gene_0552': \"27S pre-rRNA (guanosine2922-2'-O)-methyltransferase\",\n",
       " 'gene_0553': 'Pbn1p',\n",
       " 'gene_0554': 'Lre1p',\n",
       " 'gene_0555': 'bifunctional AP-4-A phosphorylase/ADP sulfurylase',\n",
       " 'gene_0556': 'hypothetical protein',\n",
       " 'gene_0557': 'hypothetical protein',\n",
       " 'gene_0558': 'Sps22p',\n",
       " 'gene_0559': 'nicotinamide-nucleotide adenylyltransferase',\n",
       " 'gene_0560': 'Emc1p',\n",
       " 'gene_0561': 'Mgr1p',\n",
       " 'gene_0562': 'protein disulfide isomerase PDI1',\n",
       " 'gene_0563': 'hypothetical protein',\n",
       " 'gene_0564': 'glucokinase',\n",
       " 'gene_0565': 'glucose-induced degradation complex subunit GID7',\n",
       " 'gene_0566': 'Atg22p',\n",
       " 'gene_0567': 'Sro9p',\n",
       " 'gene_0568': 'Gfd2p',\n",
       " 'gene_0569': 'dithiol glutaredoxin GRX1',\n",
       " 'gene_0570': 'Lsb5p',\n",
       " 'gene_0571': 'Mxr2p',\n",
       " 'gene_0572': 'Ste50p',\n",
       " 'gene_0573': 'Rrp7p',\n",
       " 'gene_0574': 'trifunctional histidinol dehydrogenase/phosphoribosyl-AMP cyclohydrolase/phosphoribosyl-ATP diphosphatase',\n",
       " 'gene_0575': 'Bik1p',\n",
       " 'gene_0576': 'prion domain-containing protein RNQ1',\n",
       " 'gene_0577': 'Fus1p',\n",
       " 'gene_0578': 'putative nitroreductase',\n",
       " 'gene_0579': 'type II nitroreductase',\n",
       " 'gene_0580': 'amino acid transporter AGP1',\n",
       " 'gene_0581': 'serine/threonine protein kinase',\n",
       " 'gene_0583': 'hypothetical protein',\n",
       " 'gene_0584': 'gag-pol fusion protein',\n",
       " 'gene_0585': 'gag protein',\n",
       " 'gene_0587': '3-isopropylmalate dehydrogenase',\n",
       " 'gene_0588': 'Nfs1p',\n",
       " 'gene_0589': 'Dcc1p',\n",
       " 'gene_0590': 'Bud3p',\n",
       " 'gene_0591': 'hypothetical protein',\n",
       " 'gene_0592': 'single-stranded telomeric DNA-binding/mRNA-binding protein',\n",
       " 'gene_0593': 'Sgf29p',\n",
       " 'gene_0594': 'acetolactate synthase regulatory subunit',\n",
       " 'gene_0595': 'ubiquitin-binding ESCRT-I subunit protein STP22',\n",
       " 'gene_0596': 'H(+)-transporting V0 sector ATPase subunit e',\n",
       " 'gene_0598': 'Ldb16p',\n",
       " 'gene_0599': 'CDP-diacylglycerol--glycerol-3-phosphate 3-phosphatidyltransferase',\n",
       " 'gene_0600': 'hypothetical protein',\n",
       " 'gene_0601': 'protein retrieval receptor',\n",
       " 'gene_0602': 'hypothetical protein',\n",
       " 'gene_0603': 'hypothetical protein',\n",
       " 'gene_0604': 'hypothetical protein',\n",
       " 'gene_0605': 'septin CDC10',\n",
       " 'gene_0606': 'mitochondrial 54S ribosomal protein YmL32',\n",
       " 'gene_0607': 'flavodoxin-like fold family protein',\n",
       " 'gene_0608': 'citrate (Si)-synthase CIT2',\n",
       " 'gene_0609': 'hypothetical protein',\n",
       " 'gene_0611': 'DUP240 family protein',\n",
       " 'gene_0613': 'serine/threonine protein kinase SAT4',\n",
       " 'gene_0614': 'amphiphysin-like protein RVS161',\n",
       " 'gene_0615': 'Ady2p',\n",
       " 'gene_0616': 'putative ATP-dependent permease ADP1',\n",
       " 'gene_0617': 'phosphoglycerate kinase',\n",
       " 'gene_0618': 'DNA-directed DNA polymerase IV',\n",
       " 'gene_0619': 'Cto1p',\n",
       " 'gene_0622': 'hypothetical protein',\n",
       " 'gene_0623': 'Cwh43p',\n",
       " 'gene_0624': 'Srd1p',\n",
       " 'gene_0627': 'Mak32p',\n",
       " 'gene_0628': 'Pet18p',\n",
       " 'gene_0629': 'Mak31p',\n",
       " 'gene_0630': 'Htl1p',\n",
       " 'gene_0631': 'Hsp30p',\n",
       " 'gene_0632': 'hypothetical protein',\n",
       " 'gene_0633': 'hypothetical protein',\n",
       " 'gene_0634': 'asparagine--tRNA ligase SLM5',\n",
       " 'gene_0635': 'hypothetical protein',\n",
       " 'gene_0636': 'proteolipid ATPase',\n",
       " 'gene_0637': 'hypothetical protein',\n",
       " 'gene_0638': 'nucleotide diphosphatase/phosphodiesterase NPP1',\n",
       " 'gene_0639': 'putative GTPase RHB1',\n",
       " 'gene_0641': 'Fen2p',\n",
       " 'gene_0642': 'Rim1p',\n",
       " 'gene_0643': 'Syp1p',\n",
       " 'gene_0645': 'ribosomal 40S subunit protein S14A',\n",
       " 'gene_0647': 'Bph1p',\n",
       " 'gene_0648': 'Snt1p',\n",
       " 'gene_0649': 'fatty acid elongase ELO2',\n",
       " 'gene_0650': 'exosome non-catalytic core subunit RRP43',\n",
       " 'gene_0651': 'putative ribokinase',\n",
       " 'gene_0652': 'SPX domain-containing inorganic phosphate transporter',\n",
       " 'gene_0653': 'Ras family guanine nucleotide exchange factor BUD5',\n",
       " 'gene_0654': 'homeodomain mating type protein alpha2',\n",
       " 'gene_0655': 'transcriptional co-activator mating type protein alpha',\n",
       " 'gene_0656': 'hypothetical protein',\n",
       " 'gene_0657': 'Taf2p',\n",
       " 'gene_0658': 'hypothetical protein',\n",
       " 'gene_0659': 'Per1p',\n",
       " 'gene_0660': 'Rrt12p',\n",
       " 'gene_0661': 'mitochondrial 54S ribosomal protein IMG1',\n",
       " 'gene_0662': '18S rRNA (guanine1575-N7)-methyltransferase',\n",
       " 'gene_0663': 'sterol acyltransferase',\n",
       " 'gene_0664': 'hypothetical protein',\n",
       " 'gene_0665': 'hypothetical protein',\n",
       " 'gene_0666': 'Rsc6p',\n",
       " 'gene_0667': 'threonine synthase THR4',\n",
       " 'gene_0668': 'Ctr86p',\n",
       " 'gene_0669': 'snoRNA-binding rRNA-processing protein PWP2',\n",
       " 'gene_0670': 'Yih1p',\n",
       " 'gene_0671': 'Tah1p',\n",
       " 'gene_0672': 'hypothetical protein',\n",
       " 'gene_0674': 'U2 snRNP complex subunit BUD31',\n",
       " 'gene_0675': 'Hcm1p',\n",
       " 'gene_0676': 'E3 ubiquitin-protein ligase RAD18',\n",
       " 'gene_0677': 'Sed4p',\n",
       " 'gene_0678': 'triglyceride lipase ATG15',\n",
       " 'gene_0679': 'peptidylprolyl isomerase family protein CPR4',\n",
       " 'gene_0680': 'mitochondrial 54S ribosomal protein IMG2',\n",
       " 'gene_0681': 'Rsa4p',\n",
       " 'gene_0682': 'mitogen-activated protein kinase kinase kinase SSK22',\n",
       " 'gene_0683': 'Sol2p',\n",
       " 'gene_0684': 'cystinosin-like protein ERS1',\n",
       " 'gene_0685': 'Ego2p',\n",
       " 'gene_0686': 'Fub1p',\n",
       " 'gene_0687': 'Pat1p',\n",
       " 'gene_0688': 'type 2C protein phosphatase PTC6',\n",
       " 'gene_0689': 'Srb8p',\n",
       " 'gene_0690': 'Ahc2p',\n",
       " 'gene_0691': 'Trx3p',\n",
       " 'gene_0692': 'chromatin-silencing transcriptional regulator TUP1',\n",
       " 'gene_0693': 'hypothetical protein',\n",
       " 'gene_0694': 'Csm1p',\n",
       " 'gene_0695': 'hypothetical protein',\n",
       " 'gene_0696': 'Abp1p',\n",
       " 'gene_0697': 'Fig2p',\n",
       " 'gene_0698': 'hypothetical protein',\n",
       " 'gene_0699': 'putative serine/threonine protein kinase KIN82',\n",
       " 'gene_0700': 'mismatch repair protein MSH3',\n",
       " 'gene_0701': 'CCR4-NOT core subunit CDC39',\n",
       " 'gene_0702': 'aminophospholipid translocase regulatory protein CDC50',\n",
       " 'gene_0703': 'Oca4p',\n",
       " 'gene_0704': 'hypothetical protein',\n",
       " 'gene_0705': 'homeodomain mating type protein a2',\n",
       " 'gene_0706': 'Hmra1p',\n",
       " 'gene_0708': 'Git1p',\n",
       " 'gene_0709': 'hypothetical protein',\n",
       " 'gene_0710': 'hypothetical protein',\n",
       " 'gene_0711': 'hypothetical protein',\n",
       " 'gene_0712': 'hypothetical protein',\n",
       " 'gene_0713': 'seripauperin PAU3',\n",
       " 'gene_0714': 'NADP-dependent alcohol dehydrogenase',\n",
       " 'gene_0715': 'Rds1p',\n",
       " 'gene_0716': 'putative aryl-alcohol dehydrogenase',\n",
       " 'gene_0717': 'hypothetical protein',\n",
       " 'gene_0718': 'Cos7p',\n",
       " 'gene_0719': 'alpha-glucoside permease',\n",
       " 'gene_0720': 'L-iditol 2-dehydrogenase SOR2',\n",
       " 'gene_0721': 'hexose transporter HXT15',\n",
       " 'gene_0722': '4-amino-5-hydroxymethyl-2-methylpyrimidine phosphate synthase',\n",
       " 'gene_0723': 'putative aryl-alcohol dehydrogenase',\n",
       " 'gene_0724': 'hypothetical protein',\n",
       " 'gene_0725': 'hypothetical protein',\n",
       " 'gene_0726': 'Lrg1p',\n",
       " 'gene_0727': 'Ady3p',\n",
       " 'gene_0728': 'guanine deaminase',\n",
       " 'gene_0729': 'Aim6p',\n",
       " 'gene_0730': '4-nitrophenylphosphatase',\n",
       " 'gene_0731': 'Ypd1p',\n",
       " 'gene_0732': 'Gyp7p',\n",
       " 'gene_0733': 'Mfg1p',\n",
       " 'gene_0734': 'olichyl-diphosphooligosaccharide--protein glycotransferase OST4',\n",
       " 'gene_0735': 'Bre4p',\n",
       " 'gene_0736': 'tyrosine protein phosphatase PTP1',\n",
       " 'gene_0737': 'Hsp70 family ATPase SSB1',\n",
       " 'gene_0738': 'Hop',\n",
       " 'gene_0739': 'Gcs1p',\n",
       " 'gene_0740': 'septin SHS1',\n",
       " 'gene_0741': 'Whi4p',\n",
       " 'gene_0742': 'Hbt1p',\n",
       " 'gene_0743': 'Fmp45p',\n",
       " 'gene_0744': 'telomere-binding protein CDC13',\n",
       " 'gene_0745': 'D-tyrosyl-tRNA(Tyr) deacylase',\n",
       " 'gene_0746': 'hypothetical protein',\n",
       " 'gene_0747': 'translocation channel protein TIM22',\n",
       " 'gene_0748': 'COP9 signalosome catalytic subunit RRI1',\n",
       " 'gene_0749': 'glutamate dehydrogenase (NAD(+))',\n",
       " 'gene_0750': 'serine/threonine protein kinase PRR2',\n",
       " 'gene_0751': 'Nop6p',\n",
       " 'gene_0752': 'Shr3p',\n",
       " 'gene_0753': 'hypothetical protein',\n",
       " 'gene_0755': 'Uga4p',\n",
       " 'gene_0756': 'Cwc2p',\n",
       " 'gene_0757': 'snoRNA-binding protein NHP2',\n",
       " 'gene_0758': 'nucleoporin GLE1',\n",
       " 'gene_0759': 'hypothetical protein',\n",
       " 'gene_0760': 'hydroxymethylbilane synthase',\n",
       " 'gene_0761': 'Rtn2p',\n",
       " 'gene_0762': 'Ack1p',\n",
       " 'gene_0763': 'mitochondrial 54S ribosomal protein YmL11',\n",
       " 'gene_0764': 'tRNA (guanine46-N7)-methyltransferase',\n",
       " 'gene_0765': 'methylated-DNA--protein-cysteine methyltransferase',\n",
       " 'gene_0766': 'hypothetical protein',\n",
       " 'gene_0767': 'Ggc1p',\n",
       " 'gene_0768': 'Asf2p',\n",
       " 'gene_0769': 'Sec31p',\n",
       " 'gene_0770': 'glucose sensor',\n",
       " 'gene_0771': 'ditrans,polycis-polyprenyl diphosphate synthase',\n",
       " 'gene_0772': 'Arf family GTPase ARF1',\n",
       " 'gene_0773': 'ribosomal 60S subunit protein L35A',\n",
       " 'gene_0774': 'ubiquitin-ubiquitin ligase UFD2',\n",
       " 'gene_0775': 'Rbs1p',\n",
       " 'gene_0776': 'phosphoprotein phosphatase 2A catalytic subunit PPH22',\n",
       " 'gene_0777': 'hypothetical protein',\n",
       " 'gene_0778': 'H(+)-transporting V1 sector ATPase subunit A',\n",
       " 'gene_0779': 'ribosomal 60S subunit protein L41A',\n",
       " 'gene_0780': 'hypothetical protein',\n",
       " 'gene_0781': 'homocitrate synthase LYS20',\n",
       " 'gene_0782': 'ATPase inhibitor',\n",
       " 'gene_0783': 'hypothetical protein',\n",
       " 'gene_0784': 'Pcl9p',\n",
       " 'gene_0785': 'D-lactate dehydrogenase',\n",
       " 'gene_0786': 'hypothetical protein',\n",
       " 'gene_0787': 'hypothetical protein',\n",
       " 'gene_0788': 'TRAMP complex RNA-binding subunit',\n",
       " 'gene_0789': 'D-lactate dehydrogenase',\n",
       " 'gene_0790': 'Par32p',\n",
       " 'gene_0791': 'glutamate synthase (NADH)',\n",
       " 'gene_0792': 'Uga3p',\n",
       " 'gene_0793': 'Ugx2p',\n",
       " 'gene_0794': 'bifunctional alcohol dehydrogenase/S-(hydroxymethyl)glutathione dehydrogenase',\n",
       " 'gene_0795': 'Nrp1p',\n",
       " 'gene_0796': 'nucleoside-triphosphatase',\n",
       " 'gene_0797': 'CCR4-NOT core subunit CDC36',\n",
       " 'gene_0798': 'DNA ligase (ATP) CDC9',\n",
       " 'gene_0799': 'epsin',\n",
       " 'gene_0800': 'Mhf2p',\n",
       " 'gene_0801': 'DExD/H-box ATP-dependent RNA helicase DHH1',\n",
       " 'gene_0802': 'hypothetical protein',\n",
       " 'gene_0803': 'mitogen-activated protein kinase kinase STE7',\n",
       " 'gene_0804': 'hypothetical protein',\n",
       " 'gene_0805': 'Cmr1p',\n",
       " 'gene_0806': 'B-type cyclin CLB3',\n",
       " 'gene_0807': 'MutS family protein MSH5',\n",
       " 'gene_0808': 'rRNA-processing protein SAS10',\n",
       " 'gene_0809': 'DNA-directed RNA polymerase III subunit C53',\n",
       " 'gene_0810': 'autophagy protein ATG9',\n",
       " 'gene_0811': 'snoRNA-binding rRNA-processing protein NOP14',\n",
       " 'gene_0812': 'proteasome regulatory particle lid subunit RPN5',\n",
       " 'gene_0813': 'Ldb17p',\n",
       " 'gene_0814': 'coatomer subunit alpha',\n",
       " 'gene_0815': 'hypothetical protein',\n",
       " 'gene_0816': 'chaperonin-containing T-complex subunit CCT4',\n",
       " 'gene_0817': 'cardiolipin synthase',\n",
       " 'gene_0818': 'biotin--[acetyl-CoA-carboxylase] ligase BPL1',\n",
       " 'gene_0819': 'DNA-directed RNA polymerase II core subunit RPO21',\n",
       " 'gene_0820': 'Scm3p',\n",
       " 'gene_0821': 'glucose sensor',\n",
       " 'gene_0822': 'Arf family GTPase ARF2',\n",
       " 'gene_0823': 'ribosomal 60S subunit protein L35B',\n",
       " 'gene_0824': 'Rdi1p',\n",
       " 'gene_0825': 'phosphoprotein phosphatase 2A catalytic subunit PPH21',\n",
       " 'gene_0826': 'ribosomal 60S subunit protein L41B',\n",
       " 'gene_0827': 'Srf1p',\n",
       " 'gene_0828': 'cullin CDC53',\n",
       " 'gene_0829': 'homocitrate synthase LYS21',\n",
       " 'gene_0830': 'ATPase-binding protein',\n",
       " 'gene_0831': 'ribosomal protein P1B',\n",
       " 'gene_0832': 'hypothetical protein',\n",
       " 'gene_0833': 'Vcx1p',\n",
       " 'gene_0834': 'cyclin PCL2',\n",
       " 'gene_0835': 'AAA family ATPase CDC48',\n",
       " 'gene_0836': \"adenosine 5'-monophosphoramidase\",\n",
       " 'gene_0837': 'aldo-keto reductase superfamily protein',\n",
       " 'gene_0838': 'Sna4p',\n",
       " 'gene_0839': 'ubiquitin-specific protease UBP1',\n",
       " 'gene_0840': 'hypothetical protein',\n",
       " 'gene_0841': 'ferroxidase',\n",
       " 'gene_0842': 'Hem25p',\n",
       " 'gene_0843': 'Cyk3p',\n",
       " 'gene_0844': 'Nup84p',\n",
       " 'gene_0845': 'Iwr1p',\n",
       " 'gene_0846': 'short-chain dehydrogenase/reductase',\n",
       " 'gene_0847': 'Atg20p',\n",
       " 'gene_0848': \"tRNA (guanosine(18)-2'-O)-methyltransferase\",\n",
       " 'gene_0849': 'exosome non-catalytic core subunit RRP42',\n",
       " 'gene_0850': 'Tma17p',\n",
       " 'gene_0851': 'putative lipase',\n",
       " 'gene_0852': 'TFIIH complex serine/threonine-protein kinase subunit KIN28',\n",
       " 'gene_0853': 'Mss2p',\n",
       " 'gene_0854': 'Pho2p',\n",
       " 'gene_0855': 'Smc5-Smc6 complex subunit NSE4',\n",
       " 'gene_0856': 'putative N(6)-L-threonylcarbamoyladenine synthase',\n",
       " 'gene_0857': 'UDP-N-acetylglucosamine diphosphorylase',\n",
       " 'gene_0858': 'DNA-directed DNA polymerase delta POL3',\n",
       " 'gene_0859': 'serine/threonine protein kinase DUN1',\n",
       " 'gene_0860': 'guanine nucleotide exchange factor GET3',\n",
       " 'gene_0861': 'Bug1p',\n",
       " 'gene_0862': 'U4/U6-U5 snRNP complex subunit SNU23',\n",
       " 'gene_0863': 'proteasome regulatory particle lid subunit RPN6',\n",
       " 'gene_0864': 'dolichyl-phosphate-mannose-protein mannosyltransferase PMT1',\n",
       " 'gene_0865': 'putative dolichyl-phosphate-mannose-protein mannosyltransferase PMT5',\n",
       " 'gene_0866': 'RNA-binding signal recognition particle subunit SRP14',\n",
       " 'gene_0867': 'Ubx3p',\n",
       " 'gene_0868': 'protein farnesyltransferase',\n",
       " 'gene_0869': 'Nur1p',\n",
       " 'gene_0870': 'FG-nucleoporin ASM4',\n",
       " 'gene_0871': 'Luc7p',\n",
       " 'gene_0872': 'carboxymethylenebutenolidase',\n",
       " 'gene_0873': 'hypothetical protein',\n",
       " 'gene_0874': 'NADH-ubiquinone reductase (H(+)-translocating) NDE2',\n",
       " 'gene_0875': 'ATP-dependent RNA helicase SUB2',\n",
       " 'gene_0876': 'ribosomal 40S subunit protein S16B',\n",
       " 'gene_0877': 'ribosomal 60S subunit protein L13A',\n",
       " 'gene_0878': 'ribosomal protein P1A',\n",
       " 'gene_0879': 'branched-chain-2-oxoacid decarboxylase THI3',\n",
       " 'gene_0880': 'putative serine/threonine protein kinase MRK1',\n",
       " 'gene_0881': 'malate dehydrogenase MDH3',\n",
       " 'gene_0882': 'Vam6p',\n",
       " 'gene_0883': 'Rxt3p',\n",
       " 'gene_0884': 'ribosomal 60S subunit protein L31A',\n",
       " 'gene_0886': 'E3 ubiquitin-protein ligase BRE1',\n",
       " 'gene_0887': 'Ahk1p',\n",
       " 'gene_0888': 'Yet3p',\n",
       " 'gene_0889': 'Bdf2p',\n",
       " 'gene_0890': 'Cbs1p',\n",
       " 'gene_0891': 'cytochrome c oxidase subunit VIIa',\n",
       " 'gene_0892': 'isocitrate dehydrogenase (NADP(+)) IDP1',\n",
       " 'gene_0893': 'Pex19p',\n",
       " 'gene_0894': 'E2 SUMO-conjugating protein UBC9',\n",
       " 'gene_0895': 'Syo1p',\n",
       " 'gene_0896': 'ribosomal 40S subunit protein S29B',\n",
       " 'gene_0897': 'Tsr1p',\n",
       " 'gene_0898': 'Rad59p',\n",
       " 'gene_0899': 'Uso1p',\n",
       " 'gene_0900': 'hypothetical protein',\n",
       " 'gene_0901': 'transcription factor MBP1',\n",
       " 'gene_0902': 'mannose-1-phosphate guanylyltransferase',\n",
       " 'gene_0904': 'Mch1p',\n",
       " 'gene_0905': 'Pbp4p',\n",
       " 'gene_0906': '1-acylglycerol-3-phosphate O-acyltransferase SLC1',\n",
       " 'gene_0907': 'Lhp1p',\n",
       " 'gene_0908': 'Knh1p',\n",
       " 'gene_0909': 'Stp4p',\n",
       " 'gene_0910': 'type 2A-related serine/threonine-protein phosphatase SIT4',\n",
       " 'gene_0911': 'sterol transporter',\n",
       " 'gene_0912': 'mitochondrial 37S ribosomal protein YmS-T',\n",
       " 'gene_0913': 'FMN adenylyltransferase',\n",
       " 'gene_0914': 'Mtf2p',\n",
       " 'gene_0915': 'Prp11p',\n",
       " 'gene_0916': 'NAD-dependent histone deacetylase SIR2',\n",
       " 'gene_0917': 'peptide alpha-N-acetyltransferase complex A subunit NAT1',\n",
       " 'gene_0918': 'pheromone-regulated protein PRM7',\n",
       " 'gene_0919': 'Bsc1p',\n",
       " 'gene_0920': 'pseudouridine synthase PUS9',\n",
       " 'gene_0921': 'Gpr1p',\n",
       " 'gene_0922': 'tRNA-5-taurinomethyluridine 2-sulfurtransferase',\n",
       " 'gene_0923': 'putative ATP-dependent RNA helicase DBP10',\n",
       " 'gene_0924': 'SF3a splicing factor complex subunit PRP9',\n",
       " 'gene_0925': 'actin-related protein 2',\n",
       " 'gene_0926': 'serine/threonine/tyrosine protein kinase MPS1',\n",
       " 'gene_0927': 'Mrx9p',\n",
       " 'gene_0928': 'putative serine/threonine protein kinase RTK1',\n",
       " 'gene_0929': 'putative acid phosphatase DIA3',\n",
       " 'gene_0930': 'hypothetical protein',\n",
       " 'gene_0932': 'glycerol-3-phosphate dehydrogenase (NAD(+)) GPD1',\n",
       " 'gene_0933': 'phosphoglycerate mutase family protein GPM2',\n",
       " 'gene_0934': 'stress-regulated transcription factor RPN4',\n",
       " 'gene_0935': 'oxysterol-binding protein related protein OSH2',\n",
       " 'gene_0936': 'Erp3p',\n",
       " 'gene_0937': 'serine/threonine protein kinase CDC7',\n",
       " 'gene_0938': 'trans-2-enoyl-CoA reductase (NADPH) TSC13',\n",
       " 'gene_0939': 'rRNA methyltransferase NOP1',\n",
       " 'gene_0940': 'SUMO-targeted ubiquitin ligase complex subunit SLX5',\n",
       " 'gene_0941': 'hypothetical protein',\n",
       " 'gene_0942': 'glutathione-disulfide reductase GRX6',\n",
       " 'gene_0943': 'hypothetical protein',\n",
       " 'gene_0944': 'anaphase promoting complex subunit 11',\n",
       " 'gene_0946': 'hypothetical protein',\n",
       " 'gene_0948': 'proteasome regulatory particle base subunit RPT2',\n",
       " 'gene_0949': 'type 2C protein phosphatase PTC1',\n",
       " 'gene_0950': 'Med2p',\n",
       " 'gene_0951': 'F1F0 ATP synthase subunit delta',\n",
       " 'gene_0952': 'kleisin alpha',\n",
       " 'gene_0953': 'Nhp10p',\n",
       " 'gene_0954': 'Rmd1p',\n",
       " 'gene_0955': 'alpha,alpha-trehalase NTH1',\n",
       " 'gene_0956': 'Ran GTPase-binding protein YRB1',\n",
       " 'gene_0957': 'Rcr2p',\n",
       " 'gene_0958': 'hypothetical protein',\n",
       " 'gene_0959': 'putative DNA-dependent ATPase RAD57',\n",
       " 'gene_0960': 'RNA polymerase III-inhibiting protein MAF1',\n",
       " 'gene_0961': 'Sok1p',\n",
       " 'gene_0962': 'phosphoribosylanthranilate isomerase TRP1',\n",
       " 'gene_0963': 'transcriptional regulator GAL3',\n",
       " 'gene_0964': 'hypothetical protein',\n",
       " 'gene_0965': 'ATP-binding cassette transporter SNQ2',\n",
       " 'gene_0966': 'ribosomal 60S subunit protein L4B',\n",
       " 'gene_0967': 'DNA replication protein PSF1',\n",
       " 'gene_0968': 'Rad61p',\n",
       " 'gene_0969': 'Hed1p',\n",
       " 'gene_0970': 'Dad1p',\n",
       " 'gene_0971': 'inositol polyphosphate kinase KCS1',\n",
       " 'gene_0972': 'putative acyltransferase',\n",
       " 'gene_0973': 'glycine decarboxylase subunit T',\n",
       " 'gene_0974': 'putative uridine kinase DAS2',\n",
       " 'gene_0975': 'ATP-dependent RNA helicase FAL1',\n",
       " 'gene_0976': 'Atg31p',\n",
       " 'gene_0978': 'serine--tRNA ligase SES1',\n",
       " 'gene_0979': 'ribosomal 40S subunit protein S11A',\n",
       " 'gene_0980': 'Nsi1p',\n",
       " 'gene_0981': 'Vps54p',\n",
       " 'gene_0982': 'protein phosphatase regulator REG1',\n",
       " 'gene_0983': 'hypothetical protein',\n",
       " 'gene_0984': 'Rad28p',\n",
       " 'gene_0985': 'Mix14p',\n",
       " 'gene_0986': 'flavodoxin-like fold family protein',\n",
       " 'gene_0987': 'Mrh1p',\n",
       " 'gene_0988': 'Lys14p',\n",
       " 'gene_0989': 'gag-pol fusion protein',\n",
       " 'gene_0990': 'gag protein',\n",
       " 'gene_0992': 'hypothetical protein',\n",
       " 'gene_0994': 'hypothetical protein',\n",
       " 'gene_0995': '3-deoxy-7-phosphoheptulonate synthase ARO3',\n",
       " 'gene_0996': 'Ehd3p',\n",
       " 'gene_0997': 'lysine--tRNA ligase KRS1',\n",
       " 'gene_0998': 'putative Na(+)-exporting P-type ATPase ENA5',\n",
       " 'gene_0999': 'Na(+)-exporting P-type ATPase ENA2',\n",
       " 'gene_1000': 'Na(+)/Li(+)-exporting P-type ATPase ENA1',\n",
       " 'gene_1001': 'mitochondrial 37S ribosomal protein RSM10',\n",
       " 'gene_1002': 'hypothetical protein',\n",
       " 'gene_1004': 'transcriptional regulator NRG1',\n",
       " 'gene_1005': 'coproporphyrinogen oxidase',\n",
       " 'gene_1006': 'DNA-directed RNA polymerase III core subunit RPC11',\n",
       " 'gene_1007': 'amino acid transporter BAP3',\n",
       " 'gene_1008': 'uroporphyrinogen decarboxylase HEM12',\n",
       " 'gene_1009': 'Vms1p',\n",
       " 'gene_1010': 'triose-phosphate isomerase TPI1',\n",
       " 'gene_1011': 'acid phosphatase DET1',\n",
       " 'gene_1012': 'protein serine/threonine kinase activating protein DBF4',\n",
       " 'gene_1013': 'SCF E2 ubiquitin-protein ligase catalytic subunit CDC34',\n",
       " 'gene_1014': 'Pst1p',\n",
       " 'gene_1015': 'Emc10p',\n",
       " 'gene_1016': 'Yos9p',\n",
       " 'gene_1017': 'triglyceride lipase',\n",
       " 'gene_1020': 'E2 ubiquitin-conjugating protein UBC5',\n",
       " 'gene_1021': 'RNA-binding ribosome biosynthesis protein MAK21',\n",
       " 'gene_1022': 'hypothetical protein',\n",
       " 'gene_1023': 'serine C-palmitoyltransferase LCB2',\n",
       " 'gene_1024': 'Aim7p',\n",
       " 'gene_1025': 'ribosomal 40S subunit protein S13',\n",
       " 'gene_1026': 'Rrg1p',\n",
       " 'gene_1027': 'putative protein-serine/threonine phosphatase',\n",
       " 'gene_1028': 'protein-tyrosine-phosphatase',\n",
       " 'gene_1029': 'Dos2p',\n",
       " 'gene_1030': 'ubiquitin-specific protease DOA4',\n",
       " 'gene_1031': 'Fmp16p',\n",
       " 'gene_1032': 'polyamine acetyltransferase',\n",
       " 'gene_1033': 'inositolphosphotransferase',\n",
       " 'gene_1034': 'Snf11p',\n",
       " 'gene_1035': 'trehalose-phosphatase TPS2',\n",
       " 'gene_1036': 'phosphoprotein phosphatase PP4 catalytic subunit PPH3',\n",
       " 'gene_1037': 'putative DNA-dependent ATPase RAD55',\n",
       " 'gene_1038': 'Sed1p',\n",
       " 'gene_1039': 'Shu2p',\n",
       " 'gene_1040': 'Pet100p',\n",
       " 'gene_1041': 'TFIIH complex subunit TFB5',\n",
       " 'gene_1042': 'Vps41p',\n",
       " 'gene_1043': 'Pdc2p',\n",
       " 'gene_1044': 'Stn1p',\n",
       " 'gene_1045': '25S rRNA (adenine645-N1)-methyltransferase',\n",
       " 'gene_1046': 'Tvp23p',\n",
       " 'gene_1047': 'Afr1p',\n",
       " 'gene_1048': 'translocon subunit SSS1',\n",
       " 'gene_1049': 'Rrp1p',\n",
       " 'gene_1050': 'mRNA splicing protein SLU7',\n",
       " 'gene_1052': 'hypothetical protein',\n",
       " 'gene_1053': 'hypothetical protein',\n",
       " ...}"
      ]
     },
     "execution_count": 108,
     "metadata": {},
     "output_type": "execute_result"
    }
   ],
   "source": [
    "D"
   ]
  },
  {
   "cell_type": "code",
   "execution_count": 109,
   "metadata": {},
   "outputs": [],
   "source": [
    "# ファイルに書き出しておく\n",
    "out_file = \"gene_id_product.tsv\"\n",
    "with open(out_file, \"w\") as f:\n",
    "    for key, value in D.items():\n",
    "        f.write(key + \"\\t\" + value + \"\\n\")"
   ]
  },
  {
   "cell_type": "code",
   "execution_count": null,
   "metadata": {
    "collapsed": true
   },
   "outputs": [],
   "source": []
  },
  {
   "cell_type": "code",
   "execution_count": null,
   "metadata": {},
   "outputs": [],
   "source": []
  },
  {
   "cell_type": "code",
   "execution_count": null,
   "metadata": {
    "collapsed": true
   },
   "outputs": [],
   "source": []
  },
  {
   "cell_type": "code",
   "execution_count": null,
   "metadata": {
    "collapsed": true
   },
   "outputs": [],
   "source": []
  },
  {
   "cell_type": "code",
   "execution_count": null,
   "metadata": {
    "collapsed": true
   },
   "outputs": [],
   "source": []
  }
 ],
 "metadata": {
  "kernelspec": {
   "display_name": "Python 3",
   "language": "python",
   "name": "python3"
  },
  "language_info": {
   "codemirror_mode": {
    "name": "ipython",
    "version": 3
   },
   "file_extension": ".py",
   "mimetype": "text/x-python",
   "name": "python",
   "nbconvert_exporter": "python",
   "pygments_lexer": "ipython3",
   "version": "3.6.4"
  },
  "toc": {
   "colors": {
    "hover_highlight": "#DAA520",
    "running_highlight": "#FF0000",
    "selected_highlight": "#FFD700"
   },
   "moveMenuLeft": true,
   "nav_menu": {
    "height": "84px",
    "width": "253px"
   },
   "navigate_menu": true,
   "number_sections": true,
   "sideBar": true,
   "threshold": 4,
   "toc_cell": false,
   "toc_section_display": "block",
   "toc_window_display": false
  }
 },
 "nbformat": 4,
 "nbformat_minor": 2
}
