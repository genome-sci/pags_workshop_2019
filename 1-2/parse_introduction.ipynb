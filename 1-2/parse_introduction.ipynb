{
 "cells": [
  {
   "cell_type": "markdown",
   "metadata": {},
   "source": [
    "# 文字列処理"
   ]
  },
  {
   "cell_type": "markdown",
   "metadata": {},
   "source": [
    "パソコンで扱うファイルは，テキストファイルとバイナリファイルに大別される．\n",
    "テキストファイル内に記載されている文字列情報の中から，目的の情報を抽出することが有益となることが多い．また，頻繁にその対応に迫られる．\n",
    "\n",
    "生命科学においては，様々なフォーマットに様々な情報が記載されており，一つのファイルで全ての情報を得ることが容易ではない．多くの場合，複数のファイルから相互参照などを行うことで目的の情報を抽出することになる．\n",
    "\n",
    "そのためにも，Pythonなどのスクリプト言語によって，テキストファイル処理を習得することは，生物情報をより広範に整理・収集する有効な手立てとなる．\n",
    "\n",
    "**参考文献**\n",
    "1. Generic feature format version 3 (gff3). Available at: https://github.com/The-Sequence-Ontology/Specifications/blob/master/gff3.md.\n",
    "1. Pysam. Available at: https://pysam.readthedocs.io/en/latest/api.html.\n",
    "1. 柴田淳. みんなのPython 第4版. (SB クリエイティブ株式会社, 2017)"
   ]
  },
  {
   "cell_type": "markdown",
   "metadata": {},
   "source": [
    "## テキストファイル"
   ]
  },
  {
   "cell_type": "markdown",
   "metadata": {},
   "source": [
    "テキストファイル (Text File) は，文字など文字コードによって表されるデータだけが含まれるファイルのことで，ファイルフォーマットの一種と見なすこともできる．互換性が高く幅広い環境でデータを利用できる利点がある一方，単純な文字だけしか扱えないという制限がある．\n",
    "\n",
    "- gff\n",
    "- sam\n",
    "- fastq\n",
    "- fasta\n",
    "\n",
    "gffやsamのように，複数列から成るテキストファイルを扱うことが多い．列の区切り文字としては，``comma(,)``，``タブ(\\t)``，``スペース( )``が主に使用されている．"
   ]
  },
  {
   "cell_type": "markdown",
   "metadata": {},
   "source": [
    "## バイナリファイル"
   ]
  },
  {
   "cell_type": "markdown",
   "metadata": {},
   "source": [
    "テキストとはデータの内容すべてを人間が読んで理解できる (human-readable) もの，バイナリとはそうでないものを指す．\n",
    "\n",
    "- bam\n",
    "- gz"
   ]
  },
  {
   "cell_type": "markdown",
   "metadata": {},
   "source": [
    "## ファイルの読み書き"
   ]
  },
  {
   "cell_type": "markdown",
   "metadata": {},
   "source": [
    "プログラムで処理した結果を保存しておきたい場合や，外部からPythonにデータを取り込む場合にファイルを使用する．\n",
    "\n",
    "Pythonでファイルを操作するためには，組み込み型の**ファイル型**を使う．"
   ]
  },
  {
   "cell_type": "markdown",
   "metadata": {},
   "source": [
    "### ファイルを読み込む"
   ]
  },
  {
   "cell_type": "markdown",
   "metadata": {},
   "source": [
    "ファイルの読み込みについていくつかスクリプトを実行する．\n",
    "\n",
    "```python\n",
    "with open (filename, 'r') as f: ## 'r'は省略化\n",
    "```"
   ]
  },
  {
   "cell_type": "markdown",
   "metadata": {},
   "source": [
    "### ファイルに書き込む"
   ]
  },
  {
   "cell_type": "markdown",
   "metadata": {},
   "source": [
    "ファイルの書き込みは，読み込み同様`open`を使用する．ただし，`mode='w'`とする．\n",
    "\n",
    "```python\n",
    "with open (filename, 'w') as f:\n",
    "```"
   ]
  },
  {
   "cell_type": "markdown",
   "metadata": {},
   "source": [
    "### 読み込み1"
   ]
  },
  {
   "cell_type": "markdown",
   "metadata": {},
   "source": [
    "s288c_n20.gff を読み込んで出力する.一行目だけ出力する."
   ]
  },
  {
   "cell_type": "code",
   "execution_count": 6,
   "metadata": {},
   "outputs": [
    {
     "name": "stdout",
     "output_type": "stream",
     "text": [
      "##gff-version 3\n",
      "\n"
     ]
    }
   ],
   "source": [
    "input=\"./input/s288c_n20.gff\"\n",
    "with open(input) as f: #ファイルオープン\n",
    "    line=f.readline()       # 一行読み込み\n",
    "    print(line)                # 出力"
   ]
  },
  {
   "cell_type": "markdown",
   "metadata": {},
   "source": [
    "### 書き込み1"
   ]
  },
  {
   "cell_type": "markdown",
   "metadata": {},
   "source": [
    "test1.txtに出力する．"
   ]
  },
  {
   "cell_type": "code",
   "execution_count": 7,
   "metadata": {},
   "outputs": [],
   "source": [
    "output=\"./output/test1.txt\"   # ファイル名\n",
    "out=\"Hello world!\\n\"             # 出力\n",
    "with open(output, 'w') as f:  # ファイルオープン\n",
    "    f.write(out)                      # ファイルへ書き込み"
   ]
  },
  {
   "cell_type": "markdown",
   "metadata": {},
   "source": [
    "### 読み込み2"
   ]
  },
  {
   "cell_type": "markdown",
   "metadata": {},
   "source": [
    "s288c_n20.gffを読み込んで出力する．"
   ]
  },
  {
   "cell_type": "code",
   "execution_count": 8,
   "metadata": {},
   "outputs": [
    {
     "name": "stdout",
     "output_type": "stream",
     "text": [
      "##gff-version 3\n",
      "\n",
      "#!gff-spec-version 1.21\n",
      "\n",
      "#!processor NCBI annotwriter\n",
      "\n",
      "#!genome-build R64\n",
      "\n",
      "#!genome-build-accession NCBI_Assembly:GCF_000146045.2\n",
      "\n",
      "#!annotation-source SGD R64-2-1\n",
      "\n",
      "##sequence-region NC_001133.9 1 230218\n",
      "\n",
      "##species https://www.ncbi.nlm.nih.gov/Taxonomy/Browser/wwwtax.cgi?id=559292\n",
      "\n",
      "NC_001133.9\tRefSeq\tregion\t1\t230218\t.\t+\t.\tID=id0;Dbxref=taxon:559292;Name=I;chromosome=I;gbkey=Src;genome=chromosome;mol_type=genomic DNA;strain=S288C\n",
      "\n",
      "NC_001133.9\tRefSeq\ttelomere\t1\t801\t.\t-\t.\tID=id1;Dbxref=SGD:S000028862;Note=TEL01L%3B Telomeric region on the left arm of Chromosome I%3B composed of an X element core sequence%2C X element combinatorial repeats%2C and a short terminal stretch of telomeric repeats;gbkey=telomere\n",
      "\n",
      "NC_001133.9\tRefSeq\torigin_of_replication\t707\t776\t.\t+\t.\tID=id2;Dbxref=SGD:S000121252;Note=ARS102~Autonomously Replicating Sequence;gbkey=rep_origin\n",
      "\n",
      "NC_001133.9\tRefSeq\tgene\t1807\t2169\t.\t-\t.\tID=gene0;Dbxref=GeneID:851229;Name=PAU8;end_range=2169,.;gbkey=Gene;gene=PAU8;gene_biotype=protein_coding;locus_tag=YAL068C;partial=true;start_range=.,1807\n",
      "\n",
      "NC_001133.9\tRefSeq\tmRNA\t1807\t2169\t.\t-\t.\tID=rna0;Parent=gene0;Dbxref=GeneID:851229,Genbank:NM_001180043.1;Name=NM_001180043.1;end_range=2169,.;gbkey=mRNA;gene=PAU8;partial=true;product=seripauperin PAU8;start_range=.,1807;transcript_id=NM_001180043.1\n",
      "\n",
      "NC_001133.9\tRefSeq\texon\t1807\t2169\t.\t-\t.\tID=id3;Parent=rna0;Dbxref=GeneID:851229,Genbank:NM_001180043.1;end_range=2169,.;gbkey=mRNA;gene=PAU8;partial=true;product=seripauperin PAU8;start_range=.,1807;transcript_id=NM_001180043.1\n",
      "\n",
      "NC_001133.9\tRefSeq\tCDS\t1807\t2169\t.\t-\t0\tID=cds0;Parent=rna0;Dbxref=SGD:S000002142,GeneID:851229,Genbank:NP_009332.1;Name=NP_009332.1;Note=hypothetical protein%3B member of the seripauperin multigene family encoded mainly in subtelomeric regions;gbkey=CDS;gene=PAU8;product=seripauperin PAU8;protein_id=NP_009332.1\n",
      "\n",
      "NC_001133.9\tRefSeq\tgene\t2480\t2707\t.\t+\t.\tID=gene1;Dbxref=GeneID:1466426;Name=YAL067W-A;end_range=2707,.;gbkey=Gene;gene_biotype=protein_coding;locus_tag=YAL067W-A;partial=true;start_range=.,2480\n",
      "\n",
      "NC_001133.9\tRefSeq\tmRNA\t2480\t2707\t.\t+\t.\tID=rna1;Parent=gene1;Dbxref=GeneID:1466426,Genbank:NM_001184582.1;Name=NM_001184582.1;end_range=2707,.;gbkey=mRNA;partial=true;product=hypothetical protein;start_range=.,2480;transcript_id=NM_001184582.1\n",
      "\n",
      "NC_001133.9\tRefSeq\texon\t2480\t2707\t.\t+\t.\tID=id4;Parent=rna1;Dbxref=GeneID:1466426,Genbank:NM_001184582.1;end_range=2707,.;gbkey=mRNA;partial=true;product=hypothetical protein;start_range=.,2480;transcript_id=NM_001184582.1\n",
      "\n",
      "NC_001133.9\tRefSeq\tCDS\t2480\t2707\t.\t+\t0\tID=cds1;Parent=rna1;Dbxref=SGD:S000028593,GeneID:1466426,Genbank:NP_878038.1;Name=NP_878038.1;Note=hypothetical protein%3B identified by gene-trapping%2C microarray-based expression analysis%2C and genome-wide homology searching;gbkey=CDS;product=hypothetical protein;protein_id=NP_878038.1\n",
      "\n",
      "NC_001133.9\tRefSeq\tgene\t7235\t9016\t.\t-\t.\tID=gene2;Dbxref=GeneID:851230;Name=SEO1;end_range=9016,.;gbkey=Gene;gene=SEO1;gene_biotype=protein_coding;locus_tag=YAL067C;partial=true;start_range=.,7235\n",
      "\n"
     ]
    }
   ],
   "source": [
    "with open(input) as f:\n",
    "    for line in f:             # 一行ずつ読み込み\n",
    "        print(line)             # 出力"
   ]
  },
  {
   "cell_type": "markdown",
   "metadata": {},
   "source": [
    "### 読み込み3 "
   ]
  },
  {
   "cell_type": "markdown",
   "metadata": {},
   "source": [
    "s288c_n20.gffを読み込んで出力する．改行コード削除を実行する．"
   ]
  },
  {
   "cell_type": "code",
   "execution_count": 9,
   "metadata": {},
   "outputs": [
    {
     "name": "stdout",
     "output_type": "stream",
     "text": [
      "##gff-version 3\n",
      "#!gff-spec-version 1.21\n",
      "#!processor NCBI annotwriter\n",
      "#!genome-build R64\n",
      "#!genome-build-accession NCBI_Assembly:GCF_000146045.2\n",
      "#!annotation-source SGD R64-2-1\n",
      "##sequence-region NC_001133.9 1 230218\n",
      "##species https://www.ncbi.nlm.nih.gov/Taxonomy/Browser/wwwtax.cgi?id=559292\n",
      "NC_001133.9\tRefSeq\tregion\t1\t230218\t.\t+\t.\tID=id0;Dbxref=taxon:559292;Name=I;chromosome=I;gbkey=Src;genome=chromosome;mol_type=genomic DNA;strain=S288C\n",
      "NC_001133.9\tRefSeq\ttelomere\t1\t801\t.\t-\t.\tID=id1;Dbxref=SGD:S000028862;Note=TEL01L%3B Telomeric region on the left arm of Chromosome I%3B composed of an X element core sequence%2C X element combinatorial repeats%2C and a short terminal stretch of telomeric repeats;gbkey=telomere\n",
      "NC_001133.9\tRefSeq\torigin_of_replication\t707\t776\t.\t+\t.\tID=id2;Dbxref=SGD:S000121252;Note=ARS102~Autonomously Replicating Sequence;gbkey=rep_origin\n",
      "NC_001133.9\tRefSeq\tgene\t1807\t2169\t.\t-\t.\tID=gene0;Dbxref=GeneID:851229;Name=PAU8;end_range=2169,.;gbkey=Gene;gene=PAU8;gene_biotype=protein_coding;locus_tag=YAL068C;partial=true;start_range=.,1807\n",
      "NC_001133.9\tRefSeq\tmRNA\t1807\t2169\t.\t-\t.\tID=rna0;Parent=gene0;Dbxref=GeneID:851229,Genbank:NM_001180043.1;Name=NM_001180043.1;end_range=2169,.;gbkey=mRNA;gene=PAU8;partial=true;product=seripauperin PAU8;start_range=.,1807;transcript_id=NM_001180043.1\n",
      "NC_001133.9\tRefSeq\texon\t1807\t2169\t.\t-\t.\tID=id3;Parent=rna0;Dbxref=GeneID:851229,Genbank:NM_001180043.1;end_range=2169,.;gbkey=mRNA;gene=PAU8;partial=true;product=seripauperin PAU8;start_range=.,1807;transcript_id=NM_001180043.1\n",
      "NC_001133.9\tRefSeq\tCDS\t1807\t2169\t.\t-\t0\tID=cds0;Parent=rna0;Dbxref=SGD:S000002142,GeneID:851229,Genbank:NP_009332.1;Name=NP_009332.1;Note=hypothetical protein%3B member of the seripauperin multigene family encoded mainly in subtelomeric regions;gbkey=CDS;gene=PAU8;product=seripauperin PAU8;protein_id=NP_009332.1\n",
      "NC_001133.9\tRefSeq\tgene\t2480\t2707\t.\t+\t.\tID=gene1;Dbxref=GeneID:1466426;Name=YAL067W-A;end_range=2707,.;gbkey=Gene;gene_biotype=protein_coding;locus_tag=YAL067W-A;partial=true;start_range=.,2480\n",
      "NC_001133.9\tRefSeq\tmRNA\t2480\t2707\t.\t+\t.\tID=rna1;Parent=gene1;Dbxref=GeneID:1466426,Genbank:NM_001184582.1;Name=NM_001184582.1;end_range=2707,.;gbkey=mRNA;partial=true;product=hypothetical protein;start_range=.,2480;transcript_id=NM_001184582.1\n",
      "NC_001133.9\tRefSeq\texon\t2480\t2707\t.\t+\t.\tID=id4;Parent=rna1;Dbxref=GeneID:1466426,Genbank:NM_001184582.1;end_range=2707,.;gbkey=mRNA;partial=true;product=hypothetical protein;start_range=.,2480;transcript_id=NM_001184582.1\n",
      "NC_001133.9\tRefSeq\tCDS\t2480\t2707\t.\t+\t0\tID=cds1;Parent=rna1;Dbxref=SGD:S000028593,GeneID:1466426,Genbank:NP_878038.1;Name=NP_878038.1;Note=hypothetical protein%3B identified by gene-trapping%2C microarray-based expression analysis%2C and genome-wide homology searching;gbkey=CDS;product=hypothetical protein;protein_id=NP_878038.1\n",
      "NC_001133.9\tRefSeq\tgene\t7235\t9016\t.\t-\t.\tID=gene2;Dbxref=GeneID:851230;Name=SEO1;end_range=9016,.;gbkey=Gene;gene=SEO1;gene_biotype=protein_coding;locus_tag=YAL067C;partial=true;start_range=.,7235\n"
     ]
    }
   ],
   "source": [
    "with open(input) as f:\n",
    "    for line in f:\n",
    "        line=line.rstrip()  # 改行コードの削除\n",
    "        print(line)"
   ]
  },
  {
   "cell_type": "markdown",
   "metadata": {},
   "source": [
    "### 読み込み4"
   ]
  },
  {
   "cell_type": "markdown",
   "metadata": {},
   "source": [
    "s288c_n20.gffを読み込んで出力する．改行コード削除を実行する．``#``で始まる行だけを出力する．"
   ]
  },
  {
   "cell_type": "code",
   "execution_count": 10,
   "metadata": {},
   "outputs": [
    {
     "name": "stdout",
     "output_type": "stream",
     "text": [
      "##gff-version 3\n",
      "#!gff-spec-version 1.21\n",
      "#!processor NCBI annotwriter\n",
      "#!genome-build R64\n",
      "#!genome-build-accession NCBI_Assembly:GCF_000146045.2\n",
      "#!annotation-source SGD R64-2-1\n",
      "##sequence-region NC_001133.9 1 230218\n",
      "##species https://www.ncbi.nlm.nih.gov/Taxonomy/Browser/wwwtax.cgi?id=559292\n"
     ]
    }
   ],
   "source": [
    "with open(input) as f:\n",
    "    for line in f:\n",
    "        line=line.rstrip()\n",
    "        \n",
    "        if line.startswith(\"#\"):  # ’#’で始まるかどうか\n",
    "            print(line)"
   ]
  },
  {
   "cell_type": "markdown",
   "metadata": {},
   "source": [
    "### 読み込み5"
   ]
  },
  {
   "cell_type": "markdown",
   "metadata": {},
   "source": [
    "s288c_n20.gffを読み込んで出力する．改行コード削除を実行する．``#``で始まる行以外を出力する．"
   ]
  },
  {
   "cell_type": "code",
   "execution_count": 11,
   "metadata": {},
   "outputs": [
    {
     "name": "stdout",
     "output_type": "stream",
     "text": [
      "NC_001133.9\tRefSeq\tregion\t1\t230218\t.\t+\t.\tID=id0;Dbxref=taxon:559292;Name=I;chromosome=I;gbkey=Src;genome=chromosome;mol_type=genomic DNA;strain=S288C\n",
      "NC_001133.9\tRefSeq\ttelomere\t1\t801\t.\t-\t.\tID=id1;Dbxref=SGD:S000028862;Note=TEL01L%3B Telomeric region on the left arm of Chromosome I%3B composed of an X element core sequence%2C X element combinatorial repeats%2C and a short terminal stretch of telomeric repeats;gbkey=telomere\n",
      "NC_001133.9\tRefSeq\torigin_of_replication\t707\t776\t.\t+\t.\tID=id2;Dbxref=SGD:S000121252;Note=ARS102~Autonomously Replicating Sequence;gbkey=rep_origin\n",
      "NC_001133.9\tRefSeq\tgene\t1807\t2169\t.\t-\t.\tID=gene0;Dbxref=GeneID:851229;Name=PAU8;end_range=2169,.;gbkey=Gene;gene=PAU8;gene_biotype=protein_coding;locus_tag=YAL068C;partial=true;start_range=.,1807\n",
      "NC_001133.9\tRefSeq\tmRNA\t1807\t2169\t.\t-\t.\tID=rna0;Parent=gene0;Dbxref=GeneID:851229,Genbank:NM_001180043.1;Name=NM_001180043.1;end_range=2169,.;gbkey=mRNA;gene=PAU8;partial=true;product=seripauperin PAU8;start_range=.,1807;transcript_id=NM_001180043.1\n",
      "NC_001133.9\tRefSeq\texon\t1807\t2169\t.\t-\t.\tID=id3;Parent=rna0;Dbxref=GeneID:851229,Genbank:NM_001180043.1;end_range=2169,.;gbkey=mRNA;gene=PAU8;partial=true;product=seripauperin PAU8;start_range=.,1807;transcript_id=NM_001180043.1\n",
      "NC_001133.9\tRefSeq\tCDS\t1807\t2169\t.\t-\t0\tID=cds0;Parent=rna0;Dbxref=SGD:S000002142,GeneID:851229,Genbank:NP_009332.1;Name=NP_009332.1;Note=hypothetical protein%3B member of the seripauperin multigene family encoded mainly in subtelomeric regions;gbkey=CDS;gene=PAU8;product=seripauperin PAU8;protein_id=NP_009332.1\n",
      "NC_001133.9\tRefSeq\tgene\t2480\t2707\t.\t+\t.\tID=gene1;Dbxref=GeneID:1466426;Name=YAL067W-A;end_range=2707,.;gbkey=Gene;gene_biotype=protein_coding;locus_tag=YAL067W-A;partial=true;start_range=.,2480\n",
      "NC_001133.9\tRefSeq\tmRNA\t2480\t2707\t.\t+\t.\tID=rna1;Parent=gene1;Dbxref=GeneID:1466426,Genbank:NM_001184582.1;Name=NM_001184582.1;end_range=2707,.;gbkey=mRNA;partial=true;product=hypothetical protein;start_range=.,2480;transcript_id=NM_001184582.1\n",
      "NC_001133.9\tRefSeq\texon\t2480\t2707\t.\t+\t.\tID=id4;Parent=rna1;Dbxref=GeneID:1466426,Genbank:NM_001184582.1;end_range=2707,.;gbkey=mRNA;partial=true;product=hypothetical protein;start_range=.,2480;transcript_id=NM_001184582.1\n",
      "NC_001133.9\tRefSeq\tCDS\t2480\t2707\t.\t+\t0\tID=cds1;Parent=rna1;Dbxref=SGD:S000028593,GeneID:1466426,Genbank:NP_878038.1;Name=NP_878038.1;Note=hypothetical protein%3B identified by gene-trapping%2C microarray-based expression analysis%2C and genome-wide homology searching;gbkey=CDS;product=hypothetical protein;protein_id=NP_878038.1\n",
      "NC_001133.9\tRefSeq\tgene\t7235\t9016\t.\t-\t.\tID=gene2;Dbxref=GeneID:851230;Name=SEO1;end_range=9016,.;gbkey=Gene;gene=SEO1;gene_biotype=protein_coding;locus_tag=YAL067C;partial=true;start_range=.,7235\n"
     ]
    }
   ],
   "source": [
    "with open(input) as f:\n",
    "    for line in f:\n",
    "        line=line.rstrip()\n",
    "        \n",
    "        if line.startswith(\"#\"): # ’#’で始まるかどうか\n",
    "            continue\n",
    "        print(line)"
   ]
  },
  {
   "cell_type": "markdown",
   "metadata": {},
   "source": [
    "### 読み込み6"
   ]
  },
  {
   "cell_type": "markdown",
   "metadata": {},
   "source": [
    "s288c_n20.gffを読み込んで出力する．改行コード削除を実行する．``#``で始まる行以外を出力する．9列目のデータのみを出力する．"
   ]
  },
  {
   "cell_type": "code",
   "execution_count": 14,
   "metadata": {},
   "outputs": [
    {
     "name": "stdout",
     "output_type": "stream",
     "text": [
      "ID=id0;Dbxref=taxon:559292;Name=I;chromosome=I;gbkey=Src;genome=chromosome;mol_type=genomic DNA;strain=S288C\n",
      "ID=id1;Dbxref=SGD:S000028862;Note=TEL01L%3B Telomeric region on the left arm of Chromosome I%3B composed of an X element core sequence%2C X element combinatorial repeats%2C and a short terminal stretch of telomeric repeats;gbkey=telomere\n",
      "ID=id2;Dbxref=SGD:S000121252;Note=ARS102~Autonomously Replicating Sequence;gbkey=rep_origin\n",
      "ID=gene0;Dbxref=GeneID:851229;Name=PAU8;end_range=2169,.;gbkey=Gene;gene=PAU8;gene_biotype=protein_coding;locus_tag=YAL068C;partial=true;start_range=.,1807\n",
      "ID=rna0;Parent=gene0;Dbxref=GeneID:851229,Genbank:NM_001180043.1;Name=NM_001180043.1;end_range=2169,.;gbkey=mRNA;gene=PAU8;partial=true;product=seripauperin PAU8;start_range=.,1807;transcript_id=NM_001180043.1\n",
      "ID=id3;Parent=rna0;Dbxref=GeneID:851229,Genbank:NM_001180043.1;end_range=2169,.;gbkey=mRNA;gene=PAU8;partial=true;product=seripauperin PAU8;start_range=.,1807;transcript_id=NM_001180043.1\n",
      "ID=cds0;Parent=rna0;Dbxref=SGD:S000002142,GeneID:851229,Genbank:NP_009332.1;Name=NP_009332.1;Note=hypothetical protein%3B member of the seripauperin multigene family encoded mainly in subtelomeric regions;gbkey=CDS;gene=PAU8;product=seripauperin PAU8;protein_id=NP_009332.1\n",
      "ID=gene1;Dbxref=GeneID:1466426;Name=YAL067W-A;end_range=2707,.;gbkey=Gene;gene_biotype=protein_coding;locus_tag=YAL067W-A;partial=true;start_range=.,2480\n",
      "ID=rna1;Parent=gene1;Dbxref=GeneID:1466426,Genbank:NM_001184582.1;Name=NM_001184582.1;end_range=2707,.;gbkey=mRNA;partial=true;product=hypothetical protein;start_range=.,2480;transcript_id=NM_001184582.1\n",
      "ID=id4;Parent=rna1;Dbxref=GeneID:1466426,Genbank:NM_001184582.1;end_range=2707,.;gbkey=mRNA;partial=true;product=hypothetical protein;start_range=.,2480;transcript_id=NM_001184582.1\n",
      "ID=cds1;Parent=rna1;Dbxref=SGD:S000028593,GeneID:1466426,Genbank:NP_878038.1;Name=NP_878038.1;Note=hypothetical protein%3B identified by gene-trapping%2C microarray-based expression analysis%2C and genome-wide homology searching;gbkey=CDS;product=hypothetical protein;protein_id=NP_878038.1\n",
      "ID=gene2;Dbxref=GeneID:851230;Name=SEO1;end_range=9016,.;gbkey=Gene;gene=SEO1;gene_biotype=protein_coding;locus_tag=YAL067C;partial=true;start_range=.,7235\n"
     ]
    }
   ],
   "source": [
    "with open(input) as f:\n",
    "    for line in f:\n",
    "        line=line.rstrip()\n",
    "\n",
    "        if line.startswith(\"#\"):\n",
    "            continue\n",
    "        s=line.split(\"\\t\")  # タブで区切る\n",
    "        print(s[8])          # 9列目を出力"
   ]
  },
  {
   "cell_type": "markdown",
   "metadata": {},
   "source": [
    "### 読み込み7"
   ]
  },
  {
   "cell_type": "markdown",
   "metadata": {},
   "source": [
    "s288c_n20.gffを読み込んで出力する．改行コード削除を実行する．``#``で始まる行以外を出力する．9列目のデータのみを出力する．`;`で区切る．"
   ]
  },
  {
   "cell_type": "code",
   "execution_count": 15,
   "metadata": {},
   "outputs": [
    {
     "name": "stdout",
     "output_type": "stream",
     "text": [
      "ID=id0\n",
      "Dbxref=taxon:559292\n",
      "Name=I\n",
      "chromosome=I\n",
      "gbkey=Src\n",
      "genome=chromosome\n",
      "mol_type=genomic DNA\n",
      "strain=S288C\n",
      "ID=id1\n",
      "Dbxref=SGD:S000028862\n",
      "Note=TEL01L%3B Telomeric region on the left arm of Chromosome I%3B composed of an X element core sequence%2C X element combinatorial repeats%2C and a short terminal stretch of telomeric repeats\n",
      "gbkey=telomere\n",
      "ID=id2\n",
      "Dbxref=SGD:S000121252\n",
      "Note=ARS102~Autonomously Replicating Sequence\n",
      "gbkey=rep_origin\n",
      "ID=gene0\n",
      "Dbxref=GeneID:851229\n",
      "Name=PAU8\n",
      "end_range=2169,.\n",
      "gbkey=Gene\n",
      "gene=PAU8\n",
      "gene_biotype=protein_coding\n",
      "locus_tag=YAL068C\n",
      "partial=true\n",
      "start_range=.,1807\n",
      "ID=rna0\n",
      "Parent=gene0\n",
      "Dbxref=GeneID:851229,Genbank:NM_001180043.1\n",
      "Name=NM_001180043.1\n",
      "end_range=2169,.\n",
      "gbkey=mRNA\n",
      "gene=PAU8\n",
      "partial=true\n",
      "product=seripauperin PAU8\n",
      "start_range=.,1807\n",
      "transcript_id=NM_001180043.1\n",
      "ID=id3\n",
      "Parent=rna0\n",
      "Dbxref=GeneID:851229,Genbank:NM_001180043.1\n",
      "end_range=2169,.\n",
      "gbkey=mRNA\n",
      "gene=PAU8\n",
      "partial=true\n",
      "product=seripauperin PAU8\n",
      "start_range=.,1807\n",
      "transcript_id=NM_001180043.1\n",
      "ID=cds0\n",
      "Parent=rna0\n",
      "Dbxref=SGD:S000002142,GeneID:851229,Genbank:NP_009332.1\n",
      "Name=NP_009332.1\n",
      "Note=hypothetical protein%3B member of the seripauperin multigene family encoded mainly in subtelomeric regions\n",
      "gbkey=CDS\n",
      "gene=PAU8\n",
      "product=seripauperin PAU8\n",
      "protein_id=NP_009332.1\n",
      "ID=gene1\n",
      "Dbxref=GeneID:1466426\n",
      "Name=YAL067W-A\n",
      "end_range=2707,.\n",
      "gbkey=Gene\n",
      "gene_biotype=protein_coding\n",
      "locus_tag=YAL067W-A\n",
      "partial=true\n",
      "start_range=.,2480\n",
      "ID=rna1\n",
      "Parent=gene1\n",
      "Dbxref=GeneID:1466426,Genbank:NM_001184582.1\n",
      "Name=NM_001184582.1\n",
      "end_range=2707,.\n",
      "gbkey=mRNA\n",
      "partial=true\n",
      "product=hypothetical protein\n",
      "start_range=.,2480\n",
      "transcript_id=NM_001184582.1\n",
      "ID=id4\n",
      "Parent=rna1\n",
      "Dbxref=GeneID:1466426,Genbank:NM_001184582.1\n",
      "end_range=2707,.\n",
      "gbkey=mRNA\n",
      "partial=true\n",
      "product=hypothetical protein\n",
      "start_range=.,2480\n",
      "transcript_id=NM_001184582.1\n",
      "ID=cds1\n",
      "Parent=rna1\n",
      "Dbxref=SGD:S000028593,GeneID:1466426,Genbank:NP_878038.1\n",
      "Name=NP_878038.1\n",
      "Note=hypothetical protein%3B identified by gene-trapping%2C microarray-based expression analysis%2C and genome-wide homology searching\n",
      "gbkey=CDS\n",
      "product=hypothetical protein\n",
      "protein_id=NP_878038.1\n",
      "ID=gene2\n",
      "Dbxref=GeneID:851230\n",
      "Name=SEO1\n",
      "end_range=9016,.\n",
      "gbkey=Gene\n",
      "gene=SEO1\n",
      "gene_biotype=protein_coding\n",
      "locus_tag=YAL067C\n",
      "partial=true\n",
      "start_range=.,7235\n"
     ]
    }
   ],
   "source": [
    "with open(input) as f:\n",
    "    for line in f:\n",
    "        line=line.rstrip()\n",
    "        if line.startswith(\"#\"):\n",
    "            continue\n",
    "        \n",
    "        s=line.split(\"\\t\")\n",
    "        items=s[8].split(\";\") # 9列目を”;”で区切る\n",
    "        for item in items:   # リストを一つずつ\n",
    "            print(item)          # 出力"
   ]
  },
  {
   "cell_type": "markdown",
   "metadata": {},
   "source": [
    "### 読み込み8"
   ]
  },
  {
   "cell_type": "markdown",
   "metadata": {},
   "source": [
    "s288c_n20.gffを読み込んで出力する．改行コード削除を実行する．``#``で始まる行以外を出力する．9列目のデータのみを出力する．`;`で区切る．`product`を抽出する．"
   ]
  },
  {
   "cell_type": "code",
   "execution_count": 16,
   "metadata": {},
   "outputs": [
    {
     "name": "stdout",
     "output_type": "stream",
     "text": [
      "product=seripauperin PAU8\n",
      "product=seripauperin PAU8\n",
      "product=seripauperin PAU8\n",
      "product=hypothetical protein\n",
      "product=hypothetical protein\n",
      "product=hypothetical protein\n"
     ]
    }
   ],
   "source": [
    "with open(input) as f:\n",
    "    for line in f:\n",
    "        line=line.rstrip()\n",
    " \n",
    "        if line.startswith(\"#\"):\n",
    "            continue\n",
    "        s=line.split(\"\\t\")\n",
    "        items=s[8].split(\";\")\n",
    "        for item in items:\n",
    "            if item.startswith(\"product=\"):\n",
    "                print(item)"
   ]
  },
  {
   "cell_type": "markdown",
   "metadata": {},
   "source": [
    "## SAM"
   ]
  },
  {
   "cell_type": "markdown",
   "metadata": {},
   "source": [
    "２列目のFLAG情報は，リードのマッピング状況を知ることができる．\n",
    "``pysam``には，様々な関数が用意されている．"
   ]
  },
  {
   "cell_type": "markdown",
   "metadata": {},
   "source": [
    "### SAM1"
   ]
  },
  {
   "cell_type": "code",
   "execution_count": 19,
   "metadata": {},
   "outputs": [
    {
     "name": "stdout",
     "output_type": "stream",
     "text": [
      "83\t197\n",
      "163\t197\n",
      "99\t239\n",
      "147\t239\n",
      "355\t15\n",
      "403\t15\n",
      "81\t3\n",
      "161\t3\n",
      "65\t2\n",
      "129\t2\n",
      "77\t14\n",
      "141\t14\n",
      "113\t1\n",
      "177\t1\n",
      "89\t5\n",
      "133\t7\n",
      "339\t17\n",
      "419\t17\n",
      "97\t2\n",
      "145\t2\n",
      "153\t2\n",
      "69\t3\n",
      "73\t2\n",
      "137\t1\n"
     ]
    }
   ],
   "source": [
    "input=\"./input/SRR453566.sam.aa\"\n",
    "dict={}\n",
    "with open(input) as f:\n",
    "    for line in f:\n",
    "        line=line.rstrip()\n",
    "        if line.startswith(\"@\"):\n",
    "            continue\n",
    "        s=line.split(\"\\t\")\n",
    "        flg=s[1]\n",
    "        if flg in dict:\n",
    "            dict[flg]+=1\n",
    "        else :\n",
    "            dict[flg]=1\n",
    "for k, v in dict.items():\n",
    "    print(k+\"\\t\"+str(v))"
   ]
  },
  {
   "cell_type": "markdown",
   "metadata": {},
   "source": [
    "### SAM2"
   ]
  },
  {
   "cell_type": "markdown",
   "metadata": {},
   "source": [
    "特定のFLAGを有するリード情報を抽出する．\n",
    "マッピングされなかったリードを抽出する．``read unmapped``は，``0x4``，``4``で表現される．"
   ]
  },
  {
   "cell_type": "code",
   "execution_count": 20,
   "metadata": {},
   "outputs": [
    {
     "name": "stdout",
     "output_type": "stream",
     "text": [
      "SRR453566.116\n",
      "SRR453566.116\n",
      "SRR453566.126\n",
      "SRR453566.153\n",
      "SRR453566.153\n",
      "SRR453566.156\n",
      "SRR453566.156\n",
      "SRR453566.178\n",
      "SRR453566.178\n",
      "SRR453566.183\n",
      "SRR453566.242\n",
      "SRR453566.242\n",
      "SRR453566.243\n",
      "SRR453566.243\n",
      "SRR453566.255\n",
      "SRR453566.255\n",
      "SRR453566.263\n",
      "SRR453566.263\n",
      "SRR453566.302\n",
      "SRR453566.310\n",
      "SRR453566.322\n",
      "SRR453566.342\n",
      "SRR453566.342\n",
      "SRR453566.354\n",
      "SRR453566.354\n",
      "SRR453566.350\n",
      "SRR453566.381\n",
      "SRR453566.394\n",
      "SRR453566.394\n",
      "SRR453566.396\n",
      "SRR453566.396\n",
      "SRR453566.409\n",
      "SRR453566.433\n",
      "SRR453566.433\n",
      "SRR453566.472\n",
      "SRR453566.499\n",
      "SRR453566.499\n",
      "SRR453566.503\n"
     ]
    }
   ],
   "source": [
    "readList=[]\n",
    "with open(input) as f:\n",
    "    for line in f:\n",
    "        line=line.rstrip()\n",
    "        if line.startswith(\"@\"):\n",
    "            continue\n",
    "        s=line.split(\"\\t\")\n",
    "        FLG=int(s[1])\n",
    "        if FLG & 4:\n",
    "            readList.append(s[0])\n",
    "for item in readList:\n",
    "    print(item)"
   ]
  },
  {
   "cell_type": "code",
   "execution_count": null,
   "metadata": {},
   "outputs": [],
   "source": []
  }
 ],
 "metadata": {
  "kernelspec": {
   "display_name": "Python 3",
   "language": "python",
   "name": "python3"
  },
  "language_info": {
   "codemirror_mode": {
    "name": "ipython",
    "version": 3
   },
   "file_extension": ".py",
   "mimetype": "text/x-python",
   "name": "python",
   "nbconvert_exporter": "python",
   "pygments_lexer": "ipython3",
   "version": "3.7.2"
  }
 },
 "nbformat": 4,
 "nbformat_minor": 2
}
